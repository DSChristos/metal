{
 "cells": [
  {
   "cell_type": "code",
   "execution_count": 1,
   "metadata": {},
   "outputs": [
    {
     "name": "stdout",
     "output_type": "stream",
     "text": [
      "The autoreload extension is already loaded. To reload it, use:\n",
      "  %reload_ext autoreload\n"
     ]
    }
   ],
   "source": [
    "%matplotlib inline\n",
    "%load_ext autoreload\n",
    "%autoreload 2\n",
    "\n",
    "import warnings\n",
    "warnings.filterwarnings('ignore')\n",
    "\n",
    "\n",
    "import sys\n",
    "sys.path.append(\"../\") # go to parent dir\n",
    "\n",
    "import numpy as np\n",
    "import torch\n",
    "import matplotlib.pyplot as plt\n",
    "import mpmath\n",
    "import networkx as nx\n",
    "\n",
    "from metal.label_model import LabelModel\n",
    "from metal.label_model.learn_deps import DependencyLearner\n",
    "\n",
    "from metal.label_model.graph_utils import generate_edges\n",
    "from metal.label_model.graph_utils import JunctionTree\n",
    "from metal.label_model.graph_utils import DependenciesGraph\n",
    "from synthetic.generate_spa import (\n",
    "    ChainDependencies,\n",
    "    TreeDependencies,\n",
    "    ClusterDependencies,\n",
    "    DataGenerator\n",
    ")\n",
    "from metal.label_model.utils import (\n",
    "    compute_mu,\n",
    "    compute_covariance,\n",
    "    compute_inv_covariance,\n",
    "    print_matrix,\n",
    "    visualize_matrix\n",
    ")"
   ]
  },
  {
   "cell_type": "markdown",
   "metadata": {},
   "source": [
    "## Measure Effective Rank and Spectral Norm"
   ]
  },
  {
   "cell_type": "code",
   "execution_count": 5,
   "metadata": {},
   "outputs": [
    {
     "name": "stdout",
     "output_type": "stream",
     "text": [
      "10\n",
      "15\n",
      "20\n",
      "25\n",
      "50\n"
     ]
    }
   ],
   "source": [
    "M_list = [10,15,20,25,50]\n",
    "N = 1000 #not used\n",
    "MAX_CLIQUE_SIZE = 3\n",
    "NUM_CLIQUES = 3\n",
    "K = 2\n",
    "HIGHER_ORDER_CLIQUES = False\n",
    "\n",
    "spectral_norm = []\n",
    "effective_rank = []\n",
    "fred_var_2 = []\n",
    "\n",
    "for M in M_list:\n",
    "    print(M)\n",
    "    \n",
    "    # Set Graph Structure\n",
    "    EDGES = generate_edges(M, MAX_CLIQUE_SIZE, NUM_CLIQUES)\n",
    "    deps_graph = DependenciesGraph(M, EDGES)\n",
    "\n",
    "    #Generate Data\n",
    "    data = DataGenerator(\n",
    "        N,\n",
    "        M,\n",
    "        k=K,\n",
    "        abstains=False,\n",
    "        deps_graph=deps_graph,\n",
    "        class_balance=0.5,\n",
    "        higher_order_cliques=HIGHER_ORDER_CLIQUES\n",
    "    )\n",
    "    sigma_O = data.get_sigma_O()\n",
    "    \n",
    "    A = np.hstack((data.get_sigma_O(),data.get_sigma_OH()))\n",
    "    B = np.hstack((data.get_sigma_OH().T,data.get_sigma_H()))\n",
    "    sigma_full = np.vstack((A,B))\n",
    "    sigma_full_inv = np.linalg.inv(sigma_full)\n",
    "\n",
    "    K_O = sigma_full_inv[0:M,0:M]\n",
    "    K_OH = sigma_full_inv[-1,0:M]\n",
    "    K_H = sigma_full_inv[-1,-1]\n",
    "\n",
    "    Z = np.linalg.inv(K_O)@K_OH.T\n",
    "    C = 1/(K_H - (K_OH.T@np.linalg.inv(K_O)@K_OH))\n",
    "    sigma_O_est = np.linalg.inv(K_O) + C*np.outer(Z,Z)\n",
    "\n",
    "    #Calculate norms\n",
    "    sn = np.linalg.norm(sigma_O,2)\n",
    "    spectral_norm.append(sn)\n",
    "    er = np.trace(sigma_O)/sn\n",
    "    fred_var_2.append(np.trace(np.linalg.inv(K_O))*sn)"
   ]
  },
  {
   "cell_type": "code",
   "execution_count": 6,
   "metadata": {},
   "outputs": [
    {
     "data": {
      "text/plain": [
       "[<matplotlib.lines.Line2D at 0x7fdf7e9d6a58>]"
      ]
     },
     "execution_count": 6,
     "metadata": {},
     "output_type": "execute_result"
    },
    {
     "data": {
      "image/png": "[encoded data removed]",
      "text/plain": [
       "<Figure size 432x288 with 1 Axes>"
      ]
     },
     "metadata": {},
     "output_type": "display_data"
    }
   ],
   "source": [
    "plt.plot(M_list,fred_var_2)"
   ]
  },
  {
   "cell_type": "markdown",
   "metadata": {},
   "source": [
    "## Fred Bound Sanity Check"
   ]
  },
  {
   "cell_type": "code",
   "execution_count": 69,
   "metadata": {},
   "outputs": [],
   "source": [
    "# Set Graph Structure\n",
    "N = 1000 #not used\n",
    "MAX_CLIQUE_SIZE = 4\n",
    "NUM_CLIQUES = 3\n",
    "K = 2\n",
    "HIGHER_ORDER_CLIQUES = False\n",
    "\n",
    "M = 15\n",
    "EDGES = generate_edges(M, MAX_CLIQUE_SIZE, NUM_CLIQUES)\n",
    "deps_graph = DependenciesGraph(M, EDGES)\n",
    "\n",
    "#Generate Data\n",
    "data = DataGenerator(\n",
    "    N,\n",
    "    M,\n",
    "    k=K,\n",
    "    abstains=False,\n",
    "    deps_graph=deps_graph,\n",
    "    class_balance=0.5,\n",
    "    higher_order_cliques=HIGHER_ORDER_CLIQUES\n",
    ")\n",
    "sigma_O = data.get_sigma_O()"
   ]
  },
  {
   "cell_type": "code",
   "execution_count": 70,
   "metadata": {},
   "outputs": [
    {
     "name": "stdout",
     "output_type": "stream",
     "text": [
      "Sanity:  1.7373028673891137e-16\n"
     ]
    }
   ],
   "source": [
    "A = np.hstack((data.get_sigma_O(),data.get_sigma_OH()))\n",
    "B = np.hstack((data.get_sigma_OH().T,data.get_sigma_H()))\n",
    "sigma_full = np.vstack((A,B))\n",
    "sigma_full_inv = np.linalg.inv(sigma_full)\n",
    "\n",
    "K_O = sigma_full_inv[0:M,0:M]\n",
    "K_OH = sigma_full_inv[-1,0:M]\n",
    "K_H = sigma_full_inv[-1,-1]\n",
    "\n",
    "Z = np.linalg.inv(K_O)@K_OH.T\n",
    "C = 1/(K_H - (K_OH.T@np.linalg.inv(K_O)@K_OH))\n",
    "sigma_O_est = np.linalg.inv(K_O) + C*np.outer(Z,Z)\n",
    "\n",
    "print(\"Sanity: \", np.linalg.norm(sigma_O_est - sigma_O))"
   ]
  },
  {
   "cell_type": "code",
   "execution_count": 71,
   "metadata": {},
   "outputs": [
    {
     "data": {
      "text/plain": [
       "7.216734715385209"
      ]
     },
     "execution_count": 71,
     "metadata": {},
     "output_type": "execute_result"
    }
   ],
   "source": [
    "fred_var = (np.trace(np.linalg.inv(K_O)) - np.trace(C*np.outer(Z,Z)))/np.linalg.norm(sigma_O_est,2)\n",
    "fred_var"
   ]
  },
  {
   "cell_type": "code",
   "execution_count": 72,
   "metadata": {},
   "outputs": [
    {
     "data": {
      "text/plain": [
       "7.416841493138466"
      ]
     },
     "execution_count": 72,
     "metadata": {},
     "output_type": "execute_result"
    }
   ],
   "source": [
    "sn = np.linalg.norm(sigma_O,2)\n",
    "er = np.trace(sigma_O)/sn\n",
    "er"
   ]
  },
  {
   "cell_type": "code",
   "execution_count": 73,
   "metadata": {},
   "outputs": [
    {
     "data": {
      "text/plain": [
       "12.61891410270798"
      ]
     },
     "execution_count": 73,
     "metadata": {},
     "output_type": "execute_result"
    }
   ],
   "source": [
    "fred_bound_numer = np.trace(np.linalg.inv(K_O))+np.linalg.norm(np.sqrt(C)*Z,2)\n",
    "fred_bound_denom = (1/np.linalg.norm(K_O,2))+np.linalg.norm(np.sqrt(C)*Z,2)\n",
    "fred_bound_numer/fred_bound_denom"
   ]
  },
  {
   "cell_type": "code",
   "execution_count": 74,
   "metadata": {},
   "outputs": [
    {
     "data": {
      "text/plain": [
       "0.042948649433967256"
      ]
     },
     "execution_count": 74,
     "metadata": {},
     "output_type": "execute_result"
    }
   ],
   "source": [
    "(1/np.linalg.norm(K_O,2)) #"
   ]
  },
  {
   "cell_type": "code",
   "execution_count": 75,
   "metadata": {},
   "outputs": [
    {
     "data": {
      "text/plain": [
       "0.0625"
      ]
     },
     "execution_count": 75,
     "metadata": {},
     "output_type": "execute_result"
    }
   ],
   "source": [
    "1/(MAX_CLIQUE_SIZE**2)"
   ]
  },
  {
   "cell_type": "code",
   "execution_count": 76,
   "metadata": {},
   "outputs": [
    {
     "data": {
      "text/plain": [
       "1.0915315248982536"
      ]
     },
     "execution_count": 76,
     "metadata": {},
     "output_type": "execute_result"
    }
   ],
   "source": [
    "np.trace(np.linalg.inv(K_O))*sn"
   ]
  },
  {
   "cell_type": "code",
   "execution_count": 77,
   "metadata": {},
   "outputs": [
    {
     "data": {
      "text/plain": [
       "2.826040494543973"
      ]
     },
     "execution_count": 77,
     "metadata": {},
     "output_type": "execute_result"
    }
   ],
   "source": [
    "np.sum(np.sort(np.linalg.eigvals(np.linalg.inv(K_O)))[::-1])"
   ]
  },
  {
   "cell_type": "code",
   "execution_count": 78,
   "metadata": {},
   "outputs": [
    {
     "data": {
      "text/plain": [
       "2.826040494543969"
      ]
     },
     "execution_count": 78,
     "metadata": {},
     "output_type": "execute_result"
    }
   ],
   "source": [
    "np.trace(np.linalg.inv(K_O))"
   ]
  },
  {
   "cell_type": "code",
   "execution_count": 79,
   "metadata": {},
   "outputs": [
    {
     "data": {
      "text/plain": [
       "array([[ 1,  2,  3,  4,  5],\n",
       "       [ 2,  4,  6,  8, 10],\n",
       "       [ 3,  6,  9, 12, 15],\n",
       "       [ 4,  8, 12, 16, 20],\n",
       "       [ 5, 10, 15, 20, 25]])"
      ]
     },
     "execution_count": 79,
     "metadata": {},
     "output_type": "execute_result"
    }
   ],
   "source": [
    "z = np.array([1,2,3,4,5]);\n",
    "zzT = np.outer(z,z)\n",
    "zzT"
   ]
  },
  {
   "cell_type": "code",
   "execution_count": 80,
   "metadata": {},
   "outputs": [
    {
     "data": {
      "text/plain": [
       "(54.99999999999998+0j)"
      ]
     },
     "execution_count": 80,
     "metadata": {},
     "output_type": "execute_result"
    }
   ],
   "source": [
    "np.sort(np.linalg.eigvals(zzT))[-1] #lambda_max(zzT)"
   ]
  },
  {
   "cell_type": "code",
   "execution_count": 81,
   "metadata": {},
   "outputs": [
    {
     "data": {
      "text/plain": [
       "(54.99999999999998-0j)"
      ]
     },
     "execution_count": 81,
     "metadata": {},
     "output_type": "execute_result"
    }
   ],
   "source": [
    "-np.sort(np.linalg.eigvals(-zzT))[0] #-lambda_min(-zzT)"
   ]
  },
  {
   "cell_type": "code",
   "execution_count": 82,
   "metadata": {},
   "outputs": [
    {
     "data": {
      "text/plain": [
       "(7.105427357601002e-15+0j)"
      ]
     },
     "execution_count": 82,
     "metadata": {},
     "output_type": "execute_result"
    }
   ],
   "source": [
    "np.sort(np.linalg.eigvals(-zzT))[-1] #lambda_max(-zzT)"
   ]
  },
  {
   "cell_type": "markdown",
   "metadata": {},
   "source": [
    "## Main Rank Proof"
   ]
  },
  {
   "cell_type": "code",
   "execution_count": 83,
   "metadata": {},
   "outputs": [],
   "source": [
    "#effective rank of Sigma_O = effective rank of K_O^-1 + (||v||^2/||K_O^-1||)"
   ]
  },
  {
   "cell_type": "code",
   "execution_count": 84,
   "metadata": {},
   "outputs": [],
   "source": [
    "sn = np.linalg.norm(sigma_O,2)\n",
    "er = np.trace(sigma_O)/sn\n",
    "\n",
    "sn_K = np.linalg.norm(np.linalg.inv(K_O),2)\n",
    "er_K = np.trace(np.linalg.inv(K_O))/sn_K\n",
    "\n",
    "vvT = sigma_O - np.linalg.inv(K_O)\n",
    "v = np.linalg.eig(vvT)[1][:,0]"
   ]
  },
  {
   "cell_type": "code",
   "execution_count": 87,
   "metadata": {},
   "outputs": [
    {
     "data": {
      "text/plain": [
       "3.2506811303391077"
      ]
     },
     "execution_count": 87,
     "metadata": {},
     "output_type": "execute_result"
    }
   ],
   "source": [
    "er_K + (np.linalg.norm(v,2)**2/sn_K) - er"
   ]
  },
  {
   "cell_type": "code",
   "execution_count": 90,
   "metadata": {},
   "outputs": [
    {
     "data": {
      "text/plain": [
       "2.582400798609136"
      ]
     },
     "execution_count": 90,
     "metadata": {},
     "output_type": "execute_result"
    }
   ],
   "source": [
    "np.sort(np.linalg.eigvals(K_O - np.outer(Z,Z)))[0] #lambda_min"
   ]
  },
  {
   "cell_type": "code",
   "execution_count": 92,
   "metadata": {},
   "outputs": [
    {
     "data": {
      "text/plain": [
       "(2.7881363615177994+0j)"
      ]
     },
     "execution_count": 92,
     "metadata": {},
     "output_type": "execute_result"
    }
   ],
   "source": [
    "#lambda_min K_O + lambda_max (-zzT)\n",
    "np.sort(np.linalg.eigvals(K_O))[0] +  np.sort(np.linalg.eigvals(-np.outer(Z,Z)))[-1] "
   ]
  },
  {
   "cell_type": "code",
   "execution_count": null,
   "metadata": {},
   "outputs": [],
   "source": []
  }
 ],
 "metadata": {
  "kernelspec": {
   "display_name": "Python [conda env:metal]",
   "language": "python",
   "name": "conda-env-metal-py"
  },
  "language_info": {
   "codemirror_mode": {
    "name": "ipython",
    "version": 3
   },
   "file_extension": ".py",
   "mimetype": "text/x-python",
   "name": "python",
   "nbconvert_exporter": "python",
   "pygments_lexer": "ipython3",
   "version": "3.6.6"
  }
 },
 "nbformat": 4,
 "nbformat_minor": 2
}
