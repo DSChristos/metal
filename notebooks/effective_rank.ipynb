{
 "cells": [
  {
   "cell_type": "code",
   "execution_count": 1,
   "metadata": {},
   "outputs": [
    {
     "name": "stdout",
     "output_type": "stream",
     "text": [
      "The autoreload extension is already loaded. To reload it, use:\n",
      "  %reload_ext autoreload\n"
     ]
    }
   ],
   "source": [
    "%matplotlib inline\n",
    "%load_ext autoreload\n",
    "%autoreload 2\n",
    "\n",
    "import warnings\n",
    "warnings.filterwarnings('ignore')\n",
    "\n",
    "\n",
    "import sys\n",
    "sys.path.append(\"../\") # go to parent dir\n",
    "\n",
    "import numpy as np\n",
    "import torch\n",
    "import matplotlib.pyplot as plt\n",
    "import mpmath\n",
    "import networkx as nx\n",
    "\n",
    "from metal.label_model import LabelModel\n",
    "from metal.label_model.learn_deps import DependencyLearner\n",
    "\n",
    "from metal.label_model.graph_utils import generate_edges\n",
    "from metal.label_model.graph_utils import JunctionTree\n",
    "from metal.label_model.graph_utils import DependenciesGraph\n",
    "from synthetic.generate_spa import (\n",
    "    ChainDependencies,\n",
    "    TreeDependencies,\n",
    "    ClusterDependencies,\n",
    "    DataGenerator\n",
    ")\n",
    "from metal.label_model.utils import (\n",
    "    compute_mu,\n",
    "    compute_covariance,\n",
    "    compute_inv_covariance,\n",
    "    print_matrix,\n",
    "    visualize_matrix\n",
    ")"
   ]
  },
  {
   "cell_type": "markdown",
   "metadata": {},
   "source": [
    "## Measure Effective Rank and Spectral Norm"
   ]
  },
  {
   "cell_type": "code",
   "execution_count": 2,
   "metadata": {},
   "outputs": [
    {
     "name": "stdout",
     "output_type": "stream",
     "text": [
      "5\n",
      "10\n",
      "15\n",
      "20\n",
      "25\n",
      "50\n"
     ]
    }
   ],
   "source": [
    "M_list = [5,10,15,20,25,50]\n",
    "N = 1000 #not used\n",
    "MAX_CLIQUE_SIZE = 2\n",
    "NUM_CLIQUES = 1\n",
    "K = 2\n",
    "HIGHER_ORDER_CLIQUES = False\n",
    "\n",
    "spectral_norm = []\n",
    "effective_rank = []\n",
    "\n",
    "for M in M_list:\n",
    "    print(M)\n",
    "    \n",
    "    # Set Graph Structure\n",
    "    EDGES = generate_edges(M, MAX_CLIQUE_SIZE, NUM_CLIQUES)\n",
    "    deps_graph = DependenciesGraph(M, EDGES)\n",
    "\n",
    "    #Generate Data\n",
    "    data = DataGenerator(\n",
    "        N,\n",
    "        M,\n",
    "        k=K,\n",
    "        abstains=False,\n",
    "        deps_graph=deps_graph,\n",
    "        class_balance=0.5,\n",
    "        higher_order_cliques=HIGHER_ORDER_CLIQUES\n",
    "    )\n",
    "    sigma_O = data.get_sigma_O()\n",
    "    \n",
    "    #Calculate norms\n",
    "    sn = np.linalg.norm(sigma_O,2)\n",
    "    er = np.trace(sigma_O)/sn\n",
    "    spectral_norm.append(sn)\n",
    "    effective_rank.append(er)"
   ]
  },
  {
   "cell_type": "code",
   "execution_count": 3,
   "metadata": {},
   "outputs": [
    {
     "data": {
      "text/plain": [
       "<matplotlib.legend.Legend at 0x7f4bc8865c18>"
      ]
     },
     "execution_count": 3,
     "metadata": {},
     "output_type": "execute_result"
    },
    {
     "data": {
      "image/png": "[encoded data removed]",
      "text/plain": [
       "<Figure size 432x288 with 1 Axes>"
      ]
     },
     "metadata": {},
     "output_type": "display_data"
    }
   ],
   "source": [
    "sqrt_thing = [s*np.sqrt(e) for s,e in zip(spectral_norm,effective_rank)]\n",
    "plt.plot(M_list,[s/(1.0*m) for s,m in zip(sqrt_thing,M_list)])\n",
    "plt.legend(['spectral*sqrt(effective)'])"
   ]
  },
  {
   "cell_type": "markdown",
   "metadata": {},
   "source": [
    "## Fred Bound Sanity Check"
   ]
  },
  {
   "cell_type": "code",
   "execution_count": 35,
   "metadata": {},
   "outputs": [],
   "source": [
    "# Set Graph Structure\n",
    "N = 1000 #not used\n",
    "MAX_CLIQUE_SIZE = 3\n",
    "NUM_CLIQUES = 5\n",
    "K = 2\n",
    "HIGHER_ORDER_CLIQUES = False\n",
    "\n",
    "M = 15\n",
    "EDGES = generate_edges(M, MAX_CLIQUE_SIZE, NUM_CLIQUES)\n",
    "deps_graph = DependenciesGraph(M, EDGES)\n",
    "\n",
    "#Generate Data\n",
    "data = DataGenerator(\n",
    "    N,\n",
    "    M,\n",
    "    k=K,\n",
    "    abstains=False,\n",
    "    deps_graph=deps_graph,\n",
    "    class_balance=0.5,\n",
    "    higher_order_cliques=HIGHER_ORDER_CLIQUES\n",
    ")\n",
    "sigma_O = data.get_sigma_O()"
   ]
  },
  {
   "cell_type": "code",
   "execution_count": 36,
   "metadata": {},
   "outputs": [
    {
     "name": "stdout",
     "output_type": "stream",
     "text": [
      "Sanity:  1.34990920773501e-16\n"
     ]
    }
   ],
   "source": [
    "A = np.hstack((data.get_sigma_O(),data.get_sigma_OH()))\n",
    "B = np.hstack((data.get_sigma_OH().T,data.get_sigma_H()))\n",
    "sigma_full = np.vstack((A,B))\n",
    "sigma_full_inv = np.linalg.inv(sigma_full)\n",
    "\n",
    "K_O = sigma_full_inv[0:M,0:M]\n",
    "K_OH = sigma_full_inv[-1,0:M]\n",
    "K_H = sigma_full_inv[-1,-1]\n",
    "\n",
    "Z = np.linalg.inv(K_O)@K_OH.T\n",
    "C = 1/(K_H - (K_OH.T@np.linalg.inv(K_O)@K_OH))\n",
    "sigma_O_est = np.linalg.inv(K_O) + C*np.outer(Z,Z)\n",
    "\n",
    "print(\"Sanity: \", np.linalg.norm(sigma_O_est - sigma_O))"
   ]
  },
  {
   "cell_type": "code",
   "execution_count": 37,
   "metadata": {},
   "outputs": [
    {
     "data": {
      "text/plain": [
       "7.180279565291902"
      ]
     },
     "execution_count": 37,
     "metadata": {},
     "output_type": "execute_result"
    }
   ],
   "source": [
    "fred_var = (np.trace(np.linalg.inv(K_O)) - np.trace(C*np.outer(Z,Z)))/np.linalg.norm(sigma_O_est,2)\n",
    "fred_var"
   ]
  },
  {
   "cell_type": "code",
   "execution_count": 38,
   "metadata": {},
   "outputs": [
    {
     "data": {
      "text/plain": [
       "7.449988778607735"
      ]
     },
     "execution_count": 38,
     "metadata": {},
     "output_type": "execute_result"
    }
   ],
   "source": [
    "sn = np.linalg.norm(sigma_O,2)\n",
    "er = np.trace(sigma_O)/sn\n",
    "er"
   ]
  },
  {
   "cell_type": "code",
   "execution_count": 39,
   "metadata": {},
   "outputs": [
    {
     "data": {
      "text/plain": [
       "9.840760517668368"
      ]
     },
     "execution_count": 39,
     "metadata": {},
     "output_type": "execute_result"
    }
   ],
   "source": [
    "fred_bound_numer = np.trace(np.linalg.inv(K_O))+np.linalg.norm(np.sqrt(C)*Z,2)\n",
    "fred_bound_denom = (1/np.linalg.norm(K_O,2))+np.linalg.norm(np.sqrt(C)*Z,2)\n",
    "fred_bound_numer/fred_bound_denom"
   ]
  },
  {
   "cell_type": "code",
   "execution_count": 40,
   "metadata": {},
   "outputs": [
    {
     "data": {
      "text/plain": [
       "0.08364445095823003"
      ]
     },
     "execution_count": 40,
     "metadata": {},
     "output_type": "execute_result"
    }
   ],
   "source": [
    "(1/np.linalg.norm(K_O,2))"
   ]
  },
  {
   "cell_type": "code",
   "execution_count": 41,
   "metadata": {},
   "outputs": [
    {
     "data": {
      "text/plain": [
       "0.1111111111111111"
      ]
     },
     "execution_count": 41,
     "metadata": {},
     "output_type": "execute_result"
    }
   ],
   "source": [
    "1/(MAX_CLIQUE_SIZE**2)"
   ]
  },
  {
   "cell_type": "code",
   "execution_count": 42,
   "metadata": {},
   "outputs": [
    {
     "data": {
      "text/plain": [
       "25.643928720763682"
      ]
     },
     "execution_count": 42,
     "metadata": {},
     "output_type": "execute_result"
    }
   ],
   "source": [
    "(MAX_CLIQUE_SIZE**2)*np.trace(np.linalg.inv(K_O))"
   ]
  },
  {
   "cell_type": "code",
   "execution_count": null,
   "metadata": {},
   "outputs": [],
   "source": []
  }
 ],
 "metadata": {
  "kernelspec": {
   "display_name": "Python [conda env:metal]",
   "language": "python",
   "name": "conda-env-metal-py"
  },
  "language_info": {
   "codemirror_mode": {
    "name": "ipython",
    "version": 3
   },
   "file_extension": ".py",
   "mimetype": "text/x-python",
   "name": "python",
   "nbconvert_exporter": "python",
   "pygments_lexer": "ipython3",
   "version": "3.6.6"
  }
 },
 "nbformat": 4,
 "nbformat_minor": 2
}
