{
 "cells": [
  {
   "cell_type": "code",
   "execution_count": 1,
   "metadata": {},
   "outputs": [
    {
     "name": "stdout",
     "output_type": "stream",
     "text": [
      "The autoreload extension is already loaded. To reload it, use:\n",
      "  %reload_ext autoreload\n"
     ]
    }
   ],
   "source": [
    "%matplotlib inline\n",
    "%load_ext autoreload\n",
    "%autoreload 2\n",
    "\n",
    "import warnings\n",
    "warnings.filterwarnings('ignore')\n",
    "\n",
    "\n",
    "import sys\n",
    "sys.path.append(\"../\") # go to parent dir\n",
    "\n",
    "import numpy as np\n",
    "import torch\n",
    "import matplotlib.pyplot as plt\n",
    "import mpmath\n",
    "import networkx as nx\n",
    "\n",
    "from metal.label_model import LabelModel\n",
    "from metal.label_model.learn_deps import DependencyLearner\n",
    "\n",
    "from metal.label_model.graph_utils import generate_edges\n",
    "from metal.label_model.graph_utils import JunctionTree\n",
    "from metal.label_model.graph_utils import DependenciesGraph\n",
    "from synthetic.generate_spa import (\n",
    "    ChainDependencies,\n",
    "    TreeDependencies,\n",
    "    ClusterDependencies,\n",
    "    DataGenerator\n",
    ")\n",
    "from metal.label_model.utils import (\n",
    "    compute_mu,\n",
    "    compute_covariance,\n",
    "    compute_inv_covariance,\n",
    "    print_matrix,\n",
    "    visualize_matrix,\n",
    "    get_deps_from_inverse_sig\n",
    ")"
   ]
  },
  {
   "cell_type": "markdown",
   "metadata": {},
   "source": [
    "## Generate Data by Passing in Edge List\n",
    "**BROKEN: use old code from latent subset thing**"
   ]
  },
  {
   "cell_type": "code",
   "execution_count": 88,
   "metadata": {},
   "outputs": [],
   "source": [
    "sys.path.append('/dfs/scratch0/paroma/latent_subset/structure_learning/')\n",
    "from gen_data import *\n",
    "dg = DataGenerator(15,n=10000)"
   ]
  },
  {
   "cell_type": "code",
   "execution_count": 80,
   "metadata": {},
   "outputs": [
    {
     "data": {
      "image/png": "[encoded data removed]",
      "text/plain": [
       "<Figure size 432x216 with 2 Axes>"
      ]
     },
     "metadata": {},
     "output_type": "display_data"
    }
   ],
   "source": [
    "M = 15\n",
    "N = 1000 #not used\n",
    "MAX_CLIQUE_SIZE = 2\n",
    "NUM_CLIQUES = 3\n",
    "K = 2\n",
    "HIGHER_ORDER_CLIQUES = True\n",
    "\n",
    "# Set Graph Structure\n",
    "EDGES = generate_edges(M, MAX_CLIQUE_SIZE, NUM_CLIQUES)\n",
    "deps_graph = DependenciesGraph(M, EDGES)\n",
    "plt.figure(figsize=(6,3))\n",
    "plt.subplot(1,2,1)\n",
    "deps_graph.draw()\n",
    "\n",
    "\n",
    "#Generate Data\n",
    "data = DataGenerator(\n",
    "    N,\n",
    "    M,\n",
    "    k=K,\n",
    "    abstains=False,\n",
    "    deps_graph=deps_graph,\n",
    "    class_balance=0.5,\n",
    "    higher_order_cliques=HIGHER_ORDER_CLIQUES\n",
    ")\n",
    "plt.subplot(1,2,2)\n",
    "data.jt.draw()\n",
    "\n",
    "#Generate Data\n",
    "sigma_O = data.get_sigma_O()\n",
    "E_O = np.array([data.P_marginal(v) for i, v in data.jt.iter_observed()])\n",
    "class_balance = data.get_class_balance()\n",
    "mu = data.get_mu()"
   ]
  },
  {
   "cell_type": "code",
   "execution_count": 81,
   "metadata": {},
   "outputs": [],
   "source": [
    "sigma_S = data.get_sigma_H()\n",
    "sigma_OS = data.get_sigma_OH()\n",
    "\n",
    "\n",
    "c = np.linalg.inv(sigma_S - np.dot(sigma_OS.T,np.dot(np.linalg.inv(sigma_O),sigma_OS)))[0][0]\n",
    "K_O = np.linalg.inv(sigma_O)  + c*np.dot(np.linalg.inv(sigma_O),np.dot(sigma_OS, np.dot(sigma_OS.T, np.linalg.inv(sigma_O))))"
   ]
  },
  {
   "cell_type": "code",
   "execution_count": 82,
   "metadata": {},
   "outputs": [
    {
     "data": {
      "text/plain": [
       "array([[3.69778549e-32]])"
      ]
     },
     "execution_count": 82,
     "metadata": {},
     "output_type": "execute_result"
    }
   ],
   "source": [
    "np.dot(sigma_OS.T,np.dot(np.linalg.\n",
    "                         inv(sigma_O),sigma_OS))"
   ]
  },
  {
   "cell_type": "code",
   "execution_count": 83,
   "metadata": {},
   "outputs": [
    {
     "data": {
      "text/plain": [
       "array([[0.00000000e+00],\n",
       "       [0.00000000e+00],\n",
       "       [0.00000000e+00],\n",
       "       [0.00000000e+00],\n",
       "       [0.00000000e+00],\n",
       "       [0.00000000e+00],\n",
       "       [0.00000000e+00],\n",
       "       [0.00000000e+00],\n",
       "       [0.00000000e+00],\n",
       "       [0.00000000e+00],\n",
       "       [0.00000000e+00],\n",
       "       [0.00000000e+00],\n",
       "       [0.00000000e+00],\n",
       "       [0.00000000e+00],\n",
       "       [0.00000000e+00],\n",
       "       [2.77555756e-17],\n",
       "       [2.77555756e-17],\n",
       "       [2.77555756e-17]])"
      ]
     },
     "execution_count": 83,
     "metadata": {},
     "output_type": "execute_result"
    }
   ],
   "source": [
    "sigma_OS"
   ]
  },
  {
   "cell_type": "code",
   "execution_count": 84,
   "metadata": {},
   "outputs": [
    {
     "data": {
      "text/plain": [
       "array([[2.50000000e-01, 0.00000000e+00, 5.55111512e-17, 5.55111512e-17,\n",
       "        5.55111512e-17, 5.55111512e-17, 5.55111512e-17, 5.55111512e-17,\n",
       "        5.55111512e-17, 5.55111512e-17, 5.55111512e-17, 5.55111512e-17,\n",
       "        5.55111512e-17, 5.55111512e-17, 5.55111512e-17, 5.55111512e-17,\n",
       "        1.25000000e-01, 5.55111512e-17],\n",
       "       [0.00000000e+00, 2.50000000e-01, 5.55111512e-17, 5.55111512e-17,\n",
       "        5.55111512e-17, 5.55111512e-17, 5.55111512e-17, 5.55111512e-17,\n",
       "        5.55111512e-17, 5.55111512e-17, 5.55111512e-17, 5.55111512e-17,\n",
       "        5.55111512e-17, 5.55111512e-17, 5.55111512e-17, 5.55111512e-17,\n",
       "        1.25000000e-01, 5.55111512e-17],\n",
       "       [5.55111512e-17, 5.55111512e-17, 2.50000000e-01, 0.00000000e+00,\n",
       "        5.55111512e-17, 5.55111512e-17, 5.55111512e-17, 5.55111512e-17,\n",
       "        5.55111512e-17, 5.55111512e-17, 5.55111512e-17, 5.55111512e-17,\n",
       "        5.55111512e-17, 5.55111512e-17, 5.55111512e-17, 1.25000000e-01,\n",
       "        5.55111512e-17, 5.55111512e-17],\n",
       "       [5.55111512e-17, 5.55111512e-17, 0.00000000e+00, 2.50000000e-01,\n",
       "        5.55111512e-17, 5.55111512e-17, 5.55111512e-17, 5.55111512e-17,\n",
       "        5.55111512e-17, 5.55111512e-17, 5.55111512e-17, 5.55111512e-17,\n",
       "        5.55111512e-17, 5.55111512e-17, 5.55111512e-17, 1.25000000e-01,\n",
       "        5.55111512e-17, 5.55111512e-17],\n",
       "       [5.55111512e-17, 5.55111512e-17, 5.55111512e-17, 5.55111512e-17,\n",
       "        2.50000000e-01, 0.00000000e+00, 5.55111512e-17, 5.55111512e-17,\n",
       "        5.55111512e-17, 5.55111512e-17, 5.55111512e-17, 5.55111512e-17,\n",
       "        5.55111512e-17, 5.55111512e-17, 5.55111512e-17, 5.55111512e-17,\n",
       "        5.55111512e-17, 1.25000000e-01],\n",
       "       [5.55111512e-17, 5.55111512e-17, 5.55111512e-17, 5.55111512e-17,\n",
       "        0.00000000e+00, 2.50000000e-01, 5.55111512e-17, 5.55111512e-17,\n",
       "        5.55111512e-17, 5.55111512e-17, 5.55111512e-17, 5.55111512e-17,\n",
       "        5.55111512e-17, 5.55111512e-17, 5.55111512e-17, 5.55111512e-17,\n",
       "        5.55111512e-17, 1.25000000e-01],\n",
       "       [5.55111512e-17, 5.55111512e-17, 5.55111512e-17, 5.55111512e-17,\n",
       "        5.55111512e-17, 5.55111512e-17, 2.50000000e-01, 5.55111512e-17,\n",
       "        5.55111512e-17, 5.55111512e-17, 5.55111512e-17, 5.55111512e-17,\n",
       "        5.55111512e-17, 5.55111512e-17, 5.55111512e-17, 2.77555756e-17,\n",
       "        2.77555756e-17, 2.77555756e-17],\n",
       "       [5.55111512e-17, 5.55111512e-17, 5.55111512e-17, 5.55111512e-17,\n",
       "        5.55111512e-17, 5.55111512e-17, 5.55111512e-17, 2.50000000e-01,\n",
       "        5.55111512e-17, 5.55111512e-17, 5.55111512e-17, 5.55111512e-17,\n",
       "        5.55111512e-17, 5.55111512e-17, 5.55111512e-17, 2.77555756e-17,\n",
       "        2.77555756e-17, 2.77555756e-17],\n",
       "       [5.55111512e-17, 5.55111512e-17, 5.55111512e-17, 5.55111512e-17,\n",
       "        5.55111512e-17, 5.55111512e-17, 5.55111512e-17, 5.55111512e-17,\n",
       "        2.50000000e-01, 5.55111512e-17, 5.55111512e-17, 5.55111512e-17,\n",
       "        5.55111512e-17, 5.55111512e-17, 5.55111512e-17, 2.77555756e-17,\n",
       "        2.77555756e-17, 2.77555756e-17],\n",
       "       [5.55111512e-17, 5.55111512e-17, 5.55111512e-17, 5.55111512e-17,\n",
       "        5.55111512e-17, 5.55111512e-17, 5.55111512e-17, 5.55111512e-17,\n",
       "        5.55111512e-17, 2.50000000e-01, 5.55111512e-17, 5.55111512e-17,\n",
       "        5.55111512e-17, 5.55111512e-17, 5.55111512e-17, 2.77555756e-17,\n",
       "        2.77555756e-17, 2.77555756e-17],\n",
       "       [5.55111512e-17, 5.55111512e-17, 5.55111512e-17, 5.55111512e-17,\n",
       "        5.55111512e-17, 5.55111512e-17, 5.55111512e-17, 5.55111512e-17,\n",
       "        5.55111512e-17, 5.55111512e-17, 2.50000000e-01, 5.55111512e-17,\n",
       "        5.55111512e-17, 5.55111512e-17, 5.55111512e-17, 2.77555756e-17,\n",
       "        2.77555756e-17, 2.77555756e-17],\n",
       "       [5.55111512e-17, 5.55111512e-17, 5.55111512e-17, 5.55111512e-17,\n",
       "        5.55111512e-17, 5.55111512e-17, 5.55111512e-17, 5.55111512e-17,\n",
       "        5.55111512e-17, 5.55111512e-17, 5.55111512e-17, 2.50000000e-01,\n",
       "        5.55111512e-17, 5.55111512e-17, 5.55111512e-17, 2.77555756e-17,\n",
       "        2.77555756e-17, 2.77555756e-17],\n",
       "       [5.55111512e-17, 5.55111512e-17, 5.55111512e-17, 5.55111512e-17,\n",
       "        5.55111512e-17, 5.55111512e-17, 5.55111512e-17, 5.55111512e-17,\n",
       "        5.55111512e-17, 5.55111512e-17, 5.55111512e-17, 5.55111512e-17,\n",
       "        2.50000000e-01, 5.55111512e-17, 5.55111512e-17, 2.77555756e-17,\n",
       "        2.77555756e-17, 2.77555756e-17],\n",
       "       [5.55111512e-17, 5.55111512e-17, 5.55111512e-17, 5.55111512e-17,\n",
       "        5.55111512e-17, 5.55111512e-17, 5.55111512e-17, 5.55111512e-17,\n",
       "        5.55111512e-17, 5.55111512e-17, 5.55111512e-17, 5.55111512e-17,\n",
       "        5.55111512e-17, 2.50000000e-01, 5.55111512e-17, 2.77555756e-17,\n",
       "        2.77555756e-17, 2.77555756e-17],\n",
       "       [5.55111512e-17, 5.55111512e-17, 5.55111512e-17, 5.55111512e-17,\n",
       "        5.55111512e-17, 5.55111512e-17, 5.55111512e-17, 5.55111512e-17,\n",
       "        5.55111512e-17, 5.55111512e-17, 5.55111512e-17, 5.55111512e-17,\n",
       "        5.55111512e-17, 5.55111512e-17, 2.50000000e-01, 2.77555756e-17,\n",
       "        2.77555756e-17, 2.77555756e-17],\n",
       "       [5.55111512e-17, 5.55111512e-17, 1.25000000e-01, 1.25000000e-01,\n",
       "        5.55111512e-17, 5.55111512e-17, 2.77555756e-17, 2.77555756e-17,\n",
       "        2.77555756e-17, 2.77555756e-17, 2.77555756e-17, 2.77555756e-17,\n",
       "        2.77555756e-17, 2.77555756e-17, 2.77555756e-17, 1.87500000e-01,\n",
       "        2.77555756e-17, 2.77555756e-17],\n",
       "       [1.25000000e-01, 1.25000000e-01, 5.55111512e-17, 5.55111512e-17,\n",
       "        5.55111512e-17, 5.55111512e-17, 2.77555756e-17, 2.77555756e-17,\n",
       "        2.77555756e-17, 2.77555756e-17, 2.77555756e-17, 2.77555756e-17,\n",
       "        2.77555756e-17, 2.77555756e-17, 2.77555756e-17, 2.77555756e-17,\n",
       "        1.87500000e-01, 4.16333634e-17],\n",
       "       [5.55111512e-17, 5.55111512e-17, 5.55111512e-17, 5.55111512e-17,\n",
       "        1.25000000e-01, 1.25000000e-01, 2.77555756e-17, 2.77555756e-17,\n",
       "        2.77555756e-17, 2.77555756e-17, 2.77555756e-17, 2.77555756e-17,\n",
       "        2.77555756e-17, 2.77555756e-17, 2.77555756e-17, 2.77555756e-17,\n",
       "        4.16333634e-17, 1.87500000e-01]])"
      ]
     },
     "execution_count": 84,
     "metadata": {},
     "output_type": "execute_result"
    }
   ],
   "source": [
    "sigma_O"
   ]
  },
  {
   "cell_type": "markdown",
   "metadata": {},
   "source": [
    "FROB NORM"
   ]
  },
  {
   "cell_type": "code",
   "execution_count": 85,
   "metadata": {},
   "outputs": [
    {
     "ename": "ValueError",
     "evalue": "Incompatible dimensions (15, 15) (18, 18)",
     "output_type": "error",
     "traceback": [
      "\u001b[0;31m---------------------------------------------------------------------------\u001b[0m",
      "\u001b[0;31mValueError\u001b[0m                                Traceback (most recent call last)",
      "\u001b[0;32m<ipython-input-85-c36aa56a532e>\u001b[0m in \u001b[0;36m<module>\u001b[0;34m()\u001b[0m\n\u001b[1;32m     19\u001b[0m \u001b[0mgamma\u001b[0m \u001b[0;34m=\u001b[0m \u001b[0;36m1e-8\u001b[0m\u001b[0;34m\u001b[0m\u001b[0m\n\u001b[1;32m     20\u001b[0m \u001b[0;34m\u001b[0m\u001b[0m\n\u001b[0;32m---> 21\u001b[0;31m \u001b[0mobjective\u001b[0m \u001b[0;34m=\u001b[0m \u001b[0mcp\u001b[0m\u001b[0;34m.\u001b[0m\u001b[0mMinimize\u001b[0m\u001b[0;34m(\u001b[0m\u001b[0;36m0.5\u001b[0m\u001b[0;34m*\u001b[0m\u001b[0;34m(\u001b[0m\u001b[0mcp\u001b[0m\u001b[0;34m.\u001b[0m\u001b[0mnorm\u001b[0m\u001b[0;34m(\u001b[0m\u001b[0mR\u001b[0m\u001b[0;34m*\u001b[0m\u001b[0mO_root\u001b[0m\u001b[0;34m,\u001b[0m \u001b[0;34m'fro'\u001b[0m\u001b[0;34m)\u001b[0m\u001b[0;34m**\u001b[0m\u001b[0;36m2\u001b[0m\u001b[0;34m)\u001b[0m \u001b[0;34m-\u001b[0m \u001b[0mcp\u001b[0m\u001b[0;34m.\u001b[0m\u001b[0mtrace\u001b[0m\u001b[0;34m(\u001b[0m\u001b[0mR\u001b[0m\u001b[0;34m)\u001b[0m \u001b[0;34m+\u001b[0m \u001b[0mlam\u001b[0m\u001b[0;34m*\u001b[0m\u001b[0;34m(\u001b[0m\u001b[0mgamma\u001b[0m\u001b[0;34m*\u001b[0m\u001b[0mcp\u001b[0m\u001b[0;34m.\u001b[0m\u001b[0mpnorm\u001b[0m\u001b[0;34m(\u001b[0m\u001b[0mS\u001b[0m\u001b[0;34m,\u001b[0m\u001b[0;36m1\u001b[0m\u001b[0;34m)\u001b[0m \u001b[0;34m+\u001b[0m \u001b[0mcp\u001b[0m\u001b[0;34m.\u001b[0m\u001b[0mnorm\u001b[0m\u001b[0;34m(\u001b[0m\u001b[0mL\u001b[0m\u001b[0;34m,\u001b[0m \u001b[0;34m\"nuc\"\u001b[0m\u001b[0;34m)\u001b[0m\u001b[0;34m)\u001b[0m\u001b[0;34m)\u001b[0m\u001b[0;34m\u001b[0m\u001b[0m\n\u001b[0m\u001b[1;32m     22\u001b[0m \u001b[0mconstraints\u001b[0m \u001b[0;34m=\u001b[0m \u001b[0;34m[\u001b[0m\u001b[0mR\u001b[0m \u001b[0;34m==\u001b[0m \u001b[0mS\u001b[0m \u001b[0;34m-\u001b[0m \u001b[0mL\u001b[0m\u001b[0;34m,\u001b[0m \u001b[0mL\u001b[0m\u001b[0;34m>>\u001b[0m\u001b[0;36m0\u001b[0m\u001b[0;34m]\u001b[0m\u001b[0;34m\u001b[0m\u001b[0m\n\u001b[1;32m     23\u001b[0m \u001b[0;34m\u001b[0m\u001b[0m\n",
      "\u001b[0;32m/dfs/scratch0/paroma/anaconda2/envs/metal/lib/python3.6/site-packages/cvxpy/expressions/expression.py\u001b[0m in \u001b[0;36mcast_op\u001b[0;34m(self, other)\u001b[0m\n\u001b[1;32m     43\u001b[0m         \"\"\"\n\u001b[1;32m     44\u001b[0m         \u001b[0mother\u001b[0m \u001b[0;34m=\u001b[0m \u001b[0mself\u001b[0m\u001b[0;34m.\u001b[0m\u001b[0mcast_to_const\u001b[0m\u001b[0;34m(\u001b[0m\u001b[0mother\u001b[0m\u001b[0;34m)\u001b[0m\u001b[0;34m\u001b[0m\u001b[0m\n\u001b[0;32m---> 45\u001b[0;31m         \u001b[0;32mreturn\u001b[0m \u001b[0mbinary_op\u001b[0m\u001b[0;34m(\u001b[0m\u001b[0mself\u001b[0m\u001b[0;34m,\u001b[0m \u001b[0mother\u001b[0m\u001b[0;34m)\u001b[0m\u001b[0;34m\u001b[0m\u001b[0m\n\u001b[0m\u001b[1;32m     46\u001b[0m     \u001b[0;32mreturn\u001b[0m \u001b[0mcast_op\u001b[0m\u001b[0;34m\u001b[0m\u001b[0m\n\u001b[1;32m     47\u001b[0m \u001b[0;34m\u001b[0m\u001b[0m\n",
      "\u001b[0;32m/dfs/scratch0/paroma/anaconda2/envs/metal/lib/python3.6/site-packages/cvxpy/expressions/expression.py\u001b[0m in \u001b[0;36m__mul__\u001b[0;34m(self, other)\u001b[0m\n\u001b[1;32m    381\u001b[0m             \u001b[0;32mreturn\u001b[0m \u001b[0mcvxtypes\u001b[0m\u001b[0;34m.\u001b[0m\u001b[0mmultiply_expr\u001b[0m\u001b[0;34m(\u001b[0m\u001b[0;34m)\u001b[0m\u001b[0;34m(\u001b[0m\u001b[0mself\u001b[0m\u001b[0;34m,\u001b[0m \u001b[0mother\u001b[0m\u001b[0;34m)\u001b[0m\u001b[0;34m\u001b[0m\u001b[0m\n\u001b[1;32m    382\u001b[0m         \u001b[0;32melif\u001b[0m \u001b[0mself\u001b[0m\u001b[0;34m.\u001b[0m\u001b[0mis_constant\u001b[0m\u001b[0;34m(\u001b[0m\u001b[0;34m)\u001b[0m \u001b[0;32mor\u001b[0m \u001b[0mother\u001b[0m\u001b[0;34m.\u001b[0m\u001b[0mis_constant\u001b[0m\u001b[0;34m(\u001b[0m\u001b[0;34m)\u001b[0m\u001b[0;34m:\u001b[0m\u001b[0;34m\u001b[0m\u001b[0m\n\u001b[0;32m--> 383\u001b[0;31m             \u001b[0;32mreturn\u001b[0m \u001b[0mcvxtypes\u001b[0m\u001b[0;34m.\u001b[0m\u001b[0mmul_expr\u001b[0m\u001b[0;34m(\u001b[0m\u001b[0;34m)\u001b[0m\u001b[0;34m(\u001b[0m\u001b[0mself\u001b[0m\u001b[0;34m,\u001b[0m \u001b[0mother\u001b[0m\u001b[0;34m)\u001b[0m\u001b[0;34m\u001b[0m\u001b[0m\n\u001b[0m\u001b[1;32m    384\u001b[0m         \u001b[0;32melse\u001b[0m\u001b[0;34m:\u001b[0m\u001b[0;34m\u001b[0m\u001b[0m\n\u001b[1;32m    385\u001b[0m             \u001b[0mwarnings\u001b[0m\u001b[0;34m.\u001b[0m\u001b[0mwarn\u001b[0m\u001b[0;34m(\u001b[0m\u001b[0;34m\"Forming a nonconvex expression.\"\u001b[0m\u001b[0;34m)\u001b[0m\u001b[0;34m\u001b[0m\u001b[0m\n",
      "\u001b[0;32m/dfs/scratch0/paroma/anaconda2/envs/metal/lib/python3.6/site-packages/cvxpy/atoms/affine/binary_operators.py\u001b[0m in \u001b[0;36m__init__\u001b[0;34m(self, lh_exp, rh_exp)\u001b[0m\n\u001b[1;32m     41\u001b[0m \u001b[0;34m\u001b[0m\u001b[0m\n\u001b[1;32m     42\u001b[0m     \u001b[0;32mdef\u001b[0m \u001b[0m__init__\u001b[0m\u001b[0;34m(\u001b[0m\u001b[0mself\u001b[0m\u001b[0;34m,\u001b[0m \u001b[0mlh_exp\u001b[0m\u001b[0;34m,\u001b[0m \u001b[0mrh_exp\u001b[0m\u001b[0;34m)\u001b[0m\u001b[0;34m:\u001b[0m\u001b[0;34m\u001b[0m\u001b[0m\n\u001b[0;32m---> 43\u001b[0;31m         \u001b[0msuper\u001b[0m\u001b[0;34m(\u001b[0m\u001b[0mBinaryOperator\u001b[0m\u001b[0;34m,\u001b[0m \u001b[0mself\u001b[0m\u001b[0;34m)\u001b[0m\u001b[0;34m.\u001b[0m\u001b[0m__init__\u001b[0m\u001b[0;34m(\u001b[0m\u001b[0mlh_exp\u001b[0m\u001b[0;34m,\u001b[0m \u001b[0mrh_exp\u001b[0m\u001b[0;34m)\u001b[0m\u001b[0;34m\u001b[0m\u001b[0m\n\u001b[0m\u001b[1;32m     44\u001b[0m \u001b[0;34m\u001b[0m\u001b[0m\n\u001b[1;32m     45\u001b[0m     \u001b[0;32mdef\u001b[0m \u001b[0mname\u001b[0m\u001b[0;34m(\u001b[0m\u001b[0mself\u001b[0m\u001b[0;34m)\u001b[0m\u001b[0;34m:\u001b[0m\u001b[0;34m\u001b[0m\u001b[0m\n",
      "\u001b[0;32m/dfs/scratch0/paroma/anaconda2/envs/metal/lib/python3.6/site-packages/cvxpy/atoms/atom.py\u001b[0m in \u001b[0;36m__init__\u001b[0;34m(self, *args)\u001b[0m\n\u001b[1;32m     39\u001b[0m         \u001b[0mself\u001b[0m\u001b[0;34m.\u001b[0m\u001b[0margs\u001b[0m \u001b[0;34m=\u001b[0m \u001b[0;34m[\u001b[0m\u001b[0mAtom\u001b[0m\u001b[0;34m.\u001b[0m\u001b[0mcast_to_const\u001b[0m\u001b[0;34m(\u001b[0m\u001b[0marg\u001b[0m\u001b[0;34m)\u001b[0m \u001b[0;32mfor\u001b[0m \u001b[0marg\u001b[0m \u001b[0;32min\u001b[0m \u001b[0margs\u001b[0m\u001b[0;34m]\u001b[0m\u001b[0;34m\u001b[0m\u001b[0m\n\u001b[1;32m     40\u001b[0m         \u001b[0mself\u001b[0m\u001b[0;34m.\u001b[0m\u001b[0mvalidate_arguments\u001b[0m\u001b[0;34m(\u001b[0m\u001b[0;34m)\u001b[0m\u001b[0;34m\u001b[0m\u001b[0m\n\u001b[0;32m---> 41\u001b[0;31m         \u001b[0mself\u001b[0m\u001b[0;34m.\u001b[0m\u001b[0m_shape\u001b[0m \u001b[0;34m=\u001b[0m \u001b[0mself\u001b[0m\u001b[0;34m.\u001b[0m\u001b[0mshape_from_args\u001b[0m\u001b[0;34m(\u001b[0m\u001b[0;34m)\u001b[0m\u001b[0;34m\u001b[0m\u001b[0m\n\u001b[0m\u001b[1;32m     42\u001b[0m         \u001b[0;32mif\u001b[0m \u001b[0mlen\u001b[0m\u001b[0;34m(\u001b[0m\u001b[0mself\u001b[0m\u001b[0;34m.\u001b[0m\u001b[0m_shape\u001b[0m\u001b[0;34m)\u001b[0m \u001b[0;34m>\u001b[0m \u001b[0;36m2\u001b[0m\u001b[0;34m:\u001b[0m\u001b[0;34m\u001b[0m\u001b[0m\n\u001b[1;32m     43\u001b[0m             \u001b[0;32mraise\u001b[0m \u001b[0mValueError\u001b[0m\u001b[0;34m(\u001b[0m\u001b[0;34m\"Atoms must be at most 2D.\"\u001b[0m\u001b[0;34m)\u001b[0m\u001b[0;34m\u001b[0m\u001b[0m\n",
      "\u001b[0;32m/dfs/scratch0/paroma/anaconda2/envs/metal/lib/python3.6/site-packages/cvxpy/atoms/affine/binary_operators.py\u001b[0m in \u001b[0;36mshape_from_args\u001b[0;34m(self)\u001b[0m\n\u001b[1;32m    111\u001b[0m         \"\"\"Returns the (row, col) shape of the expression.\n\u001b[1;32m    112\u001b[0m         \"\"\"\n\u001b[0;32m--> 113\u001b[0;31m         \u001b[0;32mreturn\u001b[0m \u001b[0mu\u001b[0m\u001b[0;34m.\u001b[0m\u001b[0mshape\u001b[0m\u001b[0;34m.\u001b[0m\u001b[0mmul_shapes\u001b[0m\u001b[0;34m(\u001b[0m\u001b[0mself\u001b[0m\u001b[0;34m.\u001b[0m\u001b[0margs\u001b[0m\u001b[0;34m[\u001b[0m\u001b[0;36m0\u001b[0m\u001b[0;34m]\u001b[0m\u001b[0;34m.\u001b[0m\u001b[0mshape\u001b[0m\u001b[0;34m,\u001b[0m \u001b[0mself\u001b[0m\u001b[0;34m.\u001b[0m\u001b[0margs\u001b[0m\u001b[0;34m[\u001b[0m\u001b[0;36m1\u001b[0m\u001b[0;34m]\u001b[0m\u001b[0;34m.\u001b[0m\u001b[0mshape\u001b[0m\u001b[0;34m)\u001b[0m\u001b[0;34m\u001b[0m\u001b[0m\n\u001b[0m\u001b[1;32m    114\u001b[0m \u001b[0;34m\u001b[0m\u001b[0m\n\u001b[1;32m    115\u001b[0m     \u001b[0;32mdef\u001b[0m \u001b[0mis_atom_convex\u001b[0m\u001b[0;34m(\u001b[0m\u001b[0mself\u001b[0m\u001b[0;34m)\u001b[0m\u001b[0;34m:\u001b[0m\u001b[0;34m\u001b[0m\u001b[0m\n",
      "\u001b[0;32m/dfs/scratch0/paroma/anaconda2/envs/metal/lib/python3.6/site-packages/cvxpy/utilities/shape.py\u001b[0m in \u001b[0;36mmul_shapes\u001b[0;34m(lh_shape, rh_shape)\u001b[0m\n\u001b[1;32m    137\u001b[0m     \u001b[0mlh_old\u001b[0m \u001b[0;34m=\u001b[0m \u001b[0mlh_shape\u001b[0m\u001b[0;34m\u001b[0m\u001b[0m\n\u001b[1;32m    138\u001b[0m     \u001b[0mrh_old\u001b[0m \u001b[0;34m=\u001b[0m \u001b[0mrh_shape\u001b[0m\u001b[0;34m\u001b[0m\u001b[0m\n\u001b[0;32m--> 139\u001b[0;31m     \u001b[0mlh_shape\u001b[0m\u001b[0;34m,\u001b[0m \u001b[0mrh_shape\u001b[0m\u001b[0;34m,\u001b[0m \u001b[0mshape\u001b[0m \u001b[0;34m=\u001b[0m \u001b[0mmul_shapes_promote\u001b[0m\u001b[0;34m(\u001b[0m\u001b[0mlh_shape\u001b[0m\u001b[0;34m,\u001b[0m \u001b[0mrh_shape\u001b[0m\u001b[0;34m)\u001b[0m\u001b[0;34m\u001b[0m\u001b[0m\n\u001b[0m\u001b[1;32m    140\u001b[0m     \u001b[0;32mif\u001b[0m \u001b[0mlh_shape\u001b[0m \u001b[0;34m!=\u001b[0m \u001b[0mlh_old\u001b[0m\u001b[0;34m:\u001b[0m\u001b[0;34m\u001b[0m\u001b[0m\n\u001b[1;32m    141\u001b[0m         \u001b[0mshape\u001b[0m \u001b[0;34m=\u001b[0m \u001b[0mshape\u001b[0m\u001b[0;34m[\u001b[0m\u001b[0;36m1\u001b[0m\u001b[0;34m:\u001b[0m\u001b[0;34m]\u001b[0m\u001b[0;34m\u001b[0m\u001b[0m\n",
      "\u001b[0;32m/dfs/scratch0/paroma/anaconda2/envs/metal/lib/python3.6/site-packages/cvxpy/utilities/shape.py\u001b[0m in \u001b[0;36mmul_shapes_promote\u001b[0;34m(lh_shape, rh_shape)\u001b[0m\n\u001b[1;32m    104\u001b[0m     \u001b[0;32mif\u001b[0m \u001b[0mlh_mat_shape\u001b[0m\u001b[0;34m[\u001b[0m\u001b[0;36m1\u001b[0m\u001b[0;34m]\u001b[0m \u001b[0;34m!=\u001b[0m \u001b[0mrh_mat_shape\u001b[0m\u001b[0;34m[\u001b[0m\u001b[0;36m0\u001b[0m\u001b[0;34m]\u001b[0m\u001b[0;34m:\u001b[0m\u001b[0;34m\u001b[0m\u001b[0m\n\u001b[1;32m    105\u001b[0m         raise ValueError(\"Incompatible dimensions %s %s\" % (\n\u001b[0;32m--> 106\u001b[0;31m             lh_shape, rh_shape))\n\u001b[0m\u001b[1;32m    107\u001b[0m     \u001b[0;32mif\u001b[0m \u001b[0mlh_shape\u001b[0m\u001b[0;34m[\u001b[0m\u001b[0;34m:\u001b[0m\u001b[0;34m-\u001b[0m\u001b[0;36m2\u001b[0m\u001b[0;34m]\u001b[0m \u001b[0;34m!=\u001b[0m \u001b[0mrh_shape\u001b[0m\u001b[0;34m[\u001b[0m\u001b[0;34m:\u001b[0m\u001b[0;34m-\u001b[0m\u001b[0;36m2\u001b[0m\u001b[0;34m]\u001b[0m\u001b[0;34m:\u001b[0m\u001b[0;34m\u001b[0m\u001b[0m\n\u001b[1;32m    108\u001b[0m         raise ValueError(\"Incompatible dimensions %s %s\" % (\n",
      "\u001b[0;31mValueError\u001b[0m: Incompatible dimensions (15, 15) (18, 18)"
     ]
    }
   ],
   "source": [
    "import cvxpy as cp\n",
    "import scipy as sp\n",
    "\n",
    "#bad code\n",
    "O = 1/2*(sigma_O+sigma_O.T)\n",
    "O_root = np.real(sp.linalg.sqrtm(O))\n",
    "\n",
    "# low-rank matrix\n",
    "L = cp.Variable([M,M])\n",
    "\n",
    "# sparse matrix\n",
    "S = cp.Variable([M,M])\n",
    "\n",
    "# S-L matrix\n",
    "R = cp.Variable([M,M])\n",
    "\n",
    "#reg params\n",
    "lam = 1/np.sqrt(M)\n",
    "gamma = 1e-8\n",
    "\n",
    "objective = cp.Minimize(0.5*(cp.norm(R*O_root, 'fro')**2) - cp.trace(R) + lam*(gamma*cp.pnorm(S,1) + cp.norm(L, \"nuc\")))\n",
    "constraints = [R == S - L, L>>0]\n",
    "\n",
    "prob = cp.Problem(objective, constraints)\n",
    "result = prob.solve(verbose=True)\n",
    "opt_error = prob.value\n",
    "\n",
    "J_hat = S.value"
   ]
  },
  {
   "cell_type": "code",
   "execution_count": 56,
   "metadata": {},
   "outputs": [
    {
     "data": {
      "text/plain": [
       "<matplotlib.image.AxesImage at 0x7fea5f9fa748>"
      ]
     },
     "execution_count": 56,
     "metadata": {},
     "output_type": "execute_result"
    },
    {
     "data": {
      "image/png": "[encoded data removed]",
      "text/plain": [
       "<Figure size 432x288 with 1 Axes>"
      ]
     },
     "metadata": {},
     "output_type": "display_data"
    }
   ],
   "source": [
    "plt.imshow(L.value - S.value)"
   ]
  },
  {
   "cell_type": "code",
   "execution_count": 57,
   "metadata": {},
   "outputs": [
    {
     "data": {
      "text/plain": [
       "<matplotlib.image.AxesImage at 0x7fea70d3b6a0>"
      ]
     },
     "execution_count": 57,
     "metadata": {},
     "output_type": "execute_result"
    },
    {
     "data": {
      "image/png": "[encoded data removed]",
      "text/plain": [
       "<Figure size 432x288 with 1 Axes>"
      ]
     },
     "metadata": {},
     "output_type": "display_data"
    }
   ],
   "source": [
    "plt.imshow(np.linalg.inv(sigma_O))"
   ]
  },
  {
   "cell_type": "code",
   "execution_count": 51,
   "metadata": {},
   "outputs": [
    {
     "data": {
      "text/plain": [
       "<matplotlib.colorbar.Colorbar at 0x7fea5f8a3160>"
      ]
     },
     "execution_count": 51,
     "metadata": {},
     "output_type": "execute_result"
    },
    {
     "data": {
      "image/png": "[encoded data removed]",
      "text/plain": [
       "<Figure size 432x288 with 2 Axes>"
      ]
     },
     "metadata": {},
     "output_type": "display_data"
    }
   ],
   "source": [
    "plt.imshow(L.value)\n",
    "plt.colorbar()"
   ]
  },
  {
   "cell_type": "code",
   "execution_count": 52,
   "metadata": {},
   "outputs": [
    {
     "data": {
      "text/plain": [
       "array([[ 4.00000024e+00, -1.29703102e-13, -7.12659847e-15,\n",
       "         3.15398208e-14, -1.01787391e-13, -4.74610865e-14,\n",
       "         1.95928699e-14,  1.38809466e-13,  2.13481533e-14,\n",
       "        -1.95770488e-15],\n",
       "       [-7.14524910e-15,  4.00000024e+00, -1.94998124e-13,\n",
       "        -7.82480177e-14,  2.67844850e-14, -3.42500769e-15,\n",
       "         4.21133277e-14, -1.73795731e-14,  2.89177497e-14,\n",
       "        -6.06227187e-14],\n",
       "       [ 6.29088664e-15,  1.68534951e-14,  4.00000024e+00,\n",
       "        -1.06765654e-13, -1.29820642e-14, -4.55113119e-17,\n",
       "        -4.27750863e-14,  4.70584097e-14, -5.44970651e-14,\n",
       "         6.02980975e-15],\n",
       "       [ 4.74119677e-15,  5.82687550e-15,  1.10282333e-14,\n",
       "         4.00000024e+00, -2.96280763e-14, -6.04814725e-14,\n",
       "         9.96131860e-14, -2.10471064e-14, -5.49126632e-14,\n",
       "         9.29657998e-15],\n",
       "       [ 1.97557022e-14,  7.71429051e-15, -1.84901096e-14,\n",
       "         1.68201168e-14,  4.00000024e+00,  1.14243088e-13,\n",
       "         4.94175463e-14, -9.56644986e-14,  1.99048468e-14,\n",
       "        -2.72749606e-14],\n",
       "       [ 7.30328706e-15,  2.20092557e-14, -7.01829196e-15,\n",
       "         1.05801524e-14, -6.50573858e-16,  4.00000024e+00,\n",
       "         3.17165973e-14, -3.18938737e-14, -9.05104663e-14,\n",
       "         3.74595020e-14],\n",
       "       [-6.59647268e-15,  2.06040085e-15, -3.04611055e-15,\n",
       "        -3.33340069e-14, -1.52202258e-14,  5.09505902e-15,\n",
       "         4.00000024e+00,  1.06458084e-14,  1.00897430e-13,\n",
       "        -1.24638534e-13],\n",
       "       [ 4.15700308e-15,  1.64815756e-14,  4.40475980e-15,\n",
       "         6.18257482e-15,  9.33447453e-15,  2.07993857e-16,\n",
       "        -1.19428369e-15,  4.00000024e+00,  9.58221017e-14,\n",
       "        -1.53509371e-13],\n",
       "       [-3.97158805e-15, -4.92225973e-15,  7.17831593e-15,\n",
       "         2.44778330e-15, -6.62083435e-15,  1.72083697e-16,\n",
       "        -4.31868737e-15, -1.72033258e-14,  4.00000024e+00,\n",
       "         8.37904366e-14],\n",
       "       [ 1.30908430e-15, -1.37708863e-14,  1.39065287e-14,\n",
       "         1.54004490e-14, -6.06233997e-15, -9.52255708e-15,\n",
       "         4.05109839e-15,  9.27024425e-15, -2.04299976e-15,\n",
       "         4.00000024e+00]])"
      ]
     },
     "execution_count": 52,
     "metadata": {},
     "output_type": "execute_result"
    }
   ],
   "source": [
    "L.value+S.value"
   ]
  },
  {
   "cell_type": "code",
   "execution_count": 41,
   "metadata": {},
   "outputs": [
    {
     "name": "stdout",
     "output_type": "stream",
     "text": [
      "8.300210020003042e-15\n"
     ]
    },
    {
     "data": {
      "image/png": "[encoded data removed]",
      "text/plain": [
       "<Figure size 432x288 with 1 Axes>"
      ]
     },
     "metadata": {},
     "output_type": "display_data"
    }
   ],
   "source": [
    "for i in range(M):\n",
    "    J_hat[i,i]=0.\n",
    "plt.imshow(J_hat)\n",
    "\n",
    "print(np.max(J_hat))"
   ]
  },
  {
   "cell_type": "code",
   "execution_count": 39,
   "metadata": {},
   "outputs": [],
   "source": [
    "# deps_hat = get_deps_from_inverse_sig(J_hat, thresh=2.1e-9) \n",
    "# deps = []\n",
    "# for i,j in deps_hat:\n",
    "#     if i < j:\n",
    "#         deps.append((i,j))\n",
    "        \n",
    "# deps_graph_est = DependenciesGraph(M, deps)\n",
    "\n",
    "\n",
    "# plt.figure(figsize=(8,4))\n",
    "# plt.subplot(1,2,1)\n",
    "# plt.title('True Structure')\n",
    "# deps_graph.draw()\n",
    "# plt.subplot(1,2,2)\n",
    "# plt.title('Learned Structure')\n",
    "# deps_graph_est.draw()"
   ]
  },
  {
   "cell_type": "markdown",
   "metadata": {},
   "source": [
    "**Old Code**"
   ]
  },
  {
   "cell_type": "code",
   "execution_count": 47,
   "metadata": {},
   "outputs": [],
   "source": [
    "# import cvxpy as cp\n",
    "\n",
    "# # low-rank matrix\n",
    "# L = cp.Variable([M,M], PSD=True)\n",
    "\n",
    "# # sparse matrix\n",
    "# S = cp.Variable([M,M])\n",
    "\n",
    "# #reg params\n",
    "# lam = 1/np.sqrt(M)\n",
    "# gamma = 1e-8\n",
    "\n",
    "\n",
    "# reg_loss = lam*(gamma*cp.pnorm(S,1) + cp.norm(L, \"nuc\"))\n",
    "# trace_loss = 0.5*(cp.trace((S-L)*sigma_O*(S-L))) - cp.trace((S-L))\n",
    "# objective = cp.Minimize(trace_loss + reg_loss)\n",
    "\n",
    "# #constraints are okay\n",
    "# constraint_diff = [S-L >> 0]\n",
    "# constraints = constraint_diff\n",
    "\n",
    "# prob = cp.Problem(objective, constraints)\n",
    "# result = prob.solve(verbose=True)\n",
    "# opt_error = prob.value\n",
    "\n",
    "# J_hat = S.value"
   ]
  },
  {
   "cell_type": "code",
   "execution_count": 27,
   "metadata": {},
   "outputs": [
    {
     "name": "stdout",
     "output_type": "stream",
     "text": [
      "1.7666088325145024\n"
     ]
    }
   ],
   "source": [
    "S = np.random.rand(10,10)\n",
    "L = np.random.rand(10,10)\n",
    "val1 = 0.5*(np.trace((S-L)*sigma_O*(S-L))) - np.trace((S-L))\n",
    "print (val1)"
   ]
  },
  {
   "cell_type": "code",
   "execution_count": 28,
   "metadata": {},
   "outputs": [
    {
     "name": "stdout",
     "output_type": "stream",
     "text": [
      "1.7666088325145024\n"
     ]
    }
   ],
   "source": [
    "R = S-L\n",
    "O = 1/2*(sigma_O+sigma_O.T)\n",
    "O_root = np.real(sp.linalg.sqrtm(O))\n",
    "\n",
    "val = 0.5*(np.linalg.norm(R*O_root, 'fro')**2) - np.trace(R)\n",
    "print (val)"
   ]
  },
  {
   "cell_type": "code",
   "execution_count": null,
   "metadata": {},
   "outputs": [],
   "source": []
  }
 ],
 "metadata": {
  "kernelspec": {
   "display_name": "Python [conda env:metal]",
   "language": "python",
   "name": "conda-env-metal-py"
  },
  "language_info": {
   "codemirror_mode": {
    "name": "ipython",
    "version": 3
   },
   "file_extension": ".py",
   "mimetype": "text/x-python",
   "name": "python",
   "nbconvert_exporter": "python",
   "pygments_lexer": "ipython3",
   "version": "3.6.6"
  }
 },
 "nbformat": 4,
 "nbformat_minor": 2
}
