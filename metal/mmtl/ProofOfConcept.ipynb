{
 "cells": [
  {
   "cell_type": "code",
   "execution_count": 1,
   "metadata": {},
   "outputs": [
    {
     "name": "stdout",
     "output_type": "stream",
     "text": [
      "Better speed can be achieved with apex installed from https://www.github.com/nvidia/apex.\n",
      "Loading COLA Dataset\n"
     ]
    },
    {
     "name": "stderr",
     "output_type": "stream",
     "text": [
      "100%|██████████| 1000/1000 [00:00<00:00, 4158.57it/s]\n",
      "100%|██████████| 1000/1000 [00:00<00:00, 4295.54it/s]\n"
     ]
    },
    {
     "name": "stdout",
     "output_type": "stream",
     "text": [
      "Loading SST2 Dataset\n"
     ]
    },
    {
     "name": "stderr",
     "output_type": "stream",
     "text": [
      "100%|██████████| 1000/1000 [00:00<00:00, 3328.85it/s]\n",
      "100%|██████████| 872/872 [00:00<00:00, 2013.03it/s]\n"
     ]
    },
    {
     "name": "stdout",
     "output_type": "stream",
     "text": [
      "Loading MNLI Dataset\n"
     ]
    },
    {
     "name": "stderr",
     "output_type": "stream",
     "text": [
      "100%|██████████| 1000/1000 [00:00<00:00, 1321.87it/s]\n",
      "100%|██████████| 1000/1000 [00:00<00:00, 1384.14it/s]\n"
     ]
    },
    {
     "name": "stdout",
     "output_type": "stream",
     "text": [
      "Loading RTE Dataset\n"
     ]
    },
    {
     "name": "stderr",
     "output_type": "stream",
     "text": [
      "100%|██████████| 1000/1000 [00:01<00:00, 672.19it/s]\n",
      "100%|██████████| 277/277 [00:00<00:00, 703.46it/s]\n"
     ]
    },
    {
     "name": "stdout",
     "output_type": "stream",
     "text": [
      "Loading WNLI Dataset\n"
     ]
    },
    {
     "name": "stderr",
     "output_type": "stream",
     "text": [
      "100%|██████████| 635/635 [00:00<00:00, 1278.61it/s]\n",
      "100%|██████████| 71/71 [00:00<00:00, 909.92it/s]\n"
     ]
    },
    {
     "name": "stdout",
     "output_type": "stream",
     "text": [
      "Loading QQP Dataset\n"
     ]
    },
    {
     "name": "stderr",
     "output_type": "stream",
     "text": [
      "100%|██████████| 1000/1000 [00:00<00:00, 1944.23it/s]\n",
      "100%|██████████| 1000/1000 [00:00<00:00, 1745.63it/s]\n"
     ]
    },
    {
     "name": "stdout",
     "output_type": "stream",
     "text": [
      "Loading MRPC Dataset\n"
     ]
    },
    {
     "name": "stderr",
     "output_type": "stream",
     "text": [
      "100%|██████████| 1000/1000 [00:00<00:00, 1057.76it/s]\n",
      "100%|██████████| 1000/1000 [00:01<00:00, 907.49it/s]\n"
     ]
    },
    {
     "name": "stdout",
     "output_type": "stream",
     "text": [
      "Loading STSB Dataset\n"
     ]
    },
    {
     "name": "stderr",
     "output_type": "stream",
     "text": [
      "100%|██████████| 1000/1000 [00:00<00:00, 2720.66it/s]\n",
      "100%|██████████| 1000/1000 [00:00<00:00, 1684.78it/s]\n"
     ]
    }
   ],
   "source": [
    "from metal.mmtl.BERT_tasks import create_task\n",
    "\n",
    "tasks = []\n",
    "for task_name in [\n",
    "    \"COLA\", \n",
    "    \"SST2\", \n",
    "    \"MNLI\",\n",
    "    \"RTE\",\n",
    "    \"WNLI\",\n",
    "    \"QQP\",\n",
    "    \"MRPC\",\n",
    "    \"STSB\",\n",
    "#     \"QNLI\"\n",
    "]:\n",
    "    tasks.append(create_task(\n",
    "        task_name, \n",
    "        \n",
    "        # debug mode\n",
    "        max_datapoints=1000,\n",
    "        dl_kwargs={\n",
    "            \"batch_size\": 1\n",
    "        }\n",
    "    ))"
   ]
  },
  {
   "cell_type": "code",
   "execution_count": null,
   "metadata": {},
   "outputs": [
    {
     "name": "stdout",
     "output_type": "stream",
     "text": [
      "Using GPU...\n"
     ]
    }
   ],
   "source": [
    "from metal.mmtl.metal_model import MetalModel\n",
    "from metal.mmtl.trainer import MultitaskTrainer\n",
    "\n",
    "model = MetalModel(tasks)\n",
    "trainer = MultitaskTrainer()"
   ]
  },
  {
   "cell_type": "code",
   "execution_count": null,
   "metadata": {},
   "outputs": [],
   "source": [
    "trainer.train_model(\n",
    "    model, \n",
    "    tasks,\n",
    "    checkpoint_metric=\"train/loss\",\n",
    "    n_epochs=1,\n",
    "    progress_bar=True\n",
    ")"
   ]
  },
  {
   "cell_type": "code",
   "execution_count": null,
   "metadata": {},
   "outputs": [],
   "source": [
    "print(\"WE WIN!\")"
   ]
  },
  {
   "cell_type": "code",
   "execution_count": null,
   "metadata": {},
   "outputs": [],
   "source": []
  }
 ],
 "metadata": {
  "kernelspec": {
   "display_name": "Python 3",
   "language": "python",
   "name": "python3"
  },
  "language_info": {
   "codemirror_mode": {
    "name": "ipython",
    "version": 3
   },
   "file_extension": ".py",
   "mimetype": "text/x-python",
   "name": "python",
   "nbconvert_exporter": "python",
   "pygments_lexer": "ipython3",
   "version": "3.6.7"
  }
 },
 "nbformat": 4,
 "nbformat_minor": 2
}
