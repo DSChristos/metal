{
 "cells": [
  {
   "cell_type": "code",
   "execution_count": null,
   "metadata": {},
   "outputs": [],
   "source": [
    "from metal.mmtl.BERT_tasks import create_task\n",
    "\n",
    "tasks = []\n",
    "for task_name in [\n",
    "    \"COLA\", \"SST2\", \"MNLI\", \"RTE\", \"WNLI\", \n",
    "    \"QQP\", \"MRPC\", \"STSB\", \"QNLI\", \"SNLI\"\n",
    "]:\n",
    "    tasks.append(create_task(task_name))"
   ]
  },
  {
   "cell_type": "code",
   "execution_count": null,
   "metadata": {},
   "outputs": [],
   "source": [
    "from metal.mmtl.metal_model import MetalModel\n",
    "from metal.mmtl.trainer import MultitaskTrainer\n",
    "\n",
    "model = MetalModel(tasks)\n",
    "trainer = MultitaskTrainer()"
   ]
  },
  {
   "cell_type": "code",
   "execution_count": null,
   "metadata": {},
   "outputs": [],
   "source": [
    "trainer.train_model(model, tasks)"
   ]
  }
 ],
 "metadata": {
  "kernelspec": {
   "display_name": "Python [conda env:metal]",
   "language": "python",
   "name": "conda-env-metal-py"
  },
  "language_info": {
   "codemirror_mode": {
    "name": "ipython",
    "version": 3
   },
   "file_extension": ".py",
   "mimetype": "text/x-python",
   "name": "python",
   "nbconvert_exporter": "python",
   "pygments_lexer": "ipython3",
   "version": "3.6.8"
  }
 },
 "nbformat": 4,
 "nbformat_minor": 2
}
