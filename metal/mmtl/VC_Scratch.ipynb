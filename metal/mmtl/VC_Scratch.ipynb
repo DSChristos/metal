{
 "cells": [
  {
   "cell_type": "code",
   "execution_count": 1,
   "metadata": {},
   "outputs": [],
   "source": [
    "%load_ext autoreload\n",
    "%autoreload 2"
   ]
  },
  {
   "cell_type": "code",
   "execution_count": 2,
   "metadata": {},
   "outputs": [
    {
     "name": "stdout",
     "output_type": "stream",
     "text": [
      "Better speed can be achieved with apex installed from https://www.github.com/nvidia/apex.\n"
     ]
    }
   ],
   "source": [
    "import torch\n",
    "from torch.utils.data import DataLoader, TensorDataset, Dataset\n",
    "import numpy as np\n",
    "import pandas as pd\n",
    "import metal\n",
    "import os\n",
    "from pytorch_pretrained_bert import BertTokenizer, BertModel, BertForMaskedLM"
   ]
  },
  {
   "cell_type": "code",
   "execution_count": 3,
   "metadata": {},
   "outputs": [],
   "source": [
    "from dataset import BERTDataset"
   ]
  },
  {
   "cell_type": "code",
   "execution_count": 4,
   "metadata": {},
   "outputs": [
    {
     "name": "stderr",
     "output_type": "stream",
     "text": [
      "100%|██████████| 5749/5749 [00:02<00:00, 2099.17it/s]\n",
      "100%|██████████| 1500/1500 [00:00<00:00, 1598.94it/s]\n"
     ]
    }
   ],
   "source": [
    "model = 'bert-base-uncased' # also try bert-base-multilingual-cased (recommended)\n",
    "src_path = os.path.join(os.environ['GLUEDATA'], 'STS-B/{}.tsv')\n",
    "dataloaders = {}\n",
    "for split in ['train', 'dev']:\n",
    "    dataset = BERTDataset(\n",
    "        src_path.format(split),\n",
    "        sent1_idx=7,\n",
    "        sent2_idx=8,\n",
    "        label_idx=9,\n",
    "        skip_rows=1,\n",
    "        label_fn=lambda x: float(x)/5, # labels are scores [1, 2, 3, 4, 5]\n",
    "        max_len=512,\n",
    "        label_type=float\n",
    "    )\n",
    "\n",
    "    shuffle = True if split == \"train\" else False\n",
    "    dataloaders[split] = dataset.get_dataloader(batch_size=32, shuffle=shuffle)"
   ]
  },
  {
   "cell_type": "code",
   "execution_count": null,
   "metadata": {},
   "outputs": [],
   "source": [
    "import torch.nn as nn\n",
    "from metal.end_model import EndModel\n",
    "\n",
    "class BertEncoder(nn.Module):\n",
    "    def __init__(self):\n",
    "        super(BertEncoder, self).__init__()\n",
    "        self.bert_model = BertModel.from_pretrained('bert-base-uncased')\n",
    "\n",
    "    def forward(self, data):\n",
    "        tokens, segments, mask = data\n",
    "        # TODO: check if we should return all layers or just last hidden representation \n",
    "        _, hidden_layer = self.bert_model(tokens, segments, mask)\n",
    "        return hidden_layer\n",
    "\n",
    "class STSBHead(EndModel):     \n",
    "    def __init__(self, output_dims, **kwargs):\n",
    "        super(STSBHead, self).__init__(output_dims, **kwargs)\n",
    "        self.criteria = nn.modules.loss.MSELoss()\n",
    "        \n",
    "    @torch.no_grad()\n",
    "    def predict_proba(self, data):\n",
    "        return torch.sigmoid(self.forward(data))\n",
    "\n",
    "    def _loss(self, data, Y):\n",
    "        output = self.forward(data)\n",
    "        prediction = torch.sigmoid(output)\n",
    "        criteria = self.criteria.to(self.config[\"device\"])\n",
    "        loss = criteria(prediction, Y)\n",
    "\n",
    "        return loss\n",
    "\n",
    "    def _get_loss_fn(self):\n",
    "        # This self.preprocess_Y allows us to not handle preprocessing\n",
    "        # in a custom dataloader, but decreases speed a bit\n",
    "        return self._loss"
   ]
  },
  {
   "cell_type": "code",
   "execution_count": null,
   "metadata": {},
   "outputs": [],
   "source": [
    "encoder_module = BertEncoder()\n",
    "end_model = STSBHead(\n",
    "    [768, 1],\n",
    "    input_module=encoder_module,\n",
    "    seed=123,\n",
    "    skip_head=False,\n",
    "    input_relu=False,\n",
    "    input_batchnorm=False,\n",
    "    verbose=False,\n",
    "    device=torch.device(\"cuda\")\n",
    ")"
   ]
  },
  {
   "cell_type": "code",
   "execution_count": null,
   "metadata": {},
   "outputs": [],
   "source": [
    "from metal.utils import place_on_gpu\n",
    "from scipy.stats import spearmanr, pearsonr\n",
    "\n",
    "def stsb_metrics(model, dataloader):\n",
    "    predictions = []\n",
    "    targets = []\n",
    "    for batch in dataloader:\n",
    "        \n",
    "        # HACK -- we won't need to do this moving forward\n",
    "        batch = place_on_gpu(batch)\n",
    "        \n",
    "        data, Y = batch\n",
    "        \n",
    "        Y = Y.detach().cpu().numpy()\n",
    "\n",
    "        output = model.forward(data)\n",
    "        prediction = torch.sigmoid(output)\n",
    "        prediction = prediction.detach().cpu().numpy()\n",
    "#         import pdb; pdb.set_trace()\n",
    "\n",
    "        targets.append(Y)\n",
    "        predictions.append(prediction)\n",
    "    \n",
    "    targets = np.concatenate(targets)    \n",
    "    predictions = np.concatenate(predictions)\n",
    "    metrics = {\n",
    "        \"spearman_corr\": spearman_corr(targets, predictions),\n",
    "        \"pearson_corr\": pearson_corr(targets, predictions)\n",
    "    }\n",
    "    return metrics\n",
    "\n",
    "        \n",
    "def spearman_corr(gold, outputs):\n",
    "    corr, p_value = spearmanr(gold, outputs)\n",
    "    return corr\n",
    "\n",
    "def pearson_corr(gold, outputs):\n",
    "    corr, p_value = pearsonr(gold, outputs)\n",
    "    return corr"
   ]
  },
  {
   "cell_type": "code",
   "execution_count": null,
   "metadata": {},
   "outputs": [
    {
     "name": "stdout",
     "output_type": "stream",
     "text": [
      "Using GPU...\n",
      "[1 bat (0.00 epo)]: TRAIN:[loss=0.089, spearman_corr=0.177, pearson_corr=[0.18246996]]\n",
      "Saving model at iteration 1 with best score 0.089\n",
      "[2 bat (0.00 epo)]: TRAIN:[loss=0.106, spearman_corr=0.300, pearson_corr=[0.36197945]]\n",
      "[3 bat (0.00 epo)]: TRAIN:[loss=0.079, spearman_corr=0.274, pearson_corr=[0.30163735]]\n",
      "Saving model at iteration 3 with best score 0.079\n",
      "[4 bat (0.00 epo)]: TRAIN:[loss=0.086, spearman_corr=0.386, pearson_corr=[0.46158716]]\n",
      "[5 bat (0.00 epo)]: TRAIN:[loss=0.075, spearman_corr=0.478, pearson_corr=[0.5733305]]\n",
      "Saving model at iteration 5 with best score 0.075\n",
      "[6 bat (0.00 epo)]: TRAIN:[loss=0.066, spearman_corr=0.541, pearson_corr=[0.6170989]]\n",
      "Saving model at iteration 6 with best score 0.066\n",
      "[7 bat (0.00 epo)]: TRAIN:[loss=0.079, spearman_corr=0.564, pearson_corr=[0.6373296]]\n"
     ]
    }
   ],
   "source": [
    "end_model.train_model(dataloaders['train'], valid_data=dataloaders['dev'],\n",
    "                      lr=0.0001, l2=0,\n",
    "                      n_epochs=1,\n",
    "                      log_train_metrics_func=[stsb_metrics],\n",
    "                      log_train_metrics=[\"spearman_corr\", \"pearson_corr\"],\n",
    "                      log_train_every=50,\n",
    "                      log_valid_metrics_func=[stsb_metrics],\n",
    "                      log_valid_metrics=[\"spearman_corr\", \"pearson_corr\"],\n",
    "                      log_valid_every=50,\n",
    "                      checkpoint_metric=\"train/loss\",#'spearman_corr',\n",
    "                      log_unit=\"batches\",\n",
    "                      checkpoint_metric_mode='min',\n",
    "                      verbose=True, progress_bar=True\n",
    "                    )"
   ]
  },
  {
   "cell_type": "code",
   "execution_count": null,
   "metadata": {},
   "outputs": [],
   "source": [
    "stsb_metrics(end_model, dataloaders['dev'])"
   ]
  },
  {
   "cell_type": "code",
   "execution_count": null,
   "metadata": {},
   "outputs": [],
   "source": []
  }
 ],
 "metadata": {
  "kernelspec": {
   "display_name": "Python 3",
   "language": "python",
   "name": "python3"
  },
  "language_info": {
   "codemirror_mode": {
    "name": "ipython",
    "version": 3
   },
   "file_extension": ".py",
   "mimetype": "text/x-python",
   "name": "python",
   "nbconvert_exporter": "python",
   "pygments_lexer": "ipython3",
   "version": "3.6.7"
  }
 },
 "nbformat": 4,
 "nbformat_minor": 2
}
