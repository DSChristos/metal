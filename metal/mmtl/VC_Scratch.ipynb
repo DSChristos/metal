{
 "cells": [
  {
   "cell_type": "markdown",
   "metadata": {},
   "source": [
    "## Working, but ugly :("
   ]
  },
  {
   "cell_type": "code",
   "execution_count": 1,
   "metadata": {},
   "outputs": [],
   "source": [
    "%load_ext autoreload\n",
    "%autoreload 2"
   ]
  },
  {
   "cell_type": "code",
   "execution_count": 4,
   "metadata": {},
   "outputs": [],
   "source": [
    "import torch\n",
    "from torch.utils.data import DataLoader, TensorDataset, Dataset\n",
    "import numpy as np\n",
    "import pandas as pd\n",
    "import metal\n",
    "import os\n",
    "from pytorch_pretrained_bert import BertTokenizer, BertModel, BertForMaskedLM"
   ]
  },
  {
   "cell_type": "code",
   "execution_count": 5,
   "metadata": {},
   "outputs": [],
   "source": [
    "class BertDataset(Dataset):\n",
    "    def __init__(self, src_path, tokenizer):\n",
    "        super(BertDataset, self).__init__()\n",
    "        self.src_path = src_path\n",
    "        self.tokenizer = tokenizer\n",
    "        self.raw_data = None\n",
    "        self.tokens = None\n",
    "        self.segments = None\n",
    "        self.labels = None\n",
    "        \n",
    "    def __getitem__(self, index):\n",
    "        return (self.tokens[index], self.segments[index]), self.labels[index]\n",
    "\n",
    "    def __len__(self):\n",
    "        return len(self.tokens)\n",
    "\n",
    "    def load_data(self):\n",
    "        self.raw_data = pd.read_csv(\n",
    "            self.src_path, sep='\\t', header=0,\n",
    "            index_col=0, error_bad_lines=False, warn_bad_lines=False\n",
    "        )\n",
    "        if 'label' not in self.raw_data.columns:\n",
    "            # add dummy column to match data input format\n",
    "            self.raw_data['label'] = ['entailment'] * self.__len__()\n",
    "    \n",
    "    def preprocess_data(self):\n",
    "        raise NotImplementedError"
   ]
  },
  {
   "cell_type": "code",
   "execution_count": 6,
   "metadata": {},
   "outputs": [],
   "source": [
    "import codecs\n",
    "def load_tsv(data_file, \n",
    "             sent1_idx=7, \n",
    "             sent2_idx=8, \n",
    "             label_idx=9, \n",
    "             skip_rows=1, \n",
    "             delimiter='\\t', \n",
    "             label_fn=lambda x: float(x)/5,\n",
    "            ):\n",
    "    \"\"\" Loads and tokenizes .tsv dataset into BERT-friendly sentences / segments.\n",
    "    \n",
    "    Args:\n",
    "        data_file: path to .tsv file\n",
    "        sent1_idx: tsv index for sentence1\n",
    "        sent2_idx: tsv index for sentence2\n",
    "        label_idx: tsv index for label field\n",
    "        skip_rows: number of rows to skip (i.e. header rows) in .tsv\n",
    "        delimiter: delimiter between columns (likely '\\t') for tab-separated-values\n",
    "        label_fn: function mapping from raw labels to desired format\n",
    "    Returns:\n",
    "        sentences: list of indexed sentences\n",
    "        semgnets: list of 0/1 segment maps\n",
    "    \"\"\"\n",
    "    tokenizer = BertTokenizer.from_pretrained('bert-base-uncased')\n",
    "\n",
    "    tokens, segments, labels = [], [], []\n",
    "    with codecs.open(data_file, 'r', 'utf-8') as data_fh:\n",
    "\n",
    "        # skip \"header\" rows\n",
    "        for _ in range(skip_rows):\n",
    "            data_fh.readline()\n",
    "            \n",
    "        # process data rows\n",
    "        for row_idx, row in enumerate(data_fh):\n",
    "            row = row.strip().split(delimiter)\n",
    "            \n",
    "            # tokenize and convert each sentence to ids\n",
    "            sent1_tokenized = tokenizer.tokenize(row[sent1_idx])\n",
    "            sent1_ids = tokenizer.convert_tokens_to_ids(sent1_tokenized)\n",
    "\n",
    "            sent2_tokenized = tokenizer.tokenize(row[sent2_idx])\n",
    "            sent2_ids = tokenizer.convert_tokens_to_ids(sent2_tokenized)\n",
    "            \n",
    "            # combine sentence pair\n",
    "            sent = sent2_ids + sent2_ids\n",
    "            \n",
    "            # sentence-pair segments\n",
    "            seg = [0]*len(sent1_tokenized) + [1]*len(sent2_tokenized)\n",
    "            \n",
    "            # process labels\n",
    "            try:\n",
    "                label = label_fn(row[label_idx])\n",
    "            except:\n",
    "                import pdb; pdb.set_trace()\n",
    "            \n",
    "            tokens.append(sent)\n",
    "            segments.append(seg)\n",
    "            labels.append(label)\n",
    "            \n",
    "    return tokens, segments, labels"
   ]
  },
  {
   "cell_type": "code",
   "execution_count": 7,
   "metadata": {},
   "outputs": [],
   "source": [
    "class STSBDataset(BertDataset):\n",
    "    def __init__(self, src_path, tokenizer):\n",
    "        super(STSBDataset, self).__init__(src_path, tokenizer)\n",
    "\n",
    "    def preprocess_data(self):\n",
    "        # TODO: fix load_tsv abstraction\n",
    "        self.tokens, self.segments, self.labels = load_tsv(self.src_path)\n"
   ]
  },
  {
   "cell_type": "code",
   "execution_count": 8,
   "metadata": {},
   "outputs": [],
   "source": [
    "def collate_fn(batch, max_len=-1):\n",
    "    batch_size = len(batch)\n",
    "\n",
    "    max_sent_len = int(np.max([len(x) for x in batch]))\n",
    "    if max_len > 0 and max_len < max_sent_len:\n",
    "        max_sent_len = max_len\n",
    "\n",
    "    idx_matrix = np.zeros((batch_size, max_sent_len), dtype=np.int)\n",
    "    seg_matrix = np.zeros((batch_size, max_sent_len), dtype=np.float32)\n",
    "    label_matrix = np.zeros((batch_size, 1)) # TODO: does this work on other tasks?\n",
    "\n",
    "    for idx1 in np.arange(len(batch)):\n",
    "        (tokens, segments), labels = batch[idx1]\n",
    "        for idx2 in np.arange(len(tokens)):\n",
    "            if idx2 >= max_sent_len:\n",
    "                break\n",
    "            idx_matrix[idx1, idx2] = tokens[idx2]\n",
    "            seg_matrix[idx1, idx2] = segments[idx2]\n",
    "\n",
    "        label_matrix[idx1] = labels\n",
    "\n",
    "    idx_matrix = torch.LongTensor(idx_matrix)\n",
    "    seg_matrix = torch.LongTensor(seg_matrix)\n",
    "    mask_matrix = torch.eq(idx_matrix.data, -1).long()\n",
    "    label_matrix = torch.FloatTensor(label_matrix)\n",
    "    \n",
    "    return (idx_matrix, seg_matrix, mask_matrix), label_matrix"
   ]
  },
  {
   "cell_type": "code",
   "execution_count": 14,
   "metadata": {},
   "outputs": [
    {
     "name": "stderr",
     "output_type": "stream",
     "text": [
      "02/06/2019 19:10:11 - INFO - pytorch_pretrained_bert.tokenization -   loading vocabulary file https://s3.amazonaws.com/models.huggingface.co/bert/bert-base-uncased-vocab.txt from cache at /afs/cs.stanford.edu/u/vschen/.pytorch_pretrained_bert/26bc1ad6c0ac742e9b52263248f6d0f00068293b33709fae12320c0e35ccfbbb.542ce4285a40d23a559526243235df47c5f75c197f04f37d1a0c124c32c9a084\n",
      "02/06/2019 19:10:12 - INFO - pytorch_pretrained_bert.tokenization -   loading vocabulary file https://s3.amazonaws.com/models.huggingface.co/bert/bert-base-uncased-vocab.txt from cache at /afs/cs.stanford.edu/u/vschen/.pytorch_pretrained_bert/26bc1ad6c0ac742e9b52263248f6d0f00068293b33709fae12320c0e35ccfbbb.542ce4285a40d23a559526243235df47c5f75c197f04f37d1a0c124c32c9a084\n",
      "02/06/2019 19:10:14 - INFO - pytorch_pretrained_bert.tokenization -   loading vocabulary file https://s3.amazonaws.com/models.huggingface.co/bert/bert-base-uncased-vocab.txt from cache at /afs/cs.stanford.edu/u/vschen/.pytorch_pretrained_bert/26bc1ad6c0ac742e9b52263248f6d0f00068293b33709fae12320c0e35ccfbbb.542ce4285a40d23a559526243235df47c5f75c197f04f37d1a0c124c32c9a084\n"
     ]
    }
   ],
   "source": [
    "model = 'bert-base-uncased' # also try bert-base-multilingual-cased (recommended)\n",
    "tokenizer = BertTokenizer.from_pretrained('bert-base-uncased', do_lower_case=True)\n",
    "src_path = os.path.join(os.environ['GLUEDATA'], 'STS-B/{}.tsv')\n",
    "dataloaders = {}\n",
    "for split in ['train', 'dev']:\n",
    "    dataset = STSBDataset(src_path.format(split), tokenizer)\n",
    "#     dataset.load_data() # TODO: make this work with dataloader\n",
    "    dataset.preprocess_data()\n",
    "    dataloaders[split] = DataLoader(dataset, collate_fn=collate_fn, batch_size=32)"
   ]
  },
  {
   "cell_type": "code",
   "execution_count": 15,
   "metadata": {},
   "outputs": [],
   "source": [
    "import torch.nn as nn\n",
    "import torch.nn.functional as F\n",
    "from metal.end_model import EndModel\n",
    "\n",
    "class BertEncoder(nn.Module):\n",
    "    def __init__(self):\n",
    "        super(BertEncoder, self).__init__()\n",
    "        self.bert_model = BertModel.from_pretrained('bert-base-uncased')\n",
    "        \n",
    "    def forward(self, data):\n",
    "        tokens, segments, mask = data\n",
    "        # TODO: check if we should return all layers or just last hidden representation \n",
    "        _, hidden_layer = self.bert_model(tokens, segments, mask)\n",
    "        return hidden_layer\n",
    "\n",
    "class STSBHead(EndModel):     \n",
    "    def __init__(self, output_dims, **kwargs):\n",
    "        super(STSBHead, self).__init__(output_dims, **kwargs)\n",
    "        self.criteria = nn.modules.loss.MSELoss()\n",
    "\n",
    "    def _loss(self, data, Y):\n",
    "        output = self.forward(data)\n",
    "        prediction = F.sigmoid(output)\n",
    "        return self.criteria(prediction, Y)\n",
    "\n",
    "    def _get_loss_fn(self):\n",
    "        # This self.preprocess_Y allows us to not handle preprocessing\n",
    "        # in a custom dataloader, but decreases speed a bit\n",
    "        return self._loss"
   ]
  },
  {
   "cell_type": "code",
   "execution_count": 16,
   "metadata": {},
   "outputs": [
    {
     "name": "stderr",
     "output_type": "stream",
     "text": [
      "02/06/2019 19:10:17 - INFO - pytorch_pretrained_bert.modeling -   loading archive file https://s3.amazonaws.com/models.huggingface.co/bert/bert-base-uncased.tar.gz from cache at /afs/cs.stanford.edu/u/vschen/.pytorch_pretrained_bert/9c41111e2de84547a463fd39217199738d1e3deb72d4fec4399e6e241983c6f0.ae3cef932725ca7a30cdcb93fc6e09150a55e2a130ec7af63975a16c153ae2ba\n",
      "02/06/2019 19:10:17 - INFO - pytorch_pretrained_bert.modeling -   extracting archive file /afs/cs.stanford.edu/u/vschen/.pytorch_pretrained_bert/9c41111e2de84547a463fd39217199738d1e3deb72d4fec4399e6e241983c6f0.ae3cef932725ca7a30cdcb93fc6e09150a55e2a130ec7af63975a16c153ae2ba to temp dir /tmp/tmp0o0hz3vy\n",
      "02/06/2019 19:10:21 - INFO - pytorch_pretrained_bert.modeling -   Model config {\n",
      "  \"attention_probs_dropout_prob\": 0.1,\n",
      "  \"hidden_act\": \"gelu\",\n",
      "  \"hidden_dropout_prob\": 0.1,\n",
      "  \"hidden_size\": 768,\n",
      "  \"initializer_range\": 0.02,\n",
      "  \"intermediate_size\": 3072,\n",
      "  \"max_position_embeddings\": 512,\n",
      "  \"num_attention_heads\": 12,\n",
      "  \"num_hidden_layers\": 12,\n",
      "  \"type_vocab_size\": 2,\n",
      "  \"vocab_size\": 30522\n",
      "}\n",
      "\n"
     ]
    }
   ],
   "source": [
    "encoder_module = BertEncoder()\n",
    "end_model = STSBHead(\n",
    "    [768, 1],\n",
    "    input_module=encoder_module,\n",
    "    seed=123,\n",
    "    use_cuda=False,\n",
    "    skip_head=False,\n",
    "    input_relu=False,\n",
    "    input_batchnorm=False,\n",
    "    verbose=False\n",
    ")"
   ]
  },
  {
   "cell_type": "code",
   "execution_count": null,
   "metadata": {},
   "outputs": [],
   "source": [
    "end_model.train_model(dataloaders['train'], valid_data=dataloaders['dev'],\n",
    "                      lr=0.01, l2=0.01, \n",
    "                      batch_size=256, \n",
    "                      n_epochs=5, checkpoint_metric='valid/loss',\n",
    "                      checkpoint_metric_mode='max',\n",
    "                      verbose=True, progress_bar=True\n",
    "                    )"
   ]
  },
  {
   "cell_type": "code",
   "execution_count": null,
   "metadata": {},
   "outputs": [],
   "source": []
  }
 ],
 "metadata": {
  "kernelspec": {
   "display_name": "Python 3",
   "language": "python",
   "name": "python3"
  },
  "language_info": {
   "codemirror_mode": {
    "name": "ipython",
    "version": 3
   },
   "file_extension": ".py",
   "mimetype": "text/x-python",
   "name": "python",
   "nbconvert_exporter": "python",
   "pygments_lexer": "ipython3",
   "version": "3.6.7"
  }
 },
 "nbformat": 4,
 "nbformat_minor": 2
}
