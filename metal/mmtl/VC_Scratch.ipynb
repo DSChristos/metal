{
 "cells": [
  {
   "cell_type": "code",
   "execution_count": 1,
   "metadata": {},
   "outputs": [],
   "source": [
    "%load_ext autoreload\n",
    "%autoreload 2"
   ]
  },
  {
   "cell_type": "code",
   "execution_count": 2,
   "metadata": {},
   "outputs": [
    {
     "name": "stdout",
     "output_type": "stream",
     "text": [
      "Better speed can be achieved with apex installed from https://www.github.com/nvidia/apex.\n"
     ]
    }
   ],
   "source": [
    "import torch\n",
    "from torch.utils.data import DataLoader, TensorDataset, Dataset\n",
    "import numpy as np\n",
    "import pandas as pd\n",
    "import metal\n",
    "import os\n",
    "from pytorch_pretrained_bert import BertTokenizer, BertModel, BertForMaskedLM"
   ]
  },
  {
   "cell_type": "code",
   "execution_count": 3,
   "metadata": {},
   "outputs": [],
   "source": [
    "from dataset import STSBDataset"
   ]
  },
  {
   "cell_type": "code",
   "execution_count": 4,
   "metadata": {},
   "outputs": [
    {
     "name": "stdout",
     "output_type": "stream",
     "text": [
      "Loading STSB\n"
     ]
    },
    {
     "name": "stderr",
     "output_type": "stream",
     "text": [
      "100%|██████████| 5749/5749 [00:02<00:00, 2505.32it/s]\n",
      "100%|██████████| 1500/1500 [00:00<00:00, 1608.65it/s]\n"
     ]
    }
   ],
   "source": [
    "from BERT_tasks import create_task\n",
    "tasks = [create_task('STSB')]"
   ]
  },
  {
   "cell_type": "code",
   "execution_count": 5,
   "metadata": {},
   "outputs": [],
   "source": [
    "tasks[0].data_loaders['train'] = tasks[0].data_loaders['valid']"
   ]
  },
  {
   "cell_type": "code",
   "execution_count": null,
   "metadata": {},
   "outputs": [
    {
     "data": {
      "application/vnd.jupyter.widget-view+json": {
       "model_id": "89c8735afbf24274903ee99cef614c5b",
       "version_major": 2,
       "version_minor": 0
      },
      "text/plain": [
       "HBox(children=(IntProgress(value=0, max=575), HTML(value='')))"
      ]
     },
     "metadata": {},
     "output_type": "display_data"
    },
    {
     "name": "stdout",
     "output_type": "stream",
     "text": [
      "[ (0.03 epo)]: TRAIN:[loss=0.183]\n",
      "[ (0.05 epo)]: TRAIN:[loss=0.109] VALID:[STSB/pearson_corr=0.0059913634322583675, STSB/spearman_corr=0.006]\n",
      "Saving model at iteration 100 with best (max) score 0.006\n",
      "[ (0.08 epo)]: TRAIN:[loss=0.114]\n",
      "[ (0.10 epo)]: TRAIN:[loss=0.109] VALID:[STSB/pearson_corr=0.0016644200077280402, STSB/spearman_corr=-0.021]\n",
      "[ (0.13 epo)]: TRAIN:[loss=0.101]\n",
      "[ (0.16 epo)]: TRAIN:[loss=0.120] VALID:[STSB/pearson_corr=-0.009348052553832531, STSB/spearman_corr=0.007]\n",
      "Saving model at iteration 300 with best (max) score 0.007\n",
      "[ (0.18 epo)]: TRAIN:[loss=0.134]\n",
      "[ (0.21 epo)]: TRAIN:[loss=0.138] VALID:[STSB/pearson_corr=0.0012311202008277178, STSB/spearman_corr=0.024]\n",
      "Saving model at iteration 400 with best (max) score 0.024\n",
      "[ (0.23 epo)]: TRAIN:[loss=0.095]\n",
      "[ (0.26 epo)]: TRAIN:[loss=0.127] VALID:[STSB/pearson_corr=-0.010563547722995281, STSB/spearman_corr=0.025]\n",
      "Saving model at iteration 500 with best (max) score 0.025\n",
      "[ (0.29 epo)]: TRAIN:[loss=0.123]\n"
     ]
    },
    {
     "data": {
      "application/vnd.jupyter.widget-view+json": {
       "model_id": "c7ac5d9068044bd48024edcb91f3cc37",
       "version_major": 2,
       "version_minor": 0
      },
      "text/plain": [
       "HBox(children=(IntProgress(value=0, max=575), HTML(value='')))"
      ]
     },
     "metadata": {},
     "output_type": "display_data"
    },
    {
     "name": "stdout",
     "output_type": "stream",
     "text": [
      "[ (0.31 epo)]: TRAIN:[loss=0.105] VALID:[STSB/pearson_corr=-0.009670714847743511, STSB/spearman_corr=-0.017]\n",
      "[ (0.34 epo)]: TRAIN:[loss=0.109]\n",
      "[ (0.37 epo)]: TRAIN:[loss=0.128] VALID:[STSB/pearson_corr=0.03394509106874466, STSB/spearman_corr=0.049]\n",
      "Saving model at iteration 700 with best (max) score 0.049\n",
      "[ (0.39 epo)]: TRAIN:[loss=0.117]\n"
     ]
    }
   ],
   "source": [
    "%%time\n",
    "\n",
    "from metal.end_model import EndModel\n",
    "from metal.mmtl.metal_model import MetalModel\n",
    "from metal.mmtl.trainer import MultitaskTrainer\n",
    "\n",
    "model = MetalModel(tasks, verbose=False)\n",
    "trainer = MultitaskTrainer()\n",
    "trainer.train_model(\n",
    "    model,\n",
    "    tasks,\n",
    "    n_epochs=3,\n",
    "    lr=0.0001, l2=0,\n",
    "    progress_bar=True,\n",
    "    log_every=50,\n",
    "    score_every=100,\n",
    "    log_unit=\"batches\",\n",
    "    checkpoint_best=True,\n",
    "    checkpoint_metric=\"STSB/valid/spearman_corr\",\n",
    "    checkpoint_metric_mode=\"max\",\n",
    ")"
   ]
  },
  {
   "cell_type": "code",
   "execution_count": null,
   "metadata": {},
   "outputs": [],
   "source": []
  }
 ],
 "metadata": {
  "kernelspec": {
   "display_name": "Python 3",
   "language": "python",
   "name": "python3"
  },
  "language_info": {
   "codemirror_mode": {
    "name": "ipython",
    "version": 3
   },
   "file_extension": ".py",
   "mimetype": "text/x-python",
   "name": "python",
   "nbconvert_exporter": "python",
   "pygments_lexer": "ipython3",
   "version": "3.6.7"
  }
 },
 "nbformat": 4,
 "nbformat_minor": 2
}
