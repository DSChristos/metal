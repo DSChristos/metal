{
 "cells": [
  {
   "cell_type": "code",
   "execution_count": 1,
   "metadata": {},
   "outputs": [],
   "source": [
    "%load_ext autoreload\n",
    "%autoreload 2"
   ]
  },
  {
   "cell_type": "code",
   "execution_count": 2,
   "metadata": {},
   "outputs": [
    {
     "name": "stdout",
     "output_type": "stream",
     "text": [
      "Better speed can be achieved with apex installed from https://www.github.com/nvidia/apex.\n"
     ]
    }
   ],
   "source": [
    "import torch\n",
    "from torch.utils.data import DataLoader, TensorDataset, Dataset\n",
    "import numpy as np\n",
    "import pandas as pd\n",
    "import metal\n",
    "import os\n",
    "from pytorch_pretrained_bert import BertTokenizer, BertModel, BertForMaskedLM"
   ]
  },
  {
   "cell_type": "code",
   "execution_count": 3,
   "metadata": {},
   "outputs": [],
   "source": [
    "from dataset import STSBDataset"
   ]
  },
  {
   "cell_type": "code",
   "execution_count": 4,
   "metadata": {},
   "outputs": [
    {
     "name": "stderr",
     "output_type": "stream",
     "text": [
      "100%|██████████| 5749/5749 [00:02<00:00, 2352.44it/s]\n",
      "100%|██████████| 1500/1500 [00:00<00:00, 1661.14it/s]\n"
     ]
    },
    {
     "data": {
      "text/plain": [
       "(144, 36, 47)"
      ]
     },
     "execution_count": 4,
     "metadata": {},
     "output_type": "execute_result"
    }
   ],
   "source": [
    "train_ds = STSBDataset(split='train', bert_model='bert-base-uncased', max_len=512)\n",
    "train_dl, dev_dl = train_ds.get_dataloader(split_prop=0.8, batch_size=32)\n",
    "\n",
    "test_ds = STSBDataset(split='dev', bert_model='bert-base-uncased', max_len=512)\n",
    "test_dl = test_ds.get_dataloader(batch_size=32)\n",
    "\n",
    "dataloaders = {\n",
    "    'train': train_dl,\n",
    "    'dev': dev_dl,\n",
    "    'test': test_dl\n",
    "}\n",
    "len(train_dl), len(dev_dl), len(test_dl)"
   ]
  },
  {
   "cell_type": "code",
   "execution_count": null,
   "metadata": {},
   "outputs": [],
   "source": [
    "import torch.nn as nn\n",
    "from metal.end_model import EndModel\n",
    "\n",
    "class BertEncoder(nn.Module):\n",
    "    def __init__(self):\n",
    "        super(BertEncoder, self).__init__()\n",
    "        self.bert_model = BertModel.from_pretrained('bert-base-uncased')\n",
    "\n",
    "    def forward(self, data):\n",
    "        tokens, segments, mask = data\n",
    "        # TODO: check if we should return all layers or just last hidden representation \n",
    "        _, hidden_layer = self.bert_model(tokens, segments, mask)\n",
    "        return hidden_layer\n",
    "\n",
    "class STSBHead(EndModel):     \n",
    "    def __init__(self, output_dims, **kwargs):\n",
    "        super(STSBHead, self).__init__(output_dims, **kwargs)\n",
    "        self.criteria = nn.modules.loss.MSELoss()\n",
    "        \n",
    "    @torch.no_grad()\n",
    "    def predict_proba(self, data):\n",
    "        return torch.sigmoid(self.forward(data))\n",
    "\n",
    "    def _loss(self, data, Y):\n",
    "        output = self.forward(data)\n",
    "        prediction = torch.sigmoid(output)\n",
    "        criteria = self.criteria.to(self.config[\"device\"])\n",
    "        loss = criteria(prediction, Y)\n",
    "\n",
    "        return loss\n",
    "\n",
    "    def _get_loss_fn(self):\n",
    "        # This self.preprocess_Y allows us to not handle preprocessing\n",
    "        # in a custom dataloader, but decreases speed a bit\n",
    "        return self._loss"
   ]
  },
  {
   "cell_type": "code",
   "execution_count": null,
   "metadata": {},
   "outputs": [],
   "source": [
    "encoder_module = BertEncoder()\n",
    "end_model = STSBHead(\n",
    "    [768, 1],\n",
    "    input_module=encoder_module,\n",
    "    seed=123,\n",
    "    skip_head=False,\n",
    "    input_relu=False,\n",
    "    input_batchnorm=False,\n",
    "    verbose=False,\n",
    "    device=torch.device(\"cuda\")\n",
    ")"
   ]
  },
  {
   "cell_type": "code",
   "execution_count": null,
   "metadata": {},
   "outputs": [],
   "source": [
    "from metal.utils import place_on_gpu\n",
    "from scipy.stats import spearmanr, pearsonr\n",
    "\n",
    "def stsb_metrics(model, dataloader):\n",
    "    predictions = []\n",
    "    targets = []\n",
    "    for batch in dataloader:\n",
    "        \n",
    "        # HACK -- we won't need to do this moving forward\n",
    "        batch = place_on_gpu(batch)\n",
    "        \n",
    "        data, Y = batch\n",
    "        \n",
    "        Y = Y.detach().cpu().numpy()\n",
    "\n",
    "        output = model.forward(data)\n",
    "        prediction = torch.sigmoid(output)\n",
    "        prediction = prediction.detach().cpu().numpy()\n",
    "#         import pdb; pdb.set_trace()\n",
    "\n",
    "        targets.append(Y)\n",
    "        predictions.append(prediction)\n",
    "    \n",
    "    targets = np.concatenate(targets)    \n",
    "    predictions = np.concatenate(predictions)\n",
    "    metrics = {\n",
    "        \"spearman_corr\": spearman_corr(targets, predictions),\n",
    "        \"pearson_corr\": pearson_corr(targets, predictions)\n",
    "    }\n",
    "    return metrics\n",
    "\n",
    "        \n",
    "def spearman_corr(gold, outputs):\n",
    "    corr, p_value = spearmanr(gold, outputs)\n",
    "    return corr\n",
    "\n",
    "def pearson_corr(gold, outputs):\n",
    "    corr, p_value = pearsonr(gold, outputs)\n",
    "    return corr"
   ]
  },
  {
   "cell_type": "code",
   "execution_count": null,
   "metadata": {},
   "outputs": [
    {
     "name": "stdout",
     "output_type": "stream",
     "text": [
      "Using GPU...\n",
      "Saving model at iteration 1 with best score 0.085\n",
      "Saving model at iteration 2 with best score 0.083\n",
      "Saving model at iteration 3 with best score 0.071\n",
      "Saving model at iteration 5 with best score 0.069\n"
     ]
    }
   ],
   "source": [
    "%%time\n",
    "end_model.train_model(dataloaders['train'], valid_data=dataloaders['dev'],\n",
    "                      lr=0.0001, l2=0,\n",
    "                      n_epochs=1,\n",
    "                      log_train_metrics_func=[stsb_metrics],\n",
    "                      log_train_metrics=[\"spearman_corr\", \"pearson_corr\"],\n",
    "                      log_train_every=50,\n",
    "                      log_valid_metrics_func=[stsb_metrics],\n",
    "                      log_valid_metrics=[\"spearman_corr\", \"pearson_corr\"],\n",
    "                      log_valid_every=100,\n",
    "                      checkpoint_metric=\"train/loss\",#'spearman_corr',\n",
    "                      log_unit=\"batches\",\n",
    "                      checkpoint_metric_mode='min',\n",
    "                      verbose=True, progress_bar=True\n",
    "                    )"
   ]
  },
  {
   "cell_type": "code",
   "execution_count": null,
   "metadata": {},
   "outputs": [],
   "source": [
    "stsb_metrics(end_model, dataloaders['dev'])"
   ]
  },
  {
   "cell_type": "code",
   "execution_count": null,
   "metadata": {},
   "outputs": [],
   "source": []
  }
 ],
 "metadata": {
  "kernelspec": {
   "display_name": "Python 3",
   "language": "python",
   "name": "python3"
  },
  "language_info": {
   "codemirror_mode": {
    "name": "ipython",
    "version": 3
   },
   "file_extension": ".py",
   "mimetype": "text/x-python",
   "name": "python",
   "nbconvert_exporter": "python",
   "pygments_lexer": "ipython3",
   "version": "3.6.7"
  }
 },
 "nbformat": 4,
 "nbformat_minor": 2
}
