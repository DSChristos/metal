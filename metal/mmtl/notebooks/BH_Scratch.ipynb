{
 "cells": [
  {
   "cell_type": "code",
   "execution_count": 1,
   "metadata": {},
   "outputs": [
    {
     "name": "stdout",
     "output_type": "stream",
     "text": [
      "The autoreload extension is already loaded. To reload it, use:\n",
      "  %reload_ext autoreload\n"
     ]
    }
   ],
   "source": [
    "%load_ext autoreload\n",
    "%autoreload 2\n",
    "%matplotlib inline"
   ]
  },
  {
   "cell_type": "code",
   "execution_count": 2,
   "metadata": {},
   "outputs": [],
   "source": [
    "import torch\n",
    "from torch.utils.data import DataLoader, TensorDataset\n",
    "\n",
    "def make_dataloader(n, batch_size):\n",
    "    X = np.random.random((n, 2)) * 2 - 1\n",
    "    Y = (X[:, 0] > X[:, 1] + 0.25).astype(int) + 1\n",
    "\n",
    "    X = torch.tensor(X, dtype=torch.float)\n",
    "    Y = torch.tensor(Y, dtype=torch.long)\n",
    "\n",
    "    div1 = int(n*0.8)\n",
    "    div2 = int(n*0.9)\n",
    "    Xs = [X[:div1], X[div1:div2], X[div2:]]\n",
    "    Ys = [Y[:div1], Y[div1:div2], Y[div2:]]\n",
    "\n",
    "    dataset = TensorDataset(Xs[0], Ys[0])\n",
    "    data_loader = DataLoader(dataset, batch_size=batch_size)\n",
    "    return data_loader"
   ]
  },
  {
   "cell_type": "code",
   "execution_count": 5,
   "metadata": {},
   "outputs": [],
   "source": [
    "import torch.nn as nn\n",
    "from metal.mmtl.utils.metrics import acc_f1, pearson_spearman\n",
    "from metal.mmtl.task import ClassificationTask\n",
    "from metal.mmtl.scorer import Scorer\n",
    "\n",
    "BATCHSIZE = 32\n",
    "\n",
    "foo_input = nn.Linear(2, 10)\n",
    "bar_input = foo_input #nn.Linear(100, 7)\n",
    "\n",
    "foo_head = nn.Linear(10, 2)\n",
    "bar_head = nn.Linear(10, 2)\n",
    "\n",
    "foo_data = make_dataloader(5000, batch_size=BATCHSIZE)\n",
    "bar_data = make_dataloader(2000, batch_size=BATCHSIZE)\n",
    "\n",
    "\n",
    "# custom_metrics = {\n",
    "#     pearson_spearman: [\"pearson_corr\", \"spearman_corr\", \"pearson_spearman\"]\n",
    "# }\n",
    "# scorer = Scorer([\"accuracy\"], custom_metric_funcs=custom_metrics)\n",
    "\n",
    "foo = ClassificationTask(\"foo_task\", {\"train\": foo_data, \"valid\": foo_data, \"test\": foo_data}, foo_input, foo_head)\n",
    "bar = ClassificationTask(\"bar_task\", {\"train\": bar_data, \"valid\": bar_data, \"test\": bar_data}, bar_input, bar_head)\n",
    "# baz = Task(\"baz_task\", \"baz_head\", [make_dataloader(100), None, None])\n",
    "tasks = [foo, bar]"
   ]
  },
  {
   "cell_type": "code",
   "execution_count": null,
   "metadata": {
    "scrolled": false
   },
   "outputs": [
    {
     "name": "stdout",
     "output_type": "stream",
     "text": [
      "Beginning train loop.\n",
      "Expecting a total of approximately 5600 examples and 175 batches per epoch from 2 tasks.\n",
      "[0.10 epo]: TRAIN:[model/loss=7.21e-02, model/lr=9.14e-04]\n",
      "[0.21 epo]: TRAIN:[model/loss=7.53e-02, model/lr=1.94e-03]\n",
      "[0.31 epo]: TRAIN:[model/loss=7.91e-02, model/lr=2.97e-03]\n",
      "[0.41 epo]: TRAIN:[model/loss=6.46e-02, model/lr=4.00e-03]\n",
      "[0.51 epo]: TRAIN:[model/loss=6.88e-02, model/lr=5.03e-03]\n",
      "[0.62 epo]: TRAIN:[model/loss=4.89e-02, model/lr=6.06e-03]\n",
      "[0.72 epo]: TRAIN:[model/loss=4.93e-02, model/lr=7.09e-03]\n",
      "[0.82 epo]: TRAIN:[model/loss=4.37e-02, model/lr=8.11e-03]\n",
      "[0.93 epo]: TRAIN:[model/loss=4.08e-02, model/lr=9.14e-03]\n",
      "{'foo_task': tensor([[4.6060e-01, 5.3940e-01],\n",
      "        [9.9999e-01, 8.8649e-06],\n",
      "        [1.8828e-01, 8.1172e-01],\n",
      "        [3.1915e-03, 9.9681e-01],\n",
      "        [1.0000e+00, 1.1940e-06],\n",
      "        [2.2030e-08, 1.0000e+00],\n",
      "        [1.0000e+00, 3.8695e-12],\n",
      "        [1.0000e+00, 2.3399e-15],\n",
      "        [8.4381e-01, 1.5619e-01],\n",
      "        [6.1579e-02, 9.3842e-01],\n",
      "        [1.0000e+00, 3.6529e-09],\n",
      "        [1.0000e+00, 1.2994e-10],\n",
      "        [1.0000e+00, 5.8017e-07],\n",
      "        [9.4108e-09, 1.0000e+00],\n",
      "        [1.4702e-10, 1.0000e+00],\n",
      "        [9.7966e-01, 2.0341e-02],\n",
      "        [1.0499e-02, 9.8950e-01],\n",
      "        [1.0000e+00, 1.7469e-06],\n",
      "        [3.7336e-06, 1.0000e+00],\n",
      "        [9.9991e-01, 9.4884e-05],\n",
      "        [1.0000e+00, 1.4511e-07],\n",
      "        [4.7529e-04, 9.9952e-01],\n",
      "        [1.0000e+00, 5.5561e-15],\n",
      "        [6.3346e-07, 1.0000e+00],\n",
      "        [6.2309e-07, 1.0000e+00],\n",
      "        [9.9994e-01, 6.0740e-05],\n",
      "        [1.0000e+00, 3.1308e-13],\n",
      "        [5.0925e-08, 1.0000e+00],\n",
      "        [1.0000e+00, 3.2703e-12],\n",
      "        [9.9974e-01, 2.6383e-04],\n",
      "        [4.5628e-09, 1.0000e+00],\n",
      "        [2.3019e-01, 7.6981e-01]])}\n",
      "---\n",
      "{'foo_task': tensor([[4.6060e-01, 5.3940e-01],\n",
      "        [9.9999e-01, 8.8649e-06],\n",
      "        [1.8828e-01, 8.1172e-01],\n",
      "        [3.1915e-03, 9.9681e-01],\n",
      "        [1.0000e+00, 1.1940e-06],\n",
      "        [2.2030e-08, 1.0000e+00],\n",
      "        [1.0000e+00, 3.8695e-12],\n",
      "        [1.0000e+00, 2.3399e-15],\n",
      "        [8.4381e-01, 1.5619e-01],\n",
      "        [6.1579e-02, 9.3842e-01],\n",
      "        [1.0000e+00, 3.6529e-09],\n",
      "        [1.0000e+00, 1.2994e-10],\n",
      "        [1.0000e+00, 5.8017e-07],\n",
      "        [9.4108e-09, 1.0000e+00],\n",
      "        [1.4702e-10, 1.0000e+00],\n",
      "        [9.7966e-01, 2.0341e-02],\n",
      "        [1.0499e-02, 9.8950e-01],\n",
      "        [1.0000e+00, 1.7469e-06],\n",
      "        [3.7336e-06, 1.0000e+00],\n",
      "        [9.9991e-01, 9.4884e-05],\n",
      "        [1.0000e+00, 1.4511e-07],\n",
      "        [4.7529e-04, 9.9952e-01],\n",
      "        [1.0000e+00, 5.5561e-15],\n",
      "        [6.3346e-07, 1.0000e+00],\n",
      "        [6.2309e-07, 1.0000e+00],\n",
      "        [9.9994e-01, 6.0740e-05],\n",
      "        [1.0000e+00, 3.1308e-13],\n",
      "        [5.0925e-08, 1.0000e+00],\n",
      "        [1.0000e+00, 3.2703e-12],\n",
      "        [9.9974e-01, 2.6383e-04],\n",
      "        [4.5628e-09, 1.0000e+00],\n",
      "        [2.3019e-01, 7.6981e-01]])}\n",
      "> /Users/bradenjh/repos/metal/metal/mmtl/metal_model.py(113)calculate_output()\n",
      "-> return x\n"
     ]
    }
   ],
   "source": [
    "from metal.end_model import EndModel\n",
    "from metal.mmtl.metal_model import MetalModel\n",
    "from metal.mmtl.trainer import MultitaskTrainer\n",
    "\n",
    "model = MetalModel(tasks, device=-1, verbose=False)\n",
    "trainer = MultitaskTrainer()\n",
    "trainer.train_model(\n",
    "    model, \n",
    "    tasks, \n",
    "    n_epochs=3, \n",
    "    lr=0.01, \n",
    "    progress_bar=False,\n",
    "    log_unit=\"epochs\",\n",
    "    log_every=0.1,\n",
    "    score_every=1.0,\n",
    "    lr_scheduler=\"linear\",\n",
    "    warmup_steps = 1,\n",
    "    warmup_unit = \"epochs\",\n",
    "    min_lr = 0.0,\n",
    "#     patience=10,\n",
    "#     task_metrics=[\"foo_task/valid/acc_f1\"],\n",
    "#     trainer_metrics=[\"glue\"],\n",
    "    test_split=\"test\",\n",
    "    grad_clip=0.01,\n",
    "    writer=\"tensorboard\",\n",
    "    checkpoint=True,\n",
    "    checkpoint_best=True,\n",
    "    checkpoint_metric=\"foo_task/valid/accuracy\",\n",
    "    checkpoint_metric_mode=\"max\",\n",
    ")"
   ]
  },
  {
   "cell_type": "code",
   "execution_count": null,
   "metadata": {},
   "outputs": [],
   "source": [
    "loss = 0.0000123456789012345\n",
    "print(f\"{loss:0.3e}\")"
   ]
  },
  {
   "cell_type": "code",
   "execution_count": null,
   "metadata": {
    "scrolled": true
   },
   "outputs": [],
   "source": [
    "# for batch in foo.data_loaders[\"train\"]:\n",
    "#     X, Y = batch\n",
    "#     print(model(X, ['foo_task']))\n",
    "#     print(model.calculate_loss(X, Y, ['foo_task']))    \n",
    "#     print(model.calculate_output(X, ['foo_task']))    \n",
    "#     break"
   ]
  },
  {
   "cell_type": "code",
   "execution_count": null,
   "metadata": {
    "scrolled": false
   },
   "outputs": [],
   "source": [
    "model.predict_probs(foo, \"train\")"
   ]
  },
  {
   "cell_type": "code",
   "execution_count": null,
   "metadata": {},
   "outputs": [],
   "source": [
    "model.predict(foo, \"train\")"
   ]
  },
  {
   "cell_type": "code",
   "execution_count": null,
   "metadata": {},
   "outputs": [],
   "source": [
    "model.score(foo, \"valid\", \"accuracy\")"
   ]
  },
  {
   "cell_type": "code",
   "execution_count": null,
   "metadata": {},
   "outputs": [],
   "source": [
    "a = {\"foo\": 1, \"bar\": 2}\n",
    "list(a.keys())"
   ]
  },
  {
   "cell_type": "code",
   "execution_count": null,
   "metadata": {
    "scrolled": false
   },
   "outputs": [],
   "source": [
    "# import os\n",
    "# filepath = os.path.join(os.environ[\"METALHOME\"], \"my_model.pkl\")\n",
    "# model.save(filepath)"
   ]
  },
  {
   "cell_type": "code",
   "execution_count": null,
   "metadata": {},
   "outputs": [],
   "source": [
    "a = []\n",
    "a[0]"
   ]
  },
  {
   "cell_type": "code",
   "execution_count": null,
   "metadata": {},
   "outputs": [],
   "source": []
  }
 ],
 "metadata": {
  "kernelspec": {
   "display_name": "Python [conda env:metal]",
   "language": "python",
   "name": "conda-env-metal-py"
  },
  "language_info": {
   "codemirror_mode": {
    "name": "ipython",
    "version": 3
   },
   "file_extension": ".py",
   "mimetype": "text/x-python",
   "name": "python",
   "nbconvert_exporter": "python",
   "pygments_lexer": "ipython3",
   "version": "3.6.8"
  }
 },
 "nbformat": 4,
 "nbformat_minor": 2
}
