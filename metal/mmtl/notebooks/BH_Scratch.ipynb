{
 "cells": [
  {
   "cell_type": "code",
   "execution_count": 1,
   "metadata": {},
   "outputs": [
    {
     "name": "stdout",
     "output_type": "stream",
     "text": [
      "The autoreload extension is already loaded. To reload it, use:\n",
      "  %reload_ext autoreload\n"
     ]
    }
   ],
   "source": [
    "%load_ext autoreload\n",
    "%autoreload 2\n",
    "%matplotlib inline"
   ]
  },
  {
   "cell_type": "code",
   "execution_count": 2,
   "metadata": {},
   "outputs": [],
   "source": [
    "import torch\n",
    "from torch.utils.data import DataLoader, TensorDataset\n",
    "\n",
    "def make_dataloader(n, batch_size):\n",
    "    X = np.random.random((n, 2)) * 2 - 1\n",
    "    Y = (X[:, 0] > X[:, 1] + 0.25).astype(int) + 1\n",
    "\n",
    "    X = torch.tensor(X, dtype=torch.float)\n",
    "    Y = torch.tensor(Y, dtype=torch.long)\n",
    "\n",
    "    div1 = int(n*0.8)\n",
    "    div2 = int(n*0.9)\n",
    "    Xs = [X[:div1], X[div1:div2], X[div2:]]\n",
    "    Ys = [Y[:div1], Y[div1:div2], Y[div2:]]\n",
    "\n",
    "    dataset = TensorDataset(Xs[0], Ys[0])\n",
    "    data_loader = DataLoader(dataset, batch_size=batch_size)\n",
    "    return data_loader"
   ]
  },
  {
   "cell_type": "code",
   "execution_count": 3,
   "metadata": {},
   "outputs": [],
   "source": [
    "import torch.nn as nn\n",
    "from metal.mmtl.utils.metrics import acc_f1, pearson_spearman\n",
    "from metal.mmtl.task import Task\n",
    "from metal.mmtl.scorer import Scorer\n",
    "\n",
    "BATCHSIZE = 32\n",
    "\n",
    "foo_input = nn.Linear(2, 10)\n",
    "bar_input = foo_input #nn.Linear(100, 7)\n",
    "\n",
    "foo_head = nn.Linear(10, 2)\n",
    "bar_head = nn.Linear(10, 2)\n",
    "\n",
    "foo_data = make_dataloader(5000, batch_size=BATCHSIZE)\n",
    "bar_data = make_dataloader(2000, batch_size=BATCHSIZE)\n",
    "\n",
    "\n",
    "# custom_metrics = {\n",
    "#     pearson_spearman: [\"pearson_corr\", \"spearman_corr\", \"pearson_spearman\"]\n",
    "# }\n",
    "# scorer = Scorer([\"accuracy\"], custom_metric_funcs=custom_metrics)\n",
    "\n",
    "foo = Task(\"foo_task\", {\"train\": foo_data, \"valid\": foo_data, \"test\": foo_data}, foo_input, foo_head)\n",
    "bar = Task(\"bar_task\", {\"train\": bar_data, \"valid\": bar_data, \"test\": bar_data}, bar_input, bar_head)\n",
    "# baz = Task(\"baz_task\", \"baz_head\", [make_dataloader(100), None, None])\n",
    "tasks = [foo, bar]"
   ]
  },
  {
   "cell_type": "code",
   "execution_count": 18,
   "metadata": {
    "scrolled": false
   },
   "outputs": [
    {
     "name": "stdout",
     "output_type": "stream",
     "text": [
      "Beginning train loop.\n",
      "Expecting a total of approximately 5600 examples and 175 batches per epoch from 2 tasks.\n"
     ]
    },
    {
     "data": {
      "application/vnd.jupyter.widget-view+json": {
       "model_id": "f093c0eadeaf475ca595e2b255522208",
       "version_major": 2,
       "version_minor": 0
      },
      "text/plain": [
       "HBox(children=(IntProgress(value=0, max=175), HTML(value='')))"
      ]
     },
     "metadata": {},
     "output_type": "display_data"
    },
    {
     "name": "stdout",
     "output_type": "stream",
     "text": [
      "[0.10 epo]: TRAIN:[model/loss=0.047] VALID:[foo_task/accuracy=0.999, bar_task/accuracy=0.997, model/lr=0.016]\n",
      "Saving model at iteration 0.10285714285714286 with best (max) score 0.999\n",
      "[0.21 epo]: TRAIN:[model/loss=0.027] VALID:[foo_task/accuracy=0.996, bar_task/accuracy=0.993, model/lr=0.034]\n",
      "[0.31 epo]: TRAIN:[model/loss=0.020] VALID:[foo_task/accuracy=0.984, bar_task/accuracy=0.988, model/lr=0.052]\n",
      "[0.41 epo]: TRAIN:[model/loss=0.051] VALID:[foo_task/accuracy=0.985, bar_task/accuracy=0.981, model/lr=0.070]\n",
      "[0.51 epo]: TRAIN:[model/loss=0.154] VALID:[foo_task/accuracy=0.981, bar_task/accuracy=0.996, model/lr=0.088]\n",
      "[0.62 epo]: TRAIN:[model/loss=0.032] VALID:[foo_task/accuracy=0.990, bar_task/accuracy=0.989, model/lr=0.099]\n",
      "[0.72 epo]: TRAIN:[model/loss=0.033] VALID:[foo_task/accuracy=0.991, bar_task/accuracy=0.989, model/lr=0.094]\n",
      "[0.82 epo]: TRAIN:[model/loss=0.035] VALID:[foo_task/accuracy=0.975, bar_task/accuracy=0.979, model/lr=0.090]\n",
      "[0.93 epo]: TRAIN:[model/loss=0.104] VALID:[foo_task/accuracy=0.977, bar_task/accuracy=0.966, model/lr=0.086]\n",
      "\n"
     ]
    },
    {
     "data": {
      "application/vnd.jupyter.widget-view+json": {
       "model_id": "52403fd7b715483b94d91ff3aad79525",
       "version_major": 2,
       "version_minor": 0
      },
      "text/plain": [
       "HBox(children=(IntProgress(value=0, max=175), HTML(value='')))"
      ]
     },
     "metadata": {},
     "output_type": "display_data"
    },
    {
     "name": "stdout",
     "output_type": "stream",
     "text": [
      "[1.03 epo]: TRAIN:[model/loss=0.130] VALID:[foo_task/accuracy=0.978, bar_task/accuracy=0.980, model/lr=0.082]\n",
      "[1.13 epo]: TRAIN:[model/loss=0.025] VALID:[foo_task/accuracy=0.988, bar_task/accuracy=0.982, model/lr=0.077]\n",
      "[1.23 epo]: TRAIN:[model/loss=0.031] VALID:[foo_task/accuracy=0.997, bar_task/accuracy=0.989, model/lr=0.073]\n",
      "[1.34 epo]: TRAIN:[model/loss=0.021] VALID:[foo_task/accuracy=0.993, bar_task/accuracy=0.989, model/lr=0.069]\n",
      "[1.44 epo]: TRAIN:[model/loss=0.039] VALID:[foo_task/accuracy=0.985, bar_task/accuracy=0.986, model/lr=0.065]\n",
      "[1.54 epo]: TRAIN:[model/loss=0.105] VALID:[foo_task/accuracy=0.986, bar_task/accuracy=0.986, model/lr=0.060]\n",
      "[1.65 epo]: TRAIN:[model/loss=0.037] VALID:[foo_task/accuracy=0.994, bar_task/accuracy=0.996, model/lr=0.056]\n",
      "[1.75 epo]: TRAIN:[model/loss=0.010] VALID:[foo_task/accuracy=0.996, bar_task/accuracy=0.996, model/lr=0.052]\n",
      "[1.85 epo]: TRAIN:[model/loss=0.014] VALID:[foo_task/accuracy=0.981, bar_task/accuracy=0.983, model/lr=0.048]\n",
      "[1.95 epo]: TRAIN:[model/loss=0.012] VALID:[foo_task/accuracy=0.995, bar_task/accuracy=0.994, model/lr=0.044]\n",
      "\n"
     ]
    },
    {
     "data": {
      "application/vnd.jupyter.widget-view+json": {
       "model_id": "7794345f778546a79306c78b23af47c9",
       "version_major": 2,
       "version_minor": 0
      },
      "text/plain": [
       "HBox(children=(IntProgress(value=0, max=175), HTML(value='')))"
      ]
     },
     "metadata": {},
     "output_type": "display_data"
    },
    {
     "name": "stdout",
     "output_type": "stream",
     "text": [
      "[2.06 epo]: TRAIN:[model/loss=0.014] VALID:[foo_task/accuracy=0.990, bar_task/accuracy=0.993, model/lr=0.039]\n",
      "[2.16 epo]: TRAIN:[model/loss=0.004] VALID:[foo_task/accuracy=0.991, bar_task/accuracy=0.989, model/lr=0.035]\n",
      "[2.26 epo]: TRAIN:[model/loss=0.038] VALID:[foo_task/accuracy=0.989, bar_task/accuracy=0.991, model/lr=0.031]\n",
      "[2.37 epo]: TRAIN:[model/loss=0.031] VALID:[foo_task/accuracy=0.995, bar_task/accuracy=0.990, model/lr=0.027]\n",
      "[2.47 epo]: TRAIN:[model/loss=0.015] VALID:[foo_task/accuracy=0.995, bar_task/accuracy=0.996, model/lr=0.022]\n",
      "[2.57 epo]: TRAIN:[model/loss=0.019] VALID:[foo_task/accuracy=0.998, bar_task/accuracy=0.996, model/lr=0.018]\n",
      "[2.67 epo]: TRAIN:[model/loss=0.005] VALID:[foo_task/accuracy=0.999, bar_task/accuracy=0.998, model/lr=0.014]\n",
      "[2.78 epo]: TRAIN:[model/loss=0.011] VALID:[foo_task/accuracy=0.996, bar_task/accuracy=0.994, model/lr=0.010]\n",
      "[2.88 epo]: TRAIN:[model/loss=0.007] VALID:[foo_task/accuracy=0.999, bar_task/accuracy=0.998, model/lr=0.005]\n",
      "[2.98 epo]: TRAIN:[model/loss=0.006] VALID:[foo_task/accuracy=0.998, bar_task/accuracy=0.998, model/lr=0.001]\n",
      "\n",
      "Restoring best model from iteration 0.10 with score 0.999\n",
      "Writing log to /Users/bradenjh/repos/metal/logs/2019_02_14/16_18_33/16_18_33.json\n",
      "Finished Training\n",
      "{'bar_task/test/accuracy': 0.996875,\n",
      " 'foo_task/test/accuracy': 0.999,\n",
      " 'model/test/lr': 0.0002352941176470588}\n"
     ]
    }
   ],
   "source": [
    "from metal.end_model import EndModel\n",
    "from metal.mmtl.metal_model import MetalModel\n",
    "from metal.mmtl.trainer import MultitaskTrainer\n",
    "\n",
    "model = MetalModel(tasks, device=-1, verbose=False)\n",
    "trainer = MultitaskTrainer()\n",
    "trainer.train_model(\n",
    "    model, \n",
    "    tasks, \n",
    "    n_epochs=3, \n",
    "    lr=0.1, \n",
    "    progress_bar=True,\n",
    "    log_unit=\"epochs\",\n",
    "    log_every=0.1,\n",
    "    score_every=0.1,\n",
    "#     optimizer=\"sgd\",\n",
    "    lr_scheduler=\"linear\",\n",
    "    warmup_steps = 100,\n",
    "    min_lr = 0.0,\n",
    "#     patience=10,\n",
    "#     task_metrics=[\"foo_task/valid/acc_f1\"],\n",
    "    trainer_metrics=[\"lr\"],\n",
    "    test_split=\"test\",\n",
    "    grad_clip=0.01,\n",
    "    writer=\"tensorboard\",\n",
    "    checkpoint=True,\n",
    "    checkpoint_best=True,\n",
    "    checkpoint_metric=\"foo_task/valid/accuracy\",\n",
    "    checkpoint_metric_mode=\"max\",\n",
    ")"
   ]
  },
  {
   "cell_type": "code",
   "execution_count": 16,
   "metadata": {},
   "outputs": [
    {
     "data": {
      "text/plain": [
       "1.1801719665527344e-08"
      ]
     },
     "execution_count": 16,
     "metadata": {},
     "output_type": "execute_result"
    }
   ],
   "source": [
    "trainer.optimizer.param_groups[0][\"lr\"]"
   ]
  },
  {
   "cell_type": "code",
   "execution_count": 17,
   "metadata": {
    "scrolled": true
   },
   "outputs": [],
   "source": [
    "# for batch in foo.data_loaders[\"train\"]:\n",
    "#     X, Y = batch\n",
    "#     print(model(X, ['foo_task']))\n",
    "#     print(model.calculate_loss(X, Y, ['foo_task']))    \n",
    "#     print(model.calculate_output(X, ['foo_task']))    \n",
    "#     break"
   ]
  },
  {
   "cell_type": "code",
   "execution_count": 7,
   "metadata": {
    "scrolled": false
   },
   "outputs": [
    {
     "data": {
      "text/plain": [
       "array([[8.86418000e-02, 9.11358178e-01],\n",
       "       [1.00000000e+00, 8.56352843e-19],\n",
       "       [8.66827876e-18, 1.00000000e+00],\n",
       "       ...,\n",
       "       [9.96014357e-01, 3.98571556e-03],\n",
       "       [3.08819072e-05, 9.99969125e-01],\n",
       "       [1.00000000e+00, 3.44794659e-09]])"
      ]
     },
     "execution_count": 7,
     "metadata": {},
     "output_type": "execute_result"
    }
   ],
   "source": [
    "model.predict_probs(foo, \"train\")"
   ]
  },
  {
   "cell_type": "code",
   "execution_count": 8,
   "metadata": {},
   "outputs": [
    {
     "data": {
      "text/plain": [
       "array([2, 1, 2, ..., 1, 2, 1])"
      ]
     },
     "execution_count": 8,
     "metadata": {},
     "output_type": "execute_result"
    }
   ],
   "source": [
    "model.predict(foo, \"train\")"
   ]
  },
  {
   "cell_type": "code",
   "execution_count": 9,
   "metadata": {},
   "outputs": [
    {
     "data": {
      "text/plain": [
       "0.99775"
      ]
     },
     "execution_count": 9,
     "metadata": {},
     "output_type": "execute_result"
    }
   ],
   "source": [
    "model.score(foo, \"valid\", \"accuracy\")"
   ]
  },
  {
   "cell_type": "code",
   "execution_count": 10,
   "metadata": {},
   "outputs": [
    {
     "data": {
      "text/plain": [
       "['foo', 'bar']"
      ]
     },
     "execution_count": 10,
     "metadata": {},
     "output_type": "execute_result"
    }
   ],
   "source": [
    "a = {\"foo\": 1, \"bar\": 2}\n",
    "list(a.keys())"
   ]
  },
  {
   "cell_type": "code",
   "execution_count": 11,
   "metadata": {
    "scrolled": false
   },
   "outputs": [],
   "source": [
    "# import os\n",
    "# filepath = os.path.join(os.environ[\"METALHOME\"], \"my_model.pkl\")\n",
    "# model.save(filepath)"
   ]
  },
  {
   "cell_type": "code",
   "execution_count": 12,
   "metadata": {},
   "outputs": [
    {
     "ename": "IndexError",
     "evalue": "list index out of range",
     "output_type": "error",
     "traceback": [
      "\u001b[0;31m---------------------------------------------------------------------------\u001b[0m",
      "\u001b[0;31mIndexError\u001b[0m                                Traceback (most recent call last)",
      "\u001b[0;32m<ipython-input-12-52c7b74b8e70>\u001b[0m in \u001b[0;36m<module>\u001b[0;34m()\u001b[0m\n\u001b[1;32m      1\u001b[0m \u001b[0ma\u001b[0m \u001b[0;34m=\u001b[0m \u001b[0;34m[\u001b[0m\u001b[0;34m]\u001b[0m\u001b[0;34m\u001b[0m\u001b[0;34m\u001b[0m\u001b[0m\n\u001b[0;32m----> 2\u001b[0;31m \u001b[0ma\u001b[0m\u001b[0;34m[\u001b[0m\u001b[0;36m0\u001b[0m\u001b[0;34m]\u001b[0m\u001b[0;34m\u001b[0m\u001b[0;34m\u001b[0m\u001b[0m\n\u001b[0m",
      "\u001b[0;31mIndexError\u001b[0m: list index out of range"
     ]
    }
   ],
   "source": [
    "a = []\n",
    "a[0]"
   ]
  },
  {
   "cell_type": "code",
   "execution_count": null,
   "metadata": {},
   "outputs": [],
   "source": []
  }
 ],
 "metadata": {
  "kernelspec": {
   "display_name": "Python [conda env:metal]",
   "language": "python",
   "name": "conda-env-metal-py"
  },
  "language_info": {
   "codemirror_mode": {
    "name": "ipython",
    "version": 3
   },
   "file_extension": ".py",
   "mimetype": "text/x-python",
   "name": "python",
   "nbconvert_exporter": "python",
   "pygments_lexer": "ipython3",
   "version": "3.6.8"
  }
 },
 "nbformat": 4,
 "nbformat_minor": 2
}
