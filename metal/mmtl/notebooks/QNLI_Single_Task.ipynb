{
 "cells": [
  {
   "cell_type": "code",
   "execution_count": 1,
   "metadata": {},
   "outputs": [],
   "source": [
    "%load_ext autoreload\n",
    "%autoreload 2\n",
    "%matplotlib inline"
   ]
  },
  {
   "cell_type": "code",
   "execution_count": 2,
   "metadata": {},
   "outputs": [
    {
     "name": "stdout",
     "output_type": "stream",
     "text": [
      "Better speed can be achieved with apex installed from https://www.github.com/nvidia/apex.\n"
     ]
    }
   ],
   "source": [
    "import os\n",
    "\n",
    "import numpy as np\n",
    "import torch\n",
    "import torch.nn as nn\n",
    "from torch.utils.data import DataLoader, TensorDataset\n",
    "\n",
    "from metal.mmtl.utils.utils import stack_batches\n",
    "from pytorch_pretrained_bert import BertTokenizer\n",
    "from metal.mmtl.metal_model import MetalModel\n",
    "from metal.mmtl.scorer import Scorer\n",
    "from metal.mmtl.bert_tasks import create_tasks\n",
    "from metal.mmtl.trainer import MultitaskTrainer"
   ]
  },
  {
   "cell_type": "markdown",
   "metadata": {},
   "source": [
    "### Config"
   ]
  },
  {
   "cell_type": "code",
   "execution_count": 3,
   "metadata": {},
   "outputs": [],
   "source": [
    "bert_model = 'bert-base-uncased'\n",
    "bert_model_output_shape = 768\n",
    "max_len = 200\n",
    "batch_size = 16\n",
    "split_prop = 0.8\n",
    "max_datapoints = 200"
   ]
  },
  {
   "cell_type": "code",
   "execution_count": 4,
   "metadata": {},
   "outputs": [
    {
     "name": "stdout",
     "output_type": "stream",
     "text": [
      "Loading QNLIR Dataset\n",
      "/dfs/scratch0/bradenjh/glue/QNLIR/train.tsv\n"
     ]
    },
    {
     "data": {
      "application/vnd.jupyter.widget-view+json": {
       "model_id": "9877fef505c042078bb18d0174d4bfd8",
       "version_major": 2,
       "version_minor": 0
      },
      "text/html": [
       "<p>Failed to display Jupyter Widget of type <code>HBox</code>.</p>\n",
       "<p>\n",
       "  If you're reading this message in the Jupyter Notebook or JupyterLab Notebook, it may mean\n",
       "  that the widgets JavaScript is still loading. If this message persists, it\n",
       "  likely means that the widgets JavaScript library is either not installed or\n",
       "  not enabled. See the <a href=\"https://ipywidgets.readthedocs.io/en/stable/user_install.html\">Jupyter\n",
       "  Widgets Documentation</a> for setup instructions.\n",
       "</p>\n",
       "<p>\n",
       "  If you're reading this message in another frontend (for example, a static\n",
       "  rendering on GitHub or <a href=\"https://nbviewer.jupyter.org/\">NBViewer</a>),\n",
       "  it may mean that your frontend doesn't currently support widgets.\n",
       "</p>\n"
      ],
      "text/plain": [
       "HBox(children=(IntProgress(value=0, max=400), HTML(value='')))"
      ]
     },
     "metadata": {},
     "output_type": "display_data"
    },
    {
     "name": "stdout",
     "output_type": "stream",
     "text": [
      "\n",
      "/dfs/scratch0/bradenjh/glue/QNLI/dev.tsv\n"
     ]
    },
    {
     "data": {
      "application/vnd.jupyter.widget-view+json": {
       "model_id": "b230fa2f7e4547dda7dfdca3c325de5e",
       "version_major": 2,
       "version_minor": 0
      },
      "text/html": [
       "<p>Failed to display Jupyter Widget of type <code>HBox</code>.</p>\n",
       "<p>\n",
       "  If you're reading this message in the Jupyter Notebook or JupyterLab Notebook, it may mean\n",
       "  that the widgets JavaScript is still loading. If this message persists, it\n",
       "  likely means that the widgets JavaScript library is either not installed or\n",
       "  not enabled. See the <a href=\"https://ipywidgets.readthedocs.io/en/stable/user_install.html\">Jupyter\n",
       "  Widgets Documentation</a> for setup instructions.\n",
       "</p>\n",
       "<p>\n",
       "  If you're reading this message in another frontend (for example, a static\n",
       "  rendering on GitHub or <a href=\"https://nbviewer.jupyter.org/\">NBViewer</a>),\n",
       "  it may mean that your frontend doesn't currently support widgets.\n",
       "</p>\n"
      ],
      "text/plain": [
       "HBox(children=(IntProgress(value=0, max=400), HTML(value='')))"
      ]
     },
     "metadata": {},
     "output_type": "display_data"
    },
    {
     "name": "stdout",
     "output_type": "stream",
     "text": [
      "\n"
     ]
    }
   ],
   "source": [
    "tasks = create_tasks(\n",
    "    ['QNLIR'],\n",
    "    bert_model,\n",
    "    split_prop=split_prop,\n",
    "    max_len=max_len,\n",
    "    dl_kwargs={'batch_size': batch_size},\n",
    "    bert_kwargs={},\n",
    "    bert_output_dim=bert_model_output_shape,\n",
    "    max_datapoints=max_datapoints,\n",
    ")"
   ]
  },
  {
   "cell_type": "markdown",
   "metadata": {},
   "source": [
    "Visualize some examples:"
   ]
  },
  {
   "cell_type": "code",
   "execution_count": 5,
   "metadata": {},
   "outputs": [],
   "source": [
    "tokenizer = BertTokenizer.from_pretrained(bert_model, do_lower_case=True)\n",
    "xs = []\n",
    "ys = []\n",
    "for x, y in tasks[0].data_loaders['valid']:\n",
    "    break\n",
    "#y"
   ]
  },
  {
   "cell_type": "code",
   "execution_count": 6,
   "metadata": {},
   "outputs": [
    {
     "name": "stdout",
     "output_type": "stream",
     "text": [
      "[CLS] as ##tp stands for what ? [SEP] the module was also necessary as an air ##lock to allow the men to visit each other ' s craft , which had incompatible cabin atmosphere ##s . [SEP]                                              \n",
      "[CLS] as ##tp stands for what ? [SEP] the two nations planned a joint mission to dock the last us apollo craft with a soyuz , known as the apollo - soyuz test project ( as ##tp ) . [SEP]                                           \n",
      "[CLS] \" \" \" compensation \" \" is the name of the system used for what type of elevators ? \" [SEP] elevators with more than 30 m ( 98 ft ) of travel have a system called compensation . [SEP]                                          \n",
      "[CLS] \" \" \" compensation \" \" is the name of the system used for what type of elevators ? \" [SEP] this makes it easier to control the elevator , as it compensate ##s for the differing weight of cable between the ho ##ist and the cab . [SEP]                                 \n",
      "[CLS] a wrestler may have a small person called what ? [SEP] there are also cases in which mid ##get ##s can become valet ##s for a wrestler , and even get physically involved in matches , like al ##ush ##e , who often acc ##omp ##anies tin ##ie ##bla ##s , or ke ##mon ##ito , who is portrayed as con ##se ##jo mu ##ndi ##al de lucha libre ' s mascot and is also a valet for mist ##ico . [SEP]\n",
      "[CLS] a wrestler may have a small person called what ? [SEP] \" some wrestlers may have their own specific \" \" mini me \" \" , like mas ##car ##ita sa ##grad ##a , ale ##bri ##je has qui ##je , etc . \" [SEP]                                     \n"]
    }
   ],
   "source": [
    "for tokens in x[0][:6]:\n",
    "    print(' '.join(tokenizer.convert_ids_to_tokens(tokens.numpy())).replace('[PAD]', ''))"
   ]
  },
  {
   "cell_type": "code",
   "execution_count": 7,
   "metadata": {
    "scrolled": false
   },
   "outputs": [],
   "source": [
    "model = MetalModel(tasks, verbose=False)"
   ]
  },
  {
   "cell_type": "code",
   "execution_count": 8,
   "metadata": {},
   "outputs": [],
   "source": [
    "for (X, Y) in tasks[0].data_loaders['valid']:\n",
    "    preds = model.forward(X, ['QNLIR'])\n",
    "    break"
   ]
  },
  {
   "cell_type": "code",
   "execution_count": null,
   "metadata": {},
   "outputs": [
    {
     "data": {
      "text/plain": [
       "{'QNLIR': tensor([[ 0.5097],\n",
       "         [ 0.2278],\n",
       "         [ 0.2198],\n",
       "         [ 0.1711],\n",
       "         [ 0.8092],\n",
       "         [ 0.4342],\n",
       "         [ 0.2874],\n",
       "         [ 0.5476],\n",
       "         [ 0.3099],\n",
       "         [ 0.8457],\n",
       "         [ 0.7228],\n",
       "         [ 0.2499],\n",
       "         [ 1.0143],\n",
       "         [ 0.6257],\n",
       "         [-0.0940],\n",
       "         [ 0.2779]], device='cuda:0', grad_fn=<MmBackward>)}"
      ]
     },
     "execution_count": 9,
     "metadata": {},
     "output_type": "execute_result"
    }
   ],
   "source": [
    "preds"
   ]
  },
  {
   "cell_type": "code",
   "execution_count": null,
   "metadata": {},
   "outputs": [
    {
     "name": "stdout",
     "output_type": "stream",
     "text": [
      "Beginning train loop.\n",
      "Expecting a total of _approximately_ 320 examples and 20 batches per epoch from 1 tasks.\n"
     ]
    },
    {
     "name": "stderr",
     "output_type": "stream",
     "text": [
      "/afs/cs.stanford.edu/u/chami/.local/lib/python3.6/site-packages/IPython/core/interactiveshell.py:728: UserWarning: Attempting to work in a virtualenv. If you encounter problems, please install IPython inside the virtualenv.\n",
      "  warn(\"Attempting to work in a virtualenv. If you encounter problems, please \"\n"
     ]
    },
    {
     "name": "stdout",
     "output_type": "stream",
     "text": [
      "Python 3.6.7 | packaged by conda-forge | (default, Nov 21 2018, 03:09:43) \n",
      "Type 'copyright', 'credits' or 'license' for more information\n",
      "IPython 6.2.1 -- An enhanced Interactive Python. Type '?' for help.\n",
      "\n",
      "In [1]: gold\n",
      "Out[1]: \n",
      "array([2, 1, 1, 2, 1, 2, 1, 2, 2, 1, 2, 1, 1, 2, 1, 2, 2, 1, 1, 2, 2, 1,\n",
      "       2, 1, 1, 2, 2, 1, 2, 1, 1, 2, 1, 2, 1, 2, 1, 2, 2, 1, 1, 2, 1, 2,\n",
      "       1, 2, 2, 1, 1, 2, 2, 1, 2, 1, 2, 1, 2, 1, 2, 1, 2, 1, 2, 1, 2, 1,\n",
      "       2, 1, 2, 1, 2, 1, 1, 2, 1, 2, 1, 2, 1, 2])\n",
      "\n",
      "In [2]: gold = (1-gold) + 1\n",
      "\n",
      "In [3]: gold\n",
      "Out[3]: \n",
      "array([0, 1, 1, 0, 1, 0, 1, 0, 0, 1, 0, 1, 1, 0, 1, 0, 0, 1, 1, 0, 0, 1,\n",
      "       0, 1, 1, 0, 0, 1, 0, 1, 1, 0, 1, 0, 1, 0, 1, 0, 0, 1, 1, 0, 1, 0,\n",
      "       1, 0, 0, 1, 1, 0, 0, 1, 0, 1, 0, 1, 0, 1, 0, 1, 0, 1, 0, 1, 0, 1,\n",
      "       0, 1, 0, 1, 0, 1, 1, 0, 1, 0, 1, 0, 1, 0])\n",
      "\n",
      "In [4]: outputs\n",
      "Out[4]: \n",
      "array([1, 1, 1, 1, 1, 1, 1, 1, 1, 1, 1, 1, 1, 1, 1, 1, 1, 1, 1, 1, 1, 1,\n",
      "       1, 1, 1, 1, 1, 1, 1, 1, 1, 1, 1, 1, 1, 1, 1, 1, 1, 1, 1, 1, 1, 1,\n",
      "       1, 1, 1, 1, 1, 1, 1, 1, 1, 1, 1, 1, 1, 1, 1, 1, 1, 1, 1, 1, 1, 1,\n",
      "       1, 1, 1, 1, 1, 1, 1, 1, 1, 1, 1, 1, 1, 1])\n",
      "\n",
      "In [5]: probs\n",
      "Out[5]: \n",
      "array([[0.14659275],\n",
      "       [0.15561597],\n",
      "       [0.63892281],\n",
      "       [0.15158398],\n",
      "       [0.4697102 ],\n",
      "       [0.14490637],\n",
      "       [0.85449827],\n",
      "       [0.14863677],\n",
      "       [0.14509302],\n",
      "       [0.1457641 ],\n",
      "       [0.15456019],\n",
      "       [0.14919901],\n",
      "       [0.15152903],\n",
      "       [0.30258507],\n",
      "       [0.78025728],\n",
      "       [0.15417218],\n",
      "       [0.14455649],\n",
      "       [0.14652307],\n",
      "       [0.84610116],\n",
      "       [0.14308739],\n",
      "       [0.21140534],\n",
      "       [0.1503135 ],\n",
      "       [0.14257279],\n",
      "       [0.85030013],\n",
      "       [0.26701427],\n",
      "       [0.23478535],\n",
      "       [0.15443595],\n",
      "       [0.85408008],\n",
      "       [0.14804403],\n",
      "       [0.72575551],\n",
      "       [0.14858608],\n",
      "       [0.1533287 ],\n",
      "       [0.14683442],\n",
      "       [0.14441855],\n",
      "       [0.85864079],\n",
      "       [0.14800072],\n",
      "       [0.24947743],\n",
      "       [0.14987987],\n",
      "       [0.15061593],\n",
      "       [0.87214845],\n",
      "       [0.85162771],\n",
      "       [0.14431763],\n",
      "       [0.15459484],\n",
      "       [0.14950129],\n",
      "       [0.85796738],\n",
      "       [0.17400016],\n",
      "       [0.15010718],\n",
      "       [0.84159601],\n",
      "       [0.14914241],\n",
      "       [0.14913554],\n",
      "       [0.14833578],\n",
      "       [0.17914651],\n",
      "       [0.14360324],\n",
      "       [0.89144301],\n",
      "       [0.14684322],\n",
      "       [0.85948008],\n",
      "       [0.14520828],\n",
      "       [0.86467117],\n",
      "       [0.30523264],\n",
      "       [0.14527403],\n",
      "       [0.1602065 ],\n",
      "       [0.23610632],\n",
      "       [0.14589591],\n",
      "       [0.85020959],\n",
      "       [0.14536172],\n",
      "       [0.84542418],\n",
      "       [0.20157693],\n",
      "       [0.14865391],\n",
      "       [0.30559078],\n",
      "       [0.15734218],\n",
      "       [0.15242082],\n",
      "       [0.22422756],\n",
      "       [0.33994031],\n",
      "       [0.15025218],\n",
      "       [0.85572422],\n",
      "       [0.15393819],\n",
      "       [0.14820643],\n",
      "       [0.14800058],\n",
      "       [0.16828378],\n",
      "       [0.15483439]])\n",
      "\n",
      "In [6]: probs.shape\n",
      "Out[6]: (80, 1)\n",
      "\n",
      "In [7]: gold.shape\n",
      "Out[7]: (80,)\n",
      "\n",
      "In [8]: probs.reshape((-1,), inplace=True)\n",
      "\u001b[0;31m---------------------------------------------------------------------------\u001b[0m\n",
      "\u001b[0;31mTypeError\u001b[0m                                 Traceback (most recent call last)\n",
      "\u001b[0;32m/dfs/scratch0/chami/metal/metal/mmtl/utils/metrics.py\u001b[0m in \u001b[0;36m<module>\u001b[0;34m()\u001b[0m\n",
      "\u001b[0;32m----> 1\u001b[0;31m \u001b[0mprobs\u001b[0m\u001b[0;34m.\u001b[0m\u001b[0mreshape\u001b[0m\u001b[0;34m(\u001b[0m\u001b[0;34m(\u001b[0m\u001b[0;34m-\u001b[0m\u001b[0;36m1\u001b[0m\u001b[0;34m,\u001b[0m\u001b[0;34m)\u001b[0m\u001b[0;34m,\u001b[0m \u001b[0minplace\u001b[0m\u001b[0;34m=\u001b[0m\u001b[0;32mTrue\u001b[0m\u001b[0;34m)\u001b[0m\u001b[0;34m\u001b[0m\u001b[0;34m\u001b[0m\u001b[0m\n",
      "\u001b[0m\n",
      "\u001b[0;31mTypeError\u001b[0m: 'inplace' is an invalid keyword argument for this function\n",
      "\n",
      "In [9]: probs = probs.reshape((-1,))\n",
      "\n",
      "In [10]: probs\n",
      "Out[10]: \n",
      "array([0.14659275, 0.15561597, 0.63892281, 0.15158398, 0.4697102 ,\n",
      "       0.14490637, 0.85449827, 0.14863677, 0.14509302, 0.1457641 ,\n",
      "       0.15456019, 0.14919901, 0.15152903, 0.30258507, 0.78025728,\n",
      "       0.15417218, 0.14455649, 0.14652307, 0.84610116, 0.14308739,\n",
      "       0.21140534, 0.1503135 , 0.14257279, 0.85030013, 0.26701427,\n",
      "       0.23478535, 0.15443595, 0.85408008, 0.14804403, 0.72575551,\n",
      "       0.14858608, 0.1533287 , 0.14683442, 0.14441855, 0.85864079,\n",
      "       0.14800072, 0.24947743, 0.14987987, 0.15061593, 0.87214845,\n",
      "       0.85162771, 0.14431763, 0.15459484, 0.14950129, 0.85796738,\n",
      "       0.17400016, 0.15010718, 0.84159601, 0.14914241, 0.14913554,\n",
      "       0.14833578, 0.17914651, 0.14360324, 0.89144301, 0.14684322,\n",
      "       0.85948008, 0.14520828, 0.86467117, 0.30523264, 0.14527403,\n",
      "       0.1602065 , 0.23610632, 0.14589591, 0.85020959, 0.14536172,\n",
      "       0.84542418, 0.20157693, 0.14865391, 0.30559078, 0.15734218,\n",
      "       0.15242082, 0.22422756, 0.33994031, 0.15025218, 0.85572422,\n",
      "       0.15393819, 0.14820643, 0.14800058, 0.16828378, 0.15483439])\n",
      "\n",
      "In [11]: outputs = probs.reshape((-1,)) > 0.5\n",
      "\n",
      "In [12]: outputs\n",
      "Out[12]: \n",
      "array([False, False,  True, False, False, False,  True, False, False,\n",
      "       False, False, False, False, False,  True, False, False, False,\n",
      "        True, False, False, False, False,  True, False, False, False,\n",
      "        True, False,  True, False, False, False, False,  True, False,\n",
      "       False, False, False,  True,  True, False, False, False,  True,\n",
      "       False, False,  True, False, False, False, False, False,  True,\n",
      "       False,  True, False,  True, False, False, False, False, False,\n",
      "        True, False,  True, False, False, False, False, False, False,\n",
      "       False, False,  True, False, False, False, False, False])\n",
      "\n",
      "In [13]: outputs = 1 * (probs.reshape((-1,)) > 0.5)\n",
      "\n",
      "In [14]: outputs\n",
      "Out[14]: \n",
      "array([0, 0, 1, 0, 0, 0, 1, 0, 0, 0, 0, 0, 0, 0, 1, 0, 0, 0, 1, 0, 0, 0,\n",
      "       0, 1, 0, 0, 0, 1, 0, 1, 0, 0, 0, 0, 1, 0, 0, 0, 0, 1, 1, 0, 0, 0,\n",
      "       1, 0, 0, 1, 0, 0, 0, 0, 0, 1, 0, 1, 0, 1, 0, 0, 0, 0, 0, 1, 0, 1,\n",
      "       0, 0, 0, 0, 0, 0, 0, 0, 1, 0, 0, 0, 0, 0])\n",
      "\n",
      "In [15]: accuracy = metric_score(gold, outputs, metric=\"accuracy\")\n",
      "\n",
      "In [16]: accuracy\n",
      "Out[16]: 0.725\n",
      "\n",
      "In [17]: f1 = metric_score(gold, outputs, metric=\"f1\")\n",
      "\n",
      "In [18]: f\n",
      "\u001b[0;31m---------------------------------------------------------------------------\u001b[0m\n",
      "\u001b[0;31mNameError\u001b[0m                                 Traceback (most recent call last)\n",
      "\u001b[0;32m/dfs/scratch0/chami/metal/metal/mmtl/utils/metrics.py\u001b[0m in \u001b[0;36m<module>\u001b[0;34m()\u001b[0m\n",
      "\u001b[0;32m----> 1\u001b[0;31m \u001b[0mf\u001b[0m\u001b[0;34m\u001b[0m\u001b[0;34m\u001b[0m\u001b[0m\n",
      "\u001b[0m\n",
      "\u001b[0;31mNameError\u001b[0m: name 'f' is not defined\n",
      "\n",
      "In [19]: f1\n",
      "Out[19]: 0.6206896551724138\n",
      "\n",
      "In [20]: {\"accuracy\": accuracy, \"f1\": f1, \"acc_f1\": np.mean([accuracy, f1])}\n",
      "Out[20]: {'acc_f1': 0.6728448275862069, 'accuracy': 0.725, 'f1': 0.6206896551724138}\n",
      "\n"
     ]
    }
   ],
   "source": [
    "trainer = MultitaskTrainer()\n",
    "trainer.train_model(\n",
    "    model,\n",
    "    tasks,\n",
    "    lr=10e-5,\n",
    "    n_epochs=1,\n",
    "    checkpoint_metric='QNLIR/valid/accuracy',\n",
    "    checkpoint_metric_mode=\"max\",\n",
    "    checkpoint_dir=f\"{os.environ['METALHOME']}/checkpoints/qnli_single\")"
   ]
  },
  {
   "cell_type": "code",
   "execution_count": 12,
   "metadata": {},
   "outputs": [
    {
     "name": "stdout",
     "output_type": "stream",
     "text": [
      "{'QNLIR': tensor([[ 0.7284],\n",
      "        [-2.5780],\n",
      "        [-1.9244],\n",
      "        [ 0.7577],\n",
      "        [ 0.5481],\n",
      "        [-0.9372],\n",
      "        [ 0.8391],\n",
      "        [ 0.3534],\n",
      "        [-1.4872],\n",
      "        [ 0.8267],\n",
      "        [ 0.8482],\n",
      "        [ 0.6817],\n",
      "        [-2.5276],\n",
      "        [ 0.8168],\n",
      "        [-1.4762],\n",
      "        [ 0.8052]], device='cuda:0', grad_fn=<MmBackward>)}\n",
      "{'QNLIR': tensor([[ 0.6975],\n",
      "        [-0.2452],\n",
      "        [ 0.5789],\n",
      "        [ 0.5313],\n",
      "        [ 0.6291],\n",
      "        [ 0.3803],\n",
      "        [ 0.2026],\n",
      "        [ 0.7577],\n",
      "        [ 0.6447],\n",
      "        [ 0.2175],\n",
      "        [-2.4415],\n",
      "        [ 0.7474],\n",
      "        [-0.1609],\n",
      "        [ 0.8786],\n",
      "        [ 0.1403],\n",
      "        [ 0.6800]], device='cuda:0', grad_fn=<MmBackward>)}\n",
      "{'QNLIR': tensor([[ 0.6214],\n",
      "        [ 0.7674],\n",
      "        [ 0.0053],\n",
      "        [ 0.8215],\n",
      "        [ 0.8320],\n",
      "        [-0.5162],\n",
      "        [ 0.6998],\n",
      "        [ 0.1841],\n",
      "        [ 0.7991],\n",
      "        [-0.0138],\n",
      "        [ 0.8508],\n",
      "        [-1.4799],\n",
      "        [ 0.2942],\n",
      "        [ 0.6527],\n",
      "        [-0.4977],\n",
      "        [ 0.7780]], device='cuda:0', grad_fn=<MmBackward>)}\n",
      "{'QNLIR': tensor([[ 0.6366],\n",
      "        [-0.1822],\n",
      "        [ 0.8596],\n",
      "        [ 0.5844],\n",
      "        [-0.0136],\n",
      "        [ 0.2171],\n",
      "        [-2.8013],\n",
      "        [ 0.2175],\n",
      "        [ 0.7646],\n",
      "        [ 0.6860],\n",
      "        [ 0.7555],\n",
      "        [-1.9414],\n",
      "        [ 0.4750],\n",
      "        [-1.7334],\n",
      "        [ 0.7865],\n",
      "        [ 0.1452]], device='cuda:0', grad_fn=<MmBackward>)}\n",
      "{'QNLIR': tensor([[-1.6008],\n",
      "        [ 0.6292],\n",
      "        [-0.3683],\n",
      "        [ 0.7704],\n",
      "        [-1.6482],\n",
      "        [ 0.6090],\n",
      "        [-1.6471],\n",
      "        [ 0.5852],\n",
      "        [ 0.8397],\n",
      "        [ 0.2655],\n",
      "        [ 0.7113],\n",
      "        [-2.3786],\n",
      "        [-2.8217],\n",
      "        [ 0.6856],\n",
      "        [ 0.0603],\n",
      "        [ 0.7297]], device='cuda:0', grad_fn=<MmBackward>)}\n"
     ]
    }
   ],
   "source": [
    "for (X, Y) in tasks[0].data_loaders['valid']:\n",
    "    print(model(X, ['QNLIR']))"
   ]
  },
  {
   "cell_type": "code",
   "execution_count": null,
   "metadata": {
    "scrolled": false
   },
   "outputs": [],
   "source": [
    "for (X, Y) in tasks[0].data_loaders['valid']:\n",
    "    X = [x.cuda() for x in X]\n",
    "    print(model(X, ['QNLIR']))\n",
    "    print(model.calculate_loss(X, Y.cuda(), ['QNLIR']))    \n",
    "    print(model.calculate_output(X, ['QNLIR']))    \n",
    "    break"
   ]
  },
  {
   "cell_type": "code",
   "execution_count": null,
   "metadata": {},
   "outputs": [],
   "source": []
  }
 ],
 "metadata": {
  "kernelspec": {
   "display_name": "(metal)",
   "language": "python",
   "name": "metal"
  },
  "language_info": {
   "codemirror_mode": {
    "name": "ipython",
    "version": 3
   },
   "file_extension": ".py",
   "mimetype": "text/x-python",
   "name": "python",
   "nbconvert_exporter": "python",
   "pygments_lexer": "ipython3",
   "version": "3.6.7"
  }
 },
 "nbformat": 4,
 "nbformat_minor": 2
}
