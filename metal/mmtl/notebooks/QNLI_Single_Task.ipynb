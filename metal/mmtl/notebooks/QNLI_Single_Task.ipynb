{
 "cells": [
  {
   "cell_type": "code",
   "execution_count": 43,
   "metadata": {},
   "outputs": [
    {
     "name": "stdout",
     "output_type": "stream",
     "text": [
      "The autoreload extension is already loaded. To reload it, use:\n",
      "  %reload_ext autoreload\n"
     ]
    }
   ],
   "source": [
    "%load_ext autoreload\n",
    "%autoreload 2\n",
    "%matplotlib inline"
   ]
  },
  {
   "cell_type": "code",
   "execution_count": 69,
   "metadata": {},
   "outputs": [],
   "source": [
    "import os\n",
    "\n",
    "import numpy as np\n",
    "import torch\n",
    "import torch.nn as nn\n",
    "from torch.utils.data import DataLoader, TensorDataset\n",
    "\n",
    "from metal.end_model import EndModel\n",
    "from metal.mmtl.utils.dataset_utils import get_all_dataloaders\n",
    "from pytorch_pretrained_bert import BertTokenizer\n",
    "from metal.mmtl.modules import BertEncoder\n",
    "from metal.mmtl.metal_model import MetalModel\n",
    "from metal.mmtl.scorer import Scorer\n",
    "from metal.mmtl.task import Task\n",
    "from metal.mmtl.trainer import MultitaskTrainer"
   ]
  },
  {
   "cell_type": "markdown",
   "metadata": {},
   "source": [
    "### Config"
   ]
  },
  {
   "cell_type": "code",
   "execution_count": 45,
   "metadata": {},
   "outputs": [],
   "source": [
    "bert_model = 'bert-base-uncased'\n",
    "bert_model_output_shape = 768\n",
    "max_len = 512\n",
    "batch_size = 16\n",
    "split_prop = 0.8"
   ]
  },
  {
   "cell_type": "code",
   "execution_count": 46,
   "metadata": {},
   "outputs": [
    {
     "name": "stdout",
     "output_type": "stream",
     "text": [
      "Loading QNLIR Dataset\n"
     ]
    },
    {
     "data": {
      "application/vnd.jupyter.widget-view+json": {
       "model_id": "e3c2e980c5fa4b04a3a609c858990e6e",
       "version_major": 2,
       "version_minor": 0
      },
      "text/html": [
       "<p>Failed to display Jupyter Widget of type <code>HBox</code>.</p>\n",
       "<p>\n",
       "  If you're reading this message in the Jupyter Notebook or JupyterLab Notebook, it may mean\n",
       "  that the widgets JavaScript is still loading. If this message persists, it\n",
       "  likely means that the widgets JavaScript library is either not installed or\n",
       "  not enabled. See the <a href=\"https://ipywidgets.readthedocs.io/en/stable/user_install.html\">Jupyter\n",
       "  Widgets Documentation</a> for setup instructions.\n",
       "</p>\n",
       "<p>\n",
       "  If you're reading this message in another frontend (for example, a static\n",
       "  rendering on GitHub or <a href=\"https://nbviewer.jupyter.org/\">NBViewer</a>),\n",
       "  it may mean that your frontend doesn't currently support widgets.\n",
       "</p>\n"
      ],
      "text/plain": [
       "HBox(children=(IntProgress(value=0, max=400), HTML(value='')))"
      ]
     },
     "metadata": {},
     "output_type": "display_data"
    },
    {
     "name": "stdout",
     "output_type": "stream",
     "text": [
      "\n"
     ]
    },
    {
     "data": {
      "application/vnd.jupyter.widget-view+json": {
       "model_id": "2573bdc9065f43dc9c74cf0d6014f00f",
       "version_major": 2,
       "version_minor": 0
      },
      "text/html": [
       "<p>Failed to display Jupyter Widget of type <code>HBox</code>.</p>\n",
       "<p>\n",
       "  If you're reading this message in the Jupyter Notebook or JupyterLab Notebook, it may mean\n",
       "  that the widgets JavaScript is still loading. If this message persists, it\n",
       "  likely means that the widgets JavaScript library is either not installed or\n",
       "  not enabled. See the <a href=\"https://ipywidgets.readthedocs.io/en/stable/user_install.html\">Jupyter\n",
       "  Widgets Documentation</a> for setup instructions.\n",
       "</p>\n",
       "<p>\n",
       "  If you're reading this message in another frontend (for example, a static\n",
       "  rendering on GitHub or <a href=\"https://nbviewer.jupyter.org/\">NBViewer</a>),\n",
       "  it may mean that your frontend doesn't currently support widgets.\n",
       "</p>\n"
      ],
      "text/plain": [
       "HBox(children=(IntProgress(value=0, max=400), HTML(value='')))"
      ]
     },
     "metadata": {},
     "output_type": "display_data"
    },
    {
     "name": "stdout",
     "output_type": "stream",
     "text": [
      "\n"
     ]
    }
   ],
   "source": [
    "dataloaders = get_all_dataloaders(\n",
    "    \"QNLIR\", bert_model,\n",
    "    split_prop=split_prop,\n",
    "    max_len=max_len,\n",
    "    max_datapoints=200,\n",
    "    dl_kwargs={'batch_size': batch_size}\n",
    ")"
   ]
  },
  {
   "cell_type": "code",
   "execution_count": 47,
   "metadata": {},
   "outputs": [],
   "source": [
    "tokenizer = BertTokenizer.from_pretrained(bert_model, do_lower_case=True)"
   ]
  },
  {
   "cell_type": "code",
   "execution_count": 64,
   "metadata": {},
   "outputs": [],
   "source": [
    "for x, y in dataloaders['valid']:\n",
    "    break"
   ]
  },
  {
   "cell_type": "code",
   "execution_count": 68,
   "metadata": {},
   "outputs": [
    {
     "name": "stdout",
     "output_type": "stream",
     "text": [
      "[CLS] a movement broken up further is called what ? [SEP] longer works are often divided into self - contained pieces , called movements , often with contrasting characters or moods . [SEP]                                                         \n",
      "\n",
      "[CLS] a movement broken up further is called what ? [SEP] these movements can then be further broken down into a hierarchy of smaller units : first sections , then periods , and finally phrases . [SEP]                                                     \n"
     ]
    }
   ],
   "source": [
    "k = np.random.randint(int(x[0].shape[0]/2))\n",
    "print(' '.join(tokenizer.convert_ids_to_tokens(x[0][2*k].numpy())).replace('[PAD]', ''))\n",
    "print()\n",
    "print(' '.join(tokenizer.convert_ids_to_tokens(x[0][2*k+1].numpy())).replace('[PAD]', ''))"
   ]
  },
  {
   "cell_type": "code",
   "execution_count": 70,
   "metadata": {},
   "outputs": [],
   "source": [
    "trainer_config = {\n",
    "    \"verbose\": True,\n",
    "    \"device\": \"cuda\",\n",
    "    \"loss_fn_reduction\": \"mean\",\n",
    "    \"progress_bar\": True,\n",
    "    #\"data_loader_config\": {\"batch_size\": 32, \"num_workers\": 1, \"shuffle\": True}, ## TODO? \n",
    "    \"n_epochs\": 1,\n",
    "    # 'grad_clip': 1.0,  ## TODO? \n",
    "    \"l2\": 0.01,\n",
    "    \"optimizer_config\": {\n",
    "        \"optimizer\": \"adam\",\n",
    "        \"optimizer_common\": {\"lr\": 1e-5},\n",
    "        \"adam_config\": {\"betas\": (0.9, 0.999)},\n",
    "    },\n",
    "    \"lr_scheduler\": \"exponential\", # reduce_on_plateau  ## TODO? Warmup\n",
    "    \"lr_scheduler_config\": {\n",
    "        \"lr_freeze\": 0,\n",
    "        # Scheduler - exponential\n",
    "        \"exponential_config\": {\"gamma\": 0.9},  # decay rate\n",
    "        # Scheduler - reduce_on_plateau\n",
    "        \"plateau_config\": {\n",
    "            \"factor\": 0.5,\n",
    "            \"patience\": 10,\n",
    "            \"threshold\": 0.0001,\n",
    "            \"min_lr\": 1e-4,\n",
    "        },\n",
    "    },\n",
    "    # Logger (see metal/logging/logger.py for descriptions)\n",
    "    \"logger\": True,\n",
    "    \"logger_config\": {\n",
    "        \"log_unit\": \"epochs\",  # ['seconds', 'examples', 'batches', 'epochs']\n",
    "        \"log_every\": 0.05,\n",
    "        \"score_every\": 0.1,\n",
    "    },# Checkpointer (see metal/logging/checkpointer.py for descriptions)\n",
    "    \"checkpoint\": True,  # If True, checkpoint models when certain conditions are met\n",
    "    \"checkpoint_config\": {\n",
    "        \"checkpoint_every\": 0,  # Save a model checkpoint every this many log_units\n",
    "        \"checkpoint_best\": True,\n",
    "        # \"checkpoint_final\": False,  # Save a model checkpoint at the end of training\n",
    "        \"checkpoint_metric\": \"ranking/valid/accuracy\",\n",
    "        \"checkpoint_metric_mode\": \"max\",\n",
    "        \"checkpoint_dir\": f\"{os.environ['METALHOME']}/checkpoints/qnli_single\",\n",
    "        \"checkpoint_runway\": 0,\n",
    "    },\n",
    "}"
   ]
  },
  {
   "cell_type": "code",
   "execution_count": 71,
   "metadata": {},
   "outputs": [],
   "source": [
    "bert_encoder = BertEncoder(bert_model)"
   ]
  },
  {
   "cell_type": "code",
   "execution_count": 6,
   "metadata": {},
   "outputs": [],
   "source": [
    "from functools import partial\n",
    "from typing import Callable, List\n",
    "import torch.nn.functional as F\n",
    "\n",
    "ranking_head = nn.Linear(in_features=bert_model_output_shape, out_features=2, bias=False)\n",
    "ranking_task = Task(\n",
    "    name=\"ranking\",\n",
    "    data_loaders=dataloaders, \n",
    "    input_module=bert_encoder,\n",
    "    head_module=ranking_head,\n",
    "    scorer=Scorer(standard_metrics=[\"accuracy\"]),\n",
    "    loss_hat_func= lambda X, Y: F.cross_entropy(X, Y - 1),\n",
    "    output_hat_func=partial(F.softmax, dim=1)\n",
    ")"
   ]
  },
  {
   "cell_type": "code",
   "execution_count": 9,
   "metadata": {
    "scrolled": false
   },
   "outputs": [
    {
     "name": "stdout",
     "output_type": "stream",
     "text": [
      "Using GPU...\n"
     ]
    },
    {
     "data": {
      "application/vnd.jupyter.widget-view+json": {
       "model_id": "9500738d7a55417499fc3b75d1bd797f",
       "version_major": 2,
       "version_minor": 0
      },
      "text/html": [
       "<p>Failed to display Jupyter Widget of type <code>HBox</code>.</p>\n",
       "<p>\n",
       "  If you're reading this message in the Jupyter Notebook or JupyterLab Notebook, it may mean\n",
       "  that the widgets JavaScript is still loading. If this message persists, it\n",
       "  likely means that the widgets JavaScript library is either not installed or\n",
       "  not enabled. See the <a href=\"https://ipywidgets.readthedocs.io/en/stable/user_install.html\">Jupyter\n",
       "  Widgets Documentation</a> for setup instructions.\n",
       "</p>\n",
       "<p>\n",
       "  If you're reading this message in another frontend (for example, a static\n",
       "  rendering on GitHub or <a href=\"https://nbviewer.jupyter.org/\">NBViewer</a>),\n",
       "  it may mean that your frontend doesn't currently support widgets.\n",
       "</p>\n"
      ],
      "text/plain": [
       "HBox(children=(IntProgress(value=0, max=342), HTML(value='')))"
      ]
     },
     "metadata": {},
     "output_type": "display_data"
    },
    {
     "name": "stdout",
     "output_type": "stream",
     "text": [
      "[0.050521691378363535 epo]: TRAIN:[loss=0.641]\n",
      "{'ranking/loss': 0.6414394093596417, 'train/loss': 0.6414394093596417}\n",
      "ranking/valid/accuracy\n",
      "[0.10104338275672707 epo]: TRAIN:[loss=0.523] VALID:[ranking/accuracy=0.813]\n",
      "{'ranking/loss': 0.5226242652405864, 'train/loss': 0.5226242652405864, 'ranking/valid/accuracy': 0.8125572030020135}\n",
      "ranking/valid/accuracy\n",
      "hello\n",
      "Saving model at iteration 0.10104338275672707 with best (max) score 0.813\n",
      "[0.1515650741350906 epo]: TRAIN:[loss=0.466]\n",
      "{'ranking/loss': 0.46633189868019975, 'train/loss': 0.46633189868019975}\n",
      "ranking/valid/accuracy\n",
      "\n",
      "Restoring best model from iteration 0.10104338275672707 with score 0.813\n",
      "Finished Training\n",
      "{'ranking/valid/accuracy': 0.8125572030020135}\n"
     ]
    }
   ],
   "source": [
    "tasks = [ranking_task]\n",
    "model = MetalModel(tasks, verbose=False)\n",
    "trainer = MultitaskTrainer()\n",
    "trainer.train_model(\n",
    "    model,\n",
    "    tasks,\n",
    "    **trainer_config)"
   ]
  },
  {
   "cell_type": "code",
   "execution_count": 17,
   "metadata": {
    "scrolled": false
   },
   "outputs": [
    {
     "name": "stdout",
     "output_type": "stream",
     "text": [
      "{'ranking': tensor([[ 0.3899, -0.5400],\n",
      "        [ 0.4240, -0.5404],\n",
      "        [ 0.3580, -0.6234],\n",
      "        [ 0.4644, -0.6587],\n",
      "        [-0.8041,  1.6927],\n",
      "        [-0.4173,  0.9388],\n",
      "        [-0.3887,  0.4791],\n",
      "        [ 0.4736, -0.7310],\n",
      "        [-0.5424,  0.5344],\n",
      "        [-0.2840,  1.0988],\n",
      "        [-0.3985,  0.9711],\n",
      "        [-0.5806,  1.2527],\n",
      "        [ 0.7220, -0.9857],\n",
      "        [ 0.2798, -0.3332],\n",
      "        [ 0.3106, -0.4223],\n",
      "        [-0.4811,  1.6733]], device='cuda:0', grad_fn=<MmBackward>)}\n",
      "{'ranking': tensor(0.3953, device='cuda:0', grad_fn=<NllLossBackward>)}\n",
      "{'ranking': tensor([[0.7171, 0.2829],\n",
      "        [0.7240, 0.2760],\n",
      "        [0.7274, 0.2726],\n",
      "        [0.7546, 0.2454],\n",
      "        [0.0761, 0.9239],\n",
      "        [0.2049, 0.7951],\n",
      "        [0.2957, 0.7043],\n",
      "        [0.7693, 0.2307],\n",
      "        [0.2541, 0.7459],\n",
      "        [0.2006, 0.7994],\n",
      "        [0.2027, 0.7973],\n",
      "        [0.1378, 0.8622],\n",
      "        [0.8465, 0.1535],\n",
      "        [0.6486, 0.3514],\n",
      "        [0.6754, 0.3246],\n",
      "        [0.1039, 0.8961]], device='cuda:0')}\n"
     ]
    }
   ],
   "source": [
    "for (X, Y) in dataloaders['dev']:\n",
    "    X = [x.cuda() for x in X]\n",
    "    print(model(X, ['ranking']))\n",
    "    print(model.calculate_loss(X, Y.cuda(), ['ranking']))    \n",
    "    print(model.calculate_output(X, ['ranking']))    \n",
    "    break"
   ]
  },
  {
   "cell_type": "code",
   "execution_count": 12,
   "metadata": {},
   "outputs": [],
   "source": [
    "import pandas as pd"
   ]
  },
  {
   "cell_type": "code",
   "execution_count": 32,
   "metadata": {},
   "outputs": [],
   "source": [
    "df = pd.read_csv('/dfs/scratch0/bradenjh/glue/QNLIR/old_train.tsv', sep='\\t', error_bad_lines=False)"
   ]
  },
  {
   "cell_type": "code",
   "execution_count": 33,
   "metadata": {},
   "outputs": [
    {
     "data": {
      "text/html": [
       "<div>\n",
       "<style scoped>\n",
       "    .dataframe tbody tr th:only-of-type {\n",
       "        vertical-align: middle;\n",
       "    }\n",
       "\n",
       "    .dataframe tbody tr th {\n",
       "        vertical-align: top;\n",
       "    }\n",
       "\n",
       "    .dataframe thead th {\n",
       "        text-align: right;\n",
       "    }\n",
       "</style>\n",
       "<table border=\"1\" class=\"dataframe\">\n",
       "  <thead>\n",
       "    <tr style=\"text-align: right;\">\n",
       "      <th></th>\n",
       "      <th>Unnamed: 0</th>\n",
       "      <th>index</th>\n",
       "      <th>question</th>\n",
       "      <th>sentence</th>\n",
       "      <th>label</th>\n",
       "    </tr>\n",
       "  </thead>\n",
       "  <tbody>\n",
       "    <tr>\n",
       "      <th>0</th>\n",
       "      <td>58116</td>\n",
       "      <td>59052</td>\n",
       "      <td>'Melting pot' was first used to describe neigh...</td>\n",
       "      <td>The term \"melting pot\" was first coined to des...</td>\n",
       "      <td>entailment</td>\n",
       "    </tr>\n",
       "    <tr>\n",
       "      <th>1</th>\n",
       "      <td>16326</td>\n",
       "      <td>16673</td>\n",
       "      <td>'Melting pot' was first used to describe neigh...</td>\n",
       "      <td>Throughout its history, the city has been a ma...</td>\n",
       "      <td>not_entailment</td>\n",
       "    </tr>\n",
       "    <tr>\n",
       "      <th>2</th>\n",
       "      <td>10592</td>\n",
       "      <td>10779</td>\n",
       "      <td>*Slověninъ, plural *Slověne, is the Slavic aut...</td>\n",
       "      <td>In the 6th century AD Procopius, writing in By...</td>\n",
       "      <td>not_entailment</td>\n",
       "    </tr>\n",
       "    <tr>\n",
       "      <th>3</th>\n",
       "      <td>36607</td>\n",
       "      <td>37249</td>\n",
       "      <td>*Slověninъ, plural *Slověne, is the Slavic aut...</td>\n",
       "      <td>The Slavic autonym is reconstructed in Proto-S...</td>\n",
       "      <td>entailment</td>\n",
       "    </tr>\n",
       "    <tr>\n",
       "      <th>4</th>\n",
       "      <td>87597</td>\n",
       "      <td>89033</td>\n",
       "      <td>.What was the title of Silius Italicus' epic i...</td>\n",
       "      <td>The Augustan poet Ovid parodies the opening li...</td>\n",
       "      <td>not_entailment</td>\n",
       "    </tr>\n",
       "  </tbody>\n",
       "</table>\n",
       "</div>"
      ],
      "text/plain": [
       "   Unnamed: 0  index                                           question  \\\n",
       "0       58116  59052  'Melting pot' was first used to describe neigh...   \n",
       "1       16326  16673  'Melting pot' was first used to describe neigh...   \n",
       "2       10592  10779  *Slověninъ, plural *Slověne, is the Slavic aut...   \n",
       "3       36607  37249  *Slověninъ, plural *Slověne, is the Slavic aut...   \n",
       "4       87597  89033  .What was the title of Silius Italicus' epic i...   \n",
       "\n",
       "                                            sentence           label  \n",
       "0  The term \"melting pot\" was first coined to des...      entailment  \n",
       "1  Throughout its history, the city has been a ma...  not_entailment  \n",
       "2  In the 6th century AD Procopius, writing in By...  not_entailment  \n",
       "3  The Slavic autonym is reconstructed in Proto-S...      entailment  \n",
       "4  The Augustan poet Ovid parodies the opening li...  not_entailment  "
      ]
     },
     "execution_count": 33,
     "metadata": {},
     "output_type": "execute_result"
    }
   ],
   "source": [
    "df.head()"
   ]
  },
  {
   "cell_type": "code",
   "execution_count": 34,
   "metadata": {},
   "outputs": [
    {
     "data": {
      "text/plain": [
       "Index(['Unnamed: 0', 'index', 'question', 'sentence', 'label'], dtype='object')"
      ]
     },
     "execution_count": 34,
     "metadata": {},
     "output_type": "execute_result"
    }
   ],
   "source": [
    "df.columns"
   ]
  },
  {
   "cell_type": "code",
   "execution_count": 35,
   "metadata": {},
   "outputs": [],
   "source": [
    "df = df.drop(columns=df.columns[0])"
   ]
  },
  {
   "cell_type": "code",
   "execution_count": 36,
   "metadata": {},
   "outputs": [
    {
     "data": {
      "text/html": [
       "<div>\n",
       "<style scoped>\n",
       "    .dataframe tbody tr th:only-of-type {\n",
       "        vertical-align: middle;\n",
       "    }\n",
       "\n",
       "    .dataframe tbody tr th {\n",
       "        vertical-align: top;\n",
       "    }\n",
       "\n",
       "    .dataframe thead th {\n",
       "        text-align: right;\n",
       "    }\n",
       "</style>\n",
       "<table border=\"1\" class=\"dataframe\">\n",
       "  <thead>\n",
       "    <tr style=\"text-align: right;\">\n",
       "      <th></th>\n",
       "      <th>index</th>\n",
       "      <th>question</th>\n",
       "      <th>sentence</th>\n",
       "      <th>label</th>\n",
       "    </tr>\n",
       "  </thead>\n",
       "  <tbody>\n",
       "    <tr>\n",
       "      <th>0</th>\n",
       "      <td>59052</td>\n",
       "      <td>'Melting pot' was first used to describe neigh...</td>\n",
       "      <td>The term \"melting pot\" was first coined to des...</td>\n",
       "      <td>entailment</td>\n",
       "    </tr>\n",
       "    <tr>\n",
       "      <th>1</th>\n",
       "      <td>16673</td>\n",
       "      <td>'Melting pot' was first used to describe neigh...</td>\n",
       "      <td>Throughout its history, the city has been a ma...</td>\n",
       "      <td>not_entailment</td>\n",
       "    </tr>\n",
       "    <tr>\n",
       "      <th>2</th>\n",
       "      <td>10779</td>\n",
       "      <td>*Slověninъ, plural *Slověne, is the Slavic aut...</td>\n",
       "      <td>In the 6th century AD Procopius, writing in By...</td>\n",
       "      <td>not_entailment</td>\n",
       "    </tr>\n",
       "    <tr>\n",
       "      <th>3</th>\n",
       "      <td>37249</td>\n",
       "      <td>*Slověninъ, plural *Slověne, is the Slavic aut...</td>\n",
       "      <td>The Slavic autonym is reconstructed in Proto-S...</td>\n",
       "      <td>entailment</td>\n",
       "    </tr>\n",
       "    <tr>\n",
       "      <th>4</th>\n",
       "      <td>89033</td>\n",
       "      <td>.What was the title of Silius Italicus' epic i...</td>\n",
       "      <td>The Augustan poet Ovid parodies the opening li...</td>\n",
       "      <td>not_entailment</td>\n",
       "    </tr>\n",
       "  </tbody>\n",
       "</table>\n",
       "</div>"
      ],
      "text/plain": [
       "   index                                           question  \\\n",
       "0  59052  'Melting pot' was first used to describe neigh...   \n",
       "1  16673  'Melting pot' was first used to describe neigh...   \n",
       "2  10779  *Slověninъ, plural *Slověne, is the Slavic aut...   \n",
       "3  37249  *Slověninъ, plural *Slověne, is the Slavic aut...   \n",
       "4  89033  .What was the title of Silius Italicus' epic i...   \n",
       "\n",
       "                                            sentence           label  \n",
       "0  The term \"melting pot\" was first coined to des...      entailment  \n",
       "1  Throughout its history, the city has been a ma...  not_entailment  \n",
       "2  In the 6th century AD Procopius, writing in By...  not_entailment  \n",
       "3  The Slavic autonym is reconstructed in Proto-S...      entailment  \n",
       "4  The Augustan poet Ovid parodies the opening li...  not_entailment  "
      ]
     },
     "execution_count": 36,
     "metadata": {},
     "output_type": "execute_result"
    }
   ],
   "source": [
    "df.head()"
   ]
  },
  {
   "cell_type": "code",
   "execution_count": 37,
   "metadata": {},
   "outputs": [],
   "source": [
    "df.to_csv('/dfs/scratch0/bradenjh/glue/QNLIR/train.tsv', sep='\\t', index=False)"
   ]
  },
  {
   "cell_type": "code",
   "execution_count": 38,
   "metadata": {},
   "outputs": [
    {
     "name": "stdout",
     "output_type": "stream",
     "text": [
      "index\tquestion\tsentence\tlabel\n",
      "\n",
      "0\tWhen did the third Digimon series begin?\tUnlike the two seasons before it and most of the seasons that followed, Digimon Tamers takes a darker and more realistic approach to its story featuring Digimon who do not reincarnate after their deaths and more complex character development in the original Japanese.\tnot_entailment\n",
      "\n"
     ]
    }
   ],
   "source": [
    "import codecs\n",
    "data_file = '/dfs/scratch0/bradenjh/glue/QNLI/train.tsv'\n",
    "with codecs.open(data_file, \"r\", \"utf-8\") as data_fh:\n",
    "    print(data_fh.readline())\n",
    "    print(data_fh.readline())\n",
    "    s1=data_fh.readline()"
   ]
  },
  {
   "cell_type": "code",
   "execution_count": 40,
   "metadata": {},
   "outputs": [
    {
     "name": "stdout",
     "output_type": "stream",
     "text": [
      "index\tquestion\tsentence\tlabel\n",
      "\n",
      "59052\t'Melting pot' was first used to describe neighborhoods in what area of the city?\t\"The term \"\"melting pot\"\" was first coined to describe densely populated immigrant neighborhoods on the Lower East Side.\"\tentailment\n",
      "\n"
     ]
    }
   ],
   "source": [
    "import codecs\n",
    "data_file = '/dfs/scratch0/bradenjh/glue/QNLIR/train.tsv'\n",
    "with codecs.open(data_file, \"r\", \"utf-8\") as data_fh:\n",
    "    print(data_fh.readline())\n",
    "    print(data_fh.readline())\n",
    "    s2=data_fh.readline()"
   ]
  },
  {
   "cell_type": "code",
   "execution_count": 41,
   "metadata": {},
   "outputs": [
    {
     "data": {
      "text/plain": [
       "'1\\tWhich missile batteries often have individual launchers several kilometres from one another?\\tWhen MANPADS is operated by specialists, batteries may have several dozen teams deploying separately in small sections; self-propelled air defence guns may deploy in pairs.\\tnot_entailment\\n'"
      ]
     },
     "execution_count": 41,
     "metadata": {},
     "output_type": "execute_result"
    }
   ],
   "source": [
    "s1"
   ]
  },
  {
   "cell_type": "code",
   "execution_count": 42,
   "metadata": {},
   "outputs": [
    {
     "data": {
      "text/plain": [
       "\"16673\\t'Melting pot' was first used to describe neighborhoods in what area of the city?\\tThroughout its history, the city has been a major port of entry for immigrants into the United States; more than 12 million European immigrants were received at Ellis Island between 1892 and 1924.\\tnot_entailment\\n\""
      ]
     },
     "execution_count": 42,
     "metadata": {},
     "output_type": "execute_result"
    }
   ],
   "source": [
    "s2"
   ]
  },
  {
   "cell_type": "code",
   "execution_count": null,
   "metadata": {},
   "outputs": [],
   "source": []
  }
 ],
 "metadata": {
  "kernelspec": {
   "display_name": "(metal)",
   "language": "python",
   "name": "metal"
  },
  "language_info": {
   "codemirror_mode": {
    "name": "ipython",
    "version": 3
   },
   "file_extension": ".py",
   "mimetype": "text/x-python",
   "name": "python",
   "nbconvert_exporter": "python",
   "pygments_lexer": "ipython3",
   "version": "3.6.7"
  }
 },
 "nbformat": 4,
 "nbformat_minor": 2
}
