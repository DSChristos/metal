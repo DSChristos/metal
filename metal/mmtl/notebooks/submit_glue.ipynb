{
 "cells": [
  {
   "cell_type": "code",
   "execution_count": 2,
   "metadata": {},
   "outputs": [
    {
     "name": "stdout",
     "output_type": "stream",
     "text": [
      "Better speed can be achieved with apex installed from https://www.github.com/nvidia/apex.\n"
     ]
    }
   ],
   "source": [
    "%load_ext autoreload\n",
    "%autoreload 2\n",
    "import os\n",
    "import zipfile\n",
    "\n",
    "from metal.mmtl.bert_tasks import create_tasks\n",
    "from metal.mmtl.metal_model import MetalModel"
   ]
  },
  {
   "cell_type": "markdown",
   "metadata": {},
   "source": [
    "### Config parameters"
   ]
  },
  {
   "cell_type": "code",
   "execution_count": 32,
   "metadata": {},
   "outputs": [],
   "source": [
    "# where to save tsv files\n",
    "submission_dir = 'submission_02_20_19_0'\n",
    "# set to 'dev' to compute validation metrics on dev set or 'test' to write submissions in the submission_dir\n",
    "eval_split = 'test'\n",
    "max_datapoints = -1"
   ]
  },
  {
   "cell_type": "markdown",
   "metadata": {},
   "source": [
    "### Define which models weights to use"
   ]
  },
  {
   "cell_type": "code",
   "execution_count": 33,
   "metadata": {},
   "outputs": [],
   "source": [
    "# model config (needs to be the same as parameters used for training)\n",
    "bert_model = \"bert-base-uncased\"\n",
    "max_len = 256\n",
    "bert_output_dim = 768\n",
    "dl_kwargs = {\"batch_size\": 32, \"shuffle\": False}"
   ]
  },
  {
   "cell_type": "code",
   "execution_count": 34,
   "metadata": {},
   "outputs": [],
   "source": [
    "# 02/18/19\n",
    "model_paths = {\n",
    "    'QNLI': '/dfs/scratch0/chami/metal/metal/mmtl/checkpoints/15-2-2019/QNLI_21_28_59/',\n",
    "    'STSB': '/dfs/scratch0/vschen/metal-mmtl/logs/test_logs/14-2-2019/STSB_17_59_04/',\n",
    "    'SST2': '/dfs/scratch0/vschen/metal-mmtl/logs/test_logs/14-2-2019/SST2_00_01_36/',\n",
    "    'COLA': '/dfs/scratch0/vschen/metal-mmtl/logs/test_logs/14-2-2019/COLA_19_48_08/',\n",
    "    'RTE':'/dfs/scratch0/vschen/metal-mmtl/logs/test_logs/13-2-2019/RTE_22_52_53/',\n",
    "    'WNLI': '/dfs/scratch0/vschen/metal-mmtl/logs/test_logs/13-2-2019/WNLI_23_05_55/',\n",
    "    'QQP': '/dfs/scratch1/senwu/mmtl/logs/checkpoints/16-2-2019/QQP_SAN_01_48_40',\n",
    "    'MRPC':'/dfs/scratch0/vschen/metal-mmtl/logs/test_logs/13-2-2019/MRPC_23_21_58/',\n",
    "    'MNLI': '/dfs/scratch0/vschen/metal-mmtl/logs/test_logs/15-2-2019/MNLI_22_13_38/'\n",
    "}\n",
    "\n",
    "# 02/19/19\n",
    "model_paths = {\n",
    "    'MNLI_SAN': '/dfs/scratch1/senwu/mmtl/logs/checkpoints/17-2-2019/MNLI_SAN_02_27_41/',\n",
    "    'QNLI': '/dfs/scratch0/mccreery/mmtl/logs/2019_02_19/QNLI_09_56_46/',\n",
    "    'STSB': '/dfs/scratch0/mccreery/mmtl/logs/2019_02_19/STSB_09_46_46/',\n",
    "    'SST2': '/dfs/scratch0/mccreery/mmtl/logs/2019_02_19/SST2_06_01_35/',\n",
    "    'COLA': '/dfs/scratch0/mccreery/mmtl/logs/2019_02_19/COLA_05_49_39/',\n",
    "    'RTE':'/dfs/scratch0/mccreery/mmtl/logs/2019_02_19/RTE_06_32_37/',\n",
    "    'WNLI': '/dfs/scratch0/mccreery/mmtl/logs/2019_02_19/WNLI_06_38_32/',\n",
    "    'QQP': '/dfs/scratch0/mccreery/mmtl/logs/2019_02_19/QQP_06_47_48/',\n",
    "    'MRPC':'/dfs/scratch0/mccreery/mmtl/logs/2019_02_19/MRPC_09_40_25/'\n",
    "}\n",
    "\n",
    "# 02/19/19\n",
    "model_paths = {\n",
    "    'MNLI_SAN': '/dfs/scratch1/senwu/mmtl/logs/checkpoints/17-2-2019/MNLI_SAN_02_27_41/',\n",
    "    'QNLI': '/dfs/scratch0/mccreery/mmtl/logs/2019_02_19/QNLI_09_56_46/',\n",
    "    'STSB': '/dfs/scratch0/mccreery/mmtl/logs/2019_02_19/STSB_09_46_46/',\n",
    "    'SST2': '/dfs/scratch0/mccreery/mmtl/logs/2019_02_19/SST2_06_01_35/',\n",
    "    'COLA': '/dfs/scratch0/mccreery/mmtl/logs/2019_02_19/COLA_05_49_39/',\n",
    "    'RTE':'/dfs/scratch0/mccreery/mmtl/logs/2019_02_19/RTE_06_32_37/',\n",
    "    'WNLI': '/dfs/scratch0/mccreery/mmtl/logs/2019_02_19/WNLI_06_38_32/',\n",
    "    'QQP': '/dfs/scratch0/mccreery/mmtl/logs/2019_02_19/QQP_06_47_48/',\n",
    "    'MRPC':'/dfs/scratch0/mccreery/mmtl/logs/2019_02_19/MRPC_09_40_25/'\n",
    "}\n",
    "\n",
    "# 02/19/19\n",
    "model_paths = {\n",
    "    'MNLI_SAN': '/dfs/scratch1/senwu/mmtl/logs/checkpoints/17-2-2019/MNLI_SAN_02_27_41/',\n",
    "    'QNLI': '/dfs/scratch0/mccreery/mmtl/logs/2019_02_19/QNLI_09_56_46/',\n",
    "    'STSB': '/dfs/scratch0/mccreery/mmtl/logs/2019_02_19/STSB_09_46_46/',\n",
    "    'SST2': '/dfs/scratch0/mccreery/mmtl/logs/2019_02_19/SST2_06_01_35/',\n",
    "    'COLA': '/dfs/scratch0/mccreery/mmtl/logs/2019_02_19/COLA_05_49_39/',\n",
    "    'RTE':'/dfs/scratch0/mccreery/mmtl/logs/2019_02_19/RTE_06_32_37/',\n",
    "    'WNLI': '/dfs/scratch0/mccreery/mmtl/logs/2019_02_19/WNLI_06_38_32/',\n",
    "    'QQP': '/dfs/scratch0/mccreery/mmtl/logs/2019_02_19/QQP_06_47_48/',\n",
    "    'MRPC':'/dfs/scratch0/mccreery/mmtl/logs/2019_02_19/MRPC_09_40_25/'\n",
    "}\n",
    "\n",
    "# 02/19/19 (sen's models)\n",
    "model_paths = {\n",
    "    #'WNLI': '/dfs/scratch1/senwu/mmtl/logs/ckpt/14-2-2019/WNLI_SAN_09_50_37/',\n",
    "    #'MNLI_SAN': '/dfs/scratch1/senwu/mmtl/logs/checkpoints/17-2-2019/MNLI_SAN_02_27_41/',\n",
    "    'RTE_SAN': '/dfs/scratch1/senwu/mmtl/logs/2019_02_19/RTE_SAN_11_44_21/',\n",
    "    #'QQP_SAN': '/dfs/scratch1/senwu/mmtl/logs/checkpoints/16-2-2019/QQP_SAN_01_48_40/',\n",
    "    #'MRPC_SAN':'/dfs/scratch1/senwu/mmtl/logs/checkpoints/16-2-2019/MRPC_SAN_10_36_39/',\n",
    "    #\"QNLI\": '/dfs/scratch0/chami/metal/metal/mmtl/checkpoints/19-2-2019/QNLI_02_09_46/'\n",
    "}\n",
    "\n",
    "# best models based on val scores \n",
    "model_paths = {\n",
    "    #'QNLI': '/dfs/scratch0/mccreery/mmtl/logs/2019_02_19/QNLI_09_56_46/',\n",
    "    #'STSB': '/dfs/scratch0/vschen/metal-mmtl/logs/test_logs/14-2-2019/STSB_17_59_04/',\n",
    "    #'STSB': '/dfs/scratch0/chami/metal/logs/2019_02_21/STSB_00_20_13',\n",
    "    #’SST2': '/dfs/scratch0/vschen/metal-mmtl/logs/test_logs/14-2-2019/SST2_00_01_36/',\n",
    "    #'SST2': '/dfs/scratch0/chami/metal/metal/mmtl/checkpoints/19-2-2019/SST2_02_01_09',\n",
    "    #'COLA': '/dfs/scratch0/mccreery/mmtl/logs/2019_02_19/COLA_05_49_39/',\n",
    "    #'COLA': '/dfs/scratch0/mccreery/mmtl/logs/2019_02_19/4_tuned_COLA/logdir/2019_02_19/COLA_20_56_07',\n",
    "    'COLA': '/dfs/scratch0/chami/metal/logs/2019_02_20/COLA_23_41_22/',\n",
    "    #'RTE':'/dfs/scratch0/vschen/metal-mmtl/logs/test_logs/13-2-2019/RTE_22_52_53/',\n",
    "    \"RTE\": \"/dfs/scratch0/chami/metal/logs/2019_02_20/RTE_21_25_34/\",\n",
    "    #'WNLI': '/dfs/scratch0/vschen/metal-mmtl/logs/test_logs/13-2-2019/WNLI_23_05_55/',\n",
    "    #'QQP': '/dfs/scratch1/senwu/mmtl/logs/checkpoints/16-2-2019/QQP_SAN_01_48_40',\n",
    "    #'MRPC':'/dfs/scratch0/vschen/metal-mmtl/logs/test_logs/13-2-2019/MRPC_23_21_58/',\n",
    "    'MRPC_SAN': '/dfs/scratch1/senwu/mmtl/logs/2019_02_19/MRPC_SAN_11_57_55/',\n",
    "    #'MRPC': '/dfs/scratch0/chami/metal/logs/2019_02_20/MRPC_23_56_29'\n",
    "    #’MNLI': '/dfs/scratch0/vschen/metal-mmtl/logs/test_logs/15-2-2019/MNLI_22_13_38/'\n",
    "}"
   ]
  },
  {
   "cell_type": "markdown",
   "metadata": {},
   "source": [
    "### Helper functions"
   ]
  },
  {
   "cell_type": "code",
   "execution_count": 35,
   "metadata": {},
   "outputs": [],
   "source": [
    "def save_tsv(predictions, task_name, state, submission_dir):\n",
    "    task_to_name_dict = {\n",
    "        \"QNLI\": \"QNLI\",\n",
    "        \"STSB\": \"STS-B\",\n",
    "        \"SST2\": \"SST-2\",\n",
    "        \"COLA\": \"CoLA\",\n",
    "        \"MNLI\" : {\"mismatched\": \"MNLI-mm\", \"matched\": \"MNLI-m\"},\n",
    "        \"MNLI_SAN\" : {\"mismatched\": \"MNLI-mm\", \"matched\": \"MNLI-m\"},\n",
    "        \"RTE\": \"RTE\",\n",
    "        \"RTE_SAN\": \"RTE\",\n",
    "        \"WNLI\": \"WNLI\",\n",
    "        \"WNLI_SAN\": \"WNLI\",\n",
    "        \"QQP\": \"QQP\",\n",
    "        \"QQP_SAN\": \"QQP\",\n",
    "        \"MRPC\": \"MRPC\",\n",
    "        \"MRPC_SAN\": \"MRPC\"        \n",
    "    }\n",
    "    if isinstance(task_to_name_dict[task_name], dict):\n",
    "        file_name = task_to_name_dict[task_name][state]\n",
    "    else:\n",
    "        file_name = task_to_name_dict[task_name]\n",
    "    file_path = os.path.join(submission_dir, f\"{file_name}.tsv\")\n",
    "    with open(file_path, 'w') as f:\n",
    "        f.write('index\\tprediction\\n')\n",
    "        for idx, pred in enumerate(predictions):\n",
    "            f.write(f'{int(idx)}\\t{str(pred)}\\n')\n",
    "    print(\"Saved TSV to: \", file_path)\n",
    "\n",
    "def zipdir(path, ziph):\n",
    "    # ziph is zipfile handle\n",
    "    for root, dirs, files in os.walk(path):\n",
    "        for file in files:\n",
    "            if file.split('.')[-1] == 'tsv':\n",
    "                ziph.write(os.path.join(root, file))"
   ]
  },
  {
   "cell_type": "markdown",
   "metadata": {},
   "source": [
    "### Compute and save predictions"
   ]
  },
  {
   "cell_type": "code",
   "execution_count": 36,
   "metadata": {},
   "outputs": [
    {
     "name": "stdout",
     "output_type": "stream",
     "text": [
      "/dfs/scratch0/chami/metal/logs/2019_02_20/COLA_23_41_22/\n",
      "Using random seed: 5490.\n",
      "Loading COLA Dataset\n"
     ]
    },
    {
     "data": {
      "application/vnd.jupyter.widget-view+json": {
       "model_id": "9809909b76ba49cf95fd7b2aeb3c13c9",
       "version_major": 2,
       "version_minor": 0
      },
      "text/plain": [
       "HBox(children=(IntProgress(value=0, max=1063), HTML(value='')))"
      ]
     },
     "metadata": {},
     "output_type": "display_data"
    },
    {
     "name": "stdout",
     "output_type": "stream",
     "text": [
      "\n",
      "Saved TSV to:  submission_02_20_19_0/CoLA.tsv\n",
      "/dfs/scratch0/chami/metal/logs/2019_02_20/RTE_21_25_34/\n",
      "Using random seed: 323640.\n",
      "Loading RTE Dataset\n"
     ]
    },
    {
     "data": {
      "application/vnd.jupyter.widget-view+json": {
       "model_id": "7276bd957762460f8853a54d8fd8aa8f",
       "version_major": 2,
       "version_minor": 0
      },
      "text/plain": [
       "HBox(children=(IntProgress(value=0, max=3000), HTML(value='')))"
      ]
     },
     "metadata": {},
     "output_type": "display_data"
    },
    {
     "name": "stdout",
     "output_type": "stream",
     "text": [
      "\n",
      "Saved TSV to:  submission_02_20_19_0/RTE.tsv\n",
      "/dfs/scratch1/senwu/mmtl/logs/2019_02_19/MRPC_SAN_11_57_55/\n",
      "Using random seed: 355122.\n",
      "Loading MRPC Dataset\n"
     ]
    },
    {
     "data": {
      "application/vnd.jupyter.widget-view+json": {
       "model_id": "4be3d0c1d24b46289424a6bc57a1b129",
       "version_major": 2,
       "version_minor": 0
      },
      "text/plain": [
       "HBox(children=(IntProgress(value=0, max=1725), HTML(value='')))"
      ]
     },
     "metadata": {},
     "output_type": "display_data"
    },
    {
     "name": "stdout",
     "output_type": "stream",
     "text": [
      "\n",
      "Saved TSV to:  submission_02_20_19_0/MRPC.tsv\n"
     ]
    }
   ],
   "source": [
    "# create submission directory if not found\n",
    "if not os.path.isdir(submission_dir):\n",
    "    os.mkdir(submission_dir)\n",
    "\n",
    "all_scores = []\n",
    "\n",
    "for task_name, model_dir in model_paths.items():\n",
    "    print(model_dir)\n",
    "    if 'MNLI' in task_name:\n",
    "        states = ['mismatched', 'matched']\n",
    "        splits = [f'{eval_split}_{state}' for state in states]\n",
    "    else: \n",
    "        states = [None]\n",
    "        splits = [eval_split]\n",
    "\n",
    "    # create model\n",
    "    task = create_tasks(\n",
    "        task_names=[task_name],\n",
    "        bert_model=bert_model,\n",
    "        max_len=max_len,\n",
    "        dl_kwargs=dl_kwargs,\n",
    "        bert_output_dim=bert_output_dim,\n",
    "        splits=splits,\n",
    "        max_datapoints=max_datapoints,\n",
    "    )[0]\n",
    "    \n",
    "    # load model weights \n",
    "    model_path = os.path.join(model_dir, 'best_model.pth')\n",
    "    model = MetalModel([task], verbose=False, device=0)\n",
    "    model.load_weights(model_path)\n",
    "    model.eval()\n",
    "    \n",
    "    if eval_split == 'dev':\n",
    "        # just compute evaluation metrics for debugging\n",
    "        score = task.scorer.score(model, task)\n",
    "        all_scores.append(score)\n",
    "            \n",
    "        print(score)\n",
    "\n",
    "    else:\n",
    "        \n",
    "        for i, split in enumerate(splits):\n",
    "            \n",
    "            # predict on eval_set\n",
    "            Y, Y_probs, Y_preds = model._predict_probs(task, split=split, return_preds=True)\n",
    "        \n",
    "            inv_label_fn = task.data_loaders[split].dataset.inv_label_fn\n",
    "            predicted_labels = [inv_label_fn(pred) for pred in Y_preds]\n",
    "        \n",
    "            if task_name != 'STSB':\n",
    "                predicted_labels = [inv_label_fn(pred) for pred in Y_preds]\n",
    "            else:\n",
    "                # STSB is a regression task so we operate directly on predictions\n",
    "                predicted_labels = [round(inv_label_fn(pred), 3) for pred in Y_probs.flatten()]\n",
    "    \n",
    "            # save predictions on test set for submission\n",
    "            save_tsv(predicted_labels, task_name, states[i], submission_dir)\n",
    "\n",
    "for score in all_scores:\n",
    "    print(score)"
   ]
  },
  {
   "cell_type": "markdown",
   "metadata": {},
   "source": [
    "**In case one is too lazy to zip manually**"
   ]
  },
  {
   "cell_type": "code",
   "execution_count": null,
   "metadata": {},
   "outputs": [],
   "source": [
    "zipf = zipfile.ZipFile(f'{submission_dir}.zip', 'w', zipfile.ZIP_DEFLATED)\n",
    "zipdir(submission_dir, zipf)\n",
    "zipf.close()"
   ]
  },
  {
   "cell_type": "code",
   "execution_count": null,
   "metadata": {},
   "outputs": [],
   "source": []
  }
 ],
 "metadata": {
  "kernelspec": {
   "display_name": "Python 3",
   "language": "python",
   "name": "python3"
  },
  "language_info": {
   "codemirror_mode": {
    "name": "ipython",
    "version": 3
   },
   "file_extension": ".py",
   "mimetype": "text/x-python",
   "name": "python",
   "nbconvert_exporter": "python",
   "pygments_lexer": "ipython3",
   "version": "3.6.7"
  }
 },
 "nbformat": 4,
 "nbformat_minor": 2
}
