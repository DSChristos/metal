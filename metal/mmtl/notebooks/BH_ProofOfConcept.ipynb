{
 "cells": [
  {
   "cell_type": "code",
   "execution_count": 1,
   "metadata": {},
   "outputs": [
    {
     "name": "stdout",
     "output_type": "stream",
     "text": [
      "The autoreload extension is already loaded. To reload it, use:\n",
      "  %reload_ext autoreload\n"
     ]
    }
   ],
   "source": [
    "%load_ext autoreload\n",
    "%autoreload 2"
   ]
  },
  {
   "cell_type": "code",
   "execution_count": 2,
   "metadata": {
    "scrolled": true
   },
   "outputs": [
    {
     "name": "stdout",
     "output_type": "stream",
     "text": [
      "Better speed can be achieved with apex installed from https://www.github.com/nvidia/apex.\n",
      "Using random seed: 704119\n",
      "Loading MRPC Dataset\n"
     ]
    },
    {
     "data": {
      "application/vnd.jupyter.widget-view+json": {
       "model_id": "77dca63cad35471fada0996f2c721aed",
       "version_major": 2,
       "version_minor": 0
      },
      "text/plain": [
       "HBox(children=(IntProgress(value=0, max=200), HTML(value='')))"
      ]
     },
     "metadata": {},
     "output_type": "display_data"
    },
    {
     "name": "stdout",
     "output_type": "stream",
     "text": [
      "\n"
     ]
    },
    {
     "data": {
      "application/vnd.jupyter.widget-view+json": {
       "model_id": "6305130aa0f64c858c6e0099f69c1fcf",
       "version_major": 2,
       "version_minor": 0
      },
      "text/plain": [
       "HBox(children=(IntProgress(value=0, max=200), HTML(value='')))"
      ]
     },
     "metadata": {},
     "output_type": "display_data"
    },
    {
     "name": "stdout",
     "output_type": "stream",
     "text": [
      "\n"
     ]
    },
    {
     "data": {
      "application/vnd.jupyter.widget-view+json": {
       "model_id": "d1ec516f55f64e3abb0bc71685bd591d",
       "version_major": 2,
       "version_minor": 0
      },
      "text/plain": [
       "HBox(children=(IntProgress(value=0, max=200), HTML(value='')))"
      ]
     },
     "metadata": {},
     "output_type": "display_data"
    },
    {
     "name": "stdout",
     "output_type": "stream",
     "text": [
      "\n"
     ]
    }
   ],
   "source": [
    "from metal.mmtl.glue_tasks import create_tasks\n",
    "\n",
    "task_names = [\n",
    "#     \"COLA\", \n",
    "#     \"SST2\", \n",
    "#     \"MNLI\",\n",
    "#     \"RTE\",\n",
    "#     \"WNLI\",\n",
    "#     \"QQP\",\n",
    "    \"MRPC\",\n",
    "#     \"STSB\",\n",
    "#     \"QNLI\"\n",
    "]\n",
    "tasks = create_tasks(task_names,\n",
    "                     max_datapoints=200,\n",
    "                     max_len=200,\n",
    "                     dl_kwargs={\n",
    "                         \"batch_size\": 4\n",
    "                     }\n",
    "                    )"
   ]
  },
  {
   "cell_type": "code",
   "execution_count": 3,
   "metadata": {},
   "outputs": [],
   "source": [
    "import copy\n",
    "import numpy as np\n",
    "from torch.utils.data import SequentialSampler\n",
    "\n",
    "def mark_thirds(x):\n",
    "    tokens = x\n",
    "    count = len(tokens)\n",
    "    Y_thirds = np.ceil(np.array([idx * 3/count for idx in range(1, count + 1)])).astype(np.int64)\n",
    "    return Y_thirds\n",
    "\n",
    "def overwrite_labels(dataset, label_generator):\n",
    "    \"\"\"Creates a copy of dataset where the labels are overwritten with a new labelset\n",
    "    \n",
    "    Args:\n",
    "        dataset: a dataset consisting of (X, Ys)\n",
    "        label_generator: a function which maps from a single instance x to its new label\n",
    "    Returns:\n",
    "        dataset_new: a new dataset where the labels have been overwritten by label_generator\n",
    "    \"\"\"\n",
    "    dataset_new = copy.deepcopy(dataset)\n",
    "    X = dataset_new.tokens\n",
    "    Y_new = []\n",
    "    for x in X:\n",
    "        Y_new.append(label_generator(x))\n",
    "    dataset_new.labels = [Y_new]\n",
    "    return dataset_new\n",
    "\n",
    "def append_labels(dataset, label_generator):\n",
    "    X = dataset.tokens\n",
    "    Y_new = []\n",
    "    for x in X:\n",
    "        Y_new.append(label_generator(x))\n",
    "    dataset_new.labels.append(Y_new)\n",
    "    return dataset_new    "
   ]
  },
  {
   "cell_type": "code",
   "execution_count": 4,
   "metadata": {
    "scrolled": true
   },
   "outputs": [],
   "source": [
    "# print(tasks[0])\n",
    "# for batch in tasks[0].data_loaders[\"train\"]:\n",
    "#     X, Y = batch\n",
    "#     print(Y)\n",
    "#     break"
   ]
  },
  {
   "cell_type": "code",
   "execution_count": 5,
   "metadata": {},
   "outputs": [],
   "source": [
    "# data_loader_new = overwrite_labels(tasks[0].data_loaders[\"train\"], mark_thirds)\n",
    "# for batch in data_loader_new:\n",
    "#     X, Y = batch\n",
    "#     print(Y)\n",
    "#     break"
   ]
  },
  {
   "cell_type": "markdown",
   "metadata": {},
   "source": [
    "### Create a new task with only token labels"
   ]
  },
  {
   "cell_type": "code",
   "execution_count": 7,
   "metadata": {
    "scrolled": false
   },
   "outputs": [
    {
     "name": "stdout",
     "output_type": "stream",
     "text": [
      "[TokenClassificationTask(name=Thirds, task_names=Thirds)]\n"
     ]
    }
   ],
   "source": [
    "from metal.mmtl.task import TokenClassificationTask\n",
    "from metal.mmtl.modules import BertTokenClassificationHead\n",
    "\n",
    "temp_task = copy.deepcopy(tasks[0])\n",
    "bert_module = temp_task.input_module\n",
    "data_loaders = {}\n",
    "for split, loader in temp_task.data_loaders.items():\n",
    "    loader.dataset = overwrite_labels(loader.dataset, mark_thirds)\n",
    "    data_loaders[split] = loader\n",
    "\n",
    "token_head = BertTokenClassificationHead(768, 3)\n",
    "thirds_task = TokenClassificationTask(\n",
    "        name=\"Thirds\",\n",
    "        data_loaders=data_loaders,\n",
    "        input_module=bert_module,\n",
    "        head_module=token_head,\n",
    ")\n",
    "\n",
    "tasks.append(thirds_task)\n",
    "# tasks = [thirds_task]\n",
    "print(tasks)"
   ]
  },
  {
   "cell_type": "markdown",
   "metadata": {},
   "source": [
    "###  Supplement an existing task with additional token labels"
   ]
  },
  {
   "cell_type": "code",
   "execution_count": 8,
   "metadata": {},
   "outputs": [],
   "source": [
    "# for split, loader in tasks[0].data_loaders.items():\n",
    "#     loader.dataset = append_labels(loader.dataset, mark_thirds)\n",
    "\n",
    "# print(tasks)"
   ]
  },
  {
   "cell_type": "code",
   "execution_count": 9,
   "metadata": {
    "scrolled": false
   },
   "outputs": [],
   "source": [
    "# import copy\n",
    "# import numpy as np\n",
    "\n",
    "# for split, dataloader in tasks[0].data_loaders.items():\n",
    "\n",
    "#     # To add additional label set (garbage filler right now), uncomment:\n",
    "#     sentence_labels = dataloader.dataset.labels[0]\n",
    "\n",
    "#     # Add sentence task\n",
    "#     # faux_labels = copy.deepcopy(sentence_labels)\n",
    "#     # dataloader.dataset.labels = [sentence_labels, faux_labels]\n",
    "#     # tasks[0].task_names = [t.name for t in tasks]\n",
    "\n",
    "#     # Add token task\n",
    "#     token_labels = make_labels_marking_thirds(dataloader)\n",
    "#     dataloader.dataset.labels = [token_labels]\n",
    "\n",
    "#     dataloader.dataset.labels"
   ]
  },
  {
   "cell_type": "code",
   "execution_count": 10,
   "metadata": {
    "scrolled": false
   },
   "outputs": [],
   "source": [
    "# for batch in tasks[0].data_loaders[\"train\"]:\n",
    "#     X, Ys = batch\n",
    "#     tokens, segments, masks = X\n",
    "#     batch_size, seq_len = tokens.shape\n",
    "#     print(tokens)\n",
    "#     print(tokens.shape)\n",
    "#     print(segments)\n",
    "#     print(masks)\n",
    "# #     active_lens = masks.sum(dim=1)\n",
    "# #     print(active_lens)\n",
    "#     print(Ys)\n",
    "#     print(Ys[0].shape)\n",
    "#     break"
   ]
  },
  {
   "cell_type": "code",
   "execution_count": 11,
   "metadata": {},
   "outputs": [
    {
     "name": "stdout",
     "output_type": "stream",
     "text": [
      "Cuda devices:  [Not Set]\n"
     ]
    }
   ],
   "source": [
    "import os\n",
    "print('Cuda devices: ', os.environ.get('CUDA_VISIBLE_DEVICES', \"[Not Set]\"))"
   ]
  },
  {
   "cell_type": "code",
   "execution_count": 12,
   "metadata": {
    "scrolled": true
   },
   "outputs": [
    {
     "name": "stderr",
     "output_type": "stream",
     "text": [
      "/dfs/scratch0/bradenjh/metal/metal/mmtl/metal_model.py:75: UserWarning: nn.DataParallel has been removed!\n",
      "  warnings.warn(\"nn.DataParallel has been removed!\")\n"
     ]
    }
   ],
   "source": [
    "from metal.mmtl.metal_model import MetalModel\n",
    "\n",
    "model = MetalModel(tasks, verbose=False)"
   ]
  },
  {
   "cell_type": "code",
   "execution_count": 13,
   "metadata": {
    "scrolled": true
   },
   "outputs": [
    {
     "name": "stdout",
     "output_type": "stream",
     "text": [
      "109484547\n"
     ]
    }
   ],
   "source": [
    "print(sum(p.numel() for p in model.parameters() if p.requires_grad))"
   ]
  },
  {
   "cell_type": "code",
   "execution_count": 14,
   "metadata": {},
   "outputs": [],
   "source": [
    "from metal.mmtl.trainer import MultitaskTrainer\n",
    "trainer = MultitaskTrainer()"
   ]
  },
  {
   "cell_type": "code",
   "execution_count": 15,
   "metadata": {
    "scrolled": false
   },
   "outputs": [
    {
     "name": "stdout",
     "output_type": "stream",
     "text": [
      "Beginning train loop.\n",
      "Expecting a total of approximately 200 examples and 50 batches per epoch from 1 tasks.\n"
     ]
    },
    {
     "data": {
      "application/vnd.jupyter.widget-view+json": {
       "model_id": "423b2633321d4069a11dd16a71499308",
       "version_major": 2,
       "version_minor": 0
      },
      "text/plain": [
       "HBox(children=(IntProgress(value=0, max=50), HTML(value='')))"
      ]
     },
     "metadata": {},
     "output_type": "display_data"
    },
    {
     "name": "stdout",
     "output_type": "stream",
     "text": [
      "[1.0 epo]: TRAIN:[Thirds/loss=9.01e-01, model/loss=9.01e-01, model/lr=1.00e-05] VALID:[Thirds/token_acc=7.75e-01, model/glue=nan]\n",
      "\n"
     ]
    },
    {
     "name": "stderr",
     "output_type": "stream",
     "text": [
      "/dfs/scratch0/bradenjh/metal/metal/mmtl/trainer.py:445: UserWarning: You requested glue score but have fewer than 9 tasks. Be aware.\n",
      "  warnings.warn(msg)\n",
      "/dfs/scratch0/bradenjh/anaconda3/envs/metal/lib/python3.6/site-packages/numpy/core/fromnumeric.py:2920: RuntimeWarning: Mean of empty slice.\n",
      "  out=out, **kwargs)\n",
      "/dfs/scratch0/bradenjh/anaconda3/envs/metal/lib/python3.6/site-packages/numpy/core/_methods.py:85: RuntimeWarning: invalid value encountered in double_scalars\n",
      "  ret = ret.dtype.type(ret / rcount)\n"
     ]
    },
    {
     "data": {
      "application/vnd.jupyter.widget-view+json": {
       "model_id": "4add0b4377c34052a4d93ccd23fa7d60",
       "version_major": 2,
       "version_minor": 0
      },
      "text/plain": [
       "HBox(children=(IntProgress(value=0, max=50), HTML(value='')))"
      ]
     },
     "metadata": {},
     "output_type": "display_data"
    },
    {
     "name": "stdout",
     "output_type": "stream",
     "text": [
      "[2.0 epo]: TRAIN:[Thirds/loss=3.43e-01, model/loss=3.43e-01, model/lr=1.00e-05] VALID:[Thirds/token_acc=9.26e-01, model/glue=nan]\n",
      "\n"
     ]
    },
    {
     "data": {
      "application/vnd.jupyter.widget-view+json": {
       "model_id": "d20d168206c24de8b79e652c04ddd28b",
       "version_major": 2,
       "version_minor": 0
      },
      "text/plain": [
       "HBox(children=(IntProgress(value=0, max=50), HTML(value='')))"
      ]
     },
     "metadata": {},
     "output_type": "display_data"
    },
    {
     "name": "stdout",
     "output_type": "stream",
     "text": [
      "[3.0 epo]: TRAIN:[Thirds/loss=1.51e-01, model/loss=1.51e-01, model/lr=1.00e-05] VALID:[Thirds/token_acc=9.44e-01, model/glue=nan]\n",
      "\n",
      "Finished training\n",
      "{'Thirds/test/token_acc': 0.9441104744879669,\n",
      " 'Thirds/train/token_acc': 0.9704131616587685,\n",
      " 'Thirds/valid/token_acc': 0.9441104744879669,\n",
      " 'model/None/glue': nan}\n",
      "Cleaning checkpoints\n"
     ]
    }
   ],
   "source": [
    "trainer.train_model(\n",
    "    model,\n",
    "    tasks,\n",
    "    checkpoint_metric=\"model/train/loss\",\n",
    "    n_epochs=3,\n",
    "    lr=1e-5,\n",
    "    log_every=1,\n",
    "    score_every=1,\n",
    "    progress_bar=True\n",
    ")"
   ]
  },
  {
   "cell_type": "markdown",
   "metadata": {},
   "source": [
    "trainer.train_model(\n",
    "    model,\n",
    "    tasks,\n",
    "    checkpoint_metric=\"model/train/loss\",\n",
    "    n_epochs=1,\n",
    "    progress_bar=True\n",
    ")"
   ]
  },
  {
   "cell_type": "code",
   "execution_count": null,
   "metadata": {},
   "outputs": [],
   "source": []
  },
  {
   "cell_type": "code",
   "execution_count": 16,
   "metadata": {},
   "outputs": [],
   "source": [
    "# import torch\n",
    "# from metal.utils import padded_tensor\n",
    "\n",
    "# a_list = [(1,2,3), (1,2,3,4)]\n",
    "# a, _ = padded_tensor(a_list, dtype=torch.float)\n",
    "# print(a)\n",
    "# a = torch.tensor([1,2,3], dtype=torch.long)\n",
    "# print(isinstance(a, torch.Tensor))\n",
    "# print(type(a))\n",
    "# print(a.type())"
   ]
  },
  {
   "cell_type": "code",
   "execution_count": 17,
   "metadata": {},
   "outputs": [
    {
     "name": "stdout",
     "output_type": "stream",
     "text": [
      "WE WIN!\n"
     ]
    }
   ],
   "source": [
    "print(\"WE WIN!\")"
   ]
  }
 ],
 "metadata": {
  "kernelspec": {
   "display_name": "Python [conda env:metal] *",
   "language": "python",
   "name": "conda-env-metal-py"
  },
  "language_info": {
   "codemirror_mode": {
    "name": "ipython",
    "version": 3
   },
   "file_extension": ".py",
   "mimetype": "text/x-python",
   "name": "python",
   "nbconvert_exporter": "python",
   "pygments_lexer": "ipython3",
   "version": "3.6.7"
  }
 },
 "nbformat": 4,
 "nbformat_minor": 2
}
