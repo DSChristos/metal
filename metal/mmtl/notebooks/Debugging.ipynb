{
 "cells": [
  {
   "cell_type": "code",
   "execution_count": 1,
   "metadata": {},
   "outputs": [
    {
     "name": "stdout",
     "output_type": "stream",
     "text": [
      "Better speed can be achieved with apex installed from https://www.github.com/nvidia/apex.\n"
     ]
    }
   ],
   "source": [
    "import torch \n",
    "\n",
    "import metal.mmtl.dataset as dataset\n",
    "import numpy as np\n",
    "import pandas as pd\n",
    "\n",
    "from metal.mmtl.BERT_tasks import create_tasks\n",
    "from metal.mmtl.metal_model import MetalModel\n",
    "from metal.mmtl.scorer import Scorer\n",
    "from metal.utils import convert_labels\n",
    "from pytorch_pretrained_bert import BertTokenizer"
   ]
  },
  {
   "cell_type": "markdown",
   "metadata": {},
   "source": [
    "### Load Model and Data"
   ]
  },
  {
   "cell_type": "code",
   "execution_count": 2,
   "metadata": {},
   "outputs": [],
   "source": [
    "model_path = '/dfs/scratch0/jdunnmon/mmtl/sota_quest/debugging/COLA/COLA_19_48_08/best_model.pth'\n",
    "csv_path = \"/\".join(model_path.split('/')[0:-2]) #set to -1 if permissions exist\n",
    "task_name = model_path.split('/')[-3]\n",
    "\n",
    "bert_model = 'bert-base-uncased'\n",
    "max_len = 256\n",
    "bert_output_dim = 768\n",
    "dl_kwargs = {\"batch_size\": 32, 'shuffle': False}"
   ]
  },
  {
   "cell_type": "code",
   "execution_count": 3,
   "metadata": {},
   "outputs": [
    {
     "data": {
      "application/vnd.jupyter.widget-view+json": {
       "model_id": "053847d5ecf2453fa12f2a798b309ddd",
       "version_major": 2,
       "version_minor": 0
      },
      "text/plain": [
       "HBox(children=(IntProgress(value=0, max=1043), HTML(value='')))"
      ]
     },
     "metadata": {},
     "output_type": "display_data"
    },
    {
     "name": "stdout",
     "output_type": "stream",
     "text": [
      "\n",
      "Loading COLA Dataset\n"
     ]
    },
    {
     "data": {
      "application/vnd.jupyter.widget-view+json": {
       "model_id": "15861d7366594d54a835d5cca690ee3d",
       "version_major": 2,
       "version_minor": 0
      },
      "text/plain": [
       "HBox(children=(IntProgress(value=0, max=10), HTML(value='')))"
      ]
     },
     "metadata": {},
     "output_type": "display_data"
    },
    {
     "name": "stdout",
     "output_type": "stream",
     "text": [
      "\n"
     ]
    },
    {
     "data": {
      "application/vnd.jupyter.widget-view+json": {
       "model_id": "97af914a572c4c239d48837477a74daf",
       "version_major": 2,
       "version_minor": 0
      },
      "text/plain": [
       "HBox(children=(IntProgress(value=0, max=10), HTML(value='')))"
      ]
     },
     "metadata": {},
     "output_type": "display_data"
    },
    {
     "name": "stdout",
     "output_type": "stream",
     "text": [
      "\n"
     ]
    }
   ],
   "source": [
    "#Get DataLoader\n",
    "dataset_cls = getattr(dataset, task_name.upper() + \"Dataset\")\n",
    "dev_ds = dataset_cls(\n",
    "    split=\"dev\",\n",
    "    bert_model=bert_model,\n",
    "    max_len=max_len,\n",
    "    max_datapoints=-1,\n",
    ")\n",
    "dev_dl = dev_ds.get_dataloader(**dl_kwargs)\n",
    "\n",
    "#Load best model for specified task\n",
    "tasks = create_tasks(\n",
    "        task_names=[task_name],\n",
    "        bert_model=bert_model,\n",
    "        split_prop=0.8,\n",
    "        max_len=max_len,\n",
    "        dl_kwargs={\"batch_size\": 1},\n",
    "        bert_output_dim=bert_output_dim,\n",
    "        max_datapoints=10,\n",
    "    )\n",
    "\n",
    "model = MetalModel(tasks, verbose=False, device=-1)\n",
    "model.load_state_dict(torch.load(model_path)['model'])"
   ]
  },
  {
   "cell_type": "markdown",
   "metadata": {},
   "source": [
    "### Generate DataFrame of Predictions and True Labels"
   ]
  },
  {
   "cell_type": "code",
   "execution_count": 4,
   "metadata": {},
   "outputs": [
    {
     "name": "stderr",
     "output_type": "stream",
     "text": [
      "100%|██████████| 33/33 [00:01<00:00, 30.53it/s]\n"
     ]
    }
   ],
   "source": [
    "data = {\n",
    "    'sentence1': [],\n",
    "    'sentence2': [],\n",
    "    'label': [],\n",
    "    'score' : []\n",
    "}\n",
    "max_batches = 100\n",
    "tokenizer = BertTokenizer.from_pretrained(bert_model, do_lower_case=True)\n",
    "from tqdm import tqdm\n",
    "count = 0\n",
    "for x, y in tqdm(list(dev_dl)):\n",
    "    for tokens_idx in x[0]:\n",
    "        tokens = tokenizer.convert_ids_to_tokens(tokens_idx.numpy())\n",
    "        phrases = ' '.join(tokens).replace('[PAD]', '').replace('[CLS]', '').split('[SEP]')\n",
    "        data['sentence1'] += [phrases[0]]\n",
    "        if len(phrases) > 1:\n",
    "            data['sentence2'] += [phrases[1]] \n",
    "        else:\n",
    "            data['sentence2'] += ['NA']\n",
    "    scores = model.calculate_output(x, [task_name])[task_name].detach().cpu().numpy()[:, 0] # .flatten()\n",
    "    data['score'] += list(scores)\n",
    "    data['label'] += list(convert_labels(y, 'categorical', 'onezero').numpy())\n",
    "    count += 1\n",
    "    if count > max_batches:\n",
    "        break\n",
    "        \n",
    "\n",
    "df_error = pd.DataFrame(data, columns=['sentence1', 'sentence2', 'score', 'label'])\n",
    "df_error['pred'] = 1* (df_error.score > 0.5)\n",
    "df_error['is_wrong'] = df_error['pred'] != df_error['label']"
   ]
  },
  {
   "cell_type": "markdown",
   "metadata": {},
   "source": [
    "### Saving and Loading Error DataFrame"
   ]
  },
  {
   "cell_type": "code",
   "execution_count": 5,
   "metadata": {},
   "outputs": [
    {
     "name": "stdout",
     "output_type": "stream",
     "text": [
      "Saved dataframe to:  /dfs/scratch0/jdunnmon/mmtl/sota_quest/debugging/COLA/dev_error_analysis.tsv\n"
     ]
    },
    {
     "data": {
      "text/html": [
       "<div>\n",
       "<style scoped>\n",
       "    .dataframe tbody tr th:only-of-type {\n",
       "        vertical-align: middle;\n",
       "    }\n",
       "\n",
       "    .dataframe tbody tr th {\n",
       "        vertical-align: top;\n",
       "    }\n",
       "\n",
       "    .dataframe thead th {\n",
       "        text-align: right;\n",
       "    }\n",
       "</style>\n",
       "<table border=\"1\" class=\"dataframe\">\n",
       "  <thead>\n",
       "    <tr style=\"text-align: right;\">\n",
       "      <th></th>\n",
       "      <th>Unnamed: 0</th>\n",
       "      <th>sentence1</th>\n",
       "      <th>sentence2</th>\n",
       "      <th>score</th>\n",
       "      <th>label</th>\n",
       "      <th>pred</th>\n",
       "      <th>is_wrong</th>\n",
       "    </tr>\n",
       "  </thead>\n",
       "  <tbody>\n",
       "    <tr>\n",
       "      <th>0</th>\n",
       "      <td>0</td>\n",
       "      <td>the sailors rode the breeze clear of the rock...</td>\n",
       "      <td></td>\n",
       "      <td>0.996935</td>\n",
       "      <td>1</td>\n",
       "      <td>1</td>\n",
       "      <td>False</td>\n",
       "    </tr>\n",
       "    <tr>\n",
       "      <th>1</th>\n",
       "      <td>1</td>\n",
       "      <td>the weights made the rope stretch over the pu...</td>\n",
       "      <td></td>\n",
       "      <td>0.968843</td>\n",
       "      <td>1</td>\n",
       "      <td>1</td>\n",
       "      <td>False</td>\n",
       "    </tr>\n",
       "    <tr>\n",
       "      <th>2</th>\n",
       "      <td>2</td>\n",
       "      <td>the mechanical doll wr ##ig ##gled itself loo...</td>\n",
       "      <td></td>\n",
       "      <td>0.309326</td>\n",
       "      <td>1</td>\n",
       "      <td>0</td>\n",
       "      <td>True</td>\n",
       "    </tr>\n",
       "    <tr>\n",
       "      <th>3</th>\n",
       "      <td>3</td>\n",
       "      <td>if you had eaten more , you would want less .</td>\n",
       "      <td></td>\n",
       "      <td>0.982654</td>\n",
       "      <td>1</td>\n",
       "      <td>1</td>\n",
       "      <td>False</td>\n",
       "    </tr>\n",
       "    <tr>\n",
       "      <th>4</th>\n",
       "      <td>4</td>\n",
       "      <td>as you eat the most , you want the least .</td>\n",
       "      <td></td>\n",
       "      <td>0.158993</td>\n",
       "      <td>0</td>\n",
       "      <td>0</td>\n",
       "      <td>False</td>\n",
       "    </tr>\n",
       "  </tbody>\n",
       "</table>\n",
       "</div>"
      ],
      "text/plain": [
       "   Unnamed: 0                                          sentence1 sentence2  \\\n",
       "0           0   the sailors rode the breeze clear of the rock...             \n",
       "1           1   the weights made the rope stretch over the pu...             \n",
       "2           2   the mechanical doll wr ##ig ##gled itself loo...             \n",
       "3           3     if you had eaten more , you would want less .              \n",
       "4           4        as you eat the most , you want the least .              \n",
       "\n",
       "      score  label  pred  is_wrong  \n",
       "0  0.996935      1     1     False  \n",
       "1  0.968843      1     1     False  \n",
       "2  0.309326      1     0      True  \n",
       "3  0.982654      1     1     False  \n",
       "4  0.158993      0     0     False  "
      ]
     },
     "execution_count": 5,
     "metadata": {},
     "output_type": "execute_result"
    }
   ],
   "source": [
    "def save_dataframe(df,filepath):\n",
    "    df.to_csv(filepath, sep='\\t')\n",
    "    print('Saved dataframe to: ', filepath)\n",
    "    \n",
    "def load_dataframe(filepath):\n",
    "    df = pd.read_csv(filepath, sep='\\t')\n",
    "    return df\n",
    "\n",
    "filepath = f'{csv_path}/dev_error_analysis.tsv'\n",
    "save_dataframe(df_error,filepath)\n",
    "df_error = load_dataframe(filepath)\n",
    "df_error.head()"
   ]
  },
  {
   "cell_type": "markdown",
   "metadata": {},
   "source": [
    "### Looking at Random Examples"
   ]
  },
  {
   "cell_type": "code",
   "execution_count": 6,
   "metadata": {},
   "outputs": [],
   "source": [
    "def print_random_pred(df):\n",
    "    row = df.iloc[np.random.randint(df.shape[0])]\n",
    "    print(f'sentence1: \\t{row.sentence1}')\n",
    "    print(f'sentence2: \\t{row.sentence2}')\n",
    "    print('score: \\t{:.4f}'.format(row.score))    \n",
    "    print(f'label: \\t{row.label}')   "
   ]
  },
  {
   "cell_type": "code",
   "execution_count": 16,
   "metadata": {
    "scrolled": false
   },
   "outputs": [
    {
     "name": "stdout",
     "output_type": "stream",
     "text": [
      "\u001b[1mINCORRECT PREDICTIONS\u001b[0;0m\n",
      "sentence1: \t in which way is clinton anxious to find out which budget dilemma ##s pan ##etta would be willing to solve ? \n",
      "sentence2: \t            \n",
      "score: \t0.9885\n",
      "label: \t0\n",
      "\n",
      "sentence1: \t john is tall on several occasions . \n",
      "sentence2: \t             \n",
      "score: \t0.9572\n",
      "label: \t0\n",
      "\n",
      "sentence1: \t who achieved the best result was angela . \n",
      "sentence2: \t     \n",
      "score: \t0.9919\n",
      "label: \t0\n",
      "\n",
      "\u001b[1mCORRECT PREDICTIONS\u001b[0;0m\n",
      "sentence1: \t we gave us to the cause . \n",
      "sentence2: \t        \n",
      "score: \t0.0777\n",
      "label: \t0\n",
      "\n",
      "sentence1: \t will anson come to the party ? \n",
      "sentence2: \t             \n",
      "score: \t0.9951\n",
      "label: \t1\n",
      "\n",
      "sentence1: \t i gave a book to bill to read . \n",
      "sentence2: \t  \n",
      "score: \t0.9931\n",
      "label: \t1\n",
      "\n"
     ]
    }
   ],
   "source": [
    "print(\"\\033[1mINCORRECT PREDICTIONS\\033[0;0m\")\n",
    "for i in range(3):\n",
    "    print_random_pred(df_error[df_error.is_wrong==True])\n",
    "    print()\n",
    "    \n",
    "print(\"\\033[1mCORRECT PREDICTIONS\\033[0;0m\")\n",
    "for i in range(3):\n",
    "    print_random_pred(df_error[df_error.is_wrong==False])\n",
    "    print()"
   ]
  },
  {
   "cell_type": "markdown",
   "metadata": {},
   "source": [
    "## Sandbox for Error Analysis"
   ]
  },
  {
   "cell_type": "markdown",
   "metadata": {},
   "source": [
    "**1. We want to look at examples that are \"barely\" wrong and \"barely\" right since we have hope for boosts here.**"
   ]
  },
  {
   "cell_type": "code",
   "execution_count": 8,
   "metadata": {},
   "outputs": [],
   "source": [
    "def print_barely_wrong_pred(df,thresh=0.05):\n",
    "    df_temp = df[df.is_wrong==True]\n",
    "    idx = np.where(np.abs(df_temp.score - 0.5) <= thresh)[0]\n",
    "    row = df_temp.iloc[np.random.choice(list(idx))]\n",
    "    \n",
    "    print(f'sentence1: \\t{row.sentence1}')\n",
    "    print(f'sentence2: \\t{row.sentence2}')\n",
    "    print('score: \\t{:.4f}'.format(row.score))    \n",
    "    print(f'label: \\t{row.label}')  \n",
    "    \n",
    "def print_barely_right_pred(df,thresh=0.05):\n",
    "    df_temp = df[df.is_wrong==False]\n",
    "    idx = np.where(np.abs(df_temp.score - 0.5) <= thresh)[0]\n",
    "    row = df_temp.iloc[np.random.choice(list(idx))]\n",
    "    \n",
    "    print(f'sentence1: \\t{row.sentence1}')\n",
    "    print(f'sentence2: \\t{row.sentence2}')\n",
    "    print('score: \\t{:.4f}'.format(row.score))    \n",
    "    print(f'label: \\t{row.label}')   "
   ]
  },
  {
   "cell_type": "code",
   "execution_count": 17,
   "metadata": {},
   "outputs": [
    {
     "name": "stdout",
     "output_type": "stream",
     "text": [
      "\u001b[1mBARELY WRONG\u001b[0;0m\n",
      "sentence1: \t chocolate eggs were hidden from no child by any adult . \n",
      "sentence2: \t   \n",
      "score: \t0.4613\n",
      "label: \t1\n",
      "\n",
      "sentence1: \t we believed john to be a fountain in the park . \n",
      "sentence2: \t   \n",
      "score: \t0.5355\n",
      "label: \t0\n",
      "\n",
      "sentence1: \t kim and terry is happy . \n",
      "sentence2: \t                       \n",
      "score: \t0.5387\n",
      "label: \t0\n",
      "\n",
      "\u001b[1mBARELY RIGHT\u001b[0;0m\n",
      "sentence1: \t kim and terry is happy . \n",
      "sentence2: \t                       \n",
      "score: \t0.5387\n",
      "label: \t0\n",
      "\n",
      "sentence1: \t chocolate eggs were hidden from no child by any adult . \n",
      "sentence2: \t   \n",
      "score: \t0.4613\n",
      "label: \t1\n",
      "\n",
      "sentence1: \t any trouble is what i don ' t want . \n",
      "sentence2: \t         \n",
      "score: \t0.5222\n",
      "label: \t0\n",
      "\n"
     ]
    }
   ],
   "source": [
    "print(\"\\033[1mBARELY WRONG\\033[0;0m\")\n",
    "for i in range(3):\n",
    "    print_barely_wrong_pred(df_error)\n",
    "    print()\n",
    "    \n",
    "print(\"\\033[1mBARELY RIGHT\\033[0;0m\")\n",
    "for i in range(3):\n",
    "    print_barely_wrong_pred(df_error)\n",
    "    print()"
   ]
  },
  {
   "cell_type": "markdown",
   "metadata": {},
   "source": [
    "**2. We also want to look at examples we got completely wrong since that could point to a systematic bias in the data/model. It could also help us find examples in the dataset that are mislabeled by human annotators**"
   ]
  },
  {
   "cell_type": "code",
   "execution_count": 10,
   "metadata": {},
   "outputs": [],
   "source": [
    "def print_very_wrong_pred(df,thresh=0.95):\n",
    "    df_temp = df[df.is_wrong==True]\n",
    "    idx = np.where(np.abs(df_temp.score - df_temp.label) >= thresh)[0]\n",
    "    row = df_temp.iloc[np.random.choice(list(idx))]\n",
    "    \n",
    "    print(f'sentence1: \\t{row.sentence1}')\n",
    "    print(f'sentence2: \\t{row.sentence2}')\n",
    "    print('score: \\t{:.4f}'.format(row.score))    \n",
    "    print(f'label: \\t{row.label}') "
   ]
  },
  {
   "cell_type": "code",
   "execution_count": 18,
   "metadata": {},
   "outputs": [
    {
     "name": "stdout",
     "output_type": "stream",
     "text": [
      "\u001b[1mVERY WRONG\u001b[0;0m\n",
      "sentence1: \t there is believed to be sheep in the park . \n",
      "sentence2: \t    \n",
      "score: \t0.9931\n",
      "label: \t0\n",
      "\n",
      "sentence1: \t the defendant deny the all ##ega ##tion . \n",
      "sentence2: \t            \n",
      "score: \t0.9658\n",
      "label: \t0\n",
      "\n",
      "sentence1: \t drowning cats , which is against the law , are hard to rescue . \n",
      "sentence2: \t             \n",
      "score: \t0.9941\n",
      "label: \t0\n",
      "\n"
     ]
    }
   ],
   "source": [
    "print(\"\\033[1mVERY WRONG\\033[0;0m\")\n",
    "for i in range(3):\n",
    "    print_very_wrong_pred(df_error)\n",
    "    print()"
   ]
  },
  {
   "cell_type": "markdown",
   "metadata": {},
   "source": [
    "**3. To find systematic errors, we can also look for correlations between certain features and the incorrectness a la Socratic**\n",
    "\n",
    "\n",
    "We can make this way more sophisticated by perhaps using embeddings instead of this simple [BoW featurization](https://scikit-learn.org/stable/modules/generated/sklearn.feature_extraction.text.CountVectorizer.html#sklearn.feature_extraction.text.CountVectorizer)."
   ]
  },
  {
   "cell_type": "code",
   "execution_count": 12,
   "metadata": {},
   "outputs": [
    {
     "name": "stderr",
     "output_type": "stream",
     "text": [
      "/dfs/scratch0/vschen/venv-mmtl/lib/python3.6/site-packages/sklearn/linear_model/logistic.py:433: FutureWarning: Default solver will be changed to 'lbfgs' in 0.22. Specify a solver to silence this warning.\n",
      "  FutureWarning)\n"
     ]
    },
    {
     "data": {
      "text/plain": [
       "LogisticRegression(C=1.0, class_weight=None, dual=False, fit_intercept=True,\n",
       "          intercept_scaling=1, max_iter=100, multi_class='warn',\n",
       "          n_jobs=None, penalty='l1', random_state=None, solver='warn',\n",
       "          tol=0.0001, verbose=0, warm_start=False)"
      ]
     },
     "execution_count": 12,
     "metadata": {},
     "output_type": "execute_result"
    }
   ],
   "source": [
    "#Create a vector of correct/incorrect predictions\n",
    "y = 2*(np.array(df_error.is_wrong.astype(float))-0.5)\n",
    "\n",
    "#Create BoW featurization\n",
    "from sklearn.feature_extraction.text import CountVectorizer\n",
    "corpus = np.array(list(df_error.sentence1))\n",
    "vectorizer = CountVectorizer(ngram_range=(2,5), stop_words='english')\n",
    "X = vectorizer.fit_transform(corpus)\n",
    "\n",
    "#Run LR to find correlations\n",
    "from sklearn.linear_model import LogisticRegression\n",
    "lr_model = LogisticRegression(penalty=\"l1\")\n",
    "lr_model.fit(X, y)"
   ]
  },
  {
   "cell_type": "code",
   "execution_count": 13,
   "metadata": {},
   "outputs": [
    {
     "name": "stdout",
     "output_type": "stream",
     "text": [
      "did ask\n",
      "chocolate eggs hidden\n",
      "john bought\n",
      "did talk\n",
      "mary loves\n"
     ]
    },
    {
     "data": {
      "image/png": "[encoded data removed]",
      "text/plain": [
       "<Figure size 432x288 with 1 Axes>"
      ]
     },
     "metadata": {
      "needs_background": "light"
     },
     "output_type": "display_data"
    }
   ],
   "source": [
    "import matplotlib.pyplot as plt\n",
    "%matplotlib inline\n",
    "\n",
    "plt.stem(np.sort(np.abs(lr_model.coef_)[0])[::-1][0:50])\n",
    "plt.title('Feature Coefficient')\n",
    "plt.xlabel('Top k Features')\n",
    "\n",
    "top_idx = np.argsort(np.abs(lr_model.coef_)[0])[::-1][0:50]\n",
    "names = vectorizer.get_feature_names()\n",
    "for i in range(5):\n",
    "    print (names[top_idx[i]])"
   ]
  },
  {
   "cell_type": "code",
   "execution_count": 20,
   "metadata": {},
   "outputs": [
    {
     "name": "stdout",
     "output_type": "stream",
     "text": [
      "\u001b[1mSYSTEMATIC EXAMPLES\u001b[0;0m\n",
      "sentence1: \t what did you ask who saw ? \n",
      "sentence2: \t       \n",
      "score: \t0.6502\n",
      "label: \t0\n",
      "\n",
      "sentence1: \t what did you ask who med ##ea gave ? \n",
      "sentence2: \t     \n",
      "score: \t0.9146\n",
      "label: \t0\n",
      "\n",
      "sentence1: \t what did you ask who saw ? \n",
      "sentence2: \t       \n",
      "score: \t0.6502\n",
      "label: \t0\n",
      "\n",
      "sentence1: \t chocolate eggs were hidden from no child by any adult . \n",
      "sentence2: \t   \n",
      "score: \t0.4613\n",
      "label: \t1\n",
      "\n",
      "sentence1: \t chocolate eggs were hidden from each other by the children . \n",
      "sentence2: \t   \n",
      "score: \t0.9937\n",
      "label: \t0\n",
      "\n",
      "sentence1: \t chocolate eggs were hidden from each other by the children . \n",
      "sentence2: \t   \n",
      "score: \t0.9937\n",
      "label: \t0\n",
      "\n",
      "sentence1: \t john bought a dog for himself to play with . \n",
      "sentence2: \t \n",
      "score: \t0.9961\n",
      "label: \t0\n",
      "\n",
      "sentence1: \t john bought a dog for himself to play with . \n",
      "sentence2: \t \n",
      "score: \t0.9961\n",
      "label: \t0\n",
      "\n",
      "sentence1: \t john bought a book on the table . \n",
      "sentence2: \t       \n",
      "score: \t0.4216\n",
      "label: \t1\n",
      "\n",
      "sentence1: \t fred talked about everything before rusty did talk about something . \n",
      "sentence2: \t          \n",
      "score: \t0.4026\n",
      "label: \t1\n",
      "\n",
      "sentence1: \t fred talked about everything before rusty did talk about something . \n",
      "sentence2: \t          \n",
      "score: \t0.4026\n",
      "label: \t1\n",
      "\n",
      "sentence1: \t fred talked about everything before rusty did talk about something . \n",
      "sentence2: \t          \n",
      "score: \t0.4026\n",
      "label: \t1\n",
      "\n",
      "sentence1: \t the man who mary loves and sally hates computed my tax . \n",
      "sentence2: \t      \n",
      "score: \t0.0932\n",
      "label: \t1\n",
      "\n",
      "sentence1: \t the man who mary loves and sally hates computed my tax . \n",
      "sentence2: \t      \n",
      "score: \t0.0932\n",
      "label: \t1\n",
      "\n",
      "sentence1: \t the man who mary loves and sally hates computed my tax . \n",
      "sentence2: \t      \n",
      "score: \t0.0932\n",
      "label: \t1\n",
      "\n"
     ]
    }
   ],
   "source": [
    "print(\"\\033[1mSYSTEMATIC EXAMPLES\\033[0;0m\")\n",
    "for i in range(5):\n",
    "    idx = np.where(X.todense()[:,top_idx[i]] == 1)[0]\n",
    "    for _ in range(3):\n",
    "        df_temp = df_error\n",
    "        row = df_temp.iloc[np.random.choice(list(idx))]\n",
    "\n",
    "        print(f'sentence1: \\t{row.sentence1}')\n",
    "        print(f'sentence2: \\t{row.sentence2}')\n",
    "        print('score: \\t{:.4f}'.format(row.score))    \n",
    "        print(f'label: \\t{row.label}')\n",
    "        print()"
   ]
  },
  {
   "cell_type": "code",
   "execution_count": null,
   "metadata": {},
   "outputs": [],
   "source": []
  }
 ],
 "metadata": {
  "kernelspec": {
   "display_name": "Python 3",
   "language": "python",
   "name": "python3"
  },
  "language_info": {
   "codemirror_mode": {
    "name": "ipython",
    "version": 3
   },
   "file_extension": ".py",
   "mimetype": "text/x-python",
   "name": "python",
   "nbconvert_exporter": "python",
   "pygments_lexer": "ipython3",
   "version": "3.6.7"
  }
 },
 "nbformat": 4,
 "nbformat_minor": 2
}
