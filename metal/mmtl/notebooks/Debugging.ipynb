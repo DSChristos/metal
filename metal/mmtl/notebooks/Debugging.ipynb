{
 "cells": [
  {
   "cell_type": "code",
   "execution_count": 1,
   "metadata": {},
   "outputs": [
    {
     "name": "stdout",
     "output_type": "stream",
     "text": [
      "Better speed can be achieved with apex installed from https://www.github.com/nvidia/apex.\n"
     ]
    }
   ],
   "source": [
    "import torch \n",
    "\n",
    "import metal.mmtl.dataset as dataset\n",
    "import numpy as np\n",
    "import pandas as pd\n",
    "\n",
    "from metal.mmtl.bert_tasks import create_tasks\n",
    "from metal.mmtl.metal_model import MetalModel\n",
    "from metal.mmtl.scorer import Scorer\n",
    "from metal.utils import convert_labels\n",
    "from pytorch_pretrained_bert import BertTokenizer"
   ]
  },
  {
   "cell_type": "markdown",
   "metadata": {},
   "source": [
    "### Load Model and Data"
   ]
  },
  {
   "cell_type": "code",
   "execution_count": 2,
   "metadata": {},
   "outputs": [],
   "source": [
    "#model_path = '/dfs/scratch0/jdunnmon/mmtl/sota_quest/debugging/COLA/COLA_19_48_08/best_model.pth'\n",
    "model_path = '/dfs/scratch0/jdunnmon/mmtl/sota_quest/debugging/RTE/RTE_16_35_57/best_model.pth'\n",
    "csv_path = \"/\".join(model_path.split('/')[0:-2]) #set to -1 if permissions exist\n",
    "task_name = model_path.split('/')[-3]\n",
    "\n",
    "bert_model = 'bert-base-uncased'\n",
    "max_len = 256\n",
    "bert_output_dim = 768\n",
    "dl_kwargs = {\"batch_size\": 32, 'shuffle': False}"
   ]
  },
  {
   "cell_type": "code",
   "execution_count": 3,
   "metadata": {},
   "outputs": [
    {
     "name": "stdout",
     "output_type": "stream",
     "text": [
      "Loading BERT model...\n"
     ]
    },
    {
     "data": {
      "application/vnd.jupyter.widget-view+json": {
       "model_id": "55f4c02022734c4681a98d636e3161ab",
       "version_major": 2,
       "version_minor": 0
      },
      "text/plain": [
       "HBox(children=(IntProgress(value=0, max=277), HTML(value='')))"
      ]
     },
     "metadata": {},
     "output_type": "display_data"
    },
    {
     "name": "stdout",
     "output_type": "stream",
     "text": [
      "\n",
      "Loading RTE Dataset\n",
      "Loading BERT model...\n"
     ]
    },
    {
     "data": {
      "application/vnd.jupyter.widget-view+json": {
       "model_id": "9f7364552e544201afafc8000a2440a5",
       "version_major": 2,
       "version_minor": 0
      },
      "text/plain": [
       "HBox(children=(IntProgress(value=0, max=10), HTML(value='')))"
      ]
     },
     "metadata": {},
     "output_type": "display_data"
    },
    {
     "name": "stdout",
     "output_type": "stream",
     "text": [
      "\n",
      "Loading BERT model...\n"
     ]
    },
    {
     "data": {
      "application/vnd.jupyter.widget-view+json": {
       "model_id": "4c9fdb178dd847c698a60b6db2a592fe",
       "version_major": 2,
       "version_minor": 0
      },
      "text/plain": [
       "HBox(children=(IntProgress(value=0, max=10), HTML(value='')))"
      ]
     },
     "metadata": {},
     "output_type": "display_data"
    },
    {
     "name": "stdout",
     "output_type": "stream",
     "text": [
      "\n"
     ]
    }
   ],
   "source": [
    "#Get DataLoader\n",
    "dataset_cls = getattr(dataset, task_name.upper() + \"Dataset\")\n",
    "dev_ds = dataset_cls(\n",
    "    split=\"dev\",\n",
    "    bert_model=bert_model,\n",
    "    max_len=max_len,\n",
    "    max_datapoints=-1,\n",
    ")\n",
    "dev_dl = dev_ds.get_dataloader(**dl_kwargs)\n",
    "\n",
    "#Load best model for specified task\n",
    "tasks = create_tasks(\n",
    "        task_names=[task_name],\n",
    "        bert_model=bert_model,\n",
    "        split_prop=0.8,\n",
    "        max_len=max_len,\n",
    "        dl_kwargs={\"batch_size\": 1},\n",
    "        bert_output_dim=bert_output_dim,\n",
    "        max_datapoints=10,\n",
    "    )\n",
    "\n",
    "model = MetalModel(tasks, verbose=False, device=-1)\n",
    "model.load_state_dict(torch.load(model_path)['model'])"
   ]
  },
  {
   "cell_type": "markdown",
   "metadata": {},
   "source": [
    "### Generate DataFrame of Predictions and True Labels"
   ]
  },
  {
   "cell_type": "code",
   "execution_count": 4,
   "metadata": {},
   "outputs": [
    {
     "name": "stderr",
     "output_type": "stream",
     "text": [
      "100%|██████████| 9/9 [00:01<00:00,  4.97it/s]\n"
     ]
    }
   ],
   "source": [
    "data = {\n",
    "    'sentence1': [],\n",
    "    'sentence2': [],\n",
    "    'label': [],\n",
    "    'score' : []\n",
    "}\n",
    "max_batches = 100\n",
    "tokenizer = BertTokenizer.from_pretrained(bert_model, do_lower_case=True)\n",
    "from tqdm import tqdm\n",
    "count = 0\n",
    "for x, y in tqdm(list(dev_dl)):\n",
    "    for tokens_idx in x[0]:\n",
    "        tokens = tokenizer.convert_ids_to_tokens(tokens_idx.numpy())\n",
    "        phrases = ' '.join(tokens).replace('[PAD]', '').replace('[CLS]', '').split('[SEP]')\n",
    "        data['sentence1'] += [phrases[0]]\n",
    "        if len(phrases) > 1:\n",
    "            data['sentence2'] += [phrases[1]] \n",
    "        else:\n",
    "            data['sentence2'] += ['NA']\n",
    "    scores = model.calculate_output(x, [task_name])[task_name].detach().cpu().numpy()[:, 0] # .flatten()\n",
    "    data['score'] += list(scores)\n",
    "    data['label'] += list(convert_labels(y, 'categorical', 'onezero').numpy())\n",
    "    count += 1\n",
    "    if count > max_batches:\n",
    "        break\n",
    "        \n",
    "\n",
    "df_error = pd.DataFrame(data, columns=['sentence1', 'sentence2', 'score', 'label'])\n",
    "df_error['pred'] = 1* (df_error.score > 0.5)\n",
    "df_error['is_wrong'] = df_error['pred'] != df_error['label']"
   ]
  },
  {
   "cell_type": "markdown",
   "metadata": {},
   "source": [
    "### Saving and Loading Error DataFrame"
   ]
  },
  {
   "cell_type": "code",
   "execution_count": 5,
   "metadata": {},
   "outputs": [
    {
     "name": "stdout",
     "output_type": "stream",
     "text": [
      "Saved dataframe to:  /dfs/scratch0/jdunnmon/mmtl/sota_quest/debugging/RTE/dev_error_analysis.tsv\n"
     ]
    },
    {
     "data": {
      "text/html": [
       "<div>\n",
       "<style scoped>\n",
       "    .dataframe tbody tr th:only-of-type {\n",
       "        vertical-align: middle;\n",
       "    }\n",
       "\n",
       "    .dataframe tbody tr th {\n",
       "        vertical-align: top;\n",
       "    }\n",
       "\n",
       "    .dataframe thead th {\n",
       "        text-align: right;\n",
       "    }\n",
       "</style>\n",
       "<table border=\"1\" class=\"dataframe\">\n",
       "  <thead>\n",
       "    <tr style=\"text-align: right;\">\n",
       "      <th></th>\n",
       "      <th>Unnamed: 0</th>\n",
       "      <th>sentence1</th>\n",
       "      <th>sentence2</th>\n",
       "      <th>score</th>\n",
       "      <th>label</th>\n",
       "      <th>pred</th>\n",
       "      <th>is_wrong</th>\n",
       "    </tr>\n",
       "  </thead>\n",
       "  <tbody>\n",
       "    <tr>\n",
       "      <th>0</th>\n",
       "      <td>0</td>\n",
       "      <td>dana reeve , the widow of the actor christoph...</td>\n",
       "      <td>christopher reeve had an accident .</td>\n",
       "      <td>0.461119</td>\n",
       "      <td>0</td>\n",
       "      <td>0</td>\n",
       "      <td>False</td>\n",
       "    </tr>\n",
       "    <tr>\n",
       "      <th>1</th>\n",
       "      <td>1</td>\n",
       "      <td>yet , we now are discovering that antibiotics...</td>\n",
       "      <td>bacteria is winning the war against antibioti...</td>\n",
       "      <td>0.310028</td>\n",
       "      <td>1</td>\n",
       "      <td>0</td>\n",
       "      <td>True</td>\n",
       "    </tr>\n",
       "    <tr>\n",
       "      <th>2</th>\n",
       "      <td>2</td>\n",
       "      <td>cairo is now home to some 15 million people -...</td>\n",
       "      <td>15 million tonnes of rubbish are produced dai...</td>\n",
       "      <td>0.759440</td>\n",
       "      <td>0</td>\n",
       "      <td>1</td>\n",
       "      <td>True</td>\n",
       "    </tr>\n",
       "    <tr>\n",
       "      <th>3</th>\n",
       "      <td>3</td>\n",
       "      <td>the ami ##sh community in pennsylvania , whic...</td>\n",
       "      <td>pennsylvania has the biggest ami ##sh communi...</td>\n",
       "      <td>0.316320</td>\n",
       "      <td>0</td>\n",
       "      <td>0</td>\n",
       "      <td>False</td>\n",
       "    </tr>\n",
       "    <tr>\n",
       "      <th>4</th>\n",
       "      <td>4</td>\n",
       "      <td>security forces were on high alert after an e...</td>\n",
       "      <td>security forces were on high alert after a ca...</td>\n",
       "      <td>0.832552</td>\n",
       "      <td>1</td>\n",
       "      <td>1</td>\n",
       "      <td>False</td>\n",
       "    </tr>\n",
       "  </tbody>\n",
       "</table>\n",
       "</div>"
      ],
      "text/plain": [
       "   Unnamed: 0                                          sentence1  \\\n",
       "0           0   dana reeve , the widow of the actor christoph...   \n",
       "1           1   yet , we now are discovering that antibiotics...   \n",
       "2           2   cairo is now home to some 15 million people -...   \n",
       "3           3   the ami ##sh community in pennsylvania , whic...   \n",
       "4           4   security forces were on high alert after an e...   \n",
       "\n",
       "                                           sentence2     score  label  pred  \\\n",
       "0               christopher reeve had an accident .   0.461119      0     0   \n",
       "1   bacteria is winning the war against antibioti...  0.310028      1     0   \n",
       "2   15 million tonnes of rubbish are produced dai...  0.759440      0     1   \n",
       "3   pennsylvania has the biggest ami ##sh communi...  0.316320      0     0   \n",
       "4   security forces were on high alert after a ca...  0.832552      1     1   \n",
       "\n",
       "   is_wrong  \n",
       "0     False  \n",
       "1      True  \n",
       "2      True  \n",
       "3     False  \n",
       "4     False  "
      ]
     },
     "execution_count": 5,
     "metadata": {},
     "output_type": "execute_result"
    }
   ],
   "source": [
    "def save_dataframe(df,filepath):\n",
    "    df.to_csv(filepath, sep='\\t')\n",
    "    print('Saved dataframe to: ', filepath)\n",
    "    \n",
    "def load_dataframe(filepath):\n",
    "    df = pd.read_csv(filepath, sep='\\t')\n",
    "    return df\n",
    "\n",
    "filepath = f'{csv_path}/dev_error_analysis.tsv'\n",
    "save_dataframe(df_error,filepath)\n",
    "df_error = load_dataframe(filepath)\n",
    "df_error.head()"
   ]
  },
  {
   "cell_type": "markdown",
   "metadata": {},
   "source": [
    "### Looking at Random Examples"
   ]
  },
  {
   "cell_type": "code",
   "execution_count": 6,
   "metadata": {},
   "outputs": [],
   "source": [
    "def print_random_pred(df):\n",
    "    row = df.iloc[np.random.randint(df.shape[0])]\n",
    "    print(f'sentence1: \\t{row.sentence1}')\n",
    "    print(f'sentence2: \\t{row.sentence2}')\n",
    "    print('score: \\t{:.4f}'.format(row.score))    \n",
    "    print(f'label: \\t{row.label}')   "
   ]
  },
  {
   "cell_type": "code",
   "execution_count": 7,
   "metadata": {
    "scrolled": false
   },
   "outputs": [
    {
     "name": "stdout",
     "output_type": "stream",
     "text": [
      "\u001b[1mINCORRECT PREDICTIONS\u001b[0;0m\n",
      "sentence1: \t wilson has , after all , produced all three offspring albums , including \" smash , \" the one that has astonished everybody by selling 1 million copies in four months , establishing the here ##to ##for ##e unknown group as the leader , with green day , of an unprecedented wave of commercial success for punk . \n",
      "sentence2: \t \" smash \" is the title of the third album of the offspring . \n",
      "score: \t0.7452\n",
      "label: \t0\n",
      "\n",
      "sentence1: \t released in 1995 , tyson returned to boxing , winning the world boxing council title in 1996 . the same year , however , he lost to evan ##der holy ##field , and in a 1997 rematch bit holy ##field ' s ear , for which he was temporarily banned from boxing . \n",
      "sentence2: \t in 1996 mike tyson bit holy ##field ' s ear . \n",
      "score: \t0.7653\n",
      "label: \t0\n",
      "\n",
      "sentence1: \t the massachusetts supreme judicial court has cleared the way for lesbian and gay couples in the state to marry , ruling that government attorneys \" failed to identify any constitutional ##ly adequate reason \" to deny them the right . \n",
      "sentence2: \t u . s . supreme court in favor of same - sex marriage \n",
      "score: \t0.3174\n",
      "label: \t1\n",
      "\n",
      "\u001b[1mCORRECT PREDICTIONS\u001b[0;0m\n",
      "sentence1: \t ae ##sch ##ylus was born in 525 bc , and spent his youth as a soldier in the athenian army . he wrote the persians when he was 53 years old , but it is his earliest surviving work . \n",
      "sentence2: \t \" the persians \" was written by ae ##sch ##ylus . \n",
      "score: \t0.8607\n",
      "label: \t1\n",
      "\n",
      "sentence1: \t wal - mart stores has asked a us federal appeals court to review a judge ' s order app ##roving class - action status for a sex - discrimination lawsuit . \n",
      "sentence2: \t the judge approve ##s of sex - discrimination . \n",
      "score: \t0.2300\n",
      "label: \t0\n",
      "\n",
      "sentence1: \t brown brushed off a threat made monday by his counterpart , foreign trade minister wu yi , that if china ' s effort to join the general agreement on tariffs and trade ( ga ##tt ) by the year ' s end is unsuccessful , beijing will no longer be bound by previous trade and economic commitments . \n",
      "sentence2: \t wu yi is the foreign trade minister of china . \n",
      "score: \t0.9077\n",
      "label: \t1\n",
      "\n"
     ]
    }
   ],
   "source": [
    "print(\"\\033[1mINCORRECT PREDICTIONS\\033[0;0m\")\n",
    "for i in range(3):\n",
    "    print_random_pred(df_error[df_error.is_wrong==True])\n",
    "    print()\n",
    "    \n",
    "print(\"\\033[1mCORRECT PREDICTIONS\\033[0;0m\")\n",
    "for i in range(3):\n",
    "    print_random_pred(df_error[df_error.is_wrong==False])\n",
    "    print()"
   ]
  },
  {
   "cell_type": "markdown",
   "metadata": {},
   "source": [
    "## Sandbox for Error Analysis"
   ]
  },
  {
   "cell_type": "markdown",
   "metadata": {},
   "source": [
    "**1. We want to look at examples that are \"barely\" wrong and \"barely\" right since we have hope for boosts here.**"
   ]
  },
  {
   "cell_type": "code",
   "execution_count": 8,
   "metadata": {},
   "outputs": [],
   "source": [
    "def print_barely_wrong_pred(df,thresh=0.05):\n",
    "    df_temp = df[df.is_wrong==True]\n",
    "    idx = np.where(np.abs(df_temp.score - 0.5) <= thresh)[0]\n",
    "    row = df_temp.iloc[np.random.choice(list(idx))]\n",
    "    \n",
    "    print(f'sentence1: \\t{row.sentence1}')\n",
    "    print(f'sentence2: \\t{row.sentence2}')\n",
    "    print('score: \\t{:.4f}'.format(row.score))    \n",
    "    print(f'label: \\t{row.label}')  \n",
    "    \n",
    "def print_barely_right_pred(df,thresh=0.05):\n",
    "    df_temp = df[df.is_wrong==False]\n",
    "    idx = np.where(np.abs(df_temp.score - 0.5) <= thresh)[0]\n",
    "    row = df_temp.iloc[np.random.choice(list(idx))]\n",
    "    \n",
    "    print(f'sentence1: \\t{row.sentence1}')\n",
    "    print(f'sentence2: \\t{row.sentence2}')\n",
    "    print('score: \\t{:.4f}'.format(row.score))    \n",
    "    print(f'label: \\t{row.label}')   "
   ]
  },
  {
   "cell_type": "code",
   "execution_count": 9,
   "metadata": {},
   "outputs": [
    {
     "name": "stdout",
     "output_type": "stream",
     "text": [
      "\u001b[1mBARELY WRONG\u001b[0;0m\n",
      "sentence1: \t confident that those grading papers would understand answers written in text - speak , ha ##que stressed that in some exams , including english , text abbreviation ##s would be penal ##ized . \n",
      "sentence2: \t ha ##que wants to include english in some exams . \n",
      "score: \t0.5478\n",
      "label: \t0\n",
      "\n",
      "sentence1: \t napkin ##s , invitations and plain old paper cost more than they did a month ago . \n",
      "sentence2: \t the cost of paper is rising . \n",
      "score: \t0.4550\n",
      "label: \t1\n",
      "\n",
      "sentence1: \t capital punishment acts as a deter ##rent . \n",
      "sentence2: \t capital punishment is a deter ##rent to crime . \n",
      "score: \t0.4875\n",
      "label: \t1\n",
      "\n",
      "\u001b[1mBARELY RIGHT\u001b[0;0m\n",
      "sentence1: \t the memo , written by marc allen connell ##y ( who was general counsel to the funeral services commission at the time ) and sent to dick mc ##neil ( the bush - appointed chairman of the funeral commission ) , stated that connell ##y \" received information \" from texas state officials that two of the funeral commissioners worked for sci . \n",
      "sentence2: \t marc allen connell ##y worked for sci . \n",
      "score: \t0.4611\n",
      "label: \t0\n",
      "\n",
      "sentence1: \t dana reeve , the widow of the actor christopher reeve , has died of lung cancer at age 44 , according to the christopher reeve foundation . \n",
      "sentence2: \t christopher reeve had an accident . \n",
      "score: \t0.4611\n",
      "label: \t0\n",
      "\n",
      "sentence1: \t dana reeve , the widow of the actor christopher reeve , has died of lung cancer at age 44 , according to the christopher reeve foundation . \n",
      "sentence2: \t christopher reeve had an accident . \n",
      "score: \t0.4611\n",
      "label: \t0\n",
      "\n"
     ]
    }
   ],
   "source": [
    "print(\"\\033[1mBARELY WRONG\\033[0;0m\")\n",
    "for i in range(3):\n",
    "    print_barely_wrong_pred(df_error)\n",
    "    print()\n",
    "    \n",
    "print(\"\\033[1mBARELY RIGHT\\033[0;0m\")\n",
    "for i in range(3):\n",
    "    print_barely_right_pred(df_error)\n",
    "    print()"
   ]
  },
  {
   "cell_type": "markdown",
   "metadata": {},
   "source": [
    "**2. We also want to look at examples we got completely wrong since that could point to a systematic bias in the data/model. It could also help us find examples in the dataset that are mislabeled by human annotators**"
   ]
  },
  {
   "cell_type": "code",
   "execution_count": 10,
   "metadata": {},
   "outputs": [],
   "source": [
    "def print_very_wrong_pred(df,thresh=0.95):\n",
    "    df_temp = df[df.is_wrong==True]\n",
    "    try:\n",
    "        idx = np.where(np.abs(df_temp.score - df_temp.label) >= thresh)[0]\n",
    "        row = df_temp.iloc[np.random.choice(list(idx))]\n",
    "    except:\n",
    "        print(\"Threshold too high, reducing by 0.05\")\n",
    "        idx = np.where(np.abs(df_temp.score - df_temp.label) >= thresh-0.05)[0]\n",
    "        row = df_temp.iloc[np.random.choice(list(idx))]\n",
    "    \n",
    "    print(f'sentence1: \\t{row.sentence1}')\n",
    "    print(f'sentence2: \\t{row.sentence2}')\n",
    "    print('score: \\t{:.4f}'.format(row.score))    \n",
    "    print(f'label: \\t{row.label}') "
   ]
  },
  {
   "cell_type": "code",
   "execution_count": 11,
   "metadata": {},
   "outputs": [
    {
     "name": "stdout",
     "output_type": "stream",
     "text": [
      "\u001b[1mVERY WRONG\u001b[0;0m\n",
      "Threshold too high, reducing by 0.05\n",
      "sentence1: \t ar ##lene blu ##m is a legendary trail ##bla ##zer by any measure . def ##ying the climbing establishment of the 1970s , she led the first teams of women on successful ascent ##s of mt . mckinley and anna ##pur ##na , and was the first american woman to attempt mt . everest . in her long , adventurous career , she has played a leading role in more than twenty expeditions and forged a place for women in the per ##ilo ##us arena of high - altitude mountain ##eering . \n",
      "sentence2: \t a woman succeeds in climbing everest solo . \n",
      "score: \t0.9125\n",
      "label: \t0\n",
      "\n",
      "Threshold too high, reducing by 0.05\n",
      "sentence1: \t ah ##ern , who was travelling to tokyo for an eu - japan summit yesterday , will consult with other eu leaders by telephone later this week in an effort to find an agreed candidate . \n",
      "sentence2: \t a summit between europe and japan is taking place in the japan ##ise capital . \n",
      "score: \t0.0663\n",
      "label: \t1\n",
      "\n",
      "Threshold too high, reducing by 0.05\n",
      "sentence1: \t it appears that the super - conducting mag ##lev system is technically ready to be used commercially as a very high - speed , large - capacity transportation system . \n",
      "sentence2: \t mag ##lev is commercially used . \n",
      "score: \t0.9154\n",
      "label: \t0\n",
      "\n"
     ]
    }
   ],
   "source": [
    "print(\"\\033[1mVERY WRONG\\033[0;0m\")\n",
    "for i in range(3):\n",
    "    print_very_wrong_pred(df_error)\n",
    "    print()"
   ]
  },
  {
   "cell_type": "markdown",
   "metadata": {},
   "source": [
    "**3. To find systematic errors, we can also look for correlations between certain features and the incorrectness a la Socratic**\n",
    "\n",
    "\n",
    "We can make this way more sophisticated by perhaps using embeddings instead of this simple [BoW featurization](https://scikit-learn.org/stable/modules/generated/sklearn.feature_extraction.text.CountVectorizer.html#sklearn.feature_extraction.text.CountVectorizer)."
   ]
  },
  {
   "cell_type": "code",
   "execution_count": 12,
   "metadata": {},
   "outputs": [],
   "source": [
    "#Create a vector of correct/incorrect predictions\n",
    "y = 2*(np.array(df_error.is_wrong.astype(float))-0.5)\n",
    "\n",
    "#Create corpus by combining sentences\n",
    "combined = []\n",
    "for a,b in zip(np.array(df_error.sentence1),np.array(df_error.sentence2)):\n",
    "    combined.append(str(a)+str(b))"
   ]
  },
  {
   "cell_type": "code",
   "execution_count": 13,
   "metadata": {},
   "outputs": [
    {
     "name": "stderr",
     "output_type": "stream",
     "text": [
      "/dfs/scratch0/vschen/venv-mmtl/lib/python3.6/site-packages/sklearn/linear_model/logistic.py:433: FutureWarning: Default solver will be changed to 'lbfgs' in 0.22. Specify a solver to silence this warning.\n",
      "  FutureWarning)\n"
     ]
    },
    {
     "data": {
      "text/plain": [
       "LogisticRegression(C=1.0, class_weight=None, dual=False, fit_intercept=True,\n",
       "          intercept_scaling=1, max_iter=100, multi_class='warn',\n",
       "          n_jobs=None, penalty='l1', random_state=None, solver='warn',\n",
       "          tol=0.0001, verbose=0, warm_start=False)"
      ]
     },
     "execution_count": 13,
     "metadata": {},
     "output_type": "execute_result"
    }
   ],
   "source": [
    "#Create BoW featurization\n",
    "from sklearn.feature_extraction.text import CountVectorizer\n",
    "corpus = np.array(list(df_error.sentence1))\n",
    "vectorizer = CountVectorizer(ngram_range=(2,5), stop_words='english')\n",
    "X = vectorizer.fit_transform(corpus)\n",
    "\n",
    "#Run LR to find correlations\n",
    "from sklearn.linear_model import LogisticRegression\n",
    "lr_model = LogisticRegression(penalty=\"l1\")\n",
    "lr_model.fit(X, y)"
   ]
  },
  {
   "cell_type": "code",
   "execution_count": 14,
   "metadata": {},
   "outputs": [
    {
     "name": "stdout",
     "output_type": "stream",
     "text": [
      "10 000\n",
      "holy field\n",
      "harry potter\n",
      "capital punishment\n",
      "old city\n"
     ]
    },
    {
     "data": {
      "image/png": "[encoded data removed]",
      "text/plain": [
       "<Figure size 432x288 with 1 Axes>"
      ]
     },
     "metadata": {
      "needs_background": "light"
     },
     "output_type": "display_data"
    }
   ],
   "source": [
    "import matplotlib.pyplot as plt\n",
    "%matplotlib inline\n",
    "\n",
    "plt.stem(np.sort(np.abs(lr_model.coef_)[0])[::-1][0:50])\n",
    "plt.title('Feature Coefficient')\n",
    "plt.xlabel('Top k Features')\n",
    "\n",
    "top_idx = np.argsort(np.abs(lr_model.coef_)[0])[::-1][0:50]\n",
    "names = vectorizer.get_feature_names()\n",
    "for i in range(5):\n",
    "    print (names[top_idx[i]])"
   ]
  },
  {
   "cell_type": "code",
   "execution_count": 15,
   "metadata": {},
   "outputs": [
    {
     "name": "stdout",
     "output_type": "stream",
     "text": [
      "\u001b[1mSYSTEMATIC EXAMPLES\u001b[0;0m\n",
      "sentence1: \t cairo is now home to some 15 million people - a bu ##rgeon ##ing population that produces approximately 10 , 000 tonnes of rubbish per day , putting an enormous strain on public services . in the past 10 years , the government has tried hard to encourage private investment in the refuse sector , but some estimate 4 , 000 tonnes of waste is left behind every day , fest ##ering in the heat as it waits for someone to clear it up . it is often the people in the poor ##est neighbourhoods that are worst affected . but in some areas they are fighting back . in shu ##bra , one of the northern districts of the city , the residents have taken to the streets armed with dust ##pan ##s and brushes to clean up public areas which have been used as public dump ##s . \n",
      "sentence2: \t 15 million tonnes of rubbish are produced daily in cairo . \n",
      "score: \t0.7594\n",
      "label: \t0\n",
      "\n",
      "sentence1: \t the town is also home to the dalai lama and to more than 10 , 000 tibetan ##s living in exile . \n",
      "sentence2: \t the dalai lama has been living in exile since 10 , 000 . \n",
      "score: \t0.7446\n",
      "label: \t0\n",
      "\n",
      "sentence1: \t despite b ##jo ##rk making her first live performance in two years , the crowd of 10 , 000 people was only half of what the hall in the tokyo suburb of ma ##ku ##hari could hold . \n",
      "sentence2: \t 10 , 000 people live in tokyo . \n",
      "score: \t0.7904\n",
      "label: \t0\n",
      "\n",
      "sentence1: \t capital punishment acts as a deter ##rent . \n",
      "sentence2: \t capital punishment is a deter ##rent to crime . \n",
      "score: \t0.4875\n",
      "label: \t1\n",
      "\n",
      "sentence1: \t the kota ( \" fort \" ) , or old city , for example , sometimes called the downtown section , is the central business district and indonesia ' s financial capital . \n",
      "sentence2: \t the kota is the country ' s business center . \n",
      "score: \t0.4077\n",
      "label: \t1\n",
      "\n",
      "sentence1: \t some of the buildings around the city square in the kota also date from colonial times , including the old city hall ( 1710 ) , which has been restored and now serves as the municipal museum . \n",
      "sentence2: \t the city hall is a museum now . \n",
      "score: \t0.4030\n",
      "label: \t1\n",
      "\n"
     ]
    }
   ],
   "source": [
    "print(\"\\033[1mSYSTEMATIC EXAMPLES\\033[0;0m\")\n",
    "for i in range(5):\n",
    "    idx = list(np.where(X.todense()[:,top_idx[i]] == 1)[0])\n",
    "    for ii in range(len(idx)):\n",
    "        df_temp = df_error\n",
    "        row = df_temp.iloc[idx[ii]]\n",
    "\n",
    "        print(f'sentence1: \\t{row.sentence1}')\n",
    "        print(f'sentence2: \\t{row.sentence2}')\n",
    "        print('score: \\t{:.4f}'.format(row.score))    \n",
    "        print(f'label: \\t{row.label}')\n",
    "        print()"
   ]
  },
  {
   "cell_type": "code",
   "execution_count": null,
   "metadata": {},
   "outputs": [],
   "source": []
  }
 ],
 "metadata": {
  "kernelspec": {
   "display_name": "Python 3",
   "language": "python",
   "name": "python3"
  },
  "language_info": {
   "codemirror_mode": {
    "name": "ipython",
    "version": 3
   },
   "file_extension": ".py",
   "mimetype": "text/x-python",
   "name": "python",
   "nbconvert_exporter": "python",
   "pygments_lexer": "ipython3",
   "version": "3.6.7"
  }
 },
 "nbformat": 4,
 "nbformat_minor": 2
}
