{
 "cells": [
  {
   "cell_type": "code",
   "execution_count": 1,
   "metadata": {
    "scrolled": true
   },
   "outputs": [],
   "source": [
    "%load_ext autoreload\n",
    "%autoreload 2"
   ]
  },
  {
   "cell_type": "code",
   "execution_count": 2,
   "metadata": {
    "scrolled": true
   },
   "outputs": [],
   "source": [
    "task_names = [\n",
    "    \"COLA\", \n",
    "#     \"SST2\",\n",
    "#     \"MNLI\",\n",
    "#     \"RTE\",\n",
    "#     \"WNLI\",\n",
    "#     \"QQP\",\n",
    "#     \"MRPC\",\n",
    "#     \"STSB\",\n",
    "#     \"QNLI\",\n",
    "#     \"SPACY_POS\",\n",
    "#     \"SPACY_NER\",\n",
    "#     \"THIRD\",\n",
    "#     \"BLEU\",\n",
    "]\n",
    "\n",
    "FILENAME = \"COLA_tasks_and_payloads\""
   ]
  },
  {
   "cell_type": "code",
   "execution_count": 3,
   "metadata": {},
   "outputs": [],
   "source": [
    "SEED = 1"
   ]
  },
  {
   "cell_type": "markdown",
   "metadata": {},
   "source": [
    "## Baseline: Train COLA Task"
   ]
  },
  {
   "cell_type": "code",
   "execution_count": 4,
   "metadata": {},
   "outputs": [
    {
     "name": "stdout",
     "output_type": "stream",
     "text": [
      "Using random seed: 387965\n",
      "Loading COLA Dataset\n"
     ]
    },
    {
     "data": {
      "application/vnd.jupyter.widget-view+json": {
       "model_id": "e2c7de46fb974e2ab24f3cf7c3acce3a",
       "version_major": 2,
       "version_minor": 0
      },
      "text/plain": [
       "HBox(children=(IntProgress(value=0, max=8550), HTML(value='')))"
      ]
     },
     "metadata": {},
     "output_type": "display_data"
    },
    {
     "name": "stdout",
     "output_type": "stream",
     "text": [
      "\n"
     ]
    },
    {
     "data": {
      "application/vnd.jupyter.widget-view+json": {
       "model_id": "0b7371d8adf34562bff29cae6539457b",
       "version_major": 2,
       "version_minor": 0
      },
      "text/plain": [
       "HBox(children=(IntProgress(value=0, max=1042), HTML(value='')))"
      ]
     },
     "metadata": {},
     "output_type": "display_data"
    },
    {
     "name": "stdout",
     "output_type": "stream",
     "text": [
      "\n"
     ]
    },
    {
     "data": {
      "application/vnd.jupyter.widget-view+json": {
       "model_id": "0e0946120c0e4ed9aa2c50fa52fa6754",
       "version_major": 2,
       "version_minor": 0
      },
      "text/plain": [
       "HBox(children=(IntProgress(value=0, max=1063), HTML(value='')))"
      ]
     },
     "metadata": {},
     "output_type": "display_data"
    },
    {
     "name": "stdout",
     "output_type": "stream",
     "text": [
      "\n",
      "CPU times: user 13.7 s, sys: 6.12 s, total: 19.8 s\n",
      "Wall time: 15 s\n"
     ]
    }
   ],
   "source": [
    "%%time\n",
    "from metal.mmtl.glue.glue_tasks import create_tasks_and_payloads\n",
    "\n",
    "# Create tasks and payloads\n",
    "tasks, payloads = create_tasks_and_payloads(\n",
    "    task_names,\n",
    "    dl_kwargs={\"batch_size\": 16},\n",
    "    freeze_bert=True\n",
    ")"
   ]
  },
  {
   "cell_type": "code",
   "execution_count": 5,
   "metadata": {},
   "outputs": [
    {
     "data": {
      "text/plain": [
       "([ClassificationTask(name=COLA, loss_multiplier=1.0)],\n",
       " [Payload(COLA_train: tasks=[COLA], split=train),\n",
       "  Payload(COLA_valid: tasks=[COLA], split=valid),\n",
       "  Payload(COLA_test: tasks=[COLA], split=test)])"
      ]
     },
     "execution_count": 5,
     "metadata": {},
     "output_type": "execute_result"
    }
   ],
   "source": [
    "tasks, payloads"
   ]
  },
  {
   "cell_type": "code",
   "execution_count": 6,
   "metadata": {},
   "outputs": [],
   "source": [
    "from metal.mmtl.metal_model import MetalModel\n",
    "\n",
    "model_baseline = MetalModel(tasks, seed=SEED, verbose=False)"
   ]
  },
  {
   "cell_type": "code",
   "execution_count": 7,
   "metadata": {},
   "outputs": [],
   "source": [
    "from metal.mmtl.trainer import MultitaskTrainer\n",
    "trainer = MultitaskTrainer(seed=SEED)"
   ]
  },
  {
   "cell_type": "code",
   "execution_count": 8,
   "metadata": {},
   "outputs": [],
   "source": [
    "# trainer.train_model(\n",
    "#     model_baseline,\n",
    "#     payloads,\n",
    "#     checkpoint_metric=\"COLA/COLA_valid/matthews_corr\",\n",
    "#     checkpoint_metric_mode=\"max\",\n",
    "#     writer=\"tensorboard\",\n",
    "#     optimizer=\"adamax\",\n",
    "#     lr=5e-5,\n",
    "#     log_every=0.05,\n",
    "#     score_every=0.1,\n",
    "#     n_epochs=3,\n",
    "#     progress_bar=True\n",
    "# )"
   ]
  },
  {
   "cell_type": "code",
   "execution_count": 9,
   "metadata": {},
   "outputs": [
    {
     "name": "stdout",
     "output_type": "stream",
     "text": [
      "1042 1042\n"
     ]
    },
    {
     "name": "stderr",
     "output_type": "stream",
     "text": [
      "/dfs/scratch0/vschen/venv-mmtl/lib/python3.6/site-packages/sklearn/metrics/classification.py:543: RuntimeWarning: invalid value encountered in double_scalars\n",
      "  mcc = cov_ytyp / np.sqrt(cov_ytyt * cov_ypyp)\n"
     ]
    },
    {
     "data": {
      "text/plain": [
       "{'COLA/COLA_valid/accuracy': 0.690978886756238,\n",
       " 'COLA/COLA_valid/matthews_corr': 0.0}"
      ]
     },
     "execution_count": 9,
     "metadata": {},
     "output_type": "execute_result"
    }
   ],
   "source": [
    "model_baseline.score(payloads[1])"
   ]
  },
  {
   "cell_type": "markdown",
   "metadata": {},
   "source": [
    "## Slice-aware Model"
   ]
  },
  {
   "cell_type": "code",
   "execution_count": 10,
   "metadata": {
    "scrolled": false
   },
   "outputs": [
    {
     "name": "stdout",
     "output_type": "stream",
     "text": [
      "Using random seed: 128037\n",
      "Loading COLA Dataset\n"
     ]
    },
    {
     "data": {
      "application/vnd.jupyter.widget-view+json": {
       "model_id": "f6e888f58502462c824e7c83c0ad0ba1",
       "version_major": 2,
       "version_minor": 0
      },
      "text/plain": [
       "HBox(children=(IntProgress(value=0, max=8550), HTML(value='')))"
      ]
     },
     "metadata": {},
     "output_type": "display_data"
    },
    {
     "name": "stdout",
     "output_type": "stream",
     "text": [
      "\n"
     ]
    },
    {
     "data": {
      "application/vnd.jupyter.widget-view+json": {
       "model_id": "e4850b03d8524e22b88cab6ee6e2cc02",
       "version_major": 2,
       "version_minor": 0
      },
      "text/plain": [
       "HBox(children=(IntProgress(value=0, max=1042), HTML(value='')))"
      ]
     },
     "metadata": {},
     "output_type": "display_data"
    },
    {
     "name": "stdout",
     "output_type": "stream",
     "text": [
      "\n"
     ]
    },
    {
     "data": {
      "application/vnd.jupyter.widget-view+json": {
       "model_id": "e377d84b19eb4e28ac4cf78210b63378",
       "version_major": 2,
       "version_minor": 0
      },
      "text/plain": [
       "HBox(children=(IntProgress(value=0, max=1063), HTML(value='')))"
      ]
     },
     "metadata": {},
     "output_type": "display_data"
    },
    {
     "name": "stdout",
     "output_type": "stream",
     "text": [
      "\n",
      "Added label_set with 8550 labels for task COLA:ends_with_question_mark to payload COLA_train.\n",
      "Added label_set with 1042 labels for task COLA:ends_with_question_mark to payload COLA_valid.\n",
      "Added label_set with 1063 labels for task COLA:ends_with_question_mark to payload COLA_test.\n",
      "CPU times: user 8.92 s, sys: 964 ms, total: 9.89 s\n",
      "Wall time: 10.9 s\n"
     ]
    }
   ],
   "source": [
    "%%time\n",
    "from metal.mmtl.glue.glue_tasks import create_tasks_and_payloads\n",
    "\n",
    "# define slices\n",
    "slice_dict = {  # A map of the slices that apply to each task\n",
    "   \"COLA\": [\"ends_with_question_mark\"]\n",
    "}\n",
    "\n",
    "# Create tasks and payloads\n",
    "tasks_slice, payloads_slice = create_tasks_and_payloads(\n",
    "    task_names,\n",
    "#     max_datapoints=1000,\n",
    "    dl_kwargs={\"batch_size\": 16},\n",
    "    slice_dict=slice_dict,\n",
    "    freeze_bert=True\n",
    ")"
   ]
  },
  {
   "cell_type": "markdown",
   "metadata": {},
   "source": [
    "### Evaluate baseline model on the slice of interest"
   ]
  },
  {
   "cell_type": "code",
   "execution_count": 11,
   "metadata": {},
   "outputs": [
    {
     "name": "stdout",
     "output_type": "stream",
     "text": [
      "1042 1042\n",
      "57 1042\n"
     ]
    },
    {
     "data": {
      "text/plain": [
       "{'COLA/COLA_valid/accuracy': 0.690978886756238,\n",
       " 'COLA/COLA_valid/matthews_corr': 0.0,\n",
       " 'COLA:ends_with_question_mark/COLA_valid/accuracy': 0.6140350877192983,\n",
       " 'COLA:ends_with_question_mark/COLA_valid/matthews_corr': 0.0}"
      ]
     },
     "execution_count": 11,
     "metadata": {},
     "output_type": "execute_result"
    }
   ],
   "source": [
    "# Allow us to evaluate on arbitrary payload with arbitrary model\n",
    "model_baseline.score(payloads_slice[1])"
   ]
  },
  {
   "cell_type": "code",
   "execution_count": 12,
   "metadata": {},
   "outputs": [],
   "source": [
    "# tasks_slice, payloads_slice"
   ]
  },
  {
   "cell_type": "code",
   "execution_count": 13,
   "metadata": {},
   "outputs": [],
   "source": [
    "import numpy as np\n",
    "def count_num_labels(labels):\n",
    "    return np.sum(np.array(labels) != 0)"
   ]
  },
  {
   "cell_type": "code",
   "execution_count": 14,
   "metadata": {},
   "outputs": [
    {
     "name": "stdout",
     "output_type": "stream",
     "text": [
      "COLA 8550\n",
      "COLA:ends_with_question_mark 615\n"
     ]
    }
   ],
   "source": [
    "dataset = payloads_slice[0].data_loader.dataset\n",
    "for labelset_name, labels in dataset.labels.items():\n",
    "    print(labelset_name, count_num_labels(labels))"
   ]
  },
  {
   "cell_type": "code",
   "execution_count": 15,
   "metadata": {
    "scrolled": false
   },
   "outputs": [],
   "source": [
    "from metal.mmtl.metal_model import MetalModel\n",
    "\n",
    "model_slice = MetalModel(tasks_slice, seed=SEED, verbose=False)"
   ]
  },
  {
   "cell_type": "code",
   "execution_count": 16,
   "metadata": {},
   "outputs": [],
   "source": [
    "from metal.mmtl.trainer import MultitaskTrainer\n",
    "trainer = MultitaskTrainer(seed=SEED)"
   ]
  },
  {
   "cell_type": "code",
   "execution_count": 17,
   "metadata": {
    "scrolled": true
   },
   "outputs": [],
   "source": [
    "# trainer.train_model(\n",
    "#     model_slice,\n",
    "#     payloads_slice,\n",
    "#     checkpoint_metric=\"COLA/COLA_valid/matthews_corr\",\n",
    "#     checkpoint_metric_mode=\"max\",\n",
    "#     writer=\"tensorboard\",\n",
    "#     optimizer=\"adamax\",\n",
    "#     lr=5e-5,\n",
    "#     log_every=0.05,\n",
    "#     score_every=0.1,\n",
    "#     n_epochs=3,\n",
    "#     progress_bar=True\n",
    "# )"
   ]
  },
  {
   "cell_type": "code",
   "execution_count": 18,
   "metadata": {},
   "outputs": [
    {
     "data": {
      "text/plain": [
       "['COLA', 'COLA:ends_with_question_mark']"
      ]
     },
     "execution_count": 18,
     "metadata": {},
     "output_type": "execute_result"
    }
   ],
   "source": [
    "payloads_slice[0].task_names"
   ]
  },
  {
   "cell_type": "code",
   "execution_count": 19,
   "metadata": {},
   "outputs": [
    {
     "name": "stdout",
     "output_type": "stream",
     "text": [
      "1042 1042\n",
      "57 1042\n"
     ]
    },
    {
     "data": {
      "text/plain": [
       "{'COLA/COLA_valid/accuracy': 0.690978886756238,\n",
       " 'COLA/COLA_valid/matthews_corr': 0.0,\n",
       " 'COLA:ends_with_question_mark/COLA_valid/accuracy': 0.6140350877192983,\n",
       " 'COLA:ends_with_question_mark/COLA_valid/matthews_corr': 0.0}"
      ]
     },
     "execution_count": 19,
     "metadata": {},
     "output_type": "execute_result"
    }
   ],
   "source": [
    "from metal.mmtl.metal_model import MetalModel\n",
    "model_slice.score(payloads_slice[1])"
   ]
  },
  {
   "cell_type": "code",
   "execution_count": 20,
   "metadata": {
    "scrolled": true
   },
   "outputs": [
    {
     "name": "stdout",
     "output_type": "stream",
     "text": [
      "WE WIN!\n"
     ]
    }
   ],
   "source": [
    "print(\"WE WIN!\")"
   ]
  },
  {
   "cell_type": "code",
   "execution_count": null,
   "metadata": {},
   "outputs": [],
   "source": []
  }
 ],
 "metadata": {
  "kernelspec": {
   "display_name": "Python 3",
   "language": "python",
   "name": "python3"
  },
  "language_info": {
   "codemirror_mode": {
    "name": "ipython",
    "version": 3
   },
   "file_extension": ".py",
   "mimetype": "text/x-python",
   "name": "python",
   "nbconvert_exporter": "python",
   "pygments_lexer": "ipython3",
   "version": "3.6.7"
  }
 },
 "nbformat": 4,
 "nbformat_minor": 2
}
