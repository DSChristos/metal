{
 "cells": [
  {
   "cell_type": "code",
   "execution_count": 1,
   "metadata": {
    "scrolled": true
   },
   "outputs": [],
   "source": [
    "%load_ext autoreload\n",
    "%autoreload 2"
   ]
  },
  {
   "cell_type": "code",
   "execution_count": 2,
   "metadata": {
    "scrolled": true
   },
   "outputs": [],
   "source": [
    "task_names = [\n",
    "    \"COLA\", \n",
    "#     \"SST2\",\n",
    "#     \"MNLI\",\n",
    "#     \"RTE\",\n",
    "#     \"WNLI\",\n",
    "#     \"QQP\",\n",
    "#     \"MRPC\",\n",
    "#     \"STSB\",\n",
    "#     \"QNLI\",\n",
    "#     \"SPACY_POS\",\n",
    "#     \"SPACY_NER\",\n",
    "#     \"THIRD\",\n",
    "#     \"BLEU\",\n",
    "]\n",
    "\n",
    "FILENAME = \"COLA_tasks_and_payloads\""
   ]
  },
  {
   "cell_type": "code",
   "execution_count": 3,
   "metadata": {},
   "outputs": [],
   "source": [
    "SEED = 1"
   ]
  },
  {
   "cell_type": "markdown",
   "metadata": {},
   "source": [
    "## Load previously trained model\n",
    "Hint: make sure the `bert_model` is initialized correctly!"
   ]
  },
  {
   "cell_type": "code",
   "execution_count": 4,
   "metadata": {
    "scrolled": true
   },
   "outputs": [
    {
     "name": "stdout",
     "output_type": "stream",
     "text": [
      "Using random seed: 401221\n",
      "Loading COLA Dataset\n"
     ]
    },
    {
     "data": {
      "application/vnd.jupyter.widget-view+json": {
       "model_id": "6ae1267e20cb4632991fc70716d3f22c",
       "version_major": 2,
       "version_minor": 0
      },
      "text/plain": [
       "HBox(children=(IntProgress(value=0, max=8550), HTML(value='')))"
      ]
     },
     "metadata": {},
     "output_type": "display_data"
    },
    {
     "name": "stdout",
     "output_type": "stream",
     "text": [
      "\n"
     ]
    },
    {
     "data": {
      "application/vnd.jupyter.widget-view+json": {
       "model_id": "bb68d089637346ecbfb64a94f7b992ea",
       "version_major": 2,
       "version_minor": 0
      },
      "text/plain": [
       "HBox(children=(IntProgress(value=0, max=1042), HTML(value='')))"
      ]
     },
     "metadata": {},
     "output_type": "display_data"
    },
    {
     "name": "stdout",
     "output_type": "stream",
     "text": [
      "\n"
     ]
    },
    {
     "data": {
      "application/vnd.jupyter.widget-view+json": {
       "model_id": "95126a68a6fc497fa4814fcf27b74d06",
       "version_major": 2,
       "version_minor": 0
      },
      "text/plain": [
       "HBox(children=(IntProgress(value=0, max=1063), HTML(value='')))"
      ]
     },
     "metadata": {},
     "output_type": "display_data"
    },
    {
     "name": "stdout",
     "output_type": "stream",
     "text": [
      "\n",
      "CPU times: user 25.3 s, sys: 7.74 s, total: 33 s\n",
      "Wall time: 29 s\n"
     ]
    }
   ],
   "source": [
    "%%time\n",
    "from metal.mmtl.glue.glue_tasks import create_tasks_and_payloads\n",
    "\n",
    "# Create tasks and payloads\n",
    "tasks, payloads = create_tasks_and_payloads(\n",
    "    task_names,\n",
    "    dl_kwargs={\"batch_size\": 16},\n",
    "#     freeze_bert=True,\n",
    "    bert_model='bert-large-cased'\n",
    ")"
   ]
  },
  {
   "cell_type": "code",
   "execution_count": null,
   "metadata": {},
   "outputs": [
    {
     "data": {
      "text/plain": [
       "([ClassificationTask(name=COLA, loss_multiplier=1.0)],\n",
       " [Payload(COLA_train: tasks=[COLA], split=train),\n",
       "  Payload(COLA_valid: tasks=[COLA], split=valid),\n",
       "  Payload(COLA_test: tasks=[COLA], split=test)])"
      ]
     },
     "execution_count": 5,
     "metadata": {},
     "output_type": "execute_result"
    }
   ],
   "source": [
    "tasks, payloads"
   ]
  },
  {
   "cell_type": "code",
   "execution_count": null,
   "metadata": {},
   "outputs": [],
   "source": [
    "from metal.mmtl.metal_model import MetalModel\n",
    "\n",
    "model = MetalModel(tasks, seed=SEED, verbose=False)"
   ]
  },
  {
   "cell_type": "code",
   "execution_count": null,
   "metadata": {},
   "outputs": [],
   "source": [
    "import os\n",
    "import torch\n",
    "model_dir = '/dfs/scratch0/chami/metal/metal/mmtl/aws/output/2019_03_14_01_58_14/0/logdir/bert_large/QNLI.STSB.MRPC.QQP.RTE.MNLI.SST2.COLA.WNLI_09_15_09'\n",
    "model_path = os.path.join(model_dir, 'best_model.pth')\n",
    "device = torch.device(f\"cuda:0\")\n",
    "model.load_state_dict(torch.load(model_path, map_location=device)[\"model\"], strict=False)"
   ]
  },
  {
   "cell_type": "markdown",
   "metadata": {},
   "source": [
    "#### Sanity check that task head is trained!"
   ]
  },
  {
   "cell_type": "code",
   "execution_count": null,
   "metadata": {},
   "outputs": [
    {
     "data": {
      "text/plain": [
       "{'COLA/COLA_valid/accuracy': 0.8464491362763915,\n",
       " 'COLA/COLA_valid/matthews_corr': 0.6311800125409577}"
      ]
     },
     "execution_count": 8,
     "metadata": {},
     "output_type": "execute_result"
    }
   ],
   "source": [
    "model.score(payloads[1])"
   ]
  },
  {
   "cell_type": "markdown",
   "metadata": {},
   "source": [
    "## Define slices for evaluation"
   ]
  },
  {
   "cell_type": "code",
   "execution_count": null,
   "metadata": {
    "scrolled": false
   },
   "outputs": [
    {
     "name": "stdout",
     "output_type": "stream",
     "text": [
      "Using random seed: 128037\n",
      "Loading COLA Dataset\n"
     ]
    },
    {
     "data": {
      "application/vnd.jupyter.widget-view+json": {
       "model_id": "72aa72e48c6f42059725e70e80629cf6",
       "version_major": 2,
       "version_minor": 0
      },
      "text/plain": [
       "HBox(children=(IntProgress(value=0, max=8550), HTML(value='')))"
      ]
     },
     "metadata": {},
     "output_type": "display_data"
    },
    {
     "name": "stdout",
     "output_type": "stream",
     "text": [
      "\n"
     ]
    },
    {
     "data": {
      "application/vnd.jupyter.widget-view+json": {
       "model_id": "4737956f82bf4ae7b7d252844928b522",
       "version_major": 2,
       "version_minor": 0
      },
      "text/plain": [
       "HBox(children=(IntProgress(value=0, max=1042), HTML(value='')))"
      ]
     },
     "metadata": {},
     "output_type": "display_data"
    },
    {
     "name": "stdout",
     "output_type": "stream",
     "text": [
      "\n"
     ]
    },
    {
     "data": {
      "application/vnd.jupyter.widget-view+json": {
       "model_id": "2569759cd610466799b32e93feabb739",
       "version_major": 2,
       "version_minor": 0
      },
      "text/plain": [
       "HBox(children=(IntProgress(value=0, max=1063), HTML(value='')))"
      ]
     },
     "metadata": {},
     "output_type": "display_data"
    },
    {
     "name": "stdout",
     "output_type": "stream",
     "text": [
      "\n",
      "Added label_set with 8550 labels for task COLA:ends_with_question_mark to payload COLA_train.\n",
      "Added label_set with 1042 labels for task COLA:ends_with_question_mark to payload COLA_valid.\n",
      "Added label_set with 1063 labels for task COLA:ends_with_question_mark to payload COLA_test.\n",
      "CPU times: user 18.4 s, sys: 2.47 s, total: 20.8 s\n",
      "Wall time: 21.8 s\n"
     ]
    }
   ],
   "source": [
    "%%time\n",
    "from metal.mmtl.glue.glue_tasks import create_tasks_and_payloads\n",
    "\n",
    "# define slices\n",
    "slice_dict = {  # A map of the slices that apply to each task\n",
    "   \"COLA\": [\"ends_with_question_mark\"]\n",
    "}\n",
    "\n",
    "# Create tasks and payloads\n",
    "_, payloads_slice = create_tasks_and_payloads(\n",
    "    task_names,\n",
    "    dl_kwargs={\"batch_size\": 16},\n",
    "    slice_dict=slice_dict,\n",
    "#     freeze_bert=True,\n",
    "    bert_model='bert-large-cased'\n",
    ")"
   ]
  },
  {
   "cell_type": "code",
   "execution_count": null,
   "metadata": {},
   "outputs": [
    {
     "data": {
      "text/plain": [
       "[Payload(COLA_train: tasks=[COLA,COLA:ends_with_question_mark], split=train),\n",
       " Payload(COLA_valid: tasks=[COLA,COLA:ends_with_question_mark], split=valid),\n",
       " Payload(COLA_test: tasks=[COLA,COLA:ends_with_question_mark], split=test)]"
      ]
     },
     "execution_count": 10,
     "metadata": {},
     "output_type": "execute_result"
    }
   ],
   "source": [
    "payloads_slice"
   ]
  },
  {
   "cell_type": "markdown",
   "metadata": {},
   "source": [
    "#### Sanity check the number of examples in the train set"
   ]
  },
  {
   "cell_type": "code",
   "execution_count": null,
   "metadata": {},
   "outputs": [],
   "source": [
    "import numpy as np\n",
    "def count_num_labels(labels):\n",
    "    return np.sum(np.array(labels) != 0)"
   ]
  },
  {
   "cell_type": "code",
   "execution_count": null,
   "metadata": {},
   "outputs": [
    {
     "name": "stdout",
     "output_type": "stream",
     "text": [
      "COLA 8550\n",
      "COLA:ends_with_question_mark 615\n"
     ]
    }
   ],
   "source": [
    "dataset = payloads_slice[0].data_loader.dataset\n",
    "for labelset_name, labels in dataset.labels.items():\n",
    "    print(labelset_name, count_num_labels(labels))"
   ]
  },
  {
   "cell_type": "markdown",
   "metadata": {},
   "source": [
    "### Evaluate baseline model on the slice of interest"
   ]
  },
  {
   "cell_type": "code",
   "execution_count": null,
   "metadata": {},
   "outputs": [
    {
     "name": "stdout",
     "output_type": "stream",
     "text": [
      "Evaluating 57 / 1042 active labels\n"
     ]
    },
    {
     "data": {
      "text/plain": [
       "{'COLA/COLA_valid/accuracy': 0.8464491362763915,\n",
       " 'COLA/COLA_valid/matthews_corr': 0.6311800125409577,\n",
       " 'COLA:ends_with_question_mark/COLA_valid/accuracy': 0.7543859649122807,\n",
       " 'COLA:ends_with_question_mark/COLA_valid/matthews_corr': 0.4818181818181818}"
      ]
     },
     "execution_count": 13,
     "metadata": {},
     "output_type": "execute_result"
    }
   ],
   "source": [
    "model.score(payloads_slice[1])"
   ]
  },
  {
   "cell_type": "markdown",
   "metadata": {},
   "source": [
    "## Finetune model on slice of interest"
   ]
  },
  {
   "cell_type": "code",
   "execution_count": null,
   "metadata": {
    "scrolled": false
   },
   "outputs": [],
   "source": [
    "from metal.mmtl.metal_model import MetalModel\n",
    "\n",
    "from metal.mmtl.trainer import MultitaskTrainer\n",
    "trainer = MultitaskTrainer(seed=SEED)"
   ]
  },
  {
   "cell_type": "code",
   "execution_count": null,
   "metadata": {},
   "outputs": [],
   "source": [
    "# # only finetune on the slices, not the original task\n",
    "# for p in payloads_slice:\n",
    "#     p.task_names.remove('COLA')\n",
    "# payloads_slice"
   ]
  },
  {
   "cell_type": "markdown",
   "metadata": {},
   "source": [
    "NOTE: We are training on a different set of payloads than we initialized the model with."
   ]
  },
  {
   "cell_type": "code",
   "execution_count": null,
   "metadata": {
    "scrolled": true
   },
   "outputs": [
    {
     "name": "stdout",
     "output_type": "stream",
     "text": [
      "Adding missing slice heads to train {'COLA', 'COLA:ends_with_question_mark'}\n",
      "Beginning train loop.\n",
      "Expecting a total of approximately 8560 examples and 535 batches per epoch from 1 payload(s) in the train split.\n",
      "Writing config to /dfs/scratch0/vschen/metal-mmtl/logs/2019_03_17/14_38_24/config.json\n"
     ]
    },
    {
     "data": {
      "application/vnd.jupyter.widget-view+json": {
       "model_id": "3014460aed26446ea39435c1455b9737",
       "version_major": 2,
       "version_minor": 0
      },
      "text/plain": [
       "HBox(children=(IntProgress(value=0, max=535), HTML(value='')))"
      ]
     },
     "metadata": {},
     "output_type": "display_data"
    },
    {
     "name": "stdout",
     "output_type": "stream",
     "text": [
      "[0.05 epo]: COLA:[train/loss=3.12e-01] COLA:ends_with_question_mark:[train/loss=3.99e-01] model:[train/loss=3.17e-01, train/lr=3.00e-05]\n",
      "Evaluating 57 / 1042 active labels\n",
      "[0.10 epo]: COLA:[train/loss=2.59e-01, COLA_valid/accuracy=8.34e-01, COLA_valid/matthews_corr=6.00e-01] COLA:ends_with_question_mark:[train/loss=3.13e-01, COLA_valid/accuracy=6.84e-01, COLA_valid/matthews_corr=3.01e-01] model:[train/loss=2.62e-01, train/lr=3.00e-05, valid/glue=6.00e-01]\n"
     ]
    },
    {
     "name": "stderr",
     "output_type": "stream",
     "text": [
      "/dfs/scratch0/vschen/metal-mmtl/metal/mmtl/trainer.py:489: UserWarning: You requested glue score but have fewer than 9 tasks. Be aware.\n",
      "  warnings.warn(msg)\n"
     ]
    },
    {
     "name": "stdout",
     "output_type": "stream",
     "text": [
      "[0.15 epo]: COLA:[train/loss=2.76e-01] COLA:ends_with_question_mark:[train/loss=5.61e-01] model:[train/loss=2.96e-01, train/lr=3.00e-05]\n",
      "Evaluating 57 / 1042 active labels\n",
      "[0.20 epo]: COLA:[train/loss=2.47e-01, COLA_valid/accuracy=8.07e-01, COLA_valid/matthews_corr=5.21e-01] COLA:ends_with_question_mark:[train/loss=5.57e-01, COLA_valid/accuracy=6.49e-01, COLA_valid/matthews_corr=2.09e-01] model:[train/loss=2.69e-01, train/lr=3.00e-05, valid/glue=5.21e-01]\n",
      "[0.25 epo]: COLA:[train/loss=2.54e-01] COLA:ends_with_question_mark:[train/loss=2.82e-01] model:[train/loss=2.56e-01, train/lr=3.00e-05]\n",
      "Evaluating 57 / 1042 active labels\n",
      "[0.30 epo]: COLA:[train/loss=2.67e-01, COLA_valid/accuracy=8.24e-01, COLA_valid/matthews_corr=5.68e-01] COLA:ends_with_question_mark:[train/loss=2.16e-02, COLA_valid/accuracy=7.19e-01, COLA_valid/matthews_corr=3.87e-01] model:[train/loss=2.51e-01, train/lr=3.00e-05, valid/glue=5.68e-01]\n",
      "[0.35 epo]: COLA:[train/loss=2.53e-01] COLA:ends_with_question_mark:[train/loss=3.83e-01] model:[train/loss=2.61e-01, train/lr=3.00e-05]\n",
      "Evaluating 57 / 1042 active labels\n",
      "[0.40 epo]: COLA:[train/loss=2.70e-01, COLA_valid/accuracy=8.37e-01, COLA_valid/matthews_corr=6.08e-01] COLA:ends_with_question_mark:[train/loss=4.42e-01, COLA_valid/accuracy=7.19e-01, COLA_valid/matthews_corr=4.19e-01] model:[train/loss=2.81e-01, train/lr=3.00e-05, valid/glue=6.08e-01]\n",
      "[0.45 epo]: COLA:[train/loss=2.87e-01] COLA:ends_with_question_mark:[train/loss=5.31e-01] model:[train/loss=3.03e-01, train/lr=3.00e-05]\n",
      "Evaluating 57 / 1042 active labels\n",
      "[0.50 epo]: COLA:[train/loss=2.54e-01, COLA_valid/accuracy=7.98e-01, COLA_valid/matthews_corr=5.03e-01] COLA:ends_with_question_mark:[train/loss=4.63e-01, COLA_valid/accuracy=6.32e-01, COLA_valid/matthews_corr=1.36e-01] model:[train/loss=2.72e-01, train/lr=3.00e-05, valid/glue=5.03e-01]\n",
      "[0.56 epo]: COLA:[train/loss=2.01e-01] COLA:ends_with_question_mark:[train/loss=9.76e-02] model:[train/loss=1.95e-01, train/lr=3.00e-05]\n",
      "Evaluating 57 / 1042 active labels\n",
      "[0.61 epo]: COLA:[train/loss=2.70e-01, COLA_valid/accuracy=8.39e-01, COLA_valid/matthews_corr=6.08e-01] COLA:ends_with_question_mark:[train/loss=2.31e-01, COLA_valid/accuracy=7.54e-01, COLA_valid/matthews_corr=4.82e-01] model:[train/loss=2.67e-01, train/lr=3.00e-05, valid/glue=6.08e-01]\n",
      "[0.66 epo]: COLA:[train/loss=2.56e-01] COLA:ends_with_question_mark:[train/loss=3.77e-01] model:[train/loss=2.64e-01, train/lr=3.00e-05]\n",
      "Evaluating 57 / 1042 active labels\n",
      "[0.71 epo]: COLA:[train/loss=3.55e-01, COLA_valid/accuracy=8.27e-01, COLA_valid/matthews_corr=5.75e-01] COLA:ends_with_question_mark:[train/loss=4.40e-01, COLA_valid/accuracy=7.02e-01, COLA_valid/matthews_corr=3.45e-01] model:[train/loss=3.60e-01, train/lr=3.00e-05, valid/glue=5.75e-01]\n",
      "[0.76 epo]: COLA:[train/loss=3.31e-01] COLA:ends_with_question_mark:[train/loss=2.39e-01] model:[train/loss=3.24e-01, train/lr=3.00e-05]\n",
      "Evaluating 57 / 1042 active labels\n",
      "[0.81 epo]: COLA:[train/loss=2.52e-01, COLA_valid/accuracy=8.25e-01, COLA_valid/matthews_corr=5.70e-01] COLA:ends_with_question_mark:[train/loss=5.61e-01, COLA_valid/accuracy=6.67e-01, COLA_valid/matthews_corr=2.56e-01] model:[train/loss=2.75e-01, train/lr=3.00e-05, valid/glue=5.70e-01]\n",
      "[0.86 epo]: COLA:[train/loss=2.16e-01] COLA:ends_with_question_mark:[train/loss=3.26e-01] model:[train/loss=2.26e-01, train/lr=3.00e-05]\n",
      "Evaluating 57 / 1042 active labels\n",
      "[0.91 epo]: COLA:[train/loss=2.60e-01, COLA_valid/accuracy=8.32e-01, COLA_valid/matthews_corr=5.88e-01] COLA:ends_with_question_mark:[train/loss=6.38e-01, COLA_valid/accuracy=7.37e-01, COLA_valid/matthews_corr=4.28e-01] model:[train/loss=2.85e-01, train/lr=3.00e-05, valid/glue=5.88e-01]\n",
      "[0.96 epo]: COLA:[train/loss=2.85e-01] COLA:ends_with_question_mark:[train/loss=6.48e-01] model:[train/loss=3.04e-01, train/lr=3.00e-05]\n",
      "\n"
     ]
    },
    {
     "data": {
      "application/vnd.jupyter.widget-view+json": {
       "model_id": "352b6d4710524b33a989abb823544e6a",
       "version_major": 2,
       "version_minor": 0
      },
      "text/plain": [
       "HBox(children=(IntProgress(value=0, max=535), HTML(value='')))"
      ]
     },
     "metadata": {},
     "output_type": "display_data"
    },
    {
     "name": "stdout",
     "output_type": "stream",
     "text": [
      "Evaluating 57 / 1042 active labels\n",
      "[1.01 epo]: COLA:[train/loss=2.37e-01, COLA_valid/accuracy=8.21e-01, COLA_valid/matthews_corr=5.59e-01] COLA:ends_with_question_mark:[train/loss=3.55e-01, COLA_valid/accuracy=7.54e-01, COLA_valid/matthews_corr=4.69e-01] model:[train/loss=2.46e-01, train/lr=3.00e-05, valid/glue=5.59e-01]\n",
      "[1.06 epo]: COLA:[train/loss=2.13e-01] COLA:ends_with_question_mark:[train/loss=3.54e-01] model:[train/loss=2.22e-01, train/lr=3.00e-05]\n",
      "Evaluating 57 / 1042 active labels\n",
      "[1.11 epo]: COLA:[train/loss=2.67e-01, COLA_valid/accuracy=8.11e-01, COLA_valid/matthews_corr=5.31e-01] COLA:ends_with_question_mark:[train/loss=8.03e-01, COLA_valid/accuracy=7.19e-01, COLA_valid/matthews_corr=3.92e-01] model:[train/loss=3.11e-01, train/lr=3.00e-05, valid/glue=5.31e-01]\n",
      "[1.16 epo]: COLA:[train/loss=2.45e-01] COLA:ends_with_question_mark:[train/loss=4.14e-02] model:[train/loss=2.33e-01, train/lr=3.00e-05]\n",
      "Evaluating 57 / 1042 active labels\n",
      "[1.21 epo]: COLA:[train/loss=2.22e-01, COLA_valid/accuracy=8.19e-01, COLA_valid/matthews_corr=5.54e-01] COLA:ends_with_question_mark:[train/loss=2.50e-01, COLA_valid/accuracy=7.02e-01, COLA_valid/matthews_corr=3.50e-01] model:[train/loss=2.23e-01, train/lr=3.00e-05, valid/glue=5.54e-01]\n",
      "[1.26 epo]: COLA:[train/loss=2.44e-01] COLA:ends_with_question_mark:[train/loss=1.73e-01] model:[train/loss=2.39e-01, train/lr=3.00e-05]\n",
      "Evaluating 57 / 1042 active labels\n",
      "[1.31 epo]: COLA:[train/loss=2.52e-01, COLA_valid/accuracy=8.32e-01, COLA_valid/matthews_corr=5.89e-01] COLA:ends_with_question_mark:[train/loss=2.69e-01, COLA_valid/accuracy=7.19e-01, COLA_valid/matthews_corr=4.32e-01] model:[train/loss=2.53e-01, train/lr=3.00e-05, valid/glue=5.89e-01]\n",
      "[1.36 epo]: COLA:[train/loss=2.90e-01] COLA:ends_with_question_mark:[train/loss=4.44e-01] model:[train/loss=3.02e-01, train/lr=3.00e-05]\n",
      "Evaluating 57 / 1042 active labels\n",
      "[1.41 epo]: COLA:[train/loss=2.64e-01, COLA_valid/accuracy=8.11e-01, COLA_valid/matthews_corr=5.34e-01] COLA:ends_with_question_mark:[train/loss=8.61e-02, COLA_valid/accuracy=7.37e-01, COLA_valid/matthews_corr=4.33e-01] model:[train/loss=2.51e-01, train/lr=3.00e-05, valid/glue=5.34e-01]\n",
      "[1.46 epo]: COLA:[train/loss=2.66e-01] COLA:ends_with_question_mark:[train/loss=4.11e-01] model:[train/loss=2.75e-01, train/lr=3.00e-05]\n",
      "Evaluating 57 / 1042 active labels\n",
      "[1.51 epo]: COLA:[train/loss=2.42e-01, COLA_valid/accuracy=8.41e-01, COLA_valid/matthews_corr=6.11e-01] COLA:ends_with_question_mark:[train/loss=3.44e-02, COLA_valid/accuracy=7.19e-01, COLA_valid/matthews_corr=3.99e-01] model:[train/loss=2.29e-01, train/lr=3.00e-05, valid/glue=6.11e-01]\n",
      "[1.56 epo]: COLA:[train/loss=2.44e-01] COLA:ends_with_question_mark:[train/loss=3.90e-01] model:[train/loss=2.52e-01, train/lr=3.00e-05]\n",
      "Evaluating 57 / 1042 active labels\n",
      "[1.61 epo]: COLA:[train/loss=2.58e-01, COLA_valid/accuracy=8.07e-01, COLA_valid/matthews_corr=5.22e-01] COLA:ends_with_question_mark:[train/loss=7.95e-01, COLA_valid/accuracy=6.84e-01, COLA_valid/matthews_corr=3.01e-01] model:[train/loss=2.94e-01, train/lr=3.00e-05, valid/glue=5.22e-01]\n",
      "[1.67 epo]: COLA:[train/loss=3.11e-01] COLA:ends_with_question_mark:[train/loss=5.03e-01] model:[train/loss=3.19e-01, train/lr=3.00e-05]\n",
      "Evaluating 57 / 1042 active labels\n",
      "[1.72 epo]: COLA:[train/loss=2.68e-01, COLA_valid/accuracy=8.41e-01, COLA_valid/matthews_corr=6.21e-01] COLA:ends_with_question_mark:[train/loss=1.33e-01, COLA_valid/accuracy=7.89e-01, COLA_valid/matthews_corr=5.65e-01] model:[train/loss=2.59e-01, train/lr=3.00e-05, valid/glue=6.21e-01]\n",
      "[1.77 epo]: COLA:[train/loss=2.44e-01] COLA:ends_with_question_mark:[train/loss=2.36e-01] model:[train/loss=2.44e-01, train/lr=3.00e-05]\n",
      "Evaluating 57 / 1042 active labels\n",
      "[1.82 epo]: COLA:[train/loss=2.98e-01, COLA_valid/accuracy=8.09e-01, COLA_valid/matthews_corr=5.27e-01] COLA:ends_with_question_mark:[train/loss=4.94e-01, COLA_valid/accuracy=6.49e-01, COLA_valid/matthews_corr=2.09e-01] model:[train/loss=3.08e-01, train/lr=3.00e-05, valid/glue=5.27e-01]\n",
      "[1.87 epo]: COLA:[train/loss=3.18e-01] COLA:ends_with_question_mark:[train/loss=2.13e-01] model:[train/loss=3.10e-01, train/lr=3.00e-05]\n",
      "Evaluating 57 / 1042 active labels\n",
      "[1.92 epo]: COLA:[train/loss=2.96e-01, COLA_valid/accuracy=8.32e-01, COLA_valid/matthews_corr=5.88e-01] COLA:ends_with_question_mark:[train/loss=4.73e-01, COLA_valid/accuracy=6.84e-01, COLA_valid/matthews_corr=3.07e-01] model:[train/loss=3.07e-01, train/lr=3.00e-05, valid/glue=5.88e-01]\n",
      "[1.97 epo]: COLA:[train/loss=3.78e-01] COLA:ends_with_question_mark:[train/loss=3.60e-01] model:[train/loss=3.77e-01, train/lr=3.00e-05]\n",
      "\n"
     ]
    },
    {
     "data": {
      "application/vnd.jupyter.widget-view+json": {
       "model_id": "1ee196f36dee438080b95bc5c82a07c2",
       "version_major": 2,
       "version_minor": 0
      },
      "text/plain": [
       "HBox(children=(IntProgress(value=0, max=535), HTML(value='')))"
      ]
     },
     "metadata": {},
     "output_type": "display_data"
    },
    {
     "name": "stdout",
     "output_type": "stream",
     "text": [
      "Evaluating 57 / 1042 active labels\n",
      "[2.02 epo]: COLA:[train/loss=2.47e-01, COLA_valid/accuracy=8.17e-01, COLA_valid/matthews_corr=5.47e-01] COLA:ends_with_question_mark:[train/loss=3.95e-01, COLA_valid/accuracy=6.84e-01, COLA_valid/matthews_corr=3.07e-01] model:[train/loss=2.59e-01, train/lr=3.00e-05, valid/glue=5.47e-01]\n",
      "[2.07 epo]: COLA:[train/loss=2.28e-01] COLA:ends_with_question_mark:[train/loss=2.37e-01] model:[train/loss=2.29e-01, train/lr=3.00e-05]\n",
      "Evaluating 57 / 1042 active labels\n",
      "[2.12 epo]: COLA:[train/loss=1.85e-01, COLA_valid/accuracy=8.27e-01, COLA_valid/matthews_corr=5.82e-01] COLA:ends_with_question_mark:[train/loss=1.42e-01, COLA_valid/accuracy=7.02e-01, COLA_valid/matthews_corr=3.66e-01] model:[train/loss=1.82e-01, train/lr=3.00e-05, valid/glue=5.82e-01]\n",
      "[2.17 epo]: COLA:[train/loss=2.90e-01] COLA:ends_with_question_mark:[train/loss=3.91e-01] model:[train/loss=2.96e-01, train/lr=3.00e-05]\n",
      "Evaluating 57 / 1042 active labels\n",
      "[2.22 epo]: COLA:[train/loss=2.67e-01, COLA_valid/accuracy=8.27e-01, COLA_valid/matthews_corr=5.85e-01] COLA:ends_with_question_mark:[train/loss=5.55e-01, COLA_valid/accuracy=7.02e-01, COLA_valid/matthews_corr=3.89e-01] model:[train/loss=2.84e-01, train/lr=3.00e-05, valid/glue=5.85e-01]\n",
      "[2.27 epo]: COLA:[train/loss=2.21e-01] COLA:ends_with_question_mark:[train/loss=2.04e-01] model:[train/loss=2.19e-01, train/lr=3.00e-05]\n",
      "Evaluating 57 / 1042 active labels\n",
      "[2.32 epo]: COLA:[train/loss=2.87e-01, COLA_valid/accuracy=8.20e-01, COLA_valid/matthews_corr=5.55e-01] COLA:ends_with_question_mark:[train/loss=2.93e-01, COLA_valid/accuracy=6.84e-01, COLA_valid/matthews_corr=3.01e-01] model:[train/loss=2.87e-01, train/lr=3.00e-05, valid/glue=5.55e-01]\n",
      "[2.37 epo]: COLA:[train/loss=1.86e-01] COLA:ends_with_question_mark:[train/loss=1.98e-01] model:[train/loss=1.87e-01, train/lr=3.00e-05]\n",
      "Evaluating 57 / 1042 active labels\n",
      "[2.42 epo]: COLA:[train/loss=3.57e-01, COLA_valid/accuracy=8.03e-01, COLA_valid/matthews_corr=5.14e-01] COLA:ends_with_question_mark:[train/loss=5.81e-01, COLA_valid/accuracy=6.84e-01, COLA_valid/matthews_corr=3.01e-01] model:[train/loss=3.72e-01, train/lr=3.00e-05, valid/glue=5.14e-01]\n",
      "[2.47 epo]: COLA:[train/loss=2.77e-01] COLA:ends_with_question_mark:[train/loss=2.03e-01] model:[train/loss=2.73e-01, train/lr=3.00e-05]\n",
      "Evaluating 57 / 1042 active labels\n",
      "[2.52 epo]: COLA:[train/loss=2.64e-01, COLA_valid/accuracy=8.35e-01, COLA_valid/matthews_corr=6.08e-01] COLA:ends_with_question_mark:[train/loss=2.70e-01, COLA_valid/accuracy=7.37e-01, COLA_valid/matthews_corr=4.28e-01] model:[train/loss=2.65e-01, train/lr=3.00e-05, valid/glue=6.08e-01]\n",
      "[2.57 epo]: COLA:[train/loss=2.83e-01] COLA:ends_with_question_mark:[train/loss=2.41e-01] model:[train/loss=2.80e-01, train/lr=3.00e-05]\n",
      "Evaluating 57 / 1042 active labels\n",
      "[2.62 epo]: COLA:[train/loss=2.52e-01, COLA_valid/accuracy=8.40e-01, COLA_valid/matthews_corr=6.08e-01] COLA:ends_with_question_mark:[train/loss=1.41e-01, COLA_valid/accuracy=7.89e-01, COLA_valid/matthews_corr=5.56e-01] model:[train/loss=2.43e-01, train/lr=3.00e-05, valid/glue=6.08e-01]\n",
      "[2.67 epo]: COLA:[train/loss=2.55e-01] COLA:ends_with_question_mark:[train/loss=5.50e-01] model:[train/loss=2.71e-01, train/lr=3.00e-05]\n",
      "Evaluating 57 / 1042 active labels\n",
      "[2.73 epo]: COLA:[train/loss=2.49e-01, COLA_valid/accuracy=8.18e-01, COLA_valid/matthews_corr=5.51e-01] COLA:ends_with_question_mark:[train/loss=3.67e-01, COLA_valid/accuracy=7.19e-01, COLA_valid/matthews_corr=3.85e-01] model:[train/loss=2.59e-01, train/lr=3.00e-05, valid/glue=5.51e-01]\n",
      "[2.78 epo]: COLA:[train/loss=3.24e-01] COLA:ends_with_question_mark:[train/loss=1.33e-01] model:[train/loss=3.12e-01, train/lr=3.00e-05]\n",
      "Evaluating 57 / 1042 active labels\n",
      "[2.83 epo]: COLA:[train/loss=2.58e-01, COLA_valid/accuracy=8.29e-01, COLA_valid/matthews_corr=5.82e-01] COLA:ends_with_question_mark:[train/loss=2.27e-01, COLA_valid/accuracy=7.02e-01, COLA_valid/matthews_corr=3.42e-01] model:[train/loss=2.56e-01, train/lr=3.00e-05, valid/glue=5.82e-01]\n",
      "[2.88 epo]: COLA:[train/loss=3.06e-01] COLA:ends_with_question_mark:[train/loss=1.79e-01] model:[train/loss=2.97e-01, train/lr=3.00e-05]\n",
      "Evaluating 57 / 1042 active labels\n",
      "[2.93 epo]: COLA:[train/loss=3.64e-01, COLA_valid/accuracy=8.39e-01, COLA_valid/matthews_corr=6.06e-01] COLA:ends_with_question_mark:[train/loss=2.35e-01, COLA_valid/accuracy=7.72e-01, COLA_valid/matthews_corr=5.08e-01] model:[train/loss=3.57e-01, train/lr=3.00e-05, valid/glue=6.06e-01]\n",
      "[2.98 epo]: COLA:[train/loss=2.79e-01] COLA:ends_with_question_mark:[train/loss=4.62e-01] model:[train/loss=2.91e-01, train/lr=3.00e-05]\n",
      "\n"
     ]
    },
    {
     "data": {
      "application/vnd.jupyter.widget-view+json": {
       "model_id": "d6223401e1404c79bdd8828d058de50d",
       "version_major": 2,
       "version_minor": 0
      },
      "text/plain": [
       "HBox(children=(IntProgress(value=0, max=535), HTML(value='')))"
      ]
     },
     "metadata": {},
     "output_type": "display_data"
    },
    {
     "name": "stdout",
     "output_type": "stream",
     "text": [
      "Evaluating 57 / 1042 active labels\n",
      "[3.03 epo]: COLA:[train/loss=2.84e-01, COLA_valid/accuracy=8.22e-01, COLA_valid/matthews_corr=5.62e-01] COLA:ends_with_question_mark:[train/loss=7.73e-02, COLA_valid/accuracy=7.19e-01, COLA_valid/matthews_corr=3.85e-01] model:[train/loss=2.66e-01, train/lr=3.00e-05, valid/glue=5.62e-01]\n",
      "[3.08 epo]: COLA:[train/loss=2.24e-01] COLA:ends_with_question_mark:[train/loss=8.06e-01] model:[train/loss=2.61e-01, train/lr=3.00e-05]\n",
      "Evaluating 57 / 1042 active labels\n",
      "[3.13 epo]: COLA:[train/loss=3.01e-01, COLA_valid/accuracy=8.23e-01, COLA_valid/matthews_corr=5.65e-01] COLA:ends_with_question_mark:[train/loss=1.76e-01, COLA_valid/accuracy=7.02e-01, COLA_valid/matthews_corr=3.57e-01] model:[train/loss=2.94e-01, train/lr=3.00e-05, valid/glue=5.65e-01]\n",
      "[3.18 epo]: COLA:[train/loss=2.14e-01] COLA:ends_with_question_mark:[train/loss=8.65e-02] model:[train/loss=2.03e-01, train/lr=3.00e-05]\n",
      "Evaluating 57 / 1042 active labels\n",
      "[3.23 epo]: COLA:[train/loss=2.71e-01, COLA_valid/accuracy=8.15e-01, COLA_valid/matthews_corr=5.43e-01] COLA:ends_with_question_mark:[train/loss=3.60e-01, COLA_valid/accuracy=6.32e-01, COLA_valid/matthews_corr=1.51e-01] model:[train/loss=2.78e-01, train/lr=3.00e-05, valid/glue=5.43e-01]\n",
      "[3.28 epo]: COLA:[train/loss=2.46e-01] COLA:ends_with_question_mark:[train/loss=4.88e-01] model:[train/loss=2.62e-01, train/lr=3.00e-05]\n",
      "Evaluating 57 / 1042 active labels\n",
      "[3.33 epo]: COLA:[train/loss=2.77e-01, COLA_valid/accuracy=8.19e-01, COLA_valid/matthews_corr=5.52e-01] COLA:ends_with_question_mark:[train/loss=3.89e-01, COLA_valid/accuracy=7.37e-01, COLA_valid/matthews_corr=4.28e-01] model:[train/loss=2.86e-01, train/lr=3.00e-05, valid/glue=5.52e-01]\n",
      "[3.38 epo]: COLA:[train/loss=3.07e-01] COLA:ends_with_question_mark:[train/loss=1.83e-01] model:[train/loss=2.99e-01, train/lr=3.00e-05]\n",
      "Evaluating 57 / 1042 active labels\n",
      "[3.43 epo]: COLA:[train/loss=2.66e-01, COLA_valid/accuracy=8.29e-01, COLA_valid/matthews_corr=5.80e-01] COLA:ends_with_question_mark:[train/loss=2.60e-01, COLA_valid/accuracy=7.02e-01, COLA_valid/matthews_corr=3.50e-01] model:[train/loss=2.65e-01, train/lr=3.00e-05, valid/glue=5.80e-01]\n",
      "[3.48 epo]: COLA:[train/loss=2.08e-01] COLA:ends_with_question_mark:[train/loss=2.39e-01] model:[train/loss=2.10e-01, train/lr=3.00e-05]\n",
      "Evaluating 57 / 1042 active labels\n",
      "[3.53 epo]: COLA:[train/loss=3.07e-01, COLA_valid/accuracy=8.04e-01, COLA_valid/matthews_corr=5.15e-01] COLA:ends_with_question_mark:[train/loss=5.22e-02, COLA_valid/accuracy=7.02e-01, COLA_valid/matthews_corr=3.42e-01] model:[train/loss=2.94e-01, train/lr=3.00e-05, valid/glue=5.15e-01]\n",
      "[3.58 epo]: COLA:[train/loss=2.86e-01] COLA:ends_with_question_mark:[train/loss=5.80e-01] model:[train/loss=3.02e-01, train/lr=3.00e-05]\n",
      "Evaluating 57 / 1042 active labels\n",
      "[3.63 epo]: COLA:[train/loss=2.33e-01, COLA_valid/accuracy=8.22e-01, COLA_valid/matthews_corr=5.66e-01] COLA:ends_with_question_mark:[train/loss=2.43e-02, COLA_valid/accuracy=7.19e-01, COLA_valid/matthews_corr=3.85e-01] model:[train/loss=2.17e-01, train/lr=3.00e-05, valid/glue=5.66e-01]\n",
      "[3.68 epo]: COLA:[train/loss=2.61e-01] COLA:ends_with_question_mark:[train/loss=4.04e-01] model:[train/loss=2.69e-01, train/lr=3.00e-05]\n",
      "Evaluating 57 / 1042 active labels\n",
      "[3.73 epo]: COLA:[train/loss=3.47e-01, COLA_valid/accuracy=8.14e-01, COLA_valid/matthews_corr=5.58e-01] COLA:ends_with_question_mark:[train/loss=5.09e-01, COLA_valid/accuracy=7.37e-01, COLA_valid/matthews_corr=4.33e-01] model:[train/loss=3.60e-01, train/lr=3.00e-05, valid/glue=5.58e-01]\n",
      "[3.79 epo]: COLA:[train/loss=2.57e-01] COLA:ends_with_question_mark:[train/loss=2.11e-01] model:[train/loss=2.55e-01, train/lr=3.00e-05]\n",
      "Evaluating 57 / 1042 active labels\n",
      "[3.84 epo]: COLA:[train/loss=2.85e-01, COLA_valid/accuracy=8.06e-01, COLA_valid/matthews_corr=5.18e-01] COLA:ends_with_question_mark:[train/loss=4.71e-01, COLA_valid/accuracy=7.19e-01, COLA_valid/matthews_corr=3.87e-01] model:[train/loss=2.98e-01, train/lr=3.00e-05, valid/glue=5.18e-01]\n",
      "[3.89 epo]: COLA:[train/loss=2.95e-01] COLA:ends_with_question_mark:[train/loss=2.81e-01] model:[train/loss=2.94e-01, train/lr=3.00e-05]\n",
      "Evaluating 57 / 1042 active labels\n",
      "[3.94 epo]: COLA:[train/loss=3.20e-01, COLA_valid/accuracy=8.13e-01, COLA_valid/matthews_corr=5.62e-01] COLA:ends_with_question_mark:[train/loss=5.08e-01, COLA_valid/accuracy=7.37e-01, COLA_valid/matthews_corr=4.75e-01] model:[train/loss=3.31e-01, train/lr=3.00e-05, valid/glue=5.62e-01]\n",
      "[3.99 epo]: COLA:[train/loss=3.22e-01] COLA:ends_with_question_mark:[train/loss=1.71e-01] model:[train/loss=3.14e-01, train/lr=3.00e-05]\n",
      "\n"
     ]
    },
    {
     "data": {
      "application/vnd.jupyter.widget-view+json": {
       "model_id": "e59db9cf9a4049239f7221a4f61342b7",
       "version_major": 2,
       "version_minor": 0
      },
      "text/plain": [
       "HBox(children=(IntProgress(value=0, max=535), HTML(value='')))"
      ]
     },
     "metadata": {},
     "output_type": "display_data"
    },
    {
     "name": "stdout",
     "output_type": "stream",
     "text": [
      "Evaluating 57 / 1042 active labels\n",
      "[4.04 epo]: COLA:[train/loss=2.43e-01, COLA_valid/accuracy=8.18e-01, COLA_valid/matthews_corr=5.53e-01] COLA:ends_with_question_mark:[train/loss=2.17e-01, COLA_valid/accuracy=7.19e-01, COLA_valid/matthews_corr=3.87e-01] model:[train/loss=2.41e-01, train/lr=3.00e-05, valid/glue=5.53e-01]\n",
      "[4.09 epo]: COLA:[train/loss=2.23e-01] COLA:ends_with_question_mark:[train/loss=1.17e-01] model:[train/loss=2.17e-01, train/lr=3.00e-05]\n",
      "Evaluating 57 / 1042 active labels\n",
      "[4.14 epo]: COLA:[train/loss=2.67e-01, COLA_valid/accuracy=8.15e-01, COLA_valid/matthews_corr=5.44e-01] COLA:ends_with_question_mark:[train/loss=3.48e-01, COLA_valid/accuracy=7.19e-01, COLA_valid/matthews_corr=3.87e-01] model:[train/loss=2.73e-01, train/lr=3.00e-05, valid/glue=5.44e-01]\n",
      "[4.19 epo]: COLA:[train/loss=1.99e-01] COLA:ends_with_question_mark:[train/loss=1.04e-02] model:[train/loss=1.86e-01, train/lr=3.00e-05]\n",
      "Evaluating 57 / 1042 active labels\n",
      "[4.24 epo]: COLA:[train/loss=2.38e-01, COLA_valid/accuracy=7.93e-01, COLA_valid/matthews_corr=4.81e-01] COLA:ends_with_question_mark:[train/loss=1.09e-01, COLA_valid/accuracy=7.19e-01, COLA_valid/matthews_corr=3.86e-01] model:[train/loss=2.30e-01, train/lr=3.00e-05, valid/glue=4.81e-01]\n",
      "[4.29 epo]: COLA:[train/loss=2.44e-01] COLA:ends_with_question_mark:[train/loss=1.56e-01] model:[train/loss=2.39e-01, train/lr=3.00e-05]\n",
      "Evaluating 57 / 1042 active labels\n",
      "[4.34 epo]: COLA:[train/loss=2.82e-01, COLA_valid/accuracy=8.04e-01, COLA_valid/matthews_corr=5.24e-01] COLA:ends_with_question_mark:[train/loss=3.79e-01, COLA_valid/accuracy=7.02e-01, COLA_valid/matthews_corr=3.57e-01] model:[train/loss=2.88e-01, train/lr=3.00e-05, valid/glue=5.24e-01]\n",
      "[4.39 epo]: COLA:[train/loss=2.43e-01] COLA:ends_with_question_mark:[train/loss=3.67e-01] model:[train/loss=2.52e-01, train/lr=3.00e-05]\n",
      "Evaluating 57 / 1042 active labels\n",
      "[4.44 epo]: COLA:[train/loss=3.04e-01, COLA_valid/accuracy=7.86e-01, COLA_valid/matthews_corr=4.93e-01] COLA:ends_with_question_mark:[train/loss=2.27e-01, COLA_valid/accuracy=7.37e-01, COLA_valid/matthews_corr=4.33e-01] model:[train/loss=2.99e-01, train/lr=3.00e-05, valid/glue=4.93e-01]\n",
      "[4.49 epo]: COLA:[train/loss=3.21e-01] COLA:ends_with_question_mark:[train/loss=4.23e-01] model:[train/loss=3.28e-01, train/lr=3.00e-05]\n",
      "Evaluating 57 / 1042 active labels\n",
      "[4.54 epo]: COLA:[train/loss=3.36e-01, COLA_valid/accuracy=7.98e-01, COLA_valid/matthews_corr=5.03e-01] COLA:ends_with_question_mark:[train/loss=7.26e-01, COLA_valid/accuracy=7.19e-01, COLA_valid/matthews_corr=3.99e-01] model:[train/loss=3.56e-01, train/lr=3.00e-05, valid/glue=5.03e-01]\n",
      "[4.59 epo]: COLA:[train/loss=2.59e-01] COLA:ends_with_question_mark:[train/loss=7.48e-02] model:[train/loss=2.47e-01, train/lr=3.00e-05]\n",
      "Evaluating 57 / 1042 active labels\n",
      "[4.64 epo]: COLA:[train/loss=3.69e-01, COLA_valid/accuracy=7.98e-01, COLA_valid/matthews_corr=5.20e-01] COLA:ends_with_question_mark:[train/loss=4.95e-01, COLA_valid/accuracy=6.84e-01, COLA_valid/matthews_corr=3.34e-01] model:[train/loss=3.78e-01, train/lr=3.00e-05, valid/glue=5.20e-01]\n",
      "[4.69 epo]: COLA:[train/loss=2.87e-01] COLA:ends_with_question_mark:[train/loss=1.54e-01] model:[train/loss=2.77e-01, train/lr=3.00e-05]\n",
      "Evaluating 57 / 1042 active labels\n",
      "[4.74 epo]: COLA:[train/loss=3.08e-01, COLA_valid/accuracy=8.00e-01, COLA_valid/matthews_corr=5.10e-01] COLA:ends_with_question_mark:[train/loss=3.92e-01, COLA_valid/accuracy=6.84e-01, COLA_valid/matthews_corr=3.34e-01] model:[train/loss=3.13e-01, train/lr=3.00e-05, valid/glue=5.10e-01]\n",
      "[4.79 epo]: COLA:[train/loss=3.14e-01] COLA:ends_with_question_mark:[train/loss=4.47e-01] model:[train/loss=3.21e-01, train/lr=3.00e-05]\n",
      "Evaluating 57 / 1042 active labels\n",
      "[4.84 epo]: COLA:[train/loss=3.21e-01, COLA_valid/accuracy=7.79e-01, COLA_valid/matthews_corr=4.42e-01] COLA:ends_with_question_mark:[train/loss=6.21e-01, COLA_valid/accuracy=6.32e-01, COLA_valid/matthews_corr=1.51e-01] model:[train/loss=3.47e-01, train/lr=3.00e-05, valid/glue=4.42e-01]\n",
      "[4.90 epo]: COLA:[train/loss=4.10e-01] COLA:ends_with_question_mark:[train/loss=4.21e-01] model:[train/loss=4.11e-01, train/lr=3.00e-05]\n",
      "Evaluating 57 / 1042 active labels\n",
      "[4.95 epo]: COLA:[train/loss=2.81e-01, COLA_valid/accuracy=8.09e-01, COLA_valid/matthews_corr=5.32e-01] COLA:ends_with_question_mark:[train/loss=2.56e-01, COLA_valid/accuracy=7.02e-01, COLA_valid/matthews_corr=3.42e-01] model:[train/loss=2.79e-01, train/lr=3.00e-05, valid/glue=5.32e-01]\n",
      "[5.00 epo]: COLA:[train/loss=3.46e-01] COLA:ends_with_question_mark:[train/loss=4.11e-01] model:[train/loss=3.51e-01, train/lr=3.00e-05]\n",
      "\n"
     ]
    },
    {
     "data": {
      "application/vnd.jupyter.widget-view+json": {
       "model_id": "dd983ec8078d4226b9d84e622cf0785a",
       "version_major": 2,
       "version_minor": 0
      },
      "text/plain": [
       "HBox(children=(IntProgress(value=0, max=535), HTML(value='')))"
      ]
     },
     "metadata": {},
     "output_type": "display_data"
    },
    {
     "name": "stdout",
     "output_type": "stream",
     "text": [
      "Evaluating 57 / 1042 active labels\n",
      "[5.05 epo]: COLA:[train/loss=2.45e-01, COLA_valid/accuracy=8.00e-01, COLA_valid/matthews_corr=5.05e-01] COLA:ends_with_question_mark:[train/loss=1.04e-01, COLA_valid/accuracy=7.72e-01, COLA_valid/matthews_corr=5.08e-01] model:[train/loss=2.36e-01, train/lr=3.00e-05, valid/glue=5.05e-01]\n",
      "[5.10 epo]: COLA:[train/loss=2.14e-01] COLA:ends_with_question_mark:[train/loss=9.79e-02] model:[train/loss=2.08e-01, train/lr=3.00e-05]\n",
      "Evaluating 57 / 1042 active labels\n",
      "[5.15 epo]: COLA:[train/loss=2.60e-01, COLA_valid/accuracy=8.02e-01, COLA_valid/matthews_corr=5.07e-01] COLA:ends_with_question_mark:[train/loss=2.83e-01, COLA_valid/accuracy=7.54e-01, COLA_valid/matthews_corr=4.75e-01] model:[train/loss=2.62e-01, train/lr=3.00e-05, valid/glue=5.07e-01]\n",
      "[5.20 epo]: COLA:[train/loss=2.82e-01] COLA:ends_with_question_mark:[train/loss=6.10e-02] model:[train/loss=2.69e-01, train/lr=3.00e-05]\n",
      "Evaluating 57 / 1042 active labels\n",
      "[5.25 epo]: COLA:[train/loss=2.56e-01, COLA_valid/accuracy=7.89e-01, COLA_valid/matthews_corr=4.81e-01] COLA:ends_with_question_mark:[train/loss=7.39e-02, COLA_valid/accuracy=7.72e-01, COLA_valid/matthews_corr=5.10e-01] model:[train/loss=2.46e-01, train/lr=3.00e-05, valid/glue=4.81e-01]\n",
      "[5.30 epo]: COLA:[train/loss=2.42e-01] COLA:ends_with_question_mark:[train/loss=1.99e-01] model:[train/loss=2.40e-01, train/lr=3.00e-05]\n",
      "Evaluating 57 / 1042 active labels\n",
      "[5.35 epo]: COLA:[train/loss=3.10e-01, COLA_valid/accuracy=7.97e-01, COLA_valid/matthews_corr=4.92e-01] COLA:ends_with_question_mark:[train/loss=8.84e-02, COLA_valid/accuracy=7.02e-01, COLA_valid/matthews_corr=3.43e-01] model:[train/loss=2.92e-01, train/lr=3.00e-05, valid/glue=4.92e-01]\n",
      "[5.40 epo]: COLA:[train/loss=2.40e-01] COLA:ends_with_question_mark:[train/loss=5.73e-02] model:[train/loss=2.28e-01, train/lr=3.00e-05]\n",
      "Evaluating 57 / 1042 active labels\n",
      "[5.45 epo]: COLA:[train/loss=2.83e-01, COLA_valid/accuracy=7.85e-01, COLA_valid/matthews_corr=4.58e-01] COLA:ends_with_question_mark:[train/loss=7.02e-01, COLA_valid/accuracy=6.84e-01, COLA_valid/matthews_corr=2.98e-01] model:[train/loss=3.08e-01, train/lr=3.00e-05, valid/glue=4.58e-01]\n",
      "[5.50 epo]: COLA:[train/loss=2.51e-01] COLA:ends_with_question_mark:[train/loss=1.55e-01] model:[train/loss=2.43e-01, train/lr=3.00e-05]\n",
      "Evaluating 57 / 1042 active labels\n",
      "[5.55 epo]: COLA:[train/loss=2.97e-01, COLA_valid/accuracy=7.87e-01, COLA_valid/matthews_corr=4.67e-01] COLA:ends_with_question_mark:[train/loss=1.25e-01, COLA_valid/accuracy=7.02e-01, COLA_valid/matthews_corr=3.42e-01] model:[train/loss=2.82e-01, train/lr=3.00e-05, valid/glue=4.67e-01]\n",
      "[5.60 epo]: COLA:[train/loss=3.29e-01] COLA:ends_with_question_mark:[train/loss=1.05e-01] model:[train/loss=3.11e-01, train/lr=3.00e-05]\n",
      "Evaluating 57 / 1042 active labels\n",
      "[5.65 epo]: COLA:[train/loss=3.43e-01, COLA_valid/accuracy=7.77e-01, COLA_valid/matthews_corr=4.70e-01] COLA:ends_with_question_mark:[train/loss=3.32e-01, COLA_valid/accuracy=6.84e-01, COLA_valid/matthews_corr=3.14e-01] model:[train/loss=3.43e-01, train/lr=3.00e-05, valid/glue=4.70e-01]\n",
      "[5.70 epo]: COLA:[train/loss=3.02e-01] COLA:ends_with_question_mark:[train/loss=4.01e-01] model:[train/loss=3.09e-01, train/lr=3.00e-05]\n",
      "Evaluating 57 / 1042 active labels\n",
      "[5.75 epo]: COLA:[train/loss=3.13e-01, COLA_valid/accuracy=7.80e-01, COLA_valid/matthews_corr=4.44e-01] COLA:ends_with_question_mark:[train/loss=4.15e-01, COLA_valid/accuracy=6.67e-01, COLA_valid/matthews_corr=2.50e-01] model:[train/loss=3.19e-01, train/lr=3.00e-05, valid/glue=4.44e-01]\n",
      "[5.80 epo]: COLA:[train/loss=2.82e-01] COLA:ends_with_question_mark:[train/loss=4.86e-02] model:[train/loss=2.70e-01, train/lr=3.00e-05]\n",
      "Evaluating 57 / 1042 active labels\n",
      "[5.85 epo]: COLA:[train/loss=3.31e-01, COLA_valid/accuracy=7.56e-01, COLA_valid/matthews_corr=3.70e-01] COLA:ends_with_question_mark:[train/loss=4.61e-01, COLA_valid/accuracy=6.49e-01, COLA_valid/matthews_corr=2.03e-01] model:[train/loss=3.41e-01, train/lr=3.00e-05, valid/glue=3.70e-01]\n",
      "[5.90 epo]: COLA:[train/loss=3.55e-01] COLA:ends_with_question_mark:[train/loss=6.57e-01] model:[train/loss=3.72e-01, train/lr=3.00e-05]\n",
      "Evaluating 57 / 1042 active labels\n",
      "[5.96 epo]: COLA:[train/loss=3.61e-01, COLA_valid/accuracy=7.82e-01, COLA_valid/matthews_corr=4.50e-01] COLA:ends_with_question_mark:[train/loss=4.81e-01, COLA_valid/accuracy=7.02e-01, COLA_valid/matthews_corr=3.49e-01] model:[train/loss=3.68e-01, train/lr=3.00e-05, valid/glue=4.50e-01]\n",
      "\n"
     ]
    },
    {
     "data": {
      "application/vnd.jupyter.widget-view+json": {
       "model_id": "fe9b90363cd7450188f28c91c49128b5",
       "version_major": 2,
       "version_minor": 0
      },
      "text/plain": [
       "HBox(children=(IntProgress(value=0, max=535), HTML(value='')))"
      ]
     },
     "metadata": {},
     "output_type": "display_data"
    },
    {
     "name": "stdout",
     "output_type": "stream",
     "text": [
      "[6.01 epo]: COLA:[train/loss=3.12e-01] COLA:ends_with_question_mark:[train/loss=1.49e-01] model:[train/loss=3.02e-01, train/lr=3.00e-05]\n",
      "Evaluating 57 / 1042 active labels\n",
      "[6.06 epo]: COLA:[train/loss=2.38e-01, COLA_valid/accuracy=7.74e-01, COLA_valid/matthews_corr=4.27e-01] COLA:ends_with_question_mark:[train/loss=9.77e-02, COLA_valid/accuracy=6.84e-01, COLA_valid/matthews_corr=3.02e-01] model:[train/loss=2.29e-01, train/lr=3.00e-05, valid/glue=4.27e-01]\n",
      "[6.11 epo]: COLA:[train/loss=2.27e-01] COLA:ends_with_question_mark:[train/loss=1.57e-01] model:[train/loss=2.21e-01, train/lr=3.00e-05]\n",
      "Evaluating 57 / 1042 active labels\n",
      "[6.16 epo]: COLA:[train/loss=2.06e-01, COLA_valid/accuracy=7.86e-01, COLA_valid/matthews_corr=4.63e-01] COLA:ends_with_question_mark:[train/loss=9.86e-03, COLA_valid/accuracy=6.67e-01, COLA_valid/matthews_corr=2.50e-01] model:[train/loss=1.92e-01, train/lr=3.00e-05, valid/glue=4.63e-01]\n",
      "[6.21 epo]: COLA:[train/loss=1.93e-01] COLA:ends_with_question_mark:[train/loss=1.57e-03] model:[train/loss=1.84e-01, train/lr=3.00e-05]\n",
      "Evaluating 57 / 1042 active labels\n",
      "[6.26 epo]: COLA:[train/loss=4.83e-01, COLA_valid/accuracy=7.50e-01, COLA_valid/matthews_corr=3.53e-01] COLA:ends_with_question_mark:[train/loss=1.07e+00, COLA_valid/accuracy=6.49e-01, COLA_valid/matthews_corr=1.98e-01] model:[train/loss=5.27e-01, train/lr=3.00e-05, valid/glue=3.53e-01]\n",
      "[6.31 epo]: COLA:[train/loss=2.86e-01] COLA:ends_with_question_mark:[train/loss=3.25e-01] model:[train/loss=2.89e-01, train/lr=3.00e-05]\n",
      "Evaluating 57 / 1042 active labels\n",
      "[6.36 epo]: COLA:[train/loss=2.78e-01, COLA_valid/accuracy=7.81e-01, COLA_valid/matthews_corr=4.56e-01] COLA:ends_with_question_mark:[train/loss=3.74e-01, COLA_valid/accuracy=7.19e-01, COLA_valid/matthews_corr=3.85e-01] model:[train/loss=2.85e-01, train/lr=3.00e-05, valid/glue=4.56e-01]\n",
      "[6.41 epo]: COLA:[train/loss=2.94e-01] COLA:ends_with_question_mark:[train/loss=1.43e-01] model:[train/loss=2.84e-01, train/lr=3.00e-05]\n",
      "Evaluating 57 / 1042 active labels\n",
      "[6.46 epo]: COLA:[train/loss=4.32e-01, COLA_valid/accuracy=7.59e-01, COLA_valid/matthews_corr=4.32e-01] COLA:ends_with_question_mark:[train/loss=1.59e-01, COLA_valid/accuracy=7.19e-01, COLA_valid/matthews_corr=3.86e-01] model:[train/loss=4.14e-01, train/lr=3.00e-05, valid/glue=4.32e-01]\n",
      "[6.51 epo]: COLA:[train/loss=3.38e-01] COLA:ends_with_question_mark:[train/loss=5.05e-01] model:[train/loss=3.47e-01, train/lr=3.00e-05]\n",
      "Evaluating 57 / 1042 active labels\n",
      "[6.56 epo]: COLA:[train/loss=2.87e-01, COLA_valid/accuracy=7.71e-01, COLA_valid/matthews_corr=4.15e-01] COLA:ends_with_question_mark:[train/loss=3.07e-01, COLA_valid/accuracy=7.02e-01, COLA_valid/matthews_corr=3.42e-01] model:[train/loss=2.89e-01, train/lr=3.00e-05, valid/glue=4.15e-01]\n",
      "[6.61 epo]: COLA:[train/loss=3.28e-01] COLA:ends_with_question_mark:[train/loss=4.77e-01] model:[train/loss=3.37e-01, train/lr=3.00e-05]\n",
      "Evaluating 57 / 1042 active labels\n",
      "[6.66 epo]: COLA:[train/loss=3.74e-01, COLA_valid/accuracy=7.56e-01, COLA_valid/matthews_corr=3.71e-01] COLA:ends_with_question_mark:[train/loss=2.87e-01, COLA_valid/accuracy=6.67e-01, COLA_valid/matthews_corr=2.52e-01] model:[train/loss=3.67e-01, train/lr=3.00e-05, valid/glue=3.71e-01]\n",
      "[6.71 epo]: COLA:[train/loss=3.62e-01] COLA:ends_with_question_mark:[train/loss=2.06e-01] model:[train/loss=3.51e-01, train/lr=3.00e-05]\n",
      "Evaluating 57 / 1042 active labels\n",
      "[6.76 epo]: COLA:[train/loss=3.27e-01, COLA_valid/accuracy=7.58e-01, COLA_valid/matthews_corr=4.27e-01] COLA:ends_with_question_mark:[train/loss=7.35e-01, COLA_valid/accuracy=7.02e-01, COLA_valid/matthews_corr=3.45e-01] model:[train/loss=3.56e-01, train/lr=3.00e-05, valid/glue=4.27e-01]\n",
      "[6.81 epo]: COLA:[train/loss=3.06e-01] COLA:ends_with_question_mark:[train/loss=1.43e-01] model:[train/loss=2.92e-01, train/lr=3.00e-05]\n",
      "Evaluating 57 / 1042 active labels\n",
      "[6.86 epo]: COLA:[train/loss=3.64e-01, COLA_valid/accuracy=7.53e-01, COLA_valid/matthews_corr=4.55e-01] COLA:ends_with_question_mark:[train/loss=1.22e-01, COLA_valid/accuracy=7.02e-01, COLA_valid/matthews_corr=3.43e-01] model:[train/loss=3.46e-01, train/lr=3.00e-05, valid/glue=4.55e-01]\n",
      "[6.91 epo]: COLA:[train/loss=4.04e-01] COLA:ends_with_question_mark:[train/loss=3.72e-01] model:[train/loss=4.03e-01, train/lr=3.00e-05]\n",
      "Evaluating 57 / 1042 active labels\n",
      "[6.96 epo]: COLA:[train/loss=3.42e-01, COLA_valid/accuracy=7.67e-01, COLA_valid/matthews_corr=4.15e-01] COLA:ends_with_question_mark:[train/loss=2.84e-01, COLA_valid/accuracy=7.02e-01, COLA_valid/matthews_corr=3.50e-01] model:[train/loss=3.39e-01, train/lr=3.00e-05, valid/glue=4.15e-01]\n",
      "\n"
     ]
    },
    {
     "data": {
      "application/vnd.jupyter.widget-view+json": {
       "model_id": "c7fa572695fc48a5a40a07f04a55e67b",
       "version_major": 2,
       "version_minor": 0
      },
      "text/plain": [
       "HBox(children=(IntProgress(value=0, max=535), HTML(value='')))"
      ]
     },
     "metadata": {},
     "output_type": "display_data"
    },
    {
     "name": "stdout",
     "output_type": "stream",
     "text": [
      "[7.01 epo]: COLA:[train/loss=3.83e-01] COLA:ends_with_question_mark:[train/loss=6.01e-01] model:[train/loss=3.97e-01, train/lr=3.00e-05]\n",
      "Evaluating 57 / 1042 active labels\n",
      "[7.07 epo]: COLA:[train/loss=2.81e-01, COLA_valid/accuracy=7.74e-01, COLA_valid/matthews_corr=4.32e-01] COLA:ends_with_question_mark:[train/loss=1.25e-01, COLA_valid/accuracy=6.67e-01, COLA_valid/matthews_corr=2.56e-01] model:[train/loss=2.72e-01, train/lr=3.00e-05, valid/glue=4.32e-01]\n",
      "[7.12 epo]: COLA:[train/loss=2.19e-01] COLA:ends_with_question_mark:[train/loss=5.59e-02] model:[train/loss=2.07e-01, train/lr=3.00e-05]\n",
      "Evaluating 57 / 1042 active labels\n",
      "[7.17 epo]: COLA:[train/loss=3.49e-01, COLA_valid/accuracy=7.64e-01, COLA_valid/matthews_corr=4.10e-01] COLA:ends_with_question_mark:[train/loss=4.12e-01, COLA_valid/accuracy=6.84e-01, COLA_valid/matthews_corr=2.98e-01] model:[train/loss=3.54e-01, train/lr=3.00e-05, valid/glue=4.10e-01]\n",
      "[7.22 epo]: COLA:[train/loss=2.65e-01] COLA:ends_with_question_mark:[train/loss=1.86e-01] model:[train/loss=2.60e-01, train/lr=3.00e-05]\n",
      "Evaluating 57 / 1042 active labels\n",
      "[7.27 epo]: COLA:[train/loss=3.72e-01, COLA_valid/accuracy=7.15e-01, COLA_valid/matthews_corr=4.13e-01] COLA:ends_with_question_mark:[train/loss=1.38e-01, COLA_valid/accuracy=7.19e-01, COLA_valid/matthews_corr=4.08e-01] model:[train/loss=3.54e-01, train/lr=3.00e-05, valid/glue=4.13e-01]\n",
      "[7.32 epo]: COLA:[train/loss=3.17e-01] COLA:ends_with_question_mark:[train/loss=3.43e-01] model:[train/loss=3.19e-01, train/lr=3.00e-05]\n",
      "Evaluating 57 / 1042 active labels\n",
      "[7.37 epo]: COLA:[train/loss=3.63e-01, COLA_valid/accuracy=7.59e-01, COLA_valid/matthews_corr=3.83e-01] COLA:ends_with_question_mark:[train/loss=4.38e-01, COLA_valid/accuracy=5.79e-01, COLA_valid/matthews_corr=-3.71e-02] model:[train/loss=3.68e-01, train/lr=3.00e-05, valid/glue=3.83e-01]\n",
      "[7.42 epo]: COLA:[train/loss=3.28e-01] COLA:ends_with_question_mark:[train/loss=1.39e-01] model:[train/loss=3.13e-01, train/lr=3.00e-05]\n",
      "Evaluating 57 / 1042 active labels\n",
      "[7.47 epo]: COLA:[train/loss=3.79e-01, COLA_valid/accuracy=7.17e-01, COLA_valid/matthews_corr=3.61e-01] COLA:ends_with_question_mark:[train/loss=3.60e-01, COLA_valid/accuracy=6.67e-01, COLA_valid/matthews_corr=3.30e-01] model:[train/loss=3.78e-01, train/lr=3.00e-05, valid/glue=3.61e-01]\n",
      "[7.52 epo]: COLA:[train/loss=3.33e-01] COLA:ends_with_question_mark:[train/loss=3.68e-01] model:[train/loss=3.34e-01, train/lr=3.00e-05]\n",
      "Evaluating 57 / 1042 active labels\n",
      "[7.57 epo]: COLA:[train/loss=4.10e-01, COLA_valid/accuracy=7.54e-01, COLA_valid/matthews_corr=3.70e-01] COLA:ends_with_question_mark:[train/loss=6.58e-02, COLA_valid/accuracy=7.02e-01, COLA_valid/matthews_corr=3.42e-01] model:[train/loss=3.91e-01, train/lr=3.00e-05, valid/glue=3.70e-01]\n",
      "[7.62 epo]: COLA:[train/loss=3.31e-01] COLA:ends_with_question_mark:[train/loss=2.85e-01] model:[train/loss=3.28e-01, train/lr=3.00e-05]\n",
      "Evaluating 57 / 1042 active labels\n",
      "[7.67 epo]: COLA:[train/loss=3.77e-01, COLA_valid/accuracy=7.58e-01, COLA_valid/matthews_corr=3.89e-01] COLA:ends_with_question_mark:[train/loss=2.86e-01, COLA_valid/accuracy=6.67e-01, COLA_valid/matthews_corr=2.52e-01] model:[train/loss=3.72e-01, train/lr=3.00e-05, valid/glue=3.89e-01]\n",
      "[7.72 epo]: COLA:[train/loss=3.98e-01] COLA:ends_with_question_mark:[train/loss=8.18e-01] model:[train/loss=4.23e-01, train/lr=3.00e-05]\n",
      "Evaluating 57 / 1042 active labels\n",
      "[7.77 epo]: COLA:[train/loss=4.03e-01, COLA_valid/accuracy=7.35e-01, COLA_valid/matthews_corr=2.97e-01] COLA:ends_with_question_mark:[train/loss=4.76e-01, COLA_valid/accuracy=6.14e-01, COLA_valid/matthews_corr=9.46e-02] model:[train/loss=4.08e-01, train/lr=3.00e-05, valid/glue=2.97e-01]\n",
      "[7.82 epo]: COLA:[train/loss=5.51e-01] COLA:ends_with_question_mark:[train/loss=7.50e-01] model:[train/loss=5.64e-01, train/lr=3.00e-05]\n",
      "Evaluating 57 / 1042 active labels\n",
      "[7.87 epo]: COLA:[train/loss=3.53e-01, COLA_valid/accuracy=7.51e-01, COLA_valid/matthews_corr=3.71e-01] COLA:ends_with_question_mark:[train/loss=2.11e-01, COLA_valid/accuracy=7.02e-01, COLA_valid/matthews_corr=3.42e-01] model:[train/loss=3.41e-01, train/lr=3.00e-05, valid/glue=3.71e-01]\n",
      "[7.92 epo]: COLA:[train/loss=3.49e-01] COLA:ends_with_question_mark:[train/loss=3.03e-01] model:[train/loss=3.45e-01, train/lr=3.00e-05]\n",
      "Evaluating 57 / 1042 active labels\n",
      "[7.97 epo]: COLA:[train/loss=3.23e-01, COLA_valid/accuracy=7.57e-01, COLA_valid/matthews_corr=3.74e-01] COLA:ends_with_question_mark:[train/loss=1.79e-01, COLA_valid/accuracy=6.67e-01, COLA_valid/matthews_corr=2.56e-01] model:[train/loss=3.12e-01, train/lr=3.00e-05, valid/glue=3.74e-01]\n",
      "\n"
     ]
    },
    {
     "data": {
      "application/vnd.jupyter.widget-view+json": {
       "model_id": "1a5b7ff5604d49eb96053aa8ec988e1e",
       "version_major": 2,
       "version_minor": 0
      },
      "text/plain": [
       "HBox(children=(IntProgress(value=0, max=535), HTML(value='')))"
      ]
     },
     "metadata": {},
     "output_type": "display_data"
    },
    {
     "name": "stdout",
     "output_type": "stream",
     "text": [
      "[8.02 epo]: COLA:[train/loss=3.34e-01] COLA:ends_with_question_mark:[train/loss=7.68e-01] model:[train/loss=3.68e-01, train/lr=3.00e-05]\n",
      "Evaluating 57 / 1042 active labels\n",
      "[8.07 epo]: COLA:[train/loss=3.89e-01, COLA_valid/accuracy=7.50e-01, COLA_valid/matthews_corr=3.90e-01] COLA:ends_with_question_mark:[train/loss=3.03e-01, COLA_valid/accuracy=6.84e-01, COLA_valid/matthews_corr=3.14e-01] model:[train/loss=3.83e-01, train/lr=3.00e-05, valid/glue=3.90e-01]\n",
      "[8.13 epo]: COLA:[train/loss=3.01e-01] COLA:ends_with_question_mark:[train/loss=1.33e-01] model:[train/loss=2.90e-01, train/lr=3.00e-05]\n",
      "Evaluating 57 / 1042 active labels\n",
      "[8.18 epo]: COLA:[train/loss=4.65e-01, COLA_valid/accuracy=7.40e-01, COLA_valid/matthews_corr=3.18e-01] COLA:ends_with_question_mark:[train/loss=5.18e-01, COLA_valid/accuracy=6.67e-01, COLA_valid/matthews_corr=2.50e-01] model:[train/loss=4.69e-01, train/lr=3.00e-05, valid/glue=3.18e-01]\n",
      "[8.23 epo]: COLA:[train/loss=3.59e-01] COLA:ends_with_question_mark:[train/loss=1.81e-01] model:[train/loss=3.49e-01, train/lr=3.00e-05]\n",
      "Evaluating 57 / 1042 active labels\n",
      "[8.28 epo]: COLA:[train/loss=3.85e-01, COLA_valid/accuracy=7.26e-01, COLA_valid/matthews_corr=3.37e-01] COLA:ends_with_question_mark:[train/loss=4.00e-01, COLA_valid/accuracy=6.32e-01, COLA_valid/matthews_corr=1.70e-01] model:[train/loss=3.86e-01, train/lr=3.00e-05, valid/glue=3.37e-01]\n",
      "[8.33 epo]: COLA:[train/loss=4.28e-01] COLA:ends_with_question_mark:[train/loss=1.73e-01] model:[train/loss=4.09e-01, train/lr=3.00e-05]\n",
      "Evaluating 57 / 1042 active labels\n",
      "[8.38 epo]: COLA:[train/loss=4.35e-01, COLA_valid/accuracy=7.53e-01, COLA_valid/matthews_corr=3.61e-01] COLA:ends_with_question_mark:[train/loss=3.37e-01, COLA_valid/accuracy=6.49e-01, COLA_valid/matthews_corr=2.17e-01] model:[train/loss=4.28e-01, train/lr=3.00e-05, valid/glue=3.61e-01]\n",
      "[8.43 epo]: COLA:[train/loss=3.43e-01] COLA:ends_with_question_mark:[train/loss=1.30e-01] model:[train/loss=3.30e-01, train/lr=3.00e-05]\n",
      "Evaluating 57 / 1042 active labels\n",
      "[8.48 epo]: COLA:[train/loss=4.12e-01, COLA_valid/accuracy=7.41e-01, COLA_valid/matthews_corr=3.25e-01] COLA:ends_with_question_mark:[train/loss=2.58e-01, COLA_valid/accuracy=6.67e-01, COLA_valid/matthews_corr=2.52e-01] model:[train/loss=4.00e-01, train/lr=3.00e-05, valid/glue=3.25e-01]\n",
      "[8.53 epo]: COLA:[train/loss=4.38e-01] COLA:ends_with_question_mark:[train/loss=6.06e-01] model:[train/loss=4.52e-01, train/lr=3.00e-05]\n",
      "Evaluating 57 / 1042 active labels\n",
      "[8.58 epo]: COLA:[train/loss=4.01e-01, COLA_valid/accuracy=7.50e-01, COLA_valid/matthews_corr=3.48e-01] COLA:ends_with_question_mark:[train/loss=5.08e-01, COLA_valid/accuracy=6.32e-01, COLA_valid/matthews_corr=1.70e-01] model:[train/loss=4.09e-01, train/lr=3.00e-05, valid/glue=3.48e-01]\n",
      "[8.63 epo]: COLA:[train/loss=3.44e-01] COLA:ends_with_question_mark:[train/loss=1.95e-01] model:[train/loss=3.34e-01, train/lr=3.00e-05]\n",
      "Evaluating 57 / 1042 active labels\n",
      "[8.68 epo]: COLA:[train/loss=3.99e-01, COLA_valid/accuracy=7.34e-01, COLA_valid/matthews_corr=2.95e-01] COLA:ends_with_question_mark:[train/loss=2.66e-01, COLA_valid/accuracy=6.49e-01, COLA_valid/matthews_corr=1.98e-01] model:[train/loss=3.89e-01, train/lr=3.00e-05, valid/glue=2.95e-01]\n",
      "[8.73 epo]: COLA:[train/loss=4.54e-01] COLA:ends_with_question_mark:[train/loss=3.50e-01] model:[train/loss=4.46e-01, train/lr=3.00e-05]\n",
      "Evaluating 57 / 1042 active labels\n",
      "[8.78 epo]: COLA:[train/loss=4.13e-01, COLA_valid/accuracy=7.39e-01, COLA_valid/matthews_corr=3.11e-01] COLA:ends_with_question_mark:[train/loss=2.48e-01, COLA_valid/accuracy=6.49e-01, COLA_valid/matthews_corr=2.03e-01] model:[train/loss=4.03e-01, train/lr=3.00e-05, valid/glue=3.11e-01]\n",
      "[8.83 epo]: COLA:[train/loss=4.20e-01] COLA:ends_with_question_mark:[train/loss=3.65e-01] model:[train/loss=4.18e-01, train/lr=3.00e-05]\n",
      "Evaluating 57 / 1042 active labels\n",
      "[8.88 epo]: COLA:[train/loss=4.74e-01, COLA_valid/accuracy=7.20e-01, COLA_valid/matthews_corr=2.94e-01] COLA:ends_with_question_mark:[train/loss=3.62e-01, COLA_valid/accuracy=6.14e-01, COLA_valid/matthews_corr=1.21e-01] model:[train/loss=4.67e-01, train/lr=3.00e-05, valid/glue=2.94e-01]\n",
      "[8.93 epo]: COLA:[train/loss=5.32e-01] COLA:ends_with_question_mark:[train/loss=6.19e-01] model:[train/loss=5.38e-01, train/lr=3.00e-05]\n",
      "Evaluating 57 / 1042 active labels\n",
      "[8.98 epo]: COLA:[train/loss=3.67e-01, COLA_valid/accuracy=7.19e-01, COLA_valid/matthews_corr=2.44e-01] COLA:ends_with_question_mark:[train/loss=1.75e-01, COLA_valid/accuracy=6.14e-01, COLA_valid/matthews_corr=1.08e-01] model:[train/loss=3.57e-01, train/lr=3.00e-05, valid/glue=2.44e-01]\n",
      "\n"
     ]
    },
    {
     "data": {
      "application/vnd.jupyter.widget-view+json": {
       "model_id": "dcc97b29691f48a2b7c9f868517bc7ff",
       "version_major": 2,
       "version_minor": 0
      },
      "text/plain": [
       "HBox(children=(IntProgress(value=0, max=535), HTML(value='')))"
      ]
     },
     "metadata": {},
     "output_type": "display_data"
    },
    {
     "name": "stdout",
     "output_type": "stream",
     "text": [
      "[9.03 epo]: COLA:[train/loss=3.54e-01] COLA:ends_with_question_mark:[train/loss=2.47e-01] model:[train/loss=3.46e-01, train/lr=3.00e-05]\n",
      "Evaluating 57 / 1042 active labels\n",
      "[9.08 epo]: COLA:[train/loss=4.17e-01, COLA_valid/accuracy=7.32e-01, COLA_valid/matthews_corr=2.95e-01] COLA:ends_with_question_mark:[train/loss=3.56e-01, COLA_valid/accuracy=6.14e-01, COLA_valid/matthews_corr=1.08e-01] model:[train/loss=4.13e-01, train/lr=3.00e-05, valid/glue=2.95e-01]\n",
      "[9.13 epo]: COLA:[train/loss=3.72e-01] COLA:ends_with_question_mark:[train/loss=5.00e-01] model:[train/loss=3.79e-01, train/lr=3.00e-05]\n",
      "Evaluating 57 / 1042 active labels\n",
      "[9.19 epo]: COLA:[train/loss=4.32e-01, COLA_valid/accuracy=7.33e-01, COLA_valid/matthews_corr=3.08e-01] COLA:ends_with_question_mark:[train/loss=3.35e-01, COLA_valid/accuracy=6.49e-01, COLA_valid/matthews_corr=2.03e-01] model:[train/loss=4.26e-01, train/lr=3.00e-05, valid/glue=3.08e-01]\n"
     ]
    }
   ],
   "source": [
    "trainer.train_model(\n",
    "    model,\n",
    "    payloads_slice,\n",
    "    checkpoint_metric=\"COLA/COLA_valid/matthews_corr\",\n",
    "    checkpoint_metric_mode=\"max\",\n",
    "    writer=\"tensorboard\",\n",
    "    optimizer=\"adamax\",\n",
    "    lr=3e-5,\n",
    "    l2=1e-3,\n",
    "    log_every=0.05, \n",
    "    score_every=0.1,\n",
    "    n_epochs=10,\n",
    "    progress_bar=True\n",
    ")"
   ]
  },
  {
   "cell_type": "markdown",
   "metadata": {},
   "source": [
    "#### Did we improve?"
   ]
  },
  {
   "cell_type": "code",
   "execution_count": null,
   "metadata": {
    "scrolled": true
   },
   "outputs": [],
   "source": [
    "from metal.mmtl.metal_model import MetalModel\n",
    "model.score(payloads_slice[1])"
   ]
  },
  {
   "cell_type": "raw",
   "metadata": {},
   "source": [
    "# unfrozen, fine-tune only on COLA:questions\n",
    "{'COLA:ends_with_question_mark/COLA_valid/accuracy': 0.7017543859649122,\n",
    " 'COLA:ends_with_question_mark/COLA_valid/matthews_corr': 0.3656772505598269}"
   ]
  }
 ],
 "metadata": {
  "kernelspec": {
   "display_name": "Python 3",
   "language": "python",
   "name": "python3"
  },
  "language_info": {
   "codemirror_mode": {
    "name": "ipython",
    "version": 3
   },
   "file_extension": ".py",
   "mimetype": "text/x-python",
   "name": "python",
   "nbconvert_exporter": "python",
   "pygments_lexer": "ipython3",
   "version": "3.6.7"
  }
 },
 "nbformat": 4,
 "nbformat_minor": 2
}
