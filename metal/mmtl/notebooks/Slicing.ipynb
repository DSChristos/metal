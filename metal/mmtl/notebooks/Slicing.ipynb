{
 "cells": [
  {
   "cell_type": "code",
   "execution_count": 1,
   "metadata": {
    "scrolled": true
   },
   "outputs": [
    {
     "name": "stdout",
     "output_type": "stream",
     "text": [
      "The autoreload extension is already loaded. To reload it, use:\n",
      "  %reload_ext autoreload\n"
     ]
    }
   ],
   "source": [
    "%load_ext autoreload\n",
    "%autoreload 2"
   ]
  },
  {
   "cell_type": "code",
   "execution_count": 2,
   "metadata": {
    "scrolled": true
   },
   "outputs": [],
   "source": [
    "task_names = [\n",
    "    \"COLA\", \n",
    "#     \"SST2\", \n",
    "#     \"MNLI\",\n",
    "#     \"RTE\",\n",
    "#     \"WNLI\",\n",
    "#     \"QQP\",\n",
    "#     \"MRPC\",\n",
    "#     \"STSB\",\n",
    "#     \"QNLI\",\n",
    "#     \"SPACY_POS\",\n",
    "#     \"SPACY_NER\",\n",
    "#     \"THIRD\",\n",
    "#     \"BLEU\",\n",
    "]\n",
    "\n",
    "FILENAME = \"COLA_tasks_and_payloads\""
   ]
  },
  {
   "cell_type": "code",
   "execution_count": 3,
   "metadata": {
    "scrolled": false
   },
   "outputs": [
    {
     "name": "stdout",
     "output_type": "stream",
     "text": [
      "Better speed can be achieved with apex installed from https://www.github.com/nvidia/apex.\n",
      "Using random seed: 32964\n",
      "Loading COLA Dataset\n"
     ]
    },
    {
     "data": {
      "application/vnd.jupyter.widget-view+json": {
       "model_id": "2686026ab2324576b753af43dd9672f1",
       "version_major": 2,
       "version_minor": 0
      },
      "text/plain": [
       "HBox(children=(IntProgress(value=0, max=8550), HTML(value='')))"
      ]
     },
     "metadata": {},
     "output_type": "display_data"
    },
    {
     "name": "stdout",
     "output_type": "stream",
     "text": [
      "\n"
     ]
    },
    {
     "data": {
      "application/vnd.jupyter.widget-view+json": {
       "model_id": "99a0c00e814e47b9a203e69f1f9aaa5d",
       "version_major": 2,
       "version_minor": 0
      },
      "text/plain": [
       "HBox(children=(IntProgress(value=0, max=1042), HTML(value='')))"
      ]
     },
     "metadata": {},
     "output_type": "display_data"
    },
    {
     "name": "stdout",
     "output_type": "stream",
     "text": [
      "\n"
     ]
    },
    {
     "data": {
      "application/vnd.jupyter.widget-view+json": {
       "model_id": "902e9860e0ef45bfac4308c796d5c980",
       "version_major": 2,
       "version_minor": 0
      },
      "text/plain": [
       "HBox(children=(IntProgress(value=0, max=1063), HTML(value='')))"
      ]
     },
     "metadata": {},
     "output_type": "display_data"
    },
    {
     "name": "stdout",
     "output_type": "stream",
     "text": [
      "\n",
      "Added label_set with 8550 labels for task COLA:ends_with_question to payload COLA_train.\n",
      "Added label_set with 1042 labels for task COLA:ends_with_question to payload COLA_valid.\n",
      "Added label_set with 1063 labels for task COLA:ends_with_question to payload COLA_test.\n",
      "CPU times: user 48.8 s, sys: 1.89 s, total: 50.7 s\n",
      "Wall time: 26.5 s\n"
     ]
    }
   ],
   "source": [
    "%%time\n",
    "from metal.mmtl.glue.glue_tasks import create_tasks_and_payloads\n",
    "\n",
    "# Create tasks and payloads\n",
    "tasks, payloads = create_tasks_and_payloads(\n",
    "    task_names,\n",
    "#     max_datapoints=1000,\n",
    "    dl_kwargs={\"batch_size\": 16}\n",
    ")"
   ]
  },
  {
   "cell_type": "code",
   "execution_count": 4,
   "metadata": {},
   "outputs": [],
   "source": [
    "# %%time\n",
    "# # Pickle tasks and payloads\n",
    "# import dill\n",
    "# with open(\"FILENAME\", 'wb') as f:\n",
    "#     dill.dump((tasks, payloads), f)"
   ]
  },
  {
   "cell_type": "code",
   "execution_count": null,
   "metadata": {},
   "outputs": [],
   "source": [
    "# %%time\n",
    "# # Unpickle tasks and payloads\n",
    "# import dill\n",
    "# with open(\"FILENAME\", 'rb') as f:\n",
    "#     (tasks, payloads) = dill.load(f)"
   ]
  },
  {
   "cell_type": "code",
   "execution_count": null,
   "metadata": {
    "scrolled": true
   },
   "outputs": [
    {
     "name": "stdout",
     "output_type": "stream",
     "text": [
      "[ClassificationTask(name=COLA, loss_multiplier=1.0),\n",
      " ClassificationTask(name=COLA:ends_with_question, loss_multiplier=1.0),\n",
      " ClassificationTask(name=COLA:ends_with_question, loss_multiplier=1.0),\n",
      " ClassificationTask(name=COLA:ends_with_question, loss_multiplier=1.0)]\n",
      "[Payload(COLA_train: tasks=[COLA,COLA:ends_with_question], split=train),\n",
      " Payload(COLA_valid: tasks=[COLA,COLA:ends_with_question], split=valid),\n",
      " Payload(COLA_test: tasks=[COLA,COLA:ends_with_question], split=test)]\n"
     ]
    }
   ],
   "source": [
    "pprint(tasks)\n",
    "pprint(payloads)"
   ]
  },
  {
   "cell_type": "code",
   "execution_count": null,
   "metadata": {},
   "outputs": [],
   "source": [
    "SEED = 1"
   ]
  },
  {
   "cell_type": "code",
   "execution_count": null,
   "metadata": {
    "scrolled": false
   },
   "outputs": [],
   "source": [
    "from metal.mmtl.metal_model import MetalModel\n",
    "\n",
    "model = MetalModel(tasks, seed=SEED, verbose=False)"
   ]
  },
  {
   "cell_type": "code",
   "execution_count": null,
   "metadata": {},
   "outputs": [],
   "source": [
    "from metal.mmtl.trainer import MultitaskTrainer\n",
    "trainer = MultitaskTrainer(seed=SEED)"
   ]
  },
  {
   "cell_type": "code",
   "execution_count": null,
   "metadata": {
    "scrolled": false
   },
   "outputs": [
    {
     "name": "stdout",
     "output_type": "stream",
     "text": [
      "Beginning train loop.\n",
      "Expecting a total of approximately 8560 examples and 535 batches per epoch from 1 payload(s) in the train split.\n",
      "Writing config to /dfs/scratch0/bradenjh/metal/logs/2019_03_14/19_45_27/config.json\n"
     ]
    },
    {
     "data": {
      "application/vnd.jupyter.widget-view+json": {
       "model_id": "c77c20a14d7c47ce91726eaa7515e651",
       "version_major": 2,
       "version_minor": 0
      },
      "text/plain": [
       "HBox(children=(IntProgress(value=0, max=535), HTML(value='')))"
      ]
     },
     "metadata": {},
     "output_type": "display_data"
    },
    {
     "name": "stderr",
     "output_type": "stream",
     "text": [
      "/dfs/scratch0/bradenjh/metal/metal/logging/tensorboard.py:26: UserWarning: At iteration 27, metric COLA:ends_with_question/train/loss had value None!\n",
      "  warnings.warn(f\"At iteration {i}, metric {name} had value None!\")\n"
     ]
    },
    {
     "name": "stdout",
     "output_type": "stream",
     "text": [
      "[0.05 epo]: COLA:[train/loss=6.28e-01] COLA:ends_with_question:[train/loss=None] model:[train/loss=6.28e-01, train/lr=5.00e-05]\n",
      "1042 1042\n",
      "27 1042\n",
      "[0.10 epo]: COLA:[train/loss=5.77e-01, COLA_valid/accuracy=7.20e-01, COLA_valid/matthews_corr=2.36e-01] COLA:ends_with_question:[train/loss=3.12e-01, COLA_valid/accuracy=4.44e-01, COLA_valid/matthews_corr=0.00e+00] model:[train/loss=5.76e-01, train/lr=5.00e-05, valid/glue=2.36e-01]\n"
     ]
    },
    {
     "name": "stderr",
     "output_type": "stream",
     "text": [
      "/dfs/scratch0/bradenjh/anaconda3/envs/metal/lib/python3.6/site-packages/sklearn/metrics/classification.py:543: RuntimeWarning: invalid value encountered in double_scalars\n",
      "  mcc = cov_ytyp / np.sqrt(cov_ytyt * cov_ypyp)\n",
      "/dfs/scratch0/bradenjh/metal/metal/mmtl/trainer.py:471: UserWarning: You requested glue score but have fewer than 9 tasks. Be aware.\n",
      "  warnings.warn(msg)\n"
     ]
    },
    {
     "name": "stdout",
     "output_type": "stream",
     "text": [
      "[0.15 epo]: COLA:[train/loss=5.07e-01] COLA:ends_with_question:[train/loss=4.99e-01] model:[train/loss=5.07e-01, train/lr=5.00e-05]\n",
      "1042 1042\n",
      "27 1042\n",
      "[0.20 epo]: COLA:[train/loss=5.10e-01, COLA_valid/accuracy=7.68e-01, COLA_valid/matthews_corr=4.10e-01] COLA:ends_with_question:[train/loss=4.99e-01, COLA_valid/accuracy=4.44e-01, COLA_valid/matthews_corr=0.00e+00] model:[train/loss=5.10e-01, train/lr=5.00e-05, valid/glue=4.10e-01]\n",
      "[0.25 epo]: COLA:[train/loss=4.97e-01] COLA:ends_with_question:[train/loss=1.71e-01] model:[train/loss=4.96e-01, train/lr=5.00e-05]\n",
      "1042 1042\n",
      "27 1042\n",
      "[0.30 epo]: COLA:[train/loss=5.17e-01, COLA_valid/accuracy=7.67e-01, COLA_valid/matthews_corr=4.14e-01] COLA:ends_with_question:[train/loss=1.93e-01, COLA_valid/accuracy=4.44e-01, COLA_valid/matthews_corr=0.00e+00] model:[train/loss=5.15e-01, train/lr=5.00e-05, valid/glue=4.14e-01]\n",
      "[0.35 epo]: COLA:[train/loss=4.80e-01] COLA:ends_with_question:[train/loss=2.07e-01] model:[train/loss=4.79e-01, train/lr=5.00e-05]\n",
      "1042 1042\n",
      "27 1042\n",
      "[0.40 epo]: COLA:[train/loss=4.82e-01, COLA_valid/accuracy=7.96e-01, COLA_valid/matthews_corr=4.89e-01] COLA:ends_with_question:[train/loss=1.03e+00, COLA_valid/accuracy=4.44e-01, COLA_valid/matthews_corr=0.00e+00] model:[train/loss=4.83e-01, train/lr=5.00e-05, valid/glue=4.89e-01]\n",
      "[0.45 epo]: COLA:[train/loss=4.89e-01] COLA:ends_with_question:[train/loss=7.61e-02] model:[train/loss=4.85e-01, train/lr=5.00e-05]\n",
      "1042 1042\n",
      "27 1042\n",
      "[0.50 epo]: COLA:[train/loss=4.47e-01, COLA_valid/accuracy=7.96e-01, COLA_valid/matthews_corr=4.89e-01] COLA:ends_with_question:[train/loss=1.25e+00, COLA_valid/accuracy=4.44e-01, COLA_valid/matthews_corr=0.00e+00] model:[train/loss=4.49e-01, train/lr=5.00e-05, valid/glue=4.89e-01]\n",
      "[0.56 epo]: COLA:[train/loss=4.47e-01] COLA:ends_with_question:[train/loss=8.85e-02] model:[train/loss=4.44e-01, train/lr=5.00e-05]\n",
      "1042 1042\n",
      "27 1042\n",
      "[0.61 epo]: COLA:[train/loss=4.29e-01, COLA_valid/accuracy=8.13e-01, COLA_valid/matthews_corr=5.36e-01] COLA:ends_with_question:[train/loss=1.47e-01, COLA_valid/accuracy=4.44e-01, COLA_valid/matthews_corr=0.00e+00] model:[train/loss=4.28e-01, train/lr=5.00e-05, valid/glue=5.36e-01]\n",
      "[0.66 epo]: COLA:[train/loss=4.64e-01] COLA:ends_with_question:[train/loss=5.60e-02] model:[train/loss=4.64e-01, train/lr=5.00e-05]\n",
      "1042 1042\n",
      "27 1042\n",
      "[0.71 epo]: COLA:[train/loss=5.03e-01, COLA_valid/accuracy=8.06e-01, COLA_valid/matthews_corr=5.20e-01] COLA:ends_with_question:[train/loss=3.29e-02, COLA_valid/accuracy=4.44e-01, COLA_valid/matthews_corr=0.00e+00] model:[train/loss=5.02e-01, train/lr=5.00e-05, valid/glue=5.20e-01]\n",
      "[0.76 epo]: COLA:[train/loss=4.32e-01] COLA:ends_with_question:[train/loss=6.88e-02] model:[train/loss=4.30e-01, train/lr=5.00e-05]\n",
      "1042 1042\n",
      "27 1042\n",
      "[0.81 epo]: COLA:[train/loss=3.95e-01, COLA_valid/accuracy=7.89e-01, COLA_valid/matthews_corr=4.75e-01] COLA:ends_with_question:[train/loss=1.39e+00, COLA_valid/accuracy=4.44e-01, COLA_valid/matthews_corr=0.00e+00] model:[train/loss=3.97e-01, train/lr=5.00e-05, valid/glue=4.75e-01]\n",
      "[0.86 epo]: COLA:[train/loss=4.55e-01] COLA:ends_with_question:[train/loss=5.92e-02] model:[train/loss=4.53e-01, train/lr=5.00e-05]\n",
      "1042 1042\n",
      "27 1042\n",
      "[0.91 epo]: COLA:[train/loss=4.18e-01, COLA_valid/accuracy=8.14e-01, COLA_valid/matthews_corr=5.40e-01] COLA:ends_with_question:[train/loss=5.92e-02, COLA_valid/accuracy=4.44e-01, COLA_valid/matthews_corr=0.00e+00] model:[train/loss=4.18e-01, train/lr=5.00e-05, valid/glue=5.40e-01]\n",
      "[0.96 epo]: COLA:[train/loss=4.25e-01] COLA:ends_with_question:[train/loss=3.21e+00] model:[train/loss=4.32e-01, train/lr=5.00e-05]\n",
      "\n"
     ]
    },
    {
     "data": {
      "application/vnd.jupyter.widget-view+json": {
       "model_id": "8f2794975a124d098bf86aadc2ae8e5d",
       "version_major": 2,
       "version_minor": 0
      },
      "text/plain": [
       "HBox(children=(IntProgress(value=0, max=535), HTML(value='')))"
      ]
     },
     "metadata": {},
     "output_type": "display_data"
    },
    {
     "name": "stdout",
     "output_type": "stream",
     "text": [
      "1042 1042\n",
      "27 1042\n",
      "[1.01 epo]: COLA:[train/loss=3.69e-01, COLA_valid/accuracy=8.18e-01, COLA_valid/matthews_corr=5.50e-01] COLA:ends_with_question:[train/loss=1.23e+00, COLA_valid/accuracy=4.44e-01, COLA_valid/matthews_corr=0.00e+00] model:[train/loss=3.73e-01, train/lr=5.00e-05, valid/glue=5.50e-01]\n",
      "[1.06 epo]: COLA:[train/loss=2.99e-01] COLA:ends_with_question:[train/loss=9.48e-01] model:[train/loss=3.04e-01, train/lr=5.00e-05]\n",
      "1042 1042\n",
      "27 1042\n",
      "[1.11 epo]: COLA:[train/loss=2.46e-01, COLA_valid/accuracy=8.03e-01, COLA_valid/matthews_corr=5.12e-01] COLA:ends_with_question:[train/loss=1.17e-01, COLA_valid/accuracy=4.44e-01, COLA_valid/matthews_corr=0.00e+00] model:[train/loss=2.45e-01, train/lr=5.00e-05, valid/glue=5.12e-01]\n",
      "[1.16 epo]: COLA:[train/loss=2.99e-01] COLA:ends_with_question:[train/loss=4.57e-02] model:[train/loss=2.98e-01, train/lr=5.00e-05]\n",
      "1042 1042\n",
      "27 1042\n",
      "[1.21 epo]: COLA:[train/loss=2.58e-01, COLA_valid/accuracy=8.21e-01, COLA_valid/matthews_corr=5.58e-01] COLA:ends_with_question:[train/loss=1.82e-02, COLA_valid/accuracy=4.07e-01, COLA_valid/matthews_corr=-2.19e-01] model:[train/loss=2.57e-01, train/lr=5.00e-05, valid/glue=5.58e-01]\n",
      "[1.26 epo]: COLA:[train/loss=3.26e-01] COLA:ends_with_question:[train/loss=3.78e-02] model:[train/loss=3.26e-01, train/lr=5.00e-05]\n",
      "1042 1042\n",
      "27 1042\n",
      "[1.31 epo]: COLA:[train/loss=3.15e-01, COLA_valid/accuracy=8.23e-01, COLA_valid/matthews_corr=5.65e-01] COLA:ends_with_question:[train/loss=3.78e-02, COLA_valid/accuracy=4.07e-01, COLA_valid/matthews_corr=-2.19e-01] model:[train/loss=3.15e-01, train/lr=5.00e-05, valid/glue=5.65e-01]\n",
      "[1.36 epo]: COLA:[train/loss=3.23e-01] COLA:ends_with_question:[train/loss=5.62e-02] model:[train/loss=3.23e-01, train/lr=5.00e-05]\n",
      "1042 1042\n",
      "27 1042\n",
      "[1.41 epo]: COLA:[train/loss=2.76e-01, COLA_valid/accuracy=8.27e-01, COLA_valid/matthews_corr=5.76e-01] COLA:ends_with_question:[train/loss=1.93e-02, COLA_valid/accuracy=4.07e-01, COLA_valid/matthews_corr=-2.19e-01] model:[train/loss=2.75e-01, train/lr=5.00e-05, valid/glue=5.76e-01]\n",
      "[1.46 epo]: COLA:[train/loss=3.00e-01] COLA:ends_with_question:[train/loss=2.34e-02] model:[train/loss=2.99e-01, train/lr=5.00e-05]\n",
      "1042 1042\n",
      "27 1042\n",
      "[1.51 epo]: COLA:[train/loss=3.02e-01, COLA_valid/accuracy=8.23e-01, COLA_valid/matthews_corr=5.65e-01] COLA:ends_with_question:[train/loss=2.34e-02, COLA_valid/accuracy=4.07e-01, COLA_valid/matthews_corr=-2.19e-01] model:[train/loss=3.02e-01, train/lr=5.00e-05, valid/glue=5.65e-01]\n",
      "[1.56 epo]: COLA:[train/loss=2.74e-01] COLA:ends_with_question:[train/loss=2.04e-02] model:[train/loss=2.72e-01, train/lr=5.00e-05]\n",
      "1042 1042\n",
      "27 1042\n",
      "[1.61 epo]: COLA:[train/loss=2.65e-01, COLA_valid/accuracy=8.24e-01, COLA_valid/matthews_corr=5.68e-01] COLA:ends_with_question:[train/loss=4.55e-02, COLA_valid/accuracy=4.07e-01, COLA_valid/matthews_corr=-2.19e-01] model:[train/loss=2.64e-01, train/lr=5.00e-05, valid/glue=5.68e-01]\n",
      "[1.67 epo]: COLA:[train/loss=3.32e-01] COLA:ends_with_question:[train/loss=2.11e-02] model:[train/loss=3.31e-01, train/lr=5.00e-05]\n",
      "1042 1042\n",
      "27 1042\n",
      "[1.72 epo]: COLA:[train/loss=2.95e-01, COLA_valid/accuracy=8.28e-01, COLA_valid/matthews_corr=5.81e-01] COLA:ends_with_question:[train/loss=1.62e-02, COLA_valid/accuracy=4.44e-01, COLA_valid/matthews_corr=0.00e+00] model:[train/loss=2.94e-01, train/lr=5.00e-05, valid/glue=5.81e-01]\n",
      "[1.77 epo]: COLA:[train/loss=3.13e-01] COLA:ends_with_question:[train/loss=1.62e-02] model:[train/loss=3.13e-01, train/lr=5.00e-05]\n",
      "1042 1042\n",
      "27 1042\n",
      "[1.82 epo]: COLA:[train/loss=2.97e-01, COLA_valid/accuracy=8.28e-01, COLA_valid/matthews_corr=5.78e-01] COLA:ends_with_question:[train/loss=1.55e-02, COLA_valid/accuracy=4.44e-01, COLA_valid/matthews_corr=0.00e+00] model:[train/loss=2.96e-01, train/lr=5.00e-05, valid/glue=5.78e-01]\n",
      "[1.87 epo]: COLA:[train/loss=3.42e-01] COLA:ends_with_question:[train/loss=1.21e-02] model:[train/loss=3.42e-01, train/lr=5.00e-05]\n",
      "1042 1042\n",
      "27 1042\n",
      "[1.92 epo]: COLA:[train/loss=3.29e-01, COLA_valid/accuracy=8.31e-01, COLA_valid/matthews_corr=5.86e-01] COLA:ends_with_question:[train/loss=1.21e-02, COLA_valid/accuracy=4.44e-01, COLA_valid/matthews_corr=0.00e+00] model:[train/loss=3.29e-01, train/lr=5.00e-05, valid/glue=5.86e-01]\n",
      "[1.97 epo]: COLA:[train/loss=3.65e-01] COLA:ends_with_question:[train/loss=9.38e-03] model:[train/loss=3.63e-01, train/lr=5.00e-05]\n",
      "\n"
     ]
    },
    {
     "data": {
      "application/vnd.jupyter.widget-view+json": {
       "model_id": "de68d5000de54bbb8d0e8a5e823d277e",
       "version_major": 2,
       "version_minor": 0
      },
      "text/plain": [
       "HBox(children=(IntProgress(value=0, max=535), HTML(value='')))"
      ]
     },
     "metadata": {},
     "output_type": "display_data"
    },
    {
     "name": "stdout",
     "output_type": "stream",
     "text": [
      "1042 1042\n",
      "27 1042\n",
      "[2.02 epo]: COLA:[train/loss=2.68e-01, COLA_valid/accuracy=8.23e-01, COLA_valid/matthews_corr=5.65e-01] COLA:ends_with_question:[train/loss=1.21e-02, COLA_valid/accuracy=4.44e-01, COLA_valid/matthews_corr=0.00e+00] model:[train/loss=2.68e-01, train/lr=5.00e-05, valid/glue=5.65e-01]\n",
      "[2.07 epo]: COLA:[train/loss=2.12e-01] COLA:ends_with_question:[train/loss=1.42e-02] model:[train/loss=2.11e-01, train/lr=5.00e-05]\n",
      "1042 1042\n",
      "27 1042\n",
      "[2.12 epo]: COLA:[train/loss=1.84e-01, COLA_valid/accuracy=8.40e-01, COLA_valid/matthews_corr=6.11e-01] COLA:ends_with_question:[train/loss=8.12e-03, COLA_valid/accuracy=4.44e-01, COLA_valid/matthews_corr=0.00e+00] model:[train/loss=1.83e-01, train/lr=5.00e-05, valid/glue=6.11e-01]\n",
      "[2.17 epo]: COLA:[train/loss=2.67e-01] COLA:ends_with_question:[train/loss=9.92e-03] model:[train/loss=2.66e-01, train/lr=5.00e-05]\n",
      "1042 1042\n",
      "27 1042\n",
      "[2.22 epo]: COLA:[train/loss=2.06e-01, COLA_valid/accuracy=8.32e-01, COLA_valid/matthews_corr=5.89e-01] COLA:ends_with_question:[train/loss=1.67e-02, COLA_valid/accuracy=4.07e-01, COLA_valid/matthews_corr=-2.19e-01] model:[train/loss=2.05e-01, train/lr=5.00e-05, valid/glue=5.89e-01]\n",
      "[2.27 epo]: COLA:[train/loss=1.93e-01] COLA:ends_with_question:[train/loss=1.67e-02] model:[train/loss=1.93e-01, train/lr=5.00e-05]\n",
      "1042 1042\n",
      "27 1042\n",
      "[2.32 epo]: COLA:[train/loss=2.46e-01, COLA_valid/accuracy=8.32e-01, COLA_valid/matthews_corr=5.89e-01] COLA:ends_with_question:[train/loss=6.43e-03, COLA_valid/accuracy=4.07e-01, COLA_valid/matthews_corr=-2.19e-01] model:[train/loss=2.45e-01, train/lr=5.00e-05, valid/glue=5.89e-01]\n",
      "[2.37 epo]: COLA:[train/loss=1.90e-01] COLA:ends_with_question:[train/loss=4.26e-03] model:[train/loss=1.89e-01, train/lr=5.00e-05]\n",
      "1042 1042\n",
      "27 1042\n",
      "[2.42 epo]: COLA:[train/loss=1.90e-01, COLA_valid/accuracy=8.32e-01, COLA_valid/matthews_corr=5.88e-01] COLA:ends_with_question:[train/loss=1.11e-02, COLA_valid/accuracy=4.44e-01, COLA_valid/matthews_corr=0.00e+00] model:[train/loss=1.89e-01, train/lr=5.00e-05, valid/glue=5.88e-01]\n",
      "[2.47 epo]: COLA:[train/loss=2.20e-01] COLA:ends_with_question:[train/loss=1.11e-02] model:[train/loss=2.20e-01, train/lr=5.00e-05]\n",
      "1042 1042\n",
      "27 1042\n",
      "[2.52 epo]: COLA:[train/loss=2.08e-01, COLA_valid/accuracy=8.24e-01, COLA_valid/matthews_corr=5.68e-01] COLA:ends_with_question:[train/loss=3.53e-03, COLA_valid/accuracy=4.07e-01, COLA_valid/matthews_corr=-2.19e-01] model:[train/loss=2.07e-01, train/lr=5.00e-05, valid/glue=5.68e-01]\n",
      "[2.57 epo]: COLA:[train/loss=2.13e-01] COLA:ends_with_question:[train/loss=3.53e-03] model:[train/loss=2.13e-01, train/lr=5.00e-05]\n",
      "1042 1042\n",
      "27 1042\n",
      "[2.62 epo]: COLA:[train/loss=2.36e-01, COLA_valid/accuracy=8.18e-01, COLA_valid/matthews_corr=5.49e-01] COLA:ends_with_question:[train/loss=7.45e-03, COLA_valid/accuracy=4.07e-01, COLA_valid/matthews_corr=-2.19e-01] model:[train/loss=2.35e-01, train/lr=5.00e-05, valid/glue=5.49e-01]\n",
      "[2.67 epo]: COLA:[train/loss=2.19e-01] COLA:ends_with_question:[train/loss=9.18e-01] model:[train/loss=2.24e-01, train/lr=5.00e-05]\n",
      "1042 1042\n",
      "27 1042\n",
      "[2.73 epo]: COLA:[train/loss=1.94e-01, COLA_valid/accuracy=8.26e-01, COLA_valid/matthews_corr=5.73e-01] COLA:ends_with_question:[train/loss=9.18e-01, COLA_valid/accuracy=4.07e-01, COLA_valid/matthews_corr=-2.19e-01] model:[train/loss=1.94e-01, train/lr=5.00e-05, valid/glue=5.73e-01]\n",
      "[2.78 epo]: COLA:[train/loss=2.36e-01] COLA:ends_with_question:[train/loss=8.48e-03] model:[train/loss=2.35e-01, train/lr=5.00e-05]\n",
      "1042 1042\n",
      "27 1042\n",
      "[2.83 epo]: COLA:[train/loss=1.89e-01, COLA_valid/accuracy=8.21e-01, COLA_valid/matthews_corr=5.60e-01] COLA:ends_with_question:[train/loss=8.48e-03, COLA_valid/accuracy=4.44e-01, COLA_valid/matthews_corr=0.00e+00] model:[train/loss=1.89e-01, train/lr=5.00e-05, valid/glue=5.60e-01]\n",
      "[2.88 epo]: COLA:[train/loss=2.16e-01] COLA:ends_with_question:[train/loss=5.06e-03] model:[train/loss=2.15e-01, train/lr=5.00e-05]\n",
      "1042 1042\n",
      "27 1042\n",
      "[2.93 epo]: COLA:[train/loss=2.64e-01, COLA_valid/accuracy=8.21e-01, COLA_valid/matthews_corr=5.60e-01] COLA:ends_with_question:[train/loss=3.59e-03, COLA_valid/accuracy=4.44e-01, COLA_valid/matthews_corr=0.00e+00] model:[train/loss=2.63e-01, train/lr=5.00e-05, valid/glue=5.60e-01]\n",
      "[2.98 epo]: COLA:[train/loss=2.43e-01] COLA:ends_with_question:[train/loss=4.86e-03] model:[train/loss=2.43e-01, train/lr=5.00e-05]\n",
      "\n"
     ]
    },
    {
     "data": {
      "application/vnd.jupyter.widget-view+json": {
       "model_id": "f99f839356e84e8c9aa9b4eed472382e",
       "version_major": 2,
       "version_minor": 0
      },
      "text/plain": [
       "HBox(children=(IntProgress(value=0, max=535), HTML(value='')))"
      ]
     },
     "metadata": {},
     "output_type": "display_data"
    },
    {
     "name": "stdout",
     "output_type": "stream",
     "text": [
      "1042 1042\n",
      "27 1042\n",
      "[3.03 epo]: COLA:[train/loss=1.54e-01, COLA_valid/accuracy=8.10e-01, COLA_valid/matthews_corr=5.29e-01] COLA:ends_with_question:[train/loss=5.24e-03, COLA_valid/accuracy=4.44e-01, COLA_valid/matthews_corr=0.00e+00] model:[train/loss=1.53e-01, train/lr=5.00e-05, valid/glue=5.29e-01]\n",
      "[3.08 epo]: COLA:[train/loss=8.43e-02] COLA:ends_with_question:[train/loss=2.65e-03] model:[train/loss=8.41e-02, train/lr=5.00e-05]\n",
      "1042 1042\n",
      "27 1042\n",
      "[3.13 epo]: COLA:[train/loss=2.41e-01, COLA_valid/accuracy=8.34e-01, COLA_valid/matthews_corr=5.93e-01] COLA:ends_with_question:[train/loss=2.65e-03, COLA_valid/accuracy=4.07e-01, COLA_valid/matthews_corr=-2.19e-01] model:[train/loss=2.41e-01, train/lr=5.00e-05, valid/glue=5.93e-01]\n",
      "[3.18 epo]: COLA:[train/loss=1.51e-01] COLA:ends_with_question:[train/loss=5.26e-03] model:[train/loss=1.51e-01, train/lr=5.00e-05]\n",
      "1042 1042\n",
      "27 1042\n",
      "[3.23 epo]: COLA:[train/loss=1.40e-01, COLA_valid/accuracy=8.21e-01, COLA_valid/matthews_corr=5.58e-01] COLA:ends_with_question:[train/loss=5.26e-03, COLA_valid/accuracy=4.44e-01, COLA_valid/matthews_corr=0.00e+00] model:[train/loss=1.40e-01, train/lr=5.00e-05, valid/glue=5.58e-01]\n",
      "[3.28 epo]: COLA:[train/loss=2.12e-01] COLA:ends_with_question:[train/loss=5.26e-03] model:[train/loss=2.12e-01, train/lr=5.00e-05]\n",
      "1042 1042\n",
      "27 1042\n",
      "[3.33 epo]: COLA:[train/loss=1.77e-01, COLA_valid/accuracy=8.24e-01, COLA_valid/matthews_corr=5.69e-01] COLA:ends_with_question:[train/loss=6.65e-03, COLA_valid/accuracy=4.07e-01, COLA_valid/matthews_corr=-2.19e-01] model:[train/loss=1.76e-01, train/lr=5.00e-05, valid/glue=5.69e-01]\n",
      "[3.38 epo]: COLA:[train/loss=1.58e-01] COLA:ends_with_question:[train/loss=2.31e-03] model:[train/loss=1.58e-01, train/lr=5.00e-05]\n",
      "1042 1042\n",
      "27 1042\n",
      "[3.43 epo]: COLA:[train/loss=1.54e-01, COLA_valid/accuracy=8.17e-01, COLA_valid/matthews_corr=5.47e-01] COLA:ends_with_question:[train/loss=2.82e-03, COLA_valid/accuracy=4.07e-01, COLA_valid/matthews_corr=-2.19e-01] model:[train/loss=1.53e-01, train/lr=5.00e-05, valid/glue=5.47e-01]\n",
      "[3.48 epo]: COLA:[train/loss=1.02e-01] COLA:ends_with_question:[train/loss=1.89e-02] model:[train/loss=1.01e-01, train/lr=5.00e-05]\n",
      "1042 1042\n",
      "27 1042\n",
      "[3.53 epo]: COLA:[train/loss=1.65e-01, COLA_valid/accuracy=8.20e-01, COLA_valid/matthews_corr=5.55e-01] COLA:ends_with_question:[train/loss=2.93e-03, COLA_valid/accuracy=4.07e-01, COLA_valid/matthews_corr=-2.19e-01] model:[train/loss=1.64e-01, train/lr=5.00e-05, valid/glue=5.55e-01]\n",
      "[3.58 epo]: COLA:[train/loss=1.45e-01] COLA:ends_with_question:[train/loss=1.76e-03] model:[train/loss=1.44e-01, train/lr=5.00e-05]\n",
      "1042 1042\n",
      "27 1042\n",
      "[3.63 epo]: COLA:[train/loss=2.03e-01, COLA_valid/accuracy=8.21e-01, COLA_valid/matthews_corr=5.62e-01] COLA:ends_with_question:[train/loss=2.62e-03, COLA_valid/accuracy=4.07e-01, COLA_valid/matthews_corr=-2.19e-01] model:[train/loss=2.03e-01, train/lr=5.00e-05, valid/glue=5.62e-01]\n",
      "[3.68 epo]: COLA:[train/loss=1.48e-01] COLA:ends_with_question:[train/loss=1.73e-03] model:[train/loss=1.47e-01, train/lr=5.00e-05]\n",
      "1042 1042\n",
      "27 1042\n",
      "[3.73 epo]: COLA:[train/loss=1.93e-01, COLA_valid/accuracy=8.29e-01, COLA_valid/matthews_corr=5.81e-01] COLA:ends_with_question:[train/loss=1.27e-03, COLA_valid/accuracy=4.44e-01, COLA_valid/matthews_corr=0.00e+00] model:[train/loss=1.92e-01, train/lr=5.00e-05, valid/glue=5.81e-01]\n",
      "[3.79 epo]: COLA:[train/loss=2.00e-01] COLA:ends_with_question:[train/loss=2.47e-03] model:[train/loss=1.99e-01, train/lr=5.00e-05]\n",
      "1042 1042\n",
      "27 1042\n",
      "[3.84 epo]: COLA:[train/loss=1.38e-01, COLA_valid/accuracy=8.24e-01, COLA_valid/matthews_corr=5.70e-01] COLA:ends_with_question:[train/loss=4.48e-03, COLA_valid/accuracy=4.07e-01, COLA_valid/matthews_corr=-2.19e-01] model:[train/loss=1.37e-01, train/lr=5.00e-05, valid/glue=5.70e-01]\n",
      "[3.89 epo]: COLA:[train/loss=2.00e-01] COLA:ends_with_question:[train/loss=4.48e-03] model:[train/loss=2.00e-01, train/lr=5.00e-05]\n",
      "1042 1042\n",
      "27 1042\n",
      "[3.94 epo]: COLA:[train/loss=2.32e-01, COLA_valid/accuracy=8.15e-01, COLA_valid/matthews_corr=5.43e-01] COLA:ends_with_question:[train/loss=1.72e-03, COLA_valid/accuracy=4.07e-01, COLA_valid/matthews_corr=-2.19e-01] model:[train/loss=2.30e-01, train/lr=5.00e-05, valid/glue=5.43e-01]\n",
      "[3.99 epo]: COLA:[train/loss=1.54e-01] COLA:ends_with_question:[train/loss=1.45e-03] model:[train/loss=1.54e-01, train/lr=5.00e-05]\n",
      "\n"
     ]
    },
    {
     "data": {
      "application/vnd.jupyter.widget-view+json": {
       "model_id": "4b010ad336004775b9a7e957d849045d",
       "version_major": 2,
       "version_minor": 0
      },
      "text/plain": [
       "HBox(children=(IntProgress(value=0, max=535), HTML(value='')))"
      ]
     },
     "metadata": {},
     "output_type": "display_data"
    },
    {
     "name": "stdout",
     "output_type": "stream",
     "text": [
      "1042 1042\n",
      "27 1042\n",
      "[4.04 epo]: COLA:[train/loss=1.25e-01, COLA_valid/accuracy=8.18e-01, COLA_valid/matthews_corr=5.50e-01] COLA:ends_with_question:[train/loss=2.18e-03, COLA_valid/accuracy=4.07e-01, COLA_valid/matthews_corr=-2.19e-01] model:[train/loss=1.25e-01, train/lr=5.00e-05, valid/glue=5.50e-01]\n",
      "[4.09 epo]: COLA:[train/loss=9.65e-02] COLA:ends_with_question:[train/loss=9.86e-04] model:[train/loss=9.63e-02, train/lr=5.00e-05]\n",
      "1042 1042\n",
      "27 1042\n",
      "[4.14 epo]: COLA:[train/loss=1.34e-01, COLA_valid/accuracy=8.18e-01, COLA_valid/matthews_corr=5.49e-01] COLA:ends_with_question:[train/loss=1.48e-03, COLA_valid/accuracy=4.44e-01, COLA_valid/matthews_corr=0.00e+00] model:[train/loss=1.33e-01, train/lr=5.00e-05, valid/glue=5.49e-01]\n",
      "[4.19 epo]: COLA:[train/loss=8.67e-02] COLA:ends_with_question:[train/loss=1.48e-03] model:[train/loss=8.67e-02, train/lr=5.00e-05]\n",
      "1042 1042\n",
      "27 1042\n",
      "[4.24 epo]: COLA:[train/loss=9.83e-02, COLA_valid/accuracy=8.18e-01, COLA_valid/matthews_corr=5.49e-01] COLA:ends_with_question:[train/loss=1.25e-03, COLA_valid/accuracy=4.07e-01, COLA_valid/matthews_corr=-2.19e-01] model:[train/loss=9.78e-02, train/lr=5.00e-05, valid/glue=5.49e-01]\n",
      "[4.29 epo]: COLA:[train/loss=1.04e-01] COLA:ends_with_question:[train/loss=1.28e-03] model:[train/loss=1.04e-01, train/lr=5.00e-05]\n",
      "1042 1042\n",
      "27 1042\n",
      "[4.34 epo]: COLA:[train/loss=1.00e-01, COLA_valid/accuracy=8.24e-01, COLA_valid/matthews_corr=5.68e-01] COLA:ends_with_question:[train/loss=1.83e-03, COLA_valid/accuracy=4.07e-01, COLA_valid/matthews_corr=-2.19e-01] model:[train/loss=9.95e-02, train/lr=5.00e-05, valid/glue=5.68e-01]\n",
      "[4.39 epo]: COLA:[train/loss=1.36e-01] COLA:ends_with_question:[train/loss=1.39e-03] model:[train/loss=1.36e-01, train/lr=5.00e-05]\n",
      "1042 1042\n",
      "27 1042\n",
      "[4.44 epo]: COLA:[train/loss=1.54e-01, COLA_valid/accuracy=8.30e-01, COLA_valid/matthews_corr=5.84e-01] COLA:ends_with_question:[train/loss=1.08e-03, COLA_valid/accuracy=4.07e-01, COLA_valid/matthews_corr=-2.19e-01] model:[train/loss=1.54e-01, train/lr=5.00e-05, valid/glue=5.84e-01]\n",
      "[4.49 epo]: COLA:[train/loss=1.15e-01] COLA:ends_with_question:[train/loss=7.11e-04] model:[train/loss=1.15e-01, train/lr=5.00e-05]\n",
      "1042 1042\n",
      "27 1042\n",
      "[4.54 epo]: COLA:[train/loss=9.72e-02, COLA_valid/accuracy=8.29e-01, COLA_valid/matthews_corr=5.80e-01] COLA:ends_with_question:[train/loss=7.11e-04, COLA_valid/accuracy=4.07e-01, COLA_valid/matthews_corr=-2.19e-01] model:[train/loss=9.72e-02, train/lr=5.00e-05, valid/glue=5.80e-01]\n",
      "[4.59 epo]: COLA:[train/loss=1.11e-01] COLA:ends_with_question:[train/loss=1.13e-03] model:[train/loss=1.11e-01, train/lr=5.00e-05]\n",
      "1042 1042\n",
      "27 1042\n",
      "[4.64 epo]: COLA:[train/loss=1.35e-01, COLA_valid/accuracy=8.31e-01, COLA_valid/matthews_corr=5.88e-01] COLA:ends_with_question:[train/loss=1.77e+00, COLA_valid/accuracy=4.07e-01, COLA_valid/matthews_corr=-2.19e-01] model:[train/loss=1.43e-01, train/lr=5.00e-05, valid/glue=5.88e-01]\n",
      "[4.69 epo]: COLA:[train/loss=1.28e-01] COLA:ends_with_question:[train/loss=1.47e-03] model:[train/loss=1.28e-01, train/lr=5.00e-05]\n",
      "1042 1042\n",
      "27 1042\n",
      "[4.74 epo]: COLA:[train/loss=1.06e-01, COLA_valid/accuracy=8.37e-01, COLA_valid/matthews_corr=6.08e-01] COLA:ends_with_question:[train/loss=1.06e-03, COLA_valid/accuracy=4.07e-01, COLA_valid/matthews_corr=-2.19e-01] model:[train/loss=1.06e-01, train/lr=5.00e-05, valid/glue=6.08e-01]\n",
      "[4.79 epo]: COLA:[train/loss=1.47e-01] COLA:ends_with_question:[train/loss=2.54e+00] model:[train/loss=1.59e-01, train/lr=5.00e-05]\n",
      "1042 1042\n",
      "27 1042\n",
      "[4.84 epo]: COLA:[train/loss=1.55e-01, COLA_valid/accuracy=8.27e-01, COLA_valid/matthews_corr=5.79e-01] COLA:ends_with_question:[train/loss=8.99e-03, COLA_valid/accuracy=4.07e-01, COLA_valid/matthews_corr=-2.19e-01] model:[train/loss=1.54e-01, train/lr=5.00e-05, valid/glue=5.79e-01]\n",
      "[4.90 epo]: COLA:[train/loss=1.27e-01] COLA:ends_with_question:[train/loss=8.99e-03] model:[train/loss=1.27e-01, train/lr=5.00e-05]\n",
      "1042 1042\n",
      "27 1042\n",
      "[4.95 epo]: COLA:[train/loss=1.56e-01, COLA_valid/accuracy=8.25e-01, COLA_valid/matthews_corr=5.71e-01] COLA:ends_with_question:[train/loss=1.22e-03, COLA_valid/accuracy=4.44e-01, COLA_valid/matthews_corr=0.00e+00] model:[train/loss=1.55e-01, train/lr=5.00e-05, valid/glue=5.71e-01]\n",
      "[5.00 epo]: COLA:[train/loss=1.10e-01] COLA:ends_with_question:[train/loss=3.47e-03] model:[train/loss=1.09e-01, train/lr=5.00e-05]\n",
      "\n"
     ]
    },
    {
     "data": {
      "application/vnd.jupyter.widget-view+json": {
       "model_id": "1fb42eae98684723879db3baa8065f16",
       "version_major": 2,
       "version_minor": 0
      },
      "text/plain": [
       "HBox(children=(IntProgress(value=0, max=535), HTML(value='')))"
      ]
     },
     "metadata": {},
     "output_type": "display_data"
    },
    {
     "name": "stdout",
     "output_type": "stream",
     "text": [
      "1042 1042\n",
      "27 1042\n",
      "[5.05 epo]: COLA:[train/loss=6.37e-02, COLA_valid/accuracy=8.31e-01, COLA_valid/matthews_corr=5.86e-01] COLA:ends_with_question:[train/loss=3.47e-03, COLA_valid/accuracy=4.44e-01, COLA_valid/matthews_corr=0.00e+00] model:[train/loss=6.37e-02, train/lr=5.00e-05, valid/glue=5.86e-01]\n",
      "[5.10 epo]: COLA:[train/loss=1.30e-01] COLA:ends_with_question:[train/loss=1.23e-03] model:[train/loss=1.30e-01, train/lr=5.00e-05]\n",
      "1042 1042\n",
      "27 1042\n",
      "[5.15 epo]: COLA:[train/loss=6.27e-02, COLA_valid/accuracy=8.30e-01, COLA_valid/matthews_corr=5.83e-01] COLA:ends_with_question:[train/loss=3.95e-03, COLA_valid/accuracy=4.44e-01, COLA_valid/matthews_corr=0.00e+00] model:[train/loss=6.25e-02, train/lr=5.00e-05, valid/glue=5.83e-01]\n",
      "[5.20 epo]: COLA:[train/loss=1.04e-01] COLA:ends_with_question:[train/loss=5.98e-04] model:[train/loss=1.03e-01, train/lr=5.00e-05]\n",
      "1042 1042\n",
      "27 1042\n",
      "[5.25 epo]: COLA:[train/loss=6.74e-02, COLA_valid/accuracy=8.27e-01, COLA_valid/matthews_corr=5.79e-01] COLA:ends_with_question:[train/loss=6.99e-04, COLA_valid/accuracy=4.44e-01, COLA_valid/matthews_corr=0.00e+00] model:[train/loss=6.71e-02, train/lr=5.00e-05, valid/glue=5.79e-01]\n",
      "[5.30 epo]: COLA:[train/loss=1.12e-01] COLA:ends_with_question:[train/loss=6.47e-04] model:[train/loss=1.11e-01, train/lr=5.00e-05]\n",
      "1042 1042\n",
      "27 1042\n",
      "[5.35 epo]: COLA:[train/loss=1.17e-01, COLA_valid/accuracy=8.30e-01, COLA_valid/matthews_corr=5.86e-01] COLA:ends_with_question:[train/loss=6.47e-04, COLA_valid/accuracy=4.44e-01, COLA_valid/matthews_corr=0.00e+00] model:[train/loss=1.17e-01, train/lr=5.00e-05, valid/glue=5.86e-01]\n",
      "[5.40 epo]: COLA:[train/loss=9.36e-02] COLA:ends_with_question:[train/loss=1.27e-03] model:[train/loss=9.33e-02, train/lr=5.00e-05]\n",
      "1042 1042\n",
      "27 1042\n",
      "[5.45 epo]: COLA:[train/loss=6.59e-02, COLA_valid/accuracy=8.20e-01, COLA_valid/matthews_corr=5.55e-01] COLA:ends_with_question:[train/loss=1.11e-03, COLA_valid/accuracy=4.44e-01, COLA_valid/matthews_corr=0.00e+00] model:[train/loss=6.56e-02, train/lr=5.00e-05, valid/glue=5.55e-01]\n",
      "[5.50 epo]: COLA:[train/loss=1.28e-01] COLA:ends_with_question:[train/loss=6.25e-04] model:[train/loss=1.27e-01, train/lr=5.00e-05]\n",
      "1042 1042\n",
      "27 1042\n",
      "[5.55 epo]: COLA:[train/loss=1.25e-01, COLA_valid/accuracy=8.18e-01, COLA_valid/matthews_corr=5.50e-01] COLA:ends_with_question:[train/loss=5.59e-04, COLA_valid/accuracy=4.44e-01, COLA_valid/matthews_corr=0.00e+00] model:[train/loss=1.25e-01, train/lr=5.00e-05, valid/glue=5.50e-01]\n",
      "[5.60 epo]: COLA:[train/loss=1.59e-01] COLA:ends_with_question:[train/loss=8.58e-04] model:[train/loss=1.58e-01, train/lr=5.00e-05]\n",
      "1042 1042\n",
      "27 1042\n",
      "[5.65 epo]: COLA:[train/loss=4.31e-02, COLA_valid/accuracy=8.27e-01, COLA_valid/matthews_corr=5.78e-01] COLA:ends_with_question:[train/loss=7.35e-04, COLA_valid/accuracy=4.07e-01, COLA_valid/matthews_corr=-2.19e-01] model:[train/loss=4.27e-02, train/lr=5.00e-05, valid/glue=5.78e-01]\n",
      "[5.70 epo]: COLA:[train/loss=6.90e-02] COLA:ends_with_question:[train/loss=8.75e-04] model:[train/loss=6.89e-02, train/lr=5.00e-05]\n",
      "1042 1042\n",
      "27 1042\n",
      "[5.75 epo]: COLA:[train/loss=1.36e-01, COLA_valid/accuracy=8.28e-01, COLA_valid/matthews_corr=5.78e-01] COLA:ends_with_question:[train/loss=8.75e-04, COLA_valid/accuracy=4.44e-01, COLA_valid/matthews_corr=0.00e+00] model:[train/loss=1.36e-01, train/lr=5.00e-05, valid/glue=5.78e-01]\n",
      "[5.80 epo]: COLA:[train/loss=4.75e-02] COLA:ends_with_question:[train/loss=5.46e-04] model:[train/loss=4.74e-02, train/lr=5.00e-05]\n",
      "1042 1042\n",
      "27 1042\n",
      "[5.85 epo]: COLA:[train/loss=8.51e-02, COLA_valid/accuracy=8.31e-01, COLA_valid/matthews_corr=5.90e-01] COLA:ends_with_question:[train/loss=6.01e-04, COLA_valid/accuracy=4.07e-01, COLA_valid/matthews_corr=-2.19e-01] model:[train/loss=8.47e-02, train/lr=5.00e-05, valid/glue=5.90e-01]\n",
      "[5.90 epo]: COLA:[train/loss=1.10e-01] COLA:ends_with_question:[train/loss=6.01e-04] model:[train/loss=1.10e-01, train/lr=5.00e-05]\n",
      "1042 1042\n",
      "27 1042\n",
      "[5.96 epo]: COLA:[train/loss=1.39e-01, COLA_valid/accuracy=8.19e-01, COLA_valid/matthews_corr=5.52e-01] COLA:ends_with_question:[train/loss=1.96e-03, COLA_valid/accuracy=4.44e-01, COLA_valid/matthews_corr=0.00e+00] model:[train/loss=1.38e-01, train/lr=5.00e-05, valid/glue=5.52e-01]\n",
      "\n"
     ]
    },
    {
     "data": {
      "application/vnd.jupyter.widget-view+json": {
       "model_id": "c639b54028924b69893b9c3b3ce903fb",
       "version_major": 2,
       "version_minor": 0
      },
      "text/plain": [
       "HBox(children=(IntProgress(value=0, max=535), HTML(value='')))"
      ]
     },
     "metadata": {},
     "output_type": "display_data"
    },
    {
     "name": "stdout",
     "output_type": "stream",
     "text": [
      "[6.01 epo]: COLA:[train/loss=1.35e-01] COLA:ends_with_question:[train/loss=1.96e-03] model:[train/loss=1.35e-01, train/lr=5.00e-05]\n",
      "1042 1042\n",
      "27 1042\n",
      "[6.06 epo]: COLA:[train/loss=4.30e-02, COLA_valid/accuracy=8.20e-01, COLA_valid/matthews_corr=5.55e-01] COLA:ends_with_question:[train/loss=7.86e-04, COLA_valid/accuracy=4.44e-01, COLA_valid/matthews_corr=0.00e+00] model:[train/loss=4.28e-02, train/lr=5.00e-05, valid/glue=5.55e-01]\n",
      "[6.11 epo]: COLA:[train/loss=6.84e-02] COLA:ends_with_question:[train/loss=5.35e-04] model:[train/loss=6.80e-02, train/lr=5.00e-05]\n",
      "1042 1042\n",
      "27 1042\n",
      "[6.16 epo]: COLA:[train/loss=2.38e-02, COLA_valid/accuracy=8.25e-01, COLA_valid/matthews_corr=5.70e-01] COLA:ends_with_question:[train/loss=8.85e-04, COLA_valid/accuracy=4.44e-01, COLA_valid/matthews_corr=0.00e+00] model:[train/loss=2.38e-02, train/lr=5.00e-05, valid/glue=5.70e-01]\n",
      "[6.21 epo]: COLA:[train/loss=3.45e-02] COLA:ends_with_question:[train/loss=8.85e-04] model:[train/loss=3.45e-02, train/lr=5.00e-05]\n",
      "1042 1042\n",
      "27 1042\n",
      "[6.26 epo]: COLA:[train/loss=1.03e-01, COLA_valid/accuracy=8.30e-01, COLA_valid/matthews_corr=5.84e-01] COLA:ends_with_question:[train/loss=6.17e-04, COLA_valid/accuracy=4.44e-01, COLA_valid/matthews_corr=0.00e+00] model:[train/loss=1.02e-01, train/lr=5.00e-05, valid/glue=5.84e-01]\n",
      "[6.31 epo]: COLA:[train/loss=7.57e-02] COLA:ends_with_question:[train/loss=5.97e-04] model:[train/loss=7.55e-02, train/lr=5.00e-05]\n",
      "1042 1042\n",
      "27 1042\n",
      "[6.36 epo]: COLA:[train/loss=7.04e-02, COLA_valid/accuracy=8.28e-01, COLA_valid/matthews_corr=5.82e-01] COLA:ends_with_question:[train/loss=5.97e-04, COLA_valid/accuracy=4.07e-01, COLA_valid/matthews_corr=-2.19e-01] model:[train/loss=7.04e-02, train/lr=5.00e-05, valid/glue=5.82e-01]\n",
      "[6.41 epo]: COLA:[train/loss=9.23e-02] COLA:ends_with_question:[train/loss=4.44e-04] model:[train/loss=9.18e-02, train/lr=5.00e-05]\n",
      "1042 1042\n",
      "27 1042\n",
      "[6.46 epo]: COLA:[train/loss=3.18e-02, COLA_valid/accuracy=8.30e-01, COLA_valid/matthews_corr=5.86e-01] COLA:ends_with_question:[train/loss=4.28e-04, COLA_valid/accuracy=4.44e-01, COLA_valid/matthews_corr=0.00e+00] model:[train/loss=3.17e-02, train/lr=5.00e-05, valid/glue=5.86e-01]\n",
      "[6.51 epo]: COLA:[train/loss=9.49e-02] COLA:ends_with_question:[train/loss=4.28e-04] model:[train/loss=9.49e-02, train/lr=5.00e-05]\n",
      "1042 1042\n",
      "27 1042\n",
      "[6.56 epo]: COLA:[train/loss=8.10e-02, COLA_valid/accuracy=8.21e-01, COLA_valid/matthews_corr=5.63e-01] COLA:ends_with_question:[train/loss=5.71e-04, COLA_valid/accuracy=4.44e-01, COLA_valid/matthews_corr=0.00e+00] model:[train/loss=8.07e-02, train/lr=5.00e-05, valid/glue=5.63e-01]\n",
      "[6.61 epo]: COLA:[train/loss=9.30e-02] COLA:ends_with_question:[train/loss=5.71e-04] model:[train/loss=9.30e-02, train/lr=5.00e-05]\n",
      "1042 1042\n",
      "27 1042\n",
      "[6.66 epo]: COLA:[train/loss=1.24e-01, COLA_valid/accuracy=8.21e-01, COLA_valid/matthews_corr=5.62e-01] COLA:ends_with_question:[train/loss=9.51e-04, COLA_valid/accuracy=4.44e-01, COLA_valid/matthews_corr=0.00e+00] model:[train/loss=1.23e-01, train/lr=5.00e-05, valid/glue=5.62e-01]\n",
      "[6.71 epo]: COLA:[train/loss=5.89e-02] COLA:ends_with_question:[train/loss=2.90e-04] model:[train/loss=5.88e-02, train/lr=5.00e-05]\n"
     ]
    }
   ],
   "source": [
    "trainer.train_model(\n",
    "    model,\n",
    "    payloads,\n",
    "    checkpoint_metric=\"COLA/COLA_valid/matthews_corr\",\n",
    "    checkpoint_metric_mode=\"max\",\n",
    "    writer=\"tensorboard\",\n",
    "    optimizer=\"adamax\",\n",
    "    lr=5e-5,\n",
    "    log_every=0.05,\n",
    "    score_every=0.1,\n",
    "    n_epochs=8,\n",
    "    progress_bar=True\n",
    ")"
   ]
  },
  {
   "cell_type": "code",
   "execution_count": null,
   "metadata": {
    "scrolled": true
   },
   "outputs": [],
   "source": [
    "print(\"WE WIN!\")"
   ]
  }
 ],
 "metadata": {
  "kernelspec": {
   "display_name": "Python [conda env:metal] *",
   "language": "python",
   "name": "conda-env-metal-py"
  },
  "language_info": {
   "codemirror_mode": {
    "name": "ipython",
    "version": 3
   },
   "file_extension": ".py",
   "mimetype": "text/x-python",
   "name": "python",
   "nbconvert_exporter": "python",
   "pygments_lexer": "ipython3",
   "version": "3.6.7"
  }
 },
 "nbformat": 4,
 "nbformat_minor": 2
}
