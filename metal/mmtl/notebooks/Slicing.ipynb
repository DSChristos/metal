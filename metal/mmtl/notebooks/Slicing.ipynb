{
 "cells": [
  {
   "cell_type": "code",
   "execution_count": 3,
   "metadata": {
    "scrolled": true
   },
   "outputs": [
    {
     "name": "stdout",
     "output_type": "stream",
     "text": [
      "The autoreload extension is already loaded. To reload it, use:\n",
      "  %reload_ext autoreload\n"
     ]
    }
   ],
   "source": [
    "%load_ext autoreload\n",
    "%autoreload 2"
   ]
  },
  {
   "cell_type": "code",
   "execution_count": 4,
   "metadata": {
    "scrolled": true
   },
   "outputs": [],
   "source": [
    "task_names = [\n",
    "#     \"COLA\", \n",
    "#     \"SST2\",\n",
    "#     \"MNLI\",\n",
    "    \"RTE\",\n",
    "#     \"WNLI\",\n",
    "#     \"QQP\",\n",
    "#     \"MRPC\",\n",
    "#     \"STSB\",\n",
    "#     \"QNLI\",\n",
    "#     \"SPACY_POS\",\n",
    "#     \"SPACY_NER\",\n",
    "#     \"THIRD\",\n",
    "#     \"BLEU\",\n",
    "]\n"
   ]
  },
  {
   "cell_type": "code",
   "execution_count": 5,
   "metadata": {},
   "outputs": [],
   "source": [
    "SEED = 1"
   ]
  },
  {
   "cell_type": "markdown",
   "metadata": {},
   "source": [
    "## Load previously trained model\n",
    "Hint: make sure the `bert_model` is initialized correctly!"
   ]
  },
  {
   "cell_type": "code",
   "execution_count": 6,
   "metadata": {},
   "outputs": [],
   "source": [
    "task_kwargs = {\n",
    "    \"dl_kwargs\": {\"batch_size\": 8},\n",
    "#     freeze_bert=True,\n",
    "    \"bert_model\": 'bert-large-cased',\n",
    "    \"max_len\": 100   \n",
    "}"
   ]
  },
  {
   "cell_type": "code",
   "execution_count": 7,
   "metadata": {
    "scrolled": true
   },
   "outputs": [
    {
     "name": "stdout",
     "output_type": "stream",
     "text": [
      "Using random seed: 252412\n",
      "Loading RTE Dataset\n"
     ]
    },
    {
     "data": {
      "application/vnd.jupyter.widget-view+json": {
       "model_id": "ec26099291144f3c8d1018b1fe32f33f",
       "version_major": 2,
       "version_minor": 0
      },
      "text/plain": [
       "HBox(children=(IntProgress(value=0, max=2490), HTML(value='')))"
      ]
     },
     "metadata": {},
     "output_type": "display_data"
    },
    {
     "name": "stdout",
     "output_type": "stream",
     "text": [
      "\n"
     ]
    },
    {
     "data": {
      "application/vnd.jupyter.widget-view+json": {
       "model_id": "084824b184304bd3975fc53bda5366e6",
       "version_major": 2,
       "version_minor": 0
      },
      "text/plain": [
       "HBox(children=(IntProgress(value=0, max=277), HTML(value='')))"
      ]
     },
     "metadata": {},
     "output_type": "display_data"
    },
    {
     "name": "stdout",
     "output_type": "stream",
     "text": [
      "\n"
     ]
    },
    {
     "data": {
      "application/vnd.jupyter.widget-view+json": {
       "model_id": "180cd321d5c7405f9e7ab0864855776c",
       "version_major": 2,
       "version_minor": 0
      },
      "text/plain": [
       "HBox(children=(IntProgress(value=0, max=3000), HTML(value='')))"
      ]
     },
     "metadata": {},
     "output_type": "display_data"
    },
    {
     "name": "stdout",
     "output_type": "stream",
     "text": [
      "\n",
      "CPU times: user 27.3 s, sys: 9.06 s, total: 36.3 s\n",
      "Wall time: 31.1 s\n"
     ]
    }
   ],
   "source": [
    "%%time\n",
    "from metal.mmtl.glue.glue_tasks import create_tasks_and_payloads\n",
    "\n",
    "# Create tasks and payloads\n",
    "tasks, payloads = create_tasks_and_payloads(task_names, **task_kwargs)"
   ]
  },
  {
   "cell_type": "code",
   "execution_count": 8,
   "metadata": {},
   "outputs": [
    {
     "data": {
      "text/plain": [
       "([ClassificationTask(name=RTE, loss_multiplier=1.0)],\n",
       " [Payload(RTE_train: tasks=[RTE], split=train),\n",
       "  Payload(RTE_valid: tasks=[RTE], split=valid),\n",
       "  Payload(RTE_test: tasks=[RTE], split=test)])"
      ]
     },
     "execution_count": 8,
     "metadata": {},
     "output_type": "execute_result"
    }
   ],
   "source": [
    "tasks, payloads"
   ]
  },
  {
   "cell_type": "code",
   "execution_count": 11,
   "metadata": {},
   "outputs": [],
   "source": [
    "from metal.mmtl.metal_model import MetalModel\n",
    "\n",
    "model = MetalModel(tasks, seed=SEED, verbose=False)"
   ]
  },
  {
   "cell_type": "code",
   "execution_count": 12,
   "metadata": {},
   "outputs": [],
   "source": [
    "import os\n",
    "import torch\n",
    "model_dir = '/dfs/scratch0/chami/metal/logs/2019_03_17/RTE_23_22_34'\n",
    "model_path = os.path.join(model_dir, 'best_model.pth')\n",
    "device = torch.device(f\"cuda:0\")\n",
    "model.load_state_dict(torch.load(model_path, map_location=device)[\"model\"], strict=False)"
   ]
  },
  {
   "cell_type": "markdown",
   "metadata": {},
   "source": [
    "#### Sanity check that task head is trained!"
   ]
  },
  {
   "cell_type": "code",
   "execution_count": 13,
   "metadata": {},
   "outputs": [
    {
     "data": {
      "text/plain": [
       "{'RTE/RTE_valid/accuracy': 0.8483754512635379}"
      ]
     },
     "execution_count": 13,
     "metadata": {},
     "output_type": "execute_result"
    }
   ],
   "source": [
    "model.score(payloads[1])"
   ]
  },
  {
   "cell_type": "markdown",
   "metadata": {},
   "source": [
    "## Define slices for evaluation"
   ]
  },
  {
   "cell_type": "code",
   "execution_count": 14,
   "metadata": {
    "scrolled": true
   },
   "outputs": [
    {
     "name": "stdout",
     "output_type": "stream",
     "text": [
      "Using random seed: 128037\n",
      "Loading RTE Dataset\n"
     ]
    },
    {
     "data": {
      "application/vnd.jupyter.widget-view+json": {
       "model_id": "8b3cc81436ed48279726cf3d4e9f6ce4",
       "version_major": 2,
       "version_minor": 0
      },
      "text/plain": [
       "HBox(children=(IntProgress(value=0, max=2490), HTML(value='')))"
      ]
     },
     "metadata": {},
     "output_type": "display_data"
    },
    {
     "name": "stdout",
     "output_type": "stream",
     "text": [
      "\n"
     ]
    },
    {
     "data": {
      "application/vnd.jupyter.widget-view+json": {
       "model_id": "539de8805db94133910ea8ec3d330513",
       "version_major": 2,
       "version_minor": 0
      },
      "text/plain": [
       "HBox(children=(IntProgress(value=0, max=277), HTML(value='')))"
      ]
     },
     "metadata": {},
     "output_type": "display_data"
    },
    {
     "name": "stdout",
     "output_type": "stream",
     "text": [
      "\n"
     ]
    },
    {
     "data": {
      "application/vnd.jupyter.widget-view+json": {
       "model_id": "3b855fd3471e4fd8988bc569f6a58b9f",
       "version_major": 2,
       "version_minor": 0
      },
      "text/plain": [
       "HBox(children=(IntProgress(value=0, max=3000), HTML(value='')))"
      ]
     },
     "metadata": {},
     "output_type": "display_data"
    },
    {
     "name": "stdout",
     "output_type": "stream",
     "text": [
      "\n",
      "Added label_set with 2490 labels for task RTE:dash_semicolon to payload RTE_train.\n",
      "Added label_set with 2490 labels for task RTE:more_people to payload RTE_train.\n",
      "Added label_set with 277 labels for task RTE:dash_semicolon to payload RTE_valid.\n",
      "Added label_set with 277 labels for task RTE:more_people to payload RTE_valid.\n",
      "Added label_set with 3000 labels for task RTE:dash_semicolon to payload RTE_test.\n",
      "Added label_set with 3000 labels for task RTE:more_people to payload RTE_test.\n",
      "CPU times: user 20.6 s, sys: 2.48 s, total: 23.1 s\n",
      "Wall time: 24 s\n"
     ]
    }
   ],
   "source": [
    "%%time\n",
    "from metal.mmtl.glue.glue_tasks import create_tasks_and_payloads\n",
    "\n",
    "# define slices\n",
    "slice_dict = {  # A map of the slices that apply to each task\n",
    "#    \"COLA\": [\"ends_with_question_mark\"]\n",
    "    \"RTE\": [\"dash_semicolon\", \"more_people\"]\n",
    "}\n",
    "\n",
    "# Create tasks and payloads\n",
    "task_kwargs.update({\"slice_dict\": slice_dict})\n",
    "_, payloads_slice = create_tasks_and_payloads(\n",
    "    task_names, **task_kwargs\n",
    ")"
   ]
  },
  {
   "cell_type": "code",
   "execution_count": 15,
   "metadata": {},
   "outputs": [
    {
     "data": {
      "text/plain": [
       "[Payload(RTE_train: tasks=[RTE,RTE:dash_semicolon,RTE:more_people], split=train),\n",
       " Payload(RTE_valid: tasks=[RTE,RTE:dash_semicolon,RTE:more_people], split=valid),\n",
       " Payload(RTE_test: tasks=[RTE,RTE:dash_semicolon,RTE:more_people], split=test)]"
      ]
     },
     "execution_count": 15,
     "metadata": {},
     "output_type": "execute_result"
    }
   ],
   "source": [
    "payloads_slice"
   ]
  },
  {
   "cell_type": "markdown",
   "metadata": {},
   "source": [
    "#### Sanity check the number of examples in the train set"
   ]
  },
  {
   "cell_type": "code",
   "execution_count": 16,
   "metadata": {},
   "outputs": [],
   "source": [
    "import numpy as np\n",
    "def count_num_labels(labels):\n",
    "    return np.sum(np.array(labels) != 0)"
   ]
  },
  {
   "cell_type": "code",
   "execution_count": 17,
   "metadata": {},
   "outputs": [
    {
     "name": "stdout",
     "output_type": "stream",
     "text": [
      "RTE 2490\n",
      "RTE:dash_semicolon 945\n",
      "RTE:more_people 64\n"
     ]
    }
   ],
   "source": [
    "dataset = payloads_slice[0].data_loader.dataset\n",
    "for labelset_name, labels in dataset.labels.items():\n",
    "    print(labelset_name, count_num_labels(labels))"
   ]
  },
  {
   "cell_type": "markdown",
   "metadata": {},
   "source": [
    "### Evaluate baseline model on the slice of interest"
   ]
  },
  {
   "cell_type": "code",
   "execution_count": 18,
   "metadata": {},
   "outputs": [
    {
     "data": {
      "text/plain": [
       "{'RTE/RTE_valid/accuracy': 0.8483754512635379,\n",
       " 'RTE:dash_semicolon/RTE_valid/accuracy': 0.7962962962962963,\n",
       " 'RTE:more_people/RTE_valid/accuracy': 0.8333333333333334}"
      ]
     },
     "execution_count": 18,
     "metadata": {},
     "output_type": "execute_result"
    }
   ],
   "source": [
    "model.score(payloads_slice[1])"
   ]
  },
  {
   "cell_type": "markdown",
   "metadata": {},
   "source": [
    "## Finetune model on slice of interest"
   ]
  },
  {
   "cell_type": "code",
   "execution_count": 19,
   "metadata": {
    "scrolled": false
   },
   "outputs": [],
   "source": [
    "from metal.mmtl.metal_model import MetalModel\n",
    "\n",
    "from metal.mmtl.trainer import MultitaskTrainer\n",
    "trainer = MultitaskTrainer(seed=SEED)"
   ]
  },
  {
   "cell_type": "markdown",
   "metadata": {},
   "source": [
    "Uncomment below to only finetune on the slices, not the original task\n"
   ]
  },
  {
   "cell_type": "code",
   "execution_count": 20,
   "metadata": {},
   "outputs": [],
   "source": [
    "# # only finetune on the slices, not the original task\n",
    "# for p in payloads_slice:\n",
    "#     p.task_names.remove('COLA')\n",
    "# payloads_slice"
   ]
  },
  {
   "cell_type": "markdown",
   "metadata": {},
   "source": [
    "NOTE: We are training on a different set of payloads than we initialized the model with."
   ]
  },
  {
   "cell_type": "code",
   "execution_count": 21,
   "metadata": {
    "scrolled": true
   },
   "outputs": [
    {
     "name": "stdout",
     "output_type": "stream",
     "text": [
      "Beginning train loop.\n",
      "Expecting a total of approximately 2496 examples and 312 batches per epoch from 1 payload(s) in the train split.\n",
      "Writing config to /dfs/scratch0/mccreery/repos/metal/logs/2019_03_21/17_38_59/config.json\n"
     ]
    },
    {
     "name": "stderr",
     "output_type": "stream",
     "text": [
      "/dfs/scratch0/mccreery/repos/metal/metal/mmtl/trainer.py:579: UserWarning: checkpoint_tasks setting does not have the same thorough error checking that the normal checkpoint operation has, so you may accidentally be trying to checkpoint metrics that aren't going to be found in the metrics_dict if you're not careful.\n",
      "  warnings.warn(msg)\n"
     ]
    },
    {
     "data": {
      "application/vnd.jupyter.widget-view+json": {
       "model_id": "8bd37ae1c2574131af5795f9e434f9db",
       "version_major": 2,
       "version_minor": 0
      },
      "text/plain": [
       "HBox(children=(IntProgress(value=0, max=312), HTML(value='')))"
      ]
     },
     "metadata": {},
     "output_type": "display_data"
    },
    {
     "name": "stderr",
     "output_type": "stream",
     "text": [
      "/dfs/scratch0/mccreery/repos/metal/metal/mmtl/trainer.py:490: UserWarning: You requested glue score but have fewer than 9 tasks. Be aware.\n",
      "  warnings.warn(msg)\n"
     ]
    },
    {
     "name": "stdout",
     "output_type": "stream",
     "text": [
      "[0.10 epo]: RTE:[train/loss=3.93e-01, RTE_valid/accuracy=8.19e-01] RTE:dash_semicolon:[train/loss=3.54e-01, RTE_valid/accuracy=7.59e-01] RTE:more_people:[train/loss=1.07e+00, RTE_valid/accuracy=6.67e-01] model:[train/loss=3.95e-01, train/lr=5.00e-05, valid/glue=8.19e-01]\n",
      "Saving model at iteration 0.10 with best (max) score RTE/RTE_valid/accuracy=0.819\n",
      "Saving model at iteration 0.10 with best (max) score RTE:dash_semicolon/RTE_valid/accuracy=0.759\n",
      "Saving model at iteration 0.10 with best (max) score RTE:more_people/RTE_valid/accuracy=0.667\n",
      "[0.21 epo]: RTE:[train/loss=3.78e-01, RTE_valid/accuracy=8.23e-01] RTE:dash_semicolon:[train/loss=3.65e-01, RTE_valid/accuracy=7.59e-01] RTE:more_people:[train/loss=4.78e-01, RTE_valid/accuracy=8.33e-01] model:[train/loss=3.78e-01, train/lr=5.00e-05, valid/glue=8.23e-01]\n",
      "Saving model at iteration 0.21 with best (max) score RTE/RTE_valid/accuracy=0.823\n",
      "Saving model at iteration 0.21 with best (max) score RTE:more_people/RTE_valid/accuracy=0.833\n",
      "[0.31 epo]: RTE:[train/loss=3.72e-01, RTE_valid/accuracy=8.34e-01] RTE:dash_semicolon:[train/loss=3.56e-01, RTE_valid/accuracy=7.87e-01] RTE:more_people:[train/loss=1.36e+00, RTE_valid/accuracy=8.33e-01] model:[train/loss=3.82e-01, train/lr=5.00e-05, valid/glue=8.34e-01]\n",
      "Saving model at iteration 0.31 with best (max) score RTE/RTE_valid/accuracy=0.834\n",
      "Saving model at iteration 0.31 with best (max) score RTE:dash_semicolon/RTE_valid/accuracy=0.787\n",
      "[0.41 epo]: RTE:[train/loss=3.68e-01, RTE_valid/accuracy=8.38e-01] RTE:dash_semicolon:[train/loss=4.26e-01, RTE_valid/accuracy=7.78e-01] RTE:more_people:[train/loss=1.01e+00, RTE_valid/accuracy=8.33e-01] model:[train/loss=3.98e-01, train/lr=5.00e-05, valid/glue=8.38e-01]\n",
      "Saving model at iteration 0.41 with best (max) score RTE/RTE_valid/accuracy=0.838\n",
      "[0.51 epo]: RTE:[train/loss=4.10e-01, RTE_valid/accuracy=8.38e-01] RTE:dash_semicolon:[train/loss=3.76e-01, RTE_valid/accuracy=7.69e-01] RTE:more_people:[train/loss=1.56e+00, RTE_valid/accuracy=8.33e-01] model:[train/loss=4.26e-01, train/lr=5.00e-05, valid/glue=8.38e-01]\n",
      "[0.62 epo]: RTE:[train/loss=3.72e-01, RTE_valid/accuracy=8.34e-01] RTE:dash_semicolon:[train/loss=2.23e-01, RTE_valid/accuracy=7.69e-01] RTE:more_people:[train/loss=3.89e-01, RTE_valid/accuracy=7.50e-01] model:[train/loss=3.34e-01, train/lr=5.00e-05, valid/glue=8.34e-01]\n",
      "[0.72 epo]: RTE:[train/loss=3.37e-01, RTE_valid/accuracy=8.27e-01] RTE:dash_semicolon:[train/loss=4.50e-01, RTE_valid/accuracy=7.78e-01] RTE:more_people:[train/loss=7.08e-01, RTE_valid/accuracy=8.33e-01] model:[train/loss=3.76e-01, train/lr=5.00e-05, valid/glue=8.27e-01]\n",
      "[0.82 epo]: RTE:[train/loss=4.09e-01, RTE_valid/accuracy=8.19e-01] RTE:dash_semicolon:[train/loss=4.08e-01, RTE_valid/accuracy=7.41e-01] RTE:more_people:[train/loss=1.20e-02, RTE_valid/accuracy=8.33e-01] model:[train/loss=4.05e-01, train/lr=5.00e-05, valid/glue=8.19e-01]\n",
      "[0.92 epo]: RTE:[train/loss=4.19e-01, RTE_valid/accuracy=8.30e-01] RTE:dash_semicolon:[train/loss=5.12e-01, RTE_valid/accuracy=7.50e-01] RTE:more_people:[train/loss=1.46e+00, RTE_valid/accuracy=8.33e-01] model:[train/loss=4.52e-01, train/lr=5.00e-05, valid/glue=8.30e-01]\n",
      "\n"
     ]
    },
    {
     "data": {
      "application/vnd.jupyter.widget-view+json": {
       "model_id": "8d39ae923f104fbb9eb4c5011861a319",
       "version_major": 2,
       "version_minor": 0
      },
      "text/plain": [
       "HBox(children=(IntProgress(value=0, max=312), HTML(value='')))"
      ]
     },
     "metadata": {},
     "output_type": "display_data"
    },
    {
     "name": "stdout",
     "output_type": "stream",
     "text": [
      "[1.03 epo]: RTE:[train/loss=3.22e-01, RTE_valid/accuracy=8.23e-01] RTE:dash_semicolon:[train/loss=2.47e-01, RTE_valid/accuracy=7.59e-01] RTE:more_people:[train/loss=1.29e-02, RTE_valid/accuracy=7.50e-01] model:[train/loss=2.95e-01, train/lr=5.00e-05, valid/glue=8.23e-01]\n",
      "[1.13 epo]: RTE:[train/loss=2.18e-01, RTE_valid/accuracy=8.41e-01] RTE:dash_semicolon:[train/loss=1.04e-01, RTE_valid/accuracy=7.87e-01] RTE:more_people:[train/loss=1.38e+00, RTE_valid/accuracy=9.17e-01] model:[train/loss=2.01e-01, train/lr=5.00e-05, valid/glue=8.41e-01]\n",
      "Saving model at iteration 1.13 with best (max) score RTE/RTE_valid/accuracy=0.841\n",
      "Saving model at iteration 1.13 with best (max) score RTE:more_people/RTE_valid/accuracy=0.917\n",
      "[1.23 epo]: RTE:[train/loss=2.27e-01, RTE_valid/accuracy=8.12e-01] RTE:dash_semicolon:[train/loss=1.59e-01, RTE_valid/accuracy=7.50e-01] RTE:more_people:[train/loss=2.30e-03, RTE_valid/accuracy=9.17e-01] model:[train/loss=2.05e-01, train/lr=5.00e-05, valid/glue=8.12e-01]\n",
      "[1.33 epo]: RTE:[train/loss=2.15e-01, RTE_valid/accuracy=8.09e-01] RTE:dash_semicolon:[train/loss=6.63e-02, RTE_valid/accuracy=7.50e-01] RTE:more_people:[train/loss=2.96e-01, RTE_valid/accuracy=8.33e-01] model:[train/loss=1.77e-01, train/lr=5.00e-05, valid/glue=8.09e-01]\n",
      "[1.44 epo]: RTE:[train/loss=3.94e-01, RTE_valid/accuracy=8.48e-01] RTE:dash_semicolon:[train/loss=3.72e-01, RTE_valid/accuracy=7.87e-01] RTE:more_people:[train/loss=2.49e-03, RTE_valid/accuracy=8.33e-01] model:[train/loss=3.79e-01, train/lr=5.00e-05, valid/glue=8.48e-01]\n",
      "Saving model at iteration 1.44 with best (max) score RTE/RTE_valid/accuracy=0.848\n",
      "[1.54 epo]: RTE:[train/loss=4.21e-01, RTE_valid/accuracy=8.41e-01] RTE:dash_semicolon:[train/loss=3.88e-01, RTE_valid/accuracy=7.78e-01] RTE:more_people:[train/loss=1.97e+00, RTE_valid/accuracy=7.50e-01] model:[train/loss=4.26e-01, train/lr=5.00e-05, valid/glue=8.41e-01]\n",
      "[1.64 epo]: RTE:[train/loss=3.89e-01, RTE_valid/accuracy=8.19e-01] RTE:dash_semicolon:[train/loss=3.79e-01, RTE_valid/accuracy=7.69e-01] RTE:more_people:[train/loss=1.02e-02, RTE_valid/accuracy=8.33e-01] model:[train/loss=3.84e-01, train/lr=5.00e-05, valid/glue=8.19e-01]\n",
      "[1.74 epo]: RTE:[train/loss=4.26e-01, RTE_valid/accuracy=8.30e-01] RTE:dash_semicolon:[train/loss=4.74e-01, RTE_valid/accuracy=7.78e-01] RTE:more_people:[train/loss=1.19e+00, RTE_valid/accuracy=7.50e-01] model:[train/loss=4.54e-01, train/lr=5.00e-05, valid/glue=8.30e-01]\n",
      "[1.85 epo]: RTE:[train/loss=4.79e-01, RTE_valid/accuracy=8.23e-01] RTE:dash_semicolon:[train/loss=5.64e-01, RTE_valid/accuracy=7.69e-01] RTE:more_people:[train/loss=5.25e-01, RTE_valid/accuracy=7.50e-01] model:[train/loss=5.04e-01, train/lr=5.00e-05, valid/glue=8.23e-01]\n",
      "[1.95 epo]: RTE:[train/loss=3.07e-01, RTE_valid/accuracy=8.09e-01] RTE:dash_semicolon:[train/loss=1.84e-01, RTE_valid/accuracy=7.59e-01] RTE:more_people:[train/loss=1.56e+00, RTE_valid/accuracy=7.50e-01] model:[train/loss=3.01e-01, train/lr=5.00e-05, valid/glue=8.09e-01]\n",
      "\n"
     ]
    },
    {
     "data": {
      "application/vnd.jupyter.widget-view+json": {
       "model_id": "d62c19fe6de64a9bb84b566c9006b531",
       "version_major": 2,
       "version_minor": 0
      },
      "text/plain": [
       "HBox(children=(IntProgress(value=0, max=312), HTML(value='')))"
      ]
     },
     "metadata": {},
     "output_type": "display_data"
    },
    {
     "name": "stdout",
     "output_type": "stream",
     "text": [
      "[2.05 epo]: RTE:[train/loss=3.99e-01, RTE_valid/accuracy=7.94e-01] RTE:dash_semicolon:[train/loss=3.10e-01, RTE_valid/accuracy=7.13e-01] RTE:more_people:[train/loss=1.82e-02, RTE_valid/accuracy=7.50e-01] model:[train/loss=3.74e-01, train/lr=5.00e-05, valid/glue=7.94e-01]\n",
      "[2.15 epo]: RTE:[train/loss=2.35e-01, RTE_valid/accuracy=8.19e-01] RTE:dash_semicolon:[train/loss=9.41e-02, RTE_valid/accuracy=7.87e-01] RTE:more_people:[train/loss=2.23e-02, RTE_valid/accuracy=8.33e-01] model:[train/loss=1.92e-01, train/lr=5.00e-05, valid/glue=8.19e-01]\n",
      "[2.26 epo]: RTE:[train/loss=2.32e-01, RTE_valid/accuracy=8.12e-01] RTE:dash_semicolon:[train/loss=1.14e-01, RTE_valid/accuracy=7.78e-01] RTE:more_people:[train/loss=1.28e+00, RTE_valid/accuracy=8.33e-01] model:[train/loss=2.13e-01, train/lr=5.00e-05, valid/glue=8.12e-01]\n",
      "[2.36 epo]: RTE:[train/loss=4.24e-01, RTE_valid/accuracy=7.98e-01] RTE:dash_semicolon:[train/loss=2.84e-01, RTE_valid/accuracy=7.41e-01] RTE:more_people:[train/loss=3.60e-03, RTE_valid/accuracy=7.50e-01] model:[train/loss=3.84e-01, train/lr=5.00e-05, valid/glue=7.98e-01]\n",
      "[2.46 epo]: RTE:[train/loss=3.64e-01, RTE_valid/accuracy=8.05e-01] RTE:dash_semicolon:[train/loss=1.79e-01, RTE_valid/accuracy=7.41e-01] RTE:more_people:[train/loss=1.09e+00, RTE_valid/accuracy=7.50e-01] model:[train/loss=3.38e-01, train/lr=5.00e-05, valid/glue=8.05e-01]\n",
      "[2.56 epo]: RTE:[train/loss=3.99e-01, RTE_valid/accuracy=8.16e-01] RTE:dash_semicolon:[train/loss=3.76e-01, RTE_valid/accuracy=7.41e-01] RTE:more_people:[train/loss=1.14e+00, RTE_valid/accuracy=7.50e-01] model:[train/loss=4.13e-01, train/lr=5.00e-05, valid/glue=8.16e-01]\n",
      "[2.67 epo]: RTE:[train/loss=3.71e-01, RTE_valid/accuracy=8.09e-01] RTE:dash_semicolon:[train/loss=3.15e-01, RTE_valid/accuracy=7.31e-01] RTE:more_people:[train/loss=5.80e-03, RTE_valid/accuracy=7.50e-01] model:[train/loss=3.51e-01, train/lr=5.00e-05, valid/glue=8.09e-01]\n",
      "[2.77 epo]: RTE:[train/loss=4.32e-01, RTE_valid/accuracy=8.01e-01] RTE:dash_semicolon:[train/loss=5.25e-01, RTE_valid/accuracy=7.41e-01] RTE:more_people:[train/loss=4.72e-01, RTE_valid/accuracy=7.50e-01] model:[train/loss=4.60e-01, train/lr=5.00e-05, valid/glue=8.01e-01]\n",
      "[2.87 epo]: RTE:[train/loss=3.56e-01, RTE_valid/accuracy=7.98e-01] RTE:dash_semicolon:[train/loss=3.60e-01, RTE_valid/accuracy=7.50e-01] RTE:more_people:[train/loss=4.98e-02, RTE_valid/accuracy=7.50e-01] model:[train/loss=3.52e-01, train/lr=5.00e-05, valid/glue=7.98e-01]\n",
      "[2.97 epo]: RTE:[train/loss=4.92e-01, RTE_valid/accuracy=8.12e-01] RTE:dash_semicolon:[train/loss=3.33e-01, RTE_valid/accuracy=7.59e-01] RTE:more_people:[train/loss=5.47e-01, RTE_valid/accuracy=6.67e-01] model:[train/loss=4.53e-01, train/lr=5.00e-05, valid/glue=8.12e-01]\n",
      "\n",
      "Finished training\n",
      "{'RTE/RTE_test/accuracy': 0.0,\n",
      " 'RTE/RTE_train/accuracy': 0.9558232931726908,\n",
      " 'RTE/RTE_valid/accuracy': 0.7870036101083032,\n",
      " 'RTE:dash_semicolon/RTE_test/accuracy': 0.0,\n",
      " 'RTE:dash_semicolon/RTE_train/accuracy': 0.9597883597883597,\n",
      " 'RTE:dash_semicolon/RTE_valid/accuracy': 0.7407407407407407,\n",
      " 'RTE:more_people/RTE_test/accuracy': 0.0,\n",
      " 'RTE:more_people/RTE_train/accuracy': 0.921875,\n",
      " 'RTE:more_people/RTE_valid/accuracy': 0.6666666666666666,\n",
      " 'model/None/glue': 0.7870036101083032}\n",
      "Restoring best model from iteration 1.44 with score 0.848\n",
      "Restoring best model from iteration 0.31 with score 0.787\n",
      "Restoring best model from iteration 1.13 with score 0.917\n",
      "Final scores using task-specific checkpoints:\n",
      "{'RTE/RTE_test/accuracy': 0.0,\n",
      " 'RTE/RTE_train/accuracy': 0.9558232931726908,\n",
      " 'RTE/RTE_valid/accuracy': 0.7870036101083032,\n",
      " 'RTE:dash_semicolon/RTE_test/accuracy': 0.0,\n",
      " 'RTE:dash_semicolon/RTE_train/accuracy': 0.9597883597883597,\n",
      " 'RTE:dash_semicolon/RTE_valid/accuracy': 0.7407407407407407,\n",
      " 'RTE:more_people/RTE_test/accuracy': 0.0,\n",
      " 'RTE:more_people/RTE_train/accuracy': 0.921875,\n",
      " 'RTE:more_people/RTE_valid/accuracy': 0.6666666666666666,\n",
      " 'model/None/glue': 0.7870036101083032}\n",
      "Writing metrics to /dfs/scratch0/mccreery/repos/metal/logs/2019_03_21/17_38_59/metrics.json\n",
      "Writing log to /dfs/scratch0/mccreery/repos/metal/logs/2019_03_21/17_38_59/log.json\n",
      "Full model saved at /dfs/scratch0/mccreery/repos/metal/logs/2019_03_21/17_38_59/model.pkl\n"
     ]
    }
   ],
   "source": [
    "trainer.train_model(\n",
    "    model,\n",
    "    payloads_slice,\n",
    "    checkpoint_metric=\"RTE/RTE_valid/accuracy\",\n",
    "    checkpoint_metric_mode=\"max\",\n",
    "    checkoint_best=True,\n",
    "    writer=\"tensorboard\",\n",
    "    optimizer=\"adamax\",\n",
    "    lr=5e-5,\n",
    "    l2=1e-3,\n",
    "    log_every=0.1, \n",
    "    score_every=0.1,\n",
    "    n_epochs=3,\n",
    "    progress_bar=True,\n",
    "    checkpoint_tasks=True,\n",
    "    checkpoint_cleanup=False\n",
    ")"
   ]
  },
  {
   "cell_type": "markdown",
   "metadata": {},
   "source": [
    "#### Did we improve?"
   ]
  },
  {
   "cell_type": "markdown",
   "metadata": {},
   "source": [
    "TODO: The final metrics score printed above may be inaccurate... \n",
    "\n",
    "Better way to evaluate is by re-evaluating on the checkpoint with the best weights."
   ]
  },
  {
   "cell_type": "code",
   "execution_count": 22,
   "metadata": {
    "scrolled": true
   },
   "outputs": [
    {
     "data": {
      "text/plain": [
       "{'RTE/RTE_valid/accuracy': 0.8411552346570397,\n",
       " 'RTE:dash_semicolon/RTE_valid/accuracy': 0.7870370370370371,\n",
       " 'RTE:more_people/RTE_valid/accuracy': 0.9166666666666666}"
      ]
     },
     "execution_count": 22,
     "metadata": {},
     "output_type": "execute_result"
    }
   ],
   "source": [
    "from metal.mmtl.metal_model import MetalModel\n",
    "model.score(payloads_slice[1])"
   ]
  },
  {
   "cell_type": "code",
   "execution_count": null,
   "metadata": {},
   "outputs": [],
   "source": []
  }
 ],
 "metadata": {
  "kernelspec": {
   "display_name": "Python 3",
   "language": "python",
   "name": "python3"
  },
  "language_info": {
   "codemirror_mode": {
    "name": "ipython",
    "version": 3
   },
   "file_extension": ".py",
   "mimetype": "text/x-python",
   "name": "python",
   "nbconvert_exporter": "python",
   "pygments_lexer": "ipython3",
   "version": "3.6.7"
  }
 },
 "nbformat": 4,
 "nbformat_minor": 2
}
