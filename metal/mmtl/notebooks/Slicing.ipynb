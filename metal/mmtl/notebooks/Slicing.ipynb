{
 "cells": [
  {
   "cell_type": "code",
   "execution_count": 1,
   "metadata": {
    "scrolled": true
   },
   "outputs": [],
   "source": [
    "%load_ext autoreload\n",
    "%autoreload 2"
   ]
  },
  {
   "cell_type": "code",
   "execution_count": 2,
   "metadata": {
    "scrolled": true
   },
   "outputs": [],
   "source": [
    "task_names = [\n",
    "    \"COLA\", \n",
    "#     \"SST2\", \n",
    "#     \"MNLI\",\n",
    "#     \"RTE\",\n",
    "#     \"WNLI\",\n",
    "#     \"QQP\",\n",
    "#     \"MRPC\",\n",
    "#     \"STSB\",\n",
    "#     \"QNLI\",\n",
    "#     \"SPACY_POS\",\n",
    "#     \"SPACY_NER\",\n",
    "#     \"THIRD\",\n",
    "#     \"BLEU\",\n",
    "]\n",
    "\n",
    "FILENAME = \"COLA_tasks_and_payloads\""
   ]
  },
  {
   "cell_type": "code",
   "execution_count": 3,
   "metadata": {},
   "outputs": [],
   "source": [
    "SEED = 1"
   ]
  },
  {
   "cell_type": "markdown",
   "metadata": {},
   "source": [
    "## Baseline: Train COLA Task"
   ]
  },
  {
   "cell_type": "code",
   "execution_count": 4,
   "metadata": {},
   "outputs": [
    {
     "name": "stdout",
     "output_type": "stream",
     "text": [
      "Using random seed: 420412\n",
      "Loading COLA Dataset\n"
     ]
    },
    {
     "data": {
      "application/vnd.jupyter.widget-view+json": {
       "model_id": "5c26234c0f9745df98b88ea4b1d791d7",
       "version_major": 2,
       "version_minor": 0
      },
      "text/plain": [
       "HBox(children=(IntProgress(value=0, max=8550), HTML(value='')))"
      ]
     },
     "metadata": {},
     "output_type": "display_data"
    },
    {
     "name": "stdout",
     "output_type": "stream",
     "text": [
      "\n"
     ]
    },
    {
     "data": {
      "application/vnd.jupyter.widget-view+json": {
       "model_id": "46533042a1644374814e0e688c490b45",
       "version_major": 2,
       "version_minor": 0
      },
      "text/plain": [
       "HBox(children=(IntProgress(value=0, max=1042), HTML(value='')))"
      ]
     },
     "metadata": {},
     "output_type": "display_data"
    },
    {
     "name": "stdout",
     "output_type": "stream",
     "text": [
      "\n"
     ]
    },
    {
     "data": {
      "application/vnd.jupyter.widget-view+json": {
       "model_id": "82f1702f88964cff94cb1b8aad7e6d05",
       "version_major": 2,
       "version_minor": 0
      },
      "text/plain": [
       "HBox(children=(IntProgress(value=0, max=1063), HTML(value='')))"
      ]
     },
     "metadata": {},
     "output_type": "display_data"
    },
    {
     "name": "stdout",
     "output_type": "stream",
     "text": [
      "\n",
      "CPU times: user 13.3 s, sys: 6.24 s, total: 19.5 s\n",
      "Wall time: 15.4 s\n"
     ]
    }
   ],
   "source": [
    "%%time\n",
    "from metal.mmtl.glue.glue_tasks import create_tasks_and_payloads\n",
    "\n",
    "# Create tasks and payloads\n",
    "tasks, payloads = create_tasks_and_payloads(\n",
    "    task_names,\n",
    "    dl_kwargs={\"batch_size\": 16}\n",
    ")"
   ]
  },
  {
   "cell_type": "code",
   "execution_count": null,
   "metadata": {},
   "outputs": [
    {
     "data": {
      "text/plain": [
       "([ClassificationTask(name=COLA, loss_multiplier=1.0)],\n",
       " [Payload(COLA_train: tasks=[COLA], split=train),\n",
       "  Payload(COLA_valid: tasks=[COLA], split=valid),\n",
       "  Payload(COLA_test: tasks=[COLA], split=test)])"
      ]
     },
     "execution_count": 5,
     "metadata": {},
     "output_type": "execute_result"
    }
   ],
   "source": [
    "tasks, payloads"
   ]
  },
  {
   "cell_type": "code",
   "execution_count": null,
   "metadata": {},
   "outputs": [],
   "source": [
    "from metal.mmtl.metal_model import MetalModel\n",
    "\n",
    "model_baseline = MetalModel(tasks, seed=SEED, verbose=False)"
   ]
  },
  {
   "cell_type": "code",
   "execution_count": null,
   "metadata": {},
   "outputs": [],
   "source": [
    "from metal.mmtl.trainer import MultitaskTrainer\n",
    "trainer = MultitaskTrainer(seed=SEED)"
   ]
  },
  {
   "cell_type": "code",
   "execution_count": null,
   "metadata": {},
   "outputs": [],
   "source": [
    "# trainer.train_model(\n",
    "#     model_baseline,\n",
    "#     payloads,\n",
    "#     checkpoint_metric=\"COLA/COLA_valid/matthews_corr\",\n",
    "#     checkpoint_metric_mode=\"max\",\n",
    "#     writer=\"tensorboard\",\n",
    "#     optimizer=\"adamax\",\n",
    "#     lr=5e-5,\n",
    "#     log_every=0.05,\n",
    "#     score_every=0.1,\n",
    "#     n_epochs=3,\n",
    "#     progress_bar=True\n",
    "# )"
   ]
  },
  {
   "cell_type": "markdown",
   "metadata": {},
   "source": [
    "## Define slice over question marks"
   ]
  },
  {
   "cell_type": "code",
   "execution_count": null,
   "metadata": {
    "scrolled": false
   },
   "outputs": [
    {
     "name": "stdout",
     "output_type": "stream",
     "text": [
      "Using random seed: 128037\n",
      "Loading COLA Dataset\n"
     ]
    },
    {
     "data": {
      "application/vnd.jupyter.widget-view+json": {
       "model_id": "22ab458ef3a94a47b87d1963d6ba94d0",
       "version_major": 2,
       "version_minor": 0
      },
      "text/plain": [
       "HBox(children=(IntProgress(value=0, max=8550), HTML(value='')))"
      ]
     },
     "metadata": {},
     "output_type": "display_data"
    },
    {
     "name": "stdout",
     "output_type": "stream",
     "text": [
      "\n"
     ]
    },
    {
     "data": {
      "application/vnd.jupyter.widget-view+json": {
       "model_id": "4e520a6be3f84ca78e7909f2dc986041",
       "version_major": 2,
       "version_minor": 0
      },
      "text/plain": [
       "HBox(children=(IntProgress(value=0, max=1042), HTML(value='')))"
      ]
     },
     "metadata": {},
     "output_type": "display_data"
    },
    {
     "name": "stdout",
     "output_type": "stream",
     "text": [
      "\n"
     ]
    },
    {
     "data": {
      "application/vnd.jupyter.widget-view+json": {
       "model_id": "d65daad6a7d44cbaa60179f0ba3fe4b4",
       "version_major": 2,
       "version_minor": 0
      },
      "text/plain": [
       "HBox(children=(IntProgress(value=0, max=1063), HTML(value='')))"
      ]
     },
     "metadata": {},
     "output_type": "display_data"
    },
    {
     "name": "stdout",
     "output_type": "stream",
     "text": [
      "\n",
      "Added label_set with 8550 labels for task COLA:ends_with_question_mark to payload COLA_train.\n",
      "Added label_set with 1042 labels for task COLA:ends_with_question_mark to payload COLA_valid.\n",
      "Added label_set with 1063 labels for task COLA:ends_with_question_mark to payload COLA_test.\n",
      "CPU times: user 8.51 s, sys: 976 ms, total: 9.48 s\n",
      "Wall time: 10.4 s\n"
     ]
    }
   ],
   "source": [
    "%%time\n",
    "from metal.mmtl.glue.glue_tasks import create_tasks_and_payloads\n",
    "\n",
    "# define slices\n",
    "slice_dict = {  # A map of the slices that apply to each task\n",
    "   \"COLA\": [\"ends_with_question_mark\"]\n",
    "}\n",
    "\n",
    "# Create tasks and payloads\n",
    "tasks_slice, payloads_slice = create_tasks_and_payloads(\n",
    "    task_names,\n",
    "#     max_datapoints=1000,\n",
    "    dl_kwargs={\"batch_size\": 16},\n",
    "    slice_dict=slice_dict\n",
    ")"
   ]
  },
  {
   "cell_type": "code",
   "execution_count": null,
   "metadata": {},
   "outputs": [
    {
     "data": {
      "text/plain": [
       "Payload(COLA_valid: tasks=[COLA,COLA:ends_with_question_mark], split=valid)"
      ]
     },
     "execution_count": 10,
     "metadata": {},
     "output_type": "execute_result"
    }
   ],
   "source": [
    "payloads_slice[1]"
   ]
  },
  {
   "cell_type": "code",
   "execution_count": null,
   "metadata": {},
   "outputs": [
    {
     "name": "stdout",
     "output_type": "stream",
     "text": [
      "> /dfs/scratch0/vschen/metal-mmtl/metal/mmtl/metal_model.py(213)score()\n",
      "-> Ys, Ys_probs, Ys_preds = self.predict_with_gold(\n",
      "(Pdb) list\n",
      "208  \t        else:\n",
      "209  \t            task_names = payload.task_names\n",
      "210  \t            target_metrics = {task_name: None for task_name in task_names}\n",
      "211  \t\n",
      "212  \t        import pdb; pdb.set_trace()\n",
      "213  ->\t        Ys, Ys_probs, Ys_preds = self.predict_with_gold(\n",
      "214  \t            payload, task_names, return_preds=True, **kwargs\n",
      "215  \t        )\n",
      "216  \t\n",
      "217  \t        metrics_dict = {}\n",
      "218  \t        for task_name in task_names:\n",
      "(Pdb) task_names\n",
      "['COLA', 'COLA:ends_with_question_mark']\n",
      "(Pdb) payload\n",
      "Payload(COLA_valid: tasks=[COLA,COLA:ends_with_question_mark], split=valid)\n",
      "(Pdb) model.task_names\n",
      "*** NameError: name 'model' is not defined\n",
      "(Pdb) model.task_map\n",
      "*** NameError: name 'model' is not defined\n",
      "(Pdb) self.task_map\n",
      "{'COLA': ClassificationTask(name=COLA, loss_multiplier=1.0)}\n",
      "(Pdb) task_names\n",
      "['COLA', 'COLA:ends_with_question_mark']\n",
      "(Pdb) self.task_map\n",
      "{'COLA': ClassificationTask(name=COLA, loss_multiplier=1.0)}\n"
     ]
    }
   ],
   "source": [
    "model_baseline.score(payloads_slice[1])"
   ]
  },
  {
   "cell_type": "code",
   "execution_count": null,
   "metadata": {},
   "outputs": [],
   "source": [
    "tasks, payloads_slice"
   ]
  },
  {
   "cell_type": "code",
   "execution_count": null,
   "metadata": {},
   "outputs": [],
   "source": [
    "import numpy as np\n",
    "def count_num_labels(labels):\n",
    "    return np.sum(np.array(labels) != 0)"
   ]
  },
  {
   "cell_type": "code",
   "execution_count": null,
   "metadata": {},
   "outputs": [],
   "source": [
    "dataset = payloads_slice[0].data_loader.dataset\n",
    "for labelset_name, labels in dataset.labels.items():\n",
    "    print(labelset_name, count_num_labels(labels))"
   ]
  },
  {
   "cell_type": "code",
   "execution_count": null,
   "metadata": {},
   "outputs": [],
   "source": [
    "# %%time\n",
    "# # Pickle tasks and payloads\n",
    "# import dill\n",
    "# with open(\"FILENAME\", 'wb') as f:\n",
    "#     dill.dump((tasks, payloads), f)"
   ]
  },
  {
   "cell_type": "code",
   "execution_count": null,
   "metadata": {},
   "outputs": [],
   "source": [
    "# %%time\n",
    "# # Unpickle tasks and payloads\n",
    "# import dill\n",
    "# with open(\"FILENAME\", 'rb') as f:\n",
    "#     (tasks, payloads) = dill.load(f)"
   ]
  },
  {
   "cell_type": "code",
   "execution_count": null,
   "metadata": {
    "scrolled": false
   },
   "outputs": [],
   "source": [
    "from metal.mmtl.metal_model import MetalModel\n",
    "\n",
    "model = MetalModel(tasks, seed=SEED, verbose=False)"
   ]
  },
  {
   "cell_type": "code",
   "execution_count": null,
   "metadata": {},
   "outputs": [],
   "source": [
    "from metal.mmtl.trainer import MultitaskTrainer\n",
    "trainer = MultitaskTrainer(seed=SEED)"
   ]
  },
  {
   "cell_type": "code",
   "execution_count": null,
   "metadata": {
    "scrolled": true
   },
   "outputs": [],
   "source": [
    "trainer.train_model(\n",
    "    model,\n",
    "    payloads,\n",
    "    checkpoint_metric=\"COLA/COLA_valid/matthews_corr\",\n",
    "    checkpoint_metric_mode=\"max\",\n",
    "    writer=\"tensorboard\",\n",
    "    optimizer=\"adamax\",\n",
    "    lr=5e-5,\n",
    "    log_every=0.05,\n",
    "    score_every=0.1,\n",
    "    n_epochs=8,\n",
    "    progress_bar=True\n",
    ")"
   ]
  },
  {
   "cell_type": "code",
   "execution_count": null,
   "metadata": {
    "scrolled": true
   },
   "outputs": [],
   "source": [
    "print(\"WE WIN!\")"
   ]
  },
  {
   "cell_type": "raw",
   "metadata": {},
   "source": []
  },
  {
   "cell_type": "code",
   "execution_count": null,
   "metadata": {},
   "outputs": [],
   "source": []
  }
 ],
 "metadata": {
  "kernelspec": {
   "display_name": "Python 3",
   "language": "python",
   "name": "python3"
  },
  "language_info": {
   "codemirror_mode": {
    "name": "ipython",
    "version": 3
   },
   "file_extension": ".py",
   "mimetype": "text/x-python",
   "name": "python",
   "nbconvert_exporter": "python",
   "pygments_lexer": "ipython3",
   "version": "3.6.7"
  }
 },
 "nbformat": 4,
 "nbformat_minor": 2
}
