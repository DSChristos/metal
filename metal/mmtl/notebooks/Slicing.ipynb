{
 "cells": [
  {
   "cell_type": "code",
   "execution_count": 1,
   "metadata": {
    "scrolled": true
   },
   "outputs": [],
   "source": [
    "%load_ext autoreload\n",
    "%autoreload 2"
   ]
  },
  {
   "cell_type": "code",
   "execution_count": 2,
   "metadata": {
    "scrolled": true
   },
   "outputs": [],
   "source": [
    "task_names = [\n",
    "    \"COLA\", \n",
    "#     \"SST2\",\n",
    "#     \"MNLI\",\n",
    "#     \"RTE\",\n",
    "#     \"WNLI\",\n",
    "#     \"QQP\",\n",
    "#     \"MRPC\",\n",
    "#     \"STSB\",\n",
    "#     \"QNLI\",\n",
    "#     \"SPACY_POS\",\n",
    "#     \"SPACY_NER\",\n",
    "#     \"THIRD\",\n",
    "#     \"BLEU\",\n",
    "]\n",
    "\n",
    "FILENAME = \"COLA_tasks_and_payloads\""
   ]
  },
  {
   "cell_type": "code",
   "execution_count": 3,
   "metadata": {},
   "outputs": [],
   "source": [
    "SEED = 1"
   ]
  },
  {
   "cell_type": "markdown",
   "metadata": {},
   "source": [
    "## Load previously trained model\n",
    "Hint: make sure the `bert_model` is initialized correctly!"
   ]
  },
  {
   "cell_type": "code",
   "execution_count": 4,
   "metadata": {
    "scrolled": true
   },
   "outputs": [
    {
     "name": "stdout",
     "output_type": "stream",
     "text": [
      "Using random seed: 491344\n",
      "Loading COLA Dataset\n"
     ]
    },
    {
     "data": {
      "application/vnd.jupyter.widget-view+json": {
       "model_id": "d3c443672f564e239a5efe940d3f0c57",
       "version_major": 2,
       "version_minor": 0
      },
      "text/plain": [
       "HBox(children=(IntProgress(value=0, max=8550), HTML(value='')))"
      ]
     },
     "metadata": {},
     "output_type": "display_data"
    },
    {
     "name": "stdout",
     "output_type": "stream",
     "text": [
      "\n"
     ]
    },
    {
     "data": {
      "application/vnd.jupyter.widget-view+json": {
       "model_id": "56f6666ae60e49dfb4b6c919b48710a6",
       "version_major": 2,
       "version_minor": 0
      },
      "text/plain": [
       "HBox(children=(IntProgress(value=0, max=1042), HTML(value='')))"
      ]
     },
     "metadata": {},
     "output_type": "display_data"
    },
    {
     "name": "stdout",
     "output_type": "stream",
     "text": [
      "\n"
     ]
    },
    {
     "data": {
      "application/vnd.jupyter.widget-view+json": {
       "model_id": "0d347971c5314e259a35ad32ea5485d1",
       "version_major": 2,
       "version_minor": 0
      },
      "text/plain": [
       "HBox(children=(IntProgress(value=0, max=1063), HTML(value='')))"
      ]
     },
     "metadata": {},
     "output_type": "display_data"
    },
    {
     "name": "stdout",
     "output_type": "stream",
     "text": [
      "\n",
      "CPU times: user 24.4 s, sys: 6.69 s, total: 31.1 s\n",
      "Wall time: 28.1 s\n"
     ]
    }
   ],
   "source": [
    "%%time\n",
    "from metal.mmtl.glue.glue_tasks import create_tasks_and_payloads\n",
    "\n",
    "# Create tasks and payloads\n",
    "tasks, payloads = create_tasks_and_payloads(\n",
    "    task_names,\n",
    "    dl_kwargs={\"batch_size\": 16},\n",
    "    freeze_bert=True,\n",
    "    bert_model='bert-large-cased'\n",
    ")"
   ]
  },
  {
   "cell_type": "code",
   "execution_count": 5,
   "metadata": {},
   "outputs": [
    {
     "data": {
      "text/plain": [
       "([ClassificationTask(name=COLA, loss_multiplier=1.0)],\n",
       " [Payload(COLA_train: tasks=[COLA], split=train),\n",
       "  Payload(COLA_valid: tasks=[COLA], split=valid),\n",
       "  Payload(COLA_test: tasks=[COLA], split=test)])"
      ]
     },
     "execution_count": 5,
     "metadata": {},
     "output_type": "execute_result"
    }
   ],
   "source": [
    "tasks, payloads"
   ]
  },
  {
   "cell_type": "code",
   "execution_count": 6,
   "metadata": {},
   "outputs": [],
   "source": [
    "from metal.mmtl.metal_model import MetalModel\n",
    "\n",
    "model = MetalModel(tasks, seed=SEED, verbose=False)"
   ]
  },
  {
   "cell_type": "code",
   "execution_count": 7,
   "metadata": {},
   "outputs": [],
   "source": [
    "import os\n",
    "import torch\n",
    "model_dir = '/dfs/scratch0/chami/metal/metal/mmtl/aws/output/2019_03_14_01_58_14/0/logdir/bert_large/QNLI.STSB.MRPC.QQP.RTE.MNLI.SST2.COLA.WNLI_09_15_09'\n",
    "model_path = os.path.join(model_dir, 'best_model.pth')\n",
    "device = torch.device(f\"cuda:0\")\n",
    "model.load_state_dict(torch.load(model_path, map_location=device)[\"model\"], strict=False)"
   ]
  },
  {
   "cell_type": "markdown",
   "metadata": {},
   "source": [
    "#### Sanity check that task head is trained!"
   ]
  },
  {
   "cell_type": "code",
   "execution_count": 8,
   "metadata": {},
   "outputs": [
    {
     "data": {
      "text/plain": [
       "{'COLA/COLA_valid/accuracy': 0.8464491362763915,\n",
       " 'COLA/COLA_valid/matthews_corr': 0.6311800125409577}"
      ]
     },
     "execution_count": 8,
     "metadata": {},
     "output_type": "execute_result"
    }
   ],
   "source": [
    "model.score(payloads[1])"
   ]
  },
  {
   "cell_type": "markdown",
   "metadata": {},
   "source": [
    "## Define slices for evaluation"
   ]
  },
  {
   "cell_type": "code",
   "execution_count": 9,
   "metadata": {
    "scrolled": false
   },
   "outputs": [
    {
     "name": "stdout",
     "output_type": "stream",
     "text": [
      "Using random seed: 128037\n",
      "Loading COLA Dataset\n"
     ]
    },
    {
     "data": {
      "application/vnd.jupyter.widget-view+json": {
       "model_id": "3cb141ec9b4243a59abf71015185d1e8",
       "version_major": 2,
       "version_minor": 0
      },
      "text/plain": [
       "HBox(children=(IntProgress(value=0, max=8550), HTML(value='')))"
      ]
     },
     "metadata": {},
     "output_type": "display_data"
    },
    {
     "name": "stdout",
     "output_type": "stream",
     "text": [
      "\n"
     ]
    },
    {
     "data": {
      "application/vnd.jupyter.widget-view+json": {
       "model_id": "2e2c90ca7348463cb39af3e1f8411309",
       "version_major": 2,
       "version_minor": 0
      },
      "text/plain": [
       "HBox(children=(IntProgress(value=0, max=1042), HTML(value='')))"
      ]
     },
     "metadata": {},
     "output_type": "display_data"
    },
    {
     "name": "stdout",
     "output_type": "stream",
     "text": [
      "\n"
     ]
    },
    {
     "data": {
      "application/vnd.jupyter.widget-view+json": {
       "model_id": "7bd2cdbf3c0543589e450984172f6b97",
       "version_major": 2,
       "version_minor": 0
      },
      "text/plain": [
       "HBox(children=(IntProgress(value=0, max=1063), HTML(value='')))"
      ]
     },
     "metadata": {},
     "output_type": "display_data"
    },
    {
     "name": "stdout",
     "output_type": "stream",
     "text": [
      "\n",
      "Added label_set with 8550 labels for task COLA:ends_with_question_mark to payload COLA_train.\n",
      "Added label_set with 1042 labels for task COLA:ends_with_question_mark to payload COLA_valid.\n",
      "Added label_set with 1063 labels for task COLA:ends_with_question_mark to payload COLA_test.\n",
      "CPU times: user 18.2 s, sys: 2.33 s, total: 20.5 s\n",
      "Wall time: 21.9 s\n"
     ]
    }
   ],
   "source": [
    "%%time\n",
    "from metal.mmtl.glue.glue_tasks import create_tasks_and_payloads\n",
    "\n",
    "# define slices\n",
    "slice_dict = {  # A map of the slices that apply to each task\n",
    "   \"COLA\": [\"ends_with_question_mark\"]\n",
    "}\n",
    "\n",
    "# Create tasks and payloads\n",
    "_, payloads_slice = create_tasks_and_payloads(\n",
    "    task_names,\n",
    "    dl_kwargs={\"batch_size\": 16},\n",
    "    slice_dict=slice_dict,\n",
    "    freeze_bert=True,\n",
    "    bert_model='bert-large-cased'\n",
    ")"
   ]
  },
  {
   "cell_type": "code",
   "execution_count": 10,
   "metadata": {},
   "outputs": [
    {
     "data": {
      "text/plain": [
       "[Payload(COLA_train: tasks=[COLA,COLA:ends_with_question_mark], split=train),\n",
       " Payload(COLA_valid: tasks=[COLA,COLA:ends_with_question_mark], split=valid),\n",
       " Payload(COLA_test: tasks=[COLA,COLA:ends_with_question_mark], split=test)]"
      ]
     },
     "execution_count": 10,
     "metadata": {},
     "output_type": "execute_result"
    }
   ],
   "source": [
    "payloads_slice"
   ]
  },
  {
   "cell_type": "markdown",
   "metadata": {},
   "source": [
    "#### Sanity check the number of examples in the train set"
   ]
  },
  {
   "cell_type": "code",
   "execution_count": 11,
   "metadata": {},
   "outputs": [],
   "source": [
    "import numpy as np\n",
    "def count_num_labels(labels):\n",
    "    return np.sum(np.array(labels) != 0)"
   ]
  },
  {
   "cell_type": "code",
   "execution_count": 12,
   "metadata": {},
   "outputs": [
    {
     "name": "stdout",
     "output_type": "stream",
     "text": [
      "COLA 8550\n",
      "COLA:ends_with_question_mark 615\n"
     ]
    }
   ],
   "source": [
    "dataset = payloads_slice[0].data_loader.dataset\n",
    "for labelset_name, labels in dataset.labels.items():\n",
    "    print(labelset_name, count_num_labels(labels))"
   ]
  },
  {
   "cell_type": "markdown",
   "metadata": {},
   "source": [
    "### Evaluate baseline model on the slice of interest"
   ]
  },
  {
   "cell_type": "code",
   "execution_count": 13,
   "metadata": {},
   "outputs": [
    {
     "name": "stdout",
     "output_type": "stream",
     "text": [
      "Evaluating 57 / 1042 active labels\n"
     ]
    },
    {
     "data": {
      "text/plain": [
       "{'COLA/COLA_valid/accuracy': 0.8464491362763915,\n",
       " 'COLA/COLA_valid/matthews_corr': 0.6311800125409577,\n",
       " 'COLA:ends_with_question_mark/COLA_valid/accuracy': 0.7543859649122807,\n",
       " 'COLA:ends_with_question_mark/COLA_valid/matthews_corr': 0.4818181818181818}"
      ]
     },
     "execution_count": 13,
     "metadata": {},
     "output_type": "execute_result"
    }
   ],
   "source": [
    "model.score(payloads_slice[1])"
   ]
  },
  {
   "cell_type": "markdown",
   "metadata": {},
   "source": [
    "## Finetune model on slice of interest"
   ]
  },
  {
   "cell_type": "code",
   "execution_count": 14,
   "metadata": {
    "scrolled": false
   },
   "outputs": [],
   "source": [
    "from metal.mmtl.metal_model import MetalModel\n",
    "\n",
    "from metal.mmtl.trainer import MultitaskTrainer\n",
    "trainer = MultitaskTrainer(seed=SEED)"
   ]
  },
  {
   "cell_type": "code",
   "execution_count": 15,
   "metadata": {},
   "outputs": [
    {
     "data": {
      "text/plain": [
       "[Payload(COLA_train: tasks=[COLA:ends_with_question_mark], split=train),\n",
       " Payload(COLA_valid: tasks=[COLA:ends_with_question_mark], split=valid),\n",
       " Payload(COLA_test: tasks=[COLA:ends_with_question_mark], split=test)]"
      ]
     },
     "execution_count": 15,
     "metadata": {},
     "output_type": "execute_result"
    }
   ],
   "source": [
    "# only finetune on the slices, not the original task\n",
    "for p in payloads_slice:\n",
    "    p.task_names.remove('COLA')\n",
    "payloads_slice"
   ]
  },
  {
   "cell_type": "markdown",
   "metadata": {},
   "source": [
    "NOTE: We are training on a different set of payloads than we initialized the model with."
   ]
  },
  {
   "cell_type": "code",
   "execution_count": 16,
   "metadata": {
    "scrolled": true
   },
   "outputs": [
    {
     "name": "stdout",
     "output_type": "stream",
     "text": [
      "Adding missing slice heads to train {'COLA:ends_with_question_mark'}\n",
      "Beginning train loop.\n",
      "Expecting a total of approximately 8560 examples and 535 batches per epoch from 1 payload(s) in the train split.\n",
      "Writing config to /dfs/scratch0/vschen/metal-mmtl/logs/2019_03_17/01_59_39/config.json\n"
     ]
    },
    {
     "data": {
      "application/vnd.jupyter.widget-view+json": {
       "model_id": "1c497f680cca43939eb5bacdf651a1b0",
       "version_major": 2,
       "version_minor": 0
      },
      "text/plain": [
       "HBox(children=(IntProgress(value=0, max=535), HTML(value='')))"
      ]
     },
     "metadata": {},
     "output_type": "display_data"
    },
    {
     "name": "stderr",
     "output_type": "stream",
     "text": [
      "/dfs/scratch0/vschen/metal-mmtl/metal/logging/tensorboard.py:26: UserWarning: At iteration 27, metric COLA/train/loss had value None!\n",
      "  warnings.warn(f\"At iteration {i}, metric {name} had value None!\")\n"
     ]
    },
    {
     "name": "stdout",
     "output_type": "stream",
     "text": [
      "[0.05 epo]: COLA:[train/loss=None] COLA:ends_with_question_mark:[train/loss=3.12e-01] model:[train/loss=3.12e-01, train/lr=5.00e-05]\n",
      "Evaluating 57 / 1042 active labels\n",
      "[0.10 epo]: COLA:[train/loss=None] COLA:ends_with_question_mark:[train/loss=1.61e-01, COLA_valid/accuracy=7.02e-01, COLA_valid/matthews_corr=3.50e-01] model:[train/loss=1.61e-01, train/lr=5.00e-05, valid/glue=nan]\n"
     ]
    },
    {
     "name": "stderr",
     "output_type": "stream",
     "text": [
      "/dfs/scratch0/vschen/metal-mmtl/metal/mmtl/trainer.py:489: UserWarning: You requested glue score but have fewer than 9 tasks. Be aware.\n",
      "  warnings.warn(msg)\n",
      "/dfs/scratch0/vschen/venv-mmtl/lib/python3.6/site-packages/numpy/core/fromnumeric.py:3118: RuntimeWarning: Mean of empty slice.\n",
      "  out=out, **kwargs)\n",
      "/dfs/scratch0/vschen/venv-mmtl/lib/python3.6/site-packages/numpy/core/_methods.py:85: RuntimeWarning: invalid value encountered in double_scalars\n",
      "  ret = ret.dtype.type(ret / rcount)\n",
      "/dfs/scratch0/vschen/metal-mmtl/metal/logging/tensorboard.py:26: UserWarning: At iteration 54, metric COLA/train/loss had value None!\n",
      "  warnings.warn(f\"At iteration {i}, metric {name} had value None!\")\n",
      "/dfs/scratch0/vschen/metal-mmtl/metal/logging/tensorboard.py:26: UserWarning: At iteration 81, metric COLA/train/loss had value None!\n",
      "  warnings.warn(f\"At iteration {i}, metric {name} had value None!\")\n"
     ]
    },
    {
     "name": "stdout",
     "output_type": "stream",
     "text": [
      "[0.15 epo]: COLA:[train/loss=None] COLA:ends_with_question_mark:[train/loss=2.78e-01] model:[train/loss=2.78e-01, train/lr=5.00e-05]\n",
      "Evaluating 57 / 1042 active labels\n",
      "[0.20 epo]: COLA:[train/loss=None] COLA:ends_with_question_mark:[train/loss=7.20e-02, COLA_valid/accuracy=7.19e-01, COLA_valid/matthews_corr=3.87e-01] model:[train/loss=7.20e-02, train/lr=5.00e-05, valid/glue=nan]\n"
     ]
    },
    {
     "name": "stderr",
     "output_type": "stream",
     "text": [
      "/dfs/scratch0/vschen/metal-mmtl/metal/logging/tensorboard.py:26: UserWarning: At iteration 108, metric COLA/train/loss had value None!\n",
      "  warnings.warn(f\"At iteration {i}, metric {name} had value None!\")\n",
      "/dfs/scratch0/vschen/metal-mmtl/metal/logging/tensorboard.py:26: UserWarning: At iteration 135, metric COLA/train/loss had value None!\n",
      "  warnings.warn(f\"At iteration {i}, metric {name} had value None!\")\n"
     ]
    },
    {
     "name": "stdout",
     "output_type": "stream",
     "text": [
      "[0.25 epo]: COLA:[train/loss=None] COLA:ends_with_question_mark:[train/loss=3.81e-01] model:[train/loss=3.81e-01, train/lr=5.00e-05]\n",
      "Evaluating 57 / 1042 active labels\n",
      "[0.30 epo]: COLA:[train/loss=None] COLA:ends_with_question_mark:[train/loss=2.29e-01, COLA_valid/accuracy=7.19e-01, COLA_valid/matthews_corr=3.87e-01] model:[train/loss=2.29e-01, train/lr=5.00e-05, valid/glue=nan]\n"
     ]
    },
    {
     "name": "stderr",
     "output_type": "stream",
     "text": [
      "/dfs/scratch0/vschen/metal-mmtl/metal/logging/tensorboard.py:26: UserWarning: At iteration 162, metric COLA/train/loss had value None!\n",
      "  warnings.warn(f\"At iteration {i}, metric {name} had value None!\")\n",
      "/dfs/scratch0/vschen/metal-mmtl/metal/logging/tensorboard.py:26: UserWarning: At iteration 189, metric COLA/train/loss had value None!\n",
      "  warnings.warn(f\"At iteration {i}, metric {name} had value None!\")\n"
     ]
    },
    {
     "name": "stdout",
     "output_type": "stream",
     "text": [
      "[0.35 epo]: COLA:[train/loss=None] COLA:ends_with_question_mark:[train/loss=3.93e-01] model:[train/loss=3.93e-01, train/lr=5.00e-05]\n",
      "Evaluating 57 / 1042 active labels\n",
      "[0.40 epo]: COLA:[train/loss=None] COLA:ends_with_question_mark:[train/loss=1.72e-01, COLA_valid/accuracy=7.02e-01, COLA_valid/matthews_corr=3.45e-01] model:[train/loss=1.72e-01, train/lr=5.00e-05, valid/glue=nan]\n"
     ]
    },
    {
     "name": "stderr",
     "output_type": "stream",
     "text": [
      "/dfs/scratch0/vschen/metal-mmtl/metal/logging/tensorboard.py:26: UserWarning: At iteration 216, metric COLA/train/loss had value None!\n",
      "  warnings.warn(f\"At iteration {i}, metric {name} had value None!\")\n",
      "/dfs/scratch0/vschen/metal-mmtl/metal/logging/tensorboard.py:26: UserWarning: At iteration 243, metric COLA/train/loss had value None!\n",
      "  warnings.warn(f\"At iteration {i}, metric {name} had value None!\")\n"
     ]
    },
    {
     "name": "stdout",
     "output_type": "stream",
     "text": [
      "[0.45 epo]: COLA:[train/loss=None] COLA:ends_with_question_mark:[train/loss=3.75e-01] model:[train/loss=3.75e-01, train/lr=5.00e-05]\n",
      "Evaluating 57 / 1042 active labels\n",
      "[0.50 epo]: COLA:[train/loss=None] COLA:ends_with_question_mark:[train/loss=1.68e-01, COLA_valid/accuracy=7.19e-01, COLA_valid/matthews_corr=3.87e-01] model:[train/loss=1.68e-01, train/lr=5.00e-05, valid/glue=nan]\n"
     ]
    },
    {
     "name": "stderr",
     "output_type": "stream",
     "text": [
      "/dfs/scratch0/vschen/metal-mmtl/metal/logging/tensorboard.py:26: UserWarning: At iteration 270, metric COLA/train/loss had value None!\n",
      "  warnings.warn(f\"At iteration {i}, metric {name} had value None!\")\n",
      "/dfs/scratch0/vschen/metal-mmtl/metal/logging/tensorboard.py:26: UserWarning: At iteration 297, metric COLA/train/loss had value None!\n",
      "  warnings.warn(f\"At iteration {i}, metric {name} had value None!\")\n"
     ]
    },
    {
     "name": "stdout",
     "output_type": "stream",
     "text": [
      "[0.56 epo]: COLA:[train/loss=None] COLA:ends_with_question_mark:[train/loss=3.40e-01] model:[train/loss=3.40e-01, train/lr=5.00e-05]\n",
      "Evaluating 57 / 1042 active labels\n",
      "[0.61 epo]: COLA:[train/loss=None] COLA:ends_with_question_mark:[train/loss=2.20e-01, COLA_valid/accuracy=7.19e-01, COLA_valid/matthews_corr=3.87e-01] model:[train/loss=2.20e-01, train/lr=5.00e-05, valid/glue=nan]\n"
     ]
    },
    {
     "name": "stderr",
     "output_type": "stream",
     "text": [
      "/dfs/scratch0/vschen/metal-mmtl/metal/logging/tensorboard.py:26: UserWarning: At iteration 324, metric COLA/train/loss had value None!\n",
      "  warnings.warn(f\"At iteration {i}, metric {name} had value None!\")\n",
      "/dfs/scratch0/vschen/metal-mmtl/metal/logging/tensorboard.py:26: UserWarning: At iteration 351, metric COLA/train/loss had value None!\n",
      "  warnings.warn(f\"At iteration {i}, metric {name} had value None!\")\n"
     ]
    },
    {
     "name": "stdout",
     "output_type": "stream",
     "text": [
      "[0.66 epo]: COLA:[train/loss=None] COLA:ends_with_question_mark:[train/loss=3.82e-01] model:[train/loss=3.82e-01, train/lr=5.00e-05]\n",
      "\n"
     ]
    },
    {
     "data": {
      "application/vnd.jupyter.widget-view+json": {
       "model_id": "2ce26945959b4bd6b660cadcfb8bc1e0",
       "version_major": 2,
       "version_minor": 0
      },
      "text/plain": [
       "HBox(children=(IntProgress(value=0, max=535), HTML(value='')))"
      ]
     },
     "metadata": {},
     "output_type": "display_data"
    },
    {
     "name": "stdout",
     "output_type": "stream",
     "text": [
      "Evaluating 57 / 1042 active labels\n",
      "[0.71 epo]: COLA:[train/loss=None] COLA:ends_with_question_mark:[train/loss=1.43e-01, COLA_valid/accuracy=7.19e-01, COLA_valid/matthews_corr=3.87e-01] model:[train/loss=1.43e-01, train/lr=5.00e-05, valid/glue=nan]\n"
     ]
    },
    {
     "name": "stderr",
     "output_type": "stream",
     "text": [
      "/dfs/scratch0/vschen/metal-mmtl/metal/logging/tensorboard.py:26: UserWarning: At iteration 378, metric COLA/train/loss had value None!\n",
      "  warnings.warn(f\"At iteration {i}, metric {name} had value None!\")\n",
      "/dfs/scratch0/vschen/metal-mmtl/metal/logging/tensorboard.py:26: UserWarning: At iteration 405, metric COLA/train/loss had value None!\n",
      "  warnings.warn(f\"At iteration {i}, metric {name} had value None!\")\n"
     ]
    },
    {
     "name": "stdout",
     "output_type": "stream",
     "text": [
      "[0.76 epo]: COLA:[train/loss=None] COLA:ends_with_question_mark:[train/loss=2.38e-01] model:[train/loss=2.38e-01, train/lr=5.00e-05]\n",
      "Evaluating 57 / 1042 active labels\n",
      "[0.81 epo]: COLA:[train/loss=None] COLA:ends_with_question_mark:[train/loss=3.00e-01, COLA_valid/accuracy=7.19e-01, COLA_valid/matthews_corr=3.87e-01] model:[train/loss=3.00e-01, train/lr=5.00e-05, valid/glue=nan]\n"
     ]
    },
    {
     "name": "stderr",
     "output_type": "stream",
     "text": [
      "/dfs/scratch0/vschen/metal-mmtl/metal/logging/tensorboard.py:26: UserWarning: At iteration 432, metric COLA/train/loss had value None!\n",
      "  warnings.warn(f\"At iteration {i}, metric {name} had value None!\")\n",
      "/dfs/scratch0/vschen/metal-mmtl/metal/logging/tensorboard.py:26: UserWarning: At iteration 459, metric COLA/train/loss had value None!\n",
      "  warnings.warn(f\"At iteration {i}, metric {name} had value None!\")\n"
     ]
    },
    {
     "name": "stdout",
     "output_type": "stream",
     "text": [
      "[0.86 epo]: COLA:[train/loss=None] COLA:ends_with_question_mark:[train/loss=2.20e-01] model:[train/loss=2.20e-01, train/lr=5.00e-05]\n",
      "Evaluating 57 / 1042 active labels\n",
      "[0.91 epo]: COLA:[train/loss=None] COLA:ends_with_question_mark:[train/loss=3.17e-01, COLA_valid/accuracy=7.02e-01, COLA_valid/matthews_corr=3.45e-01] model:[train/loss=3.17e-01, train/lr=5.00e-05, valid/glue=nan]\n"
     ]
    },
    {
     "name": "stderr",
     "output_type": "stream",
     "text": [
      "/dfs/scratch0/vschen/metal-mmtl/metal/logging/tensorboard.py:26: UserWarning: At iteration 486, metric COLA/train/loss had value None!\n",
      "  warnings.warn(f\"At iteration {i}, metric {name} had value None!\")\n",
      "/dfs/scratch0/vschen/metal-mmtl/metal/logging/tensorboard.py:26: UserWarning: At iteration 513, metric COLA/train/loss had value None!\n",
      "  warnings.warn(f\"At iteration {i}, metric {name} had value None!\")\n"
     ]
    },
    {
     "name": "stdout",
     "output_type": "stream",
     "text": [
      "[0.96 epo]: COLA:[train/loss=None] COLA:ends_with_question_mark:[train/loss=4.56e-01] model:[train/loss=4.56e-01, train/lr=5.00e-05]\n",
      "Evaluating 57 / 1042 active labels\n",
      "[1.01 epo]: COLA:[train/loss=None] COLA:ends_with_question_mark:[train/loss=1.31e-01, COLA_valid/accuracy=7.02e-01, COLA_valid/matthews_corr=3.45e-01] model:[train/loss=1.31e-01, train/lr=5.00e-05, valid/glue=nan]\n"
     ]
    },
    {
     "name": "stderr",
     "output_type": "stream",
     "text": [
      "/dfs/scratch0/vschen/metal-mmtl/metal/logging/tensorboard.py:26: UserWarning: At iteration 540, metric COLA/train/loss had value None!\n",
      "  warnings.warn(f\"At iteration {i}, metric {name} had value None!\")\n",
      "/dfs/scratch0/vschen/metal-mmtl/metal/logging/tensorboard.py:26: UserWarning: At iteration 567, metric COLA/train/loss had value None!\n",
      "  warnings.warn(f\"At iteration {i}, metric {name} had value None!\")\n"
     ]
    },
    {
     "name": "stdout",
     "output_type": "stream",
     "text": [
      "[1.06 epo]: COLA:[train/loss=None] COLA:ends_with_question_mark:[train/loss=3.92e-01] model:[train/loss=3.92e-01, train/lr=5.00e-05]\n",
      "Evaluating 57 / 1042 active labels\n",
      "[1.11 epo]: COLA:[train/loss=None] COLA:ends_with_question_mark:[train/loss=3.25e-01, COLA_valid/accuracy=7.02e-01, COLA_valid/matthews_corr=3.45e-01] model:[train/loss=3.25e-01, train/lr=5.00e-05, valid/glue=nan]\n"
     ]
    },
    {
     "name": "stderr",
     "output_type": "stream",
     "text": [
      "/dfs/scratch0/vschen/metal-mmtl/metal/logging/tensorboard.py:26: UserWarning: At iteration 594, metric COLA/train/loss had value None!\n",
      "  warnings.warn(f\"At iteration {i}, metric {name} had value None!\")\n",
      "/dfs/scratch0/vschen/metal-mmtl/metal/logging/tensorboard.py:26: UserWarning: At iteration 621, metric COLA/train/loss had value None!\n",
      "  warnings.warn(f\"At iteration {i}, metric {name} had value None!\")\n"
     ]
    },
    {
     "name": "stdout",
     "output_type": "stream",
     "text": [
      "[1.16 epo]: COLA:[train/loss=None] COLA:ends_with_question_mark:[train/loss=3.33e-01] model:[train/loss=3.33e-01, train/lr=5.00e-05]\n",
      "Evaluating 57 / 1042 active labels\n",
      "[1.21 epo]: COLA:[train/loss=None] COLA:ends_with_question_mark:[train/loss=2.24e-01, COLA_valid/accuracy=7.02e-01, COLA_valid/matthews_corr=3.45e-01] model:[train/loss=2.24e-01, train/lr=5.00e-05, valid/glue=nan]\n"
     ]
    },
    {
     "name": "stderr",
     "output_type": "stream",
     "text": [
      "/dfs/scratch0/vschen/metal-mmtl/metal/logging/tensorboard.py:26: UserWarning: At iteration 648, metric COLA/train/loss had value None!\n",
      "  warnings.warn(f\"At iteration {i}, metric {name} had value None!\")\n",
      "/dfs/scratch0/vschen/metal-mmtl/metal/logging/tensorboard.py:26: UserWarning: At iteration 675, metric COLA/train/loss had value None!\n",
      "  warnings.warn(f\"At iteration {i}, metric {name} had value None!\")\n"
     ]
    },
    {
     "name": "stdout",
     "output_type": "stream",
     "text": [
      "[1.26 epo]: COLA:[train/loss=None] COLA:ends_with_question_mark:[train/loss=3.49e-01] model:[train/loss=3.49e-01, train/lr=5.00e-05]\n",
      "Evaluating 57 / 1042 active labels\n",
      "[1.31 epo]: COLA:[train/loss=None] COLA:ends_with_question_mark:[train/loss=2.29e-01, COLA_valid/accuracy=7.02e-01, COLA_valid/matthews_corr=3.45e-01] model:[train/loss=2.29e-01, train/lr=5.00e-05, valid/glue=nan]\n"
     ]
    },
    {
     "name": "stderr",
     "output_type": "stream",
     "text": [
      "/dfs/scratch0/vschen/metal-mmtl/metal/logging/tensorboard.py:26: UserWarning: At iteration 702, metric COLA/train/loss had value None!\n",
      "  warnings.warn(f\"At iteration {i}, metric {name} had value None!\")\n",
      "/dfs/scratch0/vschen/metal-mmtl/metal/logging/tensorboard.py:26: UserWarning: At iteration 729, metric COLA/train/loss had value None!\n",
      "  warnings.warn(f\"At iteration {i}, metric {name} had value None!\")\n"
     ]
    },
    {
     "name": "stdout",
     "output_type": "stream",
     "text": [
      "[1.36 epo]: COLA:[train/loss=None] COLA:ends_with_question_mark:[train/loss=2.17e-01] model:[train/loss=2.17e-01, train/lr=5.00e-05]\n",
      "\n"
     ]
    },
    {
     "data": {
      "application/vnd.jupyter.widget-view+json": {
       "model_id": "4f634b1f4d72454890157f887e6f15cf",
       "version_major": 2,
       "version_minor": 0
      },
      "text/plain": [
       "HBox(children=(IntProgress(value=0, max=535), HTML(value='')))"
      ]
     },
     "metadata": {},
     "output_type": "display_data"
    },
    {
     "name": "stdout",
     "output_type": "stream",
     "text": [
      "Evaluating 57 / 1042 active labels\n",
      "[1.41 epo]: COLA:[train/loss=None] COLA:ends_with_question_mark:[train/loss=2.41e-01, COLA_valid/accuracy=7.02e-01, COLA_valid/matthews_corr=3.45e-01] model:[train/loss=2.41e-01, train/lr=5.00e-05, valid/glue=nan]\n"
     ]
    },
    {
     "name": "stderr",
     "output_type": "stream",
     "text": [
      "/dfs/scratch0/vschen/metal-mmtl/metal/logging/tensorboard.py:26: UserWarning: At iteration 756, metric COLA/train/loss had value None!\n",
      "  warnings.warn(f\"At iteration {i}, metric {name} had value None!\")\n",
      "/dfs/scratch0/vschen/metal-mmtl/metal/logging/tensorboard.py:26: UserWarning: At iteration 783, metric COLA/train/loss had value None!\n",
      "  warnings.warn(f\"At iteration {i}, metric {name} had value None!\")\n"
     ]
    },
    {
     "name": "stdout",
     "output_type": "stream",
     "text": [
      "[1.46 epo]: COLA:[train/loss=None] COLA:ends_with_question_mark:[train/loss=1.30e-01] model:[train/loss=1.30e-01, train/lr=5.00e-05]\n",
      "Evaluating 57 / 1042 active labels\n",
      "[1.51 epo]: COLA:[train/loss=None] COLA:ends_with_question_mark:[train/loss=2.29e-01, COLA_valid/accuracy=7.02e-01, COLA_valid/matthews_corr=3.45e-01] model:[train/loss=2.29e-01, train/lr=5.00e-05, valid/glue=nan]\n"
     ]
    },
    {
     "name": "stderr",
     "output_type": "stream",
     "text": [
      "/dfs/scratch0/vschen/metal-mmtl/metal/logging/tensorboard.py:26: UserWarning: At iteration 810, metric COLA/train/loss had value None!\n",
      "  warnings.warn(f\"At iteration {i}, metric {name} had value None!\")\n",
      "/dfs/scratch0/vschen/metal-mmtl/metal/logging/tensorboard.py:26: UserWarning: At iteration 837, metric COLA/train/loss had value None!\n",
      "  warnings.warn(f\"At iteration {i}, metric {name} had value None!\")\n"
     ]
    },
    {
     "name": "stdout",
     "output_type": "stream",
     "text": [
      "[1.56 epo]: COLA:[train/loss=None] COLA:ends_with_question_mark:[train/loss=2.60e-01] model:[train/loss=2.60e-01, train/lr=5.00e-05]\n",
      "Evaluating 57 / 1042 active labels\n",
      "[1.61 epo]: COLA:[train/loss=None] COLA:ends_with_question_mark:[train/loss=3.26e-01, COLA_valid/accuracy=7.02e-01, COLA_valid/matthews_corr=3.45e-01] model:[train/loss=3.26e-01, train/lr=5.00e-05, valid/glue=nan]\n"
     ]
    },
    {
     "name": "stderr",
     "output_type": "stream",
     "text": [
      "/dfs/scratch0/vschen/metal-mmtl/metal/logging/tensorboard.py:26: UserWarning: At iteration 864, metric COLA/train/loss had value None!\n",
      "  warnings.warn(f\"At iteration {i}, metric {name} had value None!\")\n",
      "/dfs/scratch0/vschen/metal-mmtl/metal/logging/tensorboard.py:26: UserWarning: At iteration 891, metric COLA/train/loss had value None!\n",
      "  warnings.warn(f\"At iteration {i}, metric {name} had value None!\")\n"
     ]
    },
    {
     "name": "stdout",
     "output_type": "stream",
     "text": [
      "[1.67 epo]: COLA:[train/loss=None] COLA:ends_with_question_mark:[train/loss=5.38e-01] model:[train/loss=5.38e-01, train/lr=5.00e-05]\n",
      "Evaluating 57 / 1042 active labels\n",
      "[1.72 epo]: COLA:[train/loss=None] COLA:ends_with_question_mark:[train/loss=4.83e-01, COLA_valid/accuracy=7.02e-01, COLA_valid/matthews_corr=3.45e-01] model:[train/loss=4.83e-01, train/lr=5.00e-05, valid/glue=nan]\n"
     ]
    },
    {
     "name": "stderr",
     "output_type": "stream",
     "text": [
      "/dfs/scratch0/vschen/metal-mmtl/metal/logging/tensorboard.py:26: UserWarning: At iteration 918, metric COLA/train/loss had value None!\n",
      "  warnings.warn(f\"At iteration {i}, metric {name} had value None!\")\n",
      "/dfs/scratch0/vschen/metal-mmtl/metal/logging/tensorboard.py:26: UserWarning: At iteration 945, metric COLA/train/loss had value None!\n",
      "  warnings.warn(f\"At iteration {i}, metric {name} had value None!\")\n"
     ]
    },
    {
     "name": "stdout",
     "output_type": "stream",
     "text": [
      "[1.77 epo]: COLA:[train/loss=None] COLA:ends_with_question_mark:[train/loss=3.67e-01] model:[train/loss=3.67e-01, train/lr=5.00e-05]\n",
      "Evaluating 57 / 1042 active labels\n",
      "[1.82 epo]: COLA:[train/loss=None] COLA:ends_with_question_mark:[train/loss=8.09e-02, COLA_valid/accuracy=7.02e-01, COLA_valid/matthews_corr=3.45e-01] model:[train/loss=8.09e-02, train/lr=5.00e-05, valid/glue=nan]\n"
     ]
    },
    {
     "name": "stderr",
     "output_type": "stream",
     "text": [
      "/dfs/scratch0/vschen/metal-mmtl/metal/logging/tensorboard.py:26: UserWarning: At iteration 972, metric COLA/train/loss had value None!\n",
      "  warnings.warn(f\"At iteration {i}, metric {name} had value None!\")\n",
      "/dfs/scratch0/vschen/metal-mmtl/metal/logging/tensorboard.py:26: UserWarning: At iteration 999, metric COLA/train/loss had value None!\n",
      "  warnings.warn(f\"At iteration {i}, metric {name} had value None!\")\n"
     ]
    },
    {
     "name": "stdout",
     "output_type": "stream",
     "text": [
      "[1.87 epo]: COLA:[train/loss=None] COLA:ends_with_question_mark:[train/loss=3.95e-01] model:[train/loss=3.95e-01, train/lr=5.00e-05]\n",
      "Evaluating 57 / 1042 active labels\n",
      "[1.92 epo]: COLA:[train/loss=None] COLA:ends_with_question_mark:[train/loss=2.83e-01, COLA_valid/accuracy=7.02e-01, COLA_valid/matthews_corr=3.45e-01] model:[train/loss=2.83e-01, train/lr=5.00e-05, valid/glue=nan]\n"
     ]
    },
    {
     "name": "stderr",
     "output_type": "stream",
     "text": [
      "/dfs/scratch0/vschen/metal-mmtl/metal/logging/tensorboard.py:26: UserWarning: At iteration 1026, metric COLA/train/loss had value None!\n",
      "  warnings.warn(f\"At iteration {i}, metric {name} had value None!\")\n",
      "/dfs/scratch0/vschen/metal-mmtl/metal/logging/tensorboard.py:26: UserWarning: At iteration 1053, metric COLA/train/loss had value None!\n",
      "  warnings.warn(f\"At iteration {i}, metric {name} had value None!\")\n"
     ]
    },
    {
     "name": "stdout",
     "output_type": "stream",
     "text": [
      "[1.97 epo]: COLA:[train/loss=None] COLA:ends_with_question_mark:[train/loss=2.65e-01] model:[train/loss=2.65e-01, train/lr=5.00e-05]\n",
      "Evaluating 57 / 1042 active labels\n",
      "[2.02 epo]: COLA:[train/loss=None] COLA:ends_with_question_mark:[train/loss=1.03e-01, COLA_valid/accuracy=7.02e-01, COLA_valid/matthews_corr=3.45e-01] model:[train/loss=1.03e-01, train/lr=5.00e-05, valid/glue=nan]\n"
     ]
    },
    {
     "name": "stderr",
     "output_type": "stream",
     "text": [
      "/dfs/scratch0/vschen/metal-mmtl/metal/logging/tensorboard.py:26: UserWarning: At iteration 1080, metric COLA/train/loss had value None!\n",
      "  warnings.warn(f\"At iteration {i}, metric {name} had value None!\")\n",
      "/dfs/scratch0/vschen/metal-mmtl/metal/logging/tensorboard.py:26: UserWarning: At iteration 1107, metric COLA/train/loss had value None!\n",
      "  warnings.warn(f\"At iteration {i}, metric {name} had value None!\")\n"
     ]
    },
    {
     "name": "stdout",
     "output_type": "stream",
     "text": [
      "[2.07 epo]: COLA:[train/loss=None] COLA:ends_with_question_mark:[train/loss=3.86e-01] model:[train/loss=3.86e-01, train/lr=5.00e-05]\n",
      "\n",
      "Finished training\n",
      "Evaluating 615 / 8550 active labels\n",
      "Evaluating 57 / 1042 active labels\n",
      "Evaluating 53 / 1063 active labels\n",
      "{'COLA:ends_with_question_mark/COLA_test/accuracy': 0.0,\n",
      " 'COLA:ends_with_question_mark/COLA_test/matthews_corr': 0.0,\n",
      " 'COLA:ends_with_question_mark/COLA_train/accuracy': 0.9024390243902439,\n",
      " 'COLA:ends_with_question_mark/COLA_train/matthews_corr': 0.7717915771079772,\n",
      " 'COLA:ends_with_question_mark/COLA_valid/accuracy': 0.7017543859649122,\n",
      " 'COLA:ends_with_question_mark/COLA_valid/matthews_corr': 0.3445843938031584,\n",
      " 'model/None/glue': nan}\n",
      "Cleaning checkpoints\n",
      "Writing metrics to /dfs/scratch0/vschen/metal-mmtl/logs/2019_03_17/01_59_39/metrics.json\n",
      "Writing log to /dfs/scratch0/vschen/metal-mmtl/logs/2019_03_17/01_59_39/log.json\n"
     ]
    },
    {
     "name": "stderr",
     "output_type": "stream",
     "text": [
      "/dfs/scratch0/vschen/venv-mmtl/lib/python3.6/site-packages/sklearn/metrics/classification.py:543: RuntimeWarning: invalid value encountered in double_scalars\n",
      "  mcc = cov_ytyp / np.sqrt(cov_ytyt * cov_ypyp)\n"
     ]
    },
    {
     "name": "stdout",
     "output_type": "stream",
     "text": [
      "Full model saved at /dfs/scratch0/vschen/metal-mmtl/logs/2019_03_17/01_59_39/model.pkl\n"
     ]
    }
   ],
   "source": [
    "trainer.train_model(\n",
    "    model,\n",
    "    payloads_slice,\n",
    "    checkpoint_metric=\"COLA/COLA_valid/matthews_corr\",\n",
    "    checkpoint_metric_mode=\"max\",\n",
    "    writer=\"tensorboard\",\n",
    "    optimizer=\"adamax\",\n",
    "    lr=5e-5,\n",
    "    l2=1e-2,\n",
    "    log_every=0.05, \n",
    "    score_every=0.1,\n",
    "    n_epochs=3,\n",
    "    progress_bar=True\n",
    ")"
   ]
  },
  {
   "cell_type": "markdown",
   "metadata": {},
   "source": [
    "#### Did we improve?"
   ]
  },
  {
   "cell_type": "code",
   "execution_count": 17,
   "metadata": {
    "scrolled": true
   },
   "outputs": [
    {
     "name": "stdout",
     "output_type": "stream",
     "text": [
      "Evaluating 57 / 1042 active labels\n"
     ]
    },
    {
     "data": {
      "text/plain": [
       "{'COLA:ends_with_question_mark/COLA_valid/accuracy': 0.7017543859649122,\n",
       " 'COLA:ends_with_question_mark/COLA_valid/matthews_corr': 0.3445843938031584}"
      ]
     },
     "execution_count": 17,
     "metadata": {},
     "output_type": "execute_result"
    }
   ],
   "source": [
    "from metal.mmtl.metal_model import MetalModel\n",
    "model.score(payloads_slice[1])"
   ]
  },
  {
   "cell_type": "code",
   "execution_count": null,
   "metadata": {},
   "outputs": [],
   "source": []
  }
 ],
 "metadata": {
  "kernelspec": {
   "display_name": "Python 3",
   "language": "python",
   "name": "python3"
  },
  "language_info": {
   "codemirror_mode": {
    "name": "ipython",
    "version": 3
   },
   "file_extension": ".py",
   "mimetype": "text/x-python",
   "name": "python",
   "nbconvert_exporter": "python",
   "pygments_lexer": "ipython3",
   "version": "3.6.7"
  }
 },
 "nbformat": 4,
 "nbformat_minor": 2
}
