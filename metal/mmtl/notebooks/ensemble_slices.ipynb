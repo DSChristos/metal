{
 "cells": [
  {
   "cell_type": "code",
   "execution_count": null,
   "metadata": {},
   "outputs": [],
   "source": [
    "import numpy as np"
   ]
  },
  {
   "cell_type": "code",
   "execution_count": null,
   "metadata": {},
   "outputs": [],
   "source": [
    "%%time\n",
    "from metal.mmtl.glue.glue_tasks import create_tasks_and_payloads\n",
    "task_kwargs = {\n",
    "    \"dl_kwargs\": {\"batch_size\": 16},\n",
    "    \"bert_model\": 'bert-large-cased',\n",
    "    \"max_len\": 100   \n",
    "}\n",
    "\n",
    "task_names = [\"RTE\"]\n",
    "from metal.mmtl.metal_model import MetalModel\n",
    "tasks, payloads = create_tasks_and_payloads(task_names, **task_kwargs)\n",
    "model = MetalModel(tasks, seed=1, verbose=False)"
   ]
  },
  {
   "cell_type": "code",
   "execution_count": null,
   "metadata": {},
   "outputs": [],
   "source": [
    "checkpoints = {\n",
    "#     \"RTE\": \"/dfs/scratch0/vschen/metal-mmtl/logs/2019_03_18/10_08_00/checkpoints/RTE/best_model.pth\",\n",
    "#     \"RTE:dash_semicolon\": \"/dfs/scratch0/vschen/metal-mmtl/logs/2019_03_18/10_08_00/checkpoints/RTE:dash_semicolon/best_model.pth\"\n",
    "#     \"RTE\": \"/dfs/scratch0/vschen/metal-mmtl/logs/2019_03_17/23_11_40//checkpoints/RTE/best_model.pth\",\n",
    "#     \"RTE:dash_semicolon\": \"/dfs/scratch0/vschen/metal-mmtl/logs/2019_03_17/23_11_40//checkpoints/RTE:dash_semicolon/best_model.pth\",\n",
    "#     \"RTE:more_people\": \"/dfs/scratch0/vschen/metal-mmtl/logs/2019_03_17/23_11_40//checkpoints/RTE:more_people/best_model.pth\",\n",
    "#     \"RTE\": \"/dfs/scratch0/chami/metal/logs/slicing/23_11_40/best_model.pth\",\n",
    "#         \"RTE\": \"/dfs/scratch0/vschen/metal-mmtl/logs/2019_03_19/17_45_14/checkpoints/RTE/best_model.pth\"\n",
    "        \"RTE\": \"/dfs/scratch0/chami/metal/logs/2019_03_17/RTE_23_22_34/best_model.pth\"\n",
    "#     \"RTE:dash_semicolon\": \"/dfs/scratch0/vschen/metal-mmtl/logs/2019_03_19/17_45_14/checkpoints/RTE:dash_semicolon/best_model.pth\"\n",
    "#     \"RTE:more_people\": \"/dfs/scratch0/vschen/metal-mmtl/logs/2019_03_19/17_45_14/checkpoints/RTE:more_people/best_model.pth\"\n",
    "# \"RTE\": \"/dfs/scratch0/vschen/metal-mmtl/logs/2019_03_20/13_16_49/checkpoints/RTE/best_model.pth\",\n",
    "# \"RTE:dash_semicolon\": \"/dfs/scratch0/vschen/metal-mmtl/logs/2019_03_20/13_16_49/checkpoints/RTE:dash_semicolon/best_model.pth\",\n",
    "# \"RTE:more_people\": \"/dfs/scratch0/vschen/metal-mmtl/logs/2019_03_20/13_16_49/checkpoints/RTE:more_people/best_model.pth\",\n",
    "# \"RTE:entity_secondonly\": \"/dfs/scratch0/vschen/metal-mmtl/logs/2019_03_20/13_16_49/checkpoints/RTE:entity_secondonly/best_model.pth\"\n",
    "}"
   ]
  },
  {
   "cell_type": "code",
   "execution_count": null,
   "metadata": {},
   "outputs": [],
   "source": [
    "from collections import defaultdict"
   ]
  },
  {
   "cell_type": "code",
   "execution_count": null,
   "metadata": {
    "scrolled": false
   },
   "outputs": [],
   "source": [
    "# Create tasks and payloads\n",
    "slice_dict = defaultdict(list)\n",
    "task_names = []\n",
    "Ys_probs_all, Ys_all = {}, {}\n",
    "for name, model_path in checkpoints.items():\n",
    "    if \":\" in name:\n",
    "        task_name, slice_name = tuple(name.split(\":\"))\n",
    "        slice_dict[task_name].append(slice_name)\n",
    "        task_kwargs.update({\"slice_dict\": slice_dict})\n",
    "    else:\n",
    "        task_name = name\n",
    "\n",
    "    task_names.append(task_name)\n",
    "    tasks, payloads = create_tasks_and_payloads(task_names, **task_kwargs)\n",
    "\n",
    "    model.load_weights(model_path)\n",
    "    \n",
    "    # TODO: change for train/dev/test\n",
    "    payload = payloads[1]\n",
    "    print(model.score(payloads[1]))\n",
    "    \n",
    "    # eval on single model via predict_with_gold\n",
    "    Ys, Ys_probs, Ys_preds = model.predict_with_gold(\n",
    "        payload, [name], return_preds=True\n",
    "    )\n",
    "    \n",
    "    # use \"name\" = {task_name}:{slice_name} to grab slice-specific predictions\n",
    "    Ys_probs_all[name] = np.array(Ys_probs[name])\n",
    "    Ys_all[name] = np.array(Ys[name])\n",
    "    print(f\"Extracting probs for {name}\")"
   ]
  },
  {
   "cell_type": "code",
   "execution_count": null,
   "metadata": {},
   "outputs": [],
   "source": [
    "def ensemble_avg(task_name, Ys_probs_all, Ys_all):\n",
    "    \n",
    "    # only average if the mask is nonzero\n",
    "    n = len(Ys_probs_all[task_name])\n",
    "    scores = np.zeros(Ys_probs_all[task_name].shape)\n",
    "    counts = np.zeros((n,1))\n",
    "    for k in Ys_probs_all.keys():\n",
    "        Y_probs = Ys_probs_all[k]\n",
    "        Y = Ys_all[k].squeeze()\n",
    "        counts[Y != 0] += 1\n",
    "        scores += Y_probs\n",
    "        print(f\"Num abstains for {k}: {np.sum(Y == 0)}\")\n",
    "\n",
    "    averaged_preds = scores / counts\n",
    "    return averaged_preds\n",
    "\n",
    "def ensembled_masked(task_name, Ys_probs_all, Ys_all):\n",
    "    \"\"\"Alwasy defer to the expert slice head.\n",
    "    NOTE: assumes heads don't overlap.\n",
    "    \"\"\"\n",
    "    \n",
    "    # only average if the mask is nonzero\n",
    "    n = len(Ys_probs_all[task_name])\n",
    "    scores = Ys_probs_all[task_name]\n",
    "    \n",
    "    for k in Ys_probs_all.keys():\n",
    "        Y_probs = Ys_probs_all[k]\n",
    "        Y = Ys_all[k].squeeze()\n",
    "        \n",
    "        if \":\" in k:\n",
    "            scores[Y != 0, :] = Y_probs[Y != 0, :]\n",
    "\n",
    "    return scores"
   ]
  },
  {
   "cell_type": "code",
   "execution_count": null,
   "metadata": {},
   "outputs": [],
   "source": [
    "# probs = ensemble_avg('RTE', Ys_probs_all, Ys_all)\n",
    "probs = ensembled_masked('RTE', Ys_probs_all, Ys_all)\n"
   ]
  },
  {
   "cell_type": "code",
   "execution_count": null,
   "metadata": {},
   "outputs": [],
   "source": [
    "from metal.mmtl.metal_model import probs_to_preds\n",
    "preds = probs_to_preds(probs)\n",
    "labels = list(Ys_all.values())[0]"
   ]
  },
  {
   "cell_type": "code",
   "execution_count": null,
   "metadata": {},
   "outputs": [],
   "source": [
    "task_metrics_dict = {}\n",
    "for task_name in task_names:\n",
    "    target_metrics = {task_name: None}\n",
    "    metrics_dict = {}\n",
    "    scorer = model.task_map[task_name].scorer\n",
    "    task_metrics_dict[task_name] = scorer.score(\n",
    "        labels,\n",
    "        probs,\n",
    "        preds,\n",
    "        target_metrics=target_metrics[task_name],\n",
    "    )\n",
    "print(task_metrics_dict)"
   ]
  },
  {
   "cell_type": "code",
   "execution_count": null,
   "metadata": {},
   "outputs": [],
   "source": [
    "len(labels)"
   ]
  },
  {
   "cell_type": "code",
   "execution_count": null,
   "metadata": {},
   "outputs": [],
   "source": []
  }
 ],
 "metadata": {
  "kernelspec": {
   "display_name": "Python 3",
   "language": "python",
   "name": "python3"
  },
  "language_info": {
   "codemirror_mode": {
    "name": "ipython",
    "version": 3
   },
   "file_extension": ".py",
   "mimetype": "text/x-python",
   "name": "python",
   "nbconvert_exporter": "python",
   "pygments_lexer": "ipython3",
   "version": "3.6.7"
  }
 },
 "nbformat": 4,
 "nbformat_minor": 2
}
