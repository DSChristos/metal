{
 "cells": [
  {
   "cell_type": "code",
   "execution_count": 1,
   "metadata": {},
   "outputs": [
    {
     "name": "stdout",
     "output_type": "stream",
     "text": [
      "The autoreload extension is already loaded. To reload it, use:\n",
      "  %reload_ext autoreload\n"
     ]
    }
   ],
   "source": [
    "%load_ext autoreload\n",
    "%autoreload 2"
   ]
  },
  {
   "cell_type": "code",
   "execution_count": 2,
   "metadata": {},
   "outputs": [],
   "source": [
    "from pprint import pprint\n",
    "import numpy as np\n",
    "import pandas as pd\n",
    "import torch"
   ]
  },
  {
   "cell_type": "code",
   "execution_count": 3,
   "metadata": {
    "scrolled": true
   },
   "outputs": [
    {
     "name": "stdout",
     "output_type": "stream",
     "text": [
      "Better speed can be achieved with apex installed from https://www.github.com/nvidia/apex.\n",
      "Using random seed: 608029\n",
      "Loading RTE Dataset\n"
     ]
    },
    {
     "data": {
      "application/vnd.jupyter.widget-view+json": {
       "model_id": "3821def26fba47709e2aac1bde967037",
       "version_major": 2,
       "version_minor": 0
      },
      "text/plain": [
       "HBox(children=(IntProgress(value=0, max=200), HTML(value='')))"
      ]
     },
     "metadata": {},
     "output_type": "display_data"
    },
    {
     "name": "stdout",
     "output_type": "stream",
     "text": [
      "\n"
     ]
    },
    {
     "data": {
      "application/vnd.jupyter.widget-view+json": {
       "model_id": "9ae251cd567545798f3b92c1d845bd33",
       "version_major": 2,
       "version_minor": 0
      },
      "text/plain": [
       "HBox(children=(IntProgress(value=0, max=200), HTML(value='')))"
      ]
     },
     "metadata": {},
     "output_type": "display_data"
    },
    {
     "name": "stdout",
     "output_type": "stream",
     "text": [
      "\n"
     ]
    },
    {
     "data": {
      "application/vnd.jupyter.widget-view+json": {
       "model_id": "ce0146581afb4fd2a91df4c96e18863f",
       "version_major": 2,
       "version_minor": 0
      },
      "text/plain": [
       "HBox(children=(IntProgress(value=0, max=200), HTML(value='')))"
      ]
     },
     "metadata": {},
     "output_type": "display_data"
    },
    {
     "name": "stdout",
     "output_type": "stream",
     "text": [
      "\n",
      "[ClassificationTask(name=RTE)]\n",
      "[Payload(RTE_train: tasks=[RTE], split=train),\n",
      " Payload(RTE_valid: tasks=[RTE], split=valid),\n",
      " Payload(RTE_test: tasks=[RTE], split=test)]\n"
     ]
    }
   ],
   "source": [
    "from metal.mmtl.glue_tasks import create_tasks_and_payloads\n",
    "\n",
    "task_names = [\n",
    "#     \"COLA\", \n",
    "#     \"SST2\", \n",
    "#     \"MNLI\",\n",
    "    \"RTE\",\n",
    "#     \"WNLI\",\n",
    "#     \"QQP\",\n",
    "#     \"MRPC\",\n",
    "#     \"STSB\",\n",
    "#     \"QNLI\"\n",
    "]\n",
    "tasks, payloads = create_tasks_and_payloads(\n",
    "    task_names,\n",
    "    max_datapoints=200,\n",
    "    max_len=200,\n",
    "    dl_kwargs={\"batch_size\": 4}\n",
    ")\n",
    "print(tasks)\n",
    "pprint(payloads)"
   ]
  },
  {
   "cell_type": "code",
   "execution_count": 4,
   "metadata": {},
   "outputs": [],
   "source": [
    "import copy\n",
    "import numpy as np\n",
    "from torch.utils.data import SequentialSampler\n",
    "\n",
    "def mark_thirds(x):\n",
    "    tokens = x\n",
    "    count = len(tokens)\n",
    "    Y_thirds = np.ceil(np.array([idx * 3/count for idx in range(1, count + 1)])).astype(np.int64)\n",
    "    return Y_thirds\n",
    "\n",
    "def make_thirds_labelset(payload):\n",
    "    \"\"\"Returns Y, an [n] list of seq_len labels\"\"\"\n",
    "    X = payload.data_loader.dataset.tokens\n",
    "    Y = []\n",
    "    for x in X:\n",
    "        Y.append(mark_thirds(x))\n",
    "    return Y\n",
    "\n",
    "# def overwrite_labels(dataset, label_generator):\n",
    "#     \"\"\"Creates a copy of dataset where the labels are overwritten with a new labelset\n",
    "    \n",
    "#     Args:\n",
    "#         dataset: a dataset consisting of (X, Ys)\n",
    "#         label_generator: a function which maps from a single instance x to its new label\n",
    "#     Returns:\n",
    "#         dataset_new: a new dataset where the labels have been overwritten by label_generator\n",
    "#     \"\"\"\n",
    "#     dataset_new = copy.deepcopy(dataset)\n",
    "#     X = dataset_new.tokens\n",
    "#     Y_new = []\n",
    "#     for x in X:\n",
    "#         Y_new.append(label_generator(x))\n",
    "#     dataset_new.labels = [Y_new]\n",
    "#     return dataset_new\n",
    "\n",
    "# def append_labels(dataset, label_generator):\n",
    "#     X = dataset.tokens\n",
    "#     Y_new = []\n",
    "#     for x in X:\n",
    "#         Y_new.append(label_generator(x))\n",
    "#     dataset.labels.append(Y_new)\n",
    "#     return dataset   "
   ]
  },
  {
   "cell_type": "markdown",
   "metadata": {},
   "source": [
    "## Create Token Task"
   ]
  },
  {
   "cell_type": "code",
   "execution_count": 5,
   "metadata": {},
   "outputs": [
    {
     "name": "stdout",
     "output_type": "stream",
     "text": [
      "[ClassificationTask(name=RTE), TokenClassificationTask(name=THIRD)]\n"
     ]
    }
   ],
   "source": [
    "from metal.mmtl.task import TokenClassificationTask\n",
    "from metal.mmtl.modules import BertTokenClassificationHead\n",
    "from metal.mmtl.payload import Payload\n",
    "\n",
    "base_task = tasks[0]\n",
    "bert_module = tasks[0].input_module\n",
    "token_head = BertTokenClassificationHead(768, 3)\n",
    "\n",
    "thirds_task = TokenClassificationTask(\n",
    "        name=\"THIRD\",\n",
    "        input_module=bert_module,\n",
    "        head_module=token_head,\n",
    ")\n",
    "\n",
    "tasks.append(thirds_task)\n",
    "pprint(tasks)"
   ]
  },
  {
   "cell_type": "markdown",
   "metadata": {},
   "source": [
    "### Create new payloads with only token labels"
   ]
  },
  {
   "cell_type": "code",
   "execution_count": 6,
   "metadata": {
    "scrolled": false
   },
   "outputs": [],
   "source": [
    "# token_payloads = []\n",
    "# for payload in payloads:\n",
    "#     payload = copy.deepcopy(payload)\n",
    "#     payload.name = f\"THIRD_{payload.split}\"\n",
    "#     payload.task_names = [\"THIRD\"]\n",
    "#     payload.data_loader.dataset.labels = {\"THIRD\": make_thirds_labelset(payload)}\n",
    "#     token_payloads.append(payload)\n",
    "# payloads.extend(token_payloads)\n",
    "\n",
    "# pprint(payloads)\n",
    "# print(tasks)"
   ]
  },
  {
   "cell_type": "markdown",
   "metadata": {},
   "source": [
    "###  Supplement an existing payload with an additional token labelset"
   ]
  },
  {
   "cell_type": "code",
   "execution_count": 7,
   "metadata": {
    "scrolled": true
   },
   "outputs": [
    {
     "name": "stdout",
     "output_type": "stream",
     "text": [
      "[Payload(RTE_train: tasks=[RTE,THIRD], split=train),\n",
      " Payload(RTE_valid: tasks=[RTE,THIRD], split=valid),\n",
      " Payload(RTE_test: tasks=[RTE,THIRD], split=test)]\n",
      "[ClassificationTask(name=RTE), TokenClassificationTask(name=THIRD)]\n"
     ]
    }
   ],
   "source": [
    "for payload in payloads:\n",
    "    payload.task_names.append(\"THIRD\")\n",
    "    payload.data_loader.dataset.labels[\"THIRD\"] = make_thirds_labelset(payload)\n",
    "\n",
    "pprint(payloads)\n",
    "print(tasks)"
   ]
  },
  {
   "cell_type": "code",
   "execution_count": 8,
   "metadata": {
    "scrolled": false
   },
   "outputs": [],
   "source": [
    "# for batch in tasks[0].data_loaders[\"train\"]:\n",
    "#     X, Ys = batch\n",
    "#     tokens, segments, masks = X\n",
    "#     batch_size, seq_len = tokens.shape\n",
    "#     print(tokens)\n",
    "#     print(tokens.shape)\n",
    "#     print(segments)\n",
    "#     print(masks)\n",
    "# #     active_lens = masks.sum(dim=1)\n",
    "# #     print(active_lens)\n",
    "#     print(Ys)\n",
    "#     print(Ys[0].shape)\n",
    "#     break"
   ]
  },
  {
   "cell_type": "markdown",
   "metadata": {},
   "source": [
    "## Train a model"
   ]
  },
  {
   "cell_type": "code",
   "execution_count": 9,
   "metadata": {},
   "outputs": [
    {
     "name": "stdout",
     "output_type": "stream",
     "text": [
      "Cuda devices:  [Not Set]\n"
     ]
    }
   ],
   "source": [
    "import os\n",
    "print('Cuda devices: ', os.environ.get('CUDA_VISIBLE_DEVICES', \"[Not Set]\"))"
   ]
  },
  {
   "cell_type": "code",
   "execution_count": 10,
   "metadata": {
    "scrolled": false
   },
   "outputs": [
    {
     "name": "stdout",
     "output_type": "stream",
     "text": [
      "109486085\n"
     ]
    }
   ],
   "source": [
    "from metal.mmtl.metal_model import MetalModel\n",
    "\n",
    "model = MetalModel(tasks, verbose=False)\n",
    "print(sum(p.numel() for p in model.parameters() if p.requires_grad))"
   ]
  },
  {
   "cell_type": "code",
   "execution_count": 11,
   "metadata": {},
   "outputs": [],
   "source": [
    "from metal.mmtl.trainer import MultitaskTrainer\n",
    "trainer = MultitaskTrainer()"
   ]
  },
  {
   "cell_type": "code",
   "execution_count": 12,
   "metadata": {
    "scrolled": false
   },
   "outputs": [
    {
     "name": "stdout",
     "output_type": "stream",
     "text": [
      "Beginning train loop.\n",
      "Expecting a total of approximately 200 examples and 50 batches per epoch from 1 payload(s) in the train split.\n"
     ]
    },
    {
     "data": {
      "application/vnd.jupyter.widget-view+json": {
       "model_id": "d04353c89a734807bc2858c457bc203f",
       "version_major": 2,
       "version_minor": 0
      },
      "text/plain": [
       "HBox(children=(IntProgress(value=0, max=50), HTML(value='')))"
      ]
     },
     "metadata": {},
     "output_type": "display_data"
    },
    {
     "name": "stderr",
     "output_type": "stream",
     "text": [
      "/dfs/scratch0/bradenjh/metal/metal/mmtl/trainer.py:457: UserWarning: You requested glue score but have fewer than 9 tasks. Be aware.\n",
      "  warnings.warn(msg)\n"
     ]
    },
    {
     "name": "stdout",
     "output_type": "stream",
     "text": [
      "[0.50 epo]: RTE:[train/loss=7.03e-01, RTE_valid/accuracy=5.40e-01] THIRD:[train/loss=1.07e+00, RTE_valid/token_acc=5.01e-01] model:[train/loss=8.85e-01, train/lr=1.00e-05, valid/loss=8.54e-01, valid/glue=5.40e-01]\n",
      "[1.0 epo]: RTE:[train/loss=6.93e-01, RTE_valid/accuracy=4.55e-01] THIRD:[train/loss=9.95e-01, RTE_valid/token_acc=6.37e-01] model:[train/loss=8.44e-01, train/lr=1.00e-05, valid/loss=8.05e-01, valid/glue=4.55e-01]\n",
      "\n",
      "Finished training\n",
      "{'RTE/RTE_valid/accuracy': 0.455,\n",
      " 'THIRD/RTE_valid/token_acc': 0.637119213358092,\n",
      " 'model/valid/glue': 0.455,\n",
      " 'model/valid/loss': 0.8065810185670853}\n",
      "Cleaning checkpoints\n"
     ]
    }
   ],
   "source": [
    "trainer.train_model(\n",
    "    model,\n",
    "    payloads,\n",
    "    task_metrics=[\"model/valid/loss\"],\n",
    "    checkpoint_metric=\"model/valid/loss\",\n",
    "    test_split=\"valid\",\n",
    "    checkpoint_metric_mode=\"min\",\n",
    "    checkpoint_tasks=False,\n",
    "    n_epochs=1,\n",
    "    lr=1e-5,\n",
    "    log_every=0.5,\n",
    "    score_every=0.5,\n",
    "    progress_bar=True\n",
    ")"
   ]
  },
  {
   "cell_type": "code",
   "execution_count": 13,
   "metadata": {},
   "outputs": [
    {
     "name": "stdout",
     "output_type": "stream",
     "text": [
      "WE WIN!\n"
     ]
    }
   ],
   "source": [
    "print(\"WE WIN!\")"
   ]
  },
  {
   "cell_type": "code",
   "execution_count": null,
   "metadata": {},
   "outputs": [],
   "source": []
  }
 ],
 "metadata": {
  "kernelspec": {
   "display_name": "Python [conda env:metal] *",
   "language": "python",
   "name": "conda-env-metal-py"
  },
  "language_info": {
   "codemirror_mode": {
    "name": "ipython",
    "version": 3
   },
   "file_extension": ".py",
   "mimetype": "text/x-python",
   "name": "python",
   "nbconvert_exporter": "python",
   "pygments_lexer": "ipython3",
   "version": "3.6.7"
  }
 },
 "nbformat": 4,
 "nbformat_minor": 2
}
