{
 "cells": [
  {
   "cell_type": "code",
   "execution_count": 5,
   "metadata": {},
   "outputs": [
    {
     "ename": "ModuleNotFoundError",
     "evalue": "No module named 'metal.mmtl.debugging.slicing'",
     "output_type": "error",
     "traceback": [
      "\u001b[0;31m---------------------------------------------------------------------------\u001b[0m",
      "\u001b[0;31mModuleNotFoundError\u001b[0m                       Traceback (most recent call last)",
      "\u001b[0;32m<ipython-input-5-0347b38e9616>\u001b[0m in \u001b[0;36m<module>\u001b[0;34m\u001b[0m\n\u001b[1;32m      1\u001b[0m \u001b[0;32mimport\u001b[0m \u001b[0mos\u001b[0m\u001b[0;34m\u001b[0m\u001b[0;34m\u001b[0m\u001b[0m\n\u001b[1;32m      2\u001b[0m \u001b[0;32mimport\u001b[0m \u001b[0mcodecs\u001b[0m\u001b[0;34m\u001b[0m\u001b[0;34m\u001b[0m\u001b[0m\n\u001b[0;32m----> 3\u001b[0;31m \u001b[0;32mfrom\u001b[0m \u001b[0mmetal\u001b[0m\u001b[0;34m.\u001b[0m\u001b[0mmmtl\u001b[0m\u001b[0;34m.\u001b[0m\u001b[0mdebugging\u001b[0m\u001b[0;34m.\u001b[0m\u001b[0mslicing\u001b[0m \u001b[0;32mimport\u001b[0m \u001b[0;34m*\u001b[0m\u001b[0;34m\u001b[0m\u001b[0;34m\u001b[0m\u001b[0m\n\u001b[0m",
      "\u001b[0;31mModuleNotFoundError\u001b[0m: No module named 'metal.mmtl.debugging.slicing'"
     ]
    }
   ],
   "source": [
    "import os\n",
    "import codecs\n",
    "from metal.mmtl.debugging.slicing import *"
   ]
  },
  {
   "cell_type": "markdown",
   "metadata": {},
   "source": [
    "## RTE Slices"
   ]
  },
  {
   "cell_type": "code",
   "execution_count": 3,
   "metadata": {},
   "outputs": [],
   "source": [
    "func_name = 'morepeople'\n",
    "task_name = 'RTE'\n",
    "split = 'dev'\n",
    "tsv_path = f'/dfs/scratch0/mccreery/glue_slices/{task_name}/{split}.tsv'\n",
    "save_path = f'/dfs/scratch0/mccreery/glue_slices/{task_name}_{func_name}/{split}.tsv'"
   ]
  },
  {
   "cell_type": "code",
   "execution_count": 61,
   "metadata": {},
   "outputs": [
    {
     "name": "stdout",
     "output_type": "stream",
     "text": [
      "slice prop: 109/277\n"
     ]
    }
   ],
   "source": [
    "config = get_task_tsv_config(task_name,split)\n",
    "\n",
    "sent1_idx = config[\"sent1_idx\"]\n",
    "sent2_idx = config[\"sent2_idx\"]\n",
    "filtered_rows = []\n",
    "all_rows = []\n",
    "with codecs.open(tsv_path, \"r\", \"utf-8\") as data_fh:\n",
    "    filtered_rows.append(data_fh.readline())\n",
    "    all_rows.append(data_fh.readline())\n",
    "    for i, row in enumerate(data_fh):\n",
    "        sent1 = row.split('\\t')[sent1_idx]\n",
    "        in_slice = slice_fn(sent1)\n",
    "        if in_slice:\n",
    "            filtered_rows.append(row)\n",
    "        all_rows.append(row)\n",
    "print(f'slice prop: {len(filtered_rows)}/{len(all_rows)}')"
   ]
  },
  {
   "cell_type": "code",
   "execution_count": 45,
   "metadata": {},
   "outputs": [
    {
     "data": {
      "text/plain": [
       "109"
      ]
     },
     "execution_count": 45,
     "metadata": {},
     "output_type": "execute_result"
    }
   ],
   "source": [
    "with codecs.open(save_path, \"w\", \"utf-8\") as data_fh:\n",
    "    for row in filtered_rows:\n",
    "        data_fh.write(row)"
   ]
  },
  {
   "cell_type": "markdown",
   "metadata": {},
   "source": [
    "## COLA Slices "
   ]
  },
  {
   "cell_type": "code",
   "execution_count": 77,
   "metadata": {},
   "outputs": [],
   "source": [
    "split = 'train'\n",
    "tsv_path = f'/dfs/scratch0/chami/glue_slices/CoLA/{split}.tsv'\n",
    "save_path = f'/dfs/scratch0/chami/glue_slices/CoLA_long/{split}.tsv'"
   ]
  },
  {
   "cell_type": "code",
   "execution_count": 78,
   "metadata": {},
   "outputs": [
    {
     "name": "stdout",
     "output_type": "stream",
     "text": [
      "slice prop: 1429/8550\n"
     ]
    }
   ],
   "source": [
    "slice_fn = lambda sent: len(sent.split()) > 10\n",
    "sent1_idx = 3\n",
    "filtered_rows = []\n",
    "all_rows = []\n",
    "with codecs.open(tsv_path, \"r\", \"utf-8\") as data_fh:\n",
    "    filtered_rows.append(data_fh.readline())\n",
    "    all_rows.append(data_fh.readline())\n",
    "    for i, row in enumerate(data_fh):\n",
    "        sent1 = row.split('\\t')[sent1_idx]\n",
    "        #print(sent1, len(sent1.split()))\n",
    "        in_slice = slice_fn(sent1)\n",
    "        if in_slice:\n",
    "            filtered_rows.append(row)\n",
    "        all_rows.append(row)\n",
    "print(f'slice prop: {len(filtered_rows)}/{len(all_rows)}')"
   ]
  },
  {
   "cell_type": "code",
   "execution_count": 80,
   "metadata": {},
   "outputs": [],
   "source": [
    "with codecs.open(save_path, \"w\", \"utf-8\") as data_fh:\n",
    "    for row in filtered_rows:\n",
    "        data_fh.write(row)"
   ]
  },
  {
   "cell_type": "markdown",
   "metadata": {},
   "source": [
    "## SST-2 Slices"
   ]
  },
  {
   "cell_type": "code",
   "execution_count": null,
   "metadata": {},
   "outputs": [],
   "source": [
    "split = 'train'\n",
    "tsv_path = f'/dfs/scratch0/chami/glue_slices/CoLA/{split}.tsv'\n",
    "save_path = f'/dfs/scratch0/chami/glue_slices/CoLA_long/{split}.tsv'\n",
    "\n",
    "slice_fn = lambda sent: len(sent.split()) > 10\n",
    "\n",
    "sent1_idx = 3\n",
    "filtered_rows = []\n",
    "all_rows = []\n",
    "with codecs.open(tsv_path, \"r\", \"utf-8\") as data_fh:\n",
    "    filtered_rows.append(data_fh.readline())\n",
    "    all_rows.append(data_fh.readline())\n",
    "    for i, row in enumerate(data_fh):\n",
    "        sent1 = row.split('\\t')[sent1_idx]\n",
    "        #print(sent1, len(sent1.split()))\n",
    "        in_slice = slice_fn(sent1)\n",
    "        if in_slice:\n",
    "            filtered_rows.append(row)\n",
    "        all_rows.append(row)\n",
    "print(f'slice prop: {len(filtered_rows)}/{len(all_rows)}')"
   ]
  },
  {
   "cell_type": "code",
   "execution_count": null,
   "metadata": {},
   "outputs": [],
   "source": [
    "with codecs.open(save_path, \"w\", \"utf-8\") as data_fh:\n",
    "    for row in filtered_rows:\n",
    "        data_fh.write(row)"
   ]
  },
  {
   "cell_type": "code",
   "execution_count": null,
   "metadata": {},
   "outputs": [],
   "source": []
  }
 ],
 "metadata": {
  "kernelspec": {
   "display_name": "Python 3",
   "language": "python",
   "name": "python3"
  },
  "language_info": {
   "codemirror_mode": {
    "name": "ipython",
    "version": 3
   },
   "file_extension": ".py",
   "mimetype": "text/x-python",
   "name": "python",
   "nbconvert_exporter": "python",
   "pygments_lexer": "ipython3",
   "version": "3.6.7"
  }
 },
 "nbformat": 4,
 "nbformat_minor": 2
}
