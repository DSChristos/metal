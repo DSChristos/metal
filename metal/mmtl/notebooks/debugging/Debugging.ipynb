{
 "cells": [
  {
   "cell_type": "code",
   "execution_count": 3,
   "metadata": {},
   "outputs": [
    {
     "name": "stdout",
     "output_type": "stream",
     "text": [
      "The autoreload extension is already loaded. To reload it, use:\n",
      "  %reload_ext autoreload\n"
     ]
    }
   ],
   "source": [
    "%load_ext autoreload\n",
    "%autoreload 2\n",
    "%matplotlib inline\n",
    "\n",
    "import torch \n",
    "import matplotlib.pyplot as plt\n",
    "import numpy as np\n",
    "import pandas as pd\n",
    "\n",
    "from utils import *"
   ]
  },
  {
   "cell_type": "markdown",
   "metadata": {},
   "source": [
    "### Load Model and Data\n",
    "- freeze this and make copies for \n",
    "- need different things for non-accuracy\n",
    "- have a script for saving and loading dataframes\n",
    "\n",
    "- have LF sandbox with visualization/metric for LFs at the bottom after shifting things to utils.py\n",
    "- percentage of data in each category"
   ]
  },
  {
   "cell_type": "code",
   "execution_count": 6,
   "metadata": {},
   "outputs": [
    {
     "data": {
      "application/vnd.jupyter.widget-view+json": {
       "model_id": "9fb4d8ece46e4a8d9e0e5c2dfdbb42ec",
       "version_major": 2,
       "version_minor": 0
      },
      "text/plain": [
       "HBox(children=(IntProgress(value=0, max=1043), HTML(value='')))"
      ]
     },
     "metadata": {},
     "output_type": "display_data"
    },
    {
     "name": "stdout",
     "output_type": "stream",
     "text": [
      "\n",
      "Loading COLA Dataset\n"
     ]
    },
    {
     "data": {
      "application/vnd.jupyter.widget-view+json": {
       "model_id": "500110cda4954a95a5b390219d4b411b",
       "version_major": 2,
       "version_minor": 0
      },
      "text/plain": [
       "HBox(children=(IntProgress(value=0, max=10), HTML(value='')))"
      ]
     },
     "metadata": {},
     "output_type": "display_data"
    },
    {
     "name": "stdout",
     "output_type": "stream",
     "text": [
      "\n"
     ]
    },
    {
     "data": {
      "application/vnd.jupyter.widget-view+json": {
       "model_id": "5fcaa6e46e78401da2ce7e7edb74b61f",
       "version_major": 2,
       "version_minor": 0
      },
      "text/plain": [
       "HBox(children=(IntProgress(value=0, max=10), HTML(value='')))"
      ]
     },
     "metadata": {},
     "output_type": "display_data"
    },
    {
     "name": "stdout",
     "output_type": "stream",
     "text": [
      "\n"
     ]
    },
    {
     "data": {
      "application/vnd.jupyter.widget-view+json": {
       "model_id": "facb7aed4c134fba8448c35f8ff2767a",
       "version_major": 2,
       "version_minor": 0
      },
      "text/plain": [
       "HBox(children=(IntProgress(value=0, max=10), HTML(value='')))"
      ]
     },
     "metadata": {},
     "output_type": "display_data"
    },
    {
     "name": "stdout",
     "output_type": "stream",
     "text": [
      "\n",
      "creating dataframe\n"
     ]
    },
    {
     "name": "stderr",
     "output_type": "stream",
     "text": [
      "100%|██████████| 33/33 [00:01<00:00, 32.20it/s]"
     ]
    },
    {
     "name": "stdout",
     "output_type": "stream",
     "text": [
      "created dataframe\n",
      "Saved dataframe to:  COLA_dev_error_analysis.tsv\n"
     ]
    },
    {
     "name": "stderr",
     "output_type": "stream",
     "text": [
      "\n"
     ]
    }
   ],
   "source": [
    "model_path = '/lfs/1/mccreery/repos/metal/logs/checkpoints/18-2-2019/COLA_15_11_24/best_model.pth'\n",
    "# '/dfs/scratch0/vschen/metal-mmtl/logs/test_logs/13-2-2019/RTE_22_52_53/best_model.pth'\n",
    "task_name = 'COLA' #'RTE'\n",
    "split = 'dev'\n",
    "\n",
    "#Load model and data\n",
    "model,dl = load_data_and_model(model_path,task_name,split)\n",
    "\n",
    "#Create DataFrame of Raw Data, Predictions, and Labels\n",
    "print('creating dataframe')\n",
    "df_error = create_dataframe(model_path,task_name,model,dl)\n",
    "print('created dataframe')\n",
    "df_error.head()\n",
    "\n",
    "#Save (and reload) DataFrame\n",
    "csv_path = '/'.join(model_path.split('/')[0:-1])\n",
    "filepath = f'{task_name}_{split}_error_analysis.tsv'\n",
    "save_dataframe(df_error,filepath)\n",
    "df_error = load_dataframe(filepath)"
   ]
  },
  {
   "cell_type": "markdown",
   "metadata": {},
   "source": [
    "## Sandbox for Error Analysis"
   ]
  },
  {
   "cell_type": "markdown",
   "metadata": {},
   "source": [
    "**0. Some basic statistics.**"
   ]
  },
  {
   "cell_type": "markdown",
   "metadata": {},
   "source": [
    "Confusion Matrix and Performance Metrics"
   ]
  },
  {
   "cell_type": "code",
   "execution_count": 7,
   "metadata": {},
   "outputs": [
    {
     "name": "stdout",
     "output_type": "stream",
     "text": [
      "        y=1    y=2   \n",
      " l=1    119    22    \n",
      " l=2    203    699   \n",
      "\n",
      "Accuracy: 0.784\n",
      "Precision: 0.844\n",
      "Recall: 0.370\n",
      "F1: 0.514\n"
     ]
    }
   ],
   "source": [
    "from metal.analysis import confusion_matrix\n",
    "#TODO: change to use the right function for label space change (0,1) to (1,2)\n",
    "confusion_matrix( df_error['label']+1.,1*(df_error['score']>0.5)+1., pretty_print=True)\n",
    "print()\n",
    "\n",
    "from metal.metrics import metric_score\n",
    "metric_list = ['accuracy','precision', 'recall', 'f1']\n",
    "\n",
    "for metric in metric_list:\n",
    "    score = metric_score(df_error['label']+1., 1*(df_error['score']>0.5)+1., metric, probs=df_error['score'])\n",
    "    print(f\"{metric.capitalize()}: {score:.3f}\")"
   ]
  },
  {
   "cell_type": "markdown",
   "metadata": {},
   "source": [
    "Plotting Predictions and Predicted Probabilistic Label Distribution"
   ]
  },
  {
   "cell_type": "code",
   "execution_count": 4,
   "metadata": {},
   "outputs": [
    {
     "data": {
      "image/png": "[encoded data removed]",
      "text/plain": [
       "<Figure size 432x288 with 1 Axes>"
      ]
     },
     "metadata": {
      "needs_background": "light"
     },
     "output_type": "display_data"
    },
    {
     "data": {
      "image/png": "[encoded data removed]",
      "text/plain": [
       "<Figure size 432x288 with 1 Axes>"
      ]
     },
     "metadata": {
      "needs_background": "light"
     },
     "output_type": "display_data"
    }
   ],
   "source": [
    "from metal.contrib.visualization.analysis import (\n",
    "        plot_predictions_histogram, \n",
    "        plot_probabilities_histogram,\n",
    "    )\n",
    "\n",
    "plot_predictions_histogram(df_error['score'], df_error['label'], title=\"Label Distribution\")\n",
    "plot_probabilities_histogram(df_error['score'], title=\"Probablistic Label Distribution\")"
   ]
  },
  {
   "cell_type": "markdown",
   "metadata": {},
   "source": [
    "**1. We want to look at examples that are \"barely\" wrong and \"barely\" right since we have hope for boosts here.**"
   ]
  },
  {
   "cell_type": "code",
   "execution_count": 5,
   "metadata": {},
   "outputs": [
    {
     "name": "stdout",
     "output_type": "stream",
     "text": [
      "\u001b[1mBARELY WRONG\u001b[0;0m\n",
      "ID:  2\n",
      "sentence1: \t cairo is now home to some 15 million people - a bu ##rgeon ##ing population that produces approximately 10 , 000 tonnes of rubbish per day , putting an enormous strain on public services . in the past 10 years , the government has tried hard to encourage private investment in the refuse sector , but some estimate 4 , 000 tonnes of waste is left behind every day , fest ##ering in the heat as it waits for someone to clear it up . it is often the people in the poor ##est neighbourhoods that are worst affected . but in some areas they are fighting back . in shu ##bra , one of the northern districts of the city , the residents have taken to the streets armed with dust ##pan ##s and brushes to clean up public areas which have been used as public dump ##s . \n",
      "sentence2: \t 15 million tonnes of rubbish are produced daily in cairo . \n",
      "score: \t0.9369\n",
      "label: \t0\n",
      "\n",
      "ID:  16\n",
      "sentence1: \t mice given a substance found in red wine lived longer despite a fatty diet , a study shows . \n",
      "sentence2: \t mice fed with red wine lived longer despite a fatty diet . \n",
      "score: \t0.9993\n",
      "label: \t0\n",
      "\n",
      "ID:  196\n",
      "sentence1: \t increased storage isn ' t all microsoft will be offering its hot ##mail users - - they can also look forward to free anti - virus protection . \n",
      "sentence2: \t microsoft won ' t offer increased storage to its users . \n",
      "score: \t0.9754\n",
      "label: \t0\n",
      "\n",
      "\u001b[1mBARELY RIGHT\u001b[0;0m\n",
      "ID:  200\n",
      "sentence1: \t two brothers who operated a north hollywood pl ##ating company that dumped thousands of gallons of cy ##ani ##de - laced waste water into the los angeles sewer system pleaded guilty thursday and must serve jail time for reckless ##ly handling and storing hazardous materials . \n",
      "sentence2: \t a california company was charged with reckless storage of chemicals . \n",
      "score: \t0.8334\n",
      "label: \t1\n",
      "\n",
      "ID:  134\n",
      "sentence1: \t a powerful typhoon battered the northern and central philippines with rains and winds thursday , killing at least three people and cutting off roads . authorities canceled flights and ferry service and shut down schools . typhoon x ##ang ##san ##e , packing winds of 81 mph made landfall overnight in the bi ##col central region and was forecast to pass through the capital manila , the philippine weather bureau said . \n",
      "sentence2: \t a typhoon batter ##s the philippines . \n",
      "score: \t0.6734\n",
      "label: \t1\n",
      "\n",
      "ID:  134\n",
      "sentence1: \t a powerful typhoon battered the northern and central philippines with rains and winds thursday , killing at least three people and cutting off roads . authorities canceled flights and ferry service and shut down schools . typhoon x ##ang ##san ##e , packing winds of 81 mph made landfall overnight in the bi ##col central region and was forecast to pass through the capital manila , the philippine weather bureau said . \n",
      "sentence2: \t a typhoon batter ##s the philippines . \n",
      "score: \t0.6734\n",
      "label: \t1\n",
      "\n"
     ]
    }
   ],
   "source": [
    "print(\"\\033[1mBARELY WRONG\\033[0;0m\")\n",
    "for i in range(3):\n",
    "    print_barely_pred(df_error,is_incorrect=True,thresh=0.2)\n",
    "    \n",
    "print(\"\\033[1mBARELY RIGHT\\033[0;0m\")\n",
    "for i in range(3):\n",
    "    print_barely_pred(df_error,is_incorrect=False,thresh=0.15)"
   ]
  },
  {
   "cell_type": "markdown",
   "metadata": {},
   "source": [
    "**2. We also want to look at examples we got completely wrong since that could point to a systematic bias in the data/model. It could also help us find examples in the dataset that are mislabeled by human annotators**"
   ]
  },
  {
   "cell_type": "code",
   "execution_count": 6,
   "metadata": {},
   "outputs": [
    {
     "name": "stdout",
     "output_type": "stream",
     "text": [
      "\u001b[1mVERY WRONG\u001b[0;0m\n",
      "ID:  167\n",
      "sentence1: \t today ' s best estimate of giant panda numbers in the wild is about 1 , 100 individuals living in up to 32 separate populations mostly in china ' s sichuan province , but also in sha ##an ##xi and gan ##su provinces . \n",
      "sentence2: \t there are 32 panda ##s in the wild in china . \n",
      "score: \t0.9995\n",
      "label: \t0\n",
      "\n",
      "ID:  264\n",
      "sentence1: \t hurricane katrina petroleum - supply outlook improved somewhat , yesterday , as u . s . and european governments agreed to release 2 million barrels a day , of oil and refined products , from their reserves . \n",
      "sentence2: \t 60 million barrels of oil and gasoline will be available to the marketplace . \n",
      "score: \t0.9974\n",
      "label: \t0\n",
      "\n",
      "ID:  13\n",
      "sentence1: \t a jury is slated to decide for the first time whether jack ke ##vor ##kian , famed as \" dr . death , \" has violated michigan ' s assisted - suicide ban , while the state continues to gr ##apple with the issue of what to allow when the ill want to end their pain by ending their lives . \n",
      "sentence2: \t jack ke ##vor ##kian is the real name of \" dr . death \" . \n",
      "score: \t0.0006\n",
      "label: \t1\n",
      "\n"
     ]
    }
   ],
   "source": [
    "print(\"\\033[1mVERY WRONG\\033[0;0m\")\n",
    "for i in range(3):\n",
    "    print_very_wrong_pred(df_error)"
   ]
  },
  {
   "cell_type": "markdown",
   "metadata": {},
   "source": [
    "**3. To find systematic errors, we can also look for correlations between certain features and the incorrectness a la Socratic**\n",
    "\n",
    "\n",
    "We can make this way more sophisticated by perhaps using embeddings instead of this simple [BoW featurization](https://scikit-learn.org/stable/modules/generated/sklearn.feature_extraction.text.CountVectorizer.html#sklearn.feature_extraction.text.CountVectorizer)."
   ]
  },
  {
   "cell_type": "code",
   "execution_count": 7,
   "metadata": {},
   "outputs": [
    {
     "name": "stdout",
     "output_type": "stream",
     "text": [
      "\u001b[1mSYSTEMATIC EXAMPLES\u001b[0;0m\n",
      "10 000\n",
      "holy field\n",
      "legal ization\n",
      "meet president\n",
      "award winning\n",
      "\n",
      "sentence1: \t romano pro ##di will meet the us president george bush in his capacity as president of the european commission . \n",
      "sentence2: \t romani pro ##di is the us president . \n",
      "score: \t0.9841\n",
      "label: \t0\n",
      "\n"
     ]
    },
    {
     "name": "stderr",
     "output_type": "stream",
     "text": [
      "/dfs/scratch0/vschen/venv-mmtl/lib/python3.6/site-packages/sklearn/linear_model/logistic.py:433: FutureWarning: Default solver will be changed to 'lbfgs' in 0.22. Specify a solver to silence this warning.\n",
      "  FutureWarning)\n"
     ]
    },
    {
     "name": "stdout",
     "output_type": "stream",
     "text": [
      "10 000\n",
      "holy field\n",
      "legal ization\n",
      "meet president\n",
      "award winning\n",
      "\n",
      "sentence1: \t both sides of this argument are presented in this paper , but it is the attempt of this paper to emphasize that the legal ##ization of drugs would be destructive to our society . \n",
      "sentence2: \t drug legal ##ization has benefits . \n",
      "score: \t0.5684\n",
      "label: \t0\n",
      "\n",
      "10 000\n",
      "holy field\n",
      "legal ization\n",
      "meet president\n",
      "new government\n",
      "\n",
      "sentence1: \t cairo is now home to some 15 million people - a bu ##rgeon ##ing population that produces approximately 10 , 000 tonnes of rubbish per day , putting an enormous strain on public services . in the past 10 years , the government has tried hard to encourage private investment in the refuse sector , but some estimate 4 , 000 tonnes of waste is left behind every day , fest ##ering in the heat as it waits for someone to clear it up . it is often the people in the poor ##est neighbourhoods that are worst affected . but in some areas they are fighting back . in shu ##bra , one of the northern districts of the city , the residents have taken to the streets armed with dust ##pan ##s and brushes to clean up public areas which have been used as public dump ##s . \n",
      "sentence2: \t 15 million tonnes of rubbish are produced daily in cairo . \n",
      "score: \t0.9369\n",
      "label: \t0\n",
      "\n"
     ]
    }
   ],
   "source": [
    "print(\"\\033[1mSYSTEMATIC EXAMPLES\\033[0;0m\")\n",
    "for i in range(3):\n",
    "    print_systematic_wrong(df_error)"
   ]
  },
  {
   "cell_type": "markdown",
   "metadata": {},
   "source": [
    "## Designing Labeling Functions"
   ]
  },
  {
   "cell_type": "markdown",
   "metadata": {},
   "source": [
    "**1. Number Based LF**\n",
    "\n",
    "Our model tends to fail when there are numbers involved in the two sentences. We can look for the same number being repeated in both sentences as an LF"
   ]
  },
  {
   "cell_type": "code",
   "execution_count": 8,
   "metadata": {},
   "outputs": [],
   "source": [
    "def LF_number(idx):\n",
    "    sentence1_nums = [int(s) for s in df_error['sentence1'][idx].split() if s.isdigit()]\n",
    "    sentence2_nums = [int(s) for s in df_error['sentence2'][idx].split() if s.isdigit()]\n",
    "    common_nums = len(set(sentence1_nums).intersection(set(sentence2_nums)))\n",
    "    \n",
    "    if (sentence1_nums == []) or (sentence2_nums == []):\n",
    "        return 0\n",
    "    \n",
    "    if common_nums > 0:\n",
    "        return 2\n",
    "    else:\n",
    "        return 1"
   ]
  },
  {
   "cell_type": "code",
   "execution_count": 9,
   "metadata": {},
   "outputs": [
    {
     "name": "stdout",
     "output_type": "stream",
     "text": [
      "sentence1: \t about 33 . 5 million people live in this massive con ##ur ##bation . i would guess that 95 % of the 5 , 000 officially foreign - capital firms in japan are based in tokyo . \n",
      "sentence2: \t about 33 . 5 mi ##ili ##on people live in tokyo . \n",
      "score: \t0.0013\n",
      "label: \t1\n",
      "\n",
      "LF_label:  1\n",
      "\n",
      "\n",
      "sentence1: \t monica meadows , a 22 - year - old model from atlanta , was shot in the shoulder on a subway car in new york city . \n",
      "sentence2: \t monica meadows , 23 , was shot in shoulder while riding a subway car in new york city \n",
      "score: \t0.9993\n",
      "label: \t0\n",
      "\n",
      "LF_label:  0\n"
     ]
    }
   ],
   "source": [
    "print_row(df_error.iloc[70])\n",
    "print(\"LF_label: \", LF_number(70)-1)\n",
    "\n",
    "print()\n",
    "print()\n",
    "print_row(df_error.iloc[254])\n",
    "print(\"LF_label: \", LF_number(254)-1)"
   ]
  },
  {
   "cell_type": "markdown",
   "metadata": {},
   "source": [
    "**2. Edit Distance Based LF**\n",
    "\n",
    "Our model tends to vote entailment when one sentence is long and the other is short. We can focus on this slice and flip the labelt o vote no entailment even when the number of words is the same."
   ]
  },
  {
   "cell_type": "code",
   "execution_count": 10,
   "metadata": {},
   "outputs": [],
   "source": [
    "def levenshteinDistance(s1, s2):\n",
    "    if len(s1) > len(s2):\n",
    "        s1, s2 = s2, s1\n",
    "\n",
    "    distances = range(len(s1) + 1)\n",
    "    for i2, c2 in enumerate(s2):\n",
    "        distances_ = [i2+1]\n",
    "        for i1, c1 in enumerate(s1):\n",
    "            if c1 == c2:\n",
    "                distances_.append(distances[i1])\n",
    "            else:\n",
    "                distances_.append(1 + min((distances[i1], distances[i1 + 1], distances_[-1])))\n",
    "        distances = distances_\n",
    "    return distances[-1]\n",
    "\n",
    "from collections import Counter\n",
    "def common_words(s1,s2):\n",
    "    s1_set = set(Counter(s1.split()))\n",
    "    s2_set = set(Counter(s2.split()))\n",
    "    return len(s1_set.intersection(s2_set))/float(min(len(s1_set),len(s2_set)))"
   ]
  },
  {
   "cell_type": "code",
   "execution_count": 11,
   "metadata": {},
   "outputs": [],
   "source": [
    "def LF_words(idx):\n",
    "    ratio = common_words(df_error['sentence1'][idx], df_error['sentence2'][idx])\n",
    "    if ratio < 0.3:\n",
    "        return 2\n",
    "    if (ratio <= 1.0) and (ratio > 0.4):\n",
    "        return 1\n",
    "    else:\n",
    "        return 0"
   ]
  },
  {
   "cell_type": "code",
   "execution_count": 12,
   "metadata": {},
   "outputs": [
    {
     "name": "stdout",
     "output_type": "stream",
     "text": [
      "sentence1: \t quebec woman and her mother accused of plotting to kill a four - year - old girl . \n",
      "sentence2: \t quebec woman murdered a four - year - old girl . \n",
      "score: \t0.9991\n",
      "label: \t0\n",
      "\n",
      "LF_label:  0\n",
      "\n",
      "\n",
      "sentence1: \t i asked myself how to understand the ' twilight ' s success . and i have come to the idea that when you really believe in something , sooner or later it will become real . so , i guess this is what happened with robert patti ##nson . last year he was just an unknown actor who ' s biggest role was in a pair of \" harry potter \" movies . now , not only that twilight is competing with ' harry potter ' , but robert patti ##nson is one of the most famous young actors who sucked $ 37 ##3 . 4 million from global box offices . so the movie about a vampire boy who falls in love with a normal girl , begun a real hysteria . and patti ##nson has a lot to do with it ! . \n",
      "sentence2: \t robert patti ##nson is a vampire . \n",
      "score: \t0.9206\n",
      "label: \t0\n",
      "\n",
      "LF_label:  0\n"
     ]
    }
   ],
   "source": [
    "print_row(df_error.iloc[150])\n",
    "print(\"LF_label: \", LF_words(150)-1)\n",
    "\n",
    "print()\n",
    "print()\n",
    "print_row(df_error.iloc[95])\n",
    "print(\"LF_label: \", LF_words(95)-1)"
   ]
  },
  {
   "cell_type": "markdown",
   "metadata": {},
   "source": [
    "### Analyze Labeling Functions"
   ]
  },
  {
   "cell_type": "code",
   "execution_count": 13,
   "metadata": {},
   "outputs": [],
   "source": [
    "L = np.zeros((np.shape(df_error)[0],2))\n",
    "for i in range(df_error.shape[0]):\n",
    "    L[i,0] = LF_number(i)\n",
    "    L[i,1] = LF_words(i)"
   ]
  },
  {
   "cell_type": "markdown",
   "metadata": {},
   "source": [
    "Labeling Function Summary"
   ]
  },
  {
   "cell_type": "code",
   "execution_count": 14,
   "metadata": {},
   "outputs": [
    {
     "data": {
      "text/html": [
       "<div>\n",
       "<style scoped>\n",
       "    .dataframe tbody tr th:only-of-type {\n",
       "        vertical-align: middle;\n",
       "    }\n",
       "\n",
       "    .dataframe tbody tr th {\n",
       "        vertical-align: top;\n",
       "    }\n",
       "\n",
       "    .dataframe thead th {\n",
       "        text-align: right;\n",
       "    }\n",
       "</style>\n",
       "<table border=\"1\" class=\"dataframe\">\n",
       "  <thead>\n",
       "    <tr style=\"text-align: right;\">\n",
       "      <th></th>\n",
       "      <th>Polarity</th>\n",
       "      <th>Coverage</th>\n",
       "      <th>Overlaps</th>\n",
       "      <th>Conflicts</th>\n",
       "      <th>Correct</th>\n",
       "      <th>Incorrect</th>\n",
       "      <th>Emp. Acc.</th>\n",
       "    </tr>\n",
       "  </thead>\n",
       "  <tbody>\n",
       "    <tr>\n",
       "      <th>0</th>\n",
       "      <td>[1.0, 2.0]</td>\n",
       "      <td>0.158845</td>\n",
       "      <td>0.155235</td>\n",
       "      <td>0.129964</td>\n",
       "      <td>22</td>\n",
       "      <td>22</td>\n",
       "      <td>0.500000</td>\n",
       "    </tr>\n",
       "    <tr>\n",
       "      <th>1</th>\n",
       "      <td>[1.0, 2.0]</td>\n",
       "      <td>0.949458</td>\n",
       "      <td>0.155235</td>\n",
       "      <td>0.129964</td>\n",
       "      <td>115</td>\n",
       "      <td>148</td>\n",
       "      <td>0.437262</td>\n",
       "    </tr>\n",
       "  </tbody>\n",
       "</table>\n",
       "</div>"
      ],
      "text/plain": [
       "     Polarity  Coverage  Overlaps  Conflicts  Correct  Incorrect  Emp. Acc.\n",
       "0  [1.0, 2.0]  0.158845  0.155235   0.129964       22         22   0.500000\n",
       "1  [1.0, 2.0]  0.949458  0.155235   0.129964      115        148   0.437262"
      ]
     },
     "execution_count": 14,
     "metadata": {},
     "output_type": "execute_result"
    }
   ],
   "source": [
    "from metal.analysis import lf_summary\n",
    "from scipy.sparse import csr_matrix    \n",
    "\n",
    "L_sparse = csr_matrix(L)\n",
    "lf_summary(L_sparse,Y=df_error.label+1)"
   ]
  },
  {
   "cell_type": "code",
   "execution_count": 16,
   "metadata": {},
   "outputs": [
    {
     "name": "stdout",
     "output_type": "stream",
     "text": [
      "Percentage Corrected by LF_num:  8.88888888888889\n",
      "Percentage Corrected by LF_words:  61.111111111111114\n"
     ]
    }
   ],
   "source": [
    "incorrect = set(np.where(df_error.is_wrong == True)[0])\n",
    "LF1_set = set(np.where(L[:,0]-1. == df_error.label)[0])\n",
    "LF2_set = set(np.where(L[:,1]-1. == df_error.label)[0])\n",
    "\n",
    "print(\"Percentage Corrected by LF_num: \", 100.*len(LF1_set.intersection(incorrect))/float(len(incorrect)))\n",
    "print(\"Percentage Corrected by LF_words: \", 100.*len(LF2_set.intersection(incorrect))/float(len(incorrect)))"
   ]
  }
 ],
 "metadata": {
  "kernelspec": {
   "display_name": "Python 3",
   "language": "python",
   "name": "python3"
  },
  "language_info": {
   "codemirror_mode": {
    "name": "ipython",
    "version": 3
   },
   "file_extension": ".py",
   "mimetype": "text/x-python",
   "name": "python",
   "nbconvert_exporter": "python",
   "pygments_lexer": "ipython3",
   "version": "3.6.7"
  }
 },
 "nbformat": 4,
 "nbformat_minor": 2
}
