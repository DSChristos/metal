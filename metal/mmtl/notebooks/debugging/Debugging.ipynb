{
 "cells": [
  {
   "cell_type": "code",
   "execution_count": 12,
   "metadata": {},
   "outputs": [],
   "source": [
    "import torch \n",
    "import numpy as np\n",
    "import pandas as pd\n",
    "\n",
    "from utils import load_data_and_model, create_dataframe"
   ]
  },
  {
   "cell_type": "markdown",
   "metadata": {},
   "source": [
    "### Load Model and Data\n",
    "- freeze this and make copies for \n",
    "- need different things for non-accuracy\n",
    "- have a script for saving and loading dataframes\n",
    "\n",
    "- have LF sandbox with visualization/metric for LFs at the bottom after shifting things to utils.py\n",
    "- percentage of data in each category"
   ]
  },
  {
   "cell_type": "code",
   "execution_count": 14,
   "metadata": {},
   "outputs": [
    {
     "name": "stdout",
     "output_type": "stream",
     "text": [
      "Loading BERT model...\n"
     ]
    },
    {
     "data": {
      "application/vnd.jupyter.widget-view+json": {
       "model_id": "56ecdf55acef46dc86ca9c76281f5377",
       "version_major": 2,
       "version_minor": 0
      },
      "text/plain": [
       "HBox(children=(IntProgress(value=0, max=277), HTML(value='')))"
      ]
     },
     "metadata": {},
     "output_type": "display_data"
    },
    {
     "name": "stdout",
     "output_type": "stream",
     "text": [
      "\n",
      "Loading RTE Dataset\n",
      "Loading BERT model...\n"
     ]
    },
    {
     "data": {
      "application/vnd.jupyter.widget-view+json": {
       "model_id": "40c86cce622a4a36b429dbdeab3e7baa",
       "version_major": 2,
       "version_minor": 0
      },
      "text/plain": [
       "HBox(children=(IntProgress(value=0, max=10), HTML(value='')))"
      ]
     },
     "metadata": {},
     "output_type": "display_data"
    },
    {
     "name": "stdout",
     "output_type": "stream",
     "text": [
      "\n",
      "Loading BERT model...\n"
     ]
    },
    {
     "data": {
      "application/vnd.jupyter.widget-view+json": {
       "model_id": "9ba24f20c8a141f58683eed221a6c4ec",
       "version_major": 2,
       "version_minor": 0
      },
      "text/plain": [
       "HBox(children=(IntProgress(value=0, max=10), HTML(value='')))"
      ]
     },
     "metadata": {},
     "output_type": "display_data"
    },
    {
     "name": "stdout",
     "output_type": "stream",
     "text": [
      "\n"
     ]
    },
    {
     "name": "stderr",
     "output_type": "stream",
     "text": [
      "100%|██████████| 9/9 [00:01<00:00,  4.92it/s]\n"
     ]
    }
   ],
   "source": [
    "model_path = '/dfs/scratch0/jdunnmon/mmtl/sota_quest/debugging/RTE/RTE_16_35_57/best_model.pth'\n",
    "csv_path = '/'.join(model_path.split('/')[0:-1])\n",
    "split = 'dev' \n",
    "\n",
    "#Load model and data\n",
    "model,dl = load_data_and_model(model_path,split)\n",
    "\n",
    "#Create DataFrame of Raw Data, Predictions, and Labels\n",
    "df_error = create_dataframe(model_path, model,dl)"
   ]
  },
  {
   "cell_type": "markdown",
   "metadata": {},
   "source": [
    "### Saving and Loading Error DataFrame\n",
    "**TODO: make this a python function**"
   ]
  },
  {
   "cell_type": "code",
   "execution_count": 5,
   "metadata": {},
   "outputs": [
    {
     "name": "stdout",
     "output_type": "stream",
     "text": [
      "Saved dataframe to:  /dfs/scratch0/jdunnmon/mmtl/sota_quest/debugging/RTE/dev_error_analysis.tsv\n"
     ]
    },
    {
     "data": {
      "text/html": [
       "<div>\n",
       "<style scoped>\n",
       "    .dataframe tbody tr th:only-of-type {\n",
       "        vertical-align: middle;\n",
       "    }\n",
       "\n",
       "    .dataframe tbody tr th {\n",
       "        vertical-align: top;\n",
       "    }\n",
       "\n",
       "    .dataframe thead th {\n",
       "        text-align: right;\n",
       "    }\n",
       "</style>\n",
       "<table border=\"1\" class=\"dataframe\">\n",
       "  <thead>\n",
       "    <tr style=\"text-align: right;\">\n",
       "      <th></th>\n",
       "      <th>Unnamed: 0</th>\n",
       "      <th>sentence1</th>\n",
       "      <th>sentence2</th>\n",
       "      <th>score</th>\n",
       "      <th>label</th>\n",
       "      <th>is_wrong</th>\n",
       "    </tr>\n",
       "  </thead>\n",
       "  <tbody>\n",
       "    <tr>\n",
       "      <th>0</th>\n",
       "      <td>0</td>\n",
       "      <td>dana reeve , the widow of the actor christoph...</td>\n",
       "      <td>christopher reeve had an accident .</td>\n",
       "      <td>0.191707</td>\n",
       "      <td>0</td>\n",
       "      <td>False</td>\n",
       "    </tr>\n",
       "    <tr>\n",
       "      <th>1</th>\n",
       "      <td>1</td>\n",
       "      <td>yet , we now are discovering that antibiotics...</td>\n",
       "      <td>bacteria is winning the war against antibioti...</td>\n",
       "      <td>0.473345</td>\n",
       "      <td>1</td>\n",
       "      <td>True</td>\n",
       "    </tr>\n",
       "    <tr>\n",
       "      <th>2</th>\n",
       "      <td>2</td>\n",
       "      <td>cairo is now home to some 15 million people -...</td>\n",
       "      <td>15 million tonnes of rubbish are produced dai...</td>\n",
       "      <td>0.738145</td>\n",
       "      <td>0</td>\n",
       "      <td>True</td>\n",
       "    </tr>\n",
       "    <tr>\n",
       "      <th>3</th>\n",
       "      <td>3</td>\n",
       "      <td>the ami ##sh community in pennsylvania , whic...</td>\n",
       "      <td>pennsylvania has the biggest ami ##sh communi...</td>\n",
       "      <td>0.303975</td>\n",
       "      <td>0</td>\n",
       "      <td>False</td>\n",
       "    </tr>\n",
       "    <tr>\n",
       "      <th>4</th>\n",
       "      <td>4</td>\n",
       "      <td>security forces were on high alert after an e...</td>\n",
       "      <td>security forces were on high alert after a ca...</td>\n",
       "      <td>0.859430</td>\n",
       "      <td>1</td>\n",
       "      <td>False</td>\n",
       "    </tr>\n",
       "  </tbody>\n",
       "</table>\n",
       "</div>"
      ],
      "text/plain": [
       "   Unnamed: 0                                          sentence1  \\\n",
       "0           0   dana reeve , the widow of the actor christoph...   \n",
       "1           1   yet , we now are discovering that antibiotics...   \n",
       "2           2   cairo is now home to some 15 million people -...   \n",
       "3           3   the ami ##sh community in pennsylvania , whic...   \n",
       "4           4   security forces were on high alert after an e...   \n",
       "\n",
       "                                           sentence2     score  label  \\\n",
       "0               christopher reeve had an accident .   0.191707      0   \n",
       "1   bacteria is winning the war against antibioti...  0.473345      1   \n",
       "2   15 million tonnes of rubbish are produced dai...  0.738145      0   \n",
       "3   pennsylvania has the biggest ami ##sh communi...  0.303975      0   \n",
       "4   security forces were on high alert after a ca...  0.859430      1   \n",
       "\n",
       "   is_wrong  \n",
       "0     False  \n",
       "1      True  \n",
       "2      True  \n",
       "3     False  \n",
       "4     False  "
      ]
     },
     "execution_count": 5,
     "metadata": {},
     "output_type": "execute_result"
    }
   ],
   "source": [
    "def save_dataframe(df,filepath):\n",
    "    df.to_csv(filepath, sep='\\t')\n",
    "    print('Saved dataframe to: ', filepath)\n",
    "    \n",
    "def load_dataframe(filepath):\n",
    "    df = pd.read_csv(filepath, sep='\\t')\n",
    "    return df\n",
    "\n",
    "filepath = f'{csv_path}/{split}_error_analysis.tsv'\n",
    "save_dataframe(df_error,filepath)\n",
    "df_error = load_dataframe(filepath)\n",
    "df_error.head()"
   ]
  },
  {
   "cell_type": "markdown",
   "metadata": {},
   "source": [
    "### Looking at Random Examples"
   ]
  },
  {
   "cell_type": "code",
   "execution_count": 6,
   "metadata": {},
   "outputs": [],
   "source": [
    "def print_row(row):\n",
    "    print(f'sentence1: \\t{row.sentence1}')\n",
    "    print(f'sentence2: \\t{row.sentence2}')\n",
    "    print('score: \\t{:.4f}'.format(row.score))    \n",
    "    print(f'label: \\t{row.label}')   \n",
    "    print()"
   ]
  },
  {
   "cell_type": "code",
   "execution_count": 17,
   "metadata": {},
   "outputs": [],
   "source": [
    "def print_random_pred(df):\n",
    "    row = df.iloc[np.random.randint(df.shape[0])]\n",
    "    print_row(row)"
   ]
  },
  {
   "cell_type": "code",
   "execution_count": 18,
   "metadata": {
    "scrolled": false
   },
   "outputs": [
    {
     "name": "stdout",
     "output_type": "stream",
     "text": [
      "\u001b[1mINCORRECT PREDICTIONS\u001b[0;0m\n",
      "sentence1: \t as regards the headquarters building , the swiss are st ##ip ##ulating that they would transfer it to the w ##to for a value of about 51 million swiss franks . \n",
      "sentence2: \t the w ##to headquarters are in switzerland . \n",
      "score: \t0.8847\n",
      "label: \t0\n",
      "\n",
      "sentence1: \t \" bea arthur and i first met when we did ' ma ##me ' together in 1965 . she became and has remained ' my bo ##som buddy ' ever since . i am deeply sad ##dened by her passing , but also relieved that she is released from the pain . i spoke to matt , her son , yesterday and i was aware that her time was imminent . she was a rare and unique performer and a dear , dear friend . \" arthur passed away at her home on saturday at the age of 86 . angela lan ##sbury is appearing in the current revival of b ##lit ##he spirit which began preview performances on thursday , february 26 , 2009 and had an official opening on sunday , march 15 , 2009 at the shu ##bert theatre ( 225 west 44th street ) . \n",
      "sentence2: \t the actress angela lan ##sbury is 86 years old . \n",
      "score: \t0.6856\n",
      "label: \t0\n",
      "\n",
      "sentence1: \t new york boasts the largest number of billionaire ##s , with 40 residing in the big apple . the world ' s youngest billionaire is 22 - year - old hind hari ##ri , daughter of assassinated former lebanese prime minister raf ##ik hari ##ri . \n",
      "sentence2: \t the number of billionaire ##s increases . \n",
      "score: \t0.7882\n",
      "label: \t0\n",
      "\n",
      "\u001b[1mCORRECT PREDICTIONS\u001b[0;0m\n",
      "sentence1: \t as ##pr ##in , an inexpensive drug helps protect survivors of heart attack and stroke from subsequent heart attacks and death , and even helps reduce the number of deaths that occur within the first hours following a heart attack . \n",
      "sentence2: \t people experienced adverse effects while taking as ##pi ##rin . \n",
      "score: \t0.0588\n",
      "label: \t0\n",
      "\n",
      "sentence1: \t as a result , pep ##tic ul ##cer disease has been transformed from a chronic , frequently di ##sa ##bling condition to one that can be cured by a short regime ##n of antibiotics and other medicines . \n",
      "sentence2: \t antibiotics are used against pep ##tic ul ##cer . \n",
      "score: \t0.5438\n",
      "label: \t1\n",
      "\n",
      "sentence1: \t capital punishment acts as a deter ##rent . \n",
      "sentence2: \t capital punishment is a deter ##rent to crime . \n",
      "score: \t0.8162\n",
      "label: \t1\n",
      "\n"
     ]
    }
   ],
   "source": [
    "print(\"\\033[1mINCORRECT PREDICTIONS\\033[0;0m\")\n",
    "for i in range(3):\n",
    "    print_random_pred(df_error[df_error.is_wrong==True])\n",
    "    \n",
    "print(\"\\033[1mCORRECT PREDICTIONS\\033[0;0m\")\n",
    "for i in range(3):\n",
    "    print_random_pred(df_error[df_error.is_wrong==False])"
   ]
  },
  {
   "cell_type": "markdown",
   "metadata": {},
   "source": [
    "## Sandbox for Error Analysis"
   ]
  },
  {
   "cell_type": "markdown",
   "metadata": {},
   "source": [
    "**1. We want to look at examples that are \"barely\" wrong and \"barely\" right since we have hope for boosts here.**"
   ]
  },
  {
   "cell_type": "code",
   "execution_count": 19,
   "metadata": {},
   "outputs": [],
   "source": [
    "def print_barely_wrong_pred(df,thresh=0.05):\n",
    "    df_temp = df[df.is_wrong==True]\n",
    "    idx = np.where(np.abs(df_temp.score - 0.5) <= thresh)[0]\n",
    "    row = df_temp.iloc[np.random.choice(list(idx))]\n",
    "    print_row(row)  \n",
    "    \n",
    "def print_barely_right_pred(df,thresh=0.05):\n",
    "    df_temp = df[df.is_wrong==False]\n",
    "    idx = np.where(np.abs(df_temp.score - 0.5) <= thresh)[0]\n",
    "    row = df_temp.iloc[np.random.choice(list(idx))]\n",
    "    print_row(row)"
   ]
  },
  {
   "cell_type": "code",
   "execution_count": 20,
   "metadata": {},
   "outputs": [
    {
     "name": "stdout",
     "output_type": "stream",
     "text": [
      "\u001b[1mBARELY WRONG\u001b[0;0m\n",
      "sentence1: \t ibm stole trade secrets to copy two of its programs - - file - aid , a file manager , and abe ##nd - aid , a program that helps users locate the source of g ##lit ##ches . \n",
      "sentence2: \t trade secrets were stolen . \n",
      "score: \t0.4644\n",
      "label: \t1\n",
      "\n",
      "sentence1: \t nearly five months later on january 24 , 1935 , the passenger vessel mohawk sank after col ##lid ##ing with the norwegian motors ##hip tal ##isman , and 45 people lost their lives . \n",
      "sentence2: \t 100 or more people lost their lives in a ferry sinking . \n",
      "score: \t0.5415\n",
      "label: \t0\n",
      "\n",
      "sentence1: \t although he has enough of a support base to be able to create a mass civil di ##so ##bed ##ience movement , some analysts think that his campaign will be , at best , a thorn in mr calderon ' s side . \n",
      "sentence2: \t mr calderon is able to create a mass civil di ##so ##bed ##ience movement . \n",
      "score: \t0.5481\n",
      "label: \t0\n",
      "\n",
      "\u001b[1mBARELY RIGHT\u001b[0;0m\n",
      "sentence1: \t about 33 . 5 million people live in this massive con ##ur ##bation . i would guess that 95 % of the 5 , 000 officially foreign - capital firms in japan are based in tokyo . \n",
      "sentence2: \t about 33 . 5 mi ##ili ##on people live in tokyo . \n",
      "score: \t0.5264\n",
      "label: \t1\n",
      "\n",
      "sentence1: \t russian public television head vlad ##islav list ##yev is shot in the heart by an unknown gun ##man outside his moscow home . the attack is linked to opponents of an advertising ban he had proposed for the television channel . \n",
      "sentence2: \t vlad ##islav list ##yev was murdered in moscow . \n",
      "score: \t0.5297\n",
      "label: \t1\n",
      "\n",
      "sentence1: \t hepburn ' s platinum , diamond and sapphire bro ##och had been estimated to fetch just $ 20 , 000 , but sold for $ 120 , 000 , six times its estimated price . \n",
      "sentence2: \t hepburn ' s diamond and sapphire bro ##och fetch ##ed $ 120 , 000 . \n",
      "score: \t0.5363\n",
      "label: \t1\n",
      "\n"
     ]
    }
   ],
   "source": [
    "print(\"\\033[1mBARELY WRONG\\033[0;0m\")\n",
    "for i in range(3):\n",
    "    print_barely_wrong_pred(df_error)\n",
    "    \n",
    "print(\"\\033[1mBARELY RIGHT\\033[0;0m\")\n",
    "for i in range(3):\n",
    "    print_barely_right_pred(df_error)"
   ]
  },
  {
   "cell_type": "markdown",
   "metadata": {},
   "source": [
    "**2. We also want to look at examples we got completely wrong since that could point to a systematic bias in the data/model. It could also help us find examples in the dataset that are mislabeled by human annotators**"
   ]
  },
  {
   "cell_type": "code",
   "execution_count": 21,
   "metadata": {},
   "outputs": [],
   "source": [
    "def print_very_wrong_pred(df,thresh=0.95):\n",
    "    df_temp = df[df.is_wrong==True]\n",
    "    try:\n",
    "        idx = np.where(np.abs(df_temp.score - df_temp.label) >= thresh)[0]\n",
    "        row = df_temp.iloc[np.random.choice(list(idx))]\n",
    "    except:\n",
    "        print(\"Threshold too high, reducing by 0.05\")\n",
    "        idx = np.where(np.abs(df_temp.score - df_temp.label) >= thresh-0.05)[0]\n",
    "        row = df_temp.iloc[np.random.choice(list(idx))]\n",
    "    \n",
    "    print_row(row) "
   ]
  },
  {
   "cell_type": "code",
   "execution_count": 22,
   "metadata": {},
   "outputs": [
    {
     "name": "stdout",
     "output_type": "stream",
     "text": [
      "\u001b[1mVERY WRONG\u001b[0;0m\n",
      "Threshold too high, reducing by 0.05\n",
      "sentence1: \t ah ##ern , who was travelling to tokyo for an eu - japan summit yesterday , will consult with other eu leaders by telephone later this week in an effort to find an agreed candidate . \n",
      "sentence2: \t a summit between europe and japan is taking place in the japan ##ise capital . \n",
      "score: \t0.0712\n",
      "label: \t1\n",
      "\n",
      "Threshold too high, reducing by 0.05\n",
      "sentence1: \t today ' s best estimate of giant panda numbers in the wild is about 1 , 100 individuals living in up to 32 separate populations mostly in china ' s sichuan province , but also in sha ##an ##xi and gan ##su provinces . \n",
      "sentence2: \t there are 32 panda ##s in the wild in china . \n",
      "score: \t0.9159\n",
      "label: \t0\n",
      "\n",
      "Threshold too high, reducing by 0.05\n",
      "sentence1: \t today ' s best estimate of giant panda numbers in the wild is about 1 , 100 individuals living in up to 32 separate populations mostly in china ' s sichuan province , but also in sha ##an ##xi and gan ##su provinces . \n",
      "sentence2: \t there are 32 panda ##s in the wild in china . \n",
      "score: \t0.9159\n",
      "label: \t0\n",
      "\n"
     ]
    }
   ],
   "source": [
    "print(\"\\033[1mVERY WRONG\\033[0;0m\")\n",
    "for i in range(3):\n",
    "    print_very_wrong_pred(df_error)"
   ]
  },
  {
   "cell_type": "markdown",
   "metadata": {},
   "source": [
    "**3. To find systematic errors, we can also look for correlations between certain features and the incorrectness a la Socratic**\n",
    "\n",
    "\n",
    "We can make this way more sophisticated by perhaps using embeddings instead of this simple [BoW featurization](https://scikit-learn.org/stable/modules/generated/sklearn.feature_extraction.text.CountVectorizer.html#sklearn.feature_extraction.text.CountVectorizer)."
   ]
  },
  {
   "cell_type": "code",
   "execution_count": 13,
   "metadata": {},
   "outputs": [],
   "source": [
    "#Create a vector of correct/incorrect predictions\n",
    "y = 2*(np.array(df_error.is_wrong.astype(float))-0.5) #TODO: use metal function\n",
    "\n",
    "#Create corpus by combining sentences\n",
    "combined = []\n",
    "for a,b in zip(np.array(df_error.sentence1),np.array(df_error.sentence2)):\n",
    "    combined.append(str(a)+str(b))"
   ]
  },
  {
   "cell_type": "code",
   "execution_count": 14,
   "metadata": {},
   "outputs": [
    {
     "name": "stderr",
     "output_type": "stream",
     "text": [
      "/dfs/scratch0/vschen/venv-mmtl/lib/python3.6/site-packages/sklearn/linear_model/logistic.py:433: FutureWarning: Default solver will be changed to 'lbfgs' in 0.22. Specify a solver to silence this warning.\n",
      "  FutureWarning)\n"
     ]
    },
    {
     "data": {
      "text/plain": [
       "LogisticRegression(C=1.0, class_weight=None, dual=False, fit_intercept=True,\n",
       "          intercept_scaling=1, max_iter=100, multi_class='warn',\n",
       "          n_jobs=None, penalty='l1', random_state=None, solver='warn',\n",
       "          tol=0.0001, verbose=0, warm_start=False)"
      ]
     },
     "execution_count": 14,
     "metadata": {},
     "output_type": "execute_result"
    }
   ],
   "source": [
    "#Create BoW featurization\n",
    "from sklearn.feature_extraction.text import CountVectorizer\n",
    "corpus = np.array(list(df_error.sentence1))\n",
    "vectorizer = CountVectorizer(ngram_range=(2,5), stop_words='english')\n",
    "X = vectorizer.fit_transform(corpus)\n",
    "\n",
    "#Run LR to find correlations\n",
    "from sklearn.linear_model import LogisticRegression\n",
    "lr_model = LogisticRegression(penalty=\"l1\")\n",
    "lr_model.fit(X, y)"
   ]
  },
  {
   "cell_type": "code",
   "execution_count": 15,
   "metadata": {},
   "outputs": [
    {
     "name": "stdout",
     "output_type": "stream",
     "text": [
      "10 000\n",
      "harry potter\n",
      "holy field\n",
      "new government\n",
      "award winning\n"
     ]
    },
    {
     "data": {
      "image/png": "[encoded data removed]",
      "text/plain": [
       "<Figure size 432x288 with 1 Axes>"
      ]
     },
     "metadata": {
      "needs_background": "light"
     },
     "output_type": "display_data"
    }
   ],
   "source": [
    "import matplotlib.pyplot as plt\n",
    "%matplotlib inline\n",
    "\n",
    "plt.stem(np.sort(np.abs(lr_model.coef_)[0])[::-1][0:50])\n",
    "plt.title('Feature Coefficient')\n",
    "plt.xlabel('Top k Features')\n",
    "\n",
    "top_idx = np.argsort(np.abs(lr_model.coef_)[0])[::-1][0:50]\n",
    "names = vectorizer.get_feature_names()\n",
    "for i in range(5):\n",
    "    print (names[top_idx[i]])"
   ]
  },
  {
   "cell_type": "code",
   "execution_count": 23,
   "metadata": {},
   "outputs": [
    {
     "name": "stdout",
     "output_type": "stream",
     "text": [
      "\u001b[1mSYSTEMATIC EXAMPLES\u001b[0;0m\n",
      "sentence1: \t cairo is now home to some 15 million people - a bu ##rgeon ##ing population that produces approximately 10 , 000 tonnes of rubbish per day , putting an enormous strain on public services . in the past 10 years , the government has tried hard to encourage private investment in the refuse sector , but some estimate 4 , 000 tonnes of waste is left behind every day , fest ##ering in the heat as it waits for someone to clear it up . it is often the people in the poor ##est neighbourhoods that are worst affected . but in some areas they are fighting back . in shu ##bra , one of the northern districts of the city , the residents have taken to the streets armed with dust ##pan ##s and brushes to clean up public areas which have been used as public dump ##s . \n",
      "sentence2: \t 15 million tonnes of rubbish are produced daily in cairo . \n",
      "score: \t0.7381\n",
      "label: \t0\n",
      "\n",
      "sentence1: \t the town is also home to the dalai lama and to more than 10 , 000 tibetan ##s living in exile . \n",
      "sentence2: \t the dalai lama has been living in exile since 10 , 000 . \n",
      "score: \t0.7885\n",
      "label: \t0\n",
      "\n",
      "sentence1: \t despite b ##jo ##rk making her first live performance in two years , the crowd of 10 , 000 people was only half of what the hall in the tokyo suburb of ma ##ku ##hari could hold . \n",
      "sentence2: \t 10 , 000 people live in tokyo . \n",
      "score: \t0.6660\n",
      "label: \t0\n",
      "\n",
      "sentence1: \t on july 12 portuguese president jorge sam ##pa ##io asks pedro santana lo ##pes to form a government . the new government is sworn in on july 17 and includes antonio monte ##iro as foreign minister , daniel san ##ches as interior minister , and antonio bag ##o fl ##ix as finance minister ; paulo port ##as remains defense minister . \n",
      "sentence2: \t new portuguese prime minister is elected . \n",
      "score: \t0.2656\n",
      "label: \t1\n",
      "\n",
      "sentence1: \t egypt on thursday strongly criticized israeli new foreign minister av ##ig ##dor lie ##berman for his remarks that he refused to recognize the peace efforts initiated in 2007 in the u . s . city of annapolis to restore the peace talks with the palestinians , reported the state men ##a news agency . lie ##berman ' s remarks is \" regret ##table , \" egyptian foreign ministry spokesman ho ##ssa ##m za ##ki was quoted as saying , adding \" his remarks are the first blow to the peace efforts to come from the israeli new government . \" \n",
      "sentence2: \t ho ##ssa ##m za ##ki is the new foreign minister of israel . \n",
      "score: \t0.8947\n",
      "label: \t0\n",
      "\n",
      "sentence1: \t 47 - year - old susan boyle from blackburn , west lot ##hian in scotland , made her debut appearance on the show on saturday night by saying that she had \" never been married , never been kissed \" and was currently unemployed , living alone at home with her cat , pebbles . she says that she wants to \" be a professional singer \" , but has \" never been given the chance . \" audience members and judges amanda holden , simon cow ##ell and piers morgan , first laughed and even poked fun at her . boyle then stunned the judges and audience , getting a standing o ##vation , with her performance of i dreamed a dream from the award winning musical performance les miserable ##s . cow ##ell called her performance \" extraordinary \" while morgan called it \" the biggest surprise i ' ve had in three years of this show . i am shocked . \" holden even admitted that \" everyone was against you [ boyle ] \" and that \" we were all being very cynical . \" \n",
      "sentence2: \t simon cow ##ell fell in love with susan boyle . \n",
      "score: \t0.6452\n",
      "label: \t0\n",
      "\n",
      "sentence1: \t rolling stone , one of the music industry ' s foremost publications , has found itself reporting false news g ##lean ##ed from a wikipedia article . the online edition of the magazine ' s rock & roll daily released an article entitled \" halle berry set to ruin reputation . . . \" on december 11 , reporting on the news that the actor had announced her intentions to release a musical album . the story was quickly picked up by the washington post , all headline news and other news agencies eager to report on the academy award - winning actress ' for ##ay into the musical world . the only trouble is , according to one of the album ' s alleged producers , scott st ##or ##ch , there is no such album . . . and he definitely hasn ' t produced three songs for it . \n",
      "sentence2: \t halle berry works with scott st ##or ##ch . \n",
      "score: \t0.8227\n",
      "label: \t0\n",
      "\n"
     ]
    }
   ],
   "source": [
    "print(\"\\033[1mSYSTEMATIC EXAMPLES\\033[0;0m\")\n",
    "for i in range(5):\n",
    "    idx = list(np.where(X.todense()[:,top_idx[i]] == 1)[0])\n",
    "    for ii in range(len(idx)):\n",
    "        df_temp = df_error\n",
    "        row = df_temp.iloc[idx[ii]]\n",
    "        print_row(row)"
   ]
  },
  {
   "cell_type": "code",
   "execution_count": null,
   "metadata": {},
   "outputs": [],
   "source": []
  }
 ],
 "metadata": {
  "kernelspec": {
   "display_name": "Python 3",
   "language": "python",
   "name": "python3"
  },
  "language_info": {
   "codemirror_mode": {
    "name": "ipython",
    "version": 3
   },
   "file_extension": ".py",
   "mimetype": "text/x-python",
   "name": "python",
   "nbconvert_exporter": "python",
   "pygments_lexer": "ipython3",
   "version": "3.6.7"
  }
 },
 "nbformat": 4,
 "nbformat_minor": 2
}
