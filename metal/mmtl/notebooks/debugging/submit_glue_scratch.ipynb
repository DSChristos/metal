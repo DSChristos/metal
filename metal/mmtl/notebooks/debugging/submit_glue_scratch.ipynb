{
 "cells": [
  {
   "cell_type": "code",
   "execution_count": 6,
   "metadata": {},
   "outputs": [
    {
     "name": "stdout",
     "output_type": "stream",
     "text": [
      "The autoreload extension is already loaded. To reload it, use:\n",
      "  %reload_ext autoreload\n"
     ]
    }
   ],
   "source": [
    "%load_ext autoreload\n",
    "%autoreload 2\n",
    "\n",
    "import torch \n",
    "import numpy as np\n",
    "import pandas as pd\n",
    "\n",
    "from utils import load_data_and_model, create_dataframe, create_submit_dataframe, save_dataframe"
   ]
  },
  {
   "cell_type": "code",
   "execution_count": null,
   "metadata": {},
   "outputs": [
    {
     "name": "stdout",
     "output_type": "stream",
     "text": [
      "STSB\n"
     ]
    },
    {
     "data": {
      "application/vnd.jupyter.widget-view+json": {
       "model_id": "ad2f0f3d0af4421ba0016b29154f30ac",
       "version_major": 2,
       "version_minor": 0
      },
      "text/plain": [
       "HBox(children=(IntProgress(value=0, max=1379), HTML(value='')))"
      ]
     },
     "metadata": {},
     "output_type": "display_data"
    },
    {
     "name": "stdout",
     "output_type": "stream",
     "text": [
      "\n",
      "Loading STSB Dataset\n"
     ]
    },
    {
     "data": {
      "application/vnd.jupyter.widget-view+json": {
       "model_id": "0f92e36dee5a46fd99ad082fd37ae199",
       "version_major": 2,
       "version_minor": 0
      },
      "text/plain": [
       "HBox(children=(IntProgress(value=0, max=10), HTML(value='')))"
      ]
     },
     "metadata": {},
     "output_type": "display_data"
    },
    {
     "name": "stdout",
     "output_type": "stream",
     "text": [
      "\n"
     ]
    },
    {
     "data": {
      "application/vnd.jupyter.widget-view+json": {
       "model_id": "b178256f72af48d5aa07545519c7230d",
       "version_major": 2,
       "version_minor": 0
      },
      "text/plain": [
       "HBox(children=(IntProgress(value=0, max=10), HTML(value='')))"
      ]
     },
     "metadata": {},
     "output_type": "display_data"
    },
    {
     "name": "stdout",
     "output_type": "stream",
     "text": [
      "\n"
     ]
    },
    {
     "data": {
      "application/vnd.jupyter.widget-view+json": {
       "model_id": "6e119646fbff493eb7198b003836d8d4",
       "version_major": 2,
       "version_minor": 0
      },
      "text/plain": [
       "HBox(children=(IntProgress(value=0, max=10), HTML(value='')))"
      ]
     },
     "metadata": {},
     "output_type": "display_data"
    },
    {
     "name": "stdout",
     "output_type": "stream",
     "text": [
      "\n"
     ]
    },
    {
     "name": "stderr",
     "output_type": "stream",
     "text": [
      "\r",
      "  0%|          | 0/44 [00:00<?, ?it/s]"
     ]
    },
    {
     "name": "stdout",
     "output_type": "stream",
     "text": [
      "> /dfs/scratch0/paroma/metal/metal/mmtl/notebooks/debugging/utils.py(83)create_submit_dataframe()\n",
      "-> proba += list(proba_batch)\n",
      "(Pdb) proba_batch\n",
      "array([0.64856726, 0.591337  , 0.7295291 , 0.6507605 , 0.44113106,\n",
      "       0.505153  , 0.68633723, 0.4516835 , 0.53984207, 0.4039665 ,\n",
      "       0.40219265, 0.65939814, 0.34931386, 0.7222494 , 0.49595222,\n",
      "       0.39071375, 0.69649005, 0.6169689 , 0.62256306, 0.3118483 ,\n",
      "       0.44070935, 0.3942553 , 0.67872804, 0.66831183, 0.40147695,\n",
      "       0.6142614 , 0.3233001 , 0.6834738 , 0.29671225, 0.6298641 ,\n",
      "       0.5665513 , 0.71481633], dtype=float32)\n",
      "(Pdb) proba += list(proba_batch)\n",
      "(Pdb) proba\n",
      "[0.64856726, 0.591337, 0.7295291, 0.6507605, 0.44113106, 0.505153, 0.68633723, 0.4516835, 0.53984207, 0.4039665, 0.40219265, 0.65939814, 0.34931386, 0.7222494, 0.49595222, 0.39071375, 0.69649005, 0.6169689, 0.62256306, 0.3118483, 0.44070935, 0.3942553, 0.67872804, 0.66831183, 0.40147695, 0.6142614, 0.3233001, 0.6834738, 0.29671225, 0.6298641, 0.5665513, 0.71481633]\n",
      "(Pdb) model.calculate_output(x, [task_name])[task_name]             .detach()             .cpu()             .numpy()\n",
      "array([[0.61852336],\n",
      "       [0.66683304],\n",
      "       [0.69725436],\n",
      "       [0.69526875],\n",
      "       [0.42221728],\n",
      "       [0.4661386 ],\n",
      "       [0.68278515],\n",
      "       [0.45541206],\n",
      "       [0.5504024 ],\n",
      "       [0.40894815],\n",
      "       [0.41242743],\n",
      "       [0.6446113 ],\n",
      "       [0.32733077],\n",
      "       [0.6754602 ],\n",
      "       [0.43588027],\n",
      "       [0.39525568],\n",
      "       [0.77259874],\n",
      "       [0.64697754],\n",
      "       [0.5956943 ],\n",
      "       [0.3226895 ],\n",
      "       [0.46635473],\n",
      "       [0.32327607],\n",
      "       [0.6628982 ],\n",
      "       [0.6340923 ],\n",
      "       [0.39352992],\n",
      "       [0.5938356 ],\n",
      "       [0.30686113],\n",
      "       [0.6816246 ],\n",
      "       [0.30463177],\n",
      "       [0.5966221 ],\n",
      "       [0.53678256],\n",
      "       [0.6550858 ]], dtype=float32)\n"
     ]
    }
   ],
   "source": [
    "model_paths = {\n",
    "    'QNLI': None,\n",
    "    'STSB': '/dfs/scratch0/vschen/metal-mmtl/logs/test_logs/14-2-2019/STSB_17_59_04/',\n",
    "    'SST2': '/dfs/scratch0/vschen/metal-mmtl/logs/test_logs/14-2-2019/SST2_00_01_36/',\n",
    "    'COLA': '/dfs/scratch0/vschen/metal-mmtl/logs/test_logs/14-2-2019/COLA_19_48_08/',\n",
    "    'RTE':'/dfs/scratch0/vschen/metal-mmtl/logs/test_logs/13-2-2019/RTE_22_52_53/',\n",
    "    'WNLI': '/dfs/scratch0/vschen/metal-mmtl/logs/test_logs/13-2-2019/WNLI_23_05_55/',\n",
    "    'QQP': None, #'/dfs/scratch0/vschen/metal-mmtl/logs/test_logs/15-2-2019/QQP_16_59_01/',\n",
    "    'MRPC':'/dfs/scratch0/vschen/metal-mmtl/logs/test_logs/13-2-2019/MRPC_23_21_58/',\n",
    "    'MNLI': None\n",
    "}\n",
    "\n",
    "for task_name in [list(model_paths.keys())[1]]:\n",
    "    model_path = model_paths[task_name]\n",
    "    if model_path is None:\n",
    "        continue\n",
    "    \n",
    "    print(task_name)\n",
    "    split = \"test\"\n",
    "    model,dl = load_data_and_model(model_path+'best_model.pth',task_name,split)\n",
    "    df_error = create_submit_dataframe(model_path+'best_model.pth',task_name,model,dl)\n",
    "    save_dataframe(df_error,task_name)"
   ]
  },
  {
   "cell_type": "code",
   "execution_count": null,
   "metadata": {},
   "outputs": [],
   "source": [
    "model.calculate_output(x, [task_name])[task_name]\n",
    "            .detach()\n",
    "            .cpu()\n",
    "            .numpy()"
   ]
  }
 ],
 "metadata": {
  "kernelspec": {
   "display_name": "Python 3",
   "language": "python",
   "name": "python3"
  },
  "language_info": {
   "codemirror_mode": {
    "name": "ipython",
    "version": 3
   },
   "file_extension": ".py",
   "mimetype": "text/x-python",
   "name": "python",
   "nbconvert_exporter": "python",
   "pygments_lexer": "ipython3",
   "version": "3.6.7"
  }
 },
 "nbformat": 4,
 "nbformat_minor": 2
}
