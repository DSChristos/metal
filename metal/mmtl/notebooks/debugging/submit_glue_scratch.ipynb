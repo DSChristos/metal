{
 "cells": [
  {
   "cell_type": "code",
   "execution_count": 1,
   "metadata": {},
   "outputs": [
    {
     "name": "stdout",
     "output_type": "stream",
     "text": [
      "The autoreload extension is already loaded. To reload it, use:\n",
      "  %reload_ext autoreload\n",
      "Better speed can be achieved with apex installed from https://www.github.com/nvidia/apex.\n"
     ]
    }
   ],
   "source": [
    "%load_ext autoreload\n",
    "%autoreload 2\n",
    "\n",
    "import torch \n",
    "import numpy as np\n",
    "import pandas as pd\n",
    "\n",
    "from utils import load_data_and_model, create_dataframe, create_submit_dataframe, save_dataframe"
   ]
  },
  {
   "cell_type": "code",
   "execution_count": 8,
   "metadata": {},
   "outputs": [
    {
     "name": "stdout",
     "output_type": "stream",
     "text": [
      "QNLI\n"
     ]
    },
    {
     "data": {
      "application/vnd.jupyter.widget-view+json": {
       "model_id": "56c91b0fba0d4058ad401103aa61bcfa",
       "version_major": 2,
       "version_minor": 0
      },
      "text/plain": [
       "HBox(children=(IntProgress(value=0, max=5463), HTML(value='')))"
      ]
     },
     "metadata": {},
     "output_type": "display_data"
    },
    {
     "name": "stdout",
     "output_type": "stream",
     "text": [
      "Loading QNLI Dataset\n"
     ]
    },
    {
     "data": {
      "application/vnd.jupyter.widget-view+json": {
       "model_id": "2b7a8bb24e684653b5bcfb5685d2e5c1",
       "version_major": 2,
       "version_minor": 0
      },
      "text/plain": [
       "HBox(children=(IntProgress(value=0, max=10), HTML(value='')))"
      ]
     },
     "metadata": {},
     "output_type": "display_data"
    },
    {
     "data": {
      "application/vnd.jupyter.widget-view+json": {
       "model_id": "448a20b98b384f7099bb54cdc7e947f0",
       "version_major": 2,
       "version_minor": 0
      },
      "text/plain": [
       "HBox(children=(IntProgress(value=0, max=10), HTML(value='')))"
      ]
     },
     "metadata": {},
     "output_type": "display_data"
    },
    {
     "data": {
      "application/vnd.jupyter.widget-view+json": {
       "model_id": "d6e050901a2a481fa1c07a6f7f6bf1b4",
       "version_major": 2,
       "version_minor": 0
      },
      "text/plain": [
       "HBox(children=(IntProgress(value=0, max=10), HTML(value='')))"
      ]
     },
     "metadata": {},
     "output_type": "display_data"
    },
    {
     "name": "stderr",
     "output_type": "stream",
     "text": [
      "100%|██████████| 171/171 [00:21<00:00,  8.10it/s]\n"
     ]
    },
    {
     "name": "stdout",
     "output_type": "stream",
     "text": [
      "Saved dataframe to:  ./QNLI.tsv\n"
     ]
    }
   ],
   "source": [
    "model_paths = {\n",
    "    'QNLI': '/dfs/scratch0/chami/metal/metal/mmtl/checkpoints/15-2-2019/QNLI_21_28_59/checkpoints/',\n",
    "    'STSB': '/dfs/scratch0/vschen/metal-mmtl/logs/test_logs/14-2-2019/STSB_17_59_04/',\n",
    "    'SST2': '/dfs/scratch0/vschen/metal-mmtl/logs/test_logs/14-2-2019/SST2_00_01_36/',\n",
    "    'COLA': '/dfs/scratch0/vschen/metal-mmtl/logs/test_logs/14-2-2019/COLA_19_48_08/',\n",
    "    'RTE':'/dfs/scratch0/vschen/metal-mmtl/logs/test_logs/13-2-2019/RTE_22_52_53/',\n",
    "    'WNLI': '/dfs/scratch0/vschen/metal-mmtl/logs/test_logs/13-2-2019/WNLI_23_05_55/',\n",
    "    'QQP': '/dfs/scratch0/vschen/metal-mmtl/logs/checkpoints/15-2-2019/QQP_00_55_59/',\n",
    "    'MRPC':'/dfs/scratch0/vschen/metal-mmtl/logs/test_logs/13-2-2019/MRPC_23_21_58/',\n",
    "    'MNLI': '/dfs/scratch0/vschen/metal-mmtl/logs/test_logs/15-2-2019/MNLI_22_13_38/'\n",
    "}\n",
    "\n",
    "for task_name in ['QNLI']:\n",
    "    print(task_name)\n",
    "    model_path = model_paths[task_name]\n",
    "    if model_path is None:\n",
    "        continue\n",
    "    \n",
    "    if task_name is 'MNLI':\n",
    "        split=\"test_mismatched\"\n",
    "        model,dl = load_data_and_model(model_path+'best_model.pth',task_name,split)\n",
    "        df_error = create_submit_dataframe(model_path+'best_model.pth',task_name,model,dl)\n",
    "        save_dataframe(df_error,task_name+'-mm')\n",
    "        \n",
    "        split=\"test_matched\"\n",
    "        model,dl = load_data_and_model(model_path+'best_model.pth',task_name,split)\n",
    "        df_error = create_submit_dataframe(model_path+'best_model.pth',task_name,model,dl)\n",
    "        save_dataframe(df_error,task_name+'-m')\n",
    "        \n",
    "    else:\n",
    "        split = \"test\"\n",
    "        model,dl = load_data_and_model(model_path+'best_model.pth',task_name,split)\n",
    "        df_error = create_submit_dataframe(model_path+'best_model.pth',task_name,model,dl)\n",
    "        save_dataframe(df_error,task_name)"
   ]
  },
  {
   "cell_type": "markdown",
   "metadata": {},
   "source": [
    "**In case one is too lazy to zip manually**"
   ]
  },
  {
   "cell_type": "code",
   "execution_count": 13,
   "metadata": {},
   "outputs": [],
   "source": [
    "import os\n",
    "import zipfile\n",
    "\n",
    "def zipdir(path, ziph):\n",
    "    # ziph is zipfile handle\n",
    "    for root, dirs, files in os.walk(path):\n",
    "        for file in files:\n",
    "            if file.split('.')[-1] == 'tsv':\n",
    "                ziph.write(os.path.join(root, file))\n",
    "\n",
    "zipf = zipfile.ZipFile('submission.zip', 'w', zipfile.ZIP_DEFLATED)\n",
    "zipdir('./', zipf)\n",
    "zipf.close()"
   ]
  }
 ],
 "metadata": {
  "kernelspec": {
   "display_name": "Python 3",
   "language": "python",
   "name": "python3"
  },
  "language_info": {
   "codemirror_mode": {
    "name": "ipython",
    "version": 3
   },
   "file_extension": ".py",
   "mimetype": "text/x-python",
   "name": "python",
   "nbconvert_exporter": "python",
   "pygments_lexer": "ipython3",
   "version": "3.6.7"
  }
 },
 "nbformat": 4,
 "nbformat_minor": 2
}
