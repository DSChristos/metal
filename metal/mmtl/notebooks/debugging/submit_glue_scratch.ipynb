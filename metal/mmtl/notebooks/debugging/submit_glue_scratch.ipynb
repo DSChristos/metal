{
 "cells": [
  {
   "cell_type": "code",
   "execution_count": 3,
   "metadata": {},
   "outputs": [
    {
     "name": "stdout",
     "output_type": "stream",
     "text": [
      "The autoreload extension is already loaded. To reload it, use:\n",
      "  %reload_ext autoreload\n"
     ]
    }
   ],
   "source": [
    "%load_ext autoreload\n",
    "%autoreload 2\n",
    "\n",
    "import torch \n",
    "import numpy as np\n",
    "import pandas as pd\n",
    "\n",
    "from utils import load_data_and_model, create_dataframe, create_submit_dataframe, save_dataframe"
   ]
  },
  {
   "cell_type": "code",
   "execution_count": 4,
   "metadata": {},
   "outputs": [],
   "source": [
    "model_paths = {\n",
    "    'QNLI': None,\n",
    "    'STSB': '/dfs/scratch0/vschen/metal-mmtl/logs/test_logs/14-2-2019/STSB_17_59_04/',\n",
    "    'SST2': '/dfs/scratch0/vschen/metal-mmtl/logs/test_logs/14-2-2019/SST2_00_01_36/',\n",
    "    'COLA': '/dfs/scratch0/vschen/metal-mmtl/logs/test_logs/14-2-2019/COLA_19_48_08/',\n",
    "    'RTE':'/dfs/scratch0/vschen/metal-mmtl/logs/test_logs/13-2-2019/RTE_22_52_53/',\n",
    "    'WNLI': '/dfs/scratch0/vschen/metal-mmtl/logs/test_logs/13-2-2019/WNLI_23_05_55/',\n",
    "    'QQP': None, #'/dfs/scratch0/vschen/metal-mmtl/logs/test_logs/15-2-2019/QQP_16_59_01/',\n",
    "    'MRPC':'/dfs/scratch0/vschen/metal-mmtl/logs/test_logs/13-2-2019/MRPC_23_21_58/',\n",
    "    'MNLI': None\n",
    "}\n",
    "\n",
    "for task_name in [list(model_paths.keys())]:\n",
    "    model_path = model_paths[task_name]\n",
    "    if model_path is None:\n",
    "        continue\n",
    "    \n",
    "    print(task_name)\n",
    "    split = \"test\"\n",
    "    model,dl = load_data_and_model(model_path+'best_model.pth',task_name,split)\n",
    "    df_error = create_submit_dataframe(model_path+'best_model.pth',task_name,model,dl)\n",
    "    save_dataframe(df_error)"
   ]
  },
  {
   "cell_type": "code",
   "execution_count": null,
   "metadata": {},
   "outputs": [],
   "source": []
  }
 ],
 "metadata": {
  "kernelspec": {
   "display_name": "Python 3",
   "language": "python",
   "name": "python3"
  },
  "language_info": {
   "codemirror_mode": {
    "name": "ipython",
    "version": 3
   },
   "file_extension": ".py",
   "mimetype": "text/x-python",
   "name": "python",
   "nbconvert_exporter": "python",
   "pygments_lexer": "ipython3",
   "version": "3.6.7"
  }
 },
 "nbformat": 4,
 "nbformat_minor": 2
}
