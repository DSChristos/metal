{
 "cells": [
  {
   "cell_type": "code",
   "execution_count": 1,
   "metadata": {},
   "outputs": [],
   "source": [
    "%load_ext autoreload\n",
    "%autoreload 2"
   ]
  },
  {
   "cell_type": "code",
   "execution_count": 2,
   "metadata": {},
   "outputs": [
    {
     "name": "stdout",
     "output_type": "stream",
     "text": [
      "Better speed can be achieved with apex installed from https://www.github.com/nvidia/apex.\n"
     ]
    }
   ],
   "source": [
    "import torch\n",
    "from torch.utils.data import DataLoader, TensorDataset, Dataset\n",
    "import numpy as np\n",
    "import pandas as pd\n",
    "import metal\n",
    "import os\n",
    "from pytorch_pretrained_bert import BertTokenizer, BertModel, BertForMaskedLM"
   ]
  },
  {
   "cell_type": "code",
   "execution_count": 3,
   "metadata": {},
   "outputs": [],
   "source": [
    "from dataset import STSBDataset"
   ]
  },
  {
   "cell_type": "code",
   "execution_count": 4,
   "metadata": {},
   "outputs": [
    {
     "name": "stdout",
     "output_type": "stream",
     "text": [
      "Loading STSB Dataset\n"
     ]
    },
    {
     "name": "stderr",
     "output_type": "stream",
     "text": [
      "100%|██████████| 5749/5749 [00:02<00:00, 2429.10it/s]\n",
      "100%|██████████| 1500/1500 [00:00<00:00, 1752.96it/s]\n"
     ]
    }
   ],
   "source": [
    "from BERT_tasks import create_task\n",
    "tasks = [create_task('STSB', dl_kwargs={'batch_size': 32})]"
   ]
  },
  {
   "cell_type": "code",
   "execution_count": 5,
   "metadata": {},
   "outputs": [
    {
     "name": "stdout",
     "output_type": "stream",
     "text": [
      "Beginning train loop.\n",
      "Expecting a total of 5749 examples and 144 batches per epoch from 1 tasks.\n"
     ]
    },
    {
     "data": {
      "application/vnd.jupyter.widget-view+json": {
       "model_id": "c29897b37ba744209b7f405b880abcf4",
       "version_major": 2,
       "version_minor": 0
      },
      "text/plain": [
       "HBox(children=(IntProgress(value=0, max=144), HTML(value='')))"
      ]
     },
     "metadata": {},
     "output_type": "display_data"
    },
    {
     "name": "stdout",
     "output_type": "stream",
     "text": [
      "[ (0.07 epo)]: TRAIN:[loss=0.093]\n",
      "[ (0.14 epo)]: TRAIN:[loss=0.086]\n",
      "[ (0.21 epo)]: TRAIN:[loss=0.087]\n",
      "[ (0.28 epo)]: TRAIN:[loss=0.090]\n",
      "[ (0.35 epo)]: TRAIN:[loss=0.088] VALID:[STSB/pearson_corr=-0.20248186588287354, STSB/spearman_corr=-0.146]\n",
      "Saving model at iteration 50 with best (max) score -0.146\n",
      "[ (0.42 epo)]: TRAIN:[loss=0.081]\n",
      "[ (0.49 epo)]: TRAIN:[loss=0.083]\n",
      "[ (0.56 epo)]: TRAIN:[loss=0.084]\n",
      "[ (0.62 epo)]: TRAIN:[loss=0.091]\n",
      "[ (0.69 epo)]: TRAIN:[loss=0.097] VALID:[STSB/pearson_corr=0.41422948241233826, STSB/spearman_corr=0.407]\n",
      "Saving model at iteration 100 with best (max) score 0.407\n",
      "[ (0.76 epo)]: TRAIN:[loss=0.077]\n",
      "[ (0.83 epo)]: TRAIN:[loss=0.087]\n",
      "[ (0.90 epo)]: TRAIN:[loss=0.083]\n",
      "[ (0.97 epo)]: TRAIN:[loss=0.089]\n",
      "\n"
     ]
    },
    {
     "data": {
      "application/vnd.jupyter.widget-view+json": {
       "model_id": "9f4951c9f59640c8bd1a3d1afeb62d8f",
       "version_major": 2,
       "version_minor": 0
      },
      "text/plain": [
       "HBox(children=(IntProgress(value=0, max=144), HTML(value='')))"
      ]
     },
     "metadata": {},
     "output_type": "display_data"
    },
    {
     "name": "stdout",
     "output_type": "stream",
     "text": [
      "[ (1.04 epo)]: TRAIN:[loss=0.095] VALID:[STSB/pearson_corr=0.4116009771823883, STSB/spearman_corr=0.391]\n",
      "[ (1.11 epo)]: TRAIN:[loss=0.084]\n",
      "[ (1.18 epo)]: TRAIN:[loss=0.087]\n",
      "[ (1.25 epo)]: TRAIN:[loss=0.090]\n",
      "[ (1.32 epo)]: TRAIN:[loss=0.089]\n",
      "[ (1.39 epo)]: TRAIN:[loss=0.094] VALID:[STSB/pearson_corr=0.37411004304885864, STSB/spearman_corr=0.389]\n",
      "[ (1.46 epo)]: TRAIN:[loss=0.082]\n",
      "[ (1.53 epo)]: TRAIN:[loss=0.089]\n",
      "[ (1.60 epo)]: TRAIN:[loss=0.087]\n",
      "[ (1.67 epo)]: TRAIN:[loss=0.085]\n",
      "[ (1.74 epo)]: TRAIN:[loss=0.085] VALID:[STSB/pearson_corr=0.46372655034065247, STSB/spearman_corr=0.448]\n",
      "Saving model at iteration 250 with best (max) score 0.448\n",
      "[ (1.81 epo)]: TRAIN:[loss=0.087]\n",
      "[ (1.88 epo)]: TRAIN:[loss=0.086]\n",
      "[ (1.94 epo)]: TRAIN:[loss=0.078]\n",
      "\n"
     ]
    },
    {
     "data": {
      "application/vnd.jupyter.widget-view+json": {
       "model_id": "8d0c6a78d41b46bc8f768bf1c6c64c80",
       "version_major": 2,
       "version_minor": 0
      },
      "text/plain": [
       "HBox(children=(IntProgress(value=0, max=144), HTML(value='')))"
      ]
     },
     "metadata": {},
     "output_type": "display_data"
    },
    {
     "name": "stdout",
     "output_type": "stream",
     "text": [
      "[ (2.01 epo)]: TRAIN:[loss=0.084]\n",
      "[ (2.08 epo)]: TRAIN:[loss=0.087] VALID:[STSB/pearson_corr=0.521442174911499, STSB/spearman_corr=0.526]\n",
      "Saving model at iteration 300 with best (max) score 0.526\n",
      "[ (2.15 epo)]: TRAIN:[loss=0.087]\n",
      "[ (2.22 epo)]: TRAIN:[loss=0.087]\n",
      "[ (2.29 epo)]: TRAIN:[loss=0.094]\n",
      "[ (2.36 epo)]: TRAIN:[loss=0.079]\n",
      "[ (2.43 epo)]: TRAIN:[loss=0.089] VALID:[STSB/pearson_corr=0.5847343802452087, STSB/spearman_corr=0.537]\n",
      "Saving model at iteration 350 with best (max) score 0.537\n",
      "[ (2.50 epo)]: TRAIN:[loss=0.082]\n",
      "[ (2.57 epo)]: TRAIN:[loss=0.089]\n",
      "[ (2.64 epo)]: TRAIN:[loss=0.086]\n",
      "[ (2.71 epo)]: TRAIN:[loss=0.087]\n",
      "[ (2.78 epo)]: TRAIN:[loss=0.088] VALID:[STSB/pearson_corr=0.6034762859344482, STSB/spearman_corr=0.592]\n",
      "Saving model at iteration 400 with best (max) score 0.592\n",
      "[ (2.85 epo)]: TRAIN:[loss=0.084]\n",
      "[ (2.92 epo)]: TRAIN:[loss=0.085]\n",
      "[ (2.99 epo)]: TRAIN:[loss=0.080]\n",
      "\n"
     ]
    },
    {
     "data": {
      "application/vnd.jupyter.widget-view+json": {
       "model_id": "668fb44a581b489e882a489397a734d7",
       "version_major": 2,
       "version_minor": 0
      },
      "text/plain": [
       "HBox(children=(IntProgress(value=0, max=144), HTML(value='')))"
      ]
     },
     "metadata": {},
     "output_type": "display_data"
    },
    {
     "name": "stdout",
     "output_type": "stream",
     "text": [
      "[ (3.06 epo)]: TRAIN:[loss=0.091]\n",
      "[ (3.12 epo)]: TRAIN:[loss=0.083] VALID:[STSB/pearson_corr=0.6300144791603088, STSB/spearman_corr=0.599]\n",
      "Saving model at iteration 450 with best (max) score 0.599\n",
      "[ (3.19 epo)]: TRAIN:[loss=0.087]\n",
      "[ (3.26 epo)]: TRAIN:[loss=0.083]\n",
      "[ (3.33 epo)]: TRAIN:[loss=0.081]\n",
      "[ (3.40 epo)]: TRAIN:[loss=0.086]\n",
      "[ (3.47 epo)]: TRAIN:[loss=0.087] VALID:[STSB/pearson_corr=0.6063663959503174, STSB/spearman_corr=0.575]\n",
      "[ (3.54 epo)]: TRAIN:[loss=0.085]\n",
      "[ (3.61 epo)]: TRAIN:[loss=0.092]\n",
      "[ (3.68 epo)]: TRAIN:[loss=0.094]\n",
      "[ (3.75 epo)]: TRAIN:[loss=0.084]\n",
      "[ (3.82 epo)]: TRAIN:[loss=0.086] VALID:[STSB/pearson_corr=0.6007382273674011, STSB/spearman_corr=0.602]\n",
      "Saving model at iteration 550 with best (max) score 0.602\n",
      "[ (3.89 epo)]: TRAIN:[loss=0.085]\n",
      "[ (3.96 epo)]: TRAIN:[loss=0.087]\n",
      "\n"
     ]
    },
    {
     "data": {
      "application/vnd.jupyter.widget-view+json": {
       "model_id": "c54ed3f22eb34b528cde1c7ca476154d",
       "version_major": 2,
       "version_minor": 0
      },
      "text/plain": [
       "HBox(children=(IntProgress(value=0, max=144), HTML(value='')))"
      ]
     },
     "metadata": {},
     "output_type": "display_data"
    },
    {
     "name": "stdout",
     "output_type": "stream",
     "text": [
      "[ (4.03 epo)]: TRAIN:[loss=0.092]\n",
      "[ (4.10 epo)]: TRAIN:[loss=0.090]\n",
      "[ (4.17 epo)]: TRAIN:[loss=0.091] VALID:[STSB/pearson_corr=0.661740243434906, STSB/spearman_corr=0.644]\n",
      "Saving model at iteration 600 with best (max) score 0.644\n",
      "[ (4.24 epo)]: TRAIN:[loss=0.081]\n",
      "[ (4.31 epo)]: TRAIN:[loss=0.089]\n",
      "[ (4.38 epo)]: TRAIN:[loss=0.085]\n",
      "[ (4.44 epo)]: TRAIN:[loss=0.084]\n",
      "[ (4.51 epo)]: TRAIN:[loss=0.088] VALID:[STSB/pearson_corr=0.61836177110672, STSB/spearman_corr=0.613]\n",
      "[ (4.58 epo)]: TRAIN:[loss=0.090]\n",
      "[ (4.65 epo)]: TRAIN:[loss=0.089]\n",
      "[ (4.72 epo)]: TRAIN:[loss=0.084]\n",
      "[ (4.79 epo)]: TRAIN:[loss=0.083]\n",
      "[ (4.86 epo)]: TRAIN:[loss=0.087] VALID:[STSB/pearson_corr=0.6327162384986877, STSB/spearman_corr=0.603]\n",
      "[ (4.93 epo)]: TRAIN:[loss=0.082]\n",
      "[ (5.00 epo)]: TRAIN:[loss=0.079]\n",
      "\n"
     ]
    },
    {
     "data": {
      "application/vnd.jupyter.widget-view+json": {
       "model_id": "f5f1e16cefd54b7daa422837daf8f72b",
       "version_major": 2,
       "version_minor": 0
      },
      "text/plain": [
       "HBox(children=(IntProgress(value=0, max=144), HTML(value='')))"
      ]
     },
     "metadata": {},
     "output_type": "display_data"
    },
    {
     "name": "stdout",
     "output_type": "stream",
     "text": [
      "[ (5.07 epo)]: TRAIN:[loss=0.089]\n",
      "[ (5.14 epo)]: TRAIN:[loss=0.083]\n",
      "[ (5.21 epo)]: TRAIN:[loss=0.083] VALID:[STSB/pearson_corr=0.6643706560134888, STSB/spearman_corr=0.643]\n",
      "[ (5.28 epo)]: TRAIN:[loss=0.085]\n",
      "[ (5.35 epo)]: TRAIN:[loss=0.087]\n",
      "[ (5.42 epo)]: TRAIN:[loss=0.091]\n",
      "[ (5.49 epo)]: TRAIN:[loss=0.083]\n",
      "[ (5.56 epo)]: TRAIN:[loss=0.081] VALID:[STSB/pearson_corr=0.6254869699478149, STSB/spearman_corr=0.646]\n",
      "Saving model at iteration 800 with best (max) score 0.646\n",
      "[ (5.62 epo)]: TRAIN:[loss=0.089]\n",
      "[ (5.69 epo)]: TRAIN:[loss=0.081]\n",
      "[ (5.76 epo)]: TRAIN:[loss=0.083]\n",
      "[ (5.83 epo)]: TRAIN:[loss=0.087]\n",
      "[ (5.90 epo)]: TRAIN:[loss=0.089] VALID:[STSB/pearson_corr=0.6378449201583862, STSB/spearman_corr=0.644]\n",
      "[ (5.97 epo)]: TRAIN:[loss=0.089]\n",
      "\n"
     ]
    },
    {
     "data": {
      "application/vnd.jupyter.widget-view+json": {
       "model_id": "ebc6dd2b839e410893c7f26c2e1a1c2c",
       "version_major": 2,
       "version_minor": 0
      },
      "text/plain": [
       "HBox(children=(IntProgress(value=0, max=144), HTML(value='')))"
      ]
     },
     "metadata": {},
     "output_type": "display_data"
    },
    {
     "name": "stdout",
     "output_type": "stream",
     "text": [
      "[ (6.04 epo)]: TRAIN:[loss=0.091]\n",
      "[ (6.11 epo)]: TRAIN:[loss=0.085]\n",
      "[ (6.18 epo)]: TRAIN:[loss=0.083]\n",
      "[ (6.25 epo)]: TRAIN:[loss=0.091] VALID:[STSB/pearson_corr=0.6650804877281189, STSB/spearman_corr=0.669]\n",
      "Saving model at iteration 900 with best (max) score 0.669\n",
      "[ (6.32 epo)]: TRAIN:[loss=0.088]\n",
      "[ (6.39 epo)]: TRAIN:[loss=0.082]\n",
      "[ (6.46 epo)]: TRAIN:[loss=0.087]\n",
      "[ (6.53 epo)]: TRAIN:[loss=0.092]\n",
      "[ (6.60 epo)]: TRAIN:[loss=0.094] VALID:[STSB/pearson_corr=0.6543863415718079, STSB/spearman_corr=0.631]\n",
      "[ (6.67 epo)]: TRAIN:[loss=0.088]\n",
      "[ (6.74 epo)]: TRAIN:[loss=0.075]\n",
      "[ (6.81 epo)]: TRAIN:[loss=0.083]\n",
      "[ (6.88 epo)]: TRAIN:[loss=0.084]\n",
      "[ (6.94 epo)]: TRAIN:[loss=0.086] VALID:[STSB/pearson_corr=0.6962488889694214, STSB/spearman_corr=0.666]\n",
      "\n"
     ]
    },
    {
     "data": {
      "application/vnd.jupyter.widget-view+json": {
       "model_id": "135120afe43c41829cd8ea5c5a95f279",
       "version_major": 2,
       "version_minor": 0
      },
      "text/plain": [
       "HBox(children=(IntProgress(value=0, max=144), HTML(value='')))"
      ]
     },
     "metadata": {},
     "output_type": "display_data"
    },
    {
     "name": "stdout",
     "output_type": "stream",
     "text": [
      "[ (7.01 epo)]: TRAIN:[loss=0.087]\n",
      "[ (7.08 epo)]: TRAIN:[loss=0.091]\n",
      "[ (7.15 epo)]: TRAIN:[loss=0.077]\n",
      "[ (7.22 epo)]: TRAIN:[loss=0.089]\n",
      "[ (7.29 epo)]: TRAIN:[loss=0.090] VALID:[STSB/pearson_corr=0.7067264318466187, STSB/spearman_corr=0.651]\n",
      "[ (7.36 epo)]: TRAIN:[loss=0.078]\n",
      "[ (7.43 epo)]: TRAIN:[loss=0.090]\n",
      "[ (7.50 epo)]: TRAIN:[loss=0.076]\n",
      "[ (7.57 epo)]: TRAIN:[loss=0.085]\n",
      "[ (7.64 epo)]: TRAIN:[loss=0.086] VALID:[STSB/pearson_corr=0.6893400549888611, STSB/spearman_corr=0.624]\n",
      "[ (7.71 epo)]: TRAIN:[loss=0.085]\n",
      "[ (7.78 epo)]: TRAIN:[loss=0.089]\n",
      "[ (7.85 epo)]: TRAIN:[loss=0.091]\n",
      "[ (7.92 epo)]: TRAIN:[loss=0.087]\n",
      "[ (7.99 epo)]: TRAIN:[loss=0.093] VALID:[STSB/pearson_corr=0.7074372172355652, STSB/spearman_corr=0.648]\n",
      "\n"
     ]
    },
    {
     "data": {
      "application/vnd.jupyter.widget-view+json": {
       "model_id": "d2904b0e3e5e45a1970d6fd223b44964",
       "version_major": 2,
       "version_minor": 0
      },
      "text/plain": [
       "HBox(children=(IntProgress(value=0, max=144), HTML(value='')))"
      ]
     },
     "metadata": {},
     "output_type": "display_data"
    },
    {
     "name": "stdout",
     "output_type": "stream",
     "text": [
      "[ (8.06 epo)]: TRAIN:[loss=0.089]\n",
      "[ (8.12 epo)]: TRAIN:[loss=0.076]\n",
      "[ (8.19 epo)]: TRAIN:[loss=0.086]\n",
      "[ (8.26 epo)]: TRAIN:[loss=0.086]\n",
      "[ (8.33 epo)]: TRAIN:[loss=0.079] VALID:[STSB/pearson_corr=0.7027131915092468, STSB/spearman_corr=0.649]\n",
      "[ (8.40 epo)]: TRAIN:[loss=0.084]\n",
      "[ (8.47 epo)]: TRAIN:[loss=0.090]\n",
      "[ (8.54 epo)]: TRAIN:[loss=0.090]\n",
      "[ (8.61 epo)]: TRAIN:[loss=0.086]\n",
      "[ (8.68 epo)]: TRAIN:[loss=0.089] VALID:[STSB/pearson_corr=0.7408925294876099, STSB/spearman_corr=0.683]\n",
      "Saving model at iteration 1250 with best (max) score 0.683\n",
      "[ (8.75 epo)]: TRAIN:[loss=0.082]\n",
      "[ (8.82 epo)]: TRAIN:[loss=0.080]\n",
      "[ (8.89 epo)]: TRAIN:[loss=0.096]\n",
      "[ (8.96 epo)]: TRAIN:[loss=0.095]\n",
      "\n"
     ]
    },
    {
     "data": {
      "application/vnd.jupyter.widget-view+json": {
       "model_id": "a7074f2908634a9e9bfb48823bbe6f27",
       "version_major": 2,
       "version_minor": 0
      },
      "text/plain": [
       "HBox(children=(IntProgress(value=0, max=144), HTML(value='')))"
      ]
     },
     "metadata": {},
     "output_type": "display_data"
    },
    {
     "name": "stdout",
     "output_type": "stream",
     "text": [
      "[ (9.03 epo)]: TRAIN:[loss=0.080] VALID:[STSB/pearson_corr=0.7362299561500549, STSB/spearman_corr=0.682]\n",
      "[ (9.10 epo)]: TRAIN:[loss=0.094]\n",
      "[ (9.17 epo)]: TRAIN:[loss=0.089]\n",
      "[ (9.24 epo)]: TRAIN:[loss=0.089]\n",
      "[ (9.31 epo)]: TRAIN:[loss=0.084]\n",
      "[ (9.38 epo)]: TRAIN:[loss=0.082] VALID:[STSB/pearson_corr=0.7395481467247009, STSB/spearman_corr=0.679]\n",
      "[ (9.44 epo)]: TRAIN:[loss=0.081]\n",
      "[ (9.51 epo)]: TRAIN:[loss=0.083]\n",
      "[ (9.58 epo)]: TRAIN:[loss=0.090]\n",
      "[ (9.65 epo)]: TRAIN:[loss=0.075]\n",
      "[ (9.72 epo)]: TRAIN:[loss=0.091] VALID:[STSB/pearson_corr=0.7415593862533569, STSB/spearman_corr=0.693]\n",
      "Saving model at iteration 1400 with best (max) score 0.693\n",
      "[ (9.79 epo)]: TRAIN:[loss=0.086]\n",
      "[ (9.86 epo)]: TRAIN:[loss=0.081]\n",
      "[ (9.93 epo)]: TRAIN:[loss=0.094]\n",
      "[ (10.00 epo)]: TRAIN:[loss=0.091]\n",
      "\n",
      "Restoring best model from iteration 1400 with score 0.693\n",
      "Finished Training\n",
      "{'STSB/valid/pearson_corr': 0.7415594,\n",
      " 'STSB/valid/spearman_corr': 0.6925126902613353}\n",
      "CPU times: user 12min 26s, sys: 2min 7s, total: 14min 34s\n",
      "Wall time: 15min 3s\n"
     ]
    }
   ],
   "source": [
    "%%time\n",
    "\n",
    "from metal.end_model import EndModel\n",
    "from metal.mmtl.metal_model import MetalModel\n",
    "from metal.mmtl.trainer import MultitaskTrainer\n",
    "\n",
    "model = MetalModel(tasks, verbose=False)\n",
    "trainer = MultitaskTrainer()\n",
    "trainer.train_model(\n",
    "    model,\n",
    "    tasks,\n",
    "    n_epochs=10,\n",
    "    lr=0.00001, l2=0,\n",
    "    progress_bar=True,\n",
    "    log_every=10,\n",
    "    score_every=50,\n",
    "    log_unit=\"batches\",\n",
    "    checkpoint_best=True,\n",
    "    checkpoint_metric=\"STSB/valid/spearman_corr\",\n",
    "    checkpoint_metric_mode=\"max\",\n",
    ")"
   ]
  },
  {
   "cell_type": "code",
   "execution_count": null,
   "metadata": {},
   "outputs": [],
   "source": []
  }
 ],
 "metadata": {
  "kernelspec": {
   "display_name": "Python 3",
   "language": "python",
   "name": "python3"
  },
  "language_info": {
   "codemirror_mode": {
    "name": "ipython",
    "version": 3
   },
   "file_extension": ".py",
   "mimetype": "text/x-python",
   "name": "python",
   "nbconvert_exporter": "python",
   "pygments_lexer": "ipython3",
   "version": "3.6.7"
  }
 },
 "nbformat": 4,
 "nbformat_minor": 2
}
