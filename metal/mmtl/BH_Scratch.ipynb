{
 "cells": [
  {
   "cell_type": "code",
   "execution_count": 5,
   "metadata": {},
   "outputs": [
    {
     "name": "stdout",
     "output_type": "stream",
     "text": [
      "The autoreload extension is already loaded. To reload it, use:\n",
      "  %reload_ext autoreload\n"
     ]
    }
   ],
   "source": [
    "%load_ext autoreload\n",
    "%autoreload 2\n",
    "%matplotlib inline"
   ]
  },
  {
   "cell_type": "code",
   "execution_count": 9,
   "metadata": {},
   "outputs": [],
   "source": [
    "import torch\n",
    "from torch.utils.data import DataLoader, TensorDataset\n",
    "\n",
    "def make_dataloader(n):\n",
    "    X = np.random.random((n, 2)) * 2 - 1\n",
    "    Y = (X[:, 0] > X[:, 1] + 0.25).astype(int) + 1\n",
    "\n",
    "    X = torch.tensor(X, dtype=torch.float)\n",
    "    Y = torch.tensor(Y, dtype=torch.long)\n",
    "\n",
    "    div1 = int(n*0.8)\n",
    "    div2 = int(n*0.9)\n",
    "    Xs = [X[:div1], X[div1:div2], X[div2:]]\n",
    "    Ys = [Y[:div1], Y[div1:div2], Y[div2:]]\n",
    "\n",
    "    dataset = TensorDataset(Xs[0], Ys[0])\n",
    "    data_loader = DataLoader(dataset, batch_size=4)\n",
    "    return data_loader"
   ]
  },
  {
   "cell_type": "code",
   "execution_count": 10,
   "metadata": {},
   "outputs": [],
   "source": [
    "import torch.nn as nn\n",
    "from metal.mmtl.task import Task\n",
    "\n",
    "foo_input = nn.Linear(2, 10)\n",
    "bar_input = foo_input #nn.Linear(100, 7)\n",
    "\n",
    "foo_head = nn.Linear(10, 2)\n",
    "bar_head = nn.Linear(10, 2)\n",
    "\n",
    "foo_data = make_dataloader(5000)\n",
    "bar_data = make_dataloader(2000)\n",
    "\n",
    "foo = Task(\"foo_task\", {\"train\": foo_data, \"valid\": foo_data}, foo_input, foo_head)\n",
    "bar = Task(\"bar_task\", {\"train\": bar_data, \"valid\": bar_data}, bar_input, bar_head)\n",
    "# baz = Task(\"baz_task\", \"baz_head\", [make_dataloader(100), None, None])\n",
    "tasks = [foo, bar]"
   ]
  },
  {
   "cell_type": "code",
   "execution_count": 19,
   "metadata": {
    "scrolled": false
   },
   "outputs": [
    {
     "name": "stdout",
     "output_type": "stream",
     "text": [
      "Beginning train loop.\n",
      "Expecting a total of 5600 examples and 1400 batches per epoch from 2 tasks.\n"
     ]
    },
    {
     "data": {
      "application/vnd.jupyter.widget-view+json": {
       "model_id": "b6f7472d52be480cb5aa531fd34e45f8",
       "version_major": 2,
       "version_minor": 0
      },
      "text/plain": [
       "HBox(children=(IntProgress(value=0, max=1400), HTML(value='')))"
      ]
     },
     "metadata": {},
     "output_type": "display_data"
    },
    {
     "name": "stdout",
     "output_type": "stream",
     "text": [
      "[0.25 epo]: TRAIN:[loss=0.028]\n",
      "[0.50 epo]: TRAIN:[loss=0.195] VALID:[foo_task/accuracy=0.975, bar_task/accuracy=0.981]\n",
      "Saving model at iteration 0.5 with best (max) score 0.975\n",
      "[0.75 epo]: TRAIN:[loss=0.048]\n",
      "[1.0 epo]: TRAIN:[loss=0.041] VALID:[foo_task/accuracy=0.982, bar_task/accuracy=1.000]\n",
      "Saving model at iteration 1.0 with best (max) score 0.982\n",
      "\n"
     ]
    },
    {
     "data": {
      "application/vnd.jupyter.widget-view+json": {
       "model_id": "66d60b4007e34e82950692e4f6631eb1",
       "version_major": 2,
       "version_minor": 0
      },
      "text/plain": [
       "HBox(children=(IntProgress(value=0, max=1400), HTML(value='')))"
      ]
     },
     "metadata": {},
     "output_type": "display_data"
    },
    {
     "name": "stdout",
     "output_type": "stream",
     "text": [
      "[1.25 epo]: TRAIN:[loss=0.008]\n",
      "[1.50 epo]: TRAIN:[loss=0.021] VALID:[foo_task/accuracy=0.989, bar_task/accuracy=0.999]\n",
      "Saving model at iteration 1.5 with best (max) score 0.989\n",
      "[1.75 epo]: TRAIN:[loss=0.201]\n",
      "[2.0 epo]: TRAIN:[loss=0.093] VALID:[foo_task/accuracy=0.996, bar_task/accuracy=0.999]\n",
      "Saving model at iteration 2.0 with best (max) score 0.996\n",
      "\n"
     ]
    },
    {
     "data": {
      "application/vnd.jupyter.widget-view+json": {
       "model_id": "69395dafd6bd42fc9f074a5b409fe5da",
       "version_major": 2,
       "version_minor": 0
      },
      "text/plain": [
       "HBox(children=(IntProgress(value=0, max=1400), HTML(value='')))"
      ]
     },
     "metadata": {},
     "output_type": "display_data"
    },
    {
     "name": "stdout",
     "output_type": "stream",
     "text": [
      "[2.25 epo]: TRAIN:[loss=0.029]\n",
      "[2.50 epo]: TRAIN:[loss=0.073] VALID:[foo_task/accuracy=0.992, bar_task/accuracy=0.994]\n",
      "[2.75 epo]: TRAIN:[loss=0.057]\n",
      "[3.0 epo]: TRAIN:[loss=0.041] VALID:[foo_task/accuracy=0.994, bar_task/accuracy=0.998]\n",
      "\n",
      "Restoring best model from iteration 2.0 with score 0.996\n",
      "Writing log to /Users/bradenjh/repos/metal/logs/2019_02_11/14_39_44/14_39_44.json\n",
      "Finished Training\n",
      "{'bar_task/valid/accuracy': 0.99875, 'foo_task/valid/accuracy': 0.99625}\n"
     ]
    }
   ],
   "source": [
    "from metal.end_model import EndModel\n",
    "from metal.mmtl.metal_model import MetalModel\n",
    "from metal.mmtl.trainer import MultitaskTrainer\n",
    "\n",
    "model = MetalModel(tasks, device=-1, verbose=False)\n",
    "trainer = MultitaskTrainer()\n",
    "trainer.train_model(\n",
    "    model, \n",
    "    tasks, \n",
    "    n_epochs=3, \n",
    "    lr=0.1, \n",
    "    progress_bar=True,\n",
    "    log_unit=\"epochs\",\n",
    "    log_every=0.25,\n",
    "    score_every=0.5,\n",
    "    writer=\"tensorboard\",\n",
    "    checkpoint_best=True,\n",
    "    checkpoint_metric=\"foo_task/valid/accuracy\",\n",
    "    checkpoint_metric_mode=\"max\",\n",
    ")"
   ]
  },
  {
   "cell_type": "code",
   "execution_count": 17,
   "metadata": {
    "scrolled": true
   },
   "outputs": [
    {
     "name": "stdout",
     "output_type": "stream",
     "text": [
      "{'foo_task': tensor([[ 64.8021, -66.2816],\n",
      "        [-71.4408,  72.2064],\n",
      "        [ 63.6610, -65.1231],\n",
      "        [ -0.1811,  -0.2317]], grad_fn=<AddmmBackward>)}\n",
      "{'foo_task': tensor(0.1797, grad_fn=<NllLossBackward>)}\n",
      "{'foo_task': tensor([[1.0000, 0.0000],\n",
      "        [0.0000, 1.0000],\n",
      "        [1.0000, 0.0000],\n",
      "        [0.5126, 0.4874]])}\n"
     ]
    }
   ],
   "source": [
    "for batch in foo.data_loaders[\"train\"]:\n",
    "    X, Y = batch\n",
    "    print(model(X, ['foo_task']))\n",
    "    print(model.calculate_loss(X, Y, ['foo_task']))    \n",
    "    print(model.calculate_output(X, ['foo_task']))    \n",
    "    break"
   ]
  },
  {
   "cell_type": "code",
   "execution_count": null,
   "metadata": {},
   "outputs": [],
   "source": [
    "next(model.parameters()).device"
   ]
  },
  {
   "cell_type": "code",
   "execution_count": null,
   "metadata": {},
   "outputs": [],
   "source": []
  },
  {
   "cell_type": "code",
   "execution_count": null,
   "metadata": {},
   "outputs": [],
   "source": []
  }
 ],
 "metadata": {
  "kernelspec": {
   "display_name": "Python [conda env:metal]",
   "language": "python",
   "name": "conda-env-metal-py"
  },
  "language_info": {
   "codemirror_mode": {
    "name": "ipython",
    "version": 3
   },
   "file_extension": ".py",
   "mimetype": "text/x-python",
   "name": "python",
   "nbconvert_exporter": "python",
   "pygments_lexer": "ipython3",
   "version": "3.6.8"
  }
 },
 "nbformat": 4,
 "nbformat_minor": 2
}
