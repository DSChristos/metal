{
 "cells": [
  {
   "cell_type": "code",
   "execution_count": 1,
   "metadata": {},
   "outputs": [
    {
     "name": "stdout",
     "output_type": "stream",
     "text": [
      "The autoreload extension is already loaded. To reload it, use:\n",
      "  %reload_ext autoreload\n"
     ]
    }
   ],
   "source": [
    "%load_ext autoreload\n",
    "%autoreload 2\n",
    "%matplotlib inline"
   ]
  },
  {
   "cell_type": "code",
   "execution_count": 2,
   "metadata": {},
   "outputs": [],
   "source": [
    "import torch\n",
    "from torch.utils.data import DataLoader, TensorDataset\n",
    "\n",
    "def make_dataloader(n):\n",
    "    X = np.random.random((n, 2)) * 2 - 1\n",
    "    Y = (X[:, 0] > X[:, 1] + 0.25).astype(int) + 1\n",
    "\n",
    "    X = torch.tensor(X, dtype=torch.float)\n",
    "    Y = torch.tensor(Y, dtype=torch.long)\n",
    "\n",
    "    div1 = int(n*0.8)\n",
    "    div2 = int(n*0.9)\n",
    "    Xs = [X[:div1], X[div1:div2], X[div2:]]\n",
    "    Ys = [Y[:div1], Y[div1:div2], Y[div2:]]\n",
    "\n",
    "    dataset = TensorDataset(Xs[0], Ys[0])\n",
    "    data_loader = DataLoader(dataset, batch_size=4)\n",
    "    return data_loader"
   ]
  },
  {
   "cell_type": "code",
   "execution_count": 3,
   "metadata": {},
   "outputs": [],
   "source": [
    "import torch.nn as nn\n",
    "from metal.mmtl.task import Task\n",
    "\n",
    "foo_input = nn.Linear(2, 10)\n",
    "bar_input = foo_input #nn.Linear(100, 7)\n",
    "\n",
    "foo_head = nn.Linear(10, 2)\n",
    "bar_head = nn.Linear(10, 2)\n",
    "\n",
    "foo_data = make_dataloader(5000)\n",
    "bar_data = make_dataloader(2000)\n",
    "\n",
    "foo = Task(\"foo_task\", [foo_data, foo_data, None], foo_input, foo_head)\n",
    "bar = Task(\"bar_task\", [bar_data, bar_data, None], bar_input, bar_head)\n",
    "# baz = Task(\"baz_task\", \"baz_head\", [make_dataloader(100), None, None])\n",
    "tasks = [foo]"
   ]
  },
  {
   "cell_type": "code",
   "execution_count": 7,
   "metadata": {
    "scrolled": false
   },
   "outputs": [
    {
     "data": {
      "application/vnd.jupyter.widget-view+json": {
       "model_id": "8b0edb9fcba24016a7a368929d16f182",
       "version_major": 2,
       "version_minor": 0
      },
      "text/plain": [
       "HBox(children=(IntProgress(value=0, max=1000), HTML(value='')))"
      ]
     },
     "metadata": {},
     "output_type": "display_data"
    },
    {
     "name": "stdout",
     "output_type": "stream",
     "text": [
      "[1 epo]: TRAIN:[foo_task/loss=0.047] VALID:[foo_task/accuracy=0.992]\n",
      "Saving model at iteration 1 with best score 0.992\n",
      "\n"
     ]
    },
    {
     "data": {
      "application/vnd.jupyter.widget-view+json": {
       "model_id": "8748e62a4fc34044844f57c8d53a2543",
       "version_major": 2,
       "version_minor": 0
      },
      "text/plain": [
       "HBox(children=(IntProgress(value=0, max=1000), HTML(value='')))"
      ]
     },
     "metadata": {},
     "output_type": "display_data"
    },
    {
     "name": "stdout",
     "output_type": "stream",
     "text": [
      "[2 epo]: TRAIN:[foo_task/loss=0.037] VALID:[foo_task/accuracy=0.995]\n",
      "Saving model at iteration 2 with best score 0.995\n",
      "\n"
     ]
    },
    {
     "data": {
      "application/vnd.jupyter.widget-view+json": {
       "model_id": "f5d854c88410437ca8356022fb60c51a",
       "version_major": 2,
       "version_minor": 0
      },
      "text/plain": [
       "HBox(children=(IntProgress(value=0, max=1000), HTML(value='')))"
      ]
     },
     "metadata": {},
     "output_type": "display_data"
    },
    {
     "name": "stdout",
     "output_type": "stream",
     "text": [
      "[3 epo]: TRAIN:[foo_task/loss=0.036] VALID:[foo_task/accuracy=0.995]\n",
      "\n"
     ]
    },
    {
     "data": {
      "application/vnd.jupyter.widget-view+json": {
       "model_id": "dccbfce6f8ff49b6b17444e074c13406",
       "version_major": 2,
       "version_minor": 0
      },
      "text/plain": [
       "HBox(children=(IntProgress(value=0, max=1000), HTML(value='')))"
      ]
     },
     "metadata": {},
     "output_type": "display_data"
    },
    {
     "name": "stdout",
     "output_type": "stream",
     "text": [
      "[4 epo]: TRAIN:[foo_task/loss=0.035] VALID:[foo_task/accuracy=0.997]\n",
      "Saving model at iteration 4 with best score 0.997\n",
      "\n",
      "Restoring best model from iteration 4 with score 0.997\n",
      "Finished Training\n",
      "{'foo_task/valid/accuracy': 0.997}\n"
     ]
    }
   ],
   "source": [
    "from metal.end_model import EndModel\n",
    "from metal.mmtl.metal_model import MetalModel\n",
    "from metal.mmtl.trainer import MultitaskTrainer\n",
    "\n",
    "model = MetalModel(tasks, verbose=False)\n",
    "trainer = MultitaskTrainer()\n",
    "trainer.train_model(\n",
    "    model, \n",
    "    tasks, \n",
    "    n_epochs=4, \n",
    "    lr=0.05, \n",
    "    progress_bar=True,\n",
    "    checkpoint_metric=\"foo_task/valid/accuracy\",\n",
    ")"
   ]
  },
  {
   "cell_type": "code",
   "execution_count": 5,
   "metadata": {
    "scrolled": false
   },
   "outputs": [
    {
     "name": "stdout",
     "output_type": "stream",
     "text": [
      "{'foo_task': tensor([[ -2.8308,   3.0709],\n",
      "        [ 13.5472, -13.5081],\n",
      "        [ 11.0965, -11.1687],\n",
      "        [ -4.4102,   4.2775]], grad_fn=<AddmmBackward>)}\n",
      "{'foo_task': tensor(0.0007, grad_fn=<NllLossBackward>)}\n",
      "{'foo_task': tensor([[2.7273e-03, 9.9727e-01],\n",
      "        [1.0000e+00, 1.7784e-12],\n",
      "        [1.0000e+00, 2.1396e-10],\n",
      "        [1.6863e-04, 9.9983e-01]])}\n"
     ]
    }
   ],
   "source": [
    "for batch in foo.data_loaders[0]:\n",
    "    X, Y = batch\n",
    "    print(model(X, ['foo_task']))\n",
    "    print(model.calculate_loss(X, Y, ['foo_task']))    \n",
    "    print(model.calculate_output(X, ['foo_task']))    \n",
    "    break"
   ]
  },
  {
   "cell_type": "code",
   "execution_count": null,
   "metadata": {},
   "outputs": [],
   "source": []
  }
 ],
 "metadata": {
  "kernelspec": {
   "display_name": "Python [conda env:metal]",
   "language": "python",
   "name": "conda-env-metal-py"
  },
  "language_info": {
   "codemirror_mode": {
    "name": "ipython",
    "version": 3
   },
   "file_extension": ".py",
   "mimetype": "text/x-python",
   "name": "python",
   "nbconvert_exporter": "python",
   "pygments_lexer": "ipython3",
   "version": "3.6.8"
  }
 },
 "nbformat": 4,
 "nbformat_minor": 2
}
