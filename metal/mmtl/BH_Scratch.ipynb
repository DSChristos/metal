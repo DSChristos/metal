{
 "cells": [
  {
   "cell_type": "code",
   "execution_count": 1,
   "metadata": {},
   "outputs": [
    {
     "name": "stdout",
     "output_type": "stream",
     "text": [
      "The autoreload extension is already loaded. To reload it, use:\n",
      "  %reload_ext autoreload\n"
     ]
    }
   ],
   "source": [
    "%load_ext autoreload\n",
    "%autoreload 2\n",
    "%matplotlib inline"
   ]
  },
  {
   "cell_type": "code",
   "execution_count": 31,
   "metadata": {},
   "outputs": [],
   "source": [
    "import torch\n",
    "from torch.utils.data import DataLoader, TensorDataset\n",
    "\n",
    "def make_dataloader(n):\n",
    "    X = np.random.random((n, 2)) * 2 - 1\n",
    "    Y = (X[:, 0] > X[:, 1] + 0.25).astype(int) + 1\n",
    "\n",
    "    X = torch.tensor(X, dtype=torch.float)\n",
    "    Y = torch.tensor(Y, dtype=torch.long)\n",
    "\n",
    "    div1 = int(n*0.8)\n",
    "    div2 = int(n*0.9)\n",
    "    Xs = [X[:div1], X[div1:div2], X[div2:]]\n",
    "    Ys = [Y[:div1], Y[div1:div2], Y[div2:]]\n",
    "\n",
    "    dataset = TensorDataset(Xs[0], Ys[0])\n",
    "    data_loader = DataLoader(dataset, batch_size=4)\n",
    "    return data_loader"
   ]
  },
  {
   "cell_type": "code",
   "execution_count": 32,
   "metadata": {},
   "outputs": [],
   "source": [
    "import torch.nn as nn\n",
    "from metal.mmtl.task import Task\n",
    "\n",
    "foo_input = nn.Linear(2, 10)\n",
    "bar_input = foo_input #nn.Linear(100, 7)\n",
    "\n",
    "foo_head = nn.Linear(10, 2)\n",
    "bar_head = nn.Linear(10, 2)\n",
    "\n",
    "foo = Task(\"foo_task\", [make_dataloader(5000), None, None], foo_input, foo_head)\n",
    "bar = Task(\"bar_task\", [make_dataloader(2000), None, None], bar_input, bar_head)\n",
    "# baz = Task(\"baz_task\", \"baz_head\", [make_dataloader(100), None, None])\n",
    "tasks = [foo]"
   ]
  },
  {
   "cell_type": "code",
   "execution_count": 40,
   "metadata": {
    "scrolled": false
   },
   "outputs": [
    {
     "name": "stdout",
     "output_type": "stream",
     "text": [
      "[1 epo]:\n",
      "[2 epo]:\n",
      "[3 epo]:\n",
      "[4 epo]:\n",
      "[5 epo]:\n",
      "[6 epo]:\n",
      "[7 epo]:\n",
      "[8 epo]:\n",
      "[9 epo]:\n",
      "[10 epo]:\n"
     ]
    }
   ],
   "source": [
    "from metal.end_model import EndModel\n",
    "from metal.mmtl.metal_model import MetalModel\n",
    "from metal.mmtl.trainer import MultitaskTrainer\n",
    "\n",
    "model = MetalModel(tasks, verbose=False)\n",
    "trainer = MultitaskTrainer()\n",
    "trainer.train_model(model, tasks, n_epochs=10, lr=0.01, progress_bar=True)"
   ]
  },
  {
   "cell_type": "code",
   "execution_count": 28,
   "metadata": {
    "scrolled": false
   },
   "outputs": [
    {
     "name": "stdout",
     "output_type": "stream",
     "text": [
      "{'foo_task': tensor([[-0.2317, -0.1599],\n",
      "        [-0.2323,  0.0496],\n",
      "        [-0.1185, -0.1865],\n",
      "        [-0.2607, -0.0905]], grad_fn=<AddmmBackward>)}\n",
      "{'foo_task': tensor(0.6408, grad_fn=<NllLossBackward>)}\n",
      "{'foo_task': tensor([[0.4821, 0.5179],\n",
      "        [0.4300, 0.5700],\n",
      "        [0.5170, 0.4830],\n",
      "        [0.4575, 0.5425]])}\n"
     ]
    }
   ],
   "source": [
    "for batch in foo.data_loaders[0]:\n",
    "    X, Y = batch\n",
    "    print(model(X, ['foo_task']))\n",
    "    print(model.calculate_loss(X, Y, ['foo_task']))    \n",
    "    print(model.calculate_output(X, ['foo_task']))    \n",
    "    break"
   ]
  },
  {
   "cell_type": "code",
   "execution_count": null,
   "metadata": {},
   "outputs": [],
   "source": []
  }
 ],
 "metadata": {
  "kernelspec": {
   "display_name": "Python [conda env:metal]",
   "language": "python",
   "name": "conda-env-metal-py"
  },
  "language_info": {
   "codemirror_mode": {
    "name": "ipython",
    "version": 3
   },
   "file_extension": ".py",
   "mimetype": "text/x-python",
   "name": "python",
   "nbconvert_exporter": "python",
   "pygments_lexer": "ipython3",
   "version": "3.6.8"
  }
 },
 "nbformat": 4,
 "nbformat_minor": 2
}
