{
 "cells": [
  {
   "cell_type": "code",
   "execution_count": 1,
   "metadata": {},
   "outputs": [],
   "source": [
    "%load_ext autoreload\n",
    "%autoreload 2"
   ]
  },
  {
   "cell_type": "code",
   "execution_count": 2,
   "metadata": {},
   "outputs": [
    {
     "name": "stdout",
     "output_type": "stream",
     "text": [
      "Better speed can be achieved with apex installed from https://www.github.com/nvidia/apex.\n"
     ]
    }
   ],
   "source": [
    "import torch\n",
    "from torch.utils.data import DataLoader, TensorDataset\n",
    "import numpy as np\n",
    "import metal\n",
    "import os\n",
    "from pytorch_pretrained_bert import BertTokenizer, BertModel\n",
    "from dataset import BERTDataset"
   ]
  },
  {
   "cell_type": "code",
   "execution_count": 3,
   "metadata": {},
   "outputs": [],
   "source": [
    "model = 'bert-base-uncased'\n",
    "\n",
    "def get_dataloaders(name):\n",
    "    if name==\"QQP\":\n",
    "        src_path = os.path.join(os.environ['GLUEDATA'], 'QQP/{}.tsv')\n",
    "        dataloaders = {}\n",
    "        for split in ['train', 'dev']: #, 'train', 'test']:\n",
    "            label_idx = 5 if split in ['train', 'dev'] else -1\n",
    "            dataset = BERTDataset(\n",
    "                src_path.format(split),\n",
    "                sent1_idx=3,\n",
    "                sent2_idx=4,\n",
    "                label_idx=label_idx,\n",
    "                skip_rows=1,\n",
    "                label_fn=lambda label: 1 if label=='0' else 2,\n",
    "                max_len=128,\n",
    "            )\n",
    "            dataloaders[split] = dataset.get_dataloader(batch_size=32)\n",
    "    if name==\"MNLI\":\n",
    "        src_path = os.path.join(os.environ['GLUEDATA'], 'MNLI/{}.tsv')\n",
    "        labels = [\"contradiction\", \"entailment\", \"neutral\"]\n",
    "\n",
    "        dataloaders = {}\n",
    "        for split in ['train', 'dev_matched']: #, 'train', 'test']:\n",
    "            label_idx = 11 if split in ['train', 'dev_matched'] else -1\n",
    "            dataset = BERTDataset(\n",
    "                src_path.format(split),\n",
    "                sent1_idx=8,\n",
    "                sent2_idx=9,\n",
    "                label_idx=label_idx,\n",
    "                skip_rows=1,\n",
    "                label_fn=lambda label: labels.index(label)+1,\n",
    "                max_len=128,\n",
    "            )\n",
    "            dataloaders[split] = dataset.get_dataloader(batch_size=32)\n",
    "    if name==\"RTE\":\n",
    "        src_path = os.path.join(os.environ['GLUEDATA'], 'RTE/{}.tsv')\n",
    "        dataloaders = {}\n",
    "        \n",
    "        for split in ['train', 'dev']: #, 'train', 'test']:\n",
    "            label_idx = 3 if split in ['train', 'dev'] else -1\n",
    "            dataset = BERTDataset(\n",
    "                src_path.format(split),\n",
    "                sent1_idx=1,\n",
    "                sent2_idx=2,\n",
    "                label_idx=label_idx,\n",
    "                skip_rows=1,\n",
    "                label_fn=lambda label: 1 if label=='entailment' else 2,\n",
    "                max_len=128,\n",
    "            )\n",
    "            dataloaders[split] = dataset.get_dataloader(batch_size=32)\n",
    "    if name==\"WNLI\":\n",
    "        src_path = os.path.join(os.environ['GLUEDATA'], 'WNLI/{}.tsv')\n",
    "        dataloaders = {}\n",
    "        for split in ['train', 'dev']: #, 'train', 'test']:\n",
    "            label_idx = 0 if split in ['train', 'dev'] else -1\n",
    "            dataset = BERTDataset(\n",
    "                src_path.format(split),\n",
    "                sent1_idx=1,\n",
    "                sent2_idx=2,\n",
    "                label_idx=label_idx,\n",
    "                skip_rows=1,\n",
    "                label_fn=lambda label: 1 if label=='0' else 2,\n",
    "                max_len=128,\n",
    "            )\n",
    "            dataloaders[split] = dataset.get_dataloader(batch_size=32)\n",
    "    return dataloaders"
   ]
  },
  {
   "cell_type": "code",
   "execution_count": 4,
   "metadata": {},
   "outputs": [],
   "source": [
    "import torch.nn as nn\n",
    "\n",
    "hidden_dropout_prob = 0.1\n",
    "\n",
    "class BertEncoder(nn.Module):\n",
    "    def __init__(self):\n",
    "        super(BertEncoder, self).__init__()\n",
    "        self.bert_model = BertModel.from_pretrained('bert-base-uncased')\n",
    "        self.dropout = nn.Dropout(hidden_dropout_prob)\n",
    "\n",
    "    def forward(self, data):\n",
    "        tokens, segments, mask = data\n",
    "        _, hidden_layer = self.bert_model(tokens, segments, mask, output_all_encoded_layers=False)\n",
    "        hidden_layer = self.dropout(hidden_layer)\n",
    "\n",
    "        return hidden_layer"
   ]
  },
  {
   "cell_type": "code",
   "execution_count": 6,
   "metadata": {},
   "outputs": [],
   "source": [
    "class LinearLayer(nn.Module):\n",
    "    def __init__(self, input_size, output_size):\n",
    "        super(LinearLayer, self).__init__()\n",
    "        self.linear = nn.Linear(input_size, output_size)\n",
    "\n",
    "    def forward(self, x):\n",
    "        return self.linear(x)"
   ]
  },
  {
   "cell_type": "code",
   "execution_count": 7,
   "metadata": {},
   "outputs": [],
   "source": [
    "hidden_bert_size=768\n",
    "\n",
    "def get_task_head(name):\n",
    "    if name==\"QQP\":\n",
    "        return LinearLayer(hidden_bert_size, 2)\n",
    "    if name==\"MNLI\":\n",
    "        return LinearLayer(hidden_bert_size, 3)\n",
    "    if name==\"RTE\":\n",
    "        return LinearLayer(hidden_bert_size, 2)\n",
    "    if name==\"WNLI\":\n",
    "        return LinearLayer(hidden_bert_size, 2)"
   ]
  },
  {
   "cell_type": "code",
   "execution_count": 8,
   "metadata": {},
   "outputs": [
    {
     "ename": "TypeError",
     "evalue": "__init__() missing 1 required positional argument: 'dataset_split'",
     "output_type": "error",
     "traceback": [
      "\u001b[0;31m---------------------------------------------------------------------------\u001b[0m",
      "\u001b[0;31mTypeError\u001b[0m                                 Traceback (most recent call last)",
      "\u001b[0;32m<ipython-input-8-44e64b5ae2de>\u001b[0m in \u001b[0;36m<module>\u001b[0;34m\u001b[0m\n\u001b[1;32m      5\u001b[0m \u001b[0;34m\u001b[0m\u001b[0m\n\u001b[1;32m      6\u001b[0m \u001b[0mtask_name\u001b[0m \u001b[0;34m=\u001b[0m \u001b[0mall_tasks\u001b[0m\u001b[0;34m[\u001b[0m\u001b[0;36m0\u001b[0m\u001b[0;34m]\u001b[0m\u001b[0;34m\u001b[0m\u001b[0;34m\u001b[0m\u001b[0m\n\u001b[0;32m----> 7\u001b[0;31m \u001b[0mdataloaders\u001b[0m \u001b[0;34m=\u001b[0m \u001b[0mget_dataloaders\u001b[0m\u001b[0;34m(\u001b[0m\u001b[0mtask_name\u001b[0m\u001b[0;34m)\u001b[0m\u001b[0;34m\u001b[0m\u001b[0;34m\u001b[0m\u001b[0m\n\u001b[0m\u001b[1;32m      8\u001b[0m \u001b[0mtask_head\u001b[0m \u001b[0;34m=\u001b[0m \u001b[0mget_task_head\u001b[0m\u001b[0;34m(\u001b[0m\u001b[0mtask_name\u001b[0m\u001b[0;34m)\u001b[0m\u001b[0;34m\u001b[0m\u001b[0;34m\u001b[0m\u001b[0m\n\u001b[1;32m      9\u001b[0m \u001b[0;34m\u001b[0m\u001b[0m\n",
      "\u001b[0;32m<ipython-input-3-752906f83b52>\u001b[0m in \u001b[0;36mget_dataloaders\u001b[0;34m(name)\u001b[0m\n\u001b[1;32m     47\u001b[0m                 \u001b[0mskip_rows\u001b[0m\u001b[0;34m=\u001b[0m\u001b[0;36m1\u001b[0m\u001b[0;34m,\u001b[0m\u001b[0;34m\u001b[0m\u001b[0;34m\u001b[0m\u001b[0m\n\u001b[1;32m     48\u001b[0m                 \u001b[0mlabel_fn\u001b[0m\u001b[0;34m=\u001b[0m\u001b[0;32mlambda\u001b[0m \u001b[0mlabel\u001b[0m\u001b[0;34m:\u001b[0m \u001b[0;36m1\u001b[0m \u001b[0;32mif\u001b[0m \u001b[0mlabel\u001b[0m\u001b[0;34m==\u001b[0m\u001b[0;34m'entailment'\u001b[0m \u001b[0;32melse\u001b[0m \u001b[0;36m2\u001b[0m\u001b[0;34m,\u001b[0m\u001b[0;34m\u001b[0m\u001b[0;34m\u001b[0m\u001b[0m\n\u001b[0;32m---> 49\u001b[0;31m                 \u001b[0mmax_len\u001b[0m\u001b[0;34m=\u001b[0m\u001b[0;36m128\u001b[0m\u001b[0;34m,\u001b[0m\u001b[0;34m\u001b[0m\u001b[0;34m\u001b[0m\u001b[0m\n\u001b[0m\u001b[1;32m     50\u001b[0m             )\n\u001b[1;32m     51\u001b[0m             \u001b[0mdataloaders\u001b[0m\u001b[0;34m[\u001b[0m\u001b[0msplit\u001b[0m\u001b[0;34m]\u001b[0m \u001b[0;34m=\u001b[0m \u001b[0mdataset\u001b[0m\u001b[0;34m.\u001b[0m\u001b[0mget_dataloader\u001b[0m\u001b[0;34m(\u001b[0m\u001b[0mbatch_size\u001b[0m\u001b[0;34m=\u001b[0m\u001b[0;36m32\u001b[0m\u001b[0;34m)\u001b[0m\u001b[0;34m\u001b[0m\u001b[0;34m\u001b[0m\u001b[0m\n",
      "\u001b[0;31mTypeError\u001b[0m: __init__() missing 1 required positional argument: 'dataset_split'"
     ]
    }
   ],
   "source": [
    "from metal.mmtl.task import Task\n",
    "# from BERT_tasks import create_task\n",
    "\n",
    "all_tasks = [\"RTE\", \"WNLI\", \"QQP\", \"MNLI\"]\n",
    "\n",
    "task_name = all_tasks[0]\n",
    "dataloaders = get_dataloaders(task_name)\n",
    "task_head = get_task_head(task_name)\n",
    "\n",
    "task = Task(task_name, [dataloaders[\"train\"], dataloaders[\"dev\"], None], BertEncoder(), task_head)\n",
    "tasks = [task]"
   ]
  },
  {
   "cell_type": "code",
   "execution_count": null,
   "metadata": {
    "scrolled": false
   },
   "outputs": [],
   "source": [
    "from metal.end_model import EndModel\n",
    "from metal.mmtl.metal_model import MetalModel\n",
    "from metal.mmtl.trainer import MultitaskTrainer\n",
    "\n",
    "model = MetalModel(tasks, verbose=True)\n",
    "trainer = MultitaskTrainer()\n",
    "trainer.train_model(\n",
    "    model, \n",
    "    tasks, \n",
    "    n_epochs=5, \n",
    "    lr=5e-5,\n",
    "    progress_bar=True,\n",
    "    log_valid_metrics=[task_name + \"/accuracy\"],\n",
    "    checkpoint_metric=task_name + \"/accuracy\",\n",
    "    checkpoint_metric_mode=\"max\",\n",
    "    verbose=True,\n",
    ")"
   ]
  },
  {
   "cell_type": "code",
   "execution_count": null,
   "metadata": {},
   "outputs": [],
   "source": []
  }
 ],
 "metadata": {
  "kernelspec": {
   "display_name": "Python 3",
   "language": "python",
   "name": "python3"
  },
  "language_info": {
   "codemirror_mode": {
    "name": "ipython",
    "version": 3
   },
   "file_extension": ".py",
   "mimetype": "text/x-python",
   "name": "python",
   "nbconvert_exporter": "python",
   "pygments_lexer": "ipython3",
   "version": "3.6.7"
  }
 },
 "nbformat": 4,
 "nbformat_minor": 2
}
