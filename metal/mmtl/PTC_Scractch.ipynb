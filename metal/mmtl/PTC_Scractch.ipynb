{
 "cells": [
  {
   "cell_type": "code",
   "execution_count": 1,
   "metadata": {},
   "outputs": [],
   "source": [
    "%load_ext autoreload\n",
    "%autoreload 2"
   ]
  },
  {
   "cell_type": "code",
   "execution_count": 2,
   "metadata": {},
   "outputs": [
    {
     "name": "stdout",
     "output_type": "stream",
     "text": [
      "Better speed can be achieved with apex installed from https://www.github.com/nvidia/apex.\n"
     ]
    }
   ],
   "source": [
    "import torch\n",
    "from torch.utils.data import DataLoader, TensorDataset\n",
    "import numpy as np\n",
    "import metal\n",
    "import os\n",
    "from pytorch_pretrained_bert import BertTokenizer, BertModel\n",
    "from dataset import QQPDataset, RTEDataset, WNLIDataset, MNLIDataset"
   ]
  },
  {
   "cell_type": "code",
   "execution_count": 3,
   "metadata": {},
   "outputs": [],
   "source": [
    "# all_tasks = [\"RTE\", \"WNLI\", \"QQP\", \"MNLI\"]\n",
    "\n",
    "# task_classes = {\"RTE\":2, \"WNLI\":2, \"QQP\":2, \"MNLI\":3}\n",
    "\n",
    "# task_name = all_tasks[2]"
   ]
  },
  {
   "cell_type": "code",
   "execution_count": 4,
   "metadata": {},
   "outputs": [],
   "source": [
    "# if task_name == \"RTE\":\n",
    "#     train_ds = RTEDataset(split='train', bert_model='bert-base-uncased', max_len=128)\n",
    "#     train_dl, dev_dl = train_ds.get_dataloader(split_prop=0.8, batch_size=32)\n",
    "\n",
    "#     test_ds = RTEDataset(split='dev', bert_model='bert-base-uncased', max_len=128)\n",
    "#     test_dl = test_ds.get_dataloader(batch_size=32)\n",
    "\n",
    "# if task_name == \"WNLI\":\n",
    "#     train_ds = WNLIDataset(split='train', bert_model='bert-base-uncased', max_len=128)\n",
    "#     train_dl, dev_dl = train_ds.get_dataloader(split_prop=0.8, batch_size=32)\n",
    "\n",
    "#     test_ds = WNLIDataset(split='dev', bert_model='bert-base-uncased', max_len=128)\n",
    "#     test_dl = test_ds.get_dataloader(batch_size=32)\n",
    "\n",
    "# if task_name == \"QQP\":\n",
    "#     train_ds = QQPDataset(split='train', bert_model='bert-base-uncased', max_len=128)\n",
    "#     train_dl, dev_dl = train_ds.get_dataloader(split_prop=0.8, batch_size=32)\n",
    "\n",
    "#     test_ds = QQPDataset(split='dev', bert_model='bert-base-uncased', max_len=128)\n",
    "#     test_dl = test_ds.get_dataloader(batch_size=32)\n",
    "\n",
    "# if task_name == \"MNLI\":\n",
    "#     train_ds = MNLIDataset(split='train', bert_model='bert-base-uncased', max_len=128)\n",
    "#     train_dl, dev_dl = train_ds.get_dataloader(split_prop=0.8, batch_size=32)\n",
    "\n",
    "#     test_ds = MNLIDataset(split='dev_matched', bert_model='bert-base-uncased', max_len=128)\n",
    "#     test_dl = test_ds.get_dataloader(batch_size=32)\n",
    "    \n",
    "# dataloaders = {\n",
    "#     'train': train_dl,\n",
    "#     'valid': dev_dl,\n",
    "#     'test': test_dl\n",
    "# }"
   ]
  },
  {
   "cell_type": "code",
   "execution_count": null,
   "metadata": {},
   "outputs": [],
   "source": [
    "# import torch.nn as nn\n",
    "\n",
    "# model = 'bert-base-uncased'\n",
    "\n",
    "# class BertEncoder(nn.Module):\n",
    "#     def __init__(self, dropout=0.1):\n",
    "#         super(BertEncoder, self).__init__()\n",
    "#         self.bert_model = BertModel.from_pretrained('bert-base-uncased')\n",
    "#         self.dropout = nn.Dropout(dropout)\n",
    "\n",
    "#     def forward(self, data):\n",
    "#         tokens, segments, mask = data\n",
    "#         _, hidden_layer = self.bert_model(tokens, segments, mask, output_all_encoded_layers=False)\n",
    "#         hidden_layer = self.dropout(hidden_layer)\n",
    "\n",
    "#         return hidden_layer"
   ]
  },
  {
   "cell_type": "code",
   "execution_count": null,
   "metadata": {},
   "outputs": [],
   "source": [
    "# class LinearLayer(nn.Module):\n",
    "#     def __init__(self, input_size, output_size):\n",
    "#         super(LinearLayer, self).__init__()\n",
    "#         self.linear = nn.Linear(input_size, output_size)\n",
    "\n",
    "#     def forward(self, x):\n",
    "#         return self.linear(x)"
   ]
  },
  {
   "cell_type": "code",
   "execution_count": null,
   "metadata": {},
   "outputs": [],
   "source": [
    "# hidden_bert_size=768\n",
    "\n",
    "# def get_task_head(name):\n",
    "#     return LinearLayer(hidden_bert_size, task_classes[name])\n"
   ]
  },
  {
   "cell_type": "code",
   "execution_count": null,
   "metadata": {},
   "outputs": [
    {
     "name": "stderr",
     "output_type": "stream",
     "text": [
      "100%|██████████| 4076/4076 [00:03<00:00, 1280.25it/s]\n",
      "100%|██████████| 1725/1725 [00:01<00:00, 919.73it/s] \n"
     ]
    }
   ],
   "source": [
    "from metal.mmtl.task import Task\n",
    "from BERT_tasks import create_task\n",
    "\n",
    "# dataloaders = get_dataloaders(task_name)\n",
    "# task_head = get_task_head(task_name)\n",
    "\n",
    "\n",
    "# task = Task(task_name, dataloaders, BertEncoder(), task_head)\n",
    "# task = create_task('RTE')\n",
    "# task = create_task('QQP')\n",
    "# task = create_task('WNLI')\n",
    "# task = create_task('MNLI')\n",
    "\n",
    "task = create_task('MRPC')\n",
    "\n",
    "tasks = [task]"
   ]
  },
  {
   "cell_type": "code",
   "execution_count": null,
   "metadata": {},
   "outputs": [
    {
     "name": "stdout",
     "output_type": "stream",
     "text": [
      "Could not find kwarg \"device\" in destination dict.\n"
     ]
    }
   ],
   "source": [
    "from metal.end_model import EndModel\n",
    "from metal.mmtl.metal_model import MetalModel\n",
    "from metal.mmtl.trainer import MultitaskTrainer\n",
    "\n",
    "model = MetalModel(tasks, verbose=False)\n",
    "trainer = MultitaskTrainer()\n",
    "trainer.train_model(\n",
    "    model, \n",
    "    tasks, \n",
    "    n_epochs=1, \n",
    "    lr=5e-5,\n",
    "    progress_bar=False,\n",
    "    log_every=0.25,\n",
    "    score_every=0.25,\n",
    "    checkpoint_best=True,\n",
    "    #checkpoint_metric=task.name + \"/valid/accuracy\",\n",
    "    #checkpoint_metric_mode=\"max\",\n",
    "    verbose=True,\n",
    "#     device=\"cuda\",\n",
    ")"
   ]
  },
  {
   "cell_type": "code",
   "execution_count": null,
   "metadata": {},
   "outputs": [],
   "source": [
    "# Using GPU...\n",
    "# [0.25060240963855424 epo]: TRAIN:[loss=0.475] VALID:[RTE/accuracy=0.671]\n",
    "# Saving model at iteration 0.25060240963855424 with best (min) score 0.475\n",
    "# Restoring best model from iteration 0.25060240963855424 with score 0.475\n",
    "# Finished Training\n",
    "# {'RTE/valid/accuracy': 0.6706827309236948}"
   ]
  }
 ],
 "metadata": {
  "kernelspec": {
   "display_name": "Python 3",
   "language": "python",
   "name": "python3"
  },
  "language_info": {
   "codemirror_mode": {
    "name": "ipython",
    "version": 3
   },
   "file_extension": ".py",
   "mimetype": "text/x-python",
   "name": "python",
   "nbconvert_exporter": "python",
   "pygments_lexer": "ipython3",
   "version": "3.6.7"
  }
 },
 "nbformat": 4,
 "nbformat_minor": 2
}
