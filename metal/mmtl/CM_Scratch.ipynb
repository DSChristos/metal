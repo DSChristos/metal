{
 "cells": [
  {
   "cell_type": "code",
   "execution_count": 1,
   "metadata": {},
   "outputs": [],
   "source": [
    "%load_ext autoreload\n",
    "%autoreload 2\n",
    "%matplotlib inline"
   ]
  },
  {
   "cell_type": "code",
   "execution_count": 2,
   "metadata": {},
   "outputs": [],
   "source": [
    "import torch\n",
    "from torch.utils.data import DataLoader, TensorDataset\n",
    "import numpy as np\n",
    "\n",
    "def make_dataloader(n):\n",
    "    X = np.random.random((n, 2)) * 2 - 1\n",
    "    Y = (X[:, 0] > X[:, 1] + 0.25).astype(int) + 1\n",
    "\n",
    "    X = torch.tensor(X, dtype=torch.float)\n",
    "    Y = torch.tensor(Y, dtype=torch.long)\n",
    "\n",
    "    div1 = int(n*0.8)\n",
    "    div2 = int(n*0.9)\n",
    "    Xs = [X[:div1], X[div1:div2], X[div2:]]\n",
    "    Ys = [Y[:div1], Y[div1:div2], Y[div2:]]\n",
    "\n",
    "    dataset = TensorDataset(Xs[0], Ys[0])\n",
    "    data_loader = DataLoader(dataset, batch_size=4)\n",
    "    return data_loader"
   ]
  },
  {
   "cell_type": "code",
   "execution_count": 11,
   "metadata": {},
   "outputs": [
    {
     "name": "stderr",
     "output_type": "stream",
     "text": [
      "\n",
      "  0%|          | 0/67349 [00:00<?, ?it/s]\u001b[A\n",
      "  0%|          | 334/67349 [00:00<00:20, 3325.52it/s]\u001b[A\n",
      "  1%|          | 675/67349 [00:00<00:19, 3345.74it/s]\u001b[A\n",
      "  1%|▏         | 996/67349 [00:00<00:20, 3303.19it/s]\u001b[A\n",
      "  2%|▏         | 1326/67349 [00:00<00:20, 3300.25it/s]\u001b[A\n",
      "  2%|▏         | 1668/67349 [00:00<00:19, 3333.01it/s]\u001b[A\n",
      "  3%|▎         | 2010/67349 [00:00<00:19, 3357.72it/s]\u001b[A\n",
      "  3%|▎         | 2345/67349 [00:00<00:19, 3345.67it/s]\u001b[A\n",
      "  4%|▍         | 2669/67349 [00:00<00:19, 3309.49it/s]\u001b[A\n",
      "  4%|▍         | 2981/67349 [00:00<00:20, 3127.30it/s]\u001b[A\n",
      "  5%|▍         | 3310/67349 [00:01<00:20, 3168.26it/s]\u001b[A\n",
      "  5%|▌         | 3629/67349 [00:01<00:20, 3174.44it/s]\u001b[A\n",
      "  6%|▌         | 3949/67349 [00:01<00:19, 3179.90it/s]\u001b[A\n",
      "  6%|▋         | 4264/67349 [00:01<00:20, 3071.46it/s]\u001b[A\n",
      "  7%|▋         | 4598/67349 [00:01<00:19, 3142.45it/s]\u001b[A\n",
      "  7%|▋         | 4912/67349 [00:01<00:20, 3117.06it/s]\u001b[A\n",
      "  8%|▊         | 5224/67349 [00:01<00:23, 2695.98it/s]\u001b[A\n",
      "  8%|▊         | 5556/67349 [00:01<00:21, 2856.21it/s]\u001b[A\n",
      "  9%|▉         | 5899/67349 [00:01<00:20, 3000.43it/s]\u001b[A\n",
      "  9%|▉         | 6252/67349 [00:01<00:19, 3141.60it/s]\u001b[A\n",
      " 10%|▉         | 6584/67349 [00:02<00:19, 3192.04it/s]\u001b[A\n",
      " 10%|█         | 6918/67349 [00:02<00:18, 3231.80it/s]\u001b[A\n",
      " 11%|█         | 7290/67349 [00:02<00:17, 3363.36it/s]\u001b[A\n",
      " 11%|█▏        | 7631/67349 [00:02<00:18, 3280.26it/s]\u001b[A\n",
      " 12%|█▏        | 7981/67349 [00:02<00:17, 3342.92it/s]\u001b[A\n",
      " 12%|█▏        | 8318/67349 [00:02<00:17, 3304.22it/s]\u001b[A\n",
      " 13%|█▎        | 8651/67349 [00:02<00:18, 3228.33it/s]\u001b[A\n",
      " 13%|█▎        | 8988/67349 [00:02<00:17, 3267.23it/s]\u001b[A\n",
      " 14%|█▍        | 9317/67349 [00:02<00:18, 3220.37it/s]\u001b[A\n",
      " 14%|█▍        | 9664/67349 [00:03<00:17, 3290.97it/s]\u001b[A\n",
      " 15%|█▍        | 9995/67349 [00:03<00:18, 3184.57it/s]\u001b[A\n",
      " 15%|█▌        | 10318/67349 [00:03<00:17, 3197.53it/s]\u001b[A\n",
      " 16%|█▌        | 10657/67349 [00:03<00:17, 3252.85it/s]\u001b[A\n",
      " 16%|█▋        | 11003/67349 [00:03<00:17, 3312.06it/s]\u001b[A\n",
      " 17%|█▋        | 11341/67349 [00:03<00:16, 3331.61it/s]\u001b[A\n",
      " 17%|█▋        | 11683/67349 [00:03<00:16, 3356.10it/s]\u001b[A\n",
      " 18%|█▊        | 12020/67349 [00:03<00:22, 2498.44it/s]\u001b[A\n",
      " 18%|█▊        | 12353/67349 [00:03<00:20, 2695.69it/s]\u001b[A\n",
      " 19%|█▉        | 12670/67349 [00:04<00:19, 2821.14it/s]\u001b[A\n",
      " 19%|█▉        | 13009/67349 [00:04<00:18, 2967.87it/s]\u001b[A\n",
      " 20%|█▉        | 13323/67349 [00:04<00:18, 2992.11it/s]\u001b[A\n",
      " 20%|██        | 13640/67349 [00:04<00:17, 3033.39it/s]\u001b[A\n",
      " 21%|██        | 13952/67349 [00:04<00:17, 3018.83it/s]\u001b[A\n",
      " 21%|██        | 14278/67349 [00:04<00:17, 3085.20it/s]\u001b[A\n",
      " 22%|██▏       | 14597/67349 [00:04<00:16, 3114.17it/s]\u001b[A\n",
      " 22%|██▏       | 14929/67349 [00:04<00:16, 3172.50it/s]\u001b[A\n",
      " 23%|██▎       | 15250/67349 [00:04<00:16, 3181.32it/s]\u001b[A\n",
      " 23%|██▎       | 15570/67349 [00:04<00:16, 3138.71it/s]\u001b[A\n",
      " 24%|██▎       | 15898/67349 [00:05<00:16, 3178.59it/s]\u001b[A\n",
      " 24%|██▍       | 16225/67349 [00:05<00:15, 3199.85it/s]\u001b[A\n",
      " 25%|██▍       | 16546/67349 [00:05<00:16, 3138.89it/s]\u001b[A\n",
      " 25%|██▌       | 16878/67349 [00:05<00:15, 3187.80it/s]\u001b[A\n",
      " 26%|██▌       | 17213/67349 [00:05<00:15, 3229.92it/s]\u001b[A\n",
      " 26%|██▌       | 17567/67349 [00:05<00:15, 3314.95it/s]\u001b[A\n",
      " 27%|██▋       | 17924/67349 [00:05<00:14, 3387.44it/s]\u001b[A\n",
      " 27%|██▋       | 18264/67349 [00:05<00:14, 3361.77it/s]\u001b[A\n",
      " 28%|██▊       | 18601/67349 [00:05<00:14, 3324.02it/s]\u001b[A\n",
      " 28%|██▊       | 18935/67349 [00:05<00:14, 3307.44it/s]\u001b[A\n",
      " 29%|██▊       | 19270/67349 [00:06<00:14, 3313.77it/s]\u001b[A\n",
      " 29%|██▉       | 19612/67349 [00:06<00:14, 3342.09it/s]\u001b[A\n",
      " 30%|██▉       | 19949/67349 [00:06<00:14, 3347.33it/s]\u001b[A\n",
      " 30%|███       | 20299/67349 [00:06<00:13, 3391.04it/s]\u001b[A\n",
      " 31%|███       | 20661/67349 [00:06<00:13, 3455.78it/s]\u001b[A\n",
      " 31%|███       | 21008/67349 [00:06<00:13, 3353.40it/s]\u001b[A\n",
      " 32%|███▏      | 21352/67349 [00:06<00:13, 3377.56it/s]\u001b[A\n",
      " 32%|███▏      | 21691/67349 [00:06<00:13, 3337.21it/s]\u001b[A\n",
      " 33%|███▎      | 22026/67349 [00:06<00:13, 3297.48it/s]\u001b[A\n",
      " 33%|███▎      | 22357/67349 [00:06<00:13, 3263.57it/s]\u001b[A\n",
      " 34%|███▎      | 22690/67349 [00:07<00:13, 3278.46it/s]\u001b[A\n",
      " 34%|███▍      | 23024/67349 [00:07<00:13, 3290.60it/s]\u001b[A\n",
      " 35%|███▍      | 23369/67349 [00:07<00:13, 3335.82it/s]\u001b[A\n",
      " 35%|███▌      | 23706/67349 [00:07<00:13, 3345.77it/s]\u001b[A\n",
      " 36%|███▌      | 24064/67349 [00:07<00:12, 3411.69it/s]\u001b[A\n",
      " 36%|███▋      | 24416/67349 [00:07<00:12, 3442.85it/s]\u001b[A"
     ]
    },
    {
     "ename": "KeyboardInterrupt",
     "evalue": "",
     "output_type": "error",
     "traceback": [
      "\u001b[0;31m---------------------------------------------------------------------------\u001b[0m",
      "\u001b[0;31mKeyboardInterrupt\u001b[0m                         Traceback (most recent call last)",
      "\u001b[0;32m<ipython-input-11-18e48099d80b>\u001b[0m in \u001b[0;36m<module>\u001b[0;34m\u001b[0m\n\u001b[1;32m     14\u001b[0m \u001b[0mfoo\u001b[0m \u001b[0;34m=\u001b[0m \u001b[0mTask\u001b[0m\u001b[0;34m(\u001b[0m\u001b[0;34m\"foo_task\"\u001b[0m\u001b[0;34m,\u001b[0m \u001b[0;34m[\u001b[0m\u001b[0mfoo_data\u001b[0m\u001b[0;34m,\u001b[0m \u001b[0mfoo_data\u001b[0m\u001b[0;34m,\u001b[0m \u001b[0;32mNone\u001b[0m\u001b[0;34m]\u001b[0m\u001b[0;34m,\u001b[0m \u001b[0mfoo_input\u001b[0m\u001b[0;34m,\u001b[0m \u001b[0mfoo_head\u001b[0m\u001b[0;34m,\u001b[0m \u001b[0;34m)\u001b[0m\u001b[0;34m\u001b[0m\u001b[0;34m\u001b[0m\u001b[0m\n\u001b[1;32m     15\u001b[0m \u001b[0mbar\u001b[0m \u001b[0;34m=\u001b[0m \u001b[0mTask\u001b[0m\u001b[0;34m(\u001b[0m\u001b[0;34m\"bar_task\"\u001b[0m\u001b[0;34m,\u001b[0m \u001b[0;34m[\u001b[0m\u001b[0mbar_data\u001b[0m\u001b[0;34m,\u001b[0m \u001b[0mbar_data\u001b[0m\u001b[0;34m,\u001b[0m \u001b[0;32mNone\u001b[0m\u001b[0;34m]\u001b[0m\u001b[0;34m,\u001b[0m \u001b[0mbar_input\u001b[0m\u001b[0;34m,\u001b[0m \u001b[0mbar_head\u001b[0m\u001b[0;34m)\u001b[0m\u001b[0;34m\u001b[0m\u001b[0;34m\u001b[0m\u001b[0m\n\u001b[0;32m---> 16\u001b[0;31m \u001b[0mbaz\u001b[0m \u001b[0;34m=\u001b[0m \u001b[0mcreate_task\u001b[0m\u001b[0;34m(\u001b[0m\u001b[0;34m'SST-2'\u001b[0m\u001b[0;34m)\u001b[0m\u001b[0;34m\u001b[0m\u001b[0;34m\u001b[0m\u001b[0m\n\u001b[0m\u001b[1;32m     17\u001b[0m \u001b[0mtasks\u001b[0m \u001b[0;34m=\u001b[0m \u001b[0;34m[\u001b[0m\u001b[0mbaz\u001b[0m\u001b[0;34m]\u001b[0m\u001b[0;34m\u001b[0m\u001b[0;34m\u001b[0m\u001b[0m\n",
      "\u001b[0;32m/lfs/raiders2/0/mccreery/repos/metal/metal/mmtl/BERT_tasks.py\u001b[0m in \u001b[0;36mcreate_task\u001b[0;34m(task_name)\u001b[0m\n\u001b[1;32m     34\u001b[0m         \u001b[0mdataloaders\u001b[0m \u001b[0;34m=\u001b[0m \u001b[0;34m[\u001b[0m\u001b[0;34m]\u001b[0m\u001b[0;34m\u001b[0m\u001b[0;34m\u001b[0m\u001b[0m\n\u001b[1;32m     35\u001b[0m         \u001b[0;32mfor\u001b[0m \u001b[0msplit\u001b[0m \u001b[0;32min\u001b[0m \u001b[0;34m[\u001b[0m\u001b[0;34m'train'\u001b[0m\u001b[0;34m,\u001b[0m\u001b[0;34m'dev'\u001b[0m\u001b[0;34m]\u001b[0m\u001b[0;34m:\u001b[0m\u001b[0;34m\u001b[0m\u001b[0;34m\u001b[0m\u001b[0m\n\u001b[0;32m---> 36\u001b[0;31m             \u001b[0mdataset\u001b[0m \u001b[0;34m=\u001b[0m \u001b[0mSST2\u001b[0m\u001b[0;34m(\u001b[0m\u001b[0msplit\u001b[0m\u001b[0;34m=\u001b[0m\u001b[0msplit\u001b[0m\u001b[0;34m,\u001b[0m \u001b[0mbert_model\u001b[0m\u001b[0;34m=\u001b[0m\u001b[0mbert_model\u001b[0m \u001b[0;34m)\u001b[0m\u001b[0;34m\u001b[0m\u001b[0;34m\u001b[0m\u001b[0m\n\u001b[0m\u001b[1;32m     37\u001b[0m             \u001b[0mdataloaders\u001b[0m\u001b[0;34m.\u001b[0m\u001b[0mappend\u001b[0m\u001b[0;34m(\u001b[0m\u001b[0mdataset\u001b[0m\u001b[0;34m.\u001b[0m\u001b[0mget_dataloader\u001b[0m\u001b[0;34m(\u001b[0m\u001b[0;34m)\u001b[0m\u001b[0;34m)\u001b[0m\u001b[0;34m\u001b[0m\u001b[0;34m\u001b[0m\u001b[0m\n\u001b[1;32m     38\u001b[0m         \u001b[0mdataloaders\u001b[0m\u001b[0;34m.\u001b[0m\u001b[0mappend\u001b[0m\u001b[0;34m(\u001b[0m\u001b[0;32mNone\u001b[0m\u001b[0;34m)\u001b[0m\u001b[0;34m\u001b[0m\u001b[0;34m\u001b[0m\u001b[0m\n",
      "\u001b[0;32m/lfs/raiders2/0/mccreery/repos/metal/metal/mmtl/dataset.py\u001b[0m in \u001b[0;36m__init__\u001b[0;34m(self, split, bert_model, max_len)\u001b[0m\n\u001b[1;32m    219\u001b[0m             \u001b[0mdelimiter\u001b[0m\u001b[0;34m=\u001b[0m\u001b[0;34m\"\\t\"\u001b[0m\u001b[0;34m,\u001b[0m\u001b[0;34m\u001b[0m\u001b[0;34m\u001b[0m\u001b[0m\n\u001b[1;32m    220\u001b[0m             \u001b[0mlabel_fn\u001b[0m\u001b[0;34m=\u001b[0m\u001b[0;32mlambda\u001b[0m \u001b[0mlabel\u001b[0m\u001b[0;34m:\u001b[0m \u001b[0mint\u001b[0m\u001b[0;34m(\u001b[0m\u001b[0mlabel\u001b[0m\u001b[0;34m)\u001b[0m\u001b[0;34m+\u001b[0m\u001b[0;36m1\u001b[0m\u001b[0;34m,\u001b[0m\u001b[0;34m\u001b[0m\u001b[0;34m\u001b[0m\u001b[0m\n\u001b[0;32m--> 221\u001b[0;31m             \u001b[0mmax_len\u001b[0m\u001b[0;34m=\u001b[0m\u001b[0mmax_len\u001b[0m\u001b[0;34m,\u001b[0m\u001b[0;34m\u001b[0m\u001b[0;34m\u001b[0m\u001b[0m\n\u001b[0m\u001b[1;32m    222\u001b[0m         )\n\u001b[1;32m    223\u001b[0m \u001b[0;34m\u001b[0m\u001b[0m\n",
      "\u001b[0;32m/lfs/raiders2/0/mccreery/repos/metal/metal/mmtl/dataset.py\u001b[0m in \u001b[0;36m__init__\u001b[0;34m(self, src_path, sent1_idx, sent2_idx, label_idx, skip_rows, bert_model, delimiter, label_fn, max_len, label_type)\u001b[0m\n\u001b[1;32m     50\u001b[0m             \u001b[0mdelimiter\u001b[0m\u001b[0;34m,\u001b[0m\u001b[0;34m\u001b[0m\u001b[0;34m\u001b[0m\u001b[0m\n\u001b[1;32m     51\u001b[0m             \u001b[0mlabel_fn\u001b[0m\u001b[0;34m,\u001b[0m\u001b[0;34m\u001b[0m\u001b[0;34m\u001b[0m\u001b[0m\n\u001b[0;32m---> 52\u001b[0;31m             \u001b[0mmax_len\u001b[0m\u001b[0;34m,\u001b[0m\u001b[0;34m\u001b[0m\u001b[0;34m\u001b[0m\u001b[0m\n\u001b[0m\u001b[1;32m     53\u001b[0m         )\n\u001b[1;32m     54\u001b[0m         \u001b[0mself\u001b[0m\u001b[0;34m.\u001b[0m\u001b[0mlabel_type\u001b[0m \u001b[0;34m=\u001b[0m \u001b[0mlabel_type\u001b[0m\u001b[0;34m\u001b[0m\u001b[0;34m\u001b[0m\u001b[0m\n",
      "\u001b[0;32m/lfs/raiders2/0/mccreery/repos/metal/metal/mmtl/dataset.py\u001b[0m in \u001b[0;36mload_tsv\u001b[0;34m(data_file, sent1_idx, sent2_idx, label_idx, skip_rows, tokenizer, delimiter, label_fn, max_len)\u001b[0m\n\u001b[1;32m     86\u001b[0m \u001b[0;34m\u001b[0m\u001b[0m\n\u001b[1;32m     87\u001b[0m                 \u001b[0;31m# tokenize sentences\u001b[0m\u001b[0;34m\u001b[0m\u001b[0;34m\u001b[0m\u001b[0;34m\u001b[0m\u001b[0m\n\u001b[0;32m---> 88\u001b[0;31m                 \u001b[0msent1_tokenized\u001b[0m \u001b[0;34m=\u001b[0m \u001b[0mtokenizer\u001b[0m\u001b[0;34m.\u001b[0m\u001b[0mtokenize\u001b[0m\u001b[0;34m(\u001b[0m\u001b[0mrow\u001b[0m\u001b[0;34m[\u001b[0m\u001b[0msent1_idx\u001b[0m\u001b[0;34m]\u001b[0m\u001b[0;34m)\u001b[0m\u001b[0;34m\u001b[0m\u001b[0;34m\u001b[0m\u001b[0m\n\u001b[0m\u001b[1;32m     89\u001b[0m                 \u001b[0;32mif\u001b[0m \u001b[0msent2_idx\u001b[0m \u001b[0;34m>=\u001b[0m \u001b[0;36m0\u001b[0m\u001b[0;34m:\u001b[0m\u001b[0;34m\u001b[0m\u001b[0;34m\u001b[0m\u001b[0m\n\u001b[1;32m     90\u001b[0m                     \u001b[0msent2_tokenized\u001b[0m \u001b[0;34m=\u001b[0m \u001b[0mtokenizer\u001b[0m\u001b[0;34m.\u001b[0m\u001b[0mtokenize\u001b[0m\u001b[0;34m(\u001b[0m\u001b[0mrow\u001b[0m\u001b[0;34m[\u001b[0m\u001b[0msent2_idx\u001b[0m\u001b[0;34m]\u001b[0m\u001b[0;34m)\u001b[0m\u001b[0;34m\u001b[0m\u001b[0;34m\u001b[0m\u001b[0m\n",
      "\u001b[0;32m/lfs/local/0/mccreery/repos/anaconda3/envs/metal/lib/python3.6/site-packages/pytorch_pretrained_bert/tokenization.py\u001b[0m in \u001b[0;36mtokenize\u001b[0;34m(self, text)\u001b[0m\n\u001b[1;32m     79\u001b[0m     \u001b[0;32mdef\u001b[0m \u001b[0mtokenize\u001b[0m\u001b[0;34m(\u001b[0m\u001b[0mself\u001b[0m\u001b[0;34m,\u001b[0m \u001b[0mtext\u001b[0m\u001b[0;34m)\u001b[0m\u001b[0;34m:\u001b[0m\u001b[0;34m\u001b[0m\u001b[0;34m\u001b[0m\u001b[0m\n\u001b[1;32m     80\u001b[0m         \u001b[0msplit_tokens\u001b[0m \u001b[0;34m=\u001b[0m \u001b[0;34m[\u001b[0m\u001b[0;34m]\u001b[0m\u001b[0;34m\u001b[0m\u001b[0;34m\u001b[0m\u001b[0m\n\u001b[0;32m---> 81\u001b[0;31m         \u001b[0;32mfor\u001b[0m \u001b[0mtoken\u001b[0m \u001b[0;32min\u001b[0m \u001b[0mself\u001b[0m\u001b[0;34m.\u001b[0m\u001b[0mbasic_tokenizer\u001b[0m\u001b[0;34m.\u001b[0m\u001b[0mtokenize\u001b[0m\u001b[0;34m(\u001b[0m\u001b[0mtext\u001b[0m\u001b[0;34m)\u001b[0m\u001b[0;34m:\u001b[0m\u001b[0;34m\u001b[0m\u001b[0;34m\u001b[0m\u001b[0m\n\u001b[0m\u001b[1;32m     82\u001b[0m             \u001b[0;32mfor\u001b[0m \u001b[0msub_token\u001b[0m \u001b[0;32min\u001b[0m \u001b[0mself\u001b[0m\u001b[0;34m.\u001b[0m\u001b[0mwordpiece_tokenizer\u001b[0m\u001b[0;34m.\u001b[0m\u001b[0mtokenize\u001b[0m\u001b[0;34m(\u001b[0m\u001b[0mtoken\u001b[0m\u001b[0;34m)\u001b[0m\u001b[0;34m:\u001b[0m\u001b[0;34m\u001b[0m\u001b[0;34m\u001b[0m\u001b[0m\n\u001b[1;32m     83\u001b[0m                 \u001b[0msplit_tokens\u001b[0m\u001b[0;34m.\u001b[0m\u001b[0mappend\u001b[0m\u001b[0;34m(\u001b[0m\u001b[0msub_token\u001b[0m\u001b[0;34m)\u001b[0m\u001b[0;34m\u001b[0m\u001b[0;34m\u001b[0m\u001b[0m\n",
      "\u001b[0;32m/lfs/local/0/mccreery/repos/anaconda3/envs/metal/lib/python3.6/site-packages/pytorch_pretrained_bert/tokenization.py\u001b[0m in \u001b[0;36mtokenize\u001b[0;34m(self, text)\u001b[0m\n\u001b[1;32m    159\u001b[0m                 \u001b[0mtoken\u001b[0m \u001b[0;34m=\u001b[0m \u001b[0mtoken\u001b[0m\u001b[0;34m.\u001b[0m\u001b[0mlower\u001b[0m\u001b[0;34m(\u001b[0m\u001b[0;34m)\u001b[0m\u001b[0;34m\u001b[0m\u001b[0;34m\u001b[0m\u001b[0m\n\u001b[1;32m    160\u001b[0m                 \u001b[0mtoken\u001b[0m \u001b[0;34m=\u001b[0m \u001b[0mself\u001b[0m\u001b[0;34m.\u001b[0m\u001b[0m_run_strip_accents\u001b[0m\u001b[0;34m(\u001b[0m\u001b[0mtoken\u001b[0m\u001b[0;34m)\u001b[0m\u001b[0;34m\u001b[0m\u001b[0;34m\u001b[0m\u001b[0m\n\u001b[0;32m--> 161\u001b[0;31m             \u001b[0msplit_tokens\u001b[0m\u001b[0;34m.\u001b[0m\u001b[0mextend\u001b[0m\u001b[0;34m(\u001b[0m\u001b[0mself\u001b[0m\u001b[0;34m.\u001b[0m\u001b[0m_run_split_on_punc\u001b[0m\u001b[0;34m(\u001b[0m\u001b[0mtoken\u001b[0m\u001b[0;34m)\u001b[0m\u001b[0;34m)\u001b[0m\u001b[0;34m\u001b[0m\u001b[0;34m\u001b[0m\u001b[0m\n\u001b[0m\u001b[1;32m    162\u001b[0m \u001b[0;34m\u001b[0m\u001b[0m\n\u001b[1;32m    163\u001b[0m         \u001b[0moutput_tokens\u001b[0m \u001b[0;34m=\u001b[0m \u001b[0mwhitespace_tokenize\u001b[0m\u001b[0;34m(\u001b[0m\u001b[0;34m\" \"\u001b[0m\u001b[0;34m.\u001b[0m\u001b[0mjoin\u001b[0m\u001b[0;34m(\u001b[0m\u001b[0msplit_tokens\u001b[0m\u001b[0;34m)\u001b[0m\u001b[0;34m)\u001b[0m\u001b[0;34m\u001b[0m\u001b[0;34m\u001b[0m\u001b[0m\n",
      "\u001b[0;32m/lfs/local/0/mccreery/repos/anaconda3/envs/metal/lib/python3.6/site-packages/pytorch_pretrained_bert/tokenization.py\u001b[0m in \u001b[0;36m_run_split_on_punc\u001b[0;34m(self, text)\u001b[0m\n\u001b[1;32m    183\u001b[0m         \u001b[0;32mwhile\u001b[0m \u001b[0mi\u001b[0m \u001b[0;34m<\u001b[0m \u001b[0mlen\u001b[0m\u001b[0;34m(\u001b[0m\u001b[0mchars\u001b[0m\u001b[0;34m)\u001b[0m\u001b[0;34m:\u001b[0m\u001b[0;34m\u001b[0m\u001b[0;34m\u001b[0m\u001b[0m\n\u001b[1;32m    184\u001b[0m             \u001b[0mchar\u001b[0m \u001b[0;34m=\u001b[0m \u001b[0mchars\u001b[0m\u001b[0;34m[\u001b[0m\u001b[0mi\u001b[0m\u001b[0;34m]\u001b[0m\u001b[0;34m\u001b[0m\u001b[0;34m\u001b[0m\u001b[0m\n\u001b[0;32m--> 185\u001b[0;31m             \u001b[0;32mif\u001b[0m \u001b[0m_is_punctuation\u001b[0m\u001b[0;34m(\u001b[0m\u001b[0mchar\u001b[0m\u001b[0;34m)\u001b[0m\u001b[0;34m:\u001b[0m\u001b[0;34m\u001b[0m\u001b[0;34m\u001b[0m\u001b[0m\n\u001b[0m\u001b[1;32m    186\u001b[0m                 \u001b[0moutput\u001b[0m\u001b[0;34m.\u001b[0m\u001b[0mappend\u001b[0m\u001b[0;34m(\u001b[0m\u001b[0;34m[\u001b[0m\u001b[0mchar\u001b[0m\u001b[0;34m]\u001b[0m\u001b[0;34m)\u001b[0m\u001b[0;34m\u001b[0m\u001b[0;34m\u001b[0m\u001b[0m\n\u001b[1;32m    187\u001b[0m                 \u001b[0mstart_new_word\u001b[0m \u001b[0;34m=\u001b[0m \u001b[0;32mTrue\u001b[0m\u001b[0;34m\u001b[0m\u001b[0;34m\u001b[0m\u001b[0m\n",
      "\u001b[0;32m/lfs/local/0/mccreery/repos/anaconda3/envs/metal/lib/python3.6/site-packages/pytorch_pretrained_bert/tokenization.py\u001b[0m in \u001b[0;36m_is_punctuation\u001b[0;34m(char)\u001b[0m\n\u001b[1;32m    336\u001b[0m     \u001b[0;31m# consistency.\u001b[0m\u001b[0;34m\u001b[0m\u001b[0;34m\u001b[0m\u001b[0;34m\u001b[0m\u001b[0m\n\u001b[1;32m    337\u001b[0m     if ((cp >= 33 and cp <= 47) or (cp >= 58 and cp <= 64) or\n\u001b[0;32m--> 338\u001b[0;31m             (cp >= 91 and cp <= 96) or (cp >= 123 and cp <= 126)):\n\u001b[0m\u001b[1;32m    339\u001b[0m         \u001b[0;32mreturn\u001b[0m \u001b[0;32mTrue\u001b[0m\u001b[0;34m\u001b[0m\u001b[0;34m\u001b[0m\u001b[0m\n\u001b[1;32m    340\u001b[0m     \u001b[0mcat\u001b[0m \u001b[0;34m=\u001b[0m \u001b[0municodedata\u001b[0m\u001b[0;34m.\u001b[0m\u001b[0mcategory\u001b[0m\u001b[0;34m(\u001b[0m\u001b[0mchar\u001b[0m\u001b[0;34m)\u001b[0m\u001b[0;34m\u001b[0m\u001b[0;34m\u001b[0m\u001b[0m\n",
      "\u001b[0;31mKeyboardInterrupt\u001b[0m: "
     ]
    }
   ],
   "source": [
    "import torch.nn as nn\n",
    "from metal.mmtl.task import Task\n",
    "from BERT_tasks import create_task\n",
    "\n",
    "foo_input = nn.Linear(2, 10)\n",
    "bar_input = foo_input #nn.Linear(100, 7)\n",
    "\n",
    "foo_head = nn.Linear(10, 2)\n",
    "bar_head = nn.Linear(10, 2)\n",
    "\n",
    "foo_data = make_dataloader(5000)\n",
    "bar_data = make_dataloader(2000)\n",
    "\n",
    "foo = Task(\"foo_task\", [foo_data, foo_data, None], foo_input, foo_head, )\n",
    "bar = Task(\"bar_task\", [bar_data, bar_data, None], bar_input, bar_head)\n",
    "baz = create_task('SST-2')\n",
    "tasks = [baz]"
   ]
  },
  {
   "cell_type": "code",
   "execution_count": 9,
   "metadata": {
    "scrolled": false
   },
   "outputs": [
    {
     "data": {
      "application/vnd.jupyter.widget-view+json": {
       "model_id": "2fa64b07f5e84feb8f67cc8b34c59117",
       "version_major": 2,
       "version_minor": 0
      },
      "text/plain": [
       "HBox(children=(IntProgress(value=0, max=872), HTML(value='')))"
      ]
     },
     "metadata": {},
     "output_type": "display_data"
    },
    {
     "ename": "KeyboardInterrupt",
     "evalue": "",
     "output_type": "error",
     "traceback": [
      "\u001b[0;31m---------------------------------------------------------------------------\u001b[0m",
      "\u001b[0;31mKeyboardInterrupt\u001b[0m                         Traceback (most recent call last)",
      "\u001b[0;32m<ipython-input-9-100f761c0f0d>\u001b[0m in \u001b[0;36m<module>\u001b[0;34m\u001b[0m\n\u001b[1;32m     12\u001b[0m     \u001b[0mprogress_bar\u001b[0m\u001b[0;34m=\u001b[0m\u001b[0;32mTrue\u001b[0m\u001b[0;34m,\u001b[0m\u001b[0;34m\u001b[0m\u001b[0;34m\u001b[0m\u001b[0m\n\u001b[1;32m     13\u001b[0m     \u001b[0mlog_valid_metrics\u001b[0m\u001b[0;34m=\u001b[0m\u001b[0;34m[\u001b[0m\u001b[0;34m\"foo_task/accuracy\"\u001b[0m\u001b[0;34m,\u001b[0m \u001b[0;34m\"foo_task/precision\"\u001b[0m\u001b[0;34m]\u001b[0m\u001b[0;34m,\u001b[0m\u001b[0;34m\u001b[0m\u001b[0;34m\u001b[0m\u001b[0m\n\u001b[0;32m---> 14\u001b[0;31m     \u001b[0mcheckpoint_metric\u001b[0m\u001b[0;34m=\u001b[0m\u001b[0;34m\"foo_task/accuracy\"\u001b[0m\u001b[0;34m,\u001b[0m\u001b[0;34m\u001b[0m\u001b[0;34m\u001b[0m\u001b[0m\n\u001b[0m\u001b[1;32m     15\u001b[0m )\n",
      "\u001b[0;32m/lfs/local/0/mccreery/repos/metal/metal/mmtl/trainer.py\u001b[0m in \u001b[0;36mtrain_model\u001b[0;34m(self, model, tasks, **kwargs)\u001b[0m\n\u001b[1;32m    188\u001b[0m \u001b[0;34m\u001b[0m\u001b[0m\n\u001b[1;32m    189\u001b[0m                 \u001b[0;31m# Perform optimizer step\u001b[0m\u001b[0;34m\u001b[0m\u001b[0;34m\u001b[0m\u001b[0;34m\u001b[0m\u001b[0m\n\u001b[0;32m--> 190\u001b[0;31m                 \u001b[0mself\u001b[0m\u001b[0;34m.\u001b[0m\u001b[0moptimizer\u001b[0m\u001b[0;34m.\u001b[0m\u001b[0mstep\u001b[0m\u001b[0;34m(\u001b[0m\u001b[0;34m)\u001b[0m\u001b[0;34m\u001b[0m\u001b[0;34m\u001b[0m\u001b[0m\n\u001b[0m\u001b[1;32m    191\u001b[0m \u001b[0;34m\u001b[0m\u001b[0m\n\u001b[1;32m    192\u001b[0m                 \u001b[0;31m# Calculate metrics, log, and checkpoint as necessary\u001b[0m\u001b[0;34m\u001b[0m\u001b[0;34m\u001b[0m\u001b[0;34m\u001b[0m\u001b[0m\n",
      "\u001b[0;32m/lfs/local/0/mccreery/repos/anaconda3/envs/metal/lib/python3.6/site-packages/torch/optim/adam.py\u001b[0m in \u001b[0;36mstep\u001b[0;34m(self, closure)\u001b[0m\n\u001b[1;32m    105\u001b[0m                 \u001b[0mstep_size\u001b[0m \u001b[0;34m=\u001b[0m \u001b[0mgroup\u001b[0m\u001b[0;34m[\u001b[0m\u001b[0;34m'lr'\u001b[0m\u001b[0;34m]\u001b[0m \u001b[0;34m*\u001b[0m \u001b[0mmath\u001b[0m\u001b[0;34m.\u001b[0m\u001b[0msqrt\u001b[0m\u001b[0;34m(\u001b[0m\u001b[0mbias_correction2\u001b[0m\u001b[0;34m)\u001b[0m \u001b[0;34m/\u001b[0m \u001b[0mbias_correction1\u001b[0m\u001b[0;34m\u001b[0m\u001b[0;34m\u001b[0m\u001b[0m\n\u001b[1;32m    106\u001b[0m \u001b[0;34m\u001b[0m\u001b[0m\n\u001b[0;32m--> 107\u001b[0;31m                 \u001b[0mp\u001b[0m\u001b[0;34m.\u001b[0m\u001b[0mdata\u001b[0m\u001b[0;34m.\u001b[0m\u001b[0maddcdiv_\u001b[0m\u001b[0;34m(\u001b[0m\u001b[0;34m-\u001b[0m\u001b[0mstep_size\u001b[0m\u001b[0;34m,\u001b[0m \u001b[0mexp_avg\u001b[0m\u001b[0;34m,\u001b[0m \u001b[0mdenom\u001b[0m\u001b[0;34m)\u001b[0m\u001b[0;34m\u001b[0m\u001b[0;34m\u001b[0m\u001b[0m\n\u001b[0m\u001b[1;32m    108\u001b[0m \u001b[0;34m\u001b[0m\u001b[0m\n\u001b[1;32m    109\u001b[0m         \u001b[0;32mreturn\u001b[0m \u001b[0mloss\u001b[0m\u001b[0;34m\u001b[0m\u001b[0;34m\u001b[0m\u001b[0m\n",
      "\u001b[0;31mKeyboardInterrupt\u001b[0m: "
     ]
    }
   ],
   "source": [
    "from metal.end_model import EndModel\n",
    "from metal.mmtl.metal_model import MetalModel\n",
    "from metal.mmtl.trainer import MultitaskTrainer\n",
    "\n",
    "model = MetalModel(tasks, verbose=False)\n",
    "trainer = MultitaskTrainer()\n",
    "trainer.train_model(\n",
    "    model, \n",
    "    tasks, \n",
    "    n_epochs=4, \n",
    "    lr=0.005, \n",
    "    progress_bar=True,\n",
    "    log_valid_metrics=[\"foo_task/accuracy\", \"foo_task/precision\"],\n",
    "    checkpoint_metric=\"foo_task/accuracy\",\n",
    ")"
   ]
  },
  {
   "cell_type": "code",
   "execution_count": null,
   "metadata": {
    "scrolled": false
   },
   "outputs": [],
   "source": []
  },
  {
   "cell_type": "code",
   "execution_count": null,
   "metadata": {},
   "outputs": [],
   "source": []
  }
 ],
 "metadata": {
  "kernelspec": {
   "display_name": "Python [conda env:metal]",
   "language": "python",
   "name": "conda-env-metal-py"
  },
  "language_info": {
   "codemirror_mode": {
    "name": "ipython",
    "version": 3
   },
   "file_extension": ".py",
   "mimetype": "text/x-python",
   "name": "python",
   "nbconvert_exporter": "python",
   "pygments_lexer": "ipython3",
   "version": "3.6.8"
  }
 },
 "nbformat": 4,
 "nbformat_minor": 2
}
