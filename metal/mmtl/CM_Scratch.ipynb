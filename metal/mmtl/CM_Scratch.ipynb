{
 "cells": [
  {
   "cell_type": "code",
   "execution_count": 1,
   "metadata": {},
   "outputs": [],
   "source": [
    "%load_ext autoreload\n",
    "%autoreload 2\n",
    "%matplotlib inline"
   ]
  },
  {
   "cell_type": "code",
   "execution_count": 2,
   "metadata": {},
   "outputs": [],
   "source": [
    "import torch\n",
    "from torch.utils.data import DataLoader, TensorDataset\n",
    "import numpy as np\n",
    "\n",
    "def make_dataloader(n):\n",
    "    X = np.random.random((n, 2)) * 2 - 1\n",
    "    Y = (X[:, 0] > X[:, 1] + 0.25).astype(int) + 1\n",
    "\n",
    "    X = torch.tensor(X, dtype=torch.float)\n",
    "    Y = torch.tensor(Y, dtype=torch.long)\n",
    "\n",
    "    div1 = int(n*0.8)\n",
    "    div2 = int(n*0.9)\n",
    "    Xs = [X[:div1], X[div1:div2], X[div2:]]\n",
    "    Ys = [Y[:div1], Y[div1:div2], Y[div2:]]\n",
    "\n",
    "    dataset = TensorDataset(Xs[0], Ys[0])\n",
    "    data_loader = DataLoader(dataset, batch_size=4)\n",
    "    return data_loader"
   ]
  },
  {
   "cell_type": "code",
   "execution_count": 3,
   "metadata": {},
   "outputs": [
    {
     "name": "stdout",
     "output_type": "stream",
     "text": [
      "Better speed can be achieved with apex installed from https://www.github.com/nvidia/apex.\n"
     ]
    },
    {
     "name": "stderr",
     "output_type": "stream",
     "text": [
      "100%|██████████| 67349/67349 [00:21<00:00, 3085.75it/s]\n",
      "100%|██████████| 872/872 [00:00<00:00, 1717.78it/s]\n"
     ]
    }
   ],
   "source": [
    "import torch.nn as nn\n",
    "from metal.mmtl.task import Task\n",
    "from BERT_tasks import create_task\n",
    "\n",
    "foo_input = nn.Linear(2, 10)\n",
    "bar_input = foo_input #nn.Linear(100, 7)\n",
    "\n",
    "foo_head = nn.Linear(10, 2)\n",
    "bar_head = nn.Linear(10, 2)\n",
    "\n",
    "foo_data = make_dataloader(5000)\n",
    "bar_data = make_dataloader(2000)\n",
    "\n",
    "foo = Task(\"foo_task\", [foo_data, foo_data, None], foo_input, foo_head, )\n",
    "bar = Task(\"bar_task\", [bar_data, bar_data, None], bar_input, bar_head)\n",
    "baz = create_task('SST-2')\n",
    "tasks = [baz]"
   ]
  },
  {
   "cell_type": "code",
   "execution_count": null,
   "metadata": {
    "scrolled": false
   },
   "outputs": [
    {
     "data": {
      "application/vnd.jupyter.widget-view+json": {
       "model_id": "76d3b84381154d81bc53ce43a5b058d4",
       "version_major": 2,
       "version_minor": 0
      },
      "text/plain": [
       "HBox(children=(IntProgress(value=0, max=67349), HTML(value='')))"
      ]
     },
     "metadata": {},
     "output_type": "display_data"
    }
   ],
   "source": [
    "from metal.end_model import EndModel\n",
    "from metal.mmtl.metal_model import MetalModel\n",
    "from metal.mmtl.trainer import MultitaskTrainer\n",
    "\n",
    "model = MetalModel(tasks, verbose=False)\n",
    "trainer = MultitaskTrainer()\n",
    "trainer.train_model(\n",
    "    model, \n",
    "    tasks, \n",
    "    n_epochs=4, \n",
    "    lr=0.005, \n",
    "    progress_bar=True,\n",
    "    log_valid_metrics=[\"foo_task/accuracy\", \"foo_task/precision\"],\n",
    "    checkpoint_metric=\"foo_task/accuracy\",\n",
    ")"
   ]
  },
  {
   "cell_type": "code",
   "execution_count": null,
   "metadata": {
    "scrolled": false
   },
   "outputs": [],
   "source": []
  },
  {
   "cell_type": "code",
   "execution_count": null,
   "metadata": {},
   "outputs": [],
   "source": []
  }
 ],
 "metadata": {
  "kernelspec": {
   "display_name": "Python [conda env:metal]",
   "language": "python",
   "name": "conda-env-metal-py"
  },
  "language_info": {
   "codemirror_mode": {
    "name": "ipython",
    "version": 3
   },
   "file_extension": ".py",
   "mimetype": "text/x-python",
   "name": "python",
   "nbconvert_exporter": "python",
   "pygments_lexer": "ipython3",
   "version": "3.6.8"
  }
 },
 "nbformat": 4,
 "nbformat_minor": 2
}
