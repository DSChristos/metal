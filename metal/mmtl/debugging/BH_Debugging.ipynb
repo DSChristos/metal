{
 "cells": [
  {
   "cell_type": "code",
   "execution_count": 1,
   "metadata": {},
   "outputs": [
    {
     "name": "stdout",
     "output_type": "stream",
     "text": [
      "The autoreload extension is already loaded. To reload it, use:\n",
      "  %reload_ext autoreload\n",
      "Better speed can be achieved with apex installed from https://www.github.com/nvidia/apex.\n"
     ]
    }
   ],
   "source": [
    "%load_ext autoreload\n",
    "%autoreload 2\n",
    "%matplotlib inline\n",
    "\n",
    "import torch \n",
    "import matplotlib.pyplot as plt\n",
    "import numpy as np\n",
    "import pandas as pd\n",
    "\n",
    "from utils import *"
   ]
  },
  {
   "cell_type": "markdown",
   "metadata": {},
   "source": [
    "### Initialize Tagger"
   ]
  },
  {
   "cell_type": "code",
   "execution_count": 2,
   "metadata": {},
   "outputs": [],
   "source": [
    "from tagger import Tagger\n",
    "tagger = Tagger()"
   ]
  },
  {
   "cell_type": "markdown",
   "metadata": {},
   "source": [
    "### Load Model and Data"
   ]
  },
  {
   "cell_type": "code",
   "execution_count": 3,
   "metadata": {},
   "outputs": [],
   "source": [
    "model_path = '/dfs/scratch0/chami/metal/logs/2019_02_20/RTE_21_25_34/'\n",
    "task_name = 'RTE'\n",
    "split = 'dev'\n",
    "filepath = f'{task_name}_{split}_error_analysis.tsv'"
   ]
  },
  {
   "cell_type": "code",
   "execution_count": 4,
   "metadata": {},
   "outputs": [],
   "source": [
    "# # Load model and data\n",
    "# model, dl = load_data_and_model(model_path,task_name,split)\n",
    "\n",
    "# # Create DataFrame of Raw Data, Predictions, and Labels\n",
    "# print('Creating dataframe')\n",
    "# df_error = create_dataframe(task_name, model, dl)\n",
    "# print('Created dataframe')\n",
    "\n",
    "# # Save (and reload) DataFrame\n",
    "# csv_path = '/'.join(model_path.split('/')[0:-1])\n",
    "# save_dataframe(df_error, filepath)"
   ]
  },
  {
   "cell_type": "code",
   "execution_count": 5,
   "metadata": {},
   "outputs": [],
   "source": [
    "df_error = load_dataframe(filepath)"
   ]
  },
  {
   "cell_type": "code",
   "execution_count": 6,
   "metadata": {},
   "outputs": [
    {
     "data": {
      "text/html": [
       "<div>\n",
       "<style scoped>\n",
       "    .dataframe tbody tr th:only-of-type {\n",
       "        vertical-align: middle;\n",
       "    }\n",
       "\n",
       "    .dataframe tbody tr th {\n",
       "        vertical-align: top;\n",
       "    }\n",
       "\n",
       "    .dataframe thead th {\n",
       "        text-align: right;\n",
       "    }\n",
       "</style>\n",
       "<table border=\"1\" class=\"dataframe\">\n",
       "  <thead>\n",
       "    <tr style=\"text-align: right;\">\n",
       "      <th></th>\n",
       "      <th>Unnamed: 0</th>\n",
       "      <th>sentence1</th>\n",
       "      <th>sentence2</th>\n",
       "      <th>score</th>\n",
       "      <th>label</th>\n",
       "      <th>uid</th>\n",
       "      <th>pred</th>\n",
       "      <th>is_wrong</th>\n",
       "    </tr>\n",
       "  </thead>\n",
       "  <tbody>\n",
       "    <tr>\n",
       "      <th>0</th>\n",
       "      <td>0</td>\n",
       "      <td>dana reeve , the widow of the actor christoph...</td>\n",
       "      <td>christopher reeve had an accident .</td>\n",
       "      <td>0.003992</td>\n",
       "      <td>0</td>\n",
       "      <td>RTE/dev.tsv:2</td>\n",
       "      <td>0</td>\n",
       "      <td>False</td>\n",
       "    </tr>\n",
       "    <tr>\n",
       "      <th>1</th>\n",
       "      <td>1</td>\n",
       "      <td>yet , we now are discovering that antibiotics...</td>\n",
       "      <td>bacteria is winning the war against antibioti...</td>\n",
       "      <td>0.003810</td>\n",
       "      <td>1</td>\n",
       "      <td>RTE/dev.tsv:3</td>\n",
       "      <td>0</td>\n",
       "      <td>True</td>\n",
       "    </tr>\n",
       "    <tr>\n",
       "      <th>2</th>\n",
       "      <td>2</td>\n",
       "      <td>cairo is now home to some 15 million people -...</td>\n",
       "      <td>15 million tonnes of rubbish are produced dai...</td>\n",
       "      <td>0.995439</td>\n",
       "      <td>0</td>\n",
       "      <td>RTE/dev.tsv:4</td>\n",
       "      <td>1</td>\n",
       "      <td>True</td>\n",
       "    </tr>\n",
       "    <tr>\n",
       "      <th>3</th>\n",
       "      <td>3</td>\n",
       "      <td>the ami ##sh community in pennsylvania , whic...</td>\n",
       "      <td>pennsylvania has the biggest ami ##sh communi...</td>\n",
       "      <td>0.005520</td>\n",
       "      <td>0</td>\n",
       "      <td>RTE/dev.tsv:5</td>\n",
       "      <td>0</td>\n",
       "      <td>False</td>\n",
       "    </tr>\n",
       "    <tr>\n",
       "      <th>4</th>\n",
       "      <td>4</td>\n",
       "      <td>security forces were on high alert after an e...</td>\n",
       "      <td>security forces were on high alert after a ca...</td>\n",
       "      <td>0.993684</td>\n",
       "      <td>1</td>\n",
       "      <td>RTE/dev.tsv:6</td>\n",
       "      <td>1</td>\n",
       "      <td>False</td>\n",
       "    </tr>\n",
       "  </tbody>\n",
       "</table>\n",
       "</div>"
      ],
      "text/plain": [
       "   Unnamed: 0                                          sentence1  \\\n",
       "0           0   dana reeve , the widow of the actor christoph...   \n",
       "1           1   yet , we now are discovering that antibiotics...   \n",
       "2           2   cairo is now home to some 15 million people -...   \n",
       "3           3   the ami ##sh community in pennsylvania , whic...   \n",
       "4           4   security forces were on high alert after an e...   \n",
       "\n",
       "                                           sentence2     score  label  \\\n",
       "0               christopher reeve had an accident .   0.003992      0   \n",
       "1   bacteria is winning the war against antibioti...  0.003810      1   \n",
       "2   15 million tonnes of rubbish are produced dai...  0.995439      0   \n",
       "3   pennsylvania has the biggest ami ##sh communi...  0.005520      0   \n",
       "4   security forces were on high alert after a ca...  0.993684      1   \n",
       "\n",
       "             uid  pred  is_wrong  \n",
       "0  RTE/dev.tsv:2     0     False  \n",
       "1  RTE/dev.tsv:3     0      True  \n",
       "2  RTE/dev.tsv:4     1      True  \n",
       "3  RTE/dev.tsv:5     0     False  \n",
       "4  RTE/dev.tsv:6     1     False  "
      ]
     },
     "execution_count": 6,
     "metadata": {},
     "output_type": "execute_result"
    }
   ],
   "source": [
    "df_error.head()"
   ]
  },
  {
   "cell_type": "markdown",
   "metadata": {},
   "source": [
    "## Sandbox for Error Analysis"
   ]
  },
  {
   "cell_type": "markdown",
   "metadata": {},
   "source": [
    "**0. Some basic statistics.**"
   ]
  },
  {
   "cell_type": "markdown",
   "metadata": {},
   "source": [
    "Confusion Matrix and Performance Metrics"
   ]
  },
  {
   "cell_type": "code",
   "execution_count": 7,
   "metadata": {},
   "outputs": [
    {
     "name": "stdout",
     "output_type": "stream",
     "text": [
      "        y=1    y=2   \n",
      " l=1  *0.721  0.279  \n",
      " l=2   0.241 *0.759  \n",
      "\n",
      "Accuracy: 0.736\n",
      "Precision: 0.721\n",
      "Recall: 0.815\n",
      "F1: 0.765\n"
     ]
    }
   ],
   "source": [
    "from metal.analysis import confusion_matrix\n",
    "from metal.utils import convert_labels\n",
    "\n",
    "Y_gold = convert_labels(df_error['label'].values, \"onezero\", \"categorical\")\n",
    "Y_preds = convert_labels(df_error['pred'].values, \"onezero\", \"categorical\")\n",
    "Y_probs = np.vstack([df_error['score'].values, 1 - df_error['score'].values]).transpose()\n",
    "confusion_matrix(Y_gold, Y_preds, pretty_print=True, normalize=True)\n",
    "print()\n",
    "\n",
    "from metal.metrics import metric_score\n",
    "metric_list = ['accuracy','precision', 'recall', 'f1']\n",
    "\n",
    "for metric in metric_list:\n",
    "    score = metric_score(Y_gold, Y_preds, metric, probs=Y_probs)\n",
    "    print(f\"{metric.capitalize()}: {score:.3f}\")"
   ]
  },
  {
   "cell_type": "markdown",
   "metadata": {},
   "source": [
    "Plotting Predictions and Predicted Probabilistic Label Distribution"
   ]
  },
  {
   "cell_type": "code",
   "execution_count": 8,
   "metadata": {},
   "outputs": [
    {
     "data": {
      "image/png": "[encoded data removed]",
      "text/plain": [
       "<Figure size 432x288 with 1 Axes>"
      ]
     },
     "metadata": {
      "needs_background": "light"
     },
     "output_type": "display_data"
    },
    {
     "name": "stdout",
     "output_type": "stream",
     "text": [
      "Accuracy:  0.7364620938628159\n"
     ]
    },
    {
     "data": {
      "image/png": "[encoded data removed]",
      "text/plain": [
       "<Figure size 432x288 with 1 Axes>"
      ]
     },
     "metadata": {
      "needs_background": "light"
     },
     "output_type": "display_data"
    }
   ],
   "source": [
    "from metal.contrib.visualization.analysis import (\n",
    "        plot_predictions_histogram, \n",
    "        plot_probabilities_histogram,\n",
    "        plot_calibration_histogram\n",
    "    )\n",
    "plot_predictions_histogram(Y_preds, Y_gold, title=\"Label Distribution\")\n",
    "plot_calibration_histogram(Y_probs, Y_gold, title=\"Probablistic Label Distribution\", legend=[])"
   ]
  },
  {
   "cell_type": "markdown",
   "metadata": {},
   "source": [
    "**1. We want to look at examples that are \"barely\" wrong and \"barely\" right since we have hope for boosts here.**"
   ]
  },
  {
   "cell_type": "code",
   "execution_count": 9,
   "metadata": {
    "scrolled": true
   },
   "outputs": [
    {
     "name": "stdout",
     "output_type": "stream",
     "text": [
      "\u001b[1mBARELY WRONG\u001b[0;0m\n",
      "No matches were found for the given criteria.\n"
     ]
    }
   ],
   "source": [
    "print(\"\\033[1mBARELY WRONG\\033[0;0m\")\n",
    "print_barely_wrong(df_error, thresh=0.2, n=3)"
   ]
  },
  {
   "cell_type": "code",
   "execution_count": 10,
   "metadata": {},
   "outputs": [
    {
     "name": "stdout",
     "output_type": "stream",
     "text": [
      "\u001b[1mBARELY RIGHT\u001b[0;0m\n",
      "7 matches were found with the given criteria.\n",
      "\n",
      "UID:  RTE/dev.tsv:141\n",
      "sentence1: \t los angeles county probation officials say they are now studying how other counties recover juvenile detention costs , after admitting they mistakenly billed parents for days when youths were held in probation camps and halls . by law , california counties can bill parents and legal guardians for some daily costs of det ##ain ##ing youths , but only those whose parents can afford to pay . last year , more than 20 , 000 youths were admitted to probation camps and halls , and l . a . county billed parents a daily charge of $ 11 . 94 for camps , $ 23 . 63 for halls . \n",
      "sentence2: \t in los angeles county all parents have to pay the detention costs of their children . \n",
      "score: \t0.4265\n",
      "label: \t0\n",
      "\n",
      "UID:  RTE/dev.tsv:16\n",
      "sentence1: \t take consumer products giant pro ##cter and gamble . even with a $ 1 . 8 billion research and development budget , it still manages 500 active partnerships each year , many of them with small companies . \n",
      "sentence2: \t pro ##cter and gamble spends $ 1 . 8 billion for research and development . \n",
      "score: \t0.5972\n",
      "label: \t1\n",
      "\n",
      "UID:  RTE/dev.tsv:224\n",
      "sentence1: \t released in 1995 , tyson returned to boxing , winning the world boxing council title in 1996 . the same year , however , he lost to evan ##der holy ##field , and in a 1997 rematch bit holy ##field ' s ear , for which he was temporarily banned from boxing . \n",
      "sentence2: \t in 1996 mike tyson bit holy ##field ' s ear . \n",
      "score: \t0.4992\n",
      "label: \t0\n",
      "\n"
     ]
    }
   ],
   "source": [
    "print(\"\\033[1mBARELY RIGHT\\033[0;0m\")\n",
    "print_barely_right(df_error, thresh=0.2, n=3)"
   ]
  },
  {
   "cell_type": "markdown",
   "metadata": {},
   "source": [
    "**2. We also want to look at examples we got completely wrong since that could point to a systematic bias in the data/model. It could also help us find examples in the dataset that are mislabeled by human annotators**"
   ]
  },
  {
   "cell_type": "code",
   "execution_count": 11,
   "metadata": {},
   "outputs": [
    {
     "name": "stdout",
     "output_type": "stream",
     "text": [
      "Added 1 tag. Tag set 'entity_confusion' contains 2 tags.\n"
     ]
    }
   ],
   "source": [
    "tagger.add_tag(\"RTE/dev.tsv:120\", 'entity_confusion')"
   ]
  },
  {
   "cell_type": "code",
   "execution_count": 12,
   "metadata": {
    "scrolled": false
   },
   "outputs": [
    {
     "name": "stdout",
     "output_type": "stream",
     "text": [
      "\u001b[1mVERY WRONG\u001b[0;0m\n",
      "69 matches were found with the given criteria.\n",
      "\n",
      "UID:  RTE/dev.tsv:125\n",
      "sentence1: \t a plane crashed in north carolina last year and most of the blink - 182 group was in there . the only survivors of the crash were dj am and musical partner travis barker . less lucky , \" lil \" chris baker , barker ' s close friend and assistant , the blink - 182 drummer ' s bodyguard , charles \" che \" still , the pilot and co - pilot died . both am and barker suffered many in ##jure ##s , bad burns and they needed to stay in hospital for several weeks . now am asks $ 20 million in compensation for injuries he suffered . he lawsuits against plane maker lear ##jet and wants to gain $ 10 million for medical damages , lost earnings and profit and the same amount for mental and physical suffering . \n",
      "sentence2: \t travis barker belongs to a band . \n",
      "score: \t0.0288\n",
      "label: \t1\n",
      "\n",
      "UID:  RTE/dev.tsv:186\n",
      "sentence1: \t he said that \" there is evidence that cr ##ist ##iani was involved in the murder of the six jesuit priests \" which occurred on 16 november in san salvador . \n",
      "sentence2: \t cr ##ist ##iani is accused of the assassination of six jesuits . \n",
      "score: \t0.0042\n",
      "label: \t1\n",
      "\n",
      "UID:  RTE/dev.tsv:43\n",
      "sentence1: \t the plan was released by mr dean on behalf of the secretary of health and human services , tommy thompson , still recovering from a recent accident , at a secret ##aria ##l summit on health information technology that was attended by many of the nation ' s leaders in electronic health records . \n",
      "sentence2: \t mr dean is the secretary of health and human services . \n",
      "score: \t0.9937\n",
      "label: \t0\n",
      "\n",
      "UID:  RTE/dev.tsv:193\n",
      "sentence1: \t texas data recovery is also successful at re ##tri ##eving lost data from notebook ##s and laptop ##s , regardless of age , make or model . \n",
      "sentence2: \t in the event of a disaster you could use texas data recovery and you will have the capability to restore lost data . \n",
      "score: \t0.0036\n",
      "label: \t1\n",
      "\n",
      "UID:  RTE/dev.tsv:168\n",
      "sentence1: \t general miguel ma ##za marquez , chief of the colombian administrative department of security ( das ) , today confirmed foreign participation in the assassination of luis carlos gala ##n , senator and liberal party presidential candidate , on 18 august in bogota . \n",
      "sentence2: \t general miguel ma ##za marquez took part in the assassination of luis carlos gala ##n . \n",
      "score: \t0.9909\n",
      "label: \t0\n",
      "\n",
      "UID:  RTE/dev.tsv:70\n",
      "sentence1: \t for us pharmaceutical companies , the impending healthcare reforms promise an era of increased cost - containment and pricing controls . \n",
      "sentence2: \t the us government wants to keep drug prices down . \n",
      "score: \t0.0043\n",
      "label: \t1\n",
      "\n",
      "UID:  RTE/dev.tsv:210\n",
      "sentence1: \t the girl was found in drummond ##ville . \n",
      "sentence2: \t drummond ##ville contains the girl . \n",
      "score: \t0.9942\n",
      "label: \t0\n",
      "\n",
      "UID:  RTE/dev.tsv:68\n",
      "sentence1: \t without a natural greenhouse effect , the temperature of the earth would be about zero degrees f ( - 18 ##c ) instead of its present 57 ##f ( 14 ##c ) . \n",
      "sentence2: \t greenhouse effect changes global climate . \n",
      "score: \t0.0082\n",
      "label: \t1\n",
      "\n",
      "UID:  RTE/dev.tsv:212\n",
      "sentence1: \t for women earning 22 , 000 a year , the total pay accumulated after six months maternity leave would be just 5 , 300 in the uk and 5 , 850 in ireland . en ##ti ##tlement ##s in germany would also be relatively low , at 5 , 900 , along with those in france , spain and the netherlands , all at 6 , 750 . at the other end of the scale , pay received after six months leave in italy would be 9 , 150 while in denmark and norway it would be as much as 11 , 000 . \n",
      "sentence2: \t maternity leave varies in europe . \n",
      "score: \t0.0184\n",
      "label: \t1\n",
      "\n",
      "UID:  RTE/dev.tsv:49\n",
      "sentence1: \t the harvest of sea - weeds is not allowed in the puget sound because of marine vegetation ' s vital role in providing habitat to important species . \n",
      "sentence2: \t marine vegetation is harvested . \n",
      "score: \t0.9975\n",
      "label: \t0\n",
      "\n",
      "UID:  RTE/dev.tsv:88\n",
      "sentence1: \t the job gains mean that president bush can celebrate - albeit by a very fine margin - a net growth in jobs in the us economy in his first term in office . \n",
      "sentence2: \t more jobs were created during president bush ' s first term . \n",
      "score: \t0.0074\n",
      "label: \t1\n",
      "\n",
      "UID:  RTE/dev.tsv:239\n",
      "sentence1: \t california voters recall gray davis and elect arnold schwarz ##ene ##gger as their governor . \n",
      "sentence2: \t california voters dumped gov . gray davis and replaced him with arnold schwarz ##ene ##gger . \n",
      "score: \t0.0480\n",
      "label: \t1\n",
      "\n",
      "UID:  RTE/dev.tsv:237\n",
      "sentence1: \t sc ##hr ##oder investment management has indicated its intention to accept revival ' s offer to buy retailer marks & spencer . \n",
      "sentence2: \t revival tries to take over marks & spencer group . \n",
      "score: \t0.0046\n",
      "label: \t1\n",
      "\n",
      "UID:  RTE/dev.tsv:247\n",
      "sentence1: \t new york boasts the largest number of billionaire ##s , with 40 residing in the big apple . the world ' s youngest billionaire is 22 - year - old hind hari ##ri , daughter of assassinated former lebanese prime minister raf ##ik hari ##ri . \n",
      "sentence2: \t the number of billionaire ##s increases . \n",
      "score: \t0.9920\n",
      "label: \t0\n",
      "\n",
      "UID:  RTE/dev.tsv:209\n",
      "sentence1: \t \" bea arthur and i first met when we did ' ma ##me ' together in 1965 . she became and has remained ' my bo ##som buddy ' ever since . i am deeply sad ##dened by her passing , but also relieved that she is released from the pain . i spoke to matt , her son , yesterday and i was aware that her time was imminent . she was a rare and unique performer and a dear , dear friend . \" arthur passed away at her home on saturday at the age of 86 . angela lan ##sbury is appearing in the current revival of b ##lit ##he spirit which began preview performances on thursday , february 26 , 2009 and had an official opening on sunday , march 15 , 2009 at the shu ##bert theatre ( 225 west 44th street ) . \n",
      "sentence2: \t the actress angela lan ##sbury is 86 years old . \n",
      "score: \t0.9936\n",
      "label: \t0\n",
      "\n",
      "UID:  RTE/dev.tsv:167\n",
      "sentence1: \t ah ##ern , who was travelling to tokyo for an eu - japan summit yesterday , will consult with other eu leaders by telephone later this week in an effort to find an agreed candidate . \n",
      "sentence2: \t a summit between europe and japan is taking place in the japan ##ise capital . \n",
      "score: \t0.0037\n",
      "label: \t1\n",
      "\n",
      "UID:  RTE/dev.tsv:52\n",
      "sentence1: \t he also referred to the \" illegal \" arrest on 31 may of mexican professor maria eugen ##ia och ##oa garcia , whom the salvador ##an government accused of having connections with the salvador ##an guerrillas . \n",
      "sentence2: \t professor och ##oa garcia is a member of the salvador ##an government . \n",
      "score: \t0.9968\n",
      "label: \t0\n",
      "\n",
      "UID:  RTE/dev.tsv:89\n",
      "sentence1: \t the federal bureau of investigation started an independent probe of the circumstances shortly after the white house made plain that president bill clinton considered industrial espionage a particular threat to us economic interests . \n",
      "sentence2: \t a us probe of the investigation started at the ins ##ti ##gation of the commerce department . \n",
      "score: \t0.9809\n",
      "label: \t0\n",
      "\n",
      "UID:  RTE/dev.tsv:274\n",
      "sentence1: \t swansea striker lee tr ##und ##le has negotiated a lucrative image - rights deal with the league one club . \n",
      "sentence2: \t lee tr ##und ##le is in business with the league one club . \n",
      "score: \t0.0317\n",
      "label: \t1\n",
      "\n",
      "UID:  RTE/dev.tsv:193\n",
      "sentence1: \t texas data recovery is also successful at re ##tri ##eving lost data from notebook ##s and laptop ##s , regardless of age , make or model . \n",
      "sentence2: \t in the event of a disaster you could use texas data recovery and you will have the capability to restore lost data . \n",
      "score: \t0.0036\n",
      "label: \t1\n",
      "\n",
      "UID:  RTE/dev.tsv:239\n",
      "sentence1: \t california voters recall gray davis and elect arnold schwarz ##ene ##gger as their governor . \n",
      "sentence2: \t california voters dumped gov . gray davis and replaced him with arnold schwarz ##ene ##gger . \n",
      "score: \t0.0480\n",
      "label: \t1\n",
      "\n",
      "UID:  RTE/dev.tsv:85\n",
      "sentence1: \t the official visit of the argentine minister marks a further step in the normal ##isation of uk - argentine relations . \n",
      "sentence2: \t relations between argentina and great britain are growing more cooperative . \n",
      "score: \t0.9437\n",
      "label: \t0\n",
      "\n",
      "UID:  RTE/dev.tsv:245\n",
      "sentence1: \t thailand ' s official religion is buddhism which claims the allegiance of most thai people . their cultural identity seems almost ins ##ep ##ara ##bly inter ##twined with buddhist traditions . the people practice folk buddhism which includes and elaborate system of spirit worship . \n",
      "sentence2: \t the official religion of thailand is the ##ra ##va ##da buddhism . \n",
      "score: \t0.9866\n",
      "label: \t0\n",
      "\n",
      "UID:  RTE/dev.tsv:140\n",
      "sentence1: \t note that sb ##b , cf ##f and ff ##s stand out for the main railway company , in german , french and italian . \n",
      "sentence2: \t the french railway company is called s ##nc ##f . \n",
      "score: \t0.9851\n",
      "label: \t0\n",
      "\n",
      "UID:  RTE/dev.tsv:140\n",
      "sentence1: \t note that sb ##b , cf ##f and ff ##s stand out for the main railway company , in german , french and italian . \n",
      "sentence2: \t the french railway company is called s ##nc ##f . \n",
      "score: \t0.9851\n",
      "label: \t0\n",
      "\n",
      "UID:  RTE/dev.tsv:266\n",
      "sentence1: \t hurricane katrina petroleum - supply outlook improved somewhat , yesterday , as u . s . and european governments agreed to release 2 million barrels a day , of oil and refined products , from their reserves . \n",
      "sentence2: \t 60 million barrels of oil and gasoline will be available to the marketplace . \n",
      "score: \t0.9825\n",
      "label: \t0\n",
      "\n",
      "UID:  RTE/dev.tsv:252\n",
      "sentence1: \t ar ##lene blu ##m is a legendary trail ##bla ##zer by any measure . def ##ying the climbing establishment of the 1970s , she led the first teams of women on successful ascent ##s of mt . mckinley and anna ##pur ##na , and was the first american woman to attempt mt . everest . in her long , adventurous career , she has played a leading role in more than twenty expeditions and forged a place for women in the per ##ilo ##us arena of high - altitude mountain ##eering . \n",
      "sentence2: \t a woman succeeds in climbing everest solo . \n",
      "score: \t0.9971\n",
      "label: \t0\n",
      "\n",
      "UID:  RTE/dev.tsv:174\n",
      "sentence1: \t the memo , written by marc allen connell ##y ( who was general counsel to the funeral services commission at the time ) and sent to dick mc ##neil ( the bush - appointed chairman of the funeral commission ) , stated that connell ##y \" received information \" from texas state officials that two of the funeral commissioners worked for sci . \n",
      "sentence2: \t marc allen connell ##y worked for sci . \n",
      "score: \t0.9194\n",
      "label: \t0\n",
      "\n",
      "UID:  RTE/dev.tsv:131\n",
      "sentence1: \t on july 12 portuguese president jorge sam ##pa ##io asks pedro santana lo ##pes to form a government . the new government is sworn in on july 17 and includes antonio monte ##iro as foreign minister , daniel san ##ches as interior minister , and antonio bag ##o fl ##ix as finance minister ; paulo port ##as remains defense minister . \n",
      "sentence2: \t new portuguese prime minister is elected . \n",
      "score: \t0.0060\n",
      "label: \t1\n",
      "\n",
      "UID:  RTE/dev.tsv:112\n",
      "sentence1: \t ren and st ##im ##py . bugs bunny . philip j . fry and professor hubert far ##ns ##worth on fu ##tura ##ma . spa ##r ##x . bi - polar bear . pope ##ye the sailor man . woody wood ##pe ##cker . you may not think you have ever heard billy west , but chances are on a television program , a movie , a commercial , or as howard stern ' s voice guru in the 1990 ' s , you have heard him . west ' s talent for creating personalities by twisting his voice has made him one of a handful of voice actors - hank az ##aria and the late mel blanc come to mind - who have achieved celebrity for their talent . indeed , west is one of the few voice actors who can imp ##erson ##ate blanc in his prime , including characterization ##s of bugs bunny , da ##ffy duck , elmer fu ##dd and other characters from warner bros . cartoons . \n",
      "sentence2: \t bugs bunny is owned by warner bros . \n",
      "score: \t0.0047\n",
      "label: \t1\n",
      "\n"
     ]
    }
   ],
   "source": [
    "print(\"\\033[1mVERY WRONG\\033[0;0m\")\n",
    "print_very_wrong(df_error, thresh=0.9, n=30)"
   ]
  },
  {
   "cell_type": "code",
   "execution_count": 13,
   "metadata": {},
   "outputs": [
    {
     "name": "stdout",
     "output_type": "stream",
     "text": [
      "\u001b[1mVERY RIGHT\u001b[0;0m\n",
      "188 matches were found with the given criteria.\n",
      "\n",
      "UID:  RTE/dev.tsv:143\n",
      "sentence1: \t a cat ##ac ##ly ##sm ##ic star ##qua ##ke is thought to have caused a flare of radiation that ripped past the earth on december 27 , batter ##ing instruments on satellites and lighting up our atmosphere . \n",
      "sentence2: \t the flash of radiation on december 27 , lit up the earth ' s atmosphere . \n",
      "score: \t0.9977\n",
      "label: \t1\n",
      "\n",
      "UID:  RTE/dev.tsv:128\n",
      "sentence1: \t confident that those grading papers would understand answers written in text - speak , ha ##que stressed that in some exams , including english , text abbreviation ##s would be penal ##ized . \n",
      "sentence2: \t ha ##que wants to include english in some exams . \n",
      "score: \t0.0115\n",
      "label: \t0\n",
      "\n",
      "UID:  RTE/dev.tsv:71\n",
      "sentence1: \t gi ##ulia ##na sg ##ren ##a was freed from captivity in iraq today . the italian journalist was abducted in baghdad exactly a month ago while she had been reporting for il manifesto . the islamic jihad organisation had taken her hostage on the 4th february with the demand that italy withdraw all of its troops from iraq . on february 16 , a video was released with a clearly distraught mrs sg ##ren ##a begging for italy to withdraw from iraq . however despite the video , the italian senate voted to extend its mil ##tary forces ' stay in iraq . \n",
      "sentence2: \t a female journalist was kidnapped in iraq . \n",
      "score: \t0.9947\n",
      "label: \t1\n",
      "\n"
     ]
    }
   ],
   "source": [
    "print(\"\\033[1mVERY RIGHT\\033[0;0m\")\n",
    "print_very_right(df_error, thresh=0.9, n=3)"
   ]
  },
  {
   "cell_type": "markdown",
   "metadata": {},
   "source": [
    "**3. To find systematic errors, we can also look for correlations between certain features and the incorrectness a la Socratic**\n",
    "\n",
    "\n",
    "We can make this way more sophisticated by perhaps using embeddings instead of this simple [BoW featurization](https://scikit-learn.org/stable/modules/generated/sklearn.feature_extraction.text.CountVectorizer.html#sklearn.feature_extraction.text.CountVectorizer)."
   ]
  },
  {
   "cell_type": "code",
   "execution_count": 14,
   "metadata": {
    "scrolled": false
   },
   "outputs": [
    {
     "name": "stdout",
     "output_type": "stream",
     "text": [
      "\u001b[1mSYSTEMATIC EXAMPLES\u001b[0;0m\n",
      "award winning\n",
      "supreme court said\n",
      "foreign minister\n"
     ]
    },
    {
     "name": "stderr",
     "output_type": "stream",
     "text": [
      "/dfs/scratch0/bradenjh/anaconda3/envs/metal/lib/python3.6/site-packages/sklearn/linear_model/logistic.py:433: FutureWarning: Default solver will be changed to 'lbfgs' in 0.22. Specify a solver to silence this warning.\n",
      "  FutureWarning)\n"
     ]
    },
    {
     "name": "stdout",
     "output_type": "stream",
     "text": [
      "22 year old\n",
      "mark antony\n",
      "\n",
      "8 matches were found with the given criteria.\n",
      "\n",
      "UID:  RTE/dev.tsv:77\n",
      "sentence1: \t a closely divided u . s . supreme court said on thursday its 2002 ruling that ju ##ries and not judges must impose a death sentence applies only to future cases , a decision that may affect more than 100 death row inmates . \n",
      "sentence2: \t the supreme court decided that only judges can impose the death sentence . \n",
      "score: \t0.9890\n",
      "label: \t0\n",
      "\n",
      "award winning\n",
      "court said\n",
      "new government\n",
      "22 year old\n",
      "patti nson\n",
      "\n",
      "8 matches were found with the given criteria.\n",
      "\n",
      "UID:  RTE/dev.tsv:220\n",
      "sentence1: \t egypt on thursday strongly criticized israeli new foreign minister av ##ig ##dor lie ##berman for his remarks that he refused to recognize the peace efforts initiated in 2007 in the u . s . city of annapolis to restore the peace talks with the palestinians , reported the state men ##a news agency . lie ##berman ' s remarks is \" regret ##table , \" egyptian foreign ministry spokesman ho ##ssa ##m za ##ki was quoted as saying , adding \" his remarks are the first blow to the peace efforts to come from the israeli new government . \" \n",
      "sentence2: \t ho ##ssa ##m za ##ki is the new foreign minister of israel . \n",
      "score: \t0.9970\n",
      "label: \t0\n",
      "\n",
      "award winning\n",
      "supreme court said\n",
      "new government\n",
      "22 year old\n",
      "patti nson\n",
      "\n",
      "8 matches were found with the given criteria.\n",
      "\n",
      "UID:  RTE/dev.tsv:256\n",
      "sentence1: \t monica meadows , a 22 - year - old model from atlanta , was shot in the shoulder on a subway car in new york city . \n",
      "sentence2: \t monica meadows , 23 , was shot in shoulder while riding a subway car in new york city \n",
      "score: \t0.9879\n",
      "label: \t0\n",
      "\n"
     ]
    }
   ],
   "source": [
    "print(\"\\033[1mSYSTEMATIC EXAMPLES\\033[0;0m\")\n",
    "for i in range(3):\n",
    "    print_systematic_wrong(df_error)"
   ]
  },
  {
   "cell_type": "markdown",
   "metadata": {},
   "source": [
    "# BH LFs"
   ]
  },
  {
   "cell_type": "code",
   "execution_count": 30,
   "metadata": {},
   "outputs": [],
   "source": [
    "from metal.mmtl.debugging.utils import print_row, apply_lfs_to_df, view_matches\n",
    "from metal.mmtl.debugging.lf_helpers import regex_present"
   ]
  },
  {
   "cell_type": "code",
   "execution_count": 42,
   "metadata": {},
   "outputs": [],
   "source": [
    "def LF_accuse(row):\n",
    "    return 2 if regex_present(row, \"accuse\") else 0\n",
    "\n",
    "lfs = [\n",
    "    LF_accuse,\n",
    "]"
   ]
  },
  {
   "cell_type": "code",
   "execution_count": 45,
   "metadata": {
    "scrolled": false
   },
   "outputs": [
    {
     "name": "stdout",
     "output_type": "stream",
     "text": [
      "Displaying 5/9 matches\n",
      "\n",
      "sentence1: \t he said that \" there is evidence that cr ##ist ##iani was involved in the murder of the six jesuit priests \" which occurred on 16 november in san salvador . \n",
      "sentence2: \t cr ##ist ##iani is accused of the assassination of six jesuits . \n",
      "score: \t0.0042\n",
      "label: \t1\n",
      "\n",
      "sentence1: \t the court in anger ##s handed down sentences ranging from four months suspended to 28 years for , among others , phil ##ppe v . , the key accused . the court found that he , along with his son fran ##ck v . and fran ##ck ' s former spouse , patricia m . , was one the ins ##ti ##gat ##ors of a sex ring that abused 45 children , mostly in the couple ' s flat . the abuses of children aged between six months and 12 years took place in a poor and deprived area of the western french town of anger ##s . many of the defendants were poor and lived on benefits and some were mentally impaired . about 20 of them admitted to the charges , while others claimed to have never heard of a sex ring . \n",
      "sentence2: \t fran ##ck v . comes from anger ##s . \n",
      "score: \t0.0397\n",
      "label: \t0\n",
      "\n",
      "sentence1: \t hu ##ck ##aby voluntarily submitted herself to questioning friday night at the tracy police station , and was arrested less than six hours later . she now resides in the san joaquin county jail without bond , awaiting an ar ##rai ##gn ##ment hearing on tuesday . on april 6 , the body of sandra can ##tu was discovered stuffed inside the 28 - year - old ' s suitcase at the bottom of a pond a few miles away from her home . the two were neighbors in the orchard estates mobile home park and hu ##ck ##aby ' s own 5 - year - old daughter often played with can ##tu . autopsy results are still pending . \n",
      "sentence2: \t hu ##ck ##aby is accused of killing sandra can ##tu . \n",
      "score: \t0.9180\n",
      "label: \t1\n",
      "\n",
      "sentence1: \t he also referred to the \" illegal \" arrest on 31 may of mexican professor maria eugen ##ia och ##oa garcia , whom the salvador ##an government accused of having connections with the salvador ##an guerrillas . \n",
      "sentence2: \t professor och ##oa garcia is a member of the salvador ##an government . \n",
      "score: \t0.9968\n",
      "label: \t0\n",
      "\n",
      "sentence1: \t the medical student accused of murdering an erotic mass ##eus ##e he met on craig ##sl ##ist is drowning in more than $ 100 , 000 in student loan debt and is so broke he can ' t afford to pay an attorney , according to court papers . philip marko ##ff , a 23 - year - old suspended boston university medical school student , owes $ 130 , 000 in student loans and does not get money from his parents , leaving him to lean on a taxpayer - funded attorney for his defense , according to a court document in boston municipal court that labels him ind ##igen ##t . marko ##ff graduated from the state university of new york - albany and was a second - year medical student at bu . \n",
      "sentence2: \t the medical student philip marko ##ff was engaged . \n",
      "score: \t0.7670\n",
      "label: \t0\n",
      "\n"
     ]
    }
   ],
   "source": [
    "L, Y = apply_lfs_to_df(df_error, lfs)\n",
    "view_matches(df_error, lfs[0], n=5)"
   ]
  },
  {
   "cell_type": "code",
   "execution_count": 44,
   "metadata": {},
   "outputs": [
    {
     "data": {
      "text/html": [
       "<div>\n",
       "<style scoped>\n",
       "    .dataframe tbody tr th:only-of-type {\n",
       "        vertical-align: middle;\n",
       "    }\n",
       "\n",
       "    .dataframe tbody tr th {\n",
       "        vertical-align: top;\n",
       "    }\n",
       "\n",
       "    .dataframe thead th {\n",
       "        text-align: right;\n",
       "    }\n",
       "</style>\n",
       "<table border=\"1\" class=\"dataframe\">\n",
       "  <thead>\n",
       "    <tr style=\"text-align: right;\">\n",
       "      <th></th>\n",
       "      <th>Polarity</th>\n",
       "      <th>Coverage</th>\n",
       "      <th>Overlaps</th>\n",
       "      <th>Conflicts</th>\n",
       "      <th>Correct</th>\n",
       "      <th>Incorrect</th>\n",
       "      <th>Emp. Acc.</th>\n",
       "    </tr>\n",
       "  </thead>\n",
       "  <tbody>\n",
       "    <tr>\n",
       "      <th>0</th>\n",
       "      <td>2.0</td>\n",
       "      <td>0.032491</td>\n",
       "      <td>0.0</td>\n",
       "      <td>0.0</td>\n",
       "      <td>5</td>\n",
       "      <td>4</td>\n",
       "      <td>0.555556</td>\n",
       "    </tr>\n",
       "  </tbody>\n",
       "</table>\n",
       "</div>"
      ],
      "text/plain": [
       "   Polarity  Coverage  Overlaps  Conflicts  Correct  Incorrect  Emp. Acc.\n",
       "0       2.0  0.032491       0.0        0.0        5          4   0.555556"
      ]
     },
     "execution_count": 44,
     "metadata": {},
     "output_type": "execute_result"
    }
   ],
   "source": [
    "from scipy.sparse import csr_matrix\n",
    "from metal.analysis import lf_summary\n",
    "\n",
    "Y_cat = convert_labels(Y, \"onezero\", \"categorical\")\n",
    "lf_summary(csr_matrix(L), Y_cat)"
   ]
  },
  {
   "cell_type": "markdown",
   "metadata": {},
   "source": [
    "## Designing Labeling Functions"
   ]
  },
  {
   "cell_type": "markdown",
   "metadata": {},
   "source": [
    "**1. Number Based LF**\n",
    "\n",
    "Our model tends to fail when there are numbers involved in the two sentences. We can look for the same number being repeated in both sentences as an LF"
   ]
  },
  {
   "cell_type": "code",
   "execution_count": null,
   "metadata": {},
   "outputs": [],
   "source": [
    "def LF_number(idx):\n",
    "    sentence1_nums = [int(s) for s in df_error['sentence1'][idx].split() if s.isdigit()]\n",
    "    sentence2_nums = [int(s) for s in df_error['sentence2'][idx].split() if s.isdigit()]\n",
    "    common_nums = len(set(sentence1_nums).intersection(set(sentence2_nums)))\n",
    "    \n",
    "    if (sentence1_nums == []) or (sentence2_nums == []):\n",
    "        return 0\n",
    "    \n",
    "    if common_nums > 0:\n",
    "        return 2\n",
    "    else:\n",
    "        return 1"
   ]
  },
  {
   "cell_type": "code",
   "execution_count": null,
   "metadata": {},
   "outputs": [],
   "source": [
    "print_row(df_error.iloc[70])\n",
    "print(\"LF_label: \", LF_number(70)-1)\n",
    "\n",
    "print()\n",
    "print()\n",
    "print_row(df_error.iloc[254])\n",
    "print(\"LF_label: \", LF_number(254)-1)"
   ]
  },
  {
   "cell_type": "markdown",
   "metadata": {},
   "source": [
    "**2. Edit Distance Based LF**\n",
    "\n",
    "Our model tends to vote entailment when one sentence is long and the other is short. We can focus on this slice and flip the labelt o vote no entailment even when the number of words is the same."
   ]
  },
  {
   "cell_type": "code",
   "execution_count": null,
   "metadata": {},
   "outputs": [],
   "source": [
    "def levenshteinDistance(s1, s2):\n",
    "    if len(s1) > len(s2):\n",
    "        s1, s2 = s2, s1\n",
    "\n",
    "    distances = range(len(s1) + 1)\n",
    "    for i2, c2 in enumerate(s2):\n",
    "        distances_ = [i2+1]\n",
    "        for i1, c1 in enumerate(s1):\n",
    "            if c1 == c2:\n",
    "                distances_.append(distances[i1])\n",
    "            else:\n",
    "                distances_.append(1 + min((distances[i1], distances[i1 + 1], distances_[-1])))\n",
    "        distances = distances_\n",
    "    return distances[-1]\n",
    "\n",
    "from collections import Counter\n",
    "def common_words(s1,s2):\n",
    "    s1_set = set(Counter(s1.split()))\n",
    "    s2_set = set(Counter(s2.split()))\n",
    "    return len(s1_set.intersection(s2_set))/float(min(len(s1_set),len(s2_set)))"
   ]
  },
  {
   "cell_type": "code",
   "execution_count": null,
   "metadata": {},
   "outputs": [],
   "source": [
    "def LF_words(idx):\n",
    "    ratio = common_words(df_error['sentence1'][idx], df_error['sentence2'][idx])\n",
    "    if ratio < 0.3:\n",
    "        return 1\n",
    "    if (ratio <= 1.0) and (ratio > 0.4):\n",
    "        return 2\n",
    "    else:\n",
    "        return 0"
   ]
  },
  {
   "cell_type": "code",
   "execution_count": null,
   "metadata": {},
   "outputs": [],
   "source": [
    "print_row(df_error.iloc[150])\n",
    "print(\"LF_label: \", LF_words(150)-1)\n",
    "\n",
    "print()\n",
    "print()\n",
    "print_row(df_error.iloc[95])\n",
    "print(\"LF_label: \", LF_words(95)-1)"
   ]
  },
  {
   "cell_type": "markdown",
   "metadata": {},
   "source": [
    "### Analyze Labeling Functions"
   ]
  },
  {
   "cell_type": "code",
   "execution_count": null,
   "metadata": {},
   "outputs": [],
   "source": [
    "L = np.zeros((np.shape(df_error)[0],2))\n",
    "for i in range(df_error.shape[0]):\n",
    "    L[i,0] = LF_number(i)\n",
    "    L[i,1] = LF_words(i)"
   ]
  },
  {
   "cell_type": "markdown",
   "metadata": {},
   "source": [
    "Labeling Function Summary"
   ]
  },
  {
   "cell_type": "code",
   "execution_count": null,
   "metadata": {},
   "outputs": [],
   "source": [
    "from metal.analysis import lf_summary\n",
    "from scipy.sparse import csr_matrix    \n",
    "\n",
    "L_sparse = csr_matrix(L)\n",
    "lf_summary(L_sparse,Y=df_error.label+1)"
   ]
  },
  {
   "cell_type": "code",
   "execution_count": null,
   "metadata": {},
   "outputs": [],
   "source": [
    "incorrect = set(np.where(df_error.is_wrong == True)[0])\n",
    "LF1_set = set(np.where(L[:,0]-1. == df_error.label)[0])\n",
    "LF2_set = set(np.where(L[:,1]-1. == df_error.label)[0])\n",
    "\n",
    "print(\"Percentage Corrected by LF_num: \", 100.*len(LF1_set.intersection(incorrect))/float(len(incorrect)))\n",
    "print(\"Percentage Corrected by LF_words: \", 100.*len(LF2_set.intersection(incorrect))/float(len(incorrect)))"
   ]
  },
  {
   "cell_type": "code",
   "execution_count": null,
   "metadata": {},
   "outputs": [],
   "source": []
  }
 ],
 "metadata": {
  "kernelspec": {
   "display_name": "Python (metal)",
   "language": "python",
   "name": "metal"
  },
  "language_info": {
   "codemirror_mode": {
    "name": "ipython",
    "version": 3
   },
   "file_extension": ".py",
   "mimetype": "text/x-python",
   "name": "python",
   "nbconvert_exporter": "python",
   "pygments_lexer": "ipython3",
   "version": "3.6.7"
  }
 },
 "nbformat": 4,
 "nbformat_minor": 2
}
