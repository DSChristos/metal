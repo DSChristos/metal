{
 "cells": [
  {
   "cell_type": "code",
   "execution_count": 1,
   "metadata": {},
   "outputs": [
    {
     "name": "stdout",
     "output_type": "stream",
     "text": [
      "The autoreload extension is already loaded. To reload it, use:\n",
      "  %reload_ext autoreload\n",
      "Better speed can be achieved with apex installed from https://www.github.com/nvidia/apex.\n"
     ]
    }
   ],
   "source": [
    "%load_ext autoreload\n",
    "%autoreload 2\n",
    "%matplotlib inline\n",
    "\n",
    "import torch \n",
    "import matplotlib.pyplot as plt\n",
    "import numpy as np\n",
    "import pandas as pd\n",
    "\n",
    "from utils import *"
   ]
  },
  {
   "cell_type": "markdown",
   "metadata": {},
   "source": [
    "### Initialize Tagger"
   ]
  },
  {
   "cell_type": "code",
   "execution_count": 2,
   "metadata": {},
   "outputs": [],
   "source": [
    "from tagger import Tagger\n",
    "tagger = Tagger()"
   ]
  },
  {
   "cell_type": "markdown",
   "metadata": {},
   "source": [
    "### Load Model and Data"
   ]
  },
  {
   "cell_type": "code",
   "execution_count": 3,
   "metadata": {},
   "outputs": [],
   "source": [
    "model_path = '/dfs/scratch0/chami/metal/logs/2019_02_20/RTE_21_25_34/'\n",
    "task_name = 'RTE'\n",
    "split = 'dev'\n",
    "filepath = f'{task_name}_{split}_error_analysis.tsv'"
   ]
  },
  {
   "cell_type": "code",
   "execution_count": 4,
   "metadata": {},
   "outputs": [],
   "source": [
    "# # Load model and data\n",
    "# model, dl = load_data_and_model(model_path,task_name,split)\n",
    "\n",
    "# # Create DataFrame of Raw Data, Predictions, and Labels\n",
    "# print('Creating dataframe')\n",
    "# df_error = create_dataframe(task_name, model, dl)\n",
    "# print('Created dataframe')\n",
    "\n",
    "# # Save (and reload) DataFrame\n",
    "# csv_path = '/'.join(model_path.split('/')[0:-1])\n",
    "# save_dataframe(df_error, filepath)"
   ]
  },
  {
   "cell_type": "code",
   "execution_count": 5,
   "metadata": {},
   "outputs": [],
   "source": [
    "df_error = load_dataframe(filepath)"
   ]
  },
  {
   "cell_type": "code",
   "execution_count": 6,
   "metadata": {},
   "outputs": [
    {
     "data": {
      "text/html": [
       "<div>\n",
       "<style scoped>\n",
       "    .dataframe tbody tr th:only-of-type {\n",
       "        vertical-align: middle;\n",
       "    }\n",
       "\n",
       "    .dataframe tbody tr th {\n",
       "        vertical-align: top;\n",
       "    }\n",
       "\n",
       "    .dataframe thead th {\n",
       "        text-align: right;\n",
       "    }\n",
       "</style>\n",
       "<table border=\"1\" class=\"dataframe\">\n",
       "  <thead>\n",
       "    <tr style=\"text-align: right;\">\n",
       "      <th></th>\n",
       "      <th>Unnamed: 0</th>\n",
       "      <th>sentence1</th>\n",
       "      <th>sentence2</th>\n",
       "      <th>score</th>\n",
       "      <th>label</th>\n",
       "      <th>uid</th>\n",
       "      <th>pred</th>\n",
       "      <th>is_wrong</th>\n",
       "    </tr>\n",
       "  </thead>\n",
       "  <tbody>\n",
       "    <tr>\n",
       "      <th>0</th>\n",
       "      <td>0</td>\n",
       "      <td>dana reeve , the widow of the actor christoph...</td>\n",
       "      <td>christopher reeve had an accident .</td>\n",
       "      <td>0.003992</td>\n",
       "      <td>0</td>\n",
       "      <td>RTE/dev.tsv:2</td>\n",
       "      <td>0</td>\n",
       "      <td>False</td>\n",
       "    </tr>\n",
       "    <tr>\n",
       "      <th>1</th>\n",
       "      <td>1</td>\n",
       "      <td>yet , we now are discovering that antibiotics...</td>\n",
       "      <td>bacteria is winning the war against antibioti...</td>\n",
       "      <td>0.003810</td>\n",
       "      <td>1</td>\n",
       "      <td>RTE/dev.tsv:3</td>\n",
       "      <td>0</td>\n",
       "      <td>True</td>\n",
       "    </tr>\n",
       "    <tr>\n",
       "      <th>2</th>\n",
       "      <td>2</td>\n",
       "      <td>cairo is now home to some 15 million people -...</td>\n",
       "      <td>15 million tonnes of rubbish are produced dai...</td>\n",
       "      <td>0.995439</td>\n",
       "      <td>0</td>\n",
       "      <td>RTE/dev.tsv:4</td>\n",
       "      <td>1</td>\n",
       "      <td>True</td>\n",
       "    </tr>\n",
       "    <tr>\n",
       "      <th>3</th>\n",
       "      <td>3</td>\n",
       "      <td>the ami ##sh community in pennsylvania , whic...</td>\n",
       "      <td>pennsylvania has the biggest ami ##sh communi...</td>\n",
       "      <td>0.005520</td>\n",
       "      <td>0</td>\n",
       "      <td>RTE/dev.tsv:5</td>\n",
       "      <td>0</td>\n",
       "      <td>False</td>\n",
       "    </tr>\n",
       "    <tr>\n",
       "      <th>4</th>\n",
       "      <td>4</td>\n",
       "      <td>security forces were on high alert after an e...</td>\n",
       "      <td>security forces were on high alert after a ca...</td>\n",
       "      <td>0.993684</td>\n",
       "      <td>1</td>\n",
       "      <td>RTE/dev.tsv:6</td>\n",
       "      <td>1</td>\n",
       "      <td>False</td>\n",
       "    </tr>\n",
       "  </tbody>\n",
       "</table>\n",
       "</div>"
      ],
      "text/plain": [
       "   Unnamed: 0                                          sentence1  \\\n",
       "0           0   dana reeve , the widow of the actor christoph...   \n",
       "1           1   yet , we now are discovering that antibiotics...   \n",
       "2           2   cairo is now home to some 15 million people -...   \n",
       "3           3   the ami ##sh community in pennsylvania , whic...   \n",
       "4           4   security forces were on high alert after an e...   \n",
       "\n",
       "                                           sentence2     score  label  \\\n",
       "0               christopher reeve had an accident .   0.003992      0   \n",
       "1   bacteria is winning the war against antibioti...  0.003810      1   \n",
       "2   15 million tonnes of rubbish are produced dai...  0.995439      0   \n",
       "3   pennsylvania has the biggest ami ##sh communi...  0.005520      0   \n",
       "4   security forces were on high alert after a ca...  0.993684      1   \n",
       "\n",
       "             uid  pred  is_wrong  \n",
       "0  RTE/dev.tsv:2     0     False  \n",
       "1  RTE/dev.tsv:3     0      True  \n",
       "2  RTE/dev.tsv:4     1      True  \n",
       "3  RTE/dev.tsv:5     0     False  \n",
       "4  RTE/dev.tsv:6     1     False  "
      ]
     },
     "execution_count": 6,
     "metadata": {},
     "output_type": "execute_result"
    }
   ],
   "source": [
    "df_error.head()"
   ]
  },
  {
   "cell_type": "markdown",
   "metadata": {},
   "source": [
    "## Sandbox for Error Analysis"
   ]
  },
  {
   "cell_type": "markdown",
   "metadata": {},
   "source": [
    "**0. Some basic statistics.**"
   ]
  },
  {
   "cell_type": "markdown",
   "metadata": {},
   "source": [
    "Confusion Matrix and Performance Metrics"
   ]
  },
  {
   "cell_type": "code",
   "execution_count": 7,
   "metadata": {},
   "outputs": [
    {
     "name": "stdout",
     "output_type": "stream",
     "text": [
      "        y=1    y=2   \n",
      " l=1  *0.721  0.279  \n",
      " l=2   0.241 *0.759  \n",
      "\n",
      "Accuracy: 0.736\n",
      "Precision: 0.721\n",
      "Recall: 0.815\n",
      "F1: 0.765\n"
     ]
    }
   ],
   "source": [
    "from metal.analysis import confusion_matrix\n",
    "from metal.utils import convert_labels\n",
    "\n",
    "Y_gold = convert_labels(df_error['label'].values, \"onezero\", \"categorical\")\n",
    "Y_preds = convert_labels(df_error['pred'].values, \"onezero\", \"categorical\")\n",
    "Y_probs = np.vstack([df_error['score'].values, 1 - df_error['score'].values]).transpose()\n",
    "confusion_matrix(Y_gold, Y_preds, pretty_print=True, normalize=True)\n",
    "print()\n",
    "\n",
    "from metal.metrics import metric_score\n",
    "metric_list = ['accuracy','precision', 'recall', 'f1']\n",
    "\n",
    "for metric in metric_list:\n",
    "    score = metric_score(Y_gold, Y_preds, metric, probs=Y_probs)\n",
    "    print(f\"{metric.capitalize()}: {score:.3f}\")"
   ]
  },
  {
   "cell_type": "markdown",
   "metadata": {},
   "source": [
    "Plotting Predictions and Predicted Probabilistic Label Distribution"
   ]
  },
  {
   "cell_type": "code",
   "execution_count": 8,
   "metadata": {},
   "outputs": [
    {
     "data": {
      "image/png": "[encoded data removed]",
      "text/plain": [
       "<Figure size 432x288 with 1 Axes>"
      ]
     },
     "metadata": {
      "needs_background": "light"
     },
     "output_type": "display_data"
    },
    {
     "name": "stdout",
     "output_type": "stream",
     "text": [
      "Accuracy:  0.7364620938628159\n"
     ]
    },
    {
     "data": {
      "image/png": "[encoded data removed]",
      "text/plain": [
       "<Figure size 432x288 with 1 Axes>"
      ]
     },
     "metadata": {
      "needs_background": "light"
     },
     "output_type": "display_data"
    }
   ],
   "source": [
    "from metal.contrib.visualization.analysis import (\n",
    "        plot_predictions_histogram, \n",
    "        plot_probabilities_histogram,\n",
    "        plot_calibration_histogram\n",
    "    )\n",
    "plot_predictions_histogram(Y_preds, Y_gold, title=\"Label Distribution\")\n",
    "plot_calibration_histogram(Y_probs, Y_gold, title=\"Probablistic Label Distribution\", legend=[])"
   ]
  },
  {
   "cell_type": "markdown",
   "metadata": {},
   "source": [
    "**1. We want to look at examples that are \"barely\" wrong and \"barely\" right since we have hope for boosts here.**"
   ]
  },
  {
   "cell_type": "code",
   "execution_count": 9,
   "metadata": {
    "scrolled": true
   },
   "outputs": [
    {
     "name": "stdout",
     "output_type": "stream",
     "text": [
      "\u001b[1mBARELY WRONG\u001b[0;0m\n",
      "No matches were found for the given criteria.\n"
     ]
    }
   ],
   "source": [
    "print(\"\\033[1mBARELY WRONG\\033[0;0m\")\n",
    "print_barely_wrong(df_error, thresh=0.2, n=3)"
   ]
  },
  {
   "cell_type": "code",
   "execution_count": null,
   "metadata": {
    "scrolled": true
   },
   "outputs": [],
   "source": [
    "print(\"\\033[1mBARELY RIGHT\\033[0;0m\")\n",
    "print_barely_right(df_error, thresh=0.2, n=3)"
   ]
  },
  {
   "cell_type": "markdown",
   "metadata": {},
   "source": [
    "**2. We also want to look at examples we got completely wrong since that could point to a systematic bias in the data/model. It could also help us find examples in the dataset that are mislabeled by human annotators**"
   ]
  },
  {
   "cell_type": "code",
   "execution_count": 57,
   "metadata": {},
   "outputs": [
    {
     "name": "stdout",
     "output_type": "stream",
     "text": [
      "Added 1 tag. Tag set 'number_mismatch' contains 2 tags.\n"
     ]
    }
   ],
   "source": [
    "tagger.add_tag(\"RTE/dev.tsv:181\", 'number_mismatch')"
   ]
  },
  {
   "cell_type": "code",
   "execution_count": 53,
   "metadata": {
    "scrolled": false
   },
   "outputs": [
    {
     "name": "stdout",
     "output_type": "stream",
     "text": [
      "\u001b[1mVERY WRONG\u001b[0;0m\n",
      "69 matches were found with the given criteria.\n",
      "\n",
      "UID:  RTE/dev.tsv:209\n",
      "sentence1: \t \" bea arthur and i first met when we did ' ma ##me ' together in 1965 . she became and has remained ' my bo ##som buddy ' ever since . i am deeply sad ##dened by her passing , but also relieved that she is released from the pain . i spoke to matt , her son , yesterday and i was aware that her time was imminent . she was a rare and unique performer and a dear , dear friend . \" arthur passed away at her home on saturday at the age of 86 . angela lan ##sbury is appearing in the current revival of b ##lit ##he spirit which began preview performances on thursday , february 26 , 2009 and had an official opening on sunday , march 15 , 2009 at the shu ##bert theatre ( 225 west 44th street ) . \n",
      "sentence2: \t the actress angela lan ##sbury is 86 years old . \n",
      "score: \t0.9936\n",
      "label: \t0\n",
      "\n",
      "UID:  RTE/dev.tsv:129\n",
      "sentence1: \t in reality , legal ##ization would dramatically expand america ' s drug dependence , significantly increase the social costs of drug abuse , and put countless more innocent lives at risk . \n",
      "sentence2: \t drug legal ##ization has benefits . \n",
      "score: \t0.9970\n",
      "label: \t0\n",
      "\n",
      "UID:  RTE/dev.tsv:237\n",
      "sentence1: \t sc ##hr ##oder investment management has indicated its intention to accept revival ' s offer to buy retailer marks & spencer . \n",
      "sentence2: \t revival tries to take over marks & spencer group . \n",
      "score: \t0.0046\n",
      "label: \t1\n",
      "\n",
      "UID:  RTE/dev.tsv:212\n",
      "sentence1: \t for women earning 22 , 000 a year , the total pay accumulated after six months maternity leave would be just 5 , 300 in the uk and 5 , 850 in ireland . en ##ti ##tlement ##s in germany would also be relatively low , at 5 , 900 , along with those in france , spain and the netherlands , all at 6 , 750 . at the other end of the scale , pay received after six months leave in italy would be 9 , 150 while in denmark and norway it would be as much as 11 , 000 . \n",
      "sentence2: \t maternity leave varies in europe . \n",
      "score: \t0.0184\n",
      "label: \t1\n",
      "\n",
      "UID:  RTE/dev.tsv:34\n",
      "sentence1: \t 47 - year - old susan boyle from blackburn , west lot ##hian in scotland , made her debut appearance on the show on saturday night by saying that she had \" never been married , never been kissed \" and was currently unemployed , living alone at home with her cat , pebbles . she says that she wants to \" be a professional singer \" , but has \" never been given the chance . \" audience members and judges amanda holden , simon cow ##ell and piers morgan , first laughed and even poked fun at her . boyle then stunned the judges and audience , getting a standing o ##vation , with her performance of i dreamed a dream from the award winning musical performance les miserable ##s . cow ##ell called her performance \" extraordinary \" while morgan called it \" the biggest surprise i ' ve had in three years of this show . i am shocked . \" holden even admitted that \" everyone was against you [ boyle ] \" and that \" we were all being very cynical . \" \n",
      "sentence2: \t simon cow ##ell fell in love with susan boyle . \n",
      "score: \t0.9909\n",
      "label: \t0\n",
      "\n",
      "UID:  RTE/dev.tsv:97\n",
      "sentence1: \t i asked myself how to understand the ' twilight ' s success . and i have come to the idea that when you really believe in something , sooner or later it will become real . so , i guess this is what happened with robert patti ##nson . last year he was just an unknown actor who ' s biggest role was in a pair of \" harry potter \" movies . now , not only that twilight is competing with ' harry potter ' , but robert patti ##nson is one of the most famous young actors who sucked $ 37 ##3 . 4 million from global box offices . so the movie about a vampire boy who falls in love with a normal girl , begun a real hysteria . and patti ##nson has a lot to do with it ! . \n",
      "sentence2: \t robert patti ##nson is a vampire . \n",
      "score: \t0.9955\n",
      "label: \t0\n",
      "\n",
      "UID:  RTE/dev.tsv:98\n",
      "sentence1: \t andre ##ess ##en , who helped define the internet revolution as part of team that created the first internet browser ( mosaic ) and his co - founding nets ##cape , told a packed hall at the san francisco marriott hotel thursday that he is \" extremely committed \" to his startup loud ##cl ##oud . \n",
      "sentence2: \t the internet browser mosaic was created at the san francisco marriott hotel . \n",
      "score: \t0.9964\n",
      "label: \t0\n",
      "\n",
      "UID:  RTE/dev.tsv:235\n",
      "sentence1: \t at the same time the italian digital rights group , electronic frontiers italy , has asked the nation ' s government to investigate sony over its use of anti - piracy software . \n",
      "sentence2: \t italy ' s government investigates sony . \n",
      "score: \t0.9975\n",
      "label: \t0\n",
      "\n",
      "UID:  RTE/dev.tsv:4\n",
      "sentence1: \t cairo is now home to some 15 million people - a bu ##rgeon ##ing population that produces approximately 10 , 000 tonnes of rubbish per day , putting an enormous strain on public services . in the past 10 years , the government has tried hard to encourage private investment in the refuse sector , but some estimate 4 , 000 tonnes of waste is left behind every day , fest ##ering in the heat as it waits for someone to clear it up . it is often the people in the poor ##est neighbourhoods that are worst affected . but in some areas they are fighting back . in shu ##bra , one of the northern districts of the city , the residents have taken to the streets armed with dust ##pan ##s and brushes to clean up public areas which have been used as public dump ##s . \n",
      "sentence2: \t 15 million tonnes of rubbish are produced daily in cairo . \n",
      "score: \t0.9954\n",
      "label: \t0\n",
      "\n",
      "UID:  RTE/dev.tsv:43\n",
      "sentence1: \t the plan was released by mr dean on behalf of the secretary of health and human services , tommy thompson , still recovering from a recent accident , at a secret ##aria ##l summit on health information technology that was attended by many of the nation ' s leaders in electronic health records . \n",
      "sentence2: \t mr dean is the secretary of health and human services . \n",
      "score: \t0.9937\n",
      "label: \t0\n",
      "\n",
      "UID:  RTE/dev.tsv:174\n",
      "sentence1: \t the memo , written by marc allen connell ##y ( who was general counsel to the funeral services commission at the time ) and sent to dick mc ##neil ( the bush - appointed chairman of the funeral commission ) , stated that connell ##y \" received information \" from texas state officials that two of the funeral commissioners worked for sci . \n",
      "sentence2: \t marc allen connell ##y worked for sci . \n",
      "score: \t0.9194\n",
      "label: \t0\n",
      "\n",
      "UID:  RTE/dev.tsv:240\n",
      "sentence1: \t the u . s . handed power on june 30 to iraq ##as interim government chosen by the united nations and paul br ##eme ##r , former governor of iraq . \n",
      "sentence2: \t the united nations official ##y transferred power to iraq . \n",
      "score: \t0.9918\n",
      "label: \t0\n",
      "\n",
      "UID:  RTE/dev.tsv:266\n",
      "sentence1: \t hurricane katrina petroleum - supply outlook improved somewhat , yesterday , as u . s . and european governments agreed to release 2 million barrels a day , of oil and refined products , from their reserves . \n",
      "sentence2: \t 60 million barrels of oil and gasoline will be available to the marketplace . \n",
      "score: \t0.9825\n",
      "label: \t0\n",
      "\n",
      "UID:  RTE/dev.tsv:244\n",
      "sentence1: \t it appears that the super - conducting mag ##lev system is technically ready to be used commercially as a very high - speed , large - capacity transportation system . \n",
      "sentence2: \t mag ##lev is commercially used . \n",
      "score: \t0.9976\n",
      "label: \t0\n",
      "\n",
      "UID:  RTE/dev.tsv:88\n",
      "sentence1: \t the job gains mean that president bush can celebrate - albeit by a very fine margin - a net growth in jobs in the us economy in his first term in office . \n",
      "sentence2: \t more jobs were created during president bush ' s first term . \n",
      "score: \t0.0074\n",
      "label: \t1\n",
      "\n",
      "UID:  RTE/dev.tsv:129\n",
      "sentence1: \t in reality , legal ##ization would dramatically expand america ' s drug dependence , significantly increase the social costs of drug abuse , and put countless more innocent lives at risk . \n",
      "sentence2: \t drug legal ##ization has benefits . \n",
      "score: \t0.9970\n",
      "label: \t0\n",
      "\n",
      "UID:  RTE/dev.tsv:239\n",
      "sentence1: \t california voters recall gray davis and elect arnold schwarz ##ene ##gger as their governor . \n",
      "sentence2: \t california voters dumped gov . gray davis and replaced him with arnold schwarz ##ene ##gger . \n",
      "score: \t0.0480\n",
      "label: \t1\n",
      "\n",
      "UID:  RTE/dev.tsv:52\n",
      "sentence1: \t he also referred to the \" illegal \" arrest on 31 may of mexican professor maria eugen ##ia och ##oa garcia , whom the salvador ##an government accused of having connections with the salvador ##an guerrillas . \n",
      "sentence2: \t professor och ##oa garcia is a member of the salvador ##an government . \n",
      "score: \t0.9968\n",
      "label: \t0\n",
      "\n",
      "UID:  RTE/dev.tsv:72\n",
      "sentence1: \t about 33 . 5 million people live in this massive con ##ur ##bation . i would guess that 95 % of the 5 , 000 officially foreign - capital firms in japan are based in tokyo . \n",
      "sentence2: \t about 33 . 5 mi ##ili ##on people live in tokyo . \n",
      "score: \t0.0056\n",
      "label: \t1\n",
      "\n",
      "UID:  RTE/dev.tsv:220\n",
      "sentence1: \t egypt on thursday strongly criticized israeli new foreign minister av ##ig ##dor lie ##berman for his remarks that he refused to recognize the peace efforts initiated in 2007 in the u . s . city of annapolis to restore the peace talks with the palestinians , reported the state men ##a news agency . lie ##berman ' s remarks is \" regret ##table , \" egyptian foreign ministry spokesman ho ##ssa ##m za ##ki was quoted as saying , adding \" his remarks are the first blow to the peace efforts to come from the israeli new government . \" \n",
      "sentence2: \t ho ##ssa ##m za ##ki is the new foreign minister of israel . \n",
      "score: \t0.9970\n",
      "label: \t0\n",
      "\n",
      "UID:  RTE/dev.tsv:239\n",
      "sentence1: \t california voters recall gray davis and elect arnold schwarz ##ene ##gger as their governor . \n",
      "sentence2: \t california voters dumped gov . gray davis and replaced him with arnold schwarz ##ene ##gger . \n",
      "score: \t0.0480\n",
      "label: \t1\n",
      "\n",
      "UID:  RTE/dev.tsv:208\n",
      "sentence1: \t new york — somali pirates attacked and damaged an american ship carrying humanitarian aid tuesday , but the ship and crew were safe under navy escort , the military and shipping company said . the pirates fired rocket - propelled grenades and automatic weapons at the liberty sun as it carried food for famine - wr ##ack ##ed african nations , said the vessel ' s owner , liberty maritime corp . the ship was en route from houston to mom ##bas ##a , kenya , with a roughly 20 - member crew , officials said . . \n",
      "sentence2: \t pirates damaged the ship liberty maritime . \n",
      "score: \t0.9882\n",
      "label: \t0\n",
      "\n",
      "UID:  RTE/dev.tsv:48\n",
      "sentence1: \t russian co ##smo ##naut vale ##ry poly ##ako ##v set the record for the longest continuous amount of time spent in space , a staggering 43 ##8 days , between 1994 and 1995 . \n",
      "sentence2: \t russians hold record for longest stay in space . \n",
      "score: \t0.0578\n",
      "label: \t1\n",
      "\n",
      "UID:  RTE/dev.tsv:266\n",
      "sentence1: \t hurricane katrina petroleum - supply outlook improved somewhat , yesterday , as u . s . and european governments agreed to release 2 million barrels a day , of oil and refined products , from their reserves . \n",
      "sentence2: \t 60 million barrels of oil and gasoline will be available to the marketplace . \n",
      "score: \t0.9825\n",
      "label: \t0\n",
      "\n",
      "UID:  RTE/dev.tsv:163\n",
      "sentence1: \t it has been observed that in those countries of the world where capital punishment is still in operation , the crime rate , especially murder , is distinctive ##ly low in comparison to countries where capital punishment has been discarded . \n",
      "sentence2: \t capital punishment is a deter ##rent to crime . \n",
      "score: \t0.0052\n",
      "label: \t1\n",
      "\n",
      "UID:  RTE/dev.tsv:140\n",
      "sentence1: \t note that sb ##b , cf ##f and ff ##s stand out for the main railway company , in german , french and italian . \n",
      "sentence2: \t the french railway company is called s ##nc ##f . \n",
      "score: \t0.9851\n",
      "label: \t0\n",
      "\n",
      "UID:  RTE/dev.tsv:240\n",
      "sentence1: \t the u . s . handed power on june 30 to iraq ##as interim government chosen by the united nations and paul br ##eme ##r , former governor of iraq . \n",
      "sentence2: \t the united nations official ##y transferred power to iraq . \n",
      "score: \t0.9918\n",
      "label: \t0\n",
      "\n",
      "UID:  RTE/dev.tsv:70\n",
      "sentence1: \t for us pharmaceutical companies , the impending healthcare reforms promise an era of increased cost - containment and pricing controls . \n",
      "sentence2: \t the us government wants to keep drug prices down . \n",
      "score: \t0.0043\n",
      "label: \t1\n",
      "\n",
      "UID:  RTE/dev.tsv:181\n",
      "sentence1: \t about half were along a 20 - mile stretch of santa monica bay from top ##anga canyon boulevard to the palo ##s verde ##s peninsula . \n",
      "sentence2: \t the coastline of santa monica bay is 50 miles long . \n",
      "score: \t0.9973\n",
      "label: \t0\n",
      "\n",
      "UID:  RTE/dev.tsv:176\n",
      "sentence1: \t a farmer who was in contact with cows suffering from bs ##e - - the so - called mad cow disease - - has died from what is regarded as the human form of the disease . \n",
      "sentence2: \t bo ##vine sp ##ong ##iform en ##ce ##pha ##lo ##pathy is another name for the \" mad cow disease \" . \n",
      "score: \t0.0082\n",
      "label: \t1\n",
      "\n"
     ]
    }
   ],
   "source": [
    "print(\"\\033[1mVERY WRONG\\033[0;0m\")\n",
    "print_very_wrong(df_error, thresh=0.9, n=30)"
   ]
  },
  {
   "cell_type": "code",
   "execution_count": null,
   "metadata": {
    "scrolled": true
   },
   "outputs": [],
   "source": [
    "print(\"\\033[1mVERY RIGHT\\033[0;0m\")\n",
    "print_very_right(df_error, thresh=0.9, n=3)"
   ]
  },
  {
   "cell_type": "markdown",
   "metadata": {},
   "source": [
    "**3. To find systematic errors, we can also look for correlations between certain features and the incorrectness a la Socratic**\n",
    "\n",
    "\n",
    "We can make this way more sophisticated by perhaps using embeddings instead of this simple [BoW featurization](https://scikit-learn.org/stable/modules/generated/sklearn.feature_extraction.text.CountVectorizer.html#sklearn.feature_extraction.text.CountVectorizer)."
   ]
  },
  {
   "cell_type": "code",
   "execution_count": null,
   "metadata": {
    "scrolled": true
   },
   "outputs": [],
   "source": [
    "print(\"\\033[1mSYSTEMATIC EXAMPLES\\033[0;0m\")\n",
    "for i in range(3):\n",
    "    print_systematic_wrong(df_error)"
   ]
  },
  {
   "cell_type": "markdown",
   "metadata": {},
   "source": [
    "# BH LFs"
   ]
  },
  {
   "cell_type": "code",
   "execution_count": 63,
   "metadata": {},
   "outputs": [],
   "source": [
    "from metal.mmtl.debugging.utils import print_row, apply_lfs_to_df, view_matches\n",
    "from metal.mmtl.debugging.lf_helpers import regex_present"
   ]
  },
  {
   "cell_type": "code",
   "execution_count": 67,
   "metadata": {},
   "outputs": [],
   "source": [
    "def LF_accuse(row):\n",
    "    return 2 if regex_present(row, \"accuse\") else 0\n",
    "\n",
    "def LF_number_orphan(row):\n",
    "    \"\"\"Vote negative if sentence2 contains numbers not in sentence1\"\"\"\n",
    "    sentence1_nums = set([int(s) for s in row[\"sentence1\"].split() if s.isdigit()])\n",
    "    sentence2_nums = set([int(s) for s in row[\"sentence2\"].split() if s.isdigit()])\n",
    "    sentence2_only_nums = sentence2_nums - sentence1_nums\n",
    "    if len(sentence2_only_nums) > 0:\n",
    "        return 2\n",
    "    else:\n",
    "        return 0"
   ]
  },
  {
   "cell_type": "code",
   "execution_count": 68,
   "metadata": {},
   "outputs": [],
   "source": [
    "lfs = [\n",
    "    LF_accuse,\n",
    "    LF_number_orphan\n",
    "]"
   ]
  },
  {
   "cell_type": "code",
   "execution_count": 70,
   "metadata": {
    "scrolled": false
   },
   "outputs": [],
   "source": [
    "L, Y = apply_lfs_to_df(df_error, lfs)"
   ]
  },
  {
   "cell_type": "code",
   "execution_count": 74,
   "metadata": {},
   "outputs": [
    {
     "name": "stdout",
     "output_type": "stream",
     "text": [
      "Displaying all 11 matches\n",
      "\n",
      "sentence1: \t monica meadows , a 22 - year - old model from atlanta , was shot in the shoulder on a subway car in new york city . \n",
      "sentence2: \t monica meadows , 23 , was shot in shoulder while riding a subway car in new york city \n",
      "score: \t0.9879\n",
      "label: \t0\n",
      "\n",
      "sentence1: \t a smaller proportion of yugoslavia ' s italians were settled in slovenia ( at the 1991 national census , some 3000 inhabitants of slovenia declared themselves as ethnic italians ) . \n",
      "sentence2: \t slovenia has 3 , 000 inhabitants . \n",
      "score: \t0.9921\n",
      "label: \t0\n",
      "\n",
      "sentence1: \t the tuesday drawing of the italian super ##ena ##lot ##to game has awarded the biggest prize ever won in a betting game in italy . the single winner of the first category prize ( 6 numbers guessed ) will receive an amount , including the jack ##pot from previous un - won draws , of € ##7 ##2 . 09 ##0 . 405 , 19 ( us $ 93 million . ) the prize money will be received in full without further taxation , since taxes in prizes of that type are taken at a fixed rate by the italian state from the money paid for the bet . \n",
      "sentence2: \t super ##ena ##lot ##to awarded a prize of more than 72 million euros . \n",
      "score: \t0.0042\n",
      "label: \t1\n",
      "\n",
      "sentence1: \t eric harris and dylan k ##le ##bold , seniors at the suburban denver school , detonated homemade bombs and opened fire with shotgun ##s , a rifle and a semi ##au ##tom ##atic handgun on april 20 , 1999 . they killed a teacher and 12 students and wounded 23 others before committing suicide . the massacre shocked the country like no other . it was the worst school assault in american history at that time , and it came in the wake of a half - dozen others . it played out on live television , watched by millions . and it represented the violent destruction of a cher ##ished american idea : that schools in the suburbs and the countryside were haven ##s of peace and safety . \n",
      "sentence2: \t 13 persons were killed by two students in 1999 . \n",
      "score: \t0.7108\n",
      "label: \t1\n",
      "\n",
      "sentence1: \t jerry reins ##dorf ( born february 25 1936 in brooklyn , new york ) is the owner of chicago white sox and the chicago bulls . recently , he helped the white sox win the 2005 world series and , in the process , collected his seventh championship ring overall ( the first six were all with the bulls in the 1990s ) , becoming the third owner in the history of north american sports to win a championship in two different sports . \n",
      "sentence2: \t jerry reins ##dorf has won 7 championships . \n",
      "score: \t0.0047\n",
      "label: \t1\n",
      "\n",
      "sentence1: \t the 26 - member international energy agency said , friday , that member countries would release oil to help relieve the u . s . fuel crisis caused by hurricane katrina . \n",
      "sentence2: \t an international oil agency will make 60 million barrels of oil and gasoline available to the marketplace . \n",
      "score: \t0.0456\n",
      "label: \t0\n",
      "\n",
      "sentence1: \t hurricane katrina petroleum - supply outlook improved somewhat , yesterday , as u . s . and european governments agreed to release 2 million barrels a day , of oil and refined products , from their reserves . \n",
      "sentence2: \t 60 million barrels of oil and gasoline will be available to the marketplace . \n",
      "score: \t0.9825\n",
      "label: \t0\n",
      "\n",
      "sentence1: \t four days of talks got underway with the us announcing the first significant overture to north korea since george w bush took office three years ago . \n",
      "sentence2: \t george w . bush entered the us presidency 3 years ago . \n",
      "score: \t0.9961\n",
      "label: \t1\n",
      "\n",
      "sentence1: \t though the exact date is debated , dogs are thought to have been domestic ##ated by humans approximately 12 , 000 years ago . \n",
      "sentence2: \t humans existed 10 , 000 years ago . \n",
      "score: \t0.9975\n",
      "label: \t1\n",
      "\n",
      "sentence1: \t about half were along a 20 - mile stretch of santa monica bay from top ##anga canyon boulevard to the palo ##s verde ##s peninsula . \n",
      "sentence2: \t the coastline of santa monica bay is 50 miles long . \n",
      "score: \t0.9973\n",
      "label: \t0\n",
      "\n",
      "sentence1: \t nearly five months later on january 24 , 1935 , the passenger vessel mohawk sank after col ##lid ##ing with the norwegian motors ##hip tal ##isman , and 45 people lost their lives . \n",
      "sentence2: \t 100 or more people lost their lives in a ferry sinking . \n",
      "score: \t0.0128\n",
      "label: \t0\n",
      "\n"
     ]
    }
   ],
   "source": [
    "view_matches(df_error, lfs[1], n=0)"
   ]
  },
  {
   "cell_type": "code",
   "execution_count": 72,
   "metadata": {},
   "outputs": [
    {
     "data": {
      "text/html": [
       "<div>\n",
       "<style scoped>\n",
       "    .dataframe tbody tr th:only-of-type {\n",
       "        vertical-align: middle;\n",
       "    }\n",
       "\n",
       "    .dataframe tbody tr th {\n",
       "        vertical-align: top;\n",
       "    }\n",
       "\n",
       "    .dataframe thead th {\n",
       "        text-align: right;\n",
       "    }\n",
       "</style>\n",
       "<table border=\"1\" class=\"dataframe\">\n",
       "  <thead>\n",
       "    <tr style=\"text-align: right;\">\n",
       "      <th></th>\n",
       "      <th>Polarity</th>\n",
       "      <th>Coverage</th>\n",
       "      <th>Overlaps</th>\n",
       "      <th>Conflicts</th>\n",
       "      <th>Correct</th>\n",
       "      <th>Incorrect</th>\n",
       "      <th>Emp. Acc.</th>\n",
       "    </tr>\n",
       "  </thead>\n",
       "  <tbody>\n",
       "    <tr>\n",
       "      <th>0</th>\n",
       "      <td>2.0</td>\n",
       "      <td>0.032491</td>\n",
       "      <td>0.0</td>\n",
       "      <td>0.0</td>\n",
       "      <td>5</td>\n",
       "      <td>4</td>\n",
       "      <td>0.555556</td>\n",
       "    </tr>\n",
       "    <tr>\n",
       "      <th>1</th>\n",
       "      <td>2.0</td>\n",
       "      <td>0.039711</td>\n",
       "      <td>0.0</td>\n",
       "      <td>0.0</td>\n",
       "      <td>6</td>\n",
       "      <td>5</td>\n",
       "      <td>0.545455</td>\n",
       "    </tr>\n",
       "  </tbody>\n",
       "</table>\n",
       "</div>"
      ],
      "text/plain": [
       "   Polarity  Coverage  Overlaps  Conflicts  Correct  Incorrect  Emp. Acc.\n",
       "0       2.0  0.032491       0.0        0.0        5          4   0.555556\n",
       "1       2.0  0.039711       0.0        0.0        6          5   0.545455"
      ]
     },
     "execution_count": 72,
     "metadata": {},
     "output_type": "execute_result"
    }
   ],
   "source": [
    "from scipy.sparse import csr_matrix\n",
    "from metal.analysis import lf_summary\n",
    "\n",
    "Y_cat = convert_labels(Y, \"onezero\", \"categorical\")\n",
    "lf_summary(csr_matrix(L), Y_cat)"
   ]
  },
  {
   "cell_type": "markdown",
   "metadata": {},
   "source": [
    "## Designing Labeling Functions"
   ]
  },
  {
   "cell_type": "markdown",
   "metadata": {},
   "source": [
    "**1. Number Based LF**\n",
    "\n",
    "Our model tends to fail when there are numbers involved in the two sentences. We can look for the same number being repeated in both sentences as an LF"
   ]
  },
  {
   "cell_type": "code",
   "execution_count": 58,
   "metadata": {},
   "outputs": [],
   "source": [
    "def LF_number(idx):\n",
    "    sentence1_nums = [int(s) for s in df_error['sentence1'][idx].split() if s.isdigit()]\n",
    "    sentence2_nums = [int(s) for s in df_error['sentence2'][idx].split() if s.isdigit()]\n",
    "    common_nums = len(set(sentence1_nums).intersection(set(sentence2_nums)))\n",
    "    \n",
    "    if (sentence1_nums == []) or (sentence2_nums == []):\n",
    "        return 0\n",
    "    \n",
    "    if common_nums > 0:\n",
    "        return 2\n",
    "    else:\n",
    "        return 1"
   ]
  },
  {
   "cell_type": "code",
   "execution_count": 59,
   "metadata": {},
   "outputs": [
    {
     "name": "stdout",
     "output_type": "stream",
     "text": [
      "sentence1: \t about 33 . 5 million people live in this massive con ##ur ##bation . i would guess that 95 % of the 5 , 000 officially foreign - capital firms in japan are based in tokyo . \n",
      "sentence2: \t about 33 . 5 mi ##ili ##on people live in tokyo . \n",
      "score: \t0.0056\n",
      "label: \t1\n",
      "\n",
      "LF_label:  1\n",
      "\n",
      "\n",
      "sentence1: \t monica meadows , a 22 - year - old model from atlanta , was shot in the shoulder on a subway car in new york city . \n",
      "sentence2: \t monica meadows , 23 , was shot in shoulder while riding a subway car in new york city \n",
      "score: \t0.9879\n",
      "label: \t0\n",
      "\n",
      "LF_label:  0\n"
     ]
    }
   ],
   "source": [
    "print_row(df_error.iloc[70])\n",
    "print(\"LF_label: \", LF_number(70)-1)\n",
    "\n",
    "print()\n",
    "print()\n",
    "print_row(df_error.iloc[254])\n",
    "print(\"LF_label: \", LF_number(254)-1)"
   ]
  },
  {
   "cell_type": "markdown",
   "metadata": {},
   "source": [
    "**2. Edit Distance Based LF**\n",
    "\n",
    "Our model tends to vote entailment when one sentence is long and the other is short. We can focus on this slice and flip the labelt o vote no entailment even when the number of words is the same."
   ]
  },
  {
   "cell_type": "code",
   "execution_count": null,
   "metadata": {},
   "outputs": [],
   "source": [
    "def levenshteinDistance(s1, s2):\n",
    "    if len(s1) > len(s2):\n",
    "        s1, s2 = s2, s1\n",
    "\n",
    "    distances = range(len(s1) + 1)\n",
    "    for i2, c2 in enumerate(s2):\n",
    "        distances_ = [i2+1]\n",
    "        for i1, c1 in enumerate(s1):\n",
    "            if c1 == c2:\n",
    "                distances_.append(distances[i1])\n",
    "            else:\n",
    "                distances_.append(1 + min((distances[i1], distances[i1 + 1], distances_[-1])))\n",
    "        distances = distances_\n",
    "    return distances[-1]\n",
    "\n",
    "from collections import Counter\n",
    "def common_words(s1,s2):\n",
    "    s1_set = set(Counter(s1.split()))\n",
    "    s2_set = set(Counter(s2.split()))\n",
    "    return len(s1_set.intersection(s2_set))/float(min(len(s1_set),len(s2_set)))"
   ]
  },
  {
   "cell_type": "code",
   "execution_count": null,
   "metadata": {},
   "outputs": [],
   "source": [
    "def LF_words(idx):\n",
    "    ratio = common_words(df_error['sentence1'][idx], df_error['sentence2'][idx])\n",
    "    if ratio < 0.3:\n",
    "        return 1\n",
    "    if (ratio <= 1.0) and (ratio > 0.4):\n",
    "        return 2\n",
    "    else:\n",
    "        return 0"
   ]
  },
  {
   "cell_type": "code",
   "execution_count": null,
   "metadata": {},
   "outputs": [],
   "source": [
    "print_row(df_error.iloc[150])\n",
    "print(\"LF_label: \", LF_words(150)-1)\n",
    "\n",
    "print()\n",
    "print()\n",
    "print_row(df_error.iloc[95])\n",
    "print(\"LF_label: \", LF_words(95)-1)"
   ]
  },
  {
   "cell_type": "markdown",
   "metadata": {},
   "source": [
    "### Analyze Labeling Functions"
   ]
  },
  {
   "cell_type": "code",
   "execution_count": null,
   "metadata": {},
   "outputs": [],
   "source": [
    "L = np.zeros((np.shape(df_error)[0],2))\n",
    "for i in range(df_error.shape[0]):\n",
    "    L[i,0] = LF_number(i)\n",
    "    L[i,1] = LF_words(i)"
   ]
  },
  {
   "cell_type": "markdown",
   "metadata": {},
   "source": [
    "Labeling Function Summary"
   ]
  },
  {
   "cell_type": "code",
   "execution_count": null,
   "metadata": {},
   "outputs": [],
   "source": [
    "from metal.analysis import lf_summary\n",
    "from scipy.sparse import csr_matrix    \n",
    "\n",
    "L_sparse = csr_matrix(L)\n",
    "lf_summary(L_sparse,Y=df_error.label+1)"
   ]
  },
  {
   "cell_type": "code",
   "execution_count": null,
   "metadata": {},
   "outputs": [],
   "source": [
    "incorrect = set(np.where(df_error.is_wrong == True)[0])\n",
    "LF1_set = set(np.where(L[:,0]-1. == df_error.label)[0])\n",
    "LF2_set = set(np.where(L[:,1]-1. == df_error.label)[0])\n",
    "\n",
    "print(\"Percentage Corrected by LF_num: \", 100.*len(LF1_set.intersection(incorrect))/float(len(incorrect)))\n",
    "print(\"Percentage Corrected by LF_words: \", 100.*len(LF2_set.intersection(incorrect))/float(len(incorrect)))"
   ]
  },
  {
   "cell_type": "code",
   "execution_count": null,
   "metadata": {},
   "outputs": [],
   "source": []
  }
 ],
 "metadata": {
  "kernelspec": {
   "display_name": "Python (metal)",
   "language": "python",
   "name": "metal"
  },
  "language_info": {
   "codemirror_mode": {
    "name": "ipython",
    "version": 3
   },
   "file_extension": ".py",
   "mimetype": "text/x-python",
   "name": "python",
   "nbconvert_exporter": "python",
   "pygments_lexer": "ipython3",
   "version": "3.6.7"
  }
 },
 "nbformat": 4,
 "nbformat_minor": 2
}
