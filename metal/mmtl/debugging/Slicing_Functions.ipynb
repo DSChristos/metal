{
 "cells": [
  {
   "cell_type": "code",
   "execution_count": 1,
   "metadata": {},
   "outputs": [],
   "source": [
    "%load_ext autoreload\n",
    "%autoreload 2\n",
    "%matplotlib inline\n",
    "\n",
    "import torch \n",
    "import matplotlib.pyplot as plt\n",
    "import numpy as np\n",
    "import pandas as pd\n",
    "\n",
    "from utils import *"
   ]
  },
  {
   "cell_type": "markdown",
   "metadata": {},
   "source": [
    "### Initialize Tagger"
   ]
  },
  {
   "cell_type": "code",
   "execution_count": 2,
   "metadata": {},
   "outputs": [],
   "source": [
    "from tagger import Tagger\n",
    "tagger = Tagger()"
   ]
  },
  {
   "cell_type": "markdown",
   "metadata": {},
   "source": [
    "### Load Model and Data"
   ]
  },
  {
   "cell_type": "code",
   "execution_count": 90,
   "metadata": {},
   "outputs": [
    {
     "name": "stdout",
     "output_type": "stream",
     "text": [
      "QQP_dev_error_analysis.tsv\n"
     ]
    }
   ],
   "source": [
    "model_path = ''\n",
    "task_name = 'QQP'\n",
    "split = 'dev'\n",
    "filepath = f'{task_name}_{split}_error_analysis.tsv'\n",
    "print(filepath)"
   ]
  },
  {
   "cell_type": "code",
   "execution_count": 91,
   "metadata": {},
   "outputs": [
    {
     "data": {
      "text/html": [
       "<div>\n",
       "<style scoped>\n",
       "    .dataframe tbody tr th:only-of-type {\n",
       "        vertical-align: middle;\n",
       "    }\n",
       "\n",
       "    .dataframe tbody tr th {\n",
       "        vertical-align: top;\n",
       "    }\n",
       "\n",
       "    .dataframe thead th {\n",
       "        text-align: right;\n",
       "    }\n",
       "</style>\n",
       "<table border=\"1\" class=\"dataframe\">\n",
       "  <thead>\n",
       "    <tr style=\"text-align: right;\">\n",
       "      <th></th>\n",
       "      <th>Unnamed: 0</th>\n",
       "      <th>sentence1</th>\n",
       "      <th>sentence2</th>\n",
       "      <th>score</th>\n",
       "      <th>label</th>\n",
       "      <th>uid</th>\n",
       "      <th>pred</th>\n",
       "      <th>is_wrong</th>\n",
       "    </tr>\n",
       "  </thead>\n",
       "  <tbody>\n",
       "    <tr>\n",
       "      <th>0</th>\n",
       "      <td>0</td>\n",
       "      <td>why are african - americans so beautiful ?</td>\n",
       "      <td>why are hispanic ##s so beautiful ?</td>\n",
       "      <td>0.017592</td>\n",
       "      <td>0</td>\n",
       "      <td>QQP/dev.tsv:2</td>\n",
       "      <td>0</td>\n",
       "      <td>False</td>\n",
       "    </tr>\n",
       "    <tr>\n",
       "      <th>1</th>\n",
       "      <td>1</td>\n",
       "      <td>i want to pursue phd in computer science abou...</td>\n",
       "      <td>i handle social media for a non - profit . sh...</td>\n",
       "      <td>0.001446</td>\n",
       "      <td>0</td>\n",
       "      <td>QQP/dev.tsv:3</td>\n",
       "      <td>0</td>\n",
       "      <td>False</td>\n",
       "    </tr>\n",
       "    <tr>\n",
       "      <th>2</th>\n",
       "      <td>2</td>\n",
       "      <td>is there a reason why we should travel alone ?</td>\n",
       "      <td>what are some reasons to travel alone ?</td>\n",
       "      <td>0.935732</td>\n",
       "      <td>1</td>\n",
       "      <td>QQP/dev.tsv:4</td>\n",
       "      <td>1</td>\n",
       "      <td>False</td>\n",
       "    </tr>\n",
       "    <tr>\n",
       "      <th>3</th>\n",
       "      <td>3</td>\n",
       "      <td>why are people so obsessed with having a girl...</td>\n",
       "      <td>how can a single male have a child ?</td>\n",
       "      <td>0.001505</td>\n",
       "      <td>0</td>\n",
       "      <td>QQP/dev.tsv:5</td>\n",
       "      <td>0</td>\n",
       "      <td>False</td>\n",
       "    </tr>\n",
       "    <tr>\n",
       "      <th>4</th>\n",
       "      <td>4</td>\n",
       "      <td>what are some good baby girl names starting w...</td>\n",
       "      <td>what are some good baby girl names starting w...</td>\n",
       "      <td>0.149290</td>\n",
       "      <td>0</td>\n",
       "      <td>QQP/dev.tsv:6</td>\n",
       "      <td>0</td>\n",
       "      <td>False</td>\n",
       "    </tr>\n",
       "  </tbody>\n",
       "</table>\n",
       "</div>"
      ],
      "text/plain": [
       "   Unnamed: 0                                          sentence1  \\\n",
       "0           0        why are african - americans so beautiful ?    \n",
       "1           1   i want to pursue phd in computer science abou...   \n",
       "2           2    is there a reason why we should travel alone ?    \n",
       "3           3   why are people so obsessed with having a girl...   \n",
       "4           4   what are some good baby girl names starting w...   \n",
       "\n",
       "                                           sentence2     score  label  \\\n",
       "0               why are hispanic ##s so beautiful ?   0.017592      0   \n",
       "1   i handle social media for a non - profit . sh...  0.001446      0   \n",
       "2           what are some reasons to travel alone ?   0.935732      1   \n",
       "3              how can a single male have a child ?   0.001505      0   \n",
       "4   what are some good baby girl names starting w...  0.149290      0   \n",
       "\n",
       "             uid  pred  is_wrong  \n",
       "0  QQP/dev.tsv:2     0     False  \n",
       "1  QQP/dev.tsv:3     0     False  \n",
       "2  QQP/dev.tsv:4     1     False  \n",
       "3  QQP/dev.tsv:5     0     False  \n",
       "4  QQP/dev.tsv:6     0     False  "
      ]
     },
     "execution_count": 91,
     "metadata": {},
     "output_type": "execute_result"
    }
   ],
   "source": [
    "# # Load model and data\n",
    "# model, dl = load_data_and_model(model_path,task_name,split)\n",
    "\n",
    "# # Create DataFrame of Raw Data, Predictions, and Labels\n",
    "# print('Creating dataframe')\n",
    "# df_error = create_dataframe(task_name, model, dl)\n",
    "# print('Created dataframe')\n",
    "\n",
    "# # Save (and reload) DataFrame\n",
    "# csv_path = '/'.join(model_path.split('/')[0:-1])\n",
    "# save_dataframe(df_error, filepath)\n",
    "\n",
    "df_error = load_dataframe(filepath)\n",
    "df_error.head()"
   ]
  },
  {
   "cell_type": "markdown",
   "metadata": {},
   "source": [
    "## Sandbox for Error Analysis"
   ]
  },
  {
   "cell_type": "code",
   "execution_count": 92,
   "metadata": {},
   "outputs": [
    {
     "name": "stdout",
     "output_type": "stream",
     "text": [
      "Plotting probabilities from the first column of Y_probs\n"
     ]
    },
    {
     "data": {
      "image/png": "[encoded data removed]",
      "text/plain": [
       "<Figure size 432x288 with 1 Axes>"
      ]
     },
     "metadata": {
      "needs_background": "light"
     },
     "output_type": "display_data"
    },
    {
     "data": {
      "image/png": "[encoded data removed]",
      "text/plain": [
       "<Figure size 432x288 with 1 Axes>"
      ]
     },
     "metadata": {
      "needs_background": "light"
     },
     "output_type": "display_data"
    },
    {
     "name": "stdout",
     "output_type": "stream",
     "text": [
      "Plotting probabilities from the first column of Y_probs\n"
     ]
    },
    {
     "data": {
      "image/png": "[encoded data removed]",
      "text/plain": [
       "<Figure size 432x288 with 1 Axes>"
      ]
     },
     "metadata": {
      "needs_background": "light"
     },
     "output_type": "display_data"
    }
   ],
   "source": [
    "from metal.analysis import confusion_matrix\n",
    "from metal.utils import convert_labels\n",
    "\n",
    "Y_gold = convert_labels(df_error['label'].values, \"onezero\", \"categorical\")\n",
    "Y_preds = convert_labels(df_error['pred'].values, \"onezero\", \"categorical\")\n",
    "Y_probs = np.vstack([df_error['score'].values, 1 - df_error['score'].values]).transpose()\n",
    "\n",
    "from metal.contrib.visualization.analysis import (\n",
    "        plot_predictions_histogram, \n",
    "        plot_probabilities_histogram,\n",
    "        plot_calibration_plot\n",
    "    )\n",
    "plot_probabilities_histogram(Y_probs, title=\"Label Distribution\")\n",
    "plot_predictions_histogram(Y_preds, Y_gold, title=\"Label Distribution\")\n",
    "plot_calibration_plot(Y_probs, Y_gold, title=\"Calibration Plot\", bins=5)"
   ]
  },
  {
   "cell_type": "markdown",
   "metadata": {},
   "source": [
    "# Examples we got barely right, barely wrong, and very wrong"
   ]
  },
  {
   "cell_type": "code",
   "execution_count": 93,
   "metadata": {
    "scrolled": false
   },
   "outputs": [
    {
     "name": "stdout",
     "output_type": "stream",
     "text": [
      "\u001b[1mBARELY RIGHT\u001b[0;0m\n",
      "2086 matches were found with the given criteria.\n",
      "\n",
      "UID:  QQP/dev.tsv:32238\n",
      "sentence1: \t why do people get it ##chy ? \n",
      "sentence2: \t why am i so it ##chy ? \n",
      "score: \t0.3989\n",
      "label: \t0\n",
      "\n",
      "\u001b[1mBARELY WRONG\u001b[0;0m\n",
      "1614 matches were found with the given criteria.\n",
      "\n",
      "UID:  QQP/dev.tsv:15821\n",
      "sentence1: \t how can i put my pictures on google images ? \n",
      "sentence2: \t how is a picture added to google images ? \n",
      "score: \t0.3457\n",
      "label: \t1\n",
      "\n",
      "\u001b[1mVERY WRONG\u001b[0;0m\n",
      "2148 matches were found with the given criteria.\n",
      "\n",
      "UID:  QQP/dev.tsv:33796\n",
      "sentence1: \t is it safe to eat food after ants have gotten to it ? \n",
      "sentence2: \t is it safe to use sugar which ants have gotten into ? \n",
      "score: \t0.0609\n",
      "label: \t1\n",
      "\n"
     ]
    }
   ],
   "source": [
    "print(\"\\033[1mBARELY RIGHT\\033[0;0m\")\n",
    "print_barely_right(df_error, thresh=0.2, n=1)\n",
    "print(\"\\033[1mBARELY WRONG\\033[0;0m\")\n",
    "print_barely_wrong(df_error, thresh=0.2, n=1)\n",
    "print(\"\\033[1mVERY WRONG\\033[0;0m\")\n",
    "print_very_wrong(df_error, thresh=0.8, n=1)"
   ]
  },
  {
   "cell_type": "markdown",
   "metadata": {},
   "source": [
    "# Slicing"
   ]
  },
  {
   "cell_type": "code",
   "execution_count": 94,
   "metadata": {},
   "outputs": [
    {
     "data": {
      "text/html": [
       "<div>\n",
       "<style scoped>\n",
       "    .dataframe tbody tr th:only-of-type {\n",
       "        vertical-align: middle;\n",
       "    }\n",
       "\n",
       "    .dataframe tbody tr th {\n",
       "        vertical-align: top;\n",
       "    }\n",
       "\n",
       "    .dataframe thead th {\n",
       "        text-align: right;\n",
       "    }\n",
       "</style>\n",
       "<table border=\"1\" class=\"dataframe\">\n",
       "  <thead>\n",
       "    <tr style=\"text-align: right;\">\n",
       "      <th></th>\n",
       "      <th>Unnamed: 0</th>\n",
       "      <th>sentence1</th>\n",
       "      <th>sentence2</th>\n",
       "      <th>score</th>\n",
       "      <th>label</th>\n",
       "      <th>uid</th>\n",
       "      <th>pred</th>\n",
       "      <th>is_wrong</th>\n",
       "    </tr>\n",
       "  </thead>\n",
       "  <tbody>\n",
       "    <tr>\n",
       "      <th>0</th>\n",
       "      <td>0</td>\n",
       "      <td>why are african - americans so beautiful ?</td>\n",
       "      <td>why are hispanic ##s so beautiful ?</td>\n",
       "      <td>0.017592</td>\n",
       "      <td>0</td>\n",
       "      <td>QQP/dev.tsv:2</td>\n",
       "      <td>0</td>\n",
       "      <td>False</td>\n",
       "    </tr>\n",
       "    <tr>\n",
       "      <th>1</th>\n",
       "      <td>1</td>\n",
       "      <td>i want to pursue phd in computer science abou...</td>\n",
       "      <td>i handle social media for a non - profit . sh...</td>\n",
       "      <td>0.001446</td>\n",
       "      <td>0</td>\n",
       "      <td>QQP/dev.tsv:3</td>\n",
       "      <td>0</td>\n",
       "      <td>False</td>\n",
       "    </tr>\n",
       "    <tr>\n",
       "      <th>2</th>\n",
       "      <td>2</td>\n",
       "      <td>is there a reason why we should travel alone ?</td>\n",
       "      <td>what are some reasons to travel alone ?</td>\n",
       "      <td>0.935732</td>\n",
       "      <td>1</td>\n",
       "      <td>QQP/dev.tsv:4</td>\n",
       "      <td>1</td>\n",
       "      <td>False</td>\n",
       "    </tr>\n",
       "    <tr>\n",
       "      <th>3</th>\n",
       "      <td>3</td>\n",
       "      <td>why are people so obsessed with having a girl...</td>\n",
       "      <td>how can a single male have a child ?</td>\n",
       "      <td>0.001505</td>\n",
       "      <td>0</td>\n",
       "      <td>QQP/dev.tsv:5</td>\n",
       "      <td>0</td>\n",
       "      <td>False</td>\n",
       "    </tr>\n",
       "    <tr>\n",
       "      <th>4</th>\n",
       "      <td>4</td>\n",
       "      <td>what are some good baby girl names starting w...</td>\n",
       "      <td>what are some good baby girl names starting w...</td>\n",
       "      <td>0.149290</td>\n",
       "      <td>0</td>\n",
       "      <td>QQP/dev.tsv:6</td>\n",
       "      <td>0</td>\n",
       "      <td>False</td>\n",
       "    </tr>\n",
       "  </tbody>\n",
       "</table>\n",
       "</div>"
      ],
      "text/plain": [
       "   Unnamed: 0                                          sentence1  \\\n",
       "0           0        why are african - americans so beautiful ?    \n",
       "1           1   i want to pursue phd in computer science abou...   \n",
       "2           2    is there a reason why we should travel alone ?    \n",
       "3           3   why are people so obsessed with having a girl...   \n",
       "4           4   what are some good baby girl names starting w...   \n",
       "\n",
       "                                           sentence2     score  label  \\\n",
       "0               why are hispanic ##s so beautiful ?   0.017592      0   \n",
       "1   i handle social media for a non - profit . sh...  0.001446      0   \n",
       "2           what are some reasons to travel alone ?   0.935732      1   \n",
       "3              how can a single male have a child ?   0.001505      0   \n",
       "4   what are some good baby girl names starting w...  0.149290      0   \n",
       "\n",
       "             uid  pred  is_wrong  \n",
       "0  QQP/dev.tsv:2     0     False  \n",
       "1  QQP/dev.tsv:3     0     False  \n",
       "2  QQP/dev.tsv:4     1     False  \n",
       "3  QQP/dev.tsv:5     0     False  \n",
       "4  QQP/dev.tsv:6     0     False  "
      ]
     },
     "execution_count": 94,
     "metadata": {},
     "output_type": "execute_result"
    }
   ],
   "source": [
    "from metal.mmtl.debugging.utils import print_row, apply_lfs_to_df, view_matches\n",
    "from metal.mmtl.debugging.lf_helpers import regex_present\n",
    "df_error.head()"
   ]
  },
  {
   "cell_type": "code",
   "execution_count": 95,
   "metadata": {},
   "outputs": [],
   "source": [
    "def slicing_function(row):\n",
    "    if '-' in row['sentence1'] or ';' in row['sentence1']:\n",
    "        return True\n",
    "    else: \n",
    "        return False\n",
    "    \n",
    "df = df_error[['sentence1','sentence2']].apply(slicing_function, axis=1)\n",
    "in_slice = df_error[df]"
   ]
  },
  {
   "cell_type": "code",
   "execution_count": 96,
   "metadata": {
    "scrolled": false
   },
   "outputs": [
    {
     "name": "stdout",
     "output_type": "stream",
     "text": [
      "IN ENTIRE DATASET\n",
      "Accuracy: 0.887\n",
      "Precision: 0.836\n",
      "Recall: 0.863\n",
      "F1: 0.849\n",
      "There are 40430 examples in the dataset\n",
      "\n",
      "IN SLICE\n",
      "Accuracy: 0.932\n",
      "Precision: 0.836\n",
      "Recall: 0.834\n",
      "F1: 0.835\n",
      "There are 1564 examples in the slice\n"
     ]
    }
   ],
   "source": [
    "from metal.analysis import confusion_matrix\n",
    "from metal.utils import convert_labels\n",
    "\n",
    "Y_gold = convert_labels(df_error['label'].values, \"onezero\", \"categorical\")\n",
    "Y_preds = convert_labels(df_error['pred'].values, \"onezero\", \"categorical\")\n",
    "Y_probs = np.vstack([df_error['score'].values, 1 - df_error['score'].values]).transpose()\n",
    "print('IN ENTIRE DATASET')\n",
    "\n",
    "from metal.metrics import metric_score\n",
    "metric_list = ['accuracy','precision', 'recall', 'f1']\n",
    "\n",
    "for metric in metric_list:\n",
    "    score = metric_score(Y_gold, Y_preds, metric, probs=Y_probs)\n",
    "    print(f\"{metric.capitalize()}: {score:.3f}\")\n",
    "print(f'There are {len(df_error)} examples in the dataset')\n",
    "    \n",
    "Y_gold = convert_labels(in_slice['label'].values, \"onezero\", \"categorical\")\n",
    "Y_preds = convert_labels(in_slice['pred'].values, \"onezero\", \"categorical\")\n",
    "Y_probs = np.vstack([in_slice['score'].values, 1 - in_slice['score'].values]).transpose()\n",
    "print('\\nIN SLICE')\n",
    "    \n",
    "from metal.metrics import metric_score\n",
    "metric_list = ['accuracy','precision', 'recall', 'f1']\n",
    "\n",
    "for metric in metric_list:\n",
    "    score = metric_score(Y_gold, Y_preds, metric, probs=Y_probs)\n",
    "    print(f\"{metric.capitalize()}: {score:.3f}\")\n",
    "print(f'There are {len(in_slice)} examples in the slice')"
   ]
  },
  {
   "cell_type": "code",
   "execution_count": 97,
   "metadata": {},
   "outputs": [
    {
     "name": "stdout",
     "output_type": "stream",
     "text": [
      "       Unnamed: 0                                          sentence1  \\\n",
      "0               0        why are african - americans so beautiful ?    \n",
      "29             29   \" who is the adam the lyrics to blink - 182 '...   \n",
      "44             44   how could an hiv - positive person have child...   \n",
      "46             46   why ms dh ##oni leave captain ##cy of odi & t...   \n",
      "77             77   are rolls - royce cars given only to reputed ...   \n",
      "91             91   which is the best way to pass the 74 - 322 ex...   \n",
      "94             94   is wi ##mps incorrect ? will wave - particle ...   \n",
      "111           111   who was a better offensive tackle - jim parke...   \n",
      "127           127   which aircraft was superior - the douglas dc ...   \n",
      "162           162   is there any way to recover e - mail ##s that...   \n",
      "200           200   question that contains assumptions : why do p...   \n",
      "260           260   what are the best techniques for off - page s...   \n",
      "278           278   how should i prepare for nee ##t - 2017 in 6 ...   \n",
      "279           279   how successful was the delhi ' s odd - even p...   \n",
      "290           290   how do you convince a conservative muslim fam...   \n",
      "303           303   what does hillary clinton think of high - ski...   \n",
      "327           327   where can i get mo ##oc ##s / e - learning th...   \n",
      "332           332   what is the best way to encourage 4 - 5 year ...   \n",
      "337           337   are non - compete clauses enforce ##able for ...   \n",
      "350           350   is it nice to swim in the ocean ? generally s...   \n",
      "367           367   can we have kids with the following blood gro...   \n",
      "416           416   if i were able to hold my breath for 10 minut...   \n",
      "432           432   i have been told that the i will get the deli...   \n",
      "495           495   what are 10 things non - gamer ##s always get...   \n",
      "517           517   how much equity should i get at a post - seri...   \n",
      "551           551   what is your favorite myers - briggs personal...   \n",
      "586           586   any advice for tag management regarding e - c...   \n",
      "591           591   what are some must - read books for people in...   \n",
      "639           639   what is the cut - off for kv ##py exam ( sa s...   \n",
      "640           640                how can be less self - conscious ?    \n",
      "...           ...                                                ...   \n",
      "39706       39706   why is the [ math ] y [ / math ] - intercept ...   \n",
      "39711       39711   calculus : how is the answer to lim x - - > p...   \n",
      "39732       39732   how can l be more concentrated and stop being...   \n",
      "39738       39738   how does john deer ##e motorcycles differ fro...   \n",
      "39879       39879   knowing yourself : if you could go back in ti...   \n",
      "39881       39881   is it worth doing a part - time mt ##ech in b...   \n",
      "39893       39893   how much time is required to complete the cbs...   \n",
      "39939       39939   how do i make my car ( modern ) do that gear ...   \n",
      "39943       39943   why has no one managed to kill basha ##r al -...   \n",
      "39989       39989   i am married to an overly - possessive husban...   \n",
      "39992       39992   how can i build a real - time web application...   \n",
      "40001       40001   what is the straight differences in the perso...   \n",
      "40018       40018           can i become a technical co - founder ?    \n",
      "40028       40028   business - india : my business partner cheate...   \n",
      "40039       40039   what are some great non - tourist ##y places ...   \n",
      "40061       40061   how do you get out of a mid - life career cri...   \n",
      "40097       40097   how do you see the injustice against women in...   \n",
      "40102       40102   which website is best to buy t - shirts in in...   \n",
      "40119       40119                 are anti - trump protests valid ?    \n",
      "40137       40137   what are some of the anti - american beliefs ...   \n",
      "40155       40155       why are ray - ban sunglasses so expensive ?    \n",
      "40172       40172   how should i del ##ete rows from a data ##fra...   \n",
      "40189       40189   how can i earn 1000 ru ##pee every ##week by ...   \n",
      "40206       40206   how did the jedi find force - sensitive child...   \n",
      "40232       40232   is there a strong non - toxic end ##oth ##er ...   \n",
      "40253       40253   what are the disco ##nti ##nu ##ity and zero ...   \n",
      "40343       40343   is poverty , crime , addiction , ill ##iter #...   \n",
      "40370       40370   do employees at apollo group have a good work...   \n",
      "40371       40371   what is the cost to take coaching for learnin...   \n",
      "40398       40398   i ' m 19 years old . i want to start a busine...   \n",
      "\n",
      "                                               sentence2     score  label  \\\n",
      "0                   why are hispanic ##s so beautiful ?   0.017592      0   \n",
      "29      \" which blink - 182 band member wrote the lyr...  0.211063      0   \n",
      "44             would you marry an hiv positive person ?   0.011259      0   \n",
      "46      why does m . s dh ##oni left captain ##cy for...  0.974610      1   \n",
      "77        what is the criteria to buy a rolls - royce ?   0.003874      0   \n",
      "91      what is the best way to prepare for the 74 - ...  0.004278      0   \n",
      "94      would einstein and de bro ##gli ##e have real...  0.165335      1   \n",
      "111     what skills does a qb need for pro - style of...  0.001321      0   \n",
      "127     was the douglas dc ##8 a superior aircraft to...  0.870830      1   \n",
      "162     is there anyway to retrieve my deleted emails...  0.965993      1   \n",
      "200     what are the pro ##s and con ##s of living in...  0.001408      0   \n",
      "260     what are the best techniques used in off page...  0.968353      1   \n",
      "278     i am going to write the cat 2018 and for that...  0.009222      0   \n",
      "279     \" would the \" \" odd even \" \" policy of delhi ...  0.310950      0   \n",
      "290     is the court marriage of a hindu boy and musl...  0.007515      0   \n",
      "303     what is hillary clinton ’ s stance on high sk...  0.957180      1   \n",
      "327     how can i get mo ##oc / e - learning through ...  0.014267      0   \n",
      "332     what is the best way to teach my 4 - 5 year o...  0.802261      1   \n",
      "337     are non - compete clauses enforce ##able in i...  0.005478      0   \n",
      "350     how does voltage and phase of an electric mot...  0.001334      0   \n",
      "367     can we have kids with the following blood gro...  0.107688      0   \n",
      "416     what would be the result of holding your brea...  0.769471      0   \n",
      "432     is there any chance of failing the second cut...  0.001166      0   \n",
      "495     what is it like to live with / get married to...  0.001697      0   \n",
      "517     startup ##s : i just got asked to be the co #...  0.007114      0   \n",
      "551     how can i get the indian pan card as a non - ...  0.001359      0   \n",
      "586     do you know of any e - commerce dedicated for...  0.002731      0   \n",
      "591     what are some must - read books for people in...  0.033303      0   \n",
      "639     what is the expected cut ##off for kv ##py sa...  0.988935      1   \n",
      "640                  how can i be less self conscious ?   0.948793      1   \n",
      "...                                                  ...       ...    ...   \n",
      "39706   how do i find the equation in the slope - int...  0.001661      0   \n",
      "39711               what does 2 + 2 ##x ##2 + 2 equal ?   0.001330      0   \n",
      "39732              how can i stop being absent minded ?   0.892165      1   \n",
      "39738          how good are john deer ##e motorcycles ?   0.006435      0   \n",
      "39879   if you could go back in time for a conversati...  0.858771      1   \n",
      "39881   what are the best part - time jobs to do whil...  0.003981      0   \n",
      "39893   can i complete the whole 11th cbs ##e sy ##ll...  0.072410      0   \n",
      "39939   how do i make my car ( modern ) do that gear ...  0.012244      0   \n",
      "39943   why has no one succeeded in assassin ##ating ...  0.968999      1   \n",
      "39989   my husband was so mean for most our 20 y ##r ...  0.001982      0   \n",
      "39992   how are real time web applications ac ##hi ##...  0.120223      0   \n",
      "40001   what is the straight differences in the perso...  0.351398      0   \n",
      "40018   how can i become a technical co - founder for...  0.278418      1   \n",
      "40028   how do you know when you are being cheated by...  0.005176      0   \n",
      "40039   what are some great non - tourist ##y places ...  0.001545      0   \n",
      "40061                     what is a mid - life crisis ?   0.009265      0   \n",
      "40097   how can a vega ##n see a person eating meat a...  0.001272      0   \n",
      "40102   what is the best e - commerce site to order t...  0.490995      1   \n",
      "40119   are anti - trump protest ##ors anti - democra...  0.138903      0   \n",
      "40137   what are some of the beliefs people have that...  0.890565      0   \n",
      "40155   why are ray ban and other branded sunglasses ...  0.849571      1   \n",
      "40172   is it possible to use panda ##s with python 3...  0.002104      0   \n",
      "40189   how can one earn 500 ru ##pee everyday in sto...  0.286249      0   \n",
      "40206   were force - sensitive children forced to joi...  0.785420      1   \n",
      "40232   how to determine whether the reaction is end ...  0.003468      0   \n",
      "40253   what is the evaluation of this function . [ m...  0.002942      0   \n",
      "40343   what is the procedure for studying masters in...  0.001541      0   \n",
      "40370   do employees at era group have a good work - ...  0.002415      0   \n",
      "40371   in a gun battle between an a - 7 bomber and a...  0.001449      0   \n",
      "40398   i am a 23 year old guy . i want to start a bu...  0.003005      0   \n",
      "\n",
      "                     uid  pred  is_wrong  \n",
      "0          QQP/dev.tsv:2     0     False  \n",
      "29        QQP/dev.tsv:31     0     False  \n",
      "44        QQP/dev.tsv:46     0     False  \n",
      "46        QQP/dev.tsv:48     1     False  \n",
      "77        QQP/dev.tsv:79     0     False  \n",
      "91        QQP/dev.tsv:93     0     False  \n",
      "94        QQP/dev.tsv:96     0      True  \n",
      "111      QQP/dev.tsv:113     0     False  \n",
      "127      QQP/dev.tsv:129     1     False  \n",
      "162      QQP/dev.tsv:164     1     False  \n",
      "200      QQP/dev.tsv:202     0     False  \n",
      "260      QQP/dev.tsv:262     1     False  \n",
      "278      QQP/dev.tsv:280     0     False  \n",
      "279      QQP/dev.tsv:281     0     False  \n",
      "290      QQP/dev.tsv:292     0     False  \n",
      "303      QQP/dev.tsv:305     1     False  \n",
      "327      QQP/dev.tsv:329     0     False  \n",
      "332      QQP/dev.tsv:334     1     False  \n",
      "337      QQP/dev.tsv:339     0     False  \n",
      "350      QQP/dev.tsv:352     0     False  \n",
      "367      QQP/dev.tsv:369     0     False  \n",
      "416      QQP/dev.tsv:418     1      True  \n",
      "432      QQP/dev.tsv:434     0     False  \n",
      "495      QQP/dev.tsv:497     0     False  \n",
      "517      QQP/dev.tsv:519     0     False  \n",
      "551      QQP/dev.tsv:553     0     False  \n",
      "586      QQP/dev.tsv:588     0     False  \n",
      "591      QQP/dev.tsv:593     0     False  \n",
      "639      QQP/dev.tsv:641     1     False  \n",
      "640      QQP/dev.tsv:642     1     False  \n",
      "...                  ...   ...       ...  \n",
      "39706  QQP/dev.tsv:39709     0     False  \n",
      "39711  QQP/dev.tsv:39714     0     False  \n",
      "39732  QQP/dev.tsv:39735     1     False  \n",
      "39738  QQP/dev.tsv:39741     0     False  \n",
      "39879  QQP/dev.tsv:39882     1     False  \n",
      "39881  QQP/dev.tsv:39884     0     False  \n",
      "39893  QQP/dev.tsv:39896     0     False  \n",
      "39939  QQP/dev.tsv:39942     0     False  \n",
      "39943  QQP/dev.tsv:39946     1     False  \n",
      "39989  QQP/dev.tsv:39992     0     False  \n",
      "39992  QQP/dev.tsv:39995     0     False  \n",
      "40001  QQP/dev.tsv:40004     0     False  \n",
      "40018  QQP/dev.tsv:40021     0      True  \n",
      "40028  QQP/dev.tsv:40031     0     False  \n",
      "40039  QQP/dev.tsv:40042     0     False  \n",
      "40061  QQP/dev.tsv:40064     0     False  \n",
      "40097  QQP/dev.tsv:40100     0     False  \n",
      "40102  QQP/dev.tsv:40105     0      True  \n",
      "40119  QQP/dev.tsv:40122     0     False  \n",
      "40137  QQP/dev.tsv:40140     1      True  \n",
      "40155  QQP/dev.tsv:40158     1     False  \n",
      "40172  QQP/dev.tsv:40175     0     False  \n",
      "40189  QQP/dev.tsv:40192     0     False  \n",
      "40206  QQP/dev.tsv:40209     1     False  \n",
      "40232  QQP/dev.tsv:40235     0     False  \n",
      "40253  QQP/dev.tsv:40256     0     False  \n",
      "40343  QQP/dev.tsv:40346     0     False  \n",
      "40370  QQP/dev.tsv:40373     0     False  \n",
      "40371  QQP/dev.tsv:40374     0     False  \n",
      "40398  QQP/dev.tsv:40401     0     False  \n",
      "\n",
      "[1564 rows x 8 columns]\n"
     ]
    }
   ],
   "source": [
    "filename = f'slices/{task_name}_{split}_dashsemicolon.tsv'\n",
    "print(in_slice)\n",
    "in_slice['uid'].to_csv(filename,sep='\\t',header=False,index=False)"
   ]
  },
  {
   "cell_type": "markdown",
   "metadata": {},
   "source": [
    "**1. Number Based LF**\n",
    "\n",
    "Our model tends to fail when there are numbers involved in the two sentences. We can look for the same number being repeated in both sentences as an LF"
   ]
  },
  {
   "cell_type": "markdown",
   "metadata": {},
   "source": [
    "**2. Edit Distance Based LF**\n",
    "\n",
    "Our model tends to vote entailment when one sentence is long and the other is short. We can focus on this slice and flip the labelt o vote no entailment even when the number of words is the same."
   ]
  },
  {
   "cell_type": "code",
   "execution_count": null,
   "metadata": {},
   "outputs": [],
   "source": []
  }
 ],
 "metadata": {
  "kernelspec": {
   "display_name": "Python 3",
   "language": "python",
   "name": "python3"
  },
  "language_info": {
   "codemirror_mode": {
    "name": "ipython",
    "version": 3
   },
   "file_extension": ".py",
   "mimetype": "text/x-python",
   "name": "python",
   "nbconvert_exporter": "python",
   "pygments_lexer": "ipython3",
   "version": "3.6.7"
  }
 },
 "nbformat": 4,
 "nbformat_minor": 2
}
