{
 "cells": [
  {
   "cell_type": "code",
   "execution_count": 118,
   "metadata": {},
   "outputs": [
    {
     "name": "stdout",
     "output_type": "stream",
     "text": [
      "The autoreload extension is already loaded. To reload it, use:\n",
      "  %reload_ext autoreload\n"
     ]
    }
   ],
   "source": [
    "%load_ext autoreload\n",
    "%autoreload 2\n",
    "%matplotlib inline\n",
    "\n",
    "import torch \n",
    "import matplotlib.pyplot as plt\n",
    "import numpy as np\n",
    "import pandas as pd\n",
    "\n",
    "from utils import *"
   ]
  },
  {
   "cell_type": "markdown",
   "metadata": {},
   "source": [
    "### Initialize Tagger"
   ]
  },
  {
   "cell_type": "code",
   "execution_count": 168,
   "metadata": {},
   "outputs": [],
   "source": [
    "from tagger import Tagger\n",
    "tagger = Tagger()"
   ]
  },
  {
   "cell_type": "markdown",
   "metadata": {},
   "source": [
    "### Load Model and Data"
   ]
  },
  {
   "cell_type": "code",
   "execution_count": 189,
   "metadata": {},
   "outputs": [
    {
     "name": "stdout",
     "output_type": "stream",
     "text": [
      "QQP_dev_error_analysis.tsv\n"
     ]
    }
   ],
   "source": [
    "model_path = ''\n",
    "task_name = 'QQP'\n",
    "split = 'dev'\n",
    "filepath = f'{task_name}_{split}_error_analysis.tsv'\n",
    "print(filepath)"
   ]
  },
  {
   "cell_type": "code",
   "execution_count": 190,
   "metadata": {},
   "outputs": [
    {
     "data": {
      "text/html": [
       "<div>\n",
       "<style scoped>\n",
       "    .dataframe tbody tr th:only-of-type {\n",
       "        vertical-align: middle;\n",
       "    }\n",
       "\n",
       "    .dataframe tbody tr th {\n",
       "        vertical-align: top;\n",
       "    }\n",
       "\n",
       "    .dataframe thead th {\n",
       "        text-align: right;\n",
       "    }\n",
       "</style>\n",
       "<table border=\"1\" class=\"dataframe\">\n",
       "  <thead>\n",
       "    <tr style=\"text-align: right;\">\n",
       "      <th></th>\n",
       "      <th>Unnamed: 0</th>\n",
       "      <th>sentence1</th>\n",
       "      <th>sentence2</th>\n",
       "      <th>score</th>\n",
       "      <th>label</th>\n",
       "      <th>uid</th>\n",
       "      <th>pred</th>\n",
       "      <th>is_wrong</th>\n",
       "    </tr>\n",
       "  </thead>\n",
       "  <tbody>\n",
       "    <tr>\n",
       "      <th>0</th>\n",
       "      <td>0</td>\n",
       "      <td>why are african - americans so beautiful ?</td>\n",
       "      <td>why are hispanic ##s so beautiful ?</td>\n",
       "      <td>0.017592</td>\n",
       "      <td>0</td>\n",
       "      <td>QQP/dev.tsv:2</td>\n",
       "      <td>0</td>\n",
       "      <td>False</td>\n",
       "    </tr>\n",
       "    <tr>\n",
       "      <th>1</th>\n",
       "      <td>1</td>\n",
       "      <td>i want to pursue phd in computer science abou...</td>\n",
       "      <td>i handle social media for a non - profit . sh...</td>\n",
       "      <td>0.001446</td>\n",
       "      <td>0</td>\n",
       "      <td>QQP/dev.tsv:3</td>\n",
       "      <td>0</td>\n",
       "      <td>False</td>\n",
       "    </tr>\n",
       "    <tr>\n",
       "      <th>2</th>\n",
       "      <td>2</td>\n",
       "      <td>is there a reason why we should travel alone ?</td>\n",
       "      <td>what are some reasons to travel alone ?</td>\n",
       "      <td>0.935732</td>\n",
       "      <td>1</td>\n",
       "      <td>QQP/dev.tsv:4</td>\n",
       "      <td>1</td>\n",
       "      <td>False</td>\n",
       "    </tr>\n",
       "    <tr>\n",
       "      <th>3</th>\n",
       "      <td>3</td>\n",
       "      <td>why are people so obsessed with having a girl...</td>\n",
       "      <td>how can a single male have a child ?</td>\n",
       "      <td>0.001505</td>\n",
       "      <td>0</td>\n",
       "      <td>QQP/dev.tsv:5</td>\n",
       "      <td>0</td>\n",
       "      <td>False</td>\n",
       "    </tr>\n",
       "    <tr>\n",
       "      <th>4</th>\n",
       "      <td>4</td>\n",
       "      <td>what are some good baby girl names starting w...</td>\n",
       "      <td>what are some good baby girl names starting w...</td>\n",
       "      <td>0.149290</td>\n",
       "      <td>0</td>\n",
       "      <td>QQP/dev.tsv:6</td>\n",
       "      <td>0</td>\n",
       "      <td>False</td>\n",
       "    </tr>\n",
       "  </tbody>\n",
       "</table>\n",
       "</div>"
      ],
      "text/plain": [
       "   Unnamed: 0                                          sentence1  \\\n",
       "0           0        why are african - americans so beautiful ?    \n",
       "1           1   i want to pursue phd in computer science abou...   \n",
       "2           2    is there a reason why we should travel alone ?    \n",
       "3           3   why are people so obsessed with having a girl...   \n",
       "4           4   what are some good baby girl names starting w...   \n",
       "\n",
       "                                           sentence2     score  label  \\\n",
       "0               why are hispanic ##s so beautiful ?   0.017592      0   \n",
       "1   i handle social media for a non - profit . sh...  0.001446      0   \n",
       "2           what are some reasons to travel alone ?   0.935732      1   \n",
       "3              how can a single male have a child ?   0.001505      0   \n",
       "4   what are some good baby girl names starting w...  0.149290      0   \n",
       "\n",
       "             uid  pred  is_wrong  \n",
       "0  QQP/dev.tsv:2     0     False  \n",
       "1  QQP/dev.tsv:3     0     False  \n",
       "2  QQP/dev.tsv:4     1     False  \n",
       "3  QQP/dev.tsv:5     0     False  \n",
       "4  QQP/dev.tsv:6     0     False  "
      ]
     },
     "execution_count": 190,
     "metadata": {},
     "output_type": "execute_result"
    }
   ],
   "source": [
    "# # Load model and data\n",
    "# model, dl = load_data_and_model(model_path,task_name,split)\n",
    "\n",
    "# # Create DataFrame of Raw Data, Predictions, and Labels\n",
    "# print('Creating dataframe')\n",
    "# df_error = create_dataframe(task_name, model, dl)\n",
    "# print('Created dataframe')\n",
    "\n",
    "# # Save (and reload) DataFrame\n",
    "# csv_path = '/'.join(model_path.split('/')[0:-1])\n",
    "# save_dataframe(df_error, filepath)\n",
    "\n",
    "df_error = load_dataframe(filepath)\n",
    "df_error.head()"
   ]
  },
  {
   "cell_type": "markdown",
   "metadata": {},
   "source": [
    "## Sandbox for Error Analysis"
   ]
  },
  {
   "cell_type": "code",
   "execution_count": 184,
   "metadata": {},
   "outputs": [
    {
     "name": "stdout",
     "output_type": "stream",
     "text": [
      "Plotting probabilities from the first column of Y_probs\n"
     ]
    },
    {
     "data": {
      "image/png": "[encoded data removed]",
      "text/plain": [
       "<Figure size 432x288 with 1 Axes>"
      ]
     },
     "metadata": {
      "needs_background": "light"
     },
     "output_type": "display_data"
    },
    {
     "data": {
      "image/png": "[encoded data removed]",
      "text/plain": [
       "<Figure size 432x288 with 1 Axes>"
      ]
     },
     "metadata": {
      "needs_background": "light"
     },
     "output_type": "display_data"
    },
    {
     "name": "stdout",
     "output_type": "stream",
     "text": [
      "Plotting probabilities from the first column of Y_probs\n"
     ]
    },
    {
     "data": {
      "image/png": "[encoded data removed]",
      "text/plain": [
       "<Figure size 432x288 with 1 Axes>"
      ]
     },
     "metadata": {
      "needs_background": "light"
     },
     "output_type": "display_data"
    }
   ],
   "source": [
    "from metal.analysis import confusion_matrix\n",
    "from metal.utils import convert_labels\n",
    "\n",
    "Y_gold = convert_labels(df_error['label'].values, \"onezero\", \"categorical\")\n",
    "Y_preds = convert_labels(df_error['pred'].values, \"onezero\", \"categorical\")\n",
    "Y_probs = np.vstack([df_error['score'].values, 1 - df_error['score'].values]).transpose()\n",
    "\n",
    "from metal.contrib.visualization.analysis import (\n",
    "        plot_predictions_histogram, \n",
    "        plot_probabilities_histogram,\n",
    "        plot_calibration_plot\n",
    "    )\n",
    "plot_probabilities_histogram(Y_probs, title=\"Label Distribution\")\n",
    "plot_predictions_histogram(Y_preds, Y_gold, title=\"Label Distribution\")\n",
    "plot_calibration_plot(Y_probs, Y_gold, title=\"Calibration Plot\", bins=5)"
   ]
  },
  {
   "cell_type": "markdown",
   "metadata": {},
   "source": [
    "# Examples we got barely right, barely wrong, and very wrong"
   ]
  },
  {
   "cell_type": "code",
   "execution_count": 185,
   "metadata": {
    "scrolled": false
   },
   "outputs": [
    {
     "name": "stdout",
     "output_type": "stream",
     "text": [
      "\u001b[1mBARELY RIGHT\u001b[0;0m\n",
      "4 matches were found with the given criteria.\n",
      "\n",
      "UID:  CoLA/dev.tsv:1004\n",
      "sentence1: \t John left orders to follow Pete . \n",
      "sentence2: \tnan\n",
      "score: \t0.6494\n",
      "label: \t1\n",
      "\n",
      "\u001b[1mBARELY WRONG\u001b[0;0m\n",
      "1 matches were found with the given criteria.\n",
      "\n",
      "UID:  CoLA/dev.tsv:857\n",
      "sentence1: \t They preferred them arrested . \n",
      "sentence2: \tnan\n",
      "score: \t0.3966\n",
      "label: \t1\n",
      "\n",
      "\u001b[1mVERY WRONG\u001b[0;0m\n",
      "148 matches were found with the given criteria.\n",
      "\n",
      "UID:  CoLA/dev.tsv:885\n",
      "sentence1: \t Pro ##tec ##t you ! \n",
      "sentence2: \tnan\n",
      "score: \t0.9999\n",
      "label: \t0\n",
      "\n"
     ]
    }
   ],
   "source": [
    "print(\"\\033[1mBARELY RIGHT\\033[0;0m\")\n",
    "print_barely_right(df_error, thresh=0.2, n=1)\n",
    "print(\"\\033[1mBARELY WRONG\\033[0;0m\")\n",
    "print_barely_wrong(df_error, thresh=0.2, n=1)\n",
    "print(\"\\033[1mVERY WRONG\\033[0;0m\")\n",
    "print_very_wrong(df_error, thresh=0.8, n=1)"
   ]
  },
  {
   "cell_type": "markdown",
   "metadata": {},
   "source": [
    "# Slicing"
   ]
  },
  {
   "cell_type": "code",
   "execution_count": 186,
   "metadata": {},
   "outputs": [
    {
     "data": {
      "text/html": [
       "<div>\n",
       "<style scoped>\n",
       "    .dataframe tbody tr th:only-of-type {\n",
       "        vertical-align: middle;\n",
       "    }\n",
       "\n",
       "    .dataframe tbody tr th {\n",
       "        vertical-align: top;\n",
       "    }\n",
       "\n",
       "    .dataframe thead th {\n",
       "        text-align: right;\n",
       "    }\n",
       "</style>\n",
       "<table border=\"1\" class=\"dataframe\">\n",
       "  <thead>\n",
       "    <tr style=\"text-align: right;\">\n",
       "      <th></th>\n",
       "      <th>Unnamed: 0</th>\n",
       "      <th>sentence1</th>\n",
       "      <th>sentence2</th>\n",
       "      <th>score</th>\n",
       "      <th>label</th>\n",
       "      <th>uid</th>\n",
       "      <th>pred</th>\n",
       "      <th>is_wrong</th>\n",
       "    </tr>\n",
       "  </thead>\n",
       "  <tbody>\n",
       "    <tr>\n",
       "      <th>0</th>\n",
       "      <td>0</td>\n",
       "      <td>The weights made the rope stretch over the pu...</td>\n",
       "      <td>NaN</td>\n",
       "      <td>0.999909</td>\n",
       "      <td>1</td>\n",
       "      <td>CoLA/dev.tsv:2</td>\n",
       "      <td>1</td>\n",
       "      <td>False</td>\n",
       "    </tr>\n",
       "    <tr>\n",
       "      <th>1</th>\n",
       "      <td>1</td>\n",
       "      <td>The mechanical doll w ##rig ##gled itself loo...</td>\n",
       "      <td>NaN</td>\n",
       "      <td>0.000127</td>\n",
       "      <td>1</td>\n",
       "      <td>CoLA/dev.tsv:3</td>\n",
       "      <td>0</td>\n",
       "      <td>True</td>\n",
       "    </tr>\n",
       "    <tr>\n",
       "      <th>2</th>\n",
       "      <td>2</td>\n",
       "      <td>If you had eaten more , you would want less .</td>\n",
       "      <td>NaN</td>\n",
       "      <td>0.999914</td>\n",
       "      <td>1</td>\n",
       "      <td>CoLA/dev.tsv:4</td>\n",
       "      <td>1</td>\n",
       "      <td>False</td>\n",
       "    </tr>\n",
       "    <tr>\n",
       "      <th>3</th>\n",
       "      <td>3</td>\n",
       "      <td>As you eat the most , you want the least .</td>\n",
       "      <td>NaN</td>\n",
       "      <td>0.999184</td>\n",
       "      <td>0</td>\n",
       "      <td>CoLA/dev.tsv:5</td>\n",
       "      <td>1</td>\n",
       "      <td>True</td>\n",
       "    </tr>\n",
       "    <tr>\n",
       "      <th>4</th>\n",
       "      <td>4</td>\n",
       "      <td>The more you would want , the less you would ...</td>\n",
       "      <td>NaN</td>\n",
       "      <td>0.999899</td>\n",
       "      <td>0</td>\n",
       "      <td>CoLA/dev.tsv:6</td>\n",
       "      <td>1</td>\n",
       "      <td>True</td>\n",
       "    </tr>\n",
       "  </tbody>\n",
       "</table>\n",
       "</div>"
      ],
      "text/plain": [
       "   Unnamed: 0                                          sentence1  sentence2  \\\n",
       "0           0   The weights made the rope stretch over the pu...        NaN   \n",
       "1           1   The mechanical doll w ##rig ##gled itself loo...        NaN   \n",
       "2           2     If you had eaten more , you would want less .         NaN   \n",
       "3           3        As you eat the most , you want the least .         NaN   \n",
       "4           4   The more you would want , the less you would ...        NaN   \n",
       "\n",
       "      score  label             uid  pred  is_wrong  \n",
       "0  0.999909      1  CoLA/dev.tsv:2     1     False  \n",
       "1  0.000127      1  CoLA/dev.tsv:3     0      True  \n",
       "2  0.999914      1  CoLA/dev.tsv:4     1     False  \n",
       "3  0.999184      0  CoLA/dev.tsv:5     1      True  \n",
       "4  0.999899      0  CoLA/dev.tsv:6     1      True  "
      ]
     },
     "execution_count": 186,
     "metadata": {},
     "output_type": "execute_result"
    }
   ],
   "source": [
    "from metal.mmtl.debugging.utils import print_row, apply_lfs_to_df, view_matches\n",
    "from metal.mmtl.debugging.lf_helpers import regex_present\n",
    "df_error.head()"
   ]
  },
  {
   "cell_type": "code",
   "execution_count": 191,
   "metadata": {},
   "outputs": [
    {
     "name": "stdout",
     "output_type": "stream",
     "text": [
      "    Unnamed: 0                                          sentence1  \\\n",
      "3            3   why are people so obsessed with having a girl...   \n",
      "9            9                       why should i crack je ##e ?    \n",
      "11          11   can anyone tell shall mi mix mobile should be...   \n",
      "13          13         why tamil nadu universities are no good ?    \n",
      "14          14   what is an easy way to clean tooth ##pas ##te...   \n",
      "\n",
      "                                            sentence2     score  label  \\\n",
      "3               how can a single male have a child ?   0.001505      0   \n",
      "9    is it possible to get into ii ##ms with low m...  0.001265      0   \n",
      "11   \" what did volta ##ire mean when he said , \" ...  0.001189      0   \n",
      "13   why are the 10th students able to score 100 %...  0.002752      0   \n",
      "14   what are some ways to remove hard water stain...  0.004020      0   \n",
      "\n",
      "               uid  pred  is_wrong  \n",
      "3    QQP/dev.tsv:5     0     False  \n",
      "9   QQP/dev.tsv:11     0     False  \n",
      "11  QQP/dev.tsv:13     0     False  \n",
      "13  QQP/dev.tsv:15     0     False  \n",
      "14  QQP/dev.tsv:16     0     False  \n"
     ]
    }
   ],
   "source": [
    "def slicing_function(row):\n",
    "    people = 0\n",
    "    for pronoun in ['she','her','hers']:\n",
    "        if regex_present(row,pronoun,fields=['sentence1']):\n",
    "            people += 1\n",
    "            continue\n",
    "    for pronoun in ['he','him','his']:\n",
    "        if regex_present(row,pronoun,fields=['sentence1']):\n",
    "            people += 1\n",
    "            continue\n",
    "    for pronoun in ['you','your','yours']:\n",
    "        if regex_present(row,pronoun,fields=['sentence1']):\n",
    "            people += 1\n",
    "            continue\n",
    "    for pronoun in ['I','my','me','mine']:\n",
    "        if regex_present(row,pronoun,fields=['sentence1']):\n",
    "            people += 1\n",
    "            continue\n",
    "    return people > 3\n",
    "\n",
    "from slicing import slice_dashsemicolon\n",
    "    \n",
    "df = df_error[['sentence1','sentence2']].apply(slicing_function, axis=1)\n",
    "in_slice = df_error[df]\n",
    "print(in_slice.head())"
   ]
  },
  {
   "cell_type": "code",
   "execution_count": 192,
   "metadata": {
    "scrolled": false
   },
   "outputs": [
    {
     "name": "stdout",
     "output_type": "stream",
     "text": [
      "IN ENTIRE QQP DATASET\n",
      "Accuracy: 0.887\n",
      "Precision: 0.836\n",
      "Recall: 0.863\n",
      "F1: 0.849\n",
      "There are 40430 examples in the dataset\n",
      "\n",
      "IN SLICE\n",
      "Accuracy: 0.877\n",
      "Precision: 0.826\n",
      "Recall: 0.855\n",
      "F1: 0.840\n",
      "There are 10694 examples in the slice\n"
     ]
    }
   ],
   "source": [
    "from metal.analysis import confusion_matrix\n",
    "from metal.utils import convert_labels\n",
    "\n",
    "Y_gold = convert_labels(df_error['label'].values, \"onezero\", \"categorical\")\n",
    "Y_preds = convert_labels(df_error['pred'].values, \"onezero\", \"categorical\")\n",
    "Y_probs = np.vstack([df_error['score'].values, 1 - df_error['score'].values]).transpose()\n",
    "print('IN ENTIRE {} DATASET'.format(task_name))\n",
    "\n",
    "from metal.metrics import metric_score\n",
    "metric_list = ['accuracy','precision', 'recall', 'f1']\n",
    "\n",
    "for metric in metric_list:\n",
    "    score = metric_score(Y_gold, Y_preds, metric, probs=Y_probs)\n",
    "    print(f\"{metric.capitalize()}: {score:.3f}\")\n",
    "print(f'There are {len(df_error)} examples in the dataset')\n",
    "    \n",
    "Y_gold = convert_labels(in_slice['label'].values, \"onezero\", \"categorical\")\n",
    "Y_preds = convert_labels(in_slice['pred'].values, \"onezero\", \"categorical\")\n",
    "Y_probs = np.vstack([in_slice['score'].values, 1 - in_slice['score'].values]).transpose()\n",
    "print('\\nIN SLICE')\n",
    "    \n",
    "from metal.metrics import metric_score\n",
    "metric_list = ['accuracy','precision', 'recall', 'f1']\n",
    "\n",
    "for metric in metric_list:\n",
    "    score = metric_score(Y_gold, Y_preds, metric, probs=Y_probs)\n",
    "    print(f\"{metric.capitalize()}: {score:.3f}\")\n",
    "print(f'There are {len(in_slice)} examples in the slice')"
   ]
  },
  {
   "cell_type": "code",
   "execution_count": 167,
   "metadata": {},
   "outputs": [
    {
     "name": "stdout",
     "output_type": "stream",
     "text": [
      "       Unnamed: 0                                          sentence1  \\\n",
      "38             38   what people who you ' ve never met have influ...   \n",
      "57             57   can i use mod ##s in ps ##2 games like gt ##a...   \n",
      "90             90   ft ##m : how much of an effect did testostero...   \n",
      "109           109   your girlfriend / wife refused to have an abo...   \n",
      "129           129   what does it mean when a girl take a day to r...   \n",
      "292           292   selena gomez ( actor , musician ) : did you l...   \n",
      "362           362   have you ever found out your friend doesn ' t...   \n",
      "377           377   i got an internship at ibm . will this help m...   \n",
      "378           378   have you ever encountered any supernatural ph...   \n",
      "497           497   how much flu ##ori ##de is absorbed into your...   \n",
      "557           557      i cheated on my wife would she cheat on me ?    \n",
      "578           578         how did you meet your significant other ?    \n",
      "671           671   while i am requesting online sb ##i global de...   \n",
      "682           682   is it un ##pro ##fe ##ssion ##al to include a...   \n",
      "746           746   girls : what did the first time your boyfrien...   \n",
      "790           790   what is the most embarrassing moment in front...   \n",
      "812           812   do papa ##raz ##zi break any law by stalking ...   \n",
      "828           828   based on what should a card ##iol ##ogist ##s...   \n",
      "914           914   how do i know whether someone read my message...   \n",
      "969           969   is temporarily di ##sa ##bling ins ##tagram s...   \n",
      "1028         1028   the guy i ' m seeing calls me adorable . is t...   \n",
      "1057         1057   is there ever a time when you should not let ...   \n",
      "1059         1059   when you plan a vacation , do you plan it you...   \n",
      "1069         1069   is there an app of some sort that allows you ...   \n",
      "1137         1137   what is the super best movie you recommend me...   \n",
      "1229         1229   how do you feel when someone up ##vot ##es yo...   \n",
      "1287         1287   i love this girl so much . how do i make her ...   \n",
      "1324         1324   if i del ##ete the messages on what ##sa ##pp...   \n",
      "1641         1641        should i share my wife for others friend ?    \n",
      "1671         1671   what are your views on mod ##i governments de...   \n",
      "...           ...                                                ...   \n",
      "38912       38912   my boyfriend cheated on me with multiple wome...   \n",
      "39060       39060   what is the quick ##est way to get met ##h ou...   \n",
      "39146       39146   you have a sick mind messaging other women wh...   \n",
      "39154       39154   does popcorn time put any viruses , ad ##ware...   \n",
      "39176       39176   why do some people smile at everyone , even a...   \n",
      "39260       39260   the alleged father is not excluded as the bio...   \n",
      "39460       39460   how do you change american rr ##t license ( r...   \n",
      "39487       39487   what is the best way to get investment for yo...   \n",
      "39546       39546   what ' s best way to reply when someone wishe...   \n",
      "39555       39555   what is one thing you wish for yourself in th...   \n",
      "39586       39586   to drive for l ##y ##ft or uber , do you have...   \n",
      "39681       39681   how do i help my girlfriend become less self ...   \n",
      "39695       39695   how do i convince my wife to let me have anal...   \n",
      "39721       39721   my girlfriend told me that she never shares o...   \n",
      "39736       39736   my girlfriend of 6 years left me and says she...   \n",
      "39771       39771   did vol ##de ##mo ##rt ' s curse on the defen...   \n",
      "39777       39777   how do i open a snap ##cha ##t message withou...   \n",
      "39797       39797   what is the solution for quo ##ra marking you...   \n",
      "39799       39799   what are your views on mod ##i governments de...   \n",
      "39818       39818   \" what does it mean when a guy says \" \" you a...   \n",
      "39879       39879   knowing yourself : if you could go back in ti...   \n",
      "40035       40035   why is it that you die when you cut some arte...   \n",
      "40067       40067   is it bad to keep your laptop plug ##ged in a...   \n",
      "40068       40068   make fragment this sentence who has seen the ...   \n",
      "40097       40097   how do you see the injustice against women in...   \n",
      "40194       40194      how do you teach yourself to play the bass ?    \n",
      "40237       40237   il ##tu ##tm ##ish ' s son nas ##ir ##uddin m...   \n",
      "40281       40281   if you wake up one day and realise you are pr...   \n",
      "40324       40324   \" in ' his last vow ' , what does my ##croft ...   \n",
      "40396       40396   \" in the movie \" \" the wolf of wall street \" ...   \n",
      "\n",
      "                                               sentence2     score  label  \\\n",
      "38      who are people you have never met who have ha...  0.945101      1   \n",
      "57      nintendo 3d ##s : can i just copy the downloa...  0.001802      0   \n",
      "90      what are examples of mental and emotional hea...  0.001724      0   \n",
      "109     what are places where boys like to be touched...  0.001358      0   \n",
      "129     what does it mean when girls reply to a text ...  0.073691      1   \n",
      "292     how can you look at someone ' s private ins #...  0.001388      0   \n",
      "362     men : would you feel con ##ned if you found o...  0.001324      0   \n",
      "377     i got a big ##da ##ta internship and i want t...  0.002017      0   \n",
      "378     have you ever faced any supernatural moment i...  0.977841      1   \n",
      "497                why is flu ##ori ##de put in water ?   0.003322      0   \n",
      "557     i think my wife is cheating on me . what do i...  0.056164      0   \n",
      "578     how did you meet your current significant oth...  0.943066      1   \n",
      "671     i am unable to add my sb ##i de ##bit card ( ...  0.001898      0   \n",
      "682     should you list a 3 . 1 gp ##a on your resume ?   0.001522      0   \n",
      "746     what is the most attractive girl you have eve...  0.001434      0   \n",
      "790     which was the most embarrassing moment in fro...  0.020313      0   \n",
      "812     if by being anonymous , you can truly share y...  0.001391      0   \n",
      "828     what are the things that a begin ##ner , who ...  0.001912      0   \n",
      "914     if i block someone in my ins ##tagram and i d...  0.004217      0   \n",
      "969     due to some bug , i lost all my in ##box chat...  0.001965      0   \n",
      "1028    i asked him to call me but he didn ' t , shou...  0.001317      0   \n",
      "1057         when is enough time to let go of someone ?   0.025128      0   \n",
      "1059    when you are designing / planning a mobile ap...  0.001400      0   \n",
      "1069    does anyone know if there is an app or someth...  0.939483      0   \n",
      "1137    which is the one movie you will recommend me ...  0.921911      1   \n",
      "1229    how does it feel to see up ##vot ##es to your...  0.782559      1   \n",
      "1287    i love a girl . what should i do to make her ...  0.962261      1   \n",
      "1324    how do i del ##ete what ##sa ##pp chat ##s pe...  0.080613      0   \n",
      "1641                           should i share my wife ?   0.461831      1   \n",
      "1671    what is your opinion on the disco ##nti ##nu ...  0.993316      1   \n",
      "...                                                  ...       ...    ...   \n",
      "38912   my boyfriend cheated on me 3 years ago . we '...  0.591082      0   \n",
      "39060   so how can i get met ##h to be flush out of b...  0.984691      1   \n",
      "39146   how can i get girls to give me a blow ##jo ##...  0.001525      0   \n",
      "39154                         do you use popcorn time ?   0.009254      0   \n",
      "39176                             why do people smile ?   0.066481      0   \n",
      "39260   who is the biological father of stephen hawk ...  0.001782      0   \n",
      "39460   how does one become a licensed psycho ##ther ...  0.001413      0   \n",
      "39487   what are the ways to get an investment for st...  0.896117      1   \n",
      "39546   what should you do when someone wishes you a ...  0.577284      0   \n",
      "39555   what is the one thing that you wish to do in ...  0.400192      1   \n",
      "39586   my family and i have good driving records . h...  0.001801      0   \n",
      "39681   i feel like my girlfriend is becoming less an...  0.010988      0   \n",
      "39695   how can you convince your partner to try anal...  0.711462      1   \n",
      "39721   my girlfriend told her friends all of my most...  0.003538      0   \n",
      "39736   my girlfriend says she no longer has feelings...  0.636014      1   \n",
      "39771   after book 7 , has the jin ##x on the defense...  0.256840      1   \n",
      "39777   how do i screen shot on snap ##cha ##t withou...  0.507940      0   \n",
      "39797   if quo ##ra doesn ' t understand my question ...  0.969688      1   \n",
      "39799   what are your views on demon ##eti ##zation o...  0.992583      1   \n",
      "39818   how many tomatoes , on average are in a small...  0.001342      0   \n",
      "39879   if you could go back in time for a conversati...  0.858771      1   \n",
      "40035   how long would it take to bleed out if you cu...  0.001774      0   \n",
      "40067   if a laptop is always plug ##ged in and charg...  0.064094      0   \n",
      "40068   what would be the term to describe someone wh...  0.001254      0   \n",
      "40097   how can a vega ##n see a person eating meat a...  0.001272      0   \n",
      "40194   what is the easiest way to teach yourself to ...  0.085164      0   \n",
      "40237   how can my son ( he is in his late 20s ) find...  0.001214      0   \n",
      "40281   what would you do if one day , you wake up an...  0.043532      0   \n",
      "40324   what is your review of sherlock season 3 epis...  0.008223      0   \n",
      "40396   spoil ##ers : what happened at the end of wol...  0.001613      0   \n",
      "\n",
      "                     uid  pred  is_wrong  \n",
      "38        QQP/dev.tsv:40     1     False  \n",
      "57        QQP/dev.tsv:59     0     False  \n",
      "90        QQP/dev.tsv:92     0     False  \n",
      "109      QQP/dev.tsv:111     0     False  \n",
      "129      QQP/dev.tsv:131     0      True  \n",
      "292      QQP/dev.tsv:294     0     False  \n",
      "362      QQP/dev.tsv:364     0     False  \n",
      "377      QQP/dev.tsv:379     0     False  \n",
      "378      QQP/dev.tsv:380     1     False  \n",
      "497      QQP/dev.tsv:499     0     False  \n",
      "557      QQP/dev.tsv:559     0     False  \n",
      "578      QQP/dev.tsv:580     1     False  \n",
      "671      QQP/dev.tsv:673     0     False  \n",
      "682      QQP/dev.tsv:684     0     False  \n",
      "746      QQP/dev.tsv:748     0     False  \n",
      "790      QQP/dev.tsv:792     0     False  \n",
      "812      QQP/dev.tsv:814     0     False  \n",
      "828      QQP/dev.tsv:830     0     False  \n",
      "914      QQP/dev.tsv:916     0     False  \n",
      "969      QQP/dev.tsv:971     0     False  \n",
      "1028    QQP/dev.tsv:1030     0     False  \n",
      "1057    QQP/dev.tsv:1059     0     False  \n",
      "1059    QQP/dev.tsv:1061     0     False  \n",
      "1069    QQP/dev.tsv:1071     1      True  \n",
      "1137    QQP/dev.tsv:1139     1     False  \n",
      "1229    QQP/dev.tsv:1231     1     False  \n",
      "1287    QQP/dev.tsv:1289     1     False  \n",
      "1324    QQP/dev.tsv:1326     0     False  \n",
      "1641    QQP/dev.tsv:1643     0      True  \n",
      "1671    QQP/dev.tsv:1673     1     False  \n",
      "...                  ...   ...       ...  \n",
      "38912  QQP/dev.tsv:38915     1      True  \n",
      "39060  QQP/dev.tsv:39063     1     False  \n",
      "39146  QQP/dev.tsv:39149     0     False  \n",
      "39154  QQP/dev.tsv:39157     0     False  \n",
      "39176  QQP/dev.tsv:39179     0     False  \n",
      "39260  QQP/dev.tsv:39263     0     False  \n",
      "39460  QQP/dev.tsv:39463     0     False  \n",
      "39487  QQP/dev.tsv:39490     1     False  \n",
      "39546  QQP/dev.tsv:39549     1      True  \n",
      "39555  QQP/dev.tsv:39558     0      True  \n",
      "39586  QQP/dev.tsv:39589     0     False  \n",
      "39681  QQP/dev.tsv:39684     0     False  \n",
      "39695  QQP/dev.tsv:39698     1     False  \n",
      "39721  QQP/dev.tsv:39724     0     False  \n",
      "39736  QQP/dev.tsv:39739     1     False  \n",
      "39771  QQP/dev.tsv:39774     0      True  \n",
      "39777  QQP/dev.tsv:39780     1      True  \n",
      "39797  QQP/dev.tsv:39800     1     False  \n",
      "39799  QQP/dev.tsv:39802     1     False  \n",
      "39818  QQP/dev.tsv:39821     0     False  \n",
      "39879  QQP/dev.tsv:39882     1     False  \n",
      "40035  QQP/dev.tsv:40038     0     False  \n",
      "40067  QQP/dev.tsv:40070     0     False  \n",
      "40068  QQP/dev.tsv:40071     0     False  \n",
      "40097  QQP/dev.tsv:40100     0     False  \n",
      "40194  QQP/dev.tsv:40197     0     False  \n",
      "40237  QQP/dev.tsv:40240     0     False  \n",
      "40281  QQP/dev.tsv:40284     0     False  \n",
      "40324  QQP/dev.tsv:40327     0     False  \n",
      "40396  QQP/dev.tsv:40399     0     False  \n",
      "\n",
      "[780 rows x 8 columns]\n"
     ]
    }
   ],
   "source": [
    "filename = f'slices/{task_name}_{split}_4people.tsv'\n",
    "print(in_slice)\n",
    "in_slice['uid'].to_csv(filename,sep='\\t',header=False,index=False)"
   ]
  },
  {
   "cell_type": "markdown",
   "metadata": {},
   "source": [
    "**1. Number Based LF**\n",
    "\n",
    "Our model tends to fail when there are numbers involved in the two sentences. We can look for the same number being repeated in both sentences as an LF"
   ]
  },
  {
   "cell_type": "markdown",
   "metadata": {},
   "source": [
    "**2. Edit Distance Based LF**\n",
    "\n",
    "Our model tends to vote entailment when one sentence is long and the other is short. We can focus on this slice and flip the labelt o vote no entailment even when the number of words is the same."
   ]
  },
  {
   "cell_type": "code",
   "execution_count": null,
   "metadata": {},
   "outputs": [],
   "source": []
  }
 ],
 "metadata": {
  "kernelspec": {
   "display_name": "Python 3",
   "language": "python",
   "name": "python3"
  },
  "language_info": {
   "codemirror_mode": {
    "name": "ipython",
    "version": 3
   },
   "file_extension": ".py",
   "mimetype": "text/x-python",
   "name": "python",
   "nbconvert_exporter": "python",
   "pygments_lexer": "ipython3",
   "version": "3.6.7"
  }
 },
 "nbformat": 4,
 "nbformat_minor": 2
}
