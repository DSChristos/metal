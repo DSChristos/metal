{
 "cells": [
  {
   "cell_type": "code",
   "execution_count": 1,
   "metadata": {},
   "outputs": [
    {
     "ename": "SyntaxError",
     "evalue": "invalid syntax (dataset.py, line 67)",
     "output_type": "error",
     "traceback": [
      "Traceback \u001b[0;36m(most recent call last)\u001b[0m:\n",
      "  File \u001b[1;32m\"/dfs/scratch0/vschen/venv-mmtl/lib/python3.6/site-packages/IPython/core/interactiveshell.py\"\u001b[0m, line \u001b[1;32m3267\u001b[0m, in \u001b[1;35mrun_code\u001b[0m\n    exec(code_obj, self.user_global_ns, self.user_ns)\n",
      "  File \u001b[1;32m\"<ipython-input-1-f95caf6634aa>\"\u001b[0m, line \u001b[1;32m10\u001b[0m, in \u001b[1;35m<module>\u001b[0m\n    from utils import *\n",
      "\u001b[0;36m  File \u001b[0;32m\"/dfs/scratch0/vschen/metal-mmtl/metal/mmtl/debugging/utils.py\"\u001b[0;36m, line \u001b[0;32m11\u001b[0;36m, in \u001b[0;35m<module>\u001b[0;36m\u001b[0m\n\u001b[0;31m    import metal.mmtl.dataset as dataset\u001b[0m\n",
      "\u001b[0;36m  File \u001b[0;32m\"/dfs/scratch0/vschen/metal-mmtl/metal/mmtl/dataset.py\"\u001b[0;36m, line \u001b[0;32m67\u001b[0m\n\u001b[0;31m    <<<<<<< HEAD\u001b[0m\n\u001b[0m     ^\u001b[0m\n\u001b[0;31mSyntaxError\u001b[0m\u001b[0;31m:\u001b[0m invalid syntax\n"
     ]
    }
   ],
   "source": [
    "%load_ext autoreload\n",
    "%autoreload 2\n",
    "%matplotlib inline\n",
    "\n",
    "import torch \n",
    "import matplotlib.pyplot as plt\n",
    "import numpy as np\n",
    "import pandas as pd\n",
    "\n",
    "from utils import *"
   ]
  },
  {
   "cell_type": "markdown",
   "metadata": {},
   "source": [
    "### Load Model and Data"
   ]
  },
  {
   "cell_type": "code",
   "execution_count": 2,
   "metadata": {},
   "outputs": [
    {
     "name": "stdout",
     "output_type": "stream",
     "text": [
      "Using random seed: 904890.\n",
      "Loading RTE Dataset\n"
     ]
    },
    {
     "data": {
      "application/vnd.jupyter.widget-view+json": {
       "model_id": "0cb0af67a5314b0e96ecf99e16af5478",
       "version_major": 2,
       "version_minor": 0
      },
      "text/plain": [
       "HBox(children=(IntProgress(value=0, max=277), HTML(value='')))"
      ]
     },
     "metadata": {},
     "output_type": "display_data"
    },
    {
     "name": "stdout",
     "output_type": "stream",
     "text": [
      "\n",
      "creating dataframe\n"
     ]
    },
    {
     "name": "stderr",
     "output_type": "stream",
     "text": [
      "100%|██████████| 9/9 [00:01<00:00,  5.37it/s]\n"
     ]
    },
    {
     "name": "stdout",
     "output_type": "stream",
     "text": [
      "created dataframe\n",
      "Saved dataframe to:  RTE_dev_error_analysis.tsv\n"
     ]
    }
   ],
   "source": [
    "model_path = '/dfs/scratch0/chami/metal/logs/2019_02_20/RTE_21_25_34/'\n",
    "task_name = 'RTE'\n",
    "split = 'dev'\n",
    "\n",
    "#Load model and data\n",
    "model,dl = load_data_and_model(model_path,task_name,split)\n",
    "\n",
    "#Create DataFrame of Raw Data, Predictions, and Labels\n",
    "print('creating dataframe')\n",
    "df_error = create_dataframe(task_name,model,dl)\n",
    "print('created dataframe')\n",
    "df_error.head()\n",
    "\n",
    "#Save (and reload) DataFrame\n",
    "csv_path = '/'.join(model_path.split('/')[0:-1])\n",
    "filepath = f'{task_name}_{split}_error_analysis.tsv'\n",
    "save_dataframe(df_error,filepath)\n",
    "df_error = load_dataframe(filepath)"
   ]
  },
  {
   "cell_type": "markdown",
   "metadata": {},
   "source": [
    "## Sandbox for Error Analysis"
   ]
  },
  {
   "cell_type": "markdown",
   "metadata": {},
   "source": [
    "**0. Some basic statistics.**"
   ]
  },
  {
   "cell_type": "markdown",
   "metadata": {},
   "source": [
    "Confusion Matrix and Performance Metrics"
   ]
  },
  {
   "cell_type": "code",
   "execution_count": 3,
   "metadata": {},
   "outputs": [
    {
     "name": "stdout",
     "output_type": "stream",
     "text": [
      "        y=1    y=2   \n",
      " l=1    85     27    \n",
      " l=2    46     119   \n",
      "\n",
      "Accuracy: 0.736\n",
      "Precision: 0.759\n",
      "Recall: 0.649\n",
      "F1: 0.700\n"
     ]
    }
   ],
   "source": [
    "from metal.analysis import confusion_matrix\n",
    "#TODO: change to use the right function for label space change (0,1) to (1,2)\n",
    "confusion_matrix( df_error['label']+1.,1*(df_error['score']>0.5)+1., pretty_print=True)\n",
    "print()\n",
    "\n",
    "from metal.metrics import metric_score\n",
    "metric_list = ['accuracy','precision', 'recall', 'f1']\n",
    "\n",
    "for metric in metric_list:\n",
    "    score = metric_score(df_error['label']+1., 1*(df_error['score']>0.5)+1., metric, probs=df_error['score'])\n",
    "    print(f\"{metric.capitalize()}: {score:.3f}\")"
   ]
  },
  {
   "cell_type": "markdown",
   "metadata": {},
   "source": [
    "Plotting Predictions and Predicted Probabilistic Label Distribution"
   ]
  },
  {
   "cell_type": "code",
   "execution_count": 4,
   "metadata": {},
   "outputs": [
    {
     "name": "stdout",
     "output_type": "stream",
     "text": [
      "Accuracy:  0.7364620938628159\n"
     ]
    },
    {
     "data": {
      "image/png": "[encoded data removed]",
      "text/plain": [
       "<Figure size 432x288 with 1 Axes>"
      ]
     },
     "metadata": {
      "needs_background": "light"
     },
     "output_type": "display_data"
    }
   ],
   "source": [
    "from metal.contrib.visualization.analysis import (\n",
    "        plot_predictions_histogram, \n",
    "        plot_probabilities_histogram,\n",
    "        plot_calibration_histogram\n",
    "    )\n",
    "plot_calibration_histogram(df_error['score'], df_error['label'], title=\"Probablistic Label Distribution\", legend=[])"
   ]
  },
  {
   "cell_type": "code",
   "execution_count": 5,
   "metadata": {},
   "outputs": [
    {
     "data": {
      "image/png": "[encoded data removed]",
      "text/plain": [
       "<Figure size 432x288 with 1 Axes>"
      ]
     },
     "metadata": {
      "needs_background": "light"
     },
     "output_type": "display_data"
    },
    {
     "name": "stdout",
     "output_type": "stream",
     "text": [
      "Accuracy:  0.7364620938628159\n"
     ]
    },
    {
     "data": {
      "image/png": "[encoded data removed]",
      "text/plain": [
       "<Figure size 432x288 with 1 Axes>"
      ]
     },
     "metadata": {
      "needs_background": "light"
     },
     "output_type": "display_data"
    }
   ],
   "source": [
    "from metal.contrib.visualization.analysis import (\n",
    "        plot_predictions_histogram, \n",
    "        plot_probabilities_histogram,\n",
    "        plot_calibration_histogram\n",
    "    )\n",
    "\n",
    "plot_predictions_histogram((np.sign(df_error['score']-0.5)+1.)/2., df_error['label'], title=\"Label Distribution\")\n",
    "#plot_probabilities_histogram(df_error['score'], title=\"Probablistic Label Distribution\")\n",
    "plot_calibration_histogram(df_error['score'], df_error['label'], title=\"Probablistic Label Distribution\")"
   ]
  },
  {
   "cell_type": "markdown",
   "metadata": {},
   "source": [
    "**1. We want to look at examples that are \"barely\" wrong and \"barely\" right since we have hope for boosts here.**"
   ]
  },
  {
   "cell_type": "code",
   "execution_count": 6,
   "metadata": {},
   "outputs": [
    {
     "name": "stdout",
     "output_type": "stream",
     "text": [
      "\u001b[1mBARELY WRONG\u001b[0;0m\n",
      "ID:  86\n",
      "sentence1: \t the job gains mean that president bush can celebrate - albeit by a very fine margin - a net growth in jobs in the us economy in his first term in office . \n",
      "sentence2: \t more jobs were created during president bush ' s first term . \n",
      "score: \t0.0074\n",
      "label: \t1\n",
      "\n",
      "ID:  213\n",
      "sentence1: \t za ##hi ha ##was ##s , egypt ' s pre - eminent archaeologist , revealed the first ancient artifacts which may lead to the discovery of cleopatra and marc antony ' s resting place . the expedition has found amulet ##s , 22 bronze coins cast with cleopatra ' s image and her name , a royal statue , an ala ##bas ##ter mask resembling marc antony , and a statue bust of cleopatra . \" if you look at the face of mark antony , many believed he had this cl ##eft on his chin and that ' s why i thought this could be mark antony , \" said ha ##was ##s . \" in my opinion , if this tomb is found , it will be one of the most important discoveries of the 21st century because of the love between cleopatra and mark antony , and because of the sad story of their death . this is the perfect place for them to be hidden , \" said ha ##was ##s . \n",
      "sentence2: \t cleopatra and marc antony lived in egypt . \n",
      "score: \t0.9973\n",
      "label: \t0\n",
      "\n",
      "ID:  122\n",
      "sentence1: \t as regards the headquarters building , the swiss are st ##ip ##ulating that they would transfer it to the w ##to for a value of about 51 million swiss franks . \n",
      "sentence2: \t the w ##to headquarters are in switzerland . \n",
      "score: \t0.9971\n",
      "label: \t0\n",
      "\n",
      "\u001b[1mBARELY RIGHT\u001b[0;0m\n",
      "ID:  215\n",
      "sentence1: \t to ##shi ##ba , with nec corp . and san ##yo electric co . ltd . , has been promoting a technology called hd dvd while sony , along with samsung electronics co . ltd . and mats ##ush ##ita electric industrial co . ltd . ( maker of pan ##as ##onic brand products ) , has been pushing for blu - ray . \n",
      "sentence2: \t pan ##as ##onic brand products are produced by samsung electronics co . ltd . \n",
      "score: \t0.4491\n",
      "label: \t0\n",
      "\n",
      "ID:  38\n",
      "sentence1: \t amazon shares fell nearly 4 percent following the results as the company said operating income would drop as much as 42 percent in the second quarter . \n",
      "sentence2: \t shares of amazon fell 4 percent . \n",
      "score: \t0.2522\n",
      "label: \t0\n",
      "\n",
      "ID:  222\n",
      "sentence1: \t released in 1995 , tyson returned to boxing , winning the world boxing council title in 1996 . the same year , however , he lost to evan ##der holy ##field , and in a 1997 rematch bit holy ##field ' s ear , for which he was temporarily banned from boxing . \n",
      "sentence2: \t in 1996 mike tyson bit holy ##field ' s ear . \n",
      "score: \t0.4992\n",
      "label: \t0\n",
      "\n"
     ]
    }
   ],
   "source": [
    "print(\"\\033[1mBARELY WRONG\\033[0;0m\")\n",
    "for i in range(3):\n",
    "    print_barely_pred(df_error,is_incorrect=True,thresh=0.2)\n",
    "    \n",
    "print(\"\\033[1mBARELY RIGHT\\033[0;0m\")\n",
    "for i in range(3):\n",
    "    print_barely_pred(df_error,is_incorrect=False,thresh=0.15)"
   ]
  },
  {
   "cell_type": "markdown",
   "metadata": {},
   "source": [
    "**2. We also want to look at examples we got completely wrong since that could point to a systematic bias in the data/model. It could also help us find examples in the dataset that are mislabeled by human annotators**"
   ]
  },
  {
   "cell_type": "code",
   "execution_count": 7,
   "metadata": {},
   "outputs": [
    {
     "name": "stdout",
     "output_type": "stream",
     "text": [
      "\u001b[1mVERY WRONG\u001b[0;0m\n",
      "ID:  237\n",
      "sentence1: \t california voters recall gray davis and elect arnold schwarz ##ene ##gger as their governor . \n",
      "sentence2: \t california voters dumped gov . gray davis and replaced him with arnold schwarz ##ene ##gger . \n",
      "score: \t0.0480\n",
      "label: \t1\n",
      "\n",
      "ID:  270\n",
      "sentence1: \t the capital of slovenia is ljubljana , with 270 , 000 inhabitants . \n",
      "sentence2: \t slovenia has 270 , 000 inhabitants . \n",
      "score: \t0.9934\n",
      "label: \t0\n",
      "\n",
      "ID:  70\n",
      "sentence1: \t about 33 . 5 million people live in this massive con ##ur ##bation . i would guess that 95 % of the 5 , 000 officially foreign - capital firms in japan are based in tokyo . \n",
      "sentence2: \t about 33 . 5 mi ##ili ##on people live in tokyo . \n",
      "score: \t0.0056\n",
      "label: \t1\n",
      "\n"
     ]
    }
   ],
   "source": [
    "print(\"\\033[1mVERY WRONG\\033[0;0m\")\n",
    "for i in range(3):\n",
    "    print_very_wrong_pred(df_error,thresh=0.9)"
   ]
  },
  {
   "cell_type": "markdown",
   "metadata": {},
   "source": [
    "**3. To find systematic errors, we can also look for correlations between certain features and the incorrectness a la Socratic**\n",
    "\n",
    "\n",
    "We can make this way more sophisticated by perhaps using embeddings instead of this simple [BoW featurization](https://scikit-learn.org/stable/modules/generated/sklearn.feature_extraction.text.CountVectorizer.html#sklearn.feature_extraction.text.CountVectorizer)."
   ]
  },
  {
   "cell_type": "code",
   "execution_count": 8,
   "metadata": {},
   "outputs": [
    {
     "name": "stdout",
     "output_type": "stream",
     "text": [
      "\u001b[1mSYSTEMATIC EXAMPLES\u001b[0;0m\n"
     ]
    },
    {
     "name": "stderr",
     "output_type": "stream",
     "text": [
      "/dfs/scratch0/vschen/venv-mmtl/lib/python3.6/site-packages/sklearn/linear_model/logistic.py:433: FutureWarning: Default solver will be changed to 'lbfgs' in 0.22. Specify a solver to silence this warning.\n",
      "  FutureWarning)\n"
     ]
    },
    {
     "name": "stdout",
     "output_type": "stream",
     "text": [
      "award winning\n",
      "supreme court said\n",
      "foreign minister\n",
      "22 year old\n",
      "patti nson\n",
      "\n",
      "sentence1: \t rolling stone , one of the music industry ' s foremost publications , has found itself reporting false news g ##lean ##ed from a wikipedia article . the online edition of the magazine ' s rock & roll daily released an article entitled \" halle berry set to ruin reputation . . . \" on december 11 , reporting on the news that the actor had announced her intentions to release a musical album . the story was quickly picked up by the washington post , all headline news and other news agencies eager to report on the academy award - winning actress ' for ##ay into the musical world . the only trouble is , according to one of the album ' s alleged producers , scott st ##or ##ch , there is no such album . . . and he definitely hasn ' t produced three songs for it . \n",
      "sentence2: \t halle berry works with scott st ##or ##ch . \n",
      "score: \t0.9965\n",
      "label: \t0\n",
      "\n",
      "award winning\n",
      "court said\n",
      "foreign minister\n",
      "22 year old\n",
      "mark antony\n",
      "\n",
      "sentence1: \t a closely divided u . s . supreme court said on thursday its 2002 ruling that ju ##ries and not judges must impose a death sentence applies only to future cases , a decision that may affect more than 100 death row inmates . \n",
      "sentence2: \t the supreme court decided that only judges can impose the death sentence . \n",
      "score: \t0.9890\n",
      "label: \t0\n",
      "\n",
      "award winning\n",
      "supreme court said\n",
      "new government\n",
      "22 year old\n",
      "patti nson\n",
      "\n",
      "sentence1: \t new york boasts the largest number of billionaire ##s , with 40 residing in the big apple . the world ' s youngest billionaire is 22 - year - old hind hari ##ri , daughter of assassinated former lebanese prime minister raf ##ik hari ##ri . \n",
      "sentence2: \t the number of billionaire ##s increases . \n",
      "score: \t0.9920\n",
      "label: \t0\n",
      "\n"
     ]
    }
   ],
   "source": [
    "print(\"\\033[1mSYSTEMATIC EXAMPLES\\033[0;0m\")\n",
    "for i in range(3):\n",
    "    print_systematic_wrong(df_error)"
   ]
  },
  {
   "cell_type": "markdown",
   "metadata": {},
   "source": [
    "## Designing Labeling Functions"
   ]
  },
  {
   "cell_type": "markdown",
   "metadata": {},
   "source": [
    "**1. Number Based LF**\n",
    "\n",
    "Our model tends to fail when there are numbers involved in the two sentences. We can look for the same number being repeated in both sentences as an LF"
   ]
  },
  {
   "cell_type": "code",
   "execution_count": 9,
   "metadata": {},
   "outputs": [],
   "source": [
    "def LF_number(idx):\n",
    "    sentence1_nums = [int(s) for s in df_error['sentence1'][idx].split() if s.isdigit()]\n",
    "    sentence2_nums = [int(s) for s in df_error['sentence2'][idx].split() if s.isdigit()]\n",
    "    common_nums = len(set(sentence1_nums).intersection(set(sentence2_nums)))\n",
    "    \n",
    "    if (sentence1_nums == []) or (sentence2_nums == []):\n",
    "        return 0\n",
    "    \n",
    "    if common_nums > 0:\n",
    "        return 2\n",
    "    else:\n",
    "        return 1"
   ]
  },
  {
   "cell_type": "code",
   "execution_count": 10,
   "metadata": {},
   "outputs": [
    {
     "name": "stdout",
     "output_type": "stream",
     "text": [
      "sentence1: \t about 33 . 5 million people live in this massive con ##ur ##bation . i would guess that 95 % of the 5 , 000 officially foreign - capital firms in japan are based in tokyo . \n",
      "sentence2: \t about 33 . 5 mi ##ili ##on people live in tokyo . \n",
      "score: \t0.0056\n",
      "label: \t1\n",
      "\n",
      "LF_label:  1\n",
      "\n",
      "\n",
      "sentence1: \t monica meadows , a 22 - year - old model from atlanta , was shot in the shoulder on a subway car in new york city . \n",
      "sentence2: \t monica meadows , 23 , was shot in shoulder while riding a subway car in new york city \n",
      "score: \t0.9879\n",
      "label: \t0\n",
      "\n",
      "LF_label:  0\n"
     ]
    }
   ],
   "source": [
    "print_row(df_error.iloc[70])\n",
    "print(\"LF_label: \", LF_number(70)-1)\n",
    "\n",
    "print()\n",
    "print()\n",
    "print_row(df_error.iloc[254])\n",
    "print(\"LF_label: \", LF_number(254)-1)"
   ]
  },
  {
   "cell_type": "markdown",
   "metadata": {},
   "source": [
    "**2. Edit Distance Based LF**\n",
    "\n",
    "Our model tends to vote entailment when one sentence is long and the other is short. We can focus on this slice and flip the labelt o vote no entailment even when the number of words is the same."
   ]
  },
  {
   "cell_type": "code",
   "execution_count": 11,
   "metadata": {},
   "outputs": [],
   "source": [
    "def levenshteinDistance(s1, s2):\n",
    "    if len(s1) > len(s2):\n",
    "        s1, s2 = s2, s1\n",
    "\n",
    "    distances = range(len(s1) + 1)\n",
    "    for i2, c2 in enumerate(s2):\n",
    "        distances_ = [i2+1]\n",
    "        for i1, c1 in enumerate(s1):\n",
    "            if c1 == c2:\n",
    "                distances_.append(distances[i1])\n",
    "            else:\n",
    "                distances_.append(1 + min((distances[i1], distances[i1 + 1], distances_[-1])))\n",
    "        distances = distances_\n",
    "    return distances[-1]\n",
    "\n",
    "from collections import Counter\n",
    "def common_words(s1,s2):\n",
    "    s1_set = set(Counter(s1.split()))\n",
    "    s2_set = set(Counter(s2.split()))\n",
    "    return len(s1_set.intersection(s2_set))/float(min(len(s1_set),len(s2_set)))"
   ]
  },
  {
   "cell_type": "code",
   "execution_count": 12,
   "metadata": {},
   "outputs": [],
   "source": [
    "def LF_words(idx):\n",
    "    ratio = common_words(df_error['sentence1'][idx], df_error['sentence2'][idx])\n",
    "    if ratio < 0.3:\n",
    "        return 1\n",
    "    if (ratio <= 1.0) and (ratio > 0.4):\n",
    "        return 2\n",
    "    else:\n",
    "        return 0"
   ]
  },
  {
   "cell_type": "code",
   "execution_count": 13,
   "metadata": {},
   "outputs": [
    {
     "name": "stdout",
     "output_type": "stream",
     "text": [
      "sentence1: \t quebec woman and her mother accused of plotting to kill a four - year - old girl . \n",
      "sentence2: \t quebec woman murdered a four - year - old girl . \n",
      "score: \t0.0143\n",
      "label: \t0\n",
      "\n",
      "LF_label:  1\n",
      "\n",
      "\n",
      "sentence1: \t i asked myself how to understand the ' twilight ' s success . and i have come to the idea that when you really believe in something , sooner or later it will become real . so , i guess this is what happened with robert patti ##nson . last year he was just an unknown actor who ' s biggest role was in a pair of \" harry potter \" movies . now , not only that twilight is competing with ' harry potter ' , but robert patti ##nson is one of the most famous young actors who sucked $ 37 ##3 . 4 million from global box offices . so the movie about a vampire boy who falls in love with a normal girl , begun a real hysteria . and patti ##nson has a lot to do with it ! . \n",
      "sentence2: \t robert patti ##nson is a vampire . \n",
      "score: \t0.9955\n",
      "label: \t0\n",
      "\n",
      "LF_label:  1\n"
     ]
    }
   ],
   "source": [
    "print_row(df_error.iloc[150])\n",
    "print(\"LF_label: \", LF_words(150)-1)\n",
    "\n",
    "print()\n",
    "print()\n",
    "print_row(df_error.iloc[95])\n",
    "print(\"LF_label: \", LF_words(95)-1)"
   ]
  },
  {
   "cell_type": "markdown",
   "metadata": {},
   "source": [
    "### Analyze Labeling Functions"
   ]
  },
  {
   "cell_type": "code",
   "execution_count": 14,
   "metadata": {},
   "outputs": [],
   "source": [
    "L = np.zeros((np.shape(df_error)[0],2))\n",
    "for i in range(df_error.shape[0]):\n",
    "    L[i,0] = LF_number(i)\n",
    "    L[i,1] = LF_words(i)"
   ]
  },
  {
   "cell_type": "markdown",
   "metadata": {},
   "source": [
    "Labeling Function Summary"
   ]
  },
  {
   "cell_type": "code",
   "execution_count": 15,
   "metadata": {},
   "outputs": [
    {
     "data": {
      "text/html": [
       "<div>\n",
       "<style scoped>\n",
       "    .dataframe tbody tr th:only-of-type {\n",
       "        vertical-align: middle;\n",
       "    }\n",
       "\n",
       "    .dataframe tbody tr th {\n",
       "        vertical-align: top;\n",
       "    }\n",
       "\n",
       "    .dataframe thead th {\n",
       "        text-align: right;\n",
       "    }\n",
       "</style>\n",
       "<table border=\"1\" class=\"dataframe\">\n",
       "  <thead>\n",
       "    <tr style=\"text-align: right;\">\n",
       "      <th></th>\n",
       "      <th>Polarity</th>\n",
       "      <th>Coverage</th>\n",
       "      <th>Overlaps</th>\n",
       "      <th>Conflicts</th>\n",
       "      <th>Correct</th>\n",
       "      <th>Incorrect</th>\n",
       "      <th>Emp. Acc.</th>\n",
       "    </tr>\n",
       "  </thead>\n",
       "  <tbody>\n",
       "    <tr>\n",
       "      <th>0</th>\n",
       "      <td>[1.0, 2.0]</td>\n",
       "      <td>0.158845</td>\n",
       "      <td>0.155235</td>\n",
       "      <td>0.025271</td>\n",
       "      <td>22</td>\n",
       "      <td>22</td>\n",
       "      <td>0.500000</td>\n",
       "    </tr>\n",
       "    <tr>\n",
       "      <th>1</th>\n",
       "      <td>[1.0, 2.0]</td>\n",
       "      <td>0.949458</td>\n",
       "      <td>0.155235</td>\n",
       "      <td>0.025271</td>\n",
       "      <td>148</td>\n",
       "      <td>115</td>\n",
       "      <td>0.562738</td>\n",
       "    </tr>\n",
       "  </tbody>\n",
       "</table>\n",
       "</div>"
      ],
      "text/plain": [
       "     Polarity  Coverage  Overlaps  Conflicts  Correct  Incorrect  Emp. Acc.\n",
       "0  [1.0, 2.0]  0.158845  0.155235   0.025271       22         22   0.500000\n",
       "1  [1.0, 2.0]  0.949458  0.155235   0.025271      148        115   0.562738"
      ]
     },
     "execution_count": 15,
     "metadata": {},
     "output_type": "execute_result"
    }
   ],
   "source": [
    "from metal.analysis import lf_summary\n",
    "from scipy.sparse import csr_matrix    \n",
    "\n",
    "L_sparse = csr_matrix(L)\n",
    "lf_summary(L_sparse,Y=df_error.label+1)"
   ]
  },
  {
   "cell_type": "code",
   "execution_count": 16,
   "metadata": {},
   "outputs": [
    {
     "name": "stdout",
     "output_type": "stream",
     "text": [
      "Percentage Corrected by LF_num:  6.8493150684931505\n",
      "Percentage Corrected by LF_words:  31.506849315068493\n"
     ]
    }
   ],
   "source": [
    "incorrect = set(np.where(df_error.is_wrong == True)[0])\n",
    "LF1_set = set(np.where(L[:,0]-1. == df_error.label)[0])\n",
    "LF2_set = set(np.where(L[:,1]-1. == df_error.label)[0])\n",
    "\n",
    "print(\"Percentage Corrected by LF_num: \", 100.*len(LF1_set.intersection(incorrect))/float(len(incorrect)))\n",
    "print(\"Percentage Corrected by LF_words: \", 100.*len(LF2_set.intersection(incorrect))/float(len(incorrect)))"
   ]
  },
  {
   "cell_type": "markdown",
   "metadata": {},
   "source": [
    "## Using Model for Task A to Predict on Train Set for Task B"
   ]
  },
  {
   "cell_type": "markdown",
   "metadata": {},
   "source": [
    "We start with QNLI and RTE since those are both about `entailment` and `not_entailment`"
   ]
  },
  {
   "cell_type": "code",
   "execution_count": 46,
   "metadata": {},
   "outputs": [],
   "source": [
    "# model config (needs to be the same as parameters used for training)\n",
    "bert_model = \"bert-base-uncased\"\n",
    "max_len = 256\n",
    "bert_output_dim = 768\n",
    "max_datapoints = -1\n",
    "dl_kwargs = {\"batch_size\": 32, \"shuffle\": False}"
   ]
  },
  {
   "cell_type": "code",
   "execution_count": 47,
   "metadata": {},
   "outputs": [],
   "source": [
    "# 02/19/19\n",
    "model_paths = {\n",
    "    'MNLI_SAN': '/dfs/scratch1/senwu/mmtl/logs/checkpoints/17-2-2019/MNLI_SAN_02_27_41/',\n",
    "    'QNLI': '/dfs/scratch0/mccreery/mmtl/logs/2019_02_19/QNLI_09_56_46/',\n",
    "    'STSB': '/dfs/scratch0/mccreery/mmtl/logs/2019_02_19/STSB_09_46_46/',\n",
    "    'SST2': '/dfs/scratch0/mccreery/mmtl/logs/2019_02_19/SST2_06_01_35/',\n",
    "    'COLA': '/dfs/scratch0/mccreery/mmtl/logs/2019_02_19/COLA_05_49_39/',\n",
    "    'RTE':'/dfs/scratch0/mccreery/mmtl/logs/2019_02_19/RTE_06_32_37/',\n",
    "    'WNLI': '/dfs/scratch0/mccreery/mmtl/logs/2019_02_19/WNLI_06_38_32/',\n",
    "    'QQP': '/dfs/scratch0/mccreery/mmtl/logs/2019_02_19/QQP_06_47_48/',\n",
    "    'MRPC':'/dfs/scratch0/mccreery/mmtl/logs/2019_02_19/MRPC_09_40_25/'\n",
    "}"
   ]
  },
  {
   "cell_type": "code",
   "execution_count": 102,
   "metadata": {},
   "outputs": [
    {
     "name": "stdout",
     "output_type": "stream",
     "text": [
      "Using random seed: 520674.\n",
      "Loading QNLI Dataset\n"
     ]
    },
    {
     "data": {
      "application/vnd.jupyter.widget-view+json": {
       "model_id": "866d36e585fc4ca0a69da67ec4c020b9",
       "version_major": 2,
       "version_minor": 0
      },
      "text/plain": [
       "HBox(children=(IntProgress(value=0, max=5463), HTML(value='')))"
      ]
     },
     "metadata": {},
     "output_type": "display_data"
    },
    {
     "name": "stdout",
     "output_type": "stream",
     "text": [
      "Using random seed: 797207.\n",
      "Loading RTE Dataset\n"
     ]
    },
    {
     "data": {
      "application/vnd.jupyter.widget-view+json": {
       "model_id": "82489b1ae80e40c28587762dfa4604b2",
       "version_major": 2,
       "version_minor": 0
      },
      "text/plain": [
       "HBox(children=(IntProgress(value=0, max=2490), HTML(value='')))"
      ]
     },
     "metadata": {},
     "output_type": "display_data"
    },
    {
     "name": "stderr",
     "output_type": "stream",
     "text": [
      "100%|██████████| 78/78 [00:00<00:00, 26170.36it/s]\n"
     ]
    }
   ],
   "source": [
    "source_task_name = 'QNLI'\n",
    "target_task_name = 'RTE'\n",
    "\n",
    "#create source task\n",
    "source_task = create_tasks(\n",
    "    task_names=[source_task_name],\n",
    "    bert_model=bert_model,\n",
    "    max_len=max_len,\n",
    "    dl_kwargs=dl_kwargs,\n",
    "    bert_output_dim=bert_output_dim,\n",
    "    splits=['test'],\n",
    "    max_datapoints=max_datapoints,\n",
    ")[0]\n",
    "\n",
    "# load source model weights \n",
    "source_model_path = os.path.join(model_paths[source_task_name], 'best_model.pth')\n",
    "source_model = MetalModel([source_task], verbose=False, device=0)\n",
    "source_model.load_weights(source_model_path)\n",
    "source_model.eval()\n",
    "    \n",
    "    \n",
    "#create target task\n",
    "target_task = create_tasks(\n",
    "    task_names=[target_task_name],\n",
    "    bert_model=bert_model,\n",
    "    max_len=max_len,\n",
    "    dl_kwargs=dl_kwargs,\n",
    "    bert_output_dim=bert_output_dim,\n",
    "    splits=['train'],\n",
    "    max_datapoints=max_datapoints,\n",
    ")[0]\n",
    "\n",
    "# predict on target task train set\n",
    "target_task.name = source_task_name #HACK FOR LINE 225 in METAL_MODEL.PY\n",
    "Y, Y_probs, Y_preds = source_model._predict_probs(\n",
    "    target_task, split='train', return_preds=True)\n",
    "\n",
    "# true labels for target task train set\n",
    "Y_true = []\n",
    "for x, y in tqdm(list(target_task.data_loaders['train'])):\n",
    "    Y_true += list(y.numpy())"
   ]
  },
  {
   "cell_type": "code",
   "execution_count": 103,
   "metadata": {},
   "outputs": [
    {
     "name": "stdout",
     "output_type": "stream",
     "text": [
      "Accuracy of QNLI model on RTE: 0.6487341772151899\n"
     ]
    }
   ],
   "source": [
    "confident_idx = list(np.where(np.abs(Y_probs[:,0]-0.5) >= 0.4)[0])\n",
    "Y_true = np.array(Y_true)\n",
    "print (f'Accuracy of {source_task_name} model on {target_task_name}: {np.mean(Y_preds[confident_idx] == Y_true[confident_idx])}')"
   ]
  },
  {
   "cell_type": "code",
   "execution_count": null,
   "metadata": {},
   "outputs": [],
   "source": []
  }
 ],
 "metadata": {
  "kernelspec": {
   "display_name": "Python 3",
   "language": "python",
   "name": "python3"
  },
  "language_info": {
   "codemirror_mode": {
    "name": "ipython",
    "version": 3
   },
   "file_extension": ".py",
   "mimetype": "text/x-python",
   "name": "python",
   "nbconvert_exporter": "python",
   "pygments_lexer": "ipython3",
   "version": "3.6.7"
  }
 },
 "nbformat": 4,
 "nbformat_minor": 2
}
