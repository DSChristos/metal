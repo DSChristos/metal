{
 "cells": [
  {
   "cell_type": "markdown",
   "metadata": {},
   "source": [
    "### Load all examples\n",
    " * `generate_uids=True`: return UIDs per example\n",
    " * `tokenizer=None`: return raw (untokenized) examples"
   ]
  },
  {
   "cell_type": "code",
   "execution_count": 1,
   "metadata": {},
   "outputs": [],
   "source": [
    "from metal.mmtl.utils.preprocess import load_tsv, get_task_tsv_config"
   ]
  },
  {
   "cell_type": "code",
   "execution_count": 2,
   "metadata": {},
   "outputs": [
    {
     "data": {
      "application/vnd.jupyter.widget-view+json": {
       "model_id": "087959d15dee489da9e5d12b77f33fbf",
       "version_major": 2,
       "version_minor": 0
      },
      "text/plain": [
       "HBox(children=(IntProgress(value=0, max=2490), HTML(value='')))"
      ]
     },
     "metadata": {},
     "output_type": "display_data"
    },
    {
     "name": "stdout",
     "output_type": "stream",
     "text": [
      "\n"
     ]
    }
   ],
   "source": [
    "config = get_task_tsv_config('RTE', 'train')\n",
    "    \n",
    "(examples, labels), uids = load_tsv(\n",
    "    tsv_path=config[\"tsv_path\"],\n",
    "    sent1_idx=config[\"sent1_idx\"],\n",
    "    sent2_idx=config[\"sent2_idx\"],\n",
    "    label_idx=config[\"label_idx\"],\n",
    "    skip_rows=config[\"skip_rows\"],\n",
    "    tokenizer=None,\n",
    "    delimiter=\"\\t\",\n",
    "    label_fn=config[\"label_fn\"],\n",
    "    generate_uids=True\n",
    ")\n",
    "\n",
    "assert len(examples) == len(labels) == len(uids)"
   ]
  },
  {
   "cell_type": "markdown",
   "metadata": {},
   "source": [
    "### Define Proper Nouns based on Entities\n",
    "Ref: https://spacy.io/api/annotation#named-entities"
   ]
  },
  {
   "cell_type": "code",
   "execution_count": 3,
   "metadata": {},
   "outputs": [],
   "source": [
    "import spacy\n",
    "nlp = spacy.load('en')\n",
    "\n",
    "PROPER_NOUN_LABELS = [\n",
    "    \"PERSON\", \"NORP\", \"FAC\", \"ORG\", \"GPE\", \"LOC\", \n",
    "    \"PRODUCT\", \"EVENT\", \"WORK_OF_ART\", \"LAW\"\n",
    "]\n",
    "\n",
    "def get_proper_nouns(sent):\n",
    "    return [ent for ent in nlp(sent).ents\n",
    "                if ent.label_ in PROPER_NOUN_LABELS]"
   ]
  },
  {
   "cell_type": "markdown",
   "metadata": {},
   "source": [
    "### Tag all Proper Nouns"
   ]
  },
  {
   "cell_type": "code",
   "execution_count": 4,
   "metadata": {},
   "outputs": [],
   "source": [
    "from tagger import Tagger\n",
    "tagger = Tagger(verbose=False)"
   ]
  },
  {
   "cell_type": "code",
   "execution_count": 5,
   "metadata": {},
   "outputs": [
    {
     "name": "stdout",
     "output_type": "stream",
     "text": [
      "RTE/train.tsv:2\n",
      "{'sent1': 'No Weapons of Mass Destruction Found in Iraq Yet.', 'sent2': 'Weapons of Mass Destruction Found in Iraq.'} [Iraq, Iraq]\n",
      "\n",
      "RTE/train.tsv:102\n",
      "{'sent1': \"For lunch I went to Cipriani. The good thing about Cipriani is that it's all Italian. Every single person is Italian. Even the American sommelier is Italian. Everybody speaks Italian. It's a good feeling. I consider Cipriani one of the most refined services that I've ever had in a restaurant. For lunch I had spaghetti a la chitarra with Amatriciana sauce. I had beef tartar. I had fried seafood, mixed. I had also the fresh pasta with the duckling ragú. It was outstanding. Then I got a plate of Parmesan with green olives and I got the whole roasted branzino. It was me and another person. We had several glasses of wine. We didn't get dessert; we had a glass too much of wine, so we were very full. We stayed there like an hour just finishing the wine because my friend ordered a bottle.\", 'sent2': 'Amatriciana is a sauce.'} [Cipriani, Cipriani, Italian, Italian, American, Italian, Italian, Cipriani, Amatriciana, Parmesan, Amatriciana]\n",
      "\n",
      "RTE/train.tsv:302\n",
      "{'sent1': \"The borrowers must form five-member groups that, along with the bank's field workers, closely supervise the loans. Peer pressure substitutes for collateral because the group's first two borrowers have to start repaying the principal plus interest over a six-week period before the other members can take out loans. The interest rate is fixed at 16 percent.\", 'sent2': 'The first two borrowers must start repaying the principal plus interest over a six-week period.'} [Peer]\n",
      "\n",
      "RTE/train.tsv:402\n",
      "{'sent1': 'Forty-five percent of the bills examined were bipartisan, and 85 percent of the reviewed bills had Republican lead sponsors. 8221; Small business owners are disappointed by the Republican track record, particularly the lack of productivity in the Senate.', 'sent2': 'The Senate is the least productive.'} [Republican, Republican, Senate, Senate]\n",
      "\n",
      "RTE/train.tsv:502\n",
      "{'sent1': 'Zhao, who died at 85, was a reformer who was removed from office, and imprisoned, in 1989 after denouncing the use of force against student protesters in Tiananmen Square.', 'sent2': 'Zhao was arrested in 1989.'} [Zhao, Tiananmen Square, Zhao]\n",
      "\n",
      "RTE/train.tsv:602\n",
      "{'sent1': 'After graduating in 1977, Gallager chose to accept a full scholarship to play football for Temple University.', 'sent2': 'Gallager attended Temple University.'} [Gallager, Temple University, Gallager, Temple University]\n",
      "\n",
      "RTE/train.tsv:702\n",
      "{'sent1': 'Pratibha Patil has won the 12th Presidential Elections of the Republic of India, becoming the first woman president of the second most populous country in the world. Patil, 72, previously governor of the state of Rajasthan, had support from the governing coalition. She won approximately two thirds of the vote, almost double the number of votes of her nearest rival Bhairon Singh Shekhawat, who resigned as Vice-President after losing the poll.', 'sent2': 'Chile has a female President.'} [Pratibha Patil, Presidential Elections, the Republic of India, Rajasthan, Bhairon Singh Shekhawat, Chile]\n",
      "\n",
      "RTE/train.tsv:802\n",
      "{'sent1': \"The Santa Barbara Airlines plane took off just before dusk from the city of Mérida en route to Simón Bolívar International Airport outside the capital city of Caracas. Noel Marquez, director of Venezuela's emergency management agency in Mérida, said the plane has failed to contact control towers. Civil Defense chief General Antonio Rivero told reporters that it is unknown whether or not the plane crashed or is simply missing.\", 'sent2': 'A plane with 46 passengers has not contacted control towers.'} [Santa Barbara Airlines, Mérida, Simón Bolívar International Airport, Caracas, Noel Marquez, Venezuela, Mérida, Civil Defense, General Antonio Rivero]\n",
      "\n",
      "RTE/train.tsv:902\n",
      "{'sent1': 'President Bush returned to the Mountain State to celebrate Independence Day, telling a spirited crowd yesterday that on its 228th birthday the nation is \"moving forward with confidence and strength.\"', 'sent2': 'Independence Day was a popular movie.'} [Bush, the Mountain State, Independence Day, 228th, Independence Day]\n",
      "\n",
      "RTE/train.tsv:1002\n",
      "{'sent1': \"Felipe González Márquez (born March 5, 1942) is a Spanish socialist politician. He was the General Secretary of the Spanish Socialist Workers' Party (PSOE) from 1974 to 1997.\", 'sent2': 'Felipe González is the President of Spain.'} [Felipe González Márquez, Spanish, the Spanish Socialist Workers' Party, Felipe González, Spain]\n",
      "\n",
      "RTE/train.tsv:1102\n",
      "{'sent1': \"After leaving Time-Life, Shuker joined the Public Broadcast Laboratory, forerunner of PBS, and participated in two pioneering films -- 'The Chair,' about an attorney trying to save a condemned man, and 'Free At Last,' a 90-minute documentary about Dr. Martin Luther King Jr. that by chance was being made when King was murdered in 1968.\", 'sent2': 'Martin Luther King was murdered in 1968.'} [Time-Life, Shuker, the Public Broadcast Laboratory, PBS, Chair, Martin Luther King Jr., Martin Luther King]\n",
      "\n",
      "RTE/train.tsv:1202\n",
      "{'sent1': 'Then the most important part of the day begins as Muslims go to the mosque, their special place of worship.', 'sent2': 'Muslims pray at the mosque.'} [Muslims, Muslims]\n",
      "\n",
      "RTE/train.tsv:1302\n",
      "{'sent1': 'They were killed on the same day, in the same way. One of the deaths captured the attention of a city and spurred the Los Angeles Police Department into overdrive. The other slipped by unnoticed, leaving a lone detective with little more to go on than hope. Adrianna Bachan died first. Shortly after 3 a.m. March 29, Bachan, 18, and a friend stood at the intersection of Jefferson Boulevard and Hoover Street on the edge of the USC campus. Returning home after a night out, the two students stepped into the crosswalk and started across Jefferson.', 'sent2': 'Adrianna Bachan lived in the USC campus.'} [the Los Angeles Police Department, Adrianna Bachan, Bachan, Jefferson Boulevard, Hoover Street, Jefferson, Adrianna Bachan]\n",
      "\n",
      "RTE/train.tsv:1402\n",
      "{'sent1': 'John and Frances Galyean are partners in life and now both share a passion for photography. The Galyeans, married for more than 46 years, have been involved in photography since 1999.', 'sent2': \"John Galyean's wife is called Frances.\"} [John, Frances Galyean, Galyeans, John Galyean's, Frances]\n",
      "\n",
      "RTE/train.tsv:1502\n",
      "{'sent1': 'On Friday, James appeared in a Santa Barbara, California court for arraignment on charges of kidnapping and murdering a 15-year-old boy. James will plead not guilty, according to his attorney, James E. Blatt. Blatt also criticized the portrait prosecutors had painted of his client. \"Have you ever seen a 20 year-old mastermind? He was not the shooter. He was not at the scene,\" said Blatt.', 'sent2': 'James E. Blatt killed a 15-year-old-boy in California.'} [James, Santa Barbara, California, James, James E. Blatt, Blatt, Blatt, James E. Blatt, California]\n",
      "\n",
      "RTE/train.tsv:1602\n",
      "{'sent1': 'The county Board of Supervisors accepted more than $700,000 in state grants Tuesday to extend a program that provides the controversial drug azidothymidine -- AZT -- to low-income residents with AIDS or AIDS-related illnesses.', 'sent2': 'AZT is an AIDS treatment.'} [The county Board of Supervisors]\n",
      "\n",
      "RTE/train.tsv:1702\n",
      "{'sent1': \"Standing off to one side, seeing all and hearing Mozart's music, which only he understands to be a manifestation of God's love, is Antonio Salieri, the ambitious Italian-born composer and conductor, a favorite at the imperial court in Vienna in 1781.\", 'sent2': 'Wolfgang Amadeus Mozart was born in Salzburg.'} [Mozart, God, Antonio Salieri, Italian, Vienna, Wolfgang Amadeus Mozart, Salzburg]\n",
      "\n",
      "RTE/train.tsv:1802\n",
      "{'sent1': 'Typhoon Xangsane lashed the Philippine capital on Thursday, grounding flights, halting vessels and closing schools and markets after triggering fatal flash floods in the centre of the country.', 'sent2': 'A typhoon batters the Philippines.'} [Xangsane, Philippine, Philippines]\n",
      "\n",
      "RTE/train.tsv:1902\n",
      "{'sent1': \"Medium-size black holes actually do exist, according to the latest findings from NASA's Hubble Space Telescope, but scientists had to look in some unexpected places to find them. The previously undiscovered black holes provide an important link that sheds light on the way in which black holes grow.\", 'sent2': 'Hubble discovers black holes.'} [NASA, Hubble Space Telescope]\n",
      "\n"
     ]
    },
    {
     "name": "stdout",
     "output_type": "stream",
     "text": [
      "RTE/train.tsv:2002\n",
      "{'sent1': 'Brought under Ottoman rule in the 16th century, Jordan has been led only since the 1920s by Hashemite rulers, a family whose roots are in present-day Saudi Arabia.', 'sent2': 'The Hashemite dynasty rules Jordan.'} [Ottoman, Jordan, Hashemite, Saudi Arabia, Jordan]\n",
      "\n",
      "RTE/train.tsv:2102\n",
      "{'sent1': 'When she was barely 20 years old, Dutch singer Edsilia Rombley got her first large taste of international acclaim. Already a winner of the smaller imitation contest Soundmix Show, she decided to shoot higher. With a great deal of determination, she performed in front of hundreds of millions of television viewers at the 1998 Eurovision Song Contest in Birmingham, United Kingdom. Her song, the R&B flavored \"Hemel en aarde\" (Heaven and earth), placed fourth and gave her country their highest placing at Eurovision since their last win in 1975. No Dutch contestant after her has been able to place similarly.', 'sent2': 'Edsilia Rombley is a Dutch singer.'} [Dutch, Edsilia Rombley, Soundmix Show, Eurovision Song Contest, Birmingham, United Kingdom, R&B, Hemel, Dutch, Edsilia Rombley, Dutch]\n",
      "\n",
      "RTE/train.tsv:2202\n",
      "{'sent1': \"The Democrats' success in the 2006 elections means changes at the top in the House and Senate.\", 'sent2': 'Democrats won the 2006 elections.'} [Democrats, House, Senate, Democrats]\n",
      "\n",
      "RTE/train.tsv:2302\n",
      "{'sent1': \"Kaspars Ruklis, press official at the United States Embassy, told the Baltic News Service that Mrs. Bush chose to visit Latvia's Occupation.\", 'sent2': 'Kaspars Ruklis works for the United States Embassy.'} [Kaspars Ruklis, the United States Embassy, the Baltic News Service, Bush, Latvia, Occupation, Kaspars Ruklis, the United States Embassy]\n",
      "\n",
      "RTE/train.tsv:2402\n",
      "{'sent1': \"Budapest is Europe's largest spa town; there are more than 100 hot springs that spout from Buda's limestone bedrock.\", 'sent2': 'There are numerous underground hot springs that contain radium and other minerals, and, since Roman times, bathers have sought them out for their supposed healing properties.'} [Budapest, Europe, Buda, Roman]\n",
      "\n"
     ]
    }
   ],
   "source": [
    "for idx, (ex, uid) in enumerate(zip(examples, uids)): \n",
    "    proper_nouns = get_proper_nouns(ex['sent1']) \\\n",
    "        + get_proper_nouns(ex['sent2'])\n",
    "\n",
    "    if len(proper_nouns) > 0:\n",
    "        tagger.add_tag(uid, 'proper_nouns')\n",
    "        if idx % 100 == 0:\n",
    "            print(uid)\n",
    "            print(ex, proper_nouns)\n",
    "            print()"
   ]
  },
  {
   "cell_type": "code",
   "execution_count": 7,
   "metadata": {},
   "outputs": [
    {
     "data": {
      "text/plain": [
       "2314"
      ]
     },
     "execution_count": 7,
     "metadata": {},
     "output_type": "execute_result"
    }
   ],
   "source": [
    "len(tagger.get_uids(\"proper_nouns\"))"
   ]
  },
  {
   "cell_type": "code",
   "execution_count": null,
   "metadata": {},
   "outputs": [],
   "source": []
  }
 ],
 "metadata": {
  "kernelspec": {
   "display_name": "Python 3",
   "language": "python",
   "name": "python3"
  },
  "language_info": {
   "codemirror_mode": {
    "name": "ipython",
    "version": 3
   },
   "file_extension": ".py",
   "mimetype": "text/x-python",
   "name": "python",
   "nbconvert_exporter": "python",
   "pygments_lexer": "ipython3",
   "version": "3.6.7"
  }
 },
 "nbformat": 4,
 "nbformat_minor": 2
}
