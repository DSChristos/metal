{
 "cells": [
  {
   "cell_type": "code",
   "execution_count": 1,
   "metadata": {},
   "outputs": [],
   "source": [
    "%load_ext autoreload\n",
    "%autoreload 2\n",
    "%matplotlib inline"
   ]
  },
  {
   "cell_type": "code",
   "execution_count": 2,
   "metadata": {},
   "outputs": [
    {
     "name": "stdout",
     "output_type": "stream",
     "text": [
      "Better speed can be achieved with apex installed from https://www.github.com/nvidia/apex.\n"
     ]
    }
   ],
   "source": [
    "import os\n",
    "\n",
    "import torch\n",
    "import torch.nn as nn\n",
    "from torch.utils.data import DataLoader, TensorDataset\n",
    "\n",
    "from metal.end_model import EndModel\n",
    "from metal.mmtl.modules import BertEncoder\n",
    "from metal.mmtl.metal_model import MetalModel\n",
    "from metal.mmtl.dataset import QNLI\n",
    "from metal.mmtl.task import Task\n",
    "from metal.mmtl.trainer import MultitaskTrainer"
   ]
  },
  {
   "cell_type": "markdown",
   "metadata": {},
   "source": [
    "### Config"
   ]
  },
  {
   "cell_type": "code",
   "execution_count": 3,
   "metadata": {},
   "outputs": [],
   "source": [
    "bert_model = 'bert-base-uncased'\n",
    "bert_model_output_shape = 768\n",
    "max_len = 512\n",
    "batch_size = 32\n",
    "lr = 1e-5\n",
    "n_epochs = 1"
   ]
  },
  {
   "cell_type": "code",
   "execution_count": 4,
   "metadata": {},
   "outputs": [
    {
     "name": "stderr",
     "output_type": "stream",
     "text": [
      "100%|██████████| 5463/5463 [00:07<00:00, 773.54it/s]\n",
      "100%|██████████| 5463/5463 [00:06<00:00, 792.79it/s]\n"
     ]
    }
   ],
   "source": [
    "dataloaders = {}\n",
    "for split in ['test', 'dev']: # 'train'\n",
    "    dataset = QNLI(\n",
    "        split=split,\n",
    "        bert_model=bert_model,\n",
    "        max_len=max_len\n",
    "    )\n",
    "    dataloaders[split] = dataset.get_dataloader(batch_size=batch_size, shuffle=True)"
   ]
  },
  {
   "cell_type": "code",
   "execution_count": null,
   "metadata": {},
   "outputs": [],
   "source": [
    "bert_encoder = BertEncoder(bert_model)\n",
    "ranking_head = nn.Linear(in_features=bert_model_output_shape, out_features=2, bias=False)\n",
    "ranking_task = Task(\"ranking\",\n",
    "                    [dataloaders['dev'], dataloaders['dev'], None],\n",
    "                    bert_encoder,\n",
    "                    ranking_head)"
   ]
  },
  {
   "cell_type": "code",
   "execution_count": null,
   "metadata": {
    "scrolled": false
   },
   "outputs": [],
   "source": [
    "tasks = [ranking_task]\n",
    "model = MetalModel(tasks, verbose=False)\n",
    "trainer = MultitaskTrainer()\n",
    "trainer.train_model(model, tasks, n_epochs=n_epochs, lr=lr, progress_bar=True)"
   ]
  },
  {
   "cell_type": "code",
   "execution_count": null,
   "metadata": {
    "scrolled": false
   },
   "outputs": [],
   "source": [
    "for batch in dataloaders['dev']:\n",
    "    X, Y = batch\n",
    "    print(model(X, ['foo_task']))\n",
    "    print(model.calculate_loss(X, Y, ['foo_task']))    \n",
    "    print(model.calculate_output(X, ['foo_task']))    \n",
    "    break"
   ]
  },
  {
   "cell_type": "code",
   "execution_count": null,
   "metadata": {},
   "outputs": [],
   "source": []
  }
 ],
 "metadata": {
  "kernelspec": {
   "display_name": "(metal)",
   "language": "python",
   "name": "metal"
  },
  "language_info": {
   "codemirror_mode": {
    "name": "ipython",
    "version": 3
   },
   "file_extension": ".py",
   "mimetype": "text/x-python",
   "name": "python",
   "nbconvert_exporter": "python",
   "pygments_lexer": "ipython3",
   "version": "3.6.7"
  }
 },
 "nbformat": 4,
 "nbformat_minor": 2
}
