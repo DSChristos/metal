{
 "cells": [
  {
   "cell_type": "markdown",
   "metadata": {},
   "source": [
    "# Metal CDR Relation Extraction "
   ]
  },
  {
   "cell_type": "code",
   "execution_count": 1,
   "metadata": {},
   "outputs": [],
   "source": [
    "%load_ext autoreload\n",
    "%autoreload 2\n",
    "%matplotlib inline"
   ]
  },
  {
   "cell_type": "code",
   "execution_count": 2,
   "metadata": {},
   "outputs": [],
   "source": [
    "import os\n",
    "import sys\n",
    "import metal\n",
    "import torch\n",
    "from torch.utils.data import Dataset, DataLoader"
   ]
  },
  {
   "cell_type": "code",
   "execution_count": 3,
   "metadata": {},
   "outputs": [
    {
     "name": "stdout",
     "output_type": "stream",
     "text": [
      "PyTorch:  0.4.1\n",
      "MeTaL:    0.3.2\n",
      "Python:   3.7.0 (default, Oct  9 2018, 10:31:47) \n",
      "[GCC 7.3.0]\n",
      "Python:   sys.version_info(major=3, minor=7, micro=0, releaselevel='final', serial=0)\n"
     ]
    }
   ],
   "source": [
    "print('PyTorch: ', torch.__version__)\n",
    "print('MeTaL:   ', metal.__version__)\n",
    "print('Python:  ', sys.version)\n",
    "print('Python:  ', sys.version_info)"
   ]
  },
  {
   "cell_type": "markdown",
   "metadata": {},
   "source": [
    "## Initalize CDR Dataset"
   ]
  },
  {
   "cell_type": "code",
   "execution_count": 4,
   "metadata": {},
   "outputs": [
    {
     "name": "stdout",
     "output_type": "stream",
     "text": [
      "Connected to sqlite:////lfs/raiders2/0/jdunnmon/repos/metal/metal/contrib/backends/cdr.db\n",
      "Connected to sqlite:////lfs/raiders2/0/jdunnmon/repos/metal/metal/contrib/backends/cdr.db\n",
      "Connected to sqlite:////lfs/raiders2/0/jdunnmon/repos/metal/metal/contrib/backends/cdr.db\n",
      "[TRAIN] 8272\n",
      "[DEV]   888\n",
      "[TEST]  4620\n"
     ]
    }
   ],
   "source": [
    "from metal.contrib.backends.wrapper import SnorkelDataset\n",
    "import os\n",
    "\n",
    "db_conn_str   = os.path.join(os.getcwd(),\"cdr.db\")\n",
    "candidate_def = ['ChemicalDisease', ['chemical', 'disease']]\n",
    "\n",
    "train, dev, test = SnorkelDataset.splits(db_conn_str, \n",
    "                                         candidate_def, \n",
    "                                         max_seq_len=125)\n",
    "\n",
    "print(f'[TRAIN] {len(train)}')\n",
    "print(f'[DEV]   {len(dev)}')\n",
    "print(f'[TEST]  {len(test)}')"
   ]
  },
  {
   "cell_type": "markdown",
   "metadata": {},
   "source": [
    "## Train End Model (Random Initalized Embeddings)"
   ]
  },
  {
   "cell_type": "code",
   "execution_count": 5,
   "metadata": {},
   "outputs": [
    {
     "name": "stdout",
     "output_type": "stream",
     "text": [
      "Using randomly initialized embeddings.\n",
      "Embeddings shape = (9946, 50)\n",
      "The embeddings are NOT FROZEN\n",
      "Using lstm_reduction = 'attention'\n",
      "\n",
      "Network architecture:\n",
      "Sequential(\n",
      "  (0): Sequential(\n",
      "    (0): LSTMModule(\n",
      "      (embeddings): Embedding(9946, 50)\n",
      "      (lstm): LSTM(50, 100, batch_first=True, bidirectional=True)\n",
      "    )\n",
      "    (1): ReLU()\n",
      "  )\n",
      "  (1): Linear(in_features=200, out_features=2, bias=True)\n",
      ")\n",
      "\n"
     ]
    }
   ],
   "source": [
    "from metal.end_model import EndModel\n",
    "from metal.modules import LSTMModule\n",
    "use_cuda = torch.cuda.is_available()\n",
    "\n",
    "lstm = LSTMModule(embed_size=50, \n",
    "                  hidden_size=100, \n",
    "                  vocab_size=train.word_dict.len(),\n",
    "                  lstm_reduction='attention', \n",
    "                  dropout=0, \n",
    "                  num_layers=1, \n",
    "                  freeze=False)\n",
    "\n",
    "end_model = EndModel([200, 2], input_module=lstm, seed=123, use_cuda=use_cuda)\n",
    "\n",
    "end_model.config['train_config']['optimizer_config']['optimizer_common']['lr'] = 0.01\n",
    "end_model.config['train_config']['validation_metric'] = 'f1'\n",
    "end_model.config['train_config']['batch_size'] = 32\n",
    "end_model.config['train_config']['n_epochs'] = 5\n"
   ]
  },
  {
   "cell_type": "code",
   "execution_count": 6,
   "metadata": {
    "scrolled": true
   },
   "outputs": [
    {
     "name": "stdout",
     "output_type": "stream",
     "text": [
      "Using GPU...\n"
     ]
    },
    {
     "name": "stderr",
     "output_type": "stream",
     "text": [
      "100%|██████████| 259/259 [01:07<00:00,  4.41it/s, avg_loss=1.14] \n"
     ]
    },
    {
     "name": "stdout",
     "output_type": "stream",
     "text": [
      "Saving model at iteration 0 with best score 0.565\n",
      "[E:0]\tTrain Loss: 0.569\tDev score: 0.565\n"
     ]
    },
    {
     "name": "stderr",
     "output_type": "stream",
     "text": [
      "100%|██████████| 259/259 [01:07<00:00,  4.48it/s, avg_loss=0.727]\n"
     ]
    },
    {
     "name": "stdout",
     "output_type": "stream",
     "text": [
      "Saving model at iteration 1 with best score 0.597\n",
      "[E:1]\tTrain Loss: 0.364\tDev score: 0.597\n"
     ]
    },
    {
     "name": "stderr",
     "output_type": "stream",
     "text": [
      "100%|██████████| 259/259 [01:07<00:00,  4.33it/s, avg_loss=0.438]\n"
     ]
    },
    {
     "name": "stdout",
     "output_type": "stream",
     "text": [
      "Saving model at iteration 2 with best score 0.610\n",
      "[E:2]\tTrain Loss: 0.220\tDev score: 0.610\n"
     ]
    },
    {
     "name": "stderr",
     "output_type": "stream",
     "text": [
      "100%|██████████| 259/259 [01:05<00:00,  4.68it/s, avg_loss=0.268]\n"
     ]
    },
    {
     "name": "stdout",
     "output_type": "stream",
     "text": [
      "[E:3]\tTrain Loss: 0.134\tDev score: 0.600\n"
     ]
    },
    {
     "name": "stderr",
     "output_type": "stream",
     "text": [
      "100%|██████████| 259/259 [01:07<00:00,  4.47it/s, avg_loss=0.19]  \n"
     ]
    },
    {
     "name": "stdout",
     "output_type": "stream",
     "text": [
      "[E:4]\tTrain Loss: 0.095\tDev score: 0.603\n",
      "Restoring best model from iteration 2 with score 0.610\n",
      "Finished Training\n",
      "Accuracy: 0.702\n",
      "        y=1    y=2   \n",
      " l=1    207    176   \n",
      " l=2    89     416   \n"
     ]
    }
   ],
   "source": [
    "end_model.train_model(train, dev_data=dev)"
   ]
  },
  {
   "cell_type": "code",
   "execution_count": 7,
   "metadata": {},
   "outputs": [
    {
     "name": "stdout",
     "output_type": "stream",
     "text": [
      "Precision: 0.492\n",
      "Recall: 0.719\n",
      "F1: 0.584\n",
      "        y=1    y=2   \n",
      " l=1   1082   1118   \n",
      " l=2    423   1997   \n"
     ]
    }
   ],
   "source": [
    "score = end_model.score(test, metric=['precision', 'recall', 'f1'])"
   ]
  },
  {
   "cell_type": "markdown",
   "metadata": {},
   "source": [
    "## Train End Model (Pretrained Embeddings)\n",
    "\n",
    "Download [GloVe embeddings](http://nlp.stanford.edu/data/glove.6B.zip)\n",
    "\n"
   ]
  },
  {
   "cell_type": "code",
   "execution_count": 8,
   "metadata": {},
   "outputs": [],
   "source": [
    "import string\n",
    "\n",
    "class EmbeddingLoader(object):\n",
    "    \"\"\"\n",
    "    Simple text file embedding loader. Words with GloVe and FastText.\n",
    "    \"\"\"\n",
    "    def __init__(self, fpath, fmt='text', dim=None, normalize=True):\n",
    "        assert os.path.exists(fpath)\n",
    "        self.fpath = fpath\n",
    "        self.dim = dim\n",
    "        self.fmt = fmt\n",
    "        # infer dimension\n",
    "        if not self.dim:\n",
    "            header = open(self.fpath, \"rU\").readline().strip().split(' ')\n",
    "            self.dim = len(header) - 1 if len(header) != 2 else int(header[-1])\n",
    "\n",
    "        self.vocab, self.vectors = zip(*[(w,vec) for w,vec in self._read()])\n",
    "        self.vocab = {w:i for i,w in enumerate(self.vocab)}\n",
    "        self.vectors = np.vstack(self.vectors)\n",
    "        if normalize:\n",
    "            self.vectors = (self.vectors.T / np.linalg.norm(self.vectors, axis=1, ord=2)).T\n",
    "\n",
    "    def _read(self):\n",
    "        start = 0 if self.fmt == \"text\" else 1\n",
    "        for i, line in enumerate(open(self.fpath, \"rU\")):\n",
    "            if i < start:\n",
    "                continue\n",
    "            line = line.rstrip().split(' ')\n",
    "            vec = np.array([float(x) for x in line[1:]])\n",
    "            if len(vec) != self.dim:\n",
    "                errors += [line[0]]\n",
    "                continue\n",
    "            yield (line[0], vec)\n",
    "            \n",
    "\n",
    "def load_embeddings(vocab, embeddings):\n",
    "    \"\"\"\n",
    "    Load pretrained embeddings\n",
    "    \"\"\"\n",
    "    def get_word_match(w, word_dict):\n",
    "        if w in word_dict:\n",
    "            return word_dict[w]\n",
    "        elif w.lower() in word_dict:\n",
    "            return word_dict[w.lower()]\n",
    "        elif w.strip(string.punctuation) in word_dict:\n",
    "            return word_dict[w.strip(string.punctuation)]\n",
    "        elif w.strip(string.punctuation).lower() in word_dict:\n",
    "            return word_dict[w.strip(string.punctuation).lower()]\n",
    "        else:\n",
    "            return -1\n",
    "\n",
    "    num_words = vocab.len()\n",
    "    emb_dim   = embeddings.vectors.shape[1]\n",
    "    vecs      = init.xavier_normal_(torch.empty(num_words, emb_dim))\n",
    "    vecs[0]   = torch.zeros(emb_dim)\n",
    "\n",
    "    n = 0\n",
    "    for w in vocab.d:\n",
    "        idx = get_word_match(w, embeddings.vocab)\n",
    "        if idx == -1:\n",
    "            continue\n",
    "        i = vocab.lookup(w)\n",
    "        vecs[i] = torch.FloatTensor(embeddings.vectors[idx])\n",
    "        n += 1\n",
    "\n",
    "    print(\"Loaded {:2.1f}% ({}/{}) pretrained embeddings\".format(float(n) / vocab.len() * 100.0, n, vocab.len() ))\n",
    "    return vecs         "
   ]
  },
  {
   "cell_type": "code",
   "execution_count": 11,
   "metadata": {},
   "outputs": [
    {
     "ename": "AssertionError",
     "evalue": "",
     "output_type": "error",
     "traceback": [
      "\u001b[0;31m---------------------------------------------------------------------------\u001b[0m",
      "\u001b[0;31mAssertionError\u001b[0m                            Traceback (most recent call last)",
      "\u001b[0;32m<ipython-input-11-21fbdf886adb>\u001b[0m in \u001b[0;36m<module>\u001b[0;34m\u001b[0m\n\u001b[1;32m      1\u001b[0m \u001b[0memb_path\u001b[0m  \u001b[0;34m=\u001b[0m \u001b[0;34m\"glove.6B/glove.6B.50d.txt\"\u001b[0m\u001b[0;34m\u001b[0m\u001b[0m\n\u001b[0;32m----> 2\u001b[0;31m \u001b[0membs\u001b[0m  \u001b[0;34m=\u001b[0m \u001b[0mEmbeddingLoader\u001b[0m\u001b[0;34m(\u001b[0m\u001b[0memb_path\u001b[0m\u001b[0;34m,\u001b[0m \u001b[0mfmt\u001b[0m\u001b[0;34m=\u001b[0m\u001b[0;34m'text'\u001b[0m\u001b[0;34m)\u001b[0m\u001b[0;34m\u001b[0m\u001b[0m\n\u001b[0m",
      "\u001b[0;32m<ipython-input-8-22874172eeb1>\u001b[0m in \u001b[0;36m__init__\u001b[0;34m(self, fpath, fmt, dim, normalize)\u001b[0m\n\u001b[1;32m      6\u001b[0m     \"\"\"\n\u001b[1;32m      7\u001b[0m     \u001b[0;32mdef\u001b[0m \u001b[0m__init__\u001b[0m\u001b[0;34m(\u001b[0m\u001b[0mself\u001b[0m\u001b[0;34m,\u001b[0m \u001b[0mfpath\u001b[0m\u001b[0;34m,\u001b[0m \u001b[0mfmt\u001b[0m\u001b[0;34m=\u001b[0m\u001b[0;34m'text'\u001b[0m\u001b[0;34m,\u001b[0m \u001b[0mdim\u001b[0m\u001b[0;34m=\u001b[0m\u001b[0;32mNone\u001b[0m\u001b[0;34m,\u001b[0m \u001b[0mnormalize\u001b[0m\u001b[0;34m=\u001b[0m\u001b[0;32mTrue\u001b[0m\u001b[0;34m)\u001b[0m\u001b[0;34m:\u001b[0m\u001b[0;34m\u001b[0m\u001b[0m\n\u001b[0;32m----> 8\u001b[0;31m         \u001b[0;32massert\u001b[0m \u001b[0mos\u001b[0m\u001b[0;34m.\u001b[0m\u001b[0mpath\u001b[0m\u001b[0;34m.\u001b[0m\u001b[0mexists\u001b[0m\u001b[0;34m(\u001b[0m\u001b[0mfpath\u001b[0m\u001b[0;34m)\u001b[0m\u001b[0;34m\u001b[0m\u001b[0m\n\u001b[0m\u001b[1;32m      9\u001b[0m         \u001b[0mself\u001b[0m\u001b[0;34m.\u001b[0m\u001b[0mfpath\u001b[0m \u001b[0;34m=\u001b[0m \u001b[0mfpath\u001b[0m\u001b[0;34m\u001b[0m\u001b[0m\n\u001b[1;32m     10\u001b[0m         \u001b[0mself\u001b[0m\u001b[0;34m.\u001b[0m\u001b[0mdim\u001b[0m \u001b[0;34m=\u001b[0m \u001b[0mdim\u001b[0m\u001b[0;34m\u001b[0m\u001b[0m\n",
      "\u001b[0;31mAssertionError\u001b[0m: "
     ]
    }
   ],
   "source": [
    "emb_path  = \"glove.6B/glove.6B.50d.txt\"\n",
    "embs  = EmbeddingLoader(emb_path, fmt='text')"
   ]
  },
  {
   "cell_type": "code",
   "execution_count": null,
   "metadata": {},
   "outputs": [],
   "source": [
    "from metal.contrib.backends.wrapper import SnorkelDataset\n",
    "\n",
    "db_conn_str   = \"cdr.db\"\n",
    "candidate_def = ['ChemicalDisease', ['chemical', 'disease']]\n",
    "\n",
    "train, dev, test = SnorkelDataset.splits(db_conn_str, \n",
    "                                         candidate_def, \n",
    "                                         pretrained_word_dict=embs.vocab, \n",
    "                                         max_seq_len=125)\n",
    "\n",
    "print(f'[TRAIN] {len(train)}')\n",
    "print(f'[DEV]   {len(dev)}')\n",
    "print(f'[TEST]  {len(test)}')"
   ]
  },
  {
   "cell_type": "markdown",
   "metadata": {},
   "source": [
    "### Initalize pretrained embedding matrix"
   ]
  },
  {
   "cell_type": "code",
   "execution_count": null,
   "metadata": {},
   "outputs": [],
   "source": [
    "wembs = load_embeddings(train.word_dict, embs)"
   ]
  },
  {
   "cell_type": "code",
   "execution_count": null,
   "metadata": {},
   "outputs": [],
   "source": [
    "from metal.end_model import EndModel\n",
    "from metal.modules import LSTMModule\n",
    "use_cuda = torch.cuda.is_available()\n",
    "\n",
    "lstm = LSTMModule(embed_size=50, \n",
    "                  hidden_size=100, \n",
    "                  embeddings=wembs,\n",
    "                  lstm_reduction='attention', \n",
    "                  dropout=0.5, \n",
    "                  num_layers=1, \n",
    "                  freeze=False)\n",
    "\n",
    "end_model = EndModel([200, 2], input_module=lstm, seed=123, use_cuda=use_cuda)\n",
    "\n",
    "end_model.config['train_config']['optimizer_config']['optimizer_common']['lr'] = 0.01\n",
    "end_model.config['train_config']['validation_metric'] = 'f1'\n",
    "end_model.config['train_config']['batch_size'] = 32\n",
    "end_model.config['train_config']['n_epochs'] = 5"
   ]
  },
  {
   "cell_type": "code",
   "execution_count": null,
   "metadata": {},
   "outputs": [],
   "source": [
    "end_model.train_model(train, dev_data=dev)"
   ]
  },
  {
   "cell_type": "code",
   "execution_count": null,
   "metadata": {},
   "outputs": [],
   "source": [
    "score = end_model.score(test, metric=['precision', 'recall', 'f1'])"
   ]
  }
 ],
 "metadata": {
  "kernelspec": {
   "display_name": "Python [default]",
   "language": "python",
   "name": "python3"
  },
  "language_info": {
   "codemirror_mode": {
    "name": "ipython",
    "version": 3
   },
   "file_extension": ".py",
   "mimetype": "text/x-python",
   "name": "python",
   "nbconvert_exporter": "python",
   "pygments_lexer": "ipython3",
   "version": "3.7.0"
  }
 },
 "nbformat": 4,
 "nbformat_minor": 2
}
