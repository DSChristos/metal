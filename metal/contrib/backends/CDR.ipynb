{
 "cells": [
  {
   "cell_type": "markdown",
   "metadata": {},
   "source": [
    "# Metal CDR Relation Extraction "
   ]
  },
  {
   "cell_type": "code",
   "execution_count": null,
   "metadata": {},
   "outputs": [],
   "source": [
    "%load_ext autoreload\n",
    "%autoreload 2\n",
    "%matplotlib inline"
   ]
  },
  {
   "cell_type": "code",
   "execution_count": null,
   "metadata": {},
   "outputs": [],
   "source": [
    "import os\n",
    "import sys\n",
    "import metal\n",
    "import torch\n",
    "from torch.utils.data import Dataset, DataLoader\n"
   ]
  },
  {
   "cell_type": "code",
   "execution_count": null,
   "metadata": {},
   "outputs": [],
   "source": [
    "print('PyTorch: ', torch.__version__)\n",
    "print('MeTaL:   ', metal.__version__)\n",
    "print('Python:  ', sys.version)\n",
    "print('Python:  ', sys.version_info)\n"
   ]
  },
  {
   "cell_type": "markdown",
   "metadata": {},
   "source": [
    "## Initalize CDR Dataset"
   ]
  },
  {
   "cell_type": "code",
   "execution_count": null,
   "metadata": {},
   "outputs": [],
   "source": [
    "from metal.contrib.backends.wrapper import SnorkelDataset\n",
    "\n",
    "db_conn_str   = \"cdr.db\"\n",
    "candidate_def = ['ChemicalDisease', ['chemical', 'disease']]\n",
    "\n",
    "train, dev, test = SnorkelDataset.splits(db_conn_str, \n",
    "                                         candidate_def, \n",
    "                                         max_seq_len=125)\n",
    "\n",
    "print(f'[TRAIN] {len(train)}')\n",
    "print(f'[DEV]   {len(dev)}')\n",
    "print(f'[TEST]  {len(test)}')\n"
   ]
  },
  {
   "cell_type": "markdown",
   "metadata": {},
   "source": [
    "## Train End Model (Random Initalized Embeddings)"
   ]
  },
  {
   "cell_type": "code",
   "execution_count": null,
   "metadata": {},
   "outputs": [],
   "source": [
    "from metal.end_model import EndModel\n",
    "from metal.modules import LSTMModule\n",
    "use_cuda = torch.cuda.is_available()\n",
    "\n",
    "lstm = LSTMModule(embed_size=50, \n",
    "                  hidden_size=100, \n",
    "                  vocab_size=train.word_dict.len(),\n",
    "                  lstm_reduction='attention', \n",
    "                  dropout=0.5, \n",
    "                  num_layers=1, \n",
    "                  freeze=False)\n",
    "\n",
    "end_model = EndModel([200, 2], input_module=lstm, seed=123, use_cuda=use_cuda)\n",
    "\n",
    "end_model.config['train_config']['optimizer_config']['optimizer_common']['lr'] = 0.01\n",
    "end_model.config['train_config']['validation_metric'] = 'f1'\n",
    "end_model.config['train_config']['batch_size'] = 32\n",
    "end_model.config['train_config']['n_epochs'] = 5\n"
   ]
  },
  {
   "cell_type": "code",
   "execution_count": null,
   "metadata": {
    "scrolled": true
   },
   "outputs": [],
   "source": [
    "end_model.train_model(train, dev_data=dev)\n"
   ]
  },
  {
   "cell_type": "code",
   "execution_count": null,
   "metadata": {},
   "outputs": [],
   "source": [
    "score = end_model.score(test, metric=['precision', 'recall', 'f1'])\n"
   ]
  },
  {
   "cell_type": "markdown",
   "metadata": {},
   "source": [
    "## Train End Model (Pretrained Embeddings)\n",
    "\n",
    "Download [GloVe embeddings](http://nlp.stanford.edu/data/glove.6B.zip)\n",
    "\n"
   ]
  },
  {
   "cell_type": "code",
   "execution_count": null,
   "metadata": {},
   "outputs": [],
   "source": [
    "import string\n",
    "\n",
    "class EmbeddingLoader(object):\n",
    "    \"\"\"\n",
    "    Simple text file embedding loader. Words with GloVe and FastText.\n",
    "    \"\"\"\n",
    "    def __init__(self, fpath, fmt='text', dim=None, normalize=True):\n",
    "        assert os.path.exists(fpath)\n",
    "        self.fpath = fpath\n",
    "        self.dim = dim\n",
    "        self.fmt = fmt\n",
    "        # infer dimension\n",
    "        if not self.dim:\n",
    "            header = open(self.fpath, \"rU\").readline().strip().split(' ')\n",
    "            self.dim = len(header) - 1 if len(header) != 2 else int(header[-1])\n",
    "\n",
    "        self.vocab, self.vectors = zip(*[(w,vec) for w,vec in self._read()])\n",
    "        self.vocab = {w:i for i,w in enumerate(self.vocab)}\n",
    "        self.vectors = np.vstack(self.vectors)\n",
    "        if normalize:\n",
    "            self.vectors = (self.vectors.T / np.linalg.norm(self.vectors, axis=1, ord=2)).T\n",
    "\n",
    "    def _read(self):\n",
    "        start = 0 if self.fmt == \"text\" else 1\n",
    "        for i, line in enumerate(open(self.fpath, \"rU\")):\n",
    "            if i < start:\n",
    "                continue\n",
    "            line = line.rstrip().split(' ')\n",
    "            vec = np.array([float(x) for x in line[1:]])\n",
    "            if len(vec) != self.dim:\n",
    "                errors += [line[0]]\n",
    "                continue\n",
    "            yield (line[0], vec)\n",
    "            \n",
    "\n",
    "def load_embeddings(vocab, embeddings):\n",
    "    \"\"\"\n",
    "    Load pretrained embeddings\n",
    "    \"\"\"\n",
    "    def get_word_match(w, word_dict):\n",
    "        if w in word_dict:\n",
    "            return word_dict[w]\n",
    "        elif w.lower() in word_dict:\n",
    "            return word_dict[w.lower()]\n",
    "        elif w.strip(string.punctuation) in word_dict:\n",
    "            return word_dict[w.strip(string.punctuation)]\n",
    "        elif w.strip(string.punctuation).lower() in word_dict:\n",
    "            return word_dict[w.strip(string.punctuation).lower()]\n",
    "        else:\n",
    "            return -1\n",
    "\n",
    "    num_words = vocab.len()\n",
    "    emb_dim   = embeddings.vectors.shape[1]\n",
    "    vecs      = init.xavier_normal_(torch.empty(num_words, emb_dim))\n",
    "    vecs[0]   = torch.zeros(emb_dim)\n",
    "\n",
    "    n = 0\n",
    "    for w in vocab.d:\n",
    "        idx = get_word_match(w, embeddings.vocab)\n",
    "        if idx == -1:\n",
    "            continue\n",
    "        i = vocab.lookup(w)\n",
    "        vecs[i] = torch.FloatTensor(embeddings.vectors[idx])\n",
    "        n += 1\n",
    "\n",
    "    print(\"Loaded {:2.1f}% ({}/{}) pretrained embeddings\".format(float(n) / vocab.len() * 100.0, n, vocab.len() ))\n",
    "    return vecs\n",
    "            "
   ]
  },
  {
   "cell_type": "code",
   "execution_count": null,
   "metadata": {},
   "outputs": [],
   "source": [
    "emb_path  = \"glove.6B/glove.6B.50d.txt\"\n",
    "embs  = EmbeddingLoader(emb_path, fmt='text')"
   ]
  },
  {
   "cell_type": "code",
   "execution_count": null,
   "metadata": {},
   "outputs": [],
   "source": [
    "from metal.contrib.backends.wrapper import SnorkelDataset\n",
    "\n",
    "db_conn_str   = \"cdr.db\"\n",
    "candidate_def = ['ChemicalDisease', ['chemical', 'disease']]\n",
    "\n",
    "train, dev, test = SnorkelDataset.splits(db_conn_str, \n",
    "                                         candidate_def, \n",
    "                                         pretrained_word_dict=embs.vocab, \n",
    "                                         max_seq_len=125)\n",
    "\n",
    "print(f'[TRAIN] {len(train)}')\n",
    "print(f'[DEV]   {len(dev)}')\n",
    "print(f'[TEST]  {len(test)}')\n"
   ]
  },
  {
   "cell_type": "markdown",
   "metadata": {},
   "source": [
    "### Initalize pretrained embedding matrix"
   ]
  },
  {
   "cell_type": "code",
   "execution_count": null,
   "metadata": {},
   "outputs": [],
   "source": [
    "wembs = load_embeddings(train.word_dict, embs)"
   ]
  },
  {
   "cell_type": "code",
   "execution_count": null,
   "metadata": {},
   "outputs": [],
   "source": [
    "from metal.end_model import EndModel\n",
    "from metal.modules import LSTMModule\n",
    "use_cuda = torch.cuda.is_available()\n",
    "\n",
    "lstm = LSTMModule(embed_size=50, \n",
    "                  hidden_size=100, \n",
    "                  embeddings=wembs,\n",
    "                  lstm_reduction='attention', \n",
    "                  dropout=0.5, \n",
    "                  num_layers=1, \n",
    "                  freeze=False)\n",
    "\n",
    "end_model = EndModel([200, 2], input_module=lstm, seed=123, use_cuda=use_cuda)\n",
    "\n",
    "end_model.config['train_config']['optimizer_config']['optimizer_common']['lr'] = 0.01\n",
    "end_model.config['train_config']['validation_metric'] = 'f1'\n",
    "end_model.config['train_config']['batch_size'] = 32\n",
    "end_model.config['train_config']['n_epochs'] = 5\n"
   ]
  },
  {
   "cell_type": "code",
   "execution_count": null,
   "metadata": {},
   "outputs": [],
   "source": [
    "end_model.train_model(train, dev_data=dev)\n"
   ]
  },
  {
   "cell_type": "code",
   "execution_count": null,
   "metadata": {},
   "outputs": [],
   "source": [
    "score = end_model.score(test, metric=['precision', 'recall', 'f1'])\n"
   ]
  },
  {
   "cell_type": "code",
   "execution_count": null,
   "metadata": {},
   "outputs": [],
   "source": []
  }
 ],
 "metadata": {
  "kernelspec": {
   "display_name": "Python 3",
   "language": "python",
   "name": "python3"
  },
  "language_info": {
   "codemirror_mode": {
    "name": "ipython",
    "version": 3
   },
   "file_extension": ".py",
   "mimetype": "text/x-python",
   "name": "python",
   "nbconvert_exporter": "python",
   "pygments_lexer": "ipython3",
   "version": "3.6.6"
  }
 },
 "nbformat": 4,
 "nbformat_minor": 2
}
