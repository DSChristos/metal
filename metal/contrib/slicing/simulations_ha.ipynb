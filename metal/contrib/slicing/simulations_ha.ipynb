{
 "cells": [
  {
   "cell_type": "code",
   "execution_count": 1,
   "metadata": {},
   "outputs": [],
   "source": [
    "%load_ext autoreload\n",
    "%autoreload 2\n",
    "\n",
    "import matplotlib.pyplot as plt\n",
    "%matplotlib inline\n",
    "\n",
    "from functools import partial\n",
    "\n",
    "import numpy as np\n",
    "import torch\n",
    "import torch.nn as nn\n",
    "import torch.nn.functional as F\n",
    "import torch.optim as optim\n",
    "from torch.utils.data import TensorDataset, DataLoader\n",
    "\n",
    "from online_dp import SliceDPModel, LinearModule, MLPModule\n",
    "from synthetics_utils import generate_multi_mode_data, generate_label_matrix\n",
    "\n",
    "import seaborn as sns\n",
    "\n",
    "\n",
    "import warnings\n",
    "warnings.filterwarnings('ignore')"
   ]
  },
  {
   "cell_type": "markdown",
   "metadata": {},
   "source": [
    "## Simulating the Simulations"
   ]
  },
  {
   "cell_type": "code",
   "execution_count": 2,
   "metadata": {},
   "outputs": [],
   "source": [
    "def generate_data(N,accs,covs,op):\n",
    "    #feature and label generation\n",
    "    mus = [\n",
    "    np.array([-3, 0]), # Mode 1: Y = -1\n",
    "    np.array([3, 0]), # Mode 2: Y = 1\n",
    "    np.array([6, -3]) # Mode 3: Y = -1\n",
    "    ]\n",
    "    props = [0.25, 0.5, 0.25]\n",
    "    labels = [-1, 1, -1]\n",
    "    \n",
    "    X, Y, C = generate_multi_mode_data(N, mus, props, \n",
    "                                               labels, plot=False)\n",
    "    \n",
    "    #labeling function generation\n",
    "    L, overlap_idx = generate_label_matrix(N, accs, covs, \n",
    "                                           Y, C, overlap_portion=op)\n",
    "    \n",
    "    return X,Y,L,overlap_idx"
   ]
  },
  {
   "cell_type": "code",
   "execution_count": 3,
   "metadata": {},
   "outputs": [],
   "source": [
    "def train_models(X,L):\n",
    "    m = np.shape(L)[1]\n",
    "    d = X.shape[1]\n",
    "\n",
    "\n",
    "    model_0 = SliceDPModel(d, LinearModule, m, accs, r=2, rw=False)\n",
    "    model_0.train(X, L, batch_size=1000, n_epochs=250, lr=0.1, print_every=250)\n",
    "\n",
    "    input_module = partial(MLPModule, middle_dims=[4,4])\n",
    "    model_1 = SliceDPModel(d, input_module, m, accs, r=2, rw=False)\n",
    "    model_1.train(X, L, batch_size=1000, n_epochs=250, lr=0.1, print_every=250)\n",
    "\n",
    "    model_2 = SliceDPModel(d, LinearModule, m, accs, r=2, rw=True)\n",
    "    model_2.train(X, L, batch_size=1000, n_epochs=250, lr=0.1, print_every=250)\n",
    "    \n",
    "    return model_0, model_1, model_2"
   ]
  },
  {
   "cell_type": "code",
   "execution_count": 4,
   "metadata": {},
   "outputs": [],
   "source": [
    "def eval_model(model,X,L,Y,overlap_idx):\n",
    "    overall_score = model.score(X, Y)\n",
    "    slice_scores = model.score_on_LF_slices(X, Y, L)\n",
    "    try:\n",
    "        overlap_scores = model.score_on_LF_slices(X[overlap_idx,:], Y[overlap_idx], L[overlap_idx,:])\n",
    "    except:\n",
    "        overlap_scores = [0,0,0]\n",
    "    return  [list(slice_scores)+list(overlap_scores)+list([overall_score])][0]"
   ]
  },
  {
   "cell_type": "code",
   "execution_count": 5,
   "metadata": {},
   "outputs": [],
   "source": [
    "def plot_error(rpca_errs, amc_errs, idx, iters, vals_list):\n",
    "    \"\"\"\n",
    "    Plot a line graph with 95% CI shaded!\n",
    "    \"\"\"\n",
    "\n",
    "    #create pandas dataframe\n",
    "    m_list = vals_list\n",
    "    rpca_errs_dataframe = pd.DataFrame([obj[idx] for obj in rpca_errs])\n",
    "    rpca_errs_dataframe['m'] = pd.Series(m_list*iters, index=rpca_errs_dataframe.index)\n",
    "    amc_errs_dataframe = pd.DataFrame([obj[idx] for obj in amc_errs])\n",
    "    amc_errs_dataframe['m'] = pd.Series(m_list*iters, index=amc_errs_dataframe.index)\n",
    "\n",
    "    #create plot\n",
    "    sns.lineplot(x='m', y=0, data=rpca_errs_dataframe, marker=True, palette=sns.color_palette(\"GnBu_d\",2))\n",
    "    sns.lineplot(x='m', y=0, data=amc_errs_dataframe, marker=True, palette = sns.color_palette(\"GnBu_d\",2))\n",
    "    if idx == 6:\n",
    "        plt.ylabel(\"Accuracy (%)\")\n",
    "        plt.title('Overall Accuracy')\n",
    "    if idx == 0:\n",
    "        plt.ylabel(\"Accuracy (%)\")\n",
    "        plt.title('Head Slice Accuracy')\n",
    "    if idx == 3:\n",
    "        plt.ylabel(\"Accuracy (%)\")\n",
    "        plt.title('Head-Torso Overlap Accuracy')\n",
    "\n",
    "    plt.xlabel(\"Overlap Portion of Head-Torso\")\n",
    "    plt.legend(['Model 0', 'Model 1'])\n",
    "    \n",
    "    sns.despine()\n",
    "    plt.tight_layout()"
   ]
  },
  {
   "cell_type": "code",
   "execution_count": 6,
   "metadata": {
    "scrolled": true
   },
   "outputs": [
    {
     "name": "stdout",
     "output_type": "stream",
     "text": [
      "[Epoch 0] Loss: 4.259\n"
     ]
    },
    {
     "name": "stderr",
     "output_type": "stream",
     "text": [
      "ERROR:root:Internal Python error in the inspect module.\n",
      "Below is the traceback from this internal error.\n",
      "\n"
     ]
    },
    {
     "name": "stdout",
     "output_type": "stream",
     "text": [
      "Traceback (most recent call last):\n",
      "  File \"/Users/vincentchen/miniconda3/envs/slicing/lib/python3.6/site-packages/IPython/core/interactiveshell.py\", line 3267, in run_code\n",
      "    exec(code_obj, self.user_global_ns, self.user_ns)\n",
      "  File \"<ipython-input-6-cc6e1edb82f9>\", line 16, in <module>\n",
      "    model_0, model_1, model_2 = train_models(X,L)\n",
      "  File \"<ipython-input-3-3337d3d64302>\", line 7, in train_models\n",
      "    model_0.train(X, L, batch_size=1000, n_epochs=250, lr=0.1, print_every=250)\n",
      "  File \"/Users/vincentchen/code/metal/metal/contrib/slicing/online_dp.py\", line 73, in train\n",
      "    for batch, data in enumerate(train_loader):\n",
      "  File \"/Users/vincentchen/miniconda3/envs/slicing/lib/python3.6/site-packages/torch/utils/data/dataloader.py\", line 314, in __next__\n",
      "    batch = self.collate_fn([self.dataset[i] for i in indices])\n",
      "KeyboardInterrupt\n",
      "\n",
      "During handling of the above exception, another exception occurred:\n",
      "\n",
      "Traceback (most recent call last):\n",
      "  File \"/Users/vincentchen/miniconda3/envs/slicing/lib/python3.6/site-packages/IPython/core/interactiveshell.py\", line 2018, in showtraceback\n",
      "    stb = value._render_traceback_()\n",
      "AttributeError: 'KeyboardInterrupt' object has no attribute '_render_traceback_'\n",
      "\n",
      "During handling of the above exception, another exception occurred:\n",
      "\n",
      "Traceback (most recent call last):\n",
      "  File \"/Users/vincentchen/miniconda3/envs/slicing/lib/python3.6/site-packages/IPython/core/ultratb.py\", line 1095, in get_records\n",
      "    return _fixed_getinnerframes(etb, number_of_lines_of_context, tb_offset)\n",
      "  File \"/Users/vincentchen/miniconda3/envs/slicing/lib/python3.6/site-packages/IPython/core/ultratb.py\", line 313, in wrapped\n",
      "    return f(*args, **kwargs)\n",
      "  File \"/Users/vincentchen/miniconda3/envs/slicing/lib/python3.6/site-packages/IPython/core/ultratb.py\", line 347, in _fixed_getinnerframes\n",
      "    records = fix_frame_records_filenames(inspect.getinnerframes(etb, context))\n",
      "  File \"/Users/vincentchen/miniconda3/envs/slicing/lib/python3.6/inspect.py\", line 1488, in getinnerframes\n",
      "    frameinfo = (tb.tb_frame,) + getframeinfo(tb, context)\n",
      "  File \"/Users/vincentchen/miniconda3/envs/slicing/lib/python3.6/inspect.py\", line 1446, in getframeinfo\n",
      "    filename = getsourcefile(frame) or getfile(frame)\n",
      "  File \"/Users/vincentchen/miniconda3/envs/slicing/lib/python3.6/inspect.py\", line 696, in getsourcefile\n",
      "    if getattr(getmodule(object, filename), '__loader__', None) is not None:\n",
      "  File \"/Users/vincentchen/miniconda3/envs/slicing/lib/python3.6/inspect.py\", line 739, in getmodule\n",
      "    f = getabsfile(module)\n",
      "  File \"/Users/vincentchen/miniconda3/envs/slicing/lib/python3.6/inspect.py\", line 709, in getabsfile\n",
      "    return os.path.normcase(os.path.abspath(_filename))\n",
      "  File \"/Users/vincentchen/miniconda3/envs/slicing/lib/python3.6/posixpath.py\", line 378, in abspath\n",
      "    return normpath(path)\n",
      "  File \"/Users/vincentchen/miniconda3/envs/slicing/lib/python3.6/posixpath.py\", line 350, in normpath\n",
      "    path.startswith(sep*2) and not path.startswith(sep*3)):\n",
      "KeyboardInterrupt\n"
     ]
    },
    {
     "ename": "KeyboardInterrupt",
     "evalue": "",
     "output_type": "error",
     "traceback": [
      "\u001b[0;31m---------------------------------------------------------------------------\u001b[0m"
     ]
    }
   ],
   "source": [
    "N = 10000\n",
    "covs = np.array([0.9, 0.9, 0.9])\n",
    "m = np.shape(covs)[0]\n",
    "model_0_scores = []\n",
    "model_1_scores = []\n",
    "model_2_scores = []\n",
    "\n",
    "for iteration in range(50):\n",
    "    for head_acc in [0.6, 0.7, 0.8, 0.9]: #head LF overall acc\n",
    "        op = 0.05\n",
    "        #generate data\n",
    "        accs = np.array([0.75, 0.75, head_acc])\n",
    "        X,Y,L,overlap_idx = generate_data(N,accs,covs,op)\n",
    "       \n",
    "        #train the models and score the models (I KNOW ITS UGLY)\n",
    "        model_0, model_1, model_2 = train_models(X,L)\n",
    "        for model, m_scores in zip([model_0, model_1, model_2],[model_0_scores, model_1_scores, model_2_scores]):\n",
    "            a,b,c,d,e,f,g = eval_model(model,X,L,Y,overlap_idx)\n",
    "            m_scores.append([a,b,c,d,e,f,g])\n",
    "            \n",
    "    \n",
    "    np.save('ha_model_0_scores.npy', np.array(model_0_scores))\n",
    "    np.save('ha_model_1_scores.npy', np.array(model_1_scores))\n",
    "    np.save('ha_model_2_scores.npy', np.array(model_2_scores))"
   ]
  },
  {
   "cell_type": "code",
   "execution_count": null,
   "metadata": {},
   "outputs": [],
   "source": [
    "# np.save(np.array(model_0_scores), 'op_model_0_scores.npy')\n",
    "# np.save(np.array(model_1_scores), 'op_model_1_scores.npy')\n",
    "# np.save(np.array(model_2_scores), 'op_model_2_scores.npy')"
   ]
  },
  {
   "cell_type": "code",
   "execution_count": null,
   "metadata": {},
   "outputs": [],
   "source": [
    "plot_error(model_0_scores, model_2_scores, idx=6, iters=5, vals_list=[0.0, 0.1, 0.25])"
   ]
  },
  {
   "cell_type": "code",
   "execution_count": null,
   "metadata": {},
   "outputs": [],
   "source": []
  }
 ],
 "metadata": {
  "kernelspec": {
   "display_name": "Python 3",
   "language": "python",
   "name": "python3"
  },
  "language_info": {
   "codemirror_mode": {
    "name": "ipython",
    "version": 3
   },
   "file_extension": ".py",
   "mimetype": "text/x-python",
   "name": "python",
   "nbconvert_exporter": "python",
   "pygments_lexer": "ipython3",
   "version": "3.6.7"
  }
 },
 "nbformat": 4,
 "nbformat_minor": 2
}
