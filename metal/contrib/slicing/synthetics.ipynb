{
 "cells": [
  {
   "cell_type": "code",
   "execution_count": 1,
   "metadata": {},
   "outputs": [],
   "source": [
    "%load_ext autoreload\n",
    "%autoreload 2\n",
    "\n",
    "import numpy as np\n",
    "import pandas as pd\n",
    "import matplotlib.pyplot as plt\n",
    "%matplotlib inline"
   ]
  },
  {
   "cell_type": "code",
   "execution_count": 2,
   "metadata": {},
   "outputs": [],
   "source": [
    "import warnings\n",
    "warnings.filterwarnings('ignore')"
   ]
  },
  {
   "cell_type": "code",
   "execution_count": 3,
   "metadata": {},
   "outputs": [
    {
     "data": {
      "image/png": "[encoded data removed]",
      "text/plain": [
       "<Figure size 432x288 with 1 Axes>"
      ]
     },
     "metadata": {
      "needs_background": "light"
     },
     "output_type": "display_data"
    }
   ],
   "source": [
    "from synthetics_utils import generate_multi_mode_data, generate_label_matrix\n",
    "\n",
    "# num simulated examples\n",
    "N = 10000\n",
    "\n",
    "# mus: [list of d-dim np.arrays] centers of the modes\n",
    "mus = [\n",
    "    np.array([-3, 0]), # Mode 1: Y = -1\n",
    "    np.array([3, 0]), # Mode 2: Y = 1\n",
    "    np.array([6, -3]) # Mode 3: Y = -1\n",
    "]\n",
    "# proportion of data in each mode\n",
    "props = [0.25, 0.5, 0.25]\n",
    "\n",
    "# class label of each mode\n",
    "labels = [-1, 1, -1]\n",
    "\n",
    "X, Y, C = generate_multi_mode_data(N, mus, props, labels, plot=True)"
   ]
  },
  {
   "cell_type": "code",
   "execution_count": 4,
   "metadata": {},
   "outputs": [],
   "source": [
    "\n",
    "# \"simulated\" accuracies and coverage of LFs\n",
    "accs = np.array([0.75, 0.75, 0.75])\n",
    "covs = np.array([0.9, 0.9, 0.9])\n",
    "\n",
    "# overlap between primary \"torso\" LF and \"head\" LFs\n",
    "overlap_portion = 0.05\n",
    "\n",
    "# labeling function generation\n",
    "L, overlap_idx = generate_label_matrix(N, accs, covs, Y, C, overlap_portion=overlap_portion)"
   ]
  },
  {
   "cell_type": "code",
   "execution_count": 5,
   "metadata": {},
   "outputs": [],
   "source": [
    "def eval_model(model,X,L,Y,overlap_idx):\n",
    "    #overall accuracy of the model\n",
    "    overall_score = model.score(X, Y) \n",
    "\n",
    "    #accuracy of the model on the portion each LF covers\n",
    "    slice_scores = model.score_on_LF_slices(X, Y, L) \n",
    "    try: \n",
    "        #accuracy of the model on the overlap between head and torso LF\n",
    "        overlap_scores = model.score_on_LF_slices(X[overlap_idx,:], Y[overlap_idx], L[overlap_idx,:]) \n",
    "    except: \n",
    "        overlap_scores = [0,0,0] \n",
    "    return  [list(slice_scores)+list(overlap_scores)+list([overall_score])][0]"
   ]
  },
  {
   "cell_type": "code",
   "execution_count": 6,
   "metadata": {},
   "outputs": [],
   "source": [
    "def train_models(X,L, accs):\n",
    "    \"\"\"\n",
    "    Trains baseline, oracle, and attention model\n",
    "    Args:\n",
    "        - X: features\n",
    "        - L: LF matrix\n",
    "        - accs: [list of floats] accuracies for LFs\n",
    "    Returns:\n",
    "        - model_[0,1,2]: trained baseline, oracle, and attention model\n",
    "    \"\"\"\n",
    "\n",
    "    m = np.shape(L)[1] #num LFs\n",
    "    d = X.shape[1] #num features\n",
    "\n",
    "    #baseline model, no attention\n",
    "    model_0 = SliceDPModel(d, LinearModule, m, accs, r=4, rw=False)\n",
    "    model_0.train(X, L, batch_size=1000, n_epochs=250, lr=0.1, print_every=250)\n",
    "\n",
    "    #oracle, manual reweighting\n",
    "    #TODO: currently hardcode weights so LF[-1] has double the weight\n",
    "    weights = np.ones(m)\n",
    "    weights[-1] = 2.0\n",
    "    model_1 = SliceDPModel(d, LinearModule, m, accs, r=4, rw=True, L_weights=list(weights))\n",
    "    model_1.train(X, L, batch_size=1000, n_epochs=250, lr=0.1, print_every=250)\n",
    "\n",
    "    #our model, with attention\n",
    "    model_2 = SliceDPModel(d, LinearModule, m, accs, r=2, rw=True)\n",
    "    model_2.train(X, L, batch_size=1000, n_epochs=250, lr=0.1, print_every=250)\n",
    "    \n",
    "    return model_0, model_1, model_2"
   ]
  },
  {
   "cell_type": "code",
   "execution_count": 7,
   "metadata": {},
   "outputs": [
    {
     "name": "stdout",
     "output_type": "stream",
     "text": [
      "[Epoch 0] Loss: 4.208\n",
      "[Epoch 249] Loss: 4.007\n",
      "Finished Training\n",
      "[Epoch 0] Loss: 4.204\n",
      "[Epoch 249] Loss: 4.009\n",
      "Finished Training\n",
      "[Epoch 0] Loss: 4.195\n",
      "[Epoch 249] Loss: 4.081\n",
      "Finished Training\n"
     ]
    }
   ],
   "source": [
    "from online_dp import LinearModule, SliceDPModel\n",
    "\n",
    "model_0_scores = []\n",
    "model_1_scores = []\n",
    "model_2_scores = []\n",
    "\n",
    "#train the models and score the models (I KNOW ITS UGLY)\n",
    "model_0, model_1, model_2 = train_models(X,L,accs)\n",
    "for model, m_scores in zip([model_0, model_1, model_2],[model_0_scores, model_1_scores, model_2_scores]):\n",
    "    a,b,c,d,e,f,g = eval_model(model,X,L,Y,overlap_idx)\n",
    "    m_scores.append([a,b,c,d,e,f,g])"
   ]
  },
  {
   "cell_type": "code",
   "execution_count": 8,
   "metadata": {},
   "outputs": [
    {
     "data": {
      "text/html": [
       "<div>\n",
       "<style scoped>\n",
       "    .dataframe tbody tr th:only-of-type {\n",
       "        vertical-align: middle;\n",
       "    }\n",
       "\n",
       "    .dataframe tbody tr th {\n",
       "        vertical-align: top;\n",
       "    }\n",
       "\n",
       "    .dataframe thead th {\n",
       "        text-align: right;\n",
       "    }\n",
       "</style>\n",
       "<table border=\"1\" class=\"dataframe\">\n",
       "  <thead>\n",
       "    <tr style=\"text-align: right;\">\n",
       "      <th></th>\n",
       "      <th>LF0_slice</th>\n",
       "      <th>LF1_slice</th>\n",
       "      <th>LF2_slice</th>\n",
       "      <th>LF1+2_overlap</th>\n",
       "      <th>Overall</th>\n",
       "    </tr>\n",
       "  </thead>\n",
       "  <tbody>\n",
       "    <tr>\n",
       "      <th>Baseline</th>\n",
       "      <td>0.983512</td>\n",
       "      <td>0.971880</td>\n",
       "      <td>0.988972</td>\n",
       "      <td>0.991803</td>\n",
       "      <td>0.9783</td>\n",
       "    </tr>\n",
       "    <tr>\n",
       "      <th>Manual</th>\n",
       "      <td>0.985740</td>\n",
       "      <td>0.967337</td>\n",
       "      <td>0.989413</td>\n",
       "      <td>1.000000</td>\n",
       "      <td>0.9768</td>\n",
       "    </tr>\n",
       "    <tr>\n",
       "      <th>Ours</th>\n",
       "      <td>0.950980</td>\n",
       "      <td>0.912611</td>\n",
       "      <td>0.851787</td>\n",
       "      <td>0.885246</td>\n",
       "      <td>0.9059</td>\n",
       "    </tr>\n",
       "  </tbody>\n",
       "</table>\n",
       "</div>"
      ],
      "text/plain": [
       "          LF0_slice  LF1_slice  LF2_slice  LF1+2_overlap  Overall\n",
       "Baseline   0.983512   0.971880   0.988972       0.991803   0.9783\n",
       "Manual     0.985740   0.967337   0.989413       1.000000   0.9768\n",
       "Ours       0.950980   0.912611   0.851787       0.885246   0.9059"
      ]
     },
     "execution_count": 8,
     "metadata": {},
     "output_type": "execute_result"
    }
   ],
   "source": [
    "scores = pd.DataFrame([[model_0_scores[0][i] for i in [0,1,2,5,6]], [model_1_scores[0][i] for i in [0,1,2,5,6]], [model_2_scores[0][i] for i in [0,1,2,5,6]]])\n",
    "scores.columns = (['LF0_slice', 'LF1_slice', 'LF2_slice', 'LF1+2_overlap', 'Overall'])\n",
    "scores.index = (['Baseline', 'Manual', 'Ours'])\n",
    "scores"
   ]
  },
  {
   "cell_type": "code",
   "execution_count": null,
   "metadata": {},
   "outputs": [],
   "source": []
  }
 ],
 "metadata": {
  "kernelspec": {
   "display_name": "Python 3",
   "language": "python",
   "name": "python3"
  },
  "language_info": {
   "codemirror_mode": {
    "name": "ipython",
    "version": 3
   },
   "file_extension": ".py",
   "mimetype": "text/x-python",
   "name": "python",
   "nbconvert_exporter": "python",
   "pygments_lexer": "ipython3",
   "version": "3.6.7"
  }
 },
 "nbformat": 4,
 "nbformat_minor": 2
}
