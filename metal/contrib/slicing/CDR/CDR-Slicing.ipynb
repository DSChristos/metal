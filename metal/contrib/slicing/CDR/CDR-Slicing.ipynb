{
 "cells": [
  {
   "cell_type": "markdown",
   "metadata": {},
   "source": [
    "# Slicing CDR Relation Extraction "
   ]
  },
  {
   "cell_type": "code",
   "execution_count": 1,
   "metadata": {},
   "outputs": [],
   "source": [
    "%load_ext autoreload\n",
    "%autoreload 2\n",
    "%matplotlib inline"
   ]
  },
  {
   "cell_type": "code",
   "execution_count": 2,
   "metadata": {},
   "outputs": [],
   "source": [
    "import os\n",
    "import sys\n",
    "sys.path.append('/dfs/scratch0/vschen/metal')\n",
    "\n",
    "import metal\n",
    "import torch\n",
    "from torch.utils.data import Dataset, DataLoader\n",
    "import numpy as np"
   ]
  },
  {
   "cell_type": "code",
   "execution_count": 3,
   "metadata": {},
   "outputs": [
    {
     "name": "stdout",
     "output_type": "stream",
     "text": [
      "PyTorch:  1.0.0\n",
      "MeTaL:    0.3.3\n",
      "Python:   3.6.7 (default, Dec  8 2018, 17:35:14) \n",
      "[GCC 5.4.0 20160609]\n",
      "Python:   sys.version_info(major=3, minor=6, micro=7, releaselevel='final', serial=0)\n"
     ]
    }
   ],
   "source": [
    "print('PyTorch: ', torch.__version__)\n",
    "print('MeTaL:   ', metal.__version__)\n",
    "print('Python:  ', sys.version)\n",
    "print('Python:  ', sys.version_info)"
   ]
  },
  {
   "cell_type": "markdown",
   "metadata": {},
   "source": [
    "## Initalize CDR Dataset\n",
    "To uncompress the SQLite db: ```bzip2 -d cdr.db.bz2```"
   ]
  },
  {
   "cell_type": "code",
   "execution_count": 4,
   "metadata": {},
   "outputs": [
    {
     "name": "stdout",
     "output_type": "stream",
     "text": [
      "Connected to sqlite:////dfs/scratch0/vschen/metal/metal/contrib/slicing/CDR/cdr.db\n",
      "Connected to sqlite:////dfs/scratch0/vschen/metal/metal/contrib/slicing/CDR/cdr.db\n",
      "Connected to sqlite:////dfs/scratch0/vschen/metal/metal/contrib/slicing/CDR/cdr.db\n",
      "[TRAIN] 8272\n",
      "[DEV]   888\n",
      "[TEST]  4620\n"
     ]
    }
   ],
   "source": [
    "from metal.contrib.backends.wrapper import SnorkelDataset\n",
    "import os\n",
    "\n",
    "db_conn_str   = os.path.join(os.getcwd(),\"cdr.db\")\n",
    "candidate_def = ['ChemicalDisease', ['chemical', 'disease']]\n",
    "\n",
    "train, dev, test = SnorkelDataset.splits(db_conn_str, \n",
    "                                         candidate_def, \n",
    "                                         max_seq_len=125)\n",
    "\n",
    "print(f'[TRAIN] {len(train)}')\n",
    "print(f'[DEV]   {len(dev)}')\n",
    "print(f'[TEST]  {len(test)}')"
   ]
  },
  {
   "cell_type": "markdown",
   "metadata": {},
   "source": [
    "## Get Pretrained Embeddings\n",
    "\n",
    "Download [GloVe embeddings](http://nlp.stanford.edu/data/glove.6B.zip):\n",
    "`wget http://nlp.stanford.edu/data/glove.6B.zip \\\n",
    "&& mkdir -p glove.6B \\\n",
    "&& unzip glove.6B.zip -d glove.6B \\\n",
    "&& rm glove.6B.zip`"
   ]
  },
  {
   "cell_type": "code",
   "execution_count": 5,
   "metadata": {},
   "outputs": [],
   "source": [
    "from embeddings import EmbeddingLoader, load_embeddings\n",
    "emb_path  = \"glove.6B/glove.6B.50d.txt\"\n",
    "embs  = EmbeddingLoader(emb_path, fmt='text')"
   ]
  },
  {
   "cell_type": "markdown",
   "metadata": {},
   "source": [
    "## (a) `Oracle`: EndModel Trained on Full GT"
   ]
  },
  {
   "cell_type": "code",
   "execution_count": 6,
   "metadata": {},
   "outputs": [
    {
     "name": "stdout",
     "output_type": "stream",
     "text": [
      "Loaded 77.0% (7656/9946) pretrained embeddings\n",
      "Using pretrained embeddings.\n",
      "Embeddings shape = (9946, 50)\n",
      "The embeddings are NOT FROZEN\n",
      "Using lstm_reduction = 'attention'\n",
      "\n",
      "Network architecture:\n",
      "Sequential(\n",
      "  (0): Sequential(\n",
      "    (0): LSTMModule(\n",
      "      (embeddings): Embedding(9946, 50)\n",
      "      (lstm): LSTM(50, 100, batch_first=True, bidirectional=True)\n",
      "    )\n",
      "    (1): ReLU()\n",
      "  )\n",
      "  (1): Linear(in_features=200, out_features=2, bias=True)\n",
      ")\n",
      "\n",
      "Using GPU...\n"
     ]
    },
    {
     "data": {
      "application/vnd.jupyter.widget-view+json": {
       "model_id": "ce2e29656519470a93c16cf466cf5e56",
       "version_major": 2,
       "version_minor": 0
      },
      "text/plain": [
       "HBox(children=(IntProgress(value=0, max=259), HTML(value='')))"
      ]
     },
     "metadata": {},
     "output_type": "display_data"
    },
    {
     "name": "stdout",
     "output_type": "stream",
     "text": [
      "\n",
      "Saving model at iteration 0 with best score 0.602\n",
      "[E:0]\tTrain Loss: 0.550\tDev f1: 0.602\n"
     ]
    },
    {
     "data": {
      "application/vnd.jupyter.widget-view+json": {
       "model_id": "6d243b3bcaef49718c23f97bdd14473c",
       "version_major": 2,
       "version_minor": 0
      },
      "text/plain": [
       "HBox(children=(IntProgress(value=0, max=259), HTML(value='')))"
      ]
     },
     "metadata": {},
     "output_type": "display_data"
    },
    {
     "name": "stdout",
     "output_type": "stream",
     "text": [
      "\n",
      "[E:1]\tTrain Loss: 0.296\tDev f1: 0.586\n"
     ]
    },
    {
     "data": {
      "application/vnd.jupyter.widget-view+json": {
       "model_id": "7251c2d3d1cf4e419fb20951f827f94d",
       "version_major": 2,
       "version_minor": 0
      },
      "text/plain": [
       "HBox(children=(IntProgress(value=0, max=259), HTML(value='')))"
      ]
     },
     "metadata": {},
     "output_type": "display_data"
    },
    {
     "name": "stdout",
     "output_type": "stream",
     "text": [
      "\n",
      "[E:2]\tTrain Loss: 0.166\tDev f1: 0.588\n"
     ]
    },
    {
     "data": {
      "application/vnd.jupyter.widget-view+json": {
       "model_id": "362d926e6036458c9f63e56e790c83b7",
       "version_major": 2,
       "version_minor": 0
      },
      "text/plain": [
       "HBox(children=(IntProgress(value=0, max=259), HTML(value='')))"
      ]
     },
     "metadata": {},
     "output_type": "display_data"
    },
    {
     "name": "stdout",
     "output_type": "stream",
     "text": [
      "\n",
      "Saving model at iteration 3 with best score 0.604\n",
      "[E:3]\tTrain Loss: 0.111\tDev f1: 0.604\n"
     ]
    },
    {
     "data": {
      "application/vnd.jupyter.widget-view+json": {
       "model_id": "14023825701e4e1eab4700555aa3154f",
       "version_major": 2,
       "version_minor": 0
      },
      "text/plain": [
       "HBox(children=(IntProgress(value=0, max=259), HTML(value='')))"
      ]
     },
     "metadata": {},
     "output_type": "display_data"
    },
    {
     "name": "stdout",
     "output_type": "stream",
     "text": [
      "\n",
      "[E:4]\tTrain Loss: 0.088\tDev f1: 0.591\n"
     ]
    },
    {
     "data": {
      "application/vnd.jupyter.widget-view+json": {
       "model_id": "d6d1f651405b4add9abb09f269a906a1",
       "version_major": 2,
       "version_minor": 0
      },
      "text/plain": [
       "HBox(children=(IntProgress(value=0, max=259), HTML(value='')))"
      ]
     },
     "metadata": {},
     "output_type": "display_data"
    },
    {
     "name": "stdout",
     "output_type": "stream",
     "text": [
      "\n",
      "Saving model at iteration 5 with best score 0.610\n",
      "[E:5]\tTrain Loss: 0.062\tDev f1: 0.610\n"
     ]
    },
    {
     "data": {
      "application/vnd.jupyter.widget-view+json": {
       "model_id": "3d9d3a2325c048209599c46cd9e8a679",
       "version_major": 2,
       "version_minor": 0
      },
      "text/plain": [
       "HBox(children=(IntProgress(value=0, max=259), HTML(value='')))"
      ]
     },
     "metadata": {},
     "output_type": "display_data"
    },
    {
     "name": "stdout",
     "output_type": "stream",
     "text": [
      "\n",
      "[E:6]\tTrain Loss: 0.051\tDev f1: 0.586\n"
     ]
    },
    {
     "data": {
      "application/vnd.jupyter.widget-view+json": {
       "model_id": "f1325dd93797465d9882a1dfe811012c",
       "version_major": 2,
       "version_minor": 0
      },
      "text/plain": [
       "HBox(children=(IntProgress(value=0, max=259), HTML(value='')))"
      ]
     },
     "metadata": {},
     "output_type": "display_data"
    },
    {
     "name": "stdout",
     "output_type": "stream",
     "text": [
      "\n",
      "[E:7]\tTrain Loss: 0.045\tDev f1: 0.599\n"
     ]
    },
    {
     "data": {
      "application/vnd.jupyter.widget-view+json": {
       "model_id": "d9d48ece9f414296bad57da92b3f51f0",
       "version_major": 2,
       "version_minor": 0
      },
      "text/plain": [
       "HBox(children=(IntProgress(value=0, max=259), HTML(value='')))"
      ]
     },
     "metadata": {},
     "output_type": "display_data"
    },
    {
     "name": "stdout",
     "output_type": "stream",
     "text": [
      "\n",
      "[E:8]\tTrain Loss: 0.044\tDev f1: 0.584\n"
     ]
    },
    {
     "data": {
      "application/vnd.jupyter.widget-view+json": {
       "model_id": "7d672586cbab437a91cd9a849a2fbe59",
       "version_major": 2,
       "version_minor": 0
      },
      "text/plain": [
       "HBox(children=(IntProgress(value=0, max=259), HTML(value='')))"
      ]
     },
     "metadata": {},
     "output_type": "display_data"
    },
    {
     "name": "stdout",
     "output_type": "stream",
     "text": [
      "\n",
      "[E:9]\tTrain Loss: 0.037\tDev f1: 0.599\n",
      "Restoring best model from iteration 5 with score 0.610\n",
      "Finished Training\n",
      "F1: 0.610\n",
      "        y=1    y=2   \n",
      " l=1    182    119   \n",
      " l=2    114    473   \n",
      "CPU times: user 14min 58s, sys: 14.7 s, total: 15min 12s\n",
      "Wall time: 15min 9s\n",
      "Precision: 0.522\n",
      "Recall: 0.625\n",
      "F1: 0.569\n",
      "        y=1    y=2   \n",
      " l=1    941    860   \n",
      " l=2    564   2255   \n"
     ]
    },
    {
     "data": {
      "text/plain": [
       "[0.5224875069405885, 0.6252491694352159, 0.5692679975801573]"
      ]
     },
     "execution_count": 6,
     "metadata": {},
     "output_type": "execute_result"
    }
   ],
   "source": [
    "from metal.end_model import EndModel\n",
    "from metal.modules import LSTMModule\n",
    "use_cuda = torch.cuda.is_available()\n",
    "\n",
    "wembs = load_embeddings(train.word_dict, embs)\n",
    "lstm = LSTMModule(embed_size=50, \n",
    "                  hidden_size=100, \n",
    "                  embeddings=wembs,\n",
    "                  lstm_reduction='attention', \n",
    "                  dropout=0, \n",
    "                  num_layers=1, \n",
    "                  freeze=False)\n",
    "\n",
    "oracle = EndModel([200, 2], input_module=lstm, seed=123, use_cuda=use_cuda)\n",
    "oracle.config['train_config']['optimizer_config']['optimizer_common']['lr'] = 0.01\n",
    "oracle.config['train_config']['validation_metric'] = 'f1'\n",
    "oracle.config['train_config']['batch_size'] = 32\n",
    "oracle.config['train_config']['n_epochs'] = 10\n",
    "\n",
    "%time oracle.train_model(train, dev_data=dev)\n",
    "oracle.score(test, metric=['precision', 'recall', 'f1'])"
   ]
  },
  {
   "cell_type": "markdown",
   "metadata": {},
   "source": [
    "## (b) `BaseWeak`: EndModel trained on weak labels"
   ]
  },
  {
   "cell_type": "code",
   "execution_count": 8,
   "metadata": {},
   "outputs": [
    {
     "name": "stdout",
     "output_type": "stream",
     "text": [
      "Connected to sqlite:////dfs/scratch0/vschen/metal/metal/contrib/slicing/CDR/cdr.db\n"
     ]
    }
   ],
   "source": [
    "from metal.contrib.slicing.CDR.wrapper \\\n",
    "    import SnorkelDataset as SnorkelSliceDataset\n",
    "\n",
    "train_weak = SnorkelSliceDataset(\n",
    "    db_conn_str,\n",
    "    candidate_def,\n",
    "    split=0,\n",
    "    use_lfs=1\n",
    ")\n",
    "\n",
    "# dev_weak = SnorkelSliceDataset(\n",
    "#     db_conn_str,\n",
    "#     candidate_def,\n",
    "#     split=1,\n",
    "#     use_lfs=1\n",
    "# )"
   ]
  },
  {
   "cell_type": "code",
   "execution_count": 9,
   "metadata": {},
   "outputs": [
    {
     "name": "stdout",
     "output_type": "stream",
     "text": [
      "Loaded 77.0% (7656/9946) pretrained embeddings\n",
      "Using pretrained embeddings.\n",
      "Embeddings shape = (9946, 50)\n",
      "The embeddings are NOT FROZEN\n",
      "Using lstm_reduction = 'attention'\n",
      "\n",
      "Network architecture:\n",
      "Sequential(\n",
      "  (0): Sequential(\n",
      "    (0): LSTMModule(\n",
      "      (embeddings): Embedding(9946, 50)\n",
      "      (lstm): LSTM(50, 100, batch_first=True, bidirectional=True)\n",
      "    )\n",
      "    (1): ReLU()\n",
      "  )\n",
      "  (1): Linear(in_features=200, out_features=2, bias=True)\n",
      ")\n",
      "\n",
      "Using GPU...\n"
     ]
    },
    {
     "data": {
      "application/vnd.jupyter.widget-view+json": {
       "model_id": "47a6d70853ce4398b62c17e0bda95ca7",
       "version_major": 2,
       "version_minor": 0
      },
      "text/plain": [
       "HBox(children=(IntProgress(value=0, max=259), HTML(value='')))"
      ]
     },
     "metadata": {},
     "output_type": "display_data"
    },
    {
     "name": "stdout",
     "output_type": "stream",
     "text": [
      "\n",
      "Saving model at iteration 0 with best score 0.505\n",
      "[E:0]\tTrain Loss: 0.621\tDev f1: 0.505\n"
     ]
    },
    {
     "data": {
      "application/vnd.jupyter.widget-view+json": {
       "model_id": "8878b73904a149f2ad00aee9d5abebad",
       "version_major": 2,
       "version_minor": 0
      },
      "text/plain": [
       "HBox(children=(IntProgress(value=0, max=259), HTML(value='')))"
      ]
     },
     "metadata": {},
     "output_type": "display_data"
    },
    {
     "name": "stdout",
     "output_type": "stream",
     "text": [
      "\n",
      "Saving model at iteration 1 with best score 0.506\n",
      "[E:1]\tTrain Loss: 0.593\tDev f1: 0.506\n"
     ]
    },
    {
     "data": {
      "application/vnd.jupyter.widget-view+json": {
       "model_id": "055817dbae6148baa9c5a5dda0489730",
       "version_major": 2,
       "version_minor": 0
      },
      "text/plain": [
       "HBox(children=(IntProgress(value=0, max=259), HTML(value='')))"
      ]
     },
     "metadata": {},
     "output_type": "display_data"
    },
    {
     "name": "stdout",
     "output_type": "stream",
     "text": [
      "\n",
      "Saving model at iteration 2 with best score 0.518\n",
      "[E:2]\tTrain Loss: 0.582\tDev f1: 0.518\n"
     ]
    },
    {
     "data": {
      "application/vnd.jupyter.widget-view+json": {
       "model_id": "d7d4859c851f451c8afb1a1b01fc4398",
       "version_major": 2,
       "version_minor": 0
      },
      "text/plain": [
       "HBox(children=(IntProgress(value=0, max=259), HTML(value='')))"
      ]
     },
     "metadata": {},
     "output_type": "display_data"
    },
    {
     "name": "stdout",
     "output_type": "stream",
     "text": [
      "\n",
      "[E:3]\tTrain Loss: 0.578\tDev f1: 0.511\n"
     ]
    },
    {
     "data": {
      "application/vnd.jupyter.widget-view+json": {
       "model_id": "6c79f647aca14b7bbffb2e2434ba39e6",
       "version_major": 2,
       "version_minor": 0
      },
      "text/plain": [
       "HBox(children=(IntProgress(value=0, max=259), HTML(value='')))"
      ]
     },
     "metadata": {},
     "output_type": "display_data"
    },
    {
     "name": "stdout",
     "output_type": "stream",
     "text": [
      "\n",
      "[E:4]\tTrain Loss: 0.575\tDev f1: 0.515\n"
     ]
    },
    {
     "data": {
      "application/vnd.jupyter.widget-view+json": {
       "model_id": "e2f7d2451e254c91b0ad4c8d7379a5b5",
       "version_major": 2,
       "version_minor": 0
      },
      "text/plain": [
       "HBox(children=(IntProgress(value=0, max=259), HTML(value='')))"
      ]
     },
     "metadata": {},
     "output_type": "display_data"
    },
    {
     "name": "stdout",
     "output_type": "stream",
     "text": [
      "\n",
      "[E:5]\tTrain Loss: 0.574\tDev f1: 0.504\n"
     ]
    },
    {
     "data": {
      "application/vnd.jupyter.widget-view+json": {
       "model_id": "212eaf6a3f1b452f8e82c683185efd79",
       "version_major": 2,
       "version_minor": 0
      },
      "text/plain": [
       "HBox(children=(IntProgress(value=0, max=259), HTML(value='')))"
      ]
     },
     "metadata": {},
     "output_type": "display_data"
    },
    {
     "name": "stdout",
     "output_type": "stream",
     "text": [
      "\n",
      "[E:6]\tTrain Loss: 0.573\tDev f1: 0.508\n"
     ]
    },
    {
     "data": {
      "application/vnd.jupyter.widget-view+json": {
       "model_id": "ea310295a22b46a6886f4fc54810f1f7",
       "version_major": 2,
       "version_minor": 0
      },
      "text/plain": [
       "HBox(children=(IntProgress(value=0, max=259), HTML(value='')))"
      ]
     },
     "metadata": {},
     "output_type": "display_data"
    },
    {
     "name": "stdout",
     "output_type": "stream",
     "text": [
      "\n",
      "Saving model at iteration 7 with best score 0.519\n",
      "[E:7]\tTrain Loss: 0.572\tDev f1: 0.519\n"
     ]
    },
    {
     "data": {
      "application/vnd.jupyter.widget-view+json": {
       "model_id": "3a6ab33bc5ad4a3aaca83e59c081ac79",
       "version_major": 2,
       "version_minor": 0
      },
      "text/plain": [
       "HBox(children=(IntProgress(value=0, max=259), HTML(value='')))"
      ]
     },
     "metadata": {},
     "output_type": "display_data"
    },
    {
     "name": "stdout",
     "output_type": "stream",
     "text": [
      "\n",
      "[E:8]\tTrain Loss: 0.572\tDev f1: 0.511\n"
     ]
    },
    {
     "data": {
      "application/vnd.jupyter.widget-view+json": {
       "model_id": "2b3864ebb44a4faaa14f0e936be7da1a",
       "version_major": 2,
       "version_minor": 0
      },
      "text/plain": [
       "HBox(children=(IntProgress(value=0, max=259), HTML(value='')))"
      ]
     },
     "metadata": {},
     "output_type": "display_data"
    },
    {
     "name": "stdout",
     "output_type": "stream",
     "text": [
      "\n",
      "[E:9]\tTrain Loss: 0.571\tDev f1: 0.502\n",
      "Restoring best model from iteration 7 with score 0.519\n",
      "Finished Training\n",
      "F1: 0.519\n",
      "        y=1    y=2   \n",
      " l=1    265    461   \n",
      " l=2    31     131   \n",
      "CPU times: user 13min 53s, sys: 16.6 s, total: 14min 10s\n",
      "Wall time: 14min 6s\n",
      "Precision: 0.334\n",
      "Recall: 0.868\n",
      "F1: 0.483\n",
      "        y=1    y=2   \n",
      " l=1   1306   2602   \n",
      " l=2    199    513   \n"
     ]
    }
   ],
   "source": [
    "from metal.end_model import EndModel\n",
    "from metal.modules import LSTMModule\n",
    "use_cuda = torch.cuda.is_available()\n",
    "\n",
    "wembs = load_embeddings(train.word_dict, embs)\n",
    "lstm = LSTMModule(embed_size=50, \n",
    "                  hidden_size=100,\n",
    "                  embeddings=wembs,\n",
    "                  lstm_reduction='attention', \n",
    "                  dropout=0,\n",
    "                  num_layers=1,\n",
    "                  freeze=False)\n",
    "\n",
    "base_weak = EndModel([200, 2], input_module=lstm, seed=123, use_cuda=use_cuda)\n",
    "\n",
    "base_weak.config['train_config']['optimizer_config']['optimizer_common']['lr'] = 0.01\n",
    "base_weak.config['train_config']['validation_metric'] = 'f1'\n",
    "base_weak.config['train_config']['batch_size'] = 32\n",
    "base_weak.config['train_config']['n_epochs'] = 10\n",
    "\n",
    "%time base_weak.train_model(train_weak, dev_data=dev)\n",
    "# %time base_weak.train_model(dev_weak, dev_data=dev)\n",
    "base_weak_scores = base_weak.score(test, metric=['precision', 'recall', 'f1'])"
   ]
  },
  {
   "cell_type": "markdown",
   "metadata": {},
   "source": [
    "## Generate `L_*` to target slices"
   ]
  },
  {
   "cell_type": "code",
   "execution_count": 10,
   "metadata": {},
   "outputs": [
    {
     "name": "stdout",
     "output_type": "stream",
     "text": [
      "['LF_c_cause_d', 'LF_c_d', 'LF_c_induced_d', 'LF_c_treat_d', 'LF_c_treat_d_wide', 'LF_closer_chem', 'LF_closer_dis', 'LF_ctd_marker_c_d', 'LF_ctd_marker_induce', 'LF_ctd_therapy_treat', 'LF_ctd_unspecified_treat', 'LF_ctd_unspecified_induce', 'LF_d_following_c', 'LF_d_induced_by_c', 'LF_d_induced_by_c_tight', 'LF_d_treat_c', 'LF_develop_d_following_c', 'LF_far_c_d', 'LF_far_d_c', 'LF_improve_before_disease', 'LF_in_ctd_therapy', 'LF_in_ctd_marker', 'LF_in_patient_with', 'LF_induce', 'LF_induce_name', 'LF_induced_other', 'LF_level', 'LF_measure', 'LF_neg_d', 'LF_risk_d', 'LF_treat_d', 'LF_uncertain', 'LF_weak_assertions']\n"
     ]
    }
   ],
   "source": [
    "from labeling_functions import LFs\n",
    "print ([lf.__name__ for lf in LFs])"
   ]
  },
  {
   "cell_type": "code",
   "execution_count": 15,
   "metadata": {},
   "outputs": [
    {
     "name": "stdout",
     "output_type": "stream",
     "text": [
      "Clearing existing...\n"
     ]
    },
    {
     "name": "stderr",
     "output_type": "stream",
     "text": [
      "  0%|          | 6/8272 [00:00<02:24, 57.24it/s]"
     ]
    },
    {
     "name": "stdout",
     "output_type": "stream",
     "text": [
      "Running UDF...\n"
     ]
    },
    {
     "name": "stderr",
     "output_type": "stream",
     "text": [
      "100%|██████████| 8272/8272 [00:37<00:00, 218.01it/s]\n"
     ]
    },
    {
     "name": "stdout",
     "output_type": "stream",
     "text": [
      "Clearing existing...\n"
     ]
    },
    {
     "name": "stderr",
     "output_type": "stream",
     "text": [
      "  1%|          | 7/888 [00:00<00:13, 67.30it/s]"
     ]
    },
    {
     "name": "stdout",
     "output_type": "stream",
     "text": [
      "Running UDF...\n"
     ]
    },
    {
     "name": "stderr",
     "output_type": "stream",
     "text": [
      "100%|██████████| 888/888 [00:04<00:00, 200.81it/s]\n",
      "  0%|          | 0/4620 [00:00<?, ?it/s]"
     ]
    },
    {
     "name": "stdout",
     "output_type": "stream",
     "text": [
      "Clearing existing...\n",
      "Running UDF...\n"
     ]
    },
    {
     "name": "stderr",
     "output_type": "stream",
     "text": [
      "100%|██████████| 4620/4620 [00:21<00:00, 214.99it/s]\n"
     ]
    },
    {
     "name": "stdout",
     "output_type": "stream",
     "text": [
      "Inferred cardinality: 2\n",
      "CPU times: user 2min 41s, sys: 752 ms, total: 2min 42s\n",
      "Wall time: 2min 44s\n"
     ]
    }
   ],
   "source": [
    "%%time \n",
    "from snorkel import SnorkelSession\n",
    "session = SnorkelSession()\n",
    "\n",
    "from snorkel.annotations import LabelAnnotator\n",
    "labeler = LabelAnnotator(lfs=LFs)\n",
    "L_train = labeler.apply(split=0)\n",
    "L_dev = labeler.apply(split=1) # used for debugging\n",
    "L_test = labeler.apply(split=2) # used for evaluation\n",
    "\n",
    "from snorkel.learning.structure import DependencySelector\n",
    "ds = DependencySelector()\n",
    "deps = ds.select(L_train, threshold=0.1)\n",
    "from snorkel.learning import GenerativeModel\n",
    "\n",
    "# need to extract `accs` from gen_model\n",
    "gen_model = GenerativeModel(lf_propensity=True)\n",
    "gen_model.train(\n",
    "    L_train, deps=deps, decay=0.95, step_size=0.1/L_train.shape[0], reg_param=0.0\n",
    ")\n",
    "\n",
    "accs = np.array(gen_model.learned_lf_stats()['Accuracy'])\n",
    "accs[np.isnan(accs)] = 0\n",
    "accs = np.minimum(accs, 0.999)\n",
    "\n",
    "# train_marginals = gen_model.marginals(L_train)"
   ]
  },
  {
   "cell_type": "markdown",
   "metadata": {},
   "source": [
    "### Custom Slicing Dataset"
   ]
  },
  {
   "cell_type": "code",
   "execution_count": 12,
   "metadata": {},
   "outputs": [
    {
     "name": "stdout",
     "output_type": "stream",
     "text": [
      "Connected to sqlite:////dfs/scratch0/vschen/metal/metal/contrib/slicing/CDR/cdr.db\n",
      "Connected to sqlite:////dfs/scratch0/vschen/metal/metal/contrib/slicing/CDR/cdr.db\n"
     ]
    }
   ],
   "source": [
    "# passes L values as supervision\n",
    "train_slice = SnorkelSliceDataset(\n",
    "    db_conn_str,\n",
    "    candidate_def,\n",
    "    split=0,\n",
    "    L_train=L_train,\n",
    ")\n",
    "\n",
    "# contains weak labels as priors \n",
    "train_slice_weak = SnorkelSliceDataset(\n",
    "    db_conn_str,\n",
    "    candidate_def,\n",
    "    split=0,\n",
    "    L_train=L_train,\n",
    "    use_lfs=1\n",
    ")\n",
    "\n",
    "# # for debugging purposes (overfitting to dev set)\n",
    "# dev_slice = SnorkelSliceDataset(\n",
    "#     db_conn_str,\n",
    "#     candidate_def,\n",
    "#     split=1,\n",
    "#     L_train=L_dev,\n",
    "# )\n",
    "\n",
    "# dev_slice_weak = SnorkelSliceDataset(\n",
    "#     db_conn_str,\n",
    "#     candidate_def,\n",
    "#     split=1,\n",
    "#     L_train=L_train,\n",
    "#     use_lfs=1\n",
    "# )"
   ]
  },
  {
   "cell_type": "markdown",
   "metadata": {},
   "source": [
    "## (c) `SliceUW`: Unweighted SliceModel with `rw=False`"
   ]
  },
  {
   "cell_type": "code",
   "execution_count": 13,
   "metadata": {},
   "outputs": [],
   "source": [
    "from metal.contrib.slicing.online_dp import SliceDPModel, LinearModule"
   ]
  },
  {
   "cell_type": "code",
   "execution_count": 16,
   "metadata": {},
   "outputs": [
    {
     "name": "stdout",
     "output_type": "stream",
     "text": [
      "Loaded 77.0% (7656/9946) pretrained embeddings\n",
      "Using pretrained embeddings.\n",
      "Embeddings shape = (9946, 50)\n",
      "The embeddings are NOT FROZEN\n",
      "Using lstm_reduction = 'attention'\n",
      "Slice Heads:\n",
      "Input Network: Sequential(\n",
      "  (0): Sequential(\n",
      "    (0): LSTMModule(\n",
      "      (embeddings): Embedding(9946, 50)\n",
      "      (lstm): LSTM(50, 100, batch_first=True, bidirectional=True)\n",
      "    )\n",
      "    (1): ReLU()\n",
      "  )\n",
      ")\n",
      "L_head: Linear(in_features=200, out_features=33, bias=False)\n",
      "Y_head: Linear(in_features=200, out_features=2, bias=False)\n",
      "Using GPU...\n"
     ]
    },
    {
     "name": "stderr",
     "output_type": "stream",
     "text": [
      "/dfs/scratch0/vschen/snorkel/snorkel/learning/gen_learning.py:350: RuntimeWarning: invalid value encountered in double_scalars\n",
      "  \"Precision\": tp / (tp + fp),\n",
      "/dfs/scratch0/vschen/snorkel/snorkel/learning/gen_learning.py:352: RuntimeWarning: invalid value encountered in double_scalars\n",
      "  \"Accuracy\": (tp + tn) / coverage,\n",
      "/dfs/scratch0/vschen/snorkel-pytorch/venv/lib/python3.6/site-packages/torch/nn/_reduction.py:49: UserWarning: size_average and reduce args will be deprecated, please use reduction='none' instead.\n",
      "  warnings.warn(warning.format(ret))\n",
      "/dfs/scratch0/vschen/metal/metal/contrib/slicing/online_dp.py:103: RuntimeWarning: divide by zero encountered in log\n",
      "  self.w = torch.from_numpy(np.log(accs / (1-accs))).float()\n"
     ]
    },
    {
     "data": {
      "application/vnd.jupyter.widget-view+json": {
       "model_id": "19f04ba6e206476d88a1ec83b678b4de",
       "version_major": 2,
       "version_minor": 0
      },
      "text/plain": [
       "HBox(children=(IntProgress(value=0, max=259), HTML(value='')))"
      ]
     },
     "metadata": {},
     "output_type": "display_data"
    },
    {
     "name": "stderr",
     "output_type": "stream",
     "text": [
      "/dfs/scratch0/vschen/snorkel-pytorch/venv/lib/python3.6/site-packages/torch/nn/functional.py:1332: UserWarning: nn.functional.sigmoid is deprecated. Use torch.sigmoid instead.\n",
      "  warnings.warn(\"nn.functional.sigmoid is deprecated. Use torch.sigmoid instead.\")\n"
     ]
    },
    {
     "name": "stdout",
     "output_type": "stream",
     "text": [
      "\n",
      "Saving model at iteration 0 with best score 0.528\n",
      "[E:0]\tTrain Loss: 0.445\tDev f1: 0.528\n"
     ]
    },
    {
     "data": {
      "application/vnd.jupyter.widget-view+json": {
       "model_id": "9a1cbdaf1faa4476a2652277640d030a",
       "version_major": 2,
       "version_minor": 0
      },
      "text/plain": [
       "HBox(children=(IntProgress(value=0, max=259), HTML(value='')))"
      ]
     },
     "metadata": {},
     "output_type": "display_data"
    },
    {
     "name": "stdout",
     "output_type": "stream",
     "text": [
      "\n",
      "Saving model at iteration 1 with best score 0.602\n",
      "[E:1]\tTrain Loss: 0.430\tDev f1: 0.602\n"
     ]
    },
    {
     "data": {
      "application/vnd.jupyter.widget-view+json": {
       "model_id": "9a730c21777d420c8184e3e4c0b3b1ef",
       "version_major": 2,
       "version_minor": 0
      },
      "text/plain": [
       "HBox(children=(IntProgress(value=0, max=259), HTML(value='')))"
      ]
     },
     "metadata": {},
     "output_type": "display_data"
    },
    {
     "name": "stdout",
     "output_type": "stream",
     "text": [
      "\n",
      "[E:2]\tTrain Loss: 0.424\tDev f1: 0.581\n"
     ]
    },
    {
     "data": {
      "application/vnd.jupyter.widget-view+json": {
       "model_id": "36cad37d6ea04ca69fcea9107a93bb6f",
       "version_major": 2,
       "version_minor": 0
      },
      "text/plain": [
       "HBox(children=(IntProgress(value=0, max=259), HTML(value='')))"
      ]
     },
     "metadata": {},
     "output_type": "display_data"
    },
    {
     "name": "stdout",
     "output_type": "stream",
     "text": [
      "\n",
      "[E:3]\tTrain Loss: 0.420\tDev f1: 0.589\n"
     ]
    },
    {
     "data": {
      "application/vnd.jupyter.widget-view+json": {
       "model_id": "c9a8cbcf78714746929b8c493e734764",
       "version_major": 2,
       "version_minor": 0
      },
      "text/plain": [
       "HBox(children=(IntProgress(value=0, max=259), HTML(value='')))"
      ]
     },
     "metadata": {},
     "output_type": "display_data"
    },
    {
     "name": "stdout",
     "output_type": "stream",
     "text": [
      "\n",
      "[E:4]\tTrain Loss: 0.417\tDev f1: 0.598\n"
     ]
    },
    {
     "data": {
      "application/vnd.jupyter.widget-view+json": {
       "model_id": "07ecdbf7a66149d080b14599d1efaa4d",
       "version_major": 2,
       "version_minor": 0
      },
      "text/plain": [
       "HBox(children=(IntProgress(value=0, max=259), HTML(value='')))"
      ]
     },
     "metadata": {},
     "output_type": "display_data"
    },
    {
     "name": "stdout",
     "output_type": "stream",
     "text": [
      "\n",
      "[E:5]\tTrain Loss: 0.416\tDev f1: 0.596\n"
     ]
    },
    {
     "data": {
      "application/vnd.jupyter.widget-view+json": {
       "model_id": "9d9bdf1152f949778473e6f7ebae66d3",
       "version_major": 2,
       "version_minor": 0
      },
      "text/plain": [
       "HBox(children=(IntProgress(value=0, max=259), HTML(value='')))"
      ]
     },
     "metadata": {},
     "output_type": "display_data"
    },
    {
     "name": "stdout",
     "output_type": "stream",
     "text": [
      "\n",
      "[E:6]\tTrain Loss: 0.414\tDev f1: 0.580\n"
     ]
    },
    {
     "data": {
      "application/vnd.jupyter.widget-view+json": {
       "model_id": "8d5628aeae734c49a5fb85c025c04f12",
       "version_major": 2,
       "version_minor": 0
      },
      "text/plain": [
       "HBox(children=(IntProgress(value=0, max=259), HTML(value='')))"
      ]
     },
     "metadata": {},
     "output_type": "display_data"
    },
    {
     "name": "stdout",
     "output_type": "stream",
     "text": [
      "\n",
      "[E:7]\tTrain Loss: 0.413\tDev f1: 0.584\n"
     ]
    },
    {
     "data": {
      "application/vnd.jupyter.widget-view+json": {
       "model_id": "daf5cc777e8b4c8fafb5c667cfedcdf9",
       "version_major": 2,
       "version_minor": 0
      },
      "text/plain": [
       "HBox(children=(IntProgress(value=0, max=259), HTML(value='')))"
      ]
     },
     "metadata": {},
     "output_type": "display_data"
    },
    {
     "name": "stdout",
     "output_type": "stream",
     "text": [
      "\n",
      "[E:8]\tTrain Loss: 0.412\tDev f1: 0.601\n"
     ]
    },
    {
     "data": {
      "application/vnd.jupyter.widget-view+json": {
       "model_id": "0f7fab8f271f43358704ebe1ea6823d6",
       "version_major": 2,
       "version_minor": 0
      },
      "text/plain": [
       "HBox(children=(IntProgress(value=0, max=259), HTML(value='')))"
      ]
     },
     "metadata": {},
     "output_type": "display_data"
    },
    {
     "name": "stdout",
     "output_type": "stream",
     "text": [
      "\n",
      "[E:9]\tTrain Loss: 0.412\tDev f1: 0.587\n",
      "Restoring best model from iteration 1 with score 0.602\n",
      "Finished Training\n",
      "F1: 0.602\n",
      "        y=1    y=2   \n",
      " l=1    259    306   \n",
      " l=2    37     286   \n",
      "CPU times: user 25min 54s, sys: 28.2 s, total: 26min 22s\n",
      "Wall time: 26min 18s\n",
      "Precision: 0.417\n",
      "Recall: 0.863\n",
      "F1: 0.563\n",
      "        y=1    y=2   \n",
      " l=1   1299   1814   \n",
      " l=2    206   1301   \n"
     ]
    }
   ],
   "source": [
    "wembs = load_embeddings(train.word_dict, embs)\n",
    "lstm = LSTMModule(embed_size=50, \n",
    "                  hidden_size=100, \n",
    "                  embeddings=wembs,\n",
    "                  lstm_reduction='attention', \n",
    "                  dropout=0, \n",
    "                  num_layers=1, \n",
    "                  freeze=False)\n",
    "\n",
    "r_dim = 200\n",
    "rw = False\n",
    "slice_uw = SliceDPModel(lstm, accs, r_dim, rw, seed=123, use_cuda=True)\n",
    "\n",
    "slice_uw.config['train_config']['optimizer_config']['optimizer_common']['lr'] = 0.01\n",
    "slice_uw.config['train_config']['validation_metric'] = 'f1'\n",
    "slice_uw.config['train_config']['batch_size'] = 32\n",
    "slice_uw.config['train_config']['n_epochs'] = 10\n",
    "\n",
    "%time slice_uw.train_model(train_slice, dev_data=dev)\n",
    "slice_uw_scores = slice_uw.score(test, metric=['precision', 'recall', 'f1'])"
   ]
  },
  {
   "cell_type": "markdown",
   "metadata": {},
   "source": [
    "## (d) `SliceOurs`: Attention SliceModel with `rw=True`"
   ]
  },
  {
   "cell_type": "code",
   "execution_count": 17,
   "metadata": {},
   "outputs": [
    {
     "name": "stdout",
     "output_type": "stream",
     "text": [
      "Loaded 77.0% (7656/9946) pretrained embeddings\n",
      "Using pretrained embeddings.\n",
      "Embeddings shape = (9946, 50)\n",
      "The embeddings are NOT FROZEN\n",
      "Using lstm_reduction = 'attention'\n",
      "Slice Heads:\n",
      "Input Network: Sequential(\n",
      "  (0): Sequential(\n",
      "    (0): LSTMModule(\n",
      "      (embeddings): Embedding(9946, 50)\n",
      "      (lstm): LSTM(50, 100, batch_first=True, bidirectional=True)\n",
      "    )\n",
      "    (1): ReLU()\n",
      "  )\n",
      ")\n",
      "L_head: Linear(in_features=200, out_features=33, bias=False)\n",
      "Y_head: Linear(in_features=400, out_features=2, bias=False)\n",
      "Using GPU...\n"
     ]
    },
    {
     "data": {
      "application/vnd.jupyter.widget-view+json": {
       "model_id": "27155fc84b4447a896202d95a2e9fee2",
       "version_major": 2,
       "version_minor": 0
      },
      "text/plain": [
       "HBox(children=(IntProgress(value=0, max=259), HTML(value='')))"
      ]
     },
     "metadata": {},
     "output_type": "display_data"
    },
    {
     "name": "stderr",
     "output_type": "stream",
     "text": [
      "/dfs/scratch0/vschen/metal/metal/contrib/slicing/online_dp.py:170: UserWarning: Implicit dimension choice for softmax has been deprecated. Change the call to include dim=X as an argument.\n",
      "  A = F.softmax(self.forward_L(x)).unsqueeze(1)\n"
     ]
    },
    {
     "name": "stdout",
     "output_type": "stream",
     "text": [
      "\n",
      "Saving model at iteration 0 with best score 0.561\n",
      "[E:0]\tTrain Loss: 0.444\tDev f1: 0.561\n"
     ]
    },
    {
     "data": {
      "application/vnd.jupyter.widget-view+json": {
       "model_id": "5ed2282385a34a569c9164aeac56d09b",
       "version_major": 2,
       "version_minor": 0
      },
      "text/plain": [
       "HBox(children=(IntProgress(value=0, max=259), HTML(value='')))"
      ]
     },
     "metadata": {},
     "output_type": "display_data"
    },
    {
     "name": "stdout",
     "output_type": "stream",
     "text": [
      "\n",
      "Saving model at iteration 1 with best score 0.575\n",
      "[E:1]\tTrain Loss: 0.430\tDev f1: 0.575\n"
     ]
    },
    {
     "data": {
      "application/vnd.jupyter.widget-view+json": {
       "model_id": "8ca791bdd7a64f3e939f34f21b682e5e",
       "version_major": 2,
       "version_minor": 0
      },
      "text/plain": [
       "HBox(children=(IntProgress(value=0, max=259), HTML(value='')))"
      ]
     },
     "metadata": {},
     "output_type": "display_data"
    },
    {
     "name": "stdout",
     "output_type": "stream",
     "text": [
      "\n",
      "[E:2]\tTrain Loss: 0.422\tDev f1: 0.563\n"
     ]
    },
    {
     "data": {
      "application/vnd.jupyter.widget-view+json": {
       "model_id": "f263b0f02ba4402e877fb8c09ad3b7dd",
       "version_major": 2,
       "version_minor": 0
      },
      "text/plain": [
       "HBox(children=(IntProgress(value=0, max=259), HTML(value='')))"
      ]
     },
     "metadata": {},
     "output_type": "display_data"
    },
    {
     "name": "stdout",
     "output_type": "stream",
     "text": [
      "\n",
      "Saving model at iteration 3 with best score 0.598\n",
      "[E:3]\tTrain Loss: 0.418\tDev f1: 0.598\n"
     ]
    },
    {
     "data": {
      "application/vnd.jupyter.widget-view+json": {
       "model_id": "cc35ae5ee01f4f97a6a32d608d8506bb",
       "version_major": 2,
       "version_minor": 0
      },
      "text/plain": [
       "HBox(children=(IntProgress(value=0, max=259), HTML(value='')))"
      ]
     },
     "metadata": {},
     "output_type": "display_data"
    },
    {
     "name": "stdout",
     "output_type": "stream",
     "text": [
      "\n",
      "[E:4]\tTrain Loss: 0.415\tDev f1: 0.580\n"
     ]
    },
    {
     "data": {
      "application/vnd.jupyter.widget-view+json": {
       "model_id": "e55aaee140234dfc8644137109f5bf83",
       "version_major": 2,
       "version_minor": 0
      },
      "text/plain": [
       "HBox(children=(IntProgress(value=0, max=259), HTML(value='')))"
      ]
     },
     "metadata": {},
     "output_type": "display_data"
    },
    {
     "name": "stdout",
     "output_type": "stream",
     "text": [
      "\n",
      "[E:5]\tTrain Loss: 0.413\tDev f1: 0.584\n"
     ]
    },
    {
     "data": {
      "application/vnd.jupyter.widget-view+json": {
       "model_id": "4e2975816e424799b66eef824604cfbe",
       "version_major": 2,
       "version_minor": 0
      },
      "text/plain": [
       "HBox(children=(IntProgress(value=0, max=259), HTML(value='')))"
      ]
     },
     "metadata": {},
     "output_type": "display_data"
    },
    {
     "name": "stdout",
     "output_type": "stream",
     "text": [
      "\n",
      "[E:6]\tTrain Loss: 0.411\tDev f1: 0.594\n"
     ]
    },
    {
     "data": {
      "application/vnd.jupyter.widget-view+json": {
       "model_id": "b86339338d194ff0b6c9872543066aa6",
       "version_major": 2,
       "version_minor": 0
      },
      "text/plain": [
       "HBox(children=(IntProgress(value=0, max=259), HTML(value='')))"
      ]
     },
     "metadata": {},
     "output_type": "display_data"
    },
    {
     "name": "stdout",
     "output_type": "stream",
     "text": [
      "\n",
      "[E:7]\tTrain Loss: 0.410\tDev f1: 0.581\n"
     ]
    },
    {
     "data": {
      "application/vnd.jupyter.widget-view+json": {
       "model_id": "e95bce70393c4282ab8170ea7a24bc8f",
       "version_major": 2,
       "version_minor": 0
      },
      "text/plain": [
       "HBox(children=(IntProgress(value=0, max=259), HTML(value='')))"
      ]
     },
     "metadata": {},
     "output_type": "display_data"
    },
    {
     "name": "stdout",
     "output_type": "stream",
     "text": [
      "\n",
      "[E:8]\tTrain Loss: 0.409\tDev f1: 0.594\n"
     ]
    },
    {
     "data": {
      "application/vnd.jupyter.widget-view+json": {
       "model_id": "d6474821e7404216972de8575ed343dc",
       "version_major": 2,
       "version_minor": 0
      },
      "text/plain": [
       "HBox(children=(IntProgress(value=0, max=259), HTML(value='')))"
      ]
     },
     "metadata": {},
     "output_type": "display_data"
    },
    {
     "name": "stdout",
     "output_type": "stream",
     "text": [
      "\n",
      "[E:9]\tTrain Loss: 0.409\tDev f1: 0.573\n",
      "Restoring best model from iteration 3 with score 0.598\n",
      "Finished Training\n",
      "F1: 0.598\n",
      "        y=1    y=2   \n",
      " l=1    254    299   \n",
      " l=2    42     293   \n",
      "CPU times: user 36min 56s, sys: 42.2 s, total: 37min 38s\n",
      "Wall time: 37min 34s\n",
      "Precision: 0.412\n",
      "Recall: 0.863\n",
      "F1: 0.558\n",
      "        y=1    y=2   \n",
      " l=1   1299   1854   \n",
      " l=2    206   1261   \n"
     ]
    }
   ],
   "source": [
    "wembs = load_embeddings(train.word_dict, embs)\n",
    "lstm = LSTMModule(embed_size=50, \n",
    "                  hidden_size=100, \n",
    "                  embeddings=wembs,\n",
    "                  lstm_reduction='attention', \n",
    "                  dropout=0, \n",
    "                  num_layers=1, \n",
    "                  freeze=False)\n",
    "\n",
    "\n",
    "r_dim = 200\n",
    "rw = True\n",
    "slice_ours = SliceDPModel(lstm, accs, r_dim, rw, seed=123, use_cuda=True)\n",
    "\n",
    "slice_ours.config['train_config']['optimizer_config']['optimizer_common']['lr'] = 0.01\n",
    "slice_ours.config['train_config']['validation_metric'] = 'f1'\n",
    "slice_ours.config['train_config']['batch_size'] = 32\n",
    "slice_ours.config['train_config']['n_epochs'] = 10\n",
    "\n",
    "%time slice_ours.train_model(train_slice, dev_data=dev)\n",
    "slice_ours_scores = slice_ours.score(test, metric=['precision', 'recall', 'f1'])"
   ]
  },
  {
   "cell_type": "markdown",
   "metadata": {},
   "source": [
    "## (e) `SliceOursWeak`: Slice Model with $\\tilde{Y}$ priors"
   ]
  },
  {
   "cell_type": "code",
   "execution_count": 18,
   "metadata": {
    "scrolled": false
   },
   "outputs": [
    {
     "name": "stdout",
     "output_type": "stream",
     "text": [
      "Loaded 77.0% (7656/9946) pretrained embeddings\n",
      "Using pretrained embeddings.\n",
      "Embeddings shape = (9946, 50)\n",
      "The embeddings are NOT FROZEN\n",
      "Using lstm_reduction = 'attention'\n",
      "Slice Heads:\n",
      "Input Network: Sequential(\n",
      "  (0): Sequential(\n",
      "    (0): LSTMModule(\n",
      "      (embeddings): Embedding(9946, 50)\n",
      "      (lstm): LSTM(50, 100, batch_first=True, bidirectional=True)\n",
      "    )\n",
      "    (1): ReLU()\n",
      "  )\n",
      ")\n",
      "L_head: Linear(in_features=200, out_features=33, bias=False)\n",
      "Y_head: Linear(in_features=400, out_features=2, bias=False)\n",
      "Using GPU...\n"
     ]
    },
    {
     "data": {
      "application/vnd.jupyter.widget-view+json": {
       "model_id": "3382ffb02f144cf0972a77f22e7a8bd8",
       "version_major": 2,
       "version_minor": 0
      },
      "text/plain": [
       "HBox(children=(IntProgress(value=0, max=259), HTML(value='')))"
      ]
     },
     "metadata": {},
     "output_type": "display_data"
    },
    {
     "name": "stdout",
     "output_type": "stream",
     "text": [
      "\n",
      "Saving model at iteration 0 with best score 0.503\n",
      "[E:0]\tTrain Loss: 0.448\tDev f1: 0.503\n"
     ]
    },
    {
     "data": {
      "application/vnd.jupyter.widget-view+json": {
       "model_id": "e3d746de10374881b0d3584358d3c59f",
       "version_major": 2,
       "version_minor": 0
      },
      "text/plain": [
       "HBox(children=(IntProgress(value=0, max=259), HTML(value='')))"
      ]
     },
     "metadata": {},
     "output_type": "display_data"
    },
    {
     "name": "stdout",
     "output_type": "stream",
     "text": [
      "\n",
      "Saving model at iteration 1 with best score 0.517\n",
      "[E:1]\tTrain Loss: 0.438\tDev f1: 0.517\n"
     ]
    },
    {
     "data": {
      "application/vnd.jupyter.widget-view+json": {
       "model_id": "9d7d7031501d490488547f846ff04f7f",
       "version_major": 2,
       "version_minor": 0
      },
      "text/plain": [
       "HBox(children=(IntProgress(value=0, max=259), HTML(value='')))"
      ]
     },
     "metadata": {},
     "output_type": "display_data"
    },
    {
     "name": "stdout",
     "output_type": "stream",
     "text": [
      "\n",
      "[E:2]\tTrain Loss: 0.432\tDev f1: 0.506\n"
     ]
    },
    {
     "data": {
      "application/vnd.jupyter.widget-view+json": {
       "model_id": "13f276c20e524ae2b7f32e155251f042",
       "version_major": 2,
       "version_minor": 0
      },
      "text/plain": [
       "HBox(children=(IntProgress(value=0, max=259), HTML(value='')))"
      ]
     },
     "metadata": {},
     "output_type": "display_data"
    },
    {
     "name": "stdout",
     "output_type": "stream",
     "text": [
      "\n",
      "[E:3]\tTrain Loss: 0.429\tDev f1: 0.509\n"
     ]
    },
    {
     "data": {
      "application/vnd.jupyter.widget-view+json": {
       "model_id": "1fbbfa100c53426d8762b51a723bab8b",
       "version_major": 2,
       "version_minor": 0
      },
      "text/plain": [
       "HBox(children=(IntProgress(value=0, max=259), HTML(value='')))"
      ]
     },
     "metadata": {},
     "output_type": "display_data"
    },
    {
     "name": "stdout",
     "output_type": "stream",
     "text": [
      "\n",
      "Saving model at iteration 4 with best score 0.522\n",
      "[E:4]\tTrain Loss: 0.428\tDev f1: 0.522\n"
     ]
    },
    {
     "data": {
      "application/vnd.jupyter.widget-view+json": {
       "model_id": "7b0ab2fcefc847d4ae4839974a81edb0",
       "version_major": 2,
       "version_minor": 0
      },
      "text/plain": [
       "HBox(children=(IntProgress(value=0, max=259), HTML(value='')))"
      ]
     },
     "metadata": {},
     "output_type": "display_data"
    },
    {
     "name": "stdout",
     "output_type": "stream",
     "text": [
      "\n",
      "[E:5]\tTrain Loss: 0.426\tDev f1: 0.506\n"
     ]
    },
    {
     "data": {
      "application/vnd.jupyter.widget-view+json": {
       "model_id": "ec3bef69160c45ff930b4103898b0583",
       "version_major": 2,
       "version_minor": 0
      },
      "text/plain": [
       "HBox(children=(IntProgress(value=0, max=259), HTML(value='')))"
      ]
     },
     "metadata": {},
     "output_type": "display_data"
    },
    {
     "name": "stdout",
     "output_type": "stream",
     "text": [
      "\n",
      "[E:6]\tTrain Loss: 0.426\tDev f1: 0.495\n"
     ]
    },
    {
     "data": {
      "application/vnd.jupyter.widget-view+json": {
       "model_id": "6039e7d3b12c44de902196b439e0b3b9",
       "version_major": 2,
       "version_minor": 0
      },
      "text/plain": [
       "HBox(children=(IntProgress(value=0, max=259), HTML(value='')))"
      ]
     },
     "metadata": {},
     "output_type": "display_data"
    },
    {
     "name": "stdout",
     "output_type": "stream",
     "text": [
      "\n",
      "[E:7]\tTrain Loss: 0.425\tDev f1: 0.504\n"
     ]
    },
    {
     "data": {
      "application/vnd.jupyter.widget-view+json": {
       "model_id": "7cee3d1882ef4504bcb37397b9600a93",
       "version_major": 2,
       "version_minor": 0
      },
      "text/plain": [
       "HBox(children=(IntProgress(value=0, max=259), HTML(value='')))"
      ]
     },
     "metadata": {},
     "output_type": "display_data"
    },
    {
     "name": "stdout",
     "output_type": "stream",
     "text": [
      "\n",
      "[E:8]\tTrain Loss: 0.424\tDev f1: 0.504\n"
     ]
    },
    {
     "data": {
      "application/vnd.jupyter.widget-view+json": {
       "model_id": "e726717bb12d4d5cb14530624f6e2e95",
       "version_major": 2,
       "version_minor": 0
      },
      "text/plain": [
       "HBox(children=(IntProgress(value=0, max=259), HTML(value='')))"
      ]
     },
     "metadata": {},
     "output_type": "display_data"
    },
    {
     "name": "stdout",
     "output_type": "stream",
     "text": [
      "\n",
      "[E:9]\tTrain Loss: 0.424\tDev f1: 0.507\n",
      "Restoring best model from iteration 4 with score 0.522\n",
      "Finished Training\n",
      "F1: 0.522\n",
      "        y=1    y=2   \n",
      " l=1    274    480   \n",
      " l=2    22     112   \n",
      "CPU times: user 36min 4s, sys: 41 s, total: 36min 45s\n",
      "Wall time: 36min 39s\n",
      "Precision: 0.334\n",
      "Recall: 0.906\n",
      "F1: 0.488\n",
      "        y=1    y=2   \n",
      " l=1   1364   2723   \n",
      " l=2    141    392   \n"
     ]
    }
   ],
   "source": [
    "from metal.contrib.slicing.online_dp import SliceDPModel, LinearModule\n",
    "from metal.modules import LSTMModule\n",
    "\n",
    "wembs = load_embeddings(train.word_dict, embs)\n",
    "lstm = LSTMModule(embed_size=50, \n",
    "                  hidden_size=100, \n",
    "                  embeddings=wembs,\n",
    "                  lstm_reduction='attention', \n",
    "                  dropout=0, \n",
    "                  num_layers=1, \n",
    "                  freeze=False)\n",
    "\n",
    "r_dim = 200\n",
    "rw = True\n",
    "slice_ours_weak = SliceDPModel(lstm, accs, r_dim, rw, seed=123, use_cuda=True)\n",
    "\n",
    "slice_ours_weak.config['train_config']['optimizer_config']['optimizer_common']['lr'] = 0.01\n",
    "slice_ours_weak.config['train_config']['validation_metric'] = 'f1'\n",
    "slice_ours_weak.config['train_config']['batch_size'] = 32\n",
    "slice_ours_weak.config['train_config']['n_epochs'] = 10\n",
    "\n",
    "%time slice_ours_weak.train_model(train_slice_weak, dev_data=dev)\n",
    "slice_ours_weak_scores = slice_ours_weak.score(test, metric=['precision', 'recall', 'f1'])"
   ]
  },
  {
   "cell_type": "markdown",
   "metadata": {},
   "source": [
    "## (f) `SliceUWWeak`: Unweighted Slice model with $\\tilde{Y}$ priors"
   ]
  },
  {
   "cell_type": "code",
   "execution_count": 19,
   "metadata": {},
   "outputs": [
    {
     "name": "stdout",
     "output_type": "stream",
     "text": [
      "Loaded 77.0% (7656/9946) pretrained embeddings\n",
      "Using pretrained embeddings.\n",
      "Embeddings shape = (9946, 50)\n",
      "The embeddings are NOT FROZEN\n",
      "Using lstm_reduction = 'attention'\n",
      "Slice Heads:\n",
      "Input Network: Sequential(\n",
      "  (0): Sequential(\n",
      "    (0): LSTMModule(\n",
      "      (embeddings): Embedding(9946, 50)\n",
      "      (lstm): LSTM(50, 100, batch_first=True, bidirectional=True)\n",
      "    )\n",
      "    (1): ReLU()\n",
      "  )\n",
      ")\n",
      "L_head: Linear(in_features=200, out_features=33, bias=False)\n",
      "Y_head: Linear(in_features=200, out_features=2, bias=False)\n",
      "Using GPU...\n"
     ]
    },
    {
     "data": {
      "application/vnd.jupyter.widget-view+json": {
       "model_id": "246696c1679341d4a97a0ad2eb67959e",
       "version_major": 2,
       "version_minor": 0
      },
      "text/plain": [
       "HBox(children=(IntProgress(value=0, max=259), HTML(value='')))"
      ]
     },
     "metadata": {},
     "output_type": "display_data"
    },
    {
     "name": "stdout",
     "output_type": "stream",
     "text": [
      "\n",
      "Saving model at iteration 0 with best score 0.510\n",
      "[E:0]\tTrain Loss: 0.448\tDev f1: 0.510\n"
     ]
    },
    {
     "data": {
      "application/vnd.jupyter.widget-view+json": {
       "model_id": "ba17d453bbc147b3893df7771d7875b9",
       "version_major": 2,
       "version_minor": 0
      },
      "text/plain": [
       "HBox(children=(IntProgress(value=0, max=259), HTML(value='')))"
      ]
     },
     "metadata": {},
     "output_type": "display_data"
    },
    {
     "name": "stdout",
     "output_type": "stream",
     "text": [
      "\n",
      "Saving model at iteration 1 with best score 0.513\n",
      "[E:1]\tTrain Loss: 0.438\tDev f1: 0.513\n"
     ]
    },
    {
     "data": {
      "application/vnd.jupyter.widget-view+json": {
       "model_id": "2d5fc576d70a4102b9cd6fbded1a85e9",
       "version_major": 2,
       "version_minor": 0
      },
      "text/plain": [
       "HBox(children=(IntProgress(value=0, max=259), HTML(value='')))"
      ]
     },
     "metadata": {},
     "output_type": "display_data"
    },
    {
     "name": "stdout",
     "output_type": "stream",
     "text": [
      "\n",
      "[E:2]\tTrain Loss: 0.432\tDev f1: 0.508\n"
     ]
    },
    {
     "data": {
      "application/vnd.jupyter.widget-view+json": {
       "model_id": "d800eb074175456eacc92973aee4cc2b",
       "version_major": 2,
       "version_minor": 0
      },
      "text/plain": [
       "HBox(children=(IntProgress(value=0, max=259), HTML(value='')))"
      ]
     },
     "metadata": {},
     "output_type": "display_data"
    },
    {
     "name": "stdout",
     "output_type": "stream",
     "text": [
      "\n",
      "[E:3]\tTrain Loss: 0.429\tDev f1: 0.505\n"
     ]
    },
    {
     "data": {
      "application/vnd.jupyter.widget-view+json": {
       "model_id": "e5a8db24f5a946ffbb7a229aa0773e07",
       "version_major": 2,
       "version_minor": 0
      },
      "text/plain": [
       "HBox(children=(IntProgress(value=0, max=259), HTML(value='')))"
      ]
     },
     "metadata": {},
     "output_type": "display_data"
    },
    {
     "name": "stdout",
     "output_type": "stream",
     "text": [
      "\n",
      "[E:4]\tTrain Loss: 0.427\tDev f1: 0.505\n"
     ]
    },
    {
     "data": {
      "application/vnd.jupyter.widget-view+json": {
       "model_id": "9a3cc44b44fe40419426aee4391c40d4",
       "version_major": 2,
       "version_minor": 0
      },
      "text/plain": [
       "HBox(children=(IntProgress(value=0, max=259), HTML(value='')))"
      ]
     },
     "metadata": {},
     "output_type": "display_data"
    },
    {
     "name": "stdout",
     "output_type": "stream",
     "text": [
      "\n",
      "Saving model at iteration 5 with best score 0.516\n",
      "[E:5]\tTrain Loss: 0.426\tDev f1: 0.516\n"
     ]
    },
    {
     "data": {
      "application/vnd.jupyter.widget-view+json": {
       "model_id": "44ca5122ec61478eb89be9f536902aa1",
       "version_major": 2,
       "version_minor": 0
      },
      "text/plain": [
       "HBox(children=(IntProgress(value=0, max=259), HTML(value='')))"
      ]
     },
     "metadata": {},
     "output_type": "display_data"
    },
    {
     "name": "stdout",
     "output_type": "stream",
     "text": [
      "\n",
      "[E:6]\tTrain Loss: 0.425\tDev f1: 0.506\n"
     ]
    },
    {
     "data": {
      "application/vnd.jupyter.widget-view+json": {
       "model_id": "6e27737acfff4e9eb39e20bc0ef9b3b7",
       "version_major": 2,
       "version_minor": 0
      },
      "text/plain": [
       "HBox(children=(IntProgress(value=0, max=259), HTML(value='')))"
      ]
     },
     "metadata": {},
     "output_type": "display_data"
    },
    {
     "name": "stdout",
     "output_type": "stream",
     "text": [
      "\n",
      "[E:7]\tTrain Loss: 0.425\tDev f1: 0.508\n"
     ]
    },
    {
     "data": {
      "application/vnd.jupyter.widget-view+json": {
       "model_id": "12fd330ea12a449eb90c8f2214a87473",
       "version_major": 2,
       "version_minor": 0
      },
      "text/plain": [
       "HBox(children=(IntProgress(value=0, max=259), HTML(value='')))"
      ]
     },
     "metadata": {},
     "output_type": "display_data"
    },
    {
     "name": "stdout",
     "output_type": "stream",
     "text": [
      "\n",
      "[E:8]\tTrain Loss: 0.424\tDev f1: 0.511\n"
     ]
    },
    {
     "data": {
      "application/vnd.jupyter.widget-view+json": {
       "model_id": "47253618c3cb4d818199bbc71e4de391",
       "version_major": 2,
       "version_minor": 0
      },
      "text/plain": [
       "HBox(children=(IntProgress(value=0, max=259), HTML(value='')))"
      ]
     },
     "metadata": {},
     "output_type": "display_data"
    },
    {
     "name": "stdout",
     "output_type": "stream",
     "text": [
      "\n",
      "[E:9]\tTrain Loss: 0.424\tDev f1: 0.513\n",
      "Restoring best model from iteration 5 with score 0.516\n",
      "Finished Training\n",
      "F1: 0.516\n",
      "        y=1    y=2   \n",
      " l=1    268    475   \n",
      " l=2    28     117   \n",
      "CPU times: user 25min 51s, sys: 28.9 s, total: 26min 20s\n",
      "Wall time: 26min 15s\n",
      "Precision: 0.331\n",
      "Recall: 0.851\n",
      "F1: 0.477\n",
      "        y=1    y=2   \n",
      " l=1   1281   2587   \n",
      " l=2    224    528   \n"
     ]
    }
   ],
   "source": [
    "from metal.contrib.slicing.online_dp import SliceDPModel, LinearModule\n",
    "from metal.modules import LSTMModule\n",
    "\n",
    "wembs = load_embeddings(train.word_dict, embs)\n",
    "lstm = LSTMModule(embed_size=50, \n",
    "                  hidden_size=100, \n",
    "                  embeddings=wembs,\n",
    "                  lstm_reduction='attention', \n",
    "                  dropout=0, \n",
    "                  num_layers=1, \n",
    "                  freeze=False)\n",
    "\n",
    "\n",
    "r_dim = 200\n",
    "rw = False\n",
    "slice_uw_weak = SliceDPModel(lstm, accs, r_dim, rw, seed=123, use_cuda=True)\n",
    "\n",
    "slice_uw_weak.config['train_config']['optimizer_config']['optimizer_common']['lr'] = 0.01\n",
    "slice_uw_weak.config['train_config']['validation_metric'] = 'f1'\n",
    "slice_uw_weak.config['train_config']['batch_size'] = 32\n",
    "slice_uw_weak.config['train_config']['n_epochs'] = 10\n",
    "\n",
    "%time slice_uw_weak.train_model(train_slice_weak, dev_data=dev)\n",
    "slice_uw_weak_scores = slice_uw_weak.score(test, metric=['precision', 'recall', 'f1'])\n"
   ]
  },
  {
   "cell_type": "markdown",
   "metadata": {},
   "source": [
    "## Slice-specific scores"
   ]
  },
  {
   "cell_type": "code",
   "execution_count": 20,
   "metadata": {},
   "outputs": [],
   "source": [
    "# TODO: don't call private fns\n",
    "Yp_oracle, Y = oracle._get_predictions(test)\n",
    "Yp_base_weak, Y = base_weak._get_predictions(test)\n",
    "Yp_slice_uw, Y = slice_uw._get_predictions(test)\n",
    "Yp_slice_ours, Y = slice_ours._get_predictions(test)\n",
    "Yp_slice_ours_weak, Y = slice_ours_weak._get_predictions(test)\n",
    "Yp_slice_uw_weak, Y = slice_uw_weak._get_predictions(test)"
   ]
  },
  {
   "cell_type": "markdown",
   "metadata": {},
   "source": [
    "#### `slice_ours` (re-weighting, accuracy priors) vs. `base_weak` (end_model trained on weak labels)"
   ]
  },
  {
   "cell_type": "code",
   "execution_count": 55,
   "metadata": {},
   "outputs": [
    {
     "name": "stdout",
     "output_type": "stream",
     "text": [
      "\u001b[32m[LF_c_treat_d] delta: 0.6298, OURS: 0.8383, BASE: 0.2085\n",
      "\u001b[32m[LF_c_treat_d_wide] delta: 0.4787, OURS: 0.7775, BASE: 0.2989\n",
      "\u001b[32m[LF_closer_chem] delta: 0.3050, OURS: 0.5553, BASE: 0.2503\n",
      "\u001b[32m[LF_closer_dis] delta: 0.1039, OURS: 0.4545, BASE: 0.3506\n",
      "\u001b[32m[LF_ctd_therapy_treat] delta: 0.6574, OURS: 0.8406, BASE: 0.1833\n",
      "\u001b[32m[LF_ctd_unspecified_treat] delta: 0.5571, OURS: 0.7820, BASE: 0.2249\n",
      "\u001b[32m[LF_d_following_c] delta: 0.5000, OURS: 1.0000, BASE: 0.5000\n",
      "\u001b[32m[LF_d_treat_c] delta: 0.0970, OURS: 0.4606, BASE: 0.3636\n",
      "\u001b[32m[LF_far_c_d] delta: 0.2724, OURS: 0.6586, BASE: 0.3862\n",
      "\u001b[32m[LF_far_d_c] delta: 0.1288, OURS: 0.5613, BASE: 0.4325\n",
      "\u001b[32m[LF_improve_before_disease] delta: 0.1111, OURS: 0.4444, BASE: 0.3333\n",
      "\u001b[32m[LF_in_ctd_therapy] delta: 0.2763, OURS: 0.5684, BASE: 0.2921\n",
      "\u001b[32m[LF_in_ctd_marker] delta: 0.0738, OURS: 0.6142, BASE: 0.5403\n",
      "\u001b[32m[LF_in_patient_with] delta: 0.2222, OURS: 0.3333, BASE: 0.1111\n",
      "\u001b[32m[LF_induce] delta: 0.0792, OURS: 0.6238, BASE: 0.5446\n",
      "\u001b[32m[LF_induced_other] delta: 0.3333, OURS: 0.6215, BASE: 0.2881\n",
      "\u001b[32m[LF_level] delta: 0.5526, OURS: 0.7632, BASE: 0.2105\n",
      "\u001b[32m[LF_measure] delta: 0.4545, OURS: 0.7273, BASE: 0.2727\n",
      "\u001b[32m[LF_neg_d] delta: 0.0536, OURS: 0.4464, BASE: 0.3929\n",
      "\u001b[32m[LF_risk_d] delta: 0.0714, OURS: 0.4286, BASE: 0.3571\n",
      "\u001b[32m[LF_treat_d] delta: 0.3248, OURS: 0.6496, BASE: 0.3248\n",
      "\u001b[32m[LF_uncertain] delta: 0.4186, OURS: 0.6977, BASE: 0.2791\n",
      "\u001b[32m[LF_weak_assertions] delta: 0.1508, OURS: 0.5787, BASE: 0.4279\n",
      "improved 23/33\n"
     ]
    }
   ],
   "source": [
    "from metal.contrib.slicing.experiment_utils import compare_LF_slices\n",
    "compare_LF_slices(Yp_slice_ours, Yp_base_weak, \n",
    "                  Y, L_test, LFs, metric='accuracy', delta_threshold=0.05)"
   ]
  },
  {
   "cell_type": "markdown",
   "metadata": {},
   "source": [
    "#### `slice_ours_weak` (slice model with weak priors + reweighting) vs. `base_weak` (end_model trained on weak labels)"
   ]
  },
  {
   "cell_type": "code",
   "execution_count": 54,
   "metadata": {},
   "outputs": [
    {
     "name": "stdout",
     "output_type": "stream",
     "text": [
      "\u001b[32m[LF_d_following_c] delta: 0.5000, OURS: 1.0000, BASE: 0.5000\n",
      "improved 1/33\n"
     ]
    }
   ],
   "source": [
    "compare_LF_slices(Yp_slice_ours_weak, Yp_base_weak,\n",
    "                  Y, L_test, LFs, metric='accuracy', delta_threshold=0.05)"
   ]
  },
  {
   "cell_type": "markdown",
   "metadata": {},
   "source": [
    "#### `slice_ours_weak` vs. `oracle` (trained on full GT)"
   ]
  },
  {
   "cell_type": "code",
   "execution_count": 53,
   "metadata": {},
   "outputs": [
    {
     "name": "stdout",
     "output_type": "stream",
     "text": [
      "\u001b[32m[LF_ctd_marker_c_d] delta: 0.0511, OURS: 0.7500, BASE: 0.6989\n",
      "\u001b[32m[LF_ctd_marker_induce] delta: 0.0951, OURS: 0.8016, BASE: 0.7065\n",
      "\u001b[32m[LF_ctd_therapy_treat] delta: 0.0876, OURS: 0.8406, BASE: 0.7530\n",
      "\u001b[32m[LF_ctd_unspecified_induce] delta: 0.0920, OURS: 0.8006, BASE: 0.7086\n",
      "\u001b[32m[LF_d_induced_by_c_tight] delta: 0.0510, OURS: 0.6939, BASE: 0.6429\n",
      "\u001b[32m[LF_develop_d_following_c] delta: 0.2500, OURS: 1.0000, BASE: 0.7500\n",
      "\u001b[32m[LF_level] delta: 0.1579, OURS: 0.7632, BASE: 0.6053\n",
      "improved 7/33\n"
     ]
    }
   ],
   "source": [
    "compare_LF_slices(Yp_slice_ours, Yp_oracle,\n",
    "                  Y, L_test, LFs, metric='accuracy', delta_threshold=0.05)"
   ]
  },
  {
   "cell_type": "markdown",
   "metadata": {},
   "source": [
    "#### `slice_ours` vs. `Yp_slice_uw` (unweighted slice model)"
   ]
  },
  {
   "cell_type": "code",
   "execution_count": 52,
   "metadata": {},
   "outputs": [
    {
     "name": "stdout",
     "output_type": "stream",
     "text": [
      "\u001b[32m[LF_c_treat_d] delta: 0.1447, OURS: 0.8383, BASE: 0.6936\n",
      "\u001b[32m[LF_c_treat_d_wide] delta: 0.0921, OURS: 0.7775, BASE: 0.6854\n",
      "\u001b[32m[LF_ctd_therapy_treat] delta: 0.1434, OURS: 0.8406, BASE: 0.6972\n",
      "\u001b[32m[LF_ctd_unspecified_treat] delta: 0.1003, OURS: 0.7820, BASE: 0.6817\n",
      "\u001b[32m[LF_induced_other] delta: 0.0621, OURS: 0.6215, BASE: 0.5593\n",
      "\u001b[32m[LF_level] delta: 0.2632, OURS: 0.7632, BASE: 0.5000\n",
      "\u001b[32m[LF_measure] delta: 0.0909, OURS: 0.7273, BASE: 0.6364\n",
      "\u001b[32m[LF_neg_d] delta: 0.1250, OURS: 0.4464, BASE: 0.3214\n",
      "\u001b[32m[LF_risk_d] delta: 0.0714, OURS: 0.4286, BASE: 0.3571\n",
      "improved 9/33\n"
     ]
    }
   ],
   "source": [
    "compare_LF_slices(Yp_slice_ours, Yp_slice_uw,\n",
    "                  Y, L_test, LFs, metric='accuracy', delta_threshold=0.05)"
   ]
  },
  {
   "cell_type": "code",
   "execution_count": null,
   "metadata": {},
   "outputs": [],
   "source": []
  }
 ],
 "metadata": {
  "kernelspec": {
   "display_name": "Python 3",
   "language": "python",
   "name": "python3"
  },
  "language_info": {
   "codemirror_mode": {
    "name": "ipython",
    "version": 3
   },
   "file_extension": ".py",
   "mimetype": "text/x-python",
   "name": "python",
   "nbconvert_exporter": "python",
   "pygments_lexer": "ipython3",
   "version": "3.6.7"
  }
 },
 "nbformat": 4,
 "nbformat_minor": 2
}
