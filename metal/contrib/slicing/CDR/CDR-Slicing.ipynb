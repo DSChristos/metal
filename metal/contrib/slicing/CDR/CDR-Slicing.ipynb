{
 "cells": [
  {
   "cell_type": "markdown",
   "metadata": {},
   "source": [
    "# Slicing CDR Relation Extraction "
   ]
  },
  {
   "cell_type": "code",
   "execution_count": 2,
   "metadata": {},
   "outputs": [],
   "source": [
    "%load_ext autoreload\n",
    "%autoreload 2\n",
    "%matplotlib inline"
   ]
  },
  {
   "cell_type": "code",
   "execution_count": 3,
   "metadata": {},
   "outputs": [],
   "source": [
    "import os\n",
    "import sys\n",
    "sys.path.append('/dfs/scratch0/vschen/metal')\n",
    "\n",
    "import metal\n",
    "import torch\n",
    "from torch.utils.data import Dataset, DataLoader\n",
    "import numpy as np\n",
    "np.set_printoptions(precision=4, suppress=True)"
   ]
  },
  {
   "cell_type": "code",
   "execution_count": 4,
   "metadata": {},
   "outputs": [
    {
     "name": "stdout",
     "output_type": "stream",
     "text": [
      "PyTorch:  0.4.1\n",
      "MeTaL:    0.3.3\n",
      "Python:   3.6.7 (default, Dec  8 2018, 17:35:14) \n",
      "[GCC 5.4.0 20160609]\n",
      "Python:   sys.version_info(major=3, minor=6, micro=7, releaselevel='final', serial=0)\n"
     ]
    }
   ],
   "source": [
    "print('PyTorch: ', torch.__version__)\n",
    "print('MeTaL:   ', metal.__version__)\n",
    "print('Python:  ', sys.version)\n",
    "print('Python:  ', sys.version_info)"
   ]
  },
  {
   "cell_type": "markdown",
   "metadata": {},
   "source": [
    "## Initalize CDR Dataset\n",
    "To uncompress the SQLite db: ```bzip2 -d cdr.db.bz2```"
   ]
  },
  {
   "cell_type": "code",
   "execution_count": 5,
   "metadata": {},
   "outputs": [
    {
     "name": "stdout",
     "output_type": "stream",
     "text": [
      "Connected to sqlite:////dfs/scratch0/vschen/metal/metal/contrib/slicing/CDR/cdr.db\n",
      "Connected to sqlite:////dfs/scratch0/vschen/metal/metal/contrib/slicing/CDR/cdr.db\n",
      "Connected to sqlite:////dfs/scratch0/vschen/metal/metal/contrib/slicing/CDR/cdr.db\n",
      "[TRAIN] 8272\n",
      "[DEV]   888\n",
      "[TEST]  4620\n"
     ]
    }
   ],
   "source": [
    "from metal.contrib.backends.wrapper import SnorkelDataset\n",
    "import os\n",
    "\n",
    "db_conn_str   = os.path.join(os.getcwd(),\"cdr.db\")\n",
    "candidate_def = ['ChemicalDisease', ['chemical', 'disease']]\n",
    "\n",
    "train, dev, test = SnorkelDataset.splits(db_conn_str, \n",
    "                                         candidate_def, \n",
    "                                         max_seq_len=125)\n",
    "\n",
    "print(f'[TRAIN] {len(train)}')\n",
    "print(f'[DEV]   {len(dev)}')\n",
    "print(f'[TEST]  {len(test)}')"
   ]
  },
  {
   "cell_type": "markdown",
   "metadata": {},
   "source": [
    "## Get Pretrained Embeddings\n",
    "\n",
    "Download [GloVe embeddings](http://nlp.stanford.edu/data/glove.6B.zip):\n",
    "`wget http://nlp.stanford.edu/data/glove.6B.zip \\\n",
    "&& mkdir -p glove.6B \\\n",
    "&& unzip glove.6B.zip -d glove.6B \\\n",
    "&& rm glove.6B.zip`"
   ]
  },
  {
   "cell_type": "code",
   "execution_count": 6,
   "metadata": {},
   "outputs": [],
   "source": [
    "from embeddings import EmbeddingLoader, load_embeddings\n",
    "emb_path  = \"../glove.6B/glove.6B.50d.txt\"\n",
    "embs  = EmbeddingLoader(emb_path, fmt='text')"
   ]
  },
  {
   "cell_type": "markdown",
   "metadata": {},
   "source": [
    "## Generate `L_*` to target slices"
   ]
  },
  {
   "cell_type": "code",
   "execution_count": 7,
   "metadata": {
    "scrolled": true
   },
   "outputs": [
    {
     "name": "stdout",
     "output_type": "stream",
     "text": [
      "['LF_c_cause_d', 'LF_c_d', 'LF_c_induced_d', 'LF_c_treat_d', 'LF_c_treat_d_wide', 'LF_closer_chem', 'LF_closer_dis', 'LF_ctd_marker_c_d', 'LF_ctd_marker_induce', 'LF_ctd_therapy_treat', 'LF_ctd_unspecified_treat', 'LF_ctd_unspecified_induce', 'LF_d_following_c', 'LF_d_induced_by_c', 'LF_d_induced_by_c_tight', 'LF_d_treat_c', 'LF_develop_d_following_c', 'LF_far_c_d', 'LF_far_d_c', 'LF_improve_before_disease', 'LF_in_ctd_therapy', 'LF_in_ctd_marker', 'LF_in_patient_with', 'LF_induce', 'LF_induce_name', 'LF_induced_other', 'LF_level', 'LF_measure', 'LF_neg_d', 'LF_risk_d', 'LF_treat_d', 'LF_uncertain', 'LF_weak_assertions']\n"
     ]
    }
   ],
   "source": [
    "from labeling_functions import LFs\n",
    "print ([lf.__name__ for lf in LFs])"
   ]
  },
  {
   "cell_type": "code",
   "execution_count": 8,
   "metadata": {},
   "outputs": [
    {
     "name": "stdout",
     "output_type": "stream",
     "text": [
      "Clearing existing...\n"
     ]
    },
    {
     "name": "stderr",
     "output_type": "stream",
     "text": [
      "  0%|          | 6/8272 [00:00<02:26, 56.52it/s]"
     ]
    },
    {
     "name": "stdout",
     "output_type": "stream",
     "text": [
      "Running UDF...\n"
     ]
    },
    {
     "name": "stderr",
     "output_type": "stream",
     "text": [
      "100%|██████████| 8272/8272 [00:45<00:00, 183.53it/s]\n"
     ]
    },
    {
     "name": "stdout",
     "output_type": "stream",
     "text": [
      "Clearing existing...\n"
     ]
    },
    {
     "name": "stderr",
     "output_type": "stream",
     "text": [
      "  1%|          | 9/888 [00:00<00:09, 88.13it/s]"
     ]
    },
    {
     "name": "stdout",
     "output_type": "stream",
     "text": [
      "Running UDF...\n"
     ]
    },
    {
     "name": "stderr",
     "output_type": "stream",
     "text": [
      "100%|██████████| 888/888 [00:05<00:00, 161.04it/s]\n",
      "  0%|          | 0/4620 [00:00<?, ?it/s]"
     ]
    },
    {
     "name": "stdout",
     "output_type": "stream",
     "text": [
      "Clearing existing...\n",
      "Running UDF...\n"
     ]
    },
    {
     "name": "stderr",
     "output_type": "stream",
     "text": [
      "100%|██████████| 4620/4620 [00:27<00:00, 169.08it/s]\n"
     ]
    },
    {
     "name": "stdout",
     "output_type": "stream",
     "text": [
      "Inferred cardinality: 2\n"
     ]
    },
    {
     "name": "stderr",
     "output_type": "stream",
     "text": [
      "/dfs/scratch0/vschen/snorkel/snorkel/learning/gen_learning.py:350: RuntimeWarning: invalid value encountered in double_scalars\n",
      "  \"Precision\": tp / (tp + fp),\n",
      "/dfs/scratch0/vschen/snorkel/snorkel/learning/gen_learning.py:352: RuntimeWarning: invalid value encountered in double_scalars\n",
      "  \"Accuracy\": (tp + tn) / coverage,\n"
     ]
    },
    {
     "name": "stdout",
     "output_type": "stream",
     "text": [
      "CPU times: user 3min 6s, sys: 816 ms, total: 3min 7s\n",
      "Wall time: 3min 8s\n"
     ]
    }
   ],
   "source": [
    "%%time \n",
    "from snorkel import SnorkelSession\n",
    "session = SnorkelSession()\n",
    "\n",
    "from snorkel.annotations import LabelAnnotator\n",
    "labeler = LabelAnnotator(lfs=LFs)\n",
    "L_train = labeler.apply(split=0)\n",
    "L_dev = labeler.apply(split=1) # used for debugging\n",
    "L_test = labeler.apply(split=2) # used for evaluation\n",
    "\n",
    "from snorkel.learning.structure import DependencySelector\n",
    "ds = DependencySelector()\n",
    "deps = ds.select(L_train, threshold=0.1)\n",
    "from snorkel.learning import GenerativeModel\n",
    "\n",
    "# need to extract `accs` from gen_model\n",
    "gen_model = GenerativeModel(lf_propensity=True)\n",
    "gen_model.train(\n",
    "    L_train, deps=deps, decay=0.95, step_size=0.1/L_train.shape[0], reg_param=0.0\n",
    ")\n",
    "\n",
    "accs = np.array(gen_model.learned_lf_stats()['Accuracy'])\n",
    "accs[np.isnan(accs)] = 0\n",
    "accs = np.minimum(accs, 0.999)\n",
    "\n",
    "gen_marginals = gen_model.marginals(L_train)"
   ]
  },
  {
   "cell_type": "code",
   "execution_count": 9,
   "metadata": {},
   "outputs": [],
   "source": [
    "L = L_train.copy()\n",
    "L[L==-1] = 2 # convert to multiclass\n",
    "Y_dev = np.array([ex[1] for ex in dev])"
   ]
  },
  {
   "cell_type": "code",
   "execution_count": 10,
   "metadata": {},
   "outputs": [
    {
     "name": "stdout",
     "output_type": "stream",
     "text": [
      "Computing O...\n",
      "Estimating \\mu...\n",
      "[E:0]\tTrain Loss: 0.492\n",
      "[E:10]\tTrain Loss: 0.184\n",
      "[E:20]\tTrain Loss: 0.122\n",
      "[E:30]\tTrain Loss: 0.076\n",
      "[E:40]\tTrain Loss: 0.055\n",
      "[E:50]\tTrain Loss: 0.038\n",
      "[E:60]\tTrain Loss: 0.033\n",
      "[E:70]\tTrain Loss: 0.030\n",
      "[E:80]\tTrain Loss: 0.029\n",
      "[E:90]\tTrain Loss: 0.028\n",
      "[E:99]\tTrain Loss: 0.028\n",
      "Finished Training\n",
      "Accuracy: 0.699\n",
      "        y=1    y=2   \n",
      " l=1    81     52    \n",
      " l=2    215    540   \n"
     ]
    },
    {
     "data": {
      "text/plain": [
       "0.6993243243243243"
      ]
     },
     "execution_count": 10,
     "metadata": {},
     "output_type": "execute_result"
    }
   ],
   "source": [
    "from metal.label_model import LabelModel\n",
    "label_model = LabelModel(k=2, seed=123)\n",
    "label_model.train_model(L, Y_dev=Y_dev)\n",
    "label_model.score((L_dev, Y_dev))"
   ]
  },
  {
   "cell_type": "markdown",
   "metadata": {},
   "source": [
    "### Weak Labels in Dataset"
   ]
  },
  {
   "cell_type": "code",
   "execution_count": 11,
   "metadata": {},
   "outputs": [
    {
     "data": {
      "text/plain": [
       "array([[0.1542, 0.8458],\n",
       "       [1.    , 0.    ],\n",
       "       [0.2198, 0.7802],\n",
       "       ...,\n",
       "       [0.4359, 0.5641],\n",
       "       [0.3333, 0.6667],\n",
       "       [0.9703, 0.0297]])"
      ]
     },
     "execution_count": 11,
     "metadata": {},
     "output_type": "execute_result"
    }
   ],
   "source": [
    "metal_marginals = label_model.predict_proba(L)\n",
    "metal_marginals"
   ]
  },
  {
   "cell_type": "code",
   "execution_count": 12,
   "metadata": {},
   "outputs": [
    {
     "data": {
      "text/plain": [
       "array([[0.3856, 0.6144],\n",
       "       [0.8905, 0.1095],\n",
       "       [0.6226, 0.3774],\n",
       "       ...,\n",
       "       [0.7244, 0.2756],\n",
       "       [0.5   , 0.5   ],\n",
       "       [0.7768, 0.2232]])"
      ]
     },
     "execution_count": 12,
     "metadata": {},
     "output_type": "execute_result"
    }
   ],
   "source": [
    "snorkel_marginals = np.vstack((gen_marginals, 1-gen_marginals)).T\n",
    "snorkel_marginals"
   ]
  },
  {
   "cell_type": "code",
   "execution_count": 13,
   "metadata": {},
   "outputs": [
    {
     "name": "stdout",
     "output_type": "stream",
     "text": [
      "Connected to sqlite:////dfs/scratch0/vschen/metal/metal/contrib/slicing/CDR/cdr.db\n",
      "Connected to sqlite:////dfs/scratch0/vschen/metal/metal/contrib/slicing/CDR/cdr.db\n"
     ]
    }
   ],
   "source": [
    "from metal.contrib.slicing.sqlite_wrapper \\\n",
    "    import SnorkelDataset as SnorkelSliceDataset\n",
    "\n",
    "train_metal = SnorkelSliceDataset(\n",
    "    db_conn_str,\n",
    "    candidate_def,\n",
    "    split=0,\n",
    "    train_marginals=metal_marginals\n",
    ")\n",
    "\n",
    "train_snorkel = SnorkelSliceDataset(\n",
    "    db_conn_str,\n",
    "    candidate_def,\n",
    "    split=0,\n",
    "    train_marginals=snorkel_marginals\n",
    ")"
   ]
  },
  {
   "cell_type": "markdown",
   "metadata": {},
   "source": [
    "### Custom Slicing Dataset"
   ]
  },
  {
   "cell_type": "code",
   "execution_count": 14,
   "metadata": {},
   "outputs": [
    {
     "name": "stdout",
     "output_type": "stream",
     "text": [
      "Connected to sqlite:////dfs/scratch0/vschen/metal/metal/contrib/slicing/CDR/cdr.db\n",
      "Connected to sqlite:////dfs/scratch0/vschen/metal/metal/contrib/slicing/CDR/cdr.db\n",
      "Connected to sqlite:////dfs/scratch0/vschen/metal/metal/contrib/slicing/CDR/cdr.db\n"
     ]
    }
   ],
   "source": [
    "train_slice = SnorkelSliceDataset(\n",
    "    db_conn_str,\n",
    "    candidate_def,\n",
    "    split=0,\n",
    "    L_train=L_train.todense()\n",
    ")\n",
    "\n",
    "train_slice_metal = SnorkelSliceDataset(\n",
    "    db_conn_str,\n",
    "    candidate_def,\n",
    "    split=0,\n",
    "    L_train=L_train.todense(),\n",
    "    train_marginals=metal_marginals\n",
    ")\n",
    "\n",
    "train_slice_snorkel = SnorkelSliceDataset(\n",
    "    db_conn_str,\n",
    "    candidate_def,\n",
    "    split=0,\n",
    "    L_train=L_train.todense(),\n",
    "    train_marginals=snorkel_marginals\n",
    ")"
   ]
  },
  {
   "cell_type": "code",
   "execution_count": 15,
   "metadata": {},
   "outputs": [],
   "source": [
    "from metal.contrib.slicing.online_dp import SliceDPModel\n",
    "from metal.end_model import EndModel\n",
    "from metal.modules import LSTMModule\n",
    "def init_model(use_end_model=False, r=None, rw=None):\n",
    "    wembs = load_embeddings(train.word_dict, embs)\n",
    "    lstm = LSTMModule(embed_size=50, \n",
    "                      hidden_size=100, \n",
    "                      embeddings=wembs,\n",
    "                      lstm_reduction='attention', \n",
    "                      dropout=0.0, \n",
    "                      num_layers=1, \n",
    "                      freeze=False)\n",
    "    if use_end_model:\n",
    "        model = EndModel([200, 2], input_module=lstm, seed=123, use_cuda=True)\n",
    "    else:\n",
    "        input_layer_config = {\n",
    "            \"input_relu\": False,\n",
    "            \"input_batchnorm\": False,\n",
    "            \"input_dropout\": 0.0,\n",
    "        }\n",
    "        model = SliceDPModel(lstm, accs, r, rw, seed=123, use_cuda=True, input_layer_config=input_layer_config)\n",
    "        \n",
    "    model.config['train_config']['optimizer_config']['optimizer_common']['lr'] = 0.01\n",
    "    model.config['train_config']['validation_metric'] = 'f1'\n",
    "    model.config['train_config']['batch_size'] = 32\n",
    "    model.config['train_config']['n_epochs'] = 10\n",
    "    return model\n",
    "\n",
    "from metal.modules import LSTMModule\n",
    "from metal.tuners import RandomSearchTuner\n",
    "\n",
    "\n",
    "def search_slice_weights(train_loader, dev_loader, r, rw, max_search=1):\n",
    "    wembs = load_embeddings(train.word_dict, embs)\n",
    "    lstm = LSTMModule(embed_size=50, \n",
    "                      hidden_size=100, \n",
    "                      embeddings=wembs,\n",
    "                      lstm_reduction='attention', \n",
    "                      dropout=0.0, \n",
    "                      num_layers=1, \n",
    "                      freeze=False)\n",
    "    \n",
    "    searcher = RandomSearchTuner(SliceDPModel, validation_metric='f1')\n",
    "\n",
    "    search_space = {\n",
    "        \"slice_weight\": {\"range\": [0, 10], \"scale\": \"linear\"}\n",
    "    }\n",
    "\n",
    "    input_layer_config = {\n",
    "        \"input_relu\": False,\n",
    "        \"input_batchnorm\": False,\n",
    "        \"input_dropout\": 0.0,\n",
    "    }\n",
    "    \n",
    "    trained_model = searcher.search(\n",
    "        search_space,\n",
    "        dev_loader,\n",
    "        train_args=[train_loader],\n",
    "        init_args=[lstm, accs, r, rw],\n",
    "        init_kwargs={\"use_cuda\": True, \"input_layer_config\": input_layer_config},\n",
    "        train_kwargs={\n",
    "            \"lr\": 0.01,\n",
    "            \"batch_size\": 32,\n",
    "            \"n_epochs\": 10\n",
    "        },\n",
    "        max_search=max_search\n",
    "    )\n",
    "    return trained_model"
   ]
  },
  {
   "cell_type": "markdown",
   "metadata": {},
   "source": [
    "## (a) `Oracle`: EndModel Trained on Full GT"
   ]
  },
  {
   "cell_type": "code",
   "execution_count": 18,
   "metadata": {},
   "outputs": [
    {
     "name": "stdout",
     "output_type": "stream",
     "text": [
      "Loaded 77.0% (7656/9946) pretrained embeddings\n",
      "Using pretrained embeddings.\n",
      "Embeddings shape = (9946, 50)\n",
      "The embeddings are NOT FROZEN\n",
      "Using lstm_reduction = 'attention'\n",
      "\n",
      "Network architecture:\n",
      "Sequential(\n",
      "  (0): Sequential(\n",
      "    (0): LSTMModule(\n",
      "      (embeddings): Embedding(9946, 50)\n",
      "      (lstm): LSTM(50, 100, batch_first=True, bidirectional=True)\n",
      "    )\n",
      "    (1): ReLU()\n",
      "  )\n",
      "  (1): Linear(in_features=200, out_features=2, bias=True)\n",
      ")\n",
      "\n",
      "Using GPU...\n"
     ]
    },
    {
     "data": {
      "application/vnd.jupyter.widget-view+json": {
       "model_id": "ad09e2c6fda54a4daf99d244a0c063d4",
       "version_major": 2,
       "version_minor": 0
      },
      "text/plain": [
       "HBox(children=(IntProgress(value=0, max=259), HTML(value='')))"
      ]
     },
     "metadata": {},
     "output_type": "display_data"
    },
    {
     "name": "stdout",
     "output_type": "stream",
     "text": [
      "\n",
      "Saving model at iteration 0 with best score 0.577\n",
      "[E:0]\tTrain Loss: 0.550\tDev f1: 0.577\n"
     ]
    },
    {
     "data": {
      "application/vnd.jupyter.widget-view+json": {
       "model_id": "f1d77c7795aa44ba9f9f3f174e0f7cca",
       "version_major": 2,
       "version_minor": 0
      },
      "text/plain": [
       "HBox(children=(IntProgress(value=0, max=259), HTML(value='')))"
      ]
     },
     "metadata": {},
     "output_type": "display_data"
    },
    {
     "name": "stdout",
     "output_type": "stream",
     "text": [
      "\n",
      "Saving model at iteration 1 with best score 0.605\n",
      "[E:1]\tTrain Loss: 0.304\tDev f1: 0.605\n"
     ]
    },
    {
     "data": {
      "application/vnd.jupyter.widget-view+json": {
       "model_id": "fb8331de8ec4423988991188e9cb42a2",
       "version_major": 2,
       "version_minor": 0
      },
      "text/plain": [
       "HBox(children=(IntProgress(value=0, max=259), HTML(value='')))"
      ]
     },
     "metadata": {},
     "output_type": "display_data"
    },
    {
     "name": "stdout",
     "output_type": "stream",
     "text": [
      "\n",
      "[E:2]\tTrain Loss: 0.172\tDev f1: 0.587\n"
     ]
    },
    {
     "data": {
      "application/vnd.jupyter.widget-view+json": {
       "model_id": "063d40010d87438cbddbdcb1513f2cdd",
       "version_major": 2,
       "version_minor": 0
      },
      "text/plain": [
       "HBox(children=(IntProgress(value=0, max=259), HTML(value='')))"
      ]
     },
     "metadata": {},
     "output_type": "display_data"
    },
    {
     "name": "stdout",
     "output_type": "stream",
     "text": [
      "\n",
      "[E:3]\tTrain Loss: 0.107\tDev f1: 0.590\n"
     ]
    },
    {
     "data": {
      "application/vnd.jupyter.widget-view+json": {
       "model_id": "d548e7ff9cae40518a1ad949fb0b2848",
       "version_major": 2,
       "version_minor": 0
      },
      "text/plain": [
       "HBox(children=(IntProgress(value=0, max=259), HTML(value='')))"
      ]
     },
     "metadata": {},
     "output_type": "display_data"
    },
    {
     "name": "stdout",
     "output_type": "stream",
     "text": [
      "\n",
      "[E:4]\tTrain Loss: 0.071\tDev f1: 0.572\n"
     ]
    },
    {
     "data": {
      "application/vnd.jupyter.widget-view+json": {
       "model_id": "e81a3c4ad59046afb7fcbb2dc6f5b2a1",
       "version_major": 2,
       "version_minor": 0
      },
      "text/plain": [
       "HBox(children=(IntProgress(value=0, max=259), HTML(value='')))"
      ]
     },
     "metadata": {},
     "output_type": "display_data"
    },
    {
     "name": "stdout",
     "output_type": "stream",
     "text": [
      "\n",
      "[E:5]\tTrain Loss: 0.049\tDev f1: 0.584\n"
     ]
    },
    {
     "data": {
      "application/vnd.jupyter.widget-view+json": {
       "model_id": "962b6f6c063840eb976bb713b62989b4",
       "version_major": 2,
       "version_minor": 0
      },
      "text/plain": [
       "HBox(children=(IntProgress(value=0, max=259), HTML(value='')))"
      ]
     },
     "metadata": {},
     "output_type": "display_data"
    },
    {
     "name": "stdout",
     "output_type": "stream",
     "text": [
      "\n",
      "[E:6]\tTrain Loss: 0.035\tDev f1: 0.582\n"
     ]
    },
    {
     "data": {
      "application/vnd.jupyter.widget-view+json": {
       "model_id": "685e23f4bc414c7fbf5e1fbc7e3bc1f4",
       "version_major": 2,
       "version_minor": 0
      },
      "text/plain": [
       "HBox(children=(IntProgress(value=0, max=259), HTML(value='')))"
      ]
     },
     "metadata": {},
     "output_type": "display_data"
    },
    {
     "name": "stdout",
     "output_type": "stream",
     "text": [
      "\n",
      "[E:7]\tTrain Loss: 0.034\tDev f1: 0.574\n"
     ]
    },
    {
     "data": {
      "application/vnd.jupyter.widget-view+json": {
       "model_id": "abd978034b34437b8358465a6d993ab8",
       "version_major": 2,
       "version_minor": 0
      },
      "text/plain": [
       "HBox(children=(IntProgress(value=0, max=259), HTML(value='')))"
      ]
     },
     "metadata": {},
     "output_type": "display_data"
    },
    {
     "name": "stdout",
     "output_type": "stream",
     "text": [
      "\n",
      "[E:8]\tTrain Loss: 0.030\tDev f1: 0.592\n"
     ]
    },
    {
     "data": {
      "application/vnd.jupyter.widget-view+json": {
       "model_id": "b7db64ab2ea04bb1982721d1671f1144",
       "version_major": 2,
       "version_minor": 0
      },
      "text/plain": [
       "HBox(children=(IntProgress(value=0, max=259), HTML(value='')))"
      ]
     },
     "metadata": {},
     "output_type": "display_data"
    },
    {
     "name": "stdout",
     "output_type": "stream",
     "text": [
      "\n",
      "[E:9]\tTrain Loss: 0.030\tDev f1: 0.525\n",
      "Restoring best model from iteration 1 with score 0.605\n",
      "Finished Training\n",
      "F1: 0.605\n",
      "        y=1    y=2   \n",
      " l=1    206    179   \n",
      " l=2    90     413   \n",
      "CPU times: user 13min 58s, sys: 16.8 s, total: 14min 15s\n",
      "Wall time: 14min 9s\n",
      "Precision: 0.493\n",
      "Recall: 0.760\n",
      "F1: 0.598\n",
      "        y=1    y=2   \n",
      " l=1   1144   1175   \n",
      " l=2    361   1940   \n"
     ]
    },
    {
     "data": {
      "text/plain": [
       "[0.4933160845191893, 0.7601328903654485, 0.5983263598326359]"
      ]
     },
     "execution_count": 18,
     "metadata": {},
     "output_type": "execute_result"
    }
   ],
   "source": [
    "oracle = init_model(use_end_model=True)\n",
    "%time oracle.train_model(train, dev_data=dev)\n",
    "oracle.score(test, metric=['precision', 'recall', 'f1'])"
   ]
  },
  {
   "cell_type": "markdown",
   "metadata": {},
   "source": [
    "## (b) `BaseWeak`: EndModel trained on weak labels"
   ]
  },
  {
   "cell_type": "code",
   "execution_count": 19,
   "metadata": {},
   "outputs": [
    {
     "name": "stdout",
     "output_type": "stream",
     "text": [
      "Loaded 77.0% (7656/9946) pretrained embeddings\n",
      "Using pretrained embeddings.\n",
      "Embeddings shape = (9946, 50)\n",
      "The embeddings are NOT FROZEN\n",
      "Using lstm_reduction = 'attention'\n",
      "\n",
      "Network architecture:\n",
      "Sequential(\n",
      "  (0): Sequential(\n",
      "    (0): LSTMModule(\n",
      "      (embeddings): Embedding(9946, 50)\n",
      "      (lstm): LSTM(50, 100, batch_first=True, bidirectional=True)\n",
      "    )\n",
      "    (1): ReLU()\n",
      "  )\n",
      "  (1): Linear(in_features=200, out_features=2, bias=True)\n",
      ")\n",
      "\n",
      "Using GPU...\n"
     ]
    },
    {
     "data": {
      "application/vnd.jupyter.widget-view+json": {
       "model_id": "e006ab672e844b7db4ecb07a0eecddf9",
       "version_major": 2,
       "version_minor": 0
      },
      "text/plain": [
       "HBox(children=(IntProgress(value=0, max=259), HTML(value='')))"
      ]
     },
     "metadata": {},
     "output_type": "display_data"
    },
    {
     "name": "stdout",
     "output_type": "stream",
     "text": [
      "\n",
      "Saving model at iteration 0 with best score 0.562\n",
      "[E:0]\tTrain Loss: 0.657\tDev f1: 0.562\n"
     ]
    },
    {
     "data": {
      "application/vnd.jupyter.widget-view+json": {
       "model_id": "80b4b8e5912e4616a62faa1393dcccb8",
       "version_major": 2,
       "version_minor": 0
      },
      "text/plain": [
       "HBox(children=(IntProgress(value=0, max=259), HTML(value='')))"
      ]
     },
     "metadata": {},
     "output_type": "display_data"
    },
    {
     "name": "stdout",
     "output_type": "stream",
     "text": [
      "\n",
      "[E:1]\tTrain Loss: 0.636\tDev f1: 0.536\n"
     ]
    },
    {
     "data": {
      "application/vnd.jupyter.widget-view+json": {
       "model_id": "3b8044f99bed485ea1970d02e3f726a1",
       "version_major": 2,
       "version_minor": 0
      },
      "text/plain": [
       "HBox(children=(IntProgress(value=0, max=259), HTML(value='')))"
      ]
     },
     "metadata": {},
     "output_type": "display_data"
    },
    {
     "name": "stdout",
     "output_type": "stream",
     "text": [
      "\n",
      "Saving model at iteration 2 with best score 0.566\n",
      "[E:2]\tTrain Loss: 0.628\tDev f1: 0.566\n"
     ]
    },
    {
     "data": {
      "application/vnd.jupyter.widget-view+json": {
       "model_id": "af61404a7379463a9f8f9f10efe15cc8",
       "version_major": 2,
       "version_minor": 0
      },
      "text/plain": [
       "HBox(children=(IntProgress(value=0, max=259), HTML(value='')))"
      ]
     },
     "metadata": {},
     "output_type": "display_data"
    },
    {
     "name": "stdout",
     "output_type": "stream",
     "text": [
      "\n",
      "Saving model at iteration 3 with best score 0.572\n",
      "[E:3]\tTrain Loss: 0.625\tDev f1: 0.572\n"
     ]
    },
    {
     "data": {
      "application/vnd.jupyter.widget-view+json": {
       "model_id": "2c98ded52db741258ca2f01a298b4220",
       "version_major": 2,
       "version_minor": 0
      },
      "text/plain": [
       "HBox(children=(IntProgress(value=0, max=259), HTML(value='')))"
      ]
     },
     "metadata": {},
     "output_type": "display_data"
    },
    {
     "name": "stdout",
     "output_type": "stream",
     "text": [
      "\n",
      "[E:4]\tTrain Loss: 0.623\tDev f1: 0.571\n"
     ]
    },
    {
     "data": {
      "application/vnd.jupyter.widget-view+json": {
       "model_id": "e4fc905c3df0477082636cc3179c2049",
       "version_major": 2,
       "version_minor": 0
      },
      "text/plain": [
       "HBox(children=(IntProgress(value=0, max=259), HTML(value='')))"
      ]
     },
     "metadata": {},
     "output_type": "display_data"
    },
    {
     "name": "stdout",
     "output_type": "stream",
     "text": [
      "\n",
      "Saving model at iteration 5 with best score 0.574\n",
      "[E:5]\tTrain Loss: 0.622\tDev f1: 0.574\n"
     ]
    },
    {
     "data": {
      "application/vnd.jupyter.widget-view+json": {
       "model_id": "be412721ede2471e8b4f1219c557d107",
       "version_major": 2,
       "version_minor": 0
      },
      "text/plain": [
       "HBox(children=(IntProgress(value=0, max=259), HTML(value='')))"
      ]
     },
     "metadata": {},
     "output_type": "display_data"
    },
    {
     "name": "stdout",
     "output_type": "stream",
     "text": [
      "\n",
      "[E:6]\tTrain Loss: 0.621\tDev f1: 0.564\n"
     ]
    },
    {
     "data": {
      "application/vnd.jupyter.widget-view+json": {
       "model_id": "c16de4ee1d0542208e0786965217e53e",
       "version_major": 2,
       "version_minor": 0
      },
      "text/plain": [
       "HBox(children=(IntProgress(value=0, max=259), HTML(value='')))"
      ]
     },
     "metadata": {},
     "output_type": "display_data"
    },
    {
     "name": "stdout",
     "output_type": "stream",
     "text": [
      "\n",
      "[E:7]\tTrain Loss: 0.620\tDev f1: 0.564\n"
     ]
    },
    {
     "data": {
      "application/vnd.jupyter.widget-view+json": {
       "model_id": "7e640604db1f4d02a8da9336a211221a",
       "version_major": 2,
       "version_minor": 0
      },
      "text/plain": [
       "HBox(children=(IntProgress(value=0, max=259), HTML(value='')))"
      ]
     },
     "metadata": {},
     "output_type": "display_data"
    },
    {
     "name": "stdout",
     "output_type": "stream",
     "text": [
      "\n",
      "[E:8]\tTrain Loss: 0.620\tDev f1: 0.569\n"
     ]
    },
    {
     "data": {
      "application/vnd.jupyter.widget-view+json": {
       "model_id": "2325053f39ad4bbbb7f12ec6f26cefed",
       "version_major": 2,
       "version_minor": 0
      },
      "text/plain": [
       "HBox(children=(IntProgress(value=0, max=259), HTML(value='')))"
      ]
     },
     "metadata": {},
     "output_type": "display_data"
    },
    {
     "name": "stdout",
     "output_type": "stream",
     "text": [
      "\n",
      "[E:9]\tTrain Loss: 0.619\tDev f1: 0.562\n",
      "Restoring best model from iteration 5 with score 0.574\n",
      "Finished Training\n",
      "F1: 0.574\n",
      "        y=1    y=2   \n",
      " l=1    268    370   \n",
      " l=2    28     222   \n",
      "CPU times: user 13min 25s, sys: 16.4 s, total: 13min 41s\n",
      "Wall time: 13min 36s\n",
      "Precision: 0.396\n",
      "Recall: 0.916\n",
      "F1: 0.553\n",
      "        y=1    y=2   \n",
      " l=1   1378   2102   \n",
      " l=2    127   1013   \n"
     ]
    }
   ],
   "source": [
    "from metal.end_model import EndModel\n",
    "from metal.modules import LSTMModule\n",
    "\n",
    "base_weak = init_model(use_end_model=True)\n",
    "%time base_weak.train_model(train_snorkel, dev_data=dev)\n",
    "base_weak_scores = base_weak.score(test, metric=['precision', 'recall', 'f1'])"
   ]
  },
  {
   "cell_type": "markdown",
   "metadata": {},
   "source": [
    "## (e) `SliceOursWeak`: Slice Model with $\\tilde{Y}$ priors"
   ]
  },
  {
   "cell_type": "code",
   "execution_count": 17,
   "metadata": {
    "scrolled": true
   },
   "outputs": [
    {
     "name": "stdout",
     "output_type": "stream",
     "text": [
      "Loaded 77.0% (7656/9946) pretrained embeddings\n",
      "Using pretrained embeddings.\n",
      "Embeddings shape = (9946, 50)\n",
      "The embeddings are NOT FROZEN\n",
      "Using lstm_reduction = 'attention'\n"
     ]
    },
    {
     "name": "stderr",
     "output_type": "stream",
     "text": [
      "/dfs/scratch0/vschen/snorkel-pytorch/venv/lib/python3.6/site-packages/torch/nn/functional.py:52: UserWarning: size_average and reduce args will be deprecated, please use reduction='none' instead.\n",
      "  warnings.warn(warning.format(ret))\n",
      "/dfs/scratch0/vschen/metal/metal/contrib/slicing/online_dp.py:110: RuntimeWarning: divide by zero encountered in log\n",
      "  self.w = torch.from_numpy(np.log(accs / (1-accs))).float()\n"
     ]
    },
    {
     "name": "stdout",
     "output_type": "stream",
     "text": [
      "Slice Heads:\n",
      "Reweighting: True\n",
      "Slice Weight: 0.8718667752263232\n",
      "Input Network: Sequential(\n",
      "  (0): LSTMModule(\n",
      "    (embeddings): Embedding(9946, 50)\n",
      "    (lstm): LSTM(50, 100, batch_first=True, bidirectional=True)\n",
      "  )\n",
      ")\n",
      "L_head: Linear(in_features=200, out_features=33, bias=False)\n",
      "Y_head: Linear(in_features=400, out_features=2, bias=False)\n",
      "============================================================\n",
      "[0] Testing {'slice_weight': 0.8718667752263232}\n",
      "============================================================\n",
      "Could not find kwarg \"slice_weight\" in destination dict.\n",
      "Using GPU...\n"
     ]
    },
    {
     "data": {
      "application/vnd.jupyter.widget-view+json": {
       "model_id": "cc9e90d761b144d5887f277295bebdd7",
       "version_major": 2,
       "version_minor": 0
      },
      "text/plain": [
       "HBox(children=(IntProgress(value=0, max=259), HTML(value='')))"
      ]
     },
     "metadata": {},
     "output_type": "display_data"
    },
    {
     "name": "stderr",
     "output_type": "stream",
     "text": [
      "/dfs/scratch0/vschen/snorkel-pytorch/venv/lib/python3.6/site-packages/torch/nn/functional.py:1006: UserWarning: nn.functional.sigmoid is deprecated. Use torch.sigmoid instead.\n",
      "  warnings.warn(\"nn.functional.sigmoid is deprecated. Use torch.sigmoid instead.\")\n",
      "/dfs/scratch0/vschen/metal/metal/contrib/slicing/online_dp.py:174: UserWarning: Implicit dimension choice for softmax has been deprecated. Change the call to include dim=X as an argument.\n",
      "  A = F.softmax(self.forward_L(x)).unsqueeze(1)\n",
      "/dfs/scratch0/vschen/metal/metal/contrib/slicing/online_dp.py:183: UserWarning: Implicit dimension choice for softmax has been deprecated. Change the call to include dim=X as an argument.\n",
      "  return F.softmax(outputs)\n"
     ]
    },
    {
     "name": "stdout",
     "output_type": "stream",
     "text": [
      "\n",
      "Saving model at iteration 0 with best score 0.561\n",
      "[E:0]\tTrain Loss: 0.314\tDev f1: 0.561\n"
     ]
    },
    {
     "data": {
      "application/vnd.jupyter.widget-view+json": {
       "model_id": "60e5251dcafb4830a75415658f029185",
       "version_major": 2,
       "version_minor": 0
      },
      "text/plain": [
       "HBox(children=(IntProgress(value=0, max=259), HTML(value='')))"
      ]
     },
     "metadata": {},
     "output_type": "display_data"
    },
    {
     "name": "stdout",
     "output_type": "stream",
     "text": [
      "\n",
      "Saving model at iteration 1 with best score 0.567\n",
      "[E:1]\tTrain Loss: 0.308\tDev f1: 0.567\n"
     ]
    },
    {
     "data": {
      "application/vnd.jupyter.widget-view+json": {
       "model_id": "5d4eba0e9cbb444db155fe3d460d85d6",
       "version_major": 2,
       "version_minor": 0
      },
      "text/plain": [
       "HBox(children=(IntProgress(value=0, max=259), HTML(value='')))"
      ]
     },
     "metadata": {},
     "output_type": "display_data"
    },
    {
     "name": "stdout",
     "output_type": "stream",
     "text": [
      "\n",
      "[E:2]\tTrain Loss: 0.305\tDev f1: 0.563\n"
     ]
    },
    {
     "data": {
      "application/vnd.jupyter.widget-view+json": {
       "model_id": "dbb1f2bd21a34be2b24f866fabc934f5",
       "version_major": 2,
       "version_minor": 0
      },
      "text/plain": [
       "HBox(children=(IntProgress(value=0, max=259), HTML(value='')))"
      ]
     },
     "metadata": {},
     "output_type": "display_data"
    },
    {
     "name": "stdout",
     "output_type": "stream",
     "text": [
      "\n",
      "[E:3]\tTrain Loss: 0.304\tDev f1: 0.558\n"
     ]
    },
    {
     "data": {
      "application/vnd.jupyter.widget-view+json": {
       "model_id": "01d83b7c0d9c4c27b1bb17df93c795fa",
       "version_major": 2,
       "version_minor": 0
      },
      "text/plain": [
       "HBox(children=(IntProgress(value=0, max=259), HTML(value='')))"
      ]
     },
     "metadata": {},
     "output_type": "display_data"
    },
    {
     "name": "stdout",
     "output_type": "stream",
     "text": [
      "\n",
      "Saving model at iteration 4 with best score 0.588\n",
      "[E:4]\tTrain Loss: 0.303\tDev f1: 0.588\n"
     ]
    },
    {
     "data": {
      "application/vnd.jupyter.widget-view+json": {
       "model_id": "618d911993a64fb0b50011426c3ead2b",
       "version_major": 2,
       "version_minor": 0
      },
      "text/plain": [
       "HBox(children=(IntProgress(value=0, max=259), HTML(value='')))"
      ]
     },
     "metadata": {},
     "output_type": "display_data"
    },
    {
     "name": "stdout",
     "output_type": "stream",
     "text": [
      "\n",
      "[E:5]\tTrain Loss: 0.302\tDev f1: 0.586\n"
     ]
    },
    {
     "data": {
      "application/vnd.jupyter.widget-view+json": {
       "model_id": "a746799a2aa246ac8c3604f3601295a2",
       "version_major": 2,
       "version_minor": 0
      },
      "text/plain": [
       "HBox(children=(IntProgress(value=0, max=259), HTML(value='')))"
      ]
     },
     "metadata": {},
     "output_type": "display_data"
    },
    {
     "name": "stdout",
     "output_type": "stream",
     "text": [
      "\n",
      "[E:6]\tTrain Loss: 0.302\tDev f1: 0.569\n"
     ]
    },
    {
     "data": {
      "application/vnd.jupyter.widget-view+json": {
       "model_id": "20a4b6a08b6a403e9684708de2d33895",
       "version_major": 2,
       "version_minor": 0
      },
      "text/plain": [
       "HBox(children=(IntProgress(value=0, max=259), HTML(value='')))"
      ]
     },
     "metadata": {},
     "output_type": "display_data"
    },
    {
     "name": "stdout",
     "output_type": "stream",
     "text": [
      "\n",
      "[E:7]\tTrain Loss: 0.301\tDev f1: 0.588\n"
     ]
    },
    {
     "data": {
      "application/vnd.jupyter.widget-view+json": {
       "model_id": "0469a8d6b44a4e41b9007587361f7c49",
       "version_major": 2,
       "version_minor": 0
      },
      "text/plain": [
       "HBox(children=(IntProgress(value=0, max=259), HTML(value='')))"
      ]
     },
     "metadata": {},
     "output_type": "display_data"
    },
    {
     "name": "stdout",
     "output_type": "stream",
     "text": [
      "\n",
      "[E:8]\tTrain Loss: 0.301\tDev f1: 0.568\n"
     ]
    },
    {
     "data": {
      "application/vnd.jupyter.widget-view+json": {
       "model_id": "883d4fb4658e45b9a24aaf40990cc61e",
       "version_major": 2,
       "version_minor": 0
      },
      "text/plain": [
       "HBox(children=(IntProgress(value=0, max=259), HTML(value='')))"
      ]
     },
     "metadata": {},
     "output_type": "display_data"
    },
    {
     "name": "stdout",
     "output_type": "stream",
     "text": [
      "\n",
      "[E:9]\tTrain Loss: 0.301\tDev f1: 0.571\n",
      "Restoring best model from iteration 4 with score 0.588\n",
      "Finished Training\n",
      "F1: 0.588\n",
      "        y=1    y=2   \n",
      " l=1    266    342   \n",
      " l=2    30     250   \n",
      "Slice Heads:\n",
      "Reweighting: True\n",
      "Slice Weight: 5.059175693918715\n",
      "Input Network: Sequential(\n",
      "  (0): LSTMModule(\n",
      "    (embeddings): Embedding(9946, 50)\n",
      "    (lstm): LSTM(50, 100, batch_first=True, bidirectional=True)\n",
      "  )\n",
      ")\n",
      "L_head: Linear(in_features=200, out_features=33, bias=False)\n",
      "Y_head: Linear(in_features=400, out_features=2, bias=False)\n",
      "============================================================\n",
      "[1] Testing {'slice_weight': 5.059175693918715}\n",
      "============================================================\n",
      "Could not find kwarg \"slice_weight\" in destination dict.\n",
      "Using GPU...\n"
     ]
    },
    {
     "data": {
      "application/vnd.jupyter.widget-view+json": {
       "model_id": "0d60b7f1592d45d6b696e8f9bacfce8b",
       "version_major": 2,
       "version_minor": 0
      },
      "text/plain": [
       "HBox(children=(IntProgress(value=0, max=259), HTML(value='')))"
      ]
     },
     "metadata": {},
     "output_type": "display_data"
    },
    {
     "name": "stdout",
     "output_type": "stream",
     "text": [
      "\n",
      "Saving model at iteration 0 with best score 0.550\n",
      "[E:0]\tTrain Loss: 1.718\tDev f1: 0.550\n"
     ]
    },
    {
     "data": {
      "application/vnd.jupyter.widget-view+json": {
       "model_id": "0db76da72edf47f79c8030e8b237ee5b",
       "version_major": 2,
       "version_minor": 0
      },
      "text/plain": [
       "HBox(children=(IntProgress(value=0, max=259), HTML(value='')))"
      ]
     },
     "metadata": {},
     "output_type": "display_data"
    },
    {
     "name": "stdout",
     "output_type": "stream",
     "text": [
      "\n",
      "Saving model at iteration 1 with best score 0.593\n",
      "[E:1]\tTrain Loss: 1.706\tDev f1: 0.593\n"
     ]
    },
    {
     "data": {
      "application/vnd.jupyter.widget-view+json": {
       "model_id": "dc183297d6914fdf95a22befc8e9ab08",
       "version_major": 2,
       "version_minor": 0
      },
      "text/plain": [
       "HBox(children=(IntProgress(value=0, max=259), HTML(value='')))"
      ]
     },
     "metadata": {},
     "output_type": "display_data"
    },
    {
     "name": "stdout",
     "output_type": "stream",
     "text": [
      "\n",
      "[E:2]\tTrain Loss: 1.703\tDev f1: 0.575\n"
     ]
    },
    {
     "data": {
      "application/vnd.jupyter.widget-view+json": {
       "model_id": "4f73f96ef8fd4c37a499aac438cf46a0",
       "version_major": 2,
       "version_minor": 0
      },
      "text/plain": [
       "HBox(children=(IntProgress(value=0, max=259), HTML(value='')))"
      ]
     },
     "metadata": {},
     "output_type": "display_data"
    },
    {
     "name": "stdout",
     "output_type": "stream",
     "text": [
      "\n",
      "[E:3]\tTrain Loss: 1.701\tDev f1: 0.565\n"
     ]
    },
    {
     "data": {
      "application/vnd.jupyter.widget-view+json": {
       "model_id": "cf4cb72d0b734c6184ab1ac1a63803e6",
       "version_major": 2,
       "version_minor": 0
      },
      "text/plain": [
       "HBox(children=(IntProgress(value=0, max=259), HTML(value='')))"
      ]
     },
     "metadata": {},
     "output_type": "display_data"
    },
    {
     "name": "stdout",
     "output_type": "stream",
     "text": [
      "\n",
      "[E:4]\tTrain Loss: 1.700\tDev f1: 0.574\n"
     ]
    },
    {
     "data": {
      "application/vnd.jupyter.widget-view+json": {
       "model_id": "2d1c8361135f4523bd99c64a42cdfa83",
       "version_major": 2,
       "version_minor": 0
      },
      "text/plain": [
       "HBox(children=(IntProgress(value=0, max=259), HTML(value='')))"
      ]
     },
     "metadata": {},
     "output_type": "display_data"
    },
    {
     "name": "stdout",
     "output_type": "stream",
     "text": [
      "\n",
      "[E:5]\tTrain Loss: 1.698\tDev f1: 0.571\n"
     ]
    },
    {
     "data": {
      "application/vnd.jupyter.widget-view+json": {
       "model_id": "4006a87b7e7a4dfd9e98077e4f6dae5d",
       "version_major": 2,
       "version_minor": 0
      },
      "text/plain": [
       "HBox(children=(IntProgress(value=0, max=259), HTML(value='')))"
      ]
     },
     "metadata": {},
     "output_type": "display_data"
    },
    {
     "name": "stdout",
     "output_type": "stream",
     "text": [
      "\n",
      "[E:6]\tTrain Loss: 1.697\tDev f1: 0.557\n"
     ]
    },
    {
     "data": {
      "application/vnd.jupyter.widget-view+json": {
       "model_id": "beba83b113084ba1aadb38c2042dff5b",
       "version_major": 2,
       "version_minor": 0
      },
      "text/plain": [
       "HBox(children=(IntProgress(value=0, max=259), HTML(value='')))"
      ]
     },
     "metadata": {},
     "output_type": "display_data"
    },
    {
     "name": "stdout",
     "output_type": "stream",
     "text": [
      "\n",
      "Saving model at iteration 7 with best score 0.596\n",
      "[E:7]\tTrain Loss: 1.696\tDev f1: 0.596\n"
     ]
    },
    {
     "data": {
      "application/vnd.jupyter.widget-view+json": {
       "model_id": "d9993acb0a8140d48ec2e693c2f90e21",
       "version_major": 2,
       "version_minor": 0
      },
      "text/plain": [
       "HBox(children=(IntProgress(value=0, max=259), HTML(value='')))"
      ]
     },
     "metadata": {},
     "output_type": "display_data"
    },
    {
     "name": "stdout",
     "output_type": "stream",
     "text": [
      "\n",
      "[E:8]\tTrain Loss: 1.696\tDev f1: 0.560\n"
     ]
    },
    {
     "data": {
      "application/vnd.jupyter.widget-view+json": {
       "model_id": "f85f53fde260421db27cb3a7ebdcf9e3",
       "version_major": 2,
       "version_minor": 0
      },
      "text/plain": [
       "HBox(children=(IntProgress(value=0, max=259), HTML(value='')))"
      ]
     },
     "metadata": {},
     "output_type": "display_data"
    },
    {
     "name": "stdout",
     "output_type": "stream",
     "text": [
      "\n",
      "Saving model at iteration 9 with best score 0.599\n",
      "[E:9]\tTrain Loss: 1.697\tDev f1: 0.599\n",
      "Restoring best model from iteration 9 with score 0.599\n",
      "Finished Training\n",
      "F1: 0.599\n",
      "        y=1    y=2   \n",
      " l=1    276    350   \n",
      " l=2    20     242   \n",
      "Slice Heads:\n",
      "Reweighting: True\n",
      "Slice Weight: 0.8309492273695529\n",
      "Input Network: Sequential(\n",
      "  (0): LSTMModule(\n",
      "    (embeddings): Embedding(9946, 50)\n",
      "    (lstm): LSTM(50, 100, batch_first=True, bidirectional=True)\n",
      "  )\n",
      ")\n",
      "L_head: Linear(in_features=200, out_features=33, bias=False)\n",
      "Y_head: Linear(in_features=400, out_features=2, bias=False)\n",
      "============================================================\n",
      "[2] Testing {'slice_weight': 0.8309492273695529}\n",
      "============================================================\n",
      "Could not find kwarg \"slice_weight\" in destination dict.\n",
      "Using GPU...\n"
     ]
    },
    {
     "data": {
      "application/vnd.jupyter.widget-view+json": {
       "model_id": "ec6567b075d6431abd4140f75d90b51e",
       "version_major": 2,
       "version_minor": 0
      },
      "text/plain": [
       "HBox(children=(IntProgress(value=0, max=259), HTML(value='')))"
      ]
     },
     "metadata": {},
     "output_type": "display_data"
    },
    {
     "name": "stdout",
     "output_type": "stream",
     "text": [
      "\n",
      "Saving model at iteration 0 with best score 0.576\n",
      "[E:0]\tTrain Loss: 0.289\tDev f1: 0.576\n"
     ]
    },
    {
     "data": {
      "application/vnd.jupyter.widget-view+json": {
       "model_id": "7d20fe71be24432786f6ad352c507a74",
       "version_major": 2,
       "version_minor": 0
      },
      "text/plain": [
       "HBox(children=(IntProgress(value=0, max=259), HTML(value='')))"
      ]
     },
     "metadata": {},
     "output_type": "display_data"
    },
    {
     "name": "stdout",
     "output_type": "stream",
     "text": [
      "\n",
      "[E:1]\tTrain Loss: 0.287\tDev f1: 0.560\n"
     ]
    },
    {
     "data": {
      "application/vnd.jupyter.widget-view+json": {
       "model_id": "7232468352484d89a69d4d0ff9625935",
       "version_major": 2,
       "version_minor": 0
      },
      "text/plain": [
       "HBox(children=(IntProgress(value=0, max=259), HTML(value='')))"
      ]
     },
     "metadata": {},
     "output_type": "display_data"
    },
    {
     "name": "stdout",
     "output_type": "stream",
     "text": [
      "\n",
      "Saving model at iteration 2 with best score 0.579\n",
      "[E:2]\tTrain Loss: 0.287\tDev f1: 0.579\n"
     ]
    },
    {
     "data": {
      "application/vnd.jupyter.widget-view+json": {
       "model_id": "2dc93193e16041629960ee1787eeae74",
       "version_major": 2,
       "version_minor": 0
      },
      "text/plain": [
       "HBox(children=(IntProgress(value=0, max=259), HTML(value='')))"
      ]
     },
     "metadata": {},
     "output_type": "display_data"
    },
    {
     "name": "stdout",
     "output_type": "stream",
     "text": [
      "\n",
      "Saving model at iteration 3 with best score 0.587\n",
      "[E:3]\tTrain Loss: 0.287\tDev f1: 0.587\n"
     ]
    },
    {
     "data": {
      "application/vnd.jupyter.widget-view+json": {
       "model_id": "ffd71dcdf0ef41e59f716fe6dd0d2408",
       "version_major": 2,
       "version_minor": 0
      },
      "text/plain": [
       "HBox(children=(IntProgress(value=0, max=259), HTML(value='')))"
      ]
     },
     "metadata": {},
     "output_type": "display_data"
    },
    {
     "name": "stdout",
     "output_type": "stream",
     "text": [
      "\n",
      "[E:4]\tTrain Loss: 0.286\tDev f1: 0.574\n"
     ]
    },
    {
     "data": {
      "application/vnd.jupyter.widget-view+json": {
       "model_id": "0d2b0cbe79f64dae80267475e4efd9c7",
       "version_major": 2,
       "version_minor": 0
      },
      "text/plain": [
       "HBox(children=(IntProgress(value=0, max=259), HTML(value='')))"
      ]
     },
     "metadata": {},
     "output_type": "display_data"
    },
    {
     "name": "stdout",
     "output_type": "stream",
     "text": [
      "\n",
      "[E:5]\tTrain Loss: 0.286\tDev f1: 0.573\n"
     ]
    },
    {
     "data": {
      "application/vnd.jupyter.widget-view+json": {
       "model_id": "58216a90772241309f06ae32197b90e8",
       "version_major": 2,
       "version_minor": 0
      },
      "text/plain": [
       "HBox(children=(IntProgress(value=0, max=259), HTML(value='')))"
      ]
     },
     "metadata": {},
     "output_type": "display_data"
    },
    {
     "name": "stdout",
     "output_type": "stream",
     "text": [
      "\n",
      "[E:6]\tTrain Loss: 0.286\tDev f1: 0.586\n"
     ]
    },
    {
     "data": {
      "application/vnd.jupyter.widget-view+json": {
       "model_id": "8b77659aad4744e9a0805e1c16f3ed5f",
       "version_major": 2,
       "version_minor": 0
      },
      "text/plain": [
       "HBox(children=(IntProgress(value=0, max=259), HTML(value='')))"
      ]
     },
     "metadata": {},
     "output_type": "display_data"
    },
    {
     "name": "stdout",
     "output_type": "stream",
     "text": [
      "\n",
      "[E:7]\tTrain Loss: 0.286\tDev f1: 0.586\n"
     ]
    },
    {
     "data": {
      "application/vnd.jupyter.widget-view+json": {
       "model_id": "ee56fb40f1d64290af3f11f91bfd881e",
       "version_major": 2,
       "version_minor": 0
      },
      "text/plain": [
       "HBox(children=(IntProgress(value=0, max=259), HTML(value='')))"
      ]
     },
     "metadata": {},
     "output_type": "display_data"
    },
    {
     "name": "stdout",
     "output_type": "stream",
     "text": [
      "\n",
      "[E:8]\tTrain Loss: 0.286\tDev f1: 0.570\n"
     ]
    },
    {
     "data": {
      "application/vnd.jupyter.widget-view+json": {
       "model_id": "84c3b3ee8a0248b09c1deb772dfae32e",
       "version_major": 2,
       "version_minor": 0
      },
      "text/plain": [
       "HBox(children=(IntProgress(value=0, max=259), HTML(value='')))"
      ]
     },
     "metadata": {},
     "output_type": "display_data"
    },
    {
     "name": "stdout",
     "output_type": "stream",
     "text": [
      "\n",
      "[E:9]\tTrain Loss: 0.286\tDev f1: 0.559\n",
      "Restoring best model from iteration 3 with score 0.587\n",
      "Finished Training\n",
      "F1: 0.587\n",
      "        y=1    y=2   \n",
      " l=1    271    357   \n",
      " l=2    25     235   \n",
      "Slice Heads:\n",
      "Reweighting: True\n",
      "Slice Weight: 0.8291816529523388\n",
      "Input Network: Sequential(\n",
      "  (0): LSTMModule(\n",
      "    (embeddings): Embedding(9946, 50)\n",
      "    (lstm): LSTM(50, 100, batch_first=True, bidirectional=True)\n",
      "  )\n",
      ")\n",
      "L_head: Linear(in_features=200, out_features=33, bias=False)\n",
      "Y_head: Linear(in_features=400, out_features=2, bias=False)\n",
      "============================================================\n",
      "[3] Testing {'slice_weight': 0.8291816529523388}\n",
      "============================================================\n",
      "Could not find kwarg \"slice_weight\" in destination dict.\n",
      "Using GPU...\n"
     ]
    },
    {
     "data": {
      "application/vnd.jupyter.widget-view+json": {
       "model_id": "6532b8c526d84a1195b417a1a92dc5b7",
       "version_major": 2,
       "version_minor": 0
      },
      "text/plain": [
       "HBox(children=(IntProgress(value=0, max=259), HTML(value='')))"
      ]
     },
     "metadata": {},
     "output_type": "display_data"
    },
    {
     "name": "stdout",
     "output_type": "stream",
     "text": [
      "\n",
      "Saving model at iteration 0 with best score 0.574\n",
      "[E:0]\tTrain Loss: 0.288\tDev f1: 0.574\n"
     ]
    },
    {
     "data": {
      "application/vnd.jupyter.widget-view+json": {
       "model_id": "916d471154864a08a4e1ee9a657b8c4e",
       "version_major": 2,
       "version_minor": 0
      },
      "text/plain": [
       "HBox(children=(IntProgress(value=0, max=259), HTML(value='')))"
      ]
     },
     "metadata": {},
     "output_type": "display_data"
    },
    {
     "name": "stdout",
     "output_type": "stream",
     "text": [
      "\n",
      "[E:1]\tTrain Loss: 0.286\tDev f1: 0.568\n"
     ]
    },
    {
     "data": {
      "application/vnd.jupyter.widget-view+json": {
       "model_id": "ef61f11b4eb44aa08e5c4997155aaead",
       "version_major": 2,
       "version_minor": 0
      },
      "text/plain": [
       "HBox(children=(IntProgress(value=0, max=259), HTML(value='')))"
      ]
     },
     "metadata": {},
     "output_type": "display_data"
    },
    {
     "name": "stdout",
     "output_type": "stream",
     "text": [
      "\n",
      "Saving model at iteration 2 with best score 0.583\n",
      "[E:2]\tTrain Loss: 0.286\tDev f1: 0.583\n"
     ]
    },
    {
     "data": {
      "application/vnd.jupyter.widget-view+json": {
       "model_id": "6107b629c2ca44a4a7aae14140dbc039",
       "version_major": 2,
       "version_minor": 0
      },
      "text/plain": [
       "HBox(children=(IntProgress(value=0, max=259), HTML(value='')))"
      ]
     },
     "metadata": {},
     "output_type": "display_data"
    },
    {
     "name": "stdout",
     "output_type": "stream",
     "text": [
      "\n",
      "[E:3]\tTrain Loss: 0.286\tDev f1: 0.575\n"
     ]
    },
    {
     "data": {
      "application/vnd.jupyter.widget-view+json": {
       "model_id": "5dba9772570c44bbb412453810da574e",
       "version_major": 2,
       "version_minor": 0
      },
      "text/plain": [
       "HBox(children=(IntProgress(value=0, max=259), HTML(value='')))"
      ]
     },
     "metadata": {},
     "output_type": "display_data"
    },
    {
     "name": "stdout",
     "output_type": "stream",
     "text": [
      "\n",
      "[E:4]\tTrain Loss: 0.286\tDev f1: 0.569\n"
     ]
    },
    {
     "data": {
      "application/vnd.jupyter.widget-view+json": {
       "model_id": "5c4c815d33094a328e97820c91a98827",
       "version_major": 2,
       "version_minor": 0
      },
      "text/plain": [
       "HBox(children=(IntProgress(value=0, max=259), HTML(value='')))"
      ]
     },
     "metadata": {},
     "output_type": "display_data"
    },
    {
     "name": "stdout",
     "output_type": "stream",
     "text": [
      "\n",
      "[E:5]\tTrain Loss: 0.286\tDev f1: 0.566\n"
     ]
    },
    {
     "data": {
      "application/vnd.jupyter.widget-view+json": {
       "model_id": "fe24f8c9ed914450b8f9c17682dcd937",
       "version_major": 2,
       "version_minor": 0
      },
      "text/plain": [
       "HBox(children=(IntProgress(value=0, max=259), HTML(value='')))"
      ]
     },
     "metadata": {},
     "output_type": "display_data"
    },
    {
     "name": "stdout",
     "output_type": "stream",
     "text": [
      "\n",
      "[E:6]\tTrain Loss: 0.286\tDev f1: 0.572\n"
     ]
    },
    {
     "data": {
      "application/vnd.jupyter.widget-view+json": {
       "model_id": "2d9460d4b78941668c78d6d6a41d8c8f",
       "version_major": 2,
       "version_minor": 0
      },
      "text/plain": [
       "HBox(children=(IntProgress(value=0, max=259), HTML(value='')))"
      ]
     },
     "metadata": {},
     "output_type": "display_data"
    },
    {
     "name": "stdout",
     "output_type": "stream",
     "text": [
      "\n",
      "[E:7]\tTrain Loss: 0.286\tDev f1: 0.573\n"
     ]
    },
    {
     "data": {
      "application/vnd.jupyter.widget-view+json": {
       "model_id": "bb6d3871e4c64954887622ae216b075b",
       "version_major": 2,
       "version_minor": 0
      },
      "text/plain": [
       "HBox(children=(IntProgress(value=0, max=259), HTML(value='')))"
      ]
     },
     "metadata": {},
     "output_type": "display_data"
    },
    {
     "name": "stdout",
     "output_type": "stream",
     "text": [
      "\n",
      "[E:8]\tTrain Loss: 0.286\tDev f1: 0.569\n"
     ]
    },
    {
     "data": {
      "application/vnd.jupyter.widget-view+json": {
       "model_id": "781b3a15a6214a828b78a7cc61948ff5",
       "version_major": 2,
       "version_minor": 0
      },
      "text/plain": [
       "HBox(children=(IntProgress(value=0, max=259), HTML(value='')))"
      ]
     },
     "metadata": {},
     "output_type": "display_data"
    },
    {
     "name": "stdout",
     "output_type": "stream",
     "text": [
      "\n",
      "[E:9]\tTrain Loss: 0.286\tDev f1: 0.562\n",
      "Restoring best model from iteration 2 with score 0.583\n",
      "Finished Training\n",
      "F1: 0.583\n",
      "        y=1    y=2   \n",
      " l=1    268    355   \n",
      " l=2    28     237   \n",
      "Slice Heads:\n",
      "Reweighting: True\n",
      "Slice Weight: 3.436079603195352\n",
      "Input Network: Sequential(\n",
      "  (0): LSTMModule(\n",
      "    (embeddings): Embedding(9946, 50)\n",
      "    (lstm): LSTM(50, 100, batch_first=True, bidirectional=True)\n",
      "  )\n",
      ")\n",
      "L_head: Linear(in_features=200, out_features=33, bias=False)\n",
      "Y_head: Linear(in_features=400, out_features=2, bias=False)\n",
      "============================================================\n",
      "[4] Testing {'slice_weight': 3.436079603195352}\n",
      "============================================================\n",
      "Could not find kwarg \"slice_weight\" in destination dict.\n",
      "Using GPU...\n"
     ]
    },
    {
     "data": {
      "application/vnd.jupyter.widget-view+json": {
       "model_id": "e3a58e11805c4ed1836073526ee8e0a6",
       "version_major": 2,
       "version_minor": 0
      },
      "text/plain": [
       "HBox(children=(IntProgress(value=0, max=259), HTML(value='')))"
      ]
     },
     "metadata": {},
     "output_type": "display_data"
    },
    {
     "name": "stdout",
     "output_type": "stream",
     "text": [
      "\n",
      "Saving model at iteration 0 with best score 0.574\n",
      "[E:0]\tTrain Loss: 1.162\tDev f1: 0.574\n"
     ]
    },
    {
     "data": {
      "application/vnd.jupyter.widget-view+json": {
       "model_id": "2f1b01f56f8e4ab4943e00dfb5d1d4f0",
       "version_major": 2,
       "version_minor": 0
      },
      "text/plain": [
       "HBox(children=(IntProgress(value=0, max=259), HTML(value='')))"
      ]
     },
     "metadata": {},
     "output_type": "display_data"
    },
    {
     "name": "stdout",
     "output_type": "stream",
     "text": [
      "\n",
      "Saving model at iteration 1 with best score 0.587\n",
      "[E:1]\tTrain Loss: 1.155\tDev f1: 0.587\n"
     ]
    },
    {
     "data": {
      "application/vnd.jupyter.widget-view+json": {
       "model_id": "756458cfce474b87b7adc917b055e904",
       "version_major": 2,
       "version_minor": 0
      },
      "text/plain": [
       "HBox(children=(IntProgress(value=0, max=259), HTML(value='')))"
      ]
     },
     "metadata": {},
     "output_type": "display_data"
    },
    {
     "name": "stdout",
     "output_type": "stream",
     "text": [
      "\n",
      "[E:2]\tTrain Loss: 1.155\tDev f1: 0.586\n"
     ]
    },
    {
     "data": {
      "application/vnd.jupyter.widget-view+json": {
       "model_id": "71f5b46ec2834e7cbc336eaef0b4fb55",
       "version_major": 2,
       "version_minor": 0
      },
      "text/plain": [
       "HBox(children=(IntProgress(value=0, max=259), HTML(value='')))"
      ]
     },
     "metadata": {},
     "output_type": "display_data"
    },
    {
     "name": "stdout",
     "output_type": "stream",
     "text": [
      "\n",
      "[E:3]\tTrain Loss: 1.154\tDev f1: 0.568\n"
     ]
    },
    {
     "data": {
      "application/vnd.jupyter.widget-view+json": {
       "model_id": "46ec4bf9515a46cda034e152c07edd76",
       "version_major": 2,
       "version_minor": 0
      },
      "text/plain": [
       "HBox(children=(IntProgress(value=0, max=259), HTML(value='')))"
      ]
     },
     "metadata": {},
     "output_type": "display_data"
    },
    {
     "name": "stdout",
     "output_type": "stream",
     "text": [
      "\n",
      "[E:4]\tTrain Loss: 1.154\tDev f1: 0.585\n"
     ]
    },
    {
     "data": {
      "application/vnd.jupyter.widget-view+json": {
       "model_id": "e83f4aa0f25648198362eee5daff96ea",
       "version_major": 2,
       "version_minor": 0
      },
      "text/plain": [
       "HBox(children=(IntProgress(value=0, max=259), HTML(value='')))"
      ]
     },
     "metadata": {},
     "output_type": "display_data"
    },
    {
     "name": "stdout",
     "output_type": "stream",
     "text": [
      "\n",
      "Saving model at iteration 5 with best score 0.596\n",
      "[E:5]\tTrain Loss: 1.154\tDev f1: 0.596\n"
     ]
    },
    {
     "data": {
      "application/vnd.jupyter.widget-view+json": {
       "model_id": "95e77d0a13ff4697a4031bb593b485fa",
       "version_major": 2,
       "version_minor": 0
      },
      "text/plain": [
       "HBox(children=(IntProgress(value=0, max=259), HTML(value='')))"
      ]
     },
     "metadata": {},
     "output_type": "display_data"
    },
    {
     "name": "stdout",
     "output_type": "stream",
     "text": [
      "\n",
      "[E:6]\tTrain Loss: 1.154\tDev f1: 0.578\n"
     ]
    },
    {
     "data": {
      "application/vnd.jupyter.widget-view+json": {
       "model_id": "eee58612c0bd440abed73511e604e41a",
       "version_major": 2,
       "version_minor": 0
      },
      "text/plain": [
       "HBox(children=(IntProgress(value=0, max=259), HTML(value='')))"
      ]
     },
     "metadata": {},
     "output_type": "display_data"
    },
    {
     "name": "stdout",
     "output_type": "stream",
     "text": [
      "\n",
      "[E:7]\tTrain Loss: 1.154\tDev f1: 0.579\n"
     ]
    },
    {
     "data": {
      "application/vnd.jupyter.widget-view+json": {
       "model_id": "58aec1fe61e84742b3f8b67ba30d5d28",
       "version_major": 2,
       "version_minor": 0
      },
      "text/plain": [
       "HBox(children=(IntProgress(value=0, max=259), HTML(value='')))"
      ]
     },
     "metadata": {},
     "output_type": "display_data"
    },
    {
     "name": "stdout",
     "output_type": "stream",
     "text": [
      "\n",
      "[E:8]\tTrain Loss: 1.153\tDev f1: 0.567\n"
     ]
    },
    {
     "data": {
      "application/vnd.jupyter.widget-view+json": {
       "model_id": "efc723d1a3fa454e8189ae86d6060e37",
       "version_major": 2,
       "version_minor": 0
      },
      "text/plain": [
       "HBox(children=(IntProgress(value=0, max=259), HTML(value='')))"
      ]
     },
     "metadata": {},
     "output_type": "display_data"
    },
    {
     "name": "stdout",
     "output_type": "stream",
     "text": [
      "\n",
      "[E:9]\tTrain Loss: 1.154\tDev f1: 0.594\n",
      "Restoring best model from iteration 5 with score 0.596\n",
      "Finished Training\n",
      "F1: 0.596\n",
      "        y=1    y=2   \n",
      " l=1    266    330   \n",
      " l=2    30     262   \n",
      "============================================================\n",
      "[SUMMARY]\n",
      "Best model: [1]\n",
      "Best config: {'slice_weight': 5.059175693918715}\n",
      "Best score: 0.5986984815618221\n",
      "============================================================\n",
      "CPU times: user 2h 49min 40s, sys: 3min 43s, total: 2h 53min 24s\n",
      "Wall time: 2h 52min 55s\n"
     ]
    },
    {
     "name": "stderr",
     "output_type": "stream",
     "text": [
      "/dfs/scratch0/vschen/metal/metal/modules/lstm_module.py:201: UserWarning: RNN module weights are not part of single contiguous chunk of memory. This means they need to be compacted at every call, possibly greatly increasing memory usage. To compact weights again call flatten_parameters().\n",
      "  outputs, (h_t, c_t) = self.lstm(X_packed)\n"
     ]
    },
    {
     "name": "stdout",
     "output_type": "stream",
     "text": [
      "Precision: 0.405\n",
      "Recall: 0.898\n",
      "F1: 0.558\n",
      "        y=1    y=2   \n",
      " l=1   1351   1983   \n",
      " l=2    154   1132   \n"
     ]
    }
   ],
   "source": [
    "# slice_ours_weak = init_model(r=200, rw=True)\n",
    "# %time slice_ours_weak.train_model(train_slice_snorkel, dev_data=dev)\n",
    "%time slice_ours_weak = search_slice_weights(train_slice_snorkel, dev, r=200, rw=True, max_search=5)\n",
    "\n",
    "slice_ours_weak_scores = slice_ours_weak.score(test, metric=['precision', 'recall', 'f1'])"
   ]
  },
  {
   "cell_type": "markdown",
   "metadata": {},
   "source": [
    "## (f) `SliceUWWeak`: Unweighted Slice model with $\\tilde{Y}$ priors"
   ]
  },
  {
   "cell_type": "code",
   "execution_count": 20,
   "metadata": {},
   "outputs": [
    {
     "name": "stdout",
     "output_type": "stream",
     "text": [
      "Loaded 77.0% (7656/9946) pretrained embeddings\n",
      "Using pretrained embeddings.\n",
      "Embeddings shape = (9946, 50)\n",
      "The embeddings are NOT FROZEN\n",
      "Using lstm_reduction = 'attention'\n",
      "Slice Heads:\n",
      "Reweighting: False\n",
      "Slice Weight: 10\n",
      "Input Network: Sequential(\n",
      "  (0): LSTMModule(\n",
      "    (embeddings): Embedding(9946, 50)\n",
      "    (lstm): LSTM(50, 100, batch_first=True, bidirectional=True)\n",
      "  )\n",
      ")\n",
      "L_head: Linear(in_features=200, out_features=33, bias=False)\n",
      "Y_head: Linear(in_features=200, out_features=2, bias=False)\n",
      "Using GPU...\n"
     ]
    },
    {
     "data": {
      "application/vnd.jupyter.widget-view+json": {
       "model_id": "4f6ee6d086ec458b9a6a3417155e11d7",
       "version_major": 2,
       "version_minor": 0
      },
      "text/plain": [
       "HBox(children=(IntProgress(value=0, max=259), HTML(value='')))"
      ]
     },
     "metadata": {},
     "output_type": "display_data"
    },
    {
     "name": "stdout",
     "output_type": "stream",
     "text": [
      "\n",
      "Saving model at iteration 0 with best score 0.537\n",
      "[E:0]\tTrain Loss: 3.494\tDev f1: 0.537\n"
     ]
    },
    {
     "data": {
      "application/vnd.jupyter.widget-view+json": {
       "model_id": "98616bdfea0c41c9a9a87a28901be399",
       "version_major": 2,
       "version_minor": 0
      },
      "text/plain": [
       "HBox(children=(IntProgress(value=0, max=259), HTML(value='')))"
      ]
     },
     "metadata": {},
     "output_type": "display_data"
    },
    {
     "name": "stdout",
     "output_type": "stream",
     "text": [
      "\n",
      "Saving model at iteration 1 with best score 0.560\n",
      "[E:1]\tTrain Loss: 3.424\tDev f1: 0.560\n"
     ]
    },
    {
     "data": {
      "application/vnd.jupyter.widget-view+json": {
       "model_id": "34c5e1d683b146de90a111df41ab99b9",
       "version_major": 2,
       "version_minor": 0
      },
      "text/plain": [
       "HBox(children=(IntProgress(value=0, max=259), HTML(value='')))"
      ]
     },
     "metadata": {},
     "output_type": "display_data"
    },
    {
     "name": "stdout",
     "output_type": "stream",
     "text": [
      "\n",
      "Saving model at iteration 2 with best score 0.562\n",
      "[E:2]\tTrain Loss: 3.394\tDev f1: 0.562\n"
     ]
    },
    {
     "data": {
      "application/vnd.jupyter.widget-view+json": {
       "model_id": "16d46655803b4aecbb03d1ce413e4940",
       "version_major": 2,
       "version_minor": 0
      },
      "text/plain": [
       "HBox(children=(IntProgress(value=0, max=259), HTML(value='')))"
      ]
     },
     "metadata": {},
     "output_type": "display_data"
    },
    {
     "name": "stdout",
     "output_type": "stream",
     "text": [
      "\n",
      "Saving model at iteration 3 with best score 0.576\n",
      "[E:3]\tTrain Loss: 3.379\tDev f1: 0.576\n"
     ]
    },
    {
     "data": {
      "application/vnd.jupyter.widget-view+json": {
       "model_id": "3322967aadc440d692af58a56f9a67fd",
       "version_major": 2,
       "version_minor": 0
      },
      "text/plain": [
       "HBox(children=(IntProgress(value=0, max=259), HTML(value='')))"
      ]
     },
     "metadata": {},
     "output_type": "display_data"
    },
    {
     "name": "stdout",
     "output_type": "stream",
     "text": [
      "\n",
      "[E:4]\tTrain Loss: 3.369\tDev f1: 0.567\n"
     ]
    },
    {
     "data": {
      "application/vnd.jupyter.widget-view+json": {
       "model_id": "eb7da79aef8443639605edc16638c556",
       "version_major": 2,
       "version_minor": 0
      },
      "text/plain": [
       "HBox(children=(IntProgress(value=0, max=259), HTML(value='')))"
      ]
     },
     "metadata": {},
     "output_type": "display_data"
    },
    {
     "name": "stdout",
     "output_type": "stream",
     "text": [
      "\n",
      "Saving model at iteration 5 with best score 0.578\n",
      "[E:5]\tTrain Loss: 3.362\tDev f1: 0.578\n"
     ]
    },
    {
     "data": {
      "application/vnd.jupyter.widget-view+json": {
       "model_id": "9970ece0ef324a0f83bf8bac7364e6b3",
       "version_major": 2,
       "version_minor": 0
      },
      "text/plain": [
       "HBox(children=(IntProgress(value=0, max=259), HTML(value='')))"
      ]
     },
     "metadata": {},
     "output_type": "display_data"
    },
    {
     "name": "stdout",
     "output_type": "stream",
     "text": [
      "\n",
      "[E:6]\tTrain Loss: 3.356\tDev f1: 0.556\n"
     ]
    },
    {
     "data": {
      "application/vnd.jupyter.widget-view+json": {
       "model_id": "638953e9bd054d0ba718b056849d1890",
       "version_major": 2,
       "version_minor": 0
      },
      "text/plain": [
       "HBox(children=(IntProgress(value=0, max=259), HTML(value='')))"
      ]
     },
     "metadata": {},
     "output_type": "display_data"
    },
    {
     "name": "stdout",
     "output_type": "stream",
     "text": [
      "\n",
      "[E:7]\tTrain Loss: 3.352\tDev f1: 0.568\n"
     ]
    },
    {
     "data": {
      "application/vnd.jupyter.widget-view+json": {
       "model_id": "4653f04c79b64ca1a9115b0440870d2e",
       "version_major": 2,
       "version_minor": 0
      },
      "text/plain": [
       "HBox(children=(IntProgress(value=0, max=259), HTML(value='')))"
      ]
     },
     "metadata": {},
     "output_type": "display_data"
    },
    {
     "name": "stdout",
     "output_type": "stream",
     "text": [
      "\n",
      "[E:8]\tTrain Loss: 3.350\tDev f1: 0.564\n"
     ]
    },
    {
     "data": {
      "application/vnd.jupyter.widget-view+json": {
       "model_id": "125ffece6bad4a3dbbc715833eedfad0",
       "version_major": 2,
       "version_minor": 0
      },
      "text/plain": [
       "HBox(children=(IntProgress(value=0, max=259), HTML(value='')))"
      ]
     },
     "metadata": {},
     "output_type": "display_data"
    },
    {
     "name": "stdout",
     "output_type": "stream",
     "text": [
      "\n",
      "[E:9]\tTrain Loss: 3.348\tDev f1: 0.567\n",
      "Restoring best model from iteration 5 with score 0.578\n",
      "Finished Training\n",
      "F1: 0.578\n",
      "        y=1    y=2   \n",
      " l=1    278    388   \n",
      " l=2    18     204   \n",
      "CPU times: user 24min 7s, sys: 28.5 s, total: 24min 35s\n",
      "Wall time: 24min 30s\n",
      "Precision: 0.389\n",
      "Recall: 0.917\n",
      "F1: 0.546\n",
      "        y=1    y=2   \n",
      " l=1   1380   2169   \n",
      " l=2    125    946   \n"
     ]
    }
   ],
   "source": [
    "slice_uw_weak = init_model(r=200, rw=False)\n",
    "%time slice_uw_weak.train_model(train_slice_snorkel, dev_data=dev)\n",
    "slice_uw_weak_scores = slice_uw_weak.score(test, metric=['precision', 'recall', 'f1'])"
   ]
  },
  {
   "cell_type": "markdown",
   "metadata": {},
   "source": [
    "## Slice-specific scores"
   ]
  },
  {
   "cell_type": "code",
   "execution_count": 21,
   "metadata": {},
   "outputs": [],
   "source": [
    "# TODO: don't call private fns\n",
    "Yp_oracle, Y = oracle._get_predictions(test)\n",
    "Yp_base_weak, Y = base_weak._get_predictions(test)\n",
    "Yp_slice_ours_weak, Y = slice_ours_weak._get_predictions(test)\n",
    "Yp_slice_uw_weak, Y = slice_uw_weak._get_predictions(test)"
   ]
  },
  {
   "cell_type": "markdown",
   "metadata": {},
   "source": [
    "#### `slice_ours` (re-weighting, accuracy priors) vs. `base_weak` (end_model trained on weak labels)"
   ]
  },
  {
   "cell_type": "code",
   "execution_count": 22,
   "metadata": {},
   "outputs": [],
   "source": [
    "L_test = L_test.todense()"
   ]
  },
  {
   "cell_type": "code",
   "execution_count": 24,
   "metadata": {},
   "outputs": [],
   "source": [
    "from metal.contrib.slicing.experiment_utils import compare_LF_slices"
   ]
  },
  {
   "cell_type": "markdown",
   "metadata": {},
   "source": [
    "#### `slice_ours_weak` (slice model with weak priors + reweighting) vs. `base_weak` (end_model trained on weak labels)"
   ]
  },
  {
   "cell_type": "code",
   "execution_count": 35,
   "metadata": {
    "scrolled": false
   },
   "outputs": [
    {
     "name": "stdout",
     "output_type": "stream",
     "text": [
      "\u001b[32m[LF_closer_dis] delta: 0.1299, OURS: 0.5195, BASE: 0.3896\u001b[0m\n",
      "\u001b[31m[LF_ctd_therapy_treat] delta: -0.1036, OURS: 0.6574, BASE: 0.7610\u001b[0m\n",
      "\u001b[31m[LF_d_treat_c] delta: -0.0667, OURS: 0.4727, BASE: 0.5394\u001b[0m\n",
      "\u001b[32m[LF_far_d_c] delta: 0.1319, OURS: 0.6043, BASE: 0.4724\u001b[0m\n",
      "\u001b[32m[LF_improve_before_disease] delta: 0.1111, OURS: 0.4444, BASE: 0.3333\u001b[0m\n",
      "\u001b[31m[LF_induced_other] delta: -0.0791, OURS: 0.5311, BASE: 0.6102\u001b[0m\n",
      "\u001b[31m[LF_measure] delta: -0.0909, OURS: 0.6364, BASE: 0.7273\u001b[0m\n",
      "\u001b[31m[LF_neg_d] delta: -0.1071, OURS: 0.2857, BASE: 0.3929\u001b[0m\n",
      "\u001b[31m[LF_risk_d] delta: -0.0714, OURS: 0.3571, BASE: 0.4286\u001b[0m\n",
      "\u001b[32m[LF_treat_d] delta: 0.2222, OURS: 0.6239, BASE: 0.4017\u001b[0m\n",
      "\u001b[31m[LF_uncertain] delta: -0.0581, OURS: 0.6395, BASE: 0.6977\u001b[0m\n",
      "improved 4/33\n"
     ]
    }
   ],
   "source": [
    "compare_LF_slices(Yp_slice_ours_weak, Yp_base_weak,\n",
    "                  Y, L_test, LFs, metric='accuracy', delta_threshold=0.05)"
   ]
  },
  {
   "cell_type": "markdown",
   "metadata": {},
   "source": [
    "#### `slice_ours_weak` vs. `Yp_slice_uw_weak` (unweighted slice model)"
   ]
  },
  {
   "cell_type": "code",
   "execution_count": 30,
   "metadata": {},
   "outputs": [
    {
     "name": "stdout",
     "output_type": "stream",
     "text": [
      "\u001b[32m[LF_c_treat_d] delta: 0.1617, OURS: 0.7277, BASE: 0.5660\u001b[0m\n",
      "\u001b[32m[LF_c_treat_d_wide] delta: 0.1236, OURS: 0.6854, BASE: 0.5618\u001b[0m\n",
      "\u001b[32m[LF_closer_chem] delta: 0.0863, OURS: 0.4994, BASE: 0.4131\u001b[0m\n",
      "\u001b[32m[LF_closer_dis] delta: 0.1558, OURS: 0.5195, BASE: 0.3636\u001b[0m\n",
      "\u001b[32m[LF_ctd_therapy_treat] delta: 0.1394, OURS: 0.6574, BASE: 0.5179\u001b[0m\n",
      "\u001b[32m[LF_ctd_unspecified_treat] delta: 0.1073, OURS: 0.6851, BASE: 0.5779\u001b[0m\n",
      "\u001b[31m[LF_d_treat_c] delta: -0.1273, OURS: 0.4727, BASE: 0.6000\u001b[0m\n",
      "\u001b[32m[LF_far_c_d] delta: 0.0877, OURS: 0.5728, BASE: 0.4851\u001b[0m\n",
      "\u001b[31m[LF_improve_before_disease] delta: -0.2222, OURS: 0.4444, BASE: 0.6667\u001b[0m\n",
      "\u001b[31m[LF_in_patient_with] delta: -0.3333, OURS: 0.2222, BASE: 0.5556\u001b[0m\n",
      "\u001b[32m[LF_induce] delta: 0.0693, OURS: 0.6832, BASE: 0.6139\u001b[0m\n",
      "\u001b[31m[LF_level] delta: -0.0526, OURS: 0.3421, BASE: 0.3947\u001b[0m\n",
      "\u001b[31m[LF_neg_d] delta: -0.0714, OURS: 0.2857, BASE: 0.3571\u001b[0m\n",
      "\u001b[32m[LF_treat_d] delta: 0.0598, OURS: 0.6239, BASE: 0.5641\u001b[0m\n",
      "improved 9/33\n"
     ]
    }
   ],
   "source": [
    "compare_LF_slices(Yp_slice_ours_weak, Yp_slice_uw_weak,\n",
    "                  Y, L_test, LFs, metric='accuracy', delta_threshold=0.05)"
   ]
  },
  {
   "cell_type": "markdown",
   "metadata": {},
   "source": [
    "#### `slice_ours_weak` vs. `Yp_slice_uw_weak` (unweighted slice model)"
   ]
  },
  {
   "cell_type": "code",
   "execution_count": 32,
   "metadata": {},
   "outputs": [
    {
     "name": "stdout",
     "output_type": "stream",
     "text": [
      "\u001b[31m[LF_c_cause_d] delta: -0.1060, OURS: 0.6093, BASE: 0.7152\u001b[0m\n",
      "\u001b[31m[LF_closer_chem] delta: -0.1482, OURS: 0.4994, BASE: 0.6476\u001b[0m\n",
      "\u001b[31m[LF_closer_dis] delta: -0.1818, OURS: 0.5195, BASE: 0.7013\u001b[0m\n",
      "\u001b[31m[LF_d_treat_c] delta: -0.2485, OURS: 0.4727, BASE: 0.7212\u001b[0m\n",
      "\u001b[32m[LF_develop_d_following_c] delta: 0.5000, OURS: 1.0000, BASE: 0.5000\u001b[0m\n",
      "\u001b[31m[LF_in_ctd_therapy] delta: -0.1238, OURS: 0.5383, BASE: 0.6621\u001b[0m\n",
      "\u001b[31m[LF_in_patient_with] delta: -0.5556, OURS: 0.2222, BASE: 0.7778\u001b[0m\n",
      "\u001b[31m[LF_level] delta: -0.3947, OURS: 0.3421, BASE: 0.7368\u001b[0m\n",
      "\u001b[31m[LF_measure] delta: -0.3636, OURS: 0.6364, BASE: 1.0000\u001b[0m\n",
      "\u001b[31m[LF_neg_d] delta: -0.3036, OURS: 0.2857, BASE: 0.5893\u001b[0m\n",
      "\u001b[31m[LF_treat_d] delta: -0.1111, OURS: 0.6239, BASE: 0.7350\u001b[0m\n",
      "\u001b[31m[LF_weak_assertions] delta: -0.1042, OURS: 0.5455, BASE: 0.6497\u001b[0m\n",
      "improved 1/33\n"
     ]
    }
   ],
   "source": [
    "compare_LF_slices(Yp_slice_ours_weak, Yp_oracle,\n",
    "                  Y, L_test, LFs, metric='accuracy', delta_threshold=0.1)"
   ]
  },
  {
   "cell_type": "code",
   "execution_count": null,
   "metadata": {},
   "outputs": [],
   "source": []
  }
 ],
 "metadata": {
  "kernelspec": {
   "display_name": "Python 3",
   "language": "python",
   "name": "python3"
  },
  "language_info": {
   "codemirror_mode": {
    "name": "ipython",
    "version": 3
   },
   "file_extension": ".py",
   "mimetype": "text/x-python",
   "name": "python",
   "nbconvert_exporter": "python",
   "pygments_lexer": "ipython3",
   "version": "3.6.7"
  }
 },
 "nbformat": 4,
 "nbformat_minor": 2
}
