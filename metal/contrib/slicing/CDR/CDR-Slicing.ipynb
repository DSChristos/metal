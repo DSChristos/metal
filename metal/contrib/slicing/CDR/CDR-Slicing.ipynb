{
 "cells": [
  {
   "cell_type": "markdown",
   "metadata": {},
   "source": [
    "# Slicing CDR Relation Extraction "
   ]
  },
  {
   "cell_type": "code",
   "execution_count": 3,
   "metadata": {},
   "outputs": [],
   "source": [
    "%load_ext autoreload\n",
    "%autoreload 2\n",
    "%matplotlib inline"
   ]
  },
  {
   "cell_type": "code",
   "execution_count": 4,
   "metadata": {},
   "outputs": [],
   "source": [
    "import os\n",
    "import sys\n",
    "sys.path.append('/dfs/scratch0/vschen/metal')\n",
    "\n",
    "import metal\n",
    "import torch\n",
    "from torch.utils.data import Dataset, DataLoader\n",
    "import numpy as np\n",
    "np.set_printoptions(precision=4, suppress=True)"
   ]
  },
  {
   "cell_type": "code",
   "execution_count": 5,
   "metadata": {},
   "outputs": [
    {
     "name": "stdout",
     "output_type": "stream",
     "text": [
      "PyTorch:  0.4.1\n",
      "MeTaL:    0.3.3\n",
      "Python:   3.6.7 (default, Dec  8 2018, 17:35:14) \n",
      "[GCC 5.4.0 20160609]\n",
      "Python:   sys.version_info(major=3, minor=6, micro=7, releaselevel='final', serial=0)\n"
     ]
    }
   ],
   "source": [
    "print('PyTorch: ', torch.__version__)\n",
    "print('MeTaL:   ', metal.__version__)\n",
    "print('Python:  ', sys.version)\n",
    "print('Python:  ', sys.version_info)"
   ]
  },
  {
   "cell_type": "markdown",
   "metadata": {},
   "source": [
    "## Initalize CDR Dataset\n",
    "To uncompress the SQLite db: ```bzip2 -d cdr.db.bz2```"
   ]
  },
  {
   "cell_type": "code",
   "execution_count": 6,
   "metadata": {},
   "outputs": [
    {
     "name": "stdout",
     "output_type": "stream",
     "text": [
      "Connected to sqlite:////dfs/scratch0/vschen/metal/metal/contrib/slicing/CDR/cdr.db\n",
      "Connected to sqlite:////dfs/scratch0/vschen/metal/metal/contrib/slicing/CDR/cdr.db\n",
      "Connected to sqlite:////dfs/scratch0/vschen/metal/metal/contrib/slicing/CDR/cdr.db\n",
      "[TRAIN] 8272\n",
      "[DEV]   888\n",
      "[TEST]  4620\n"
     ]
    }
   ],
   "source": [
    "from metal.contrib.backends.wrapper import SnorkelDataset\n",
    "import os\n",
    "\n",
    "db_conn_str   = os.path.join(os.getcwd(),\"cdr.db\")\n",
    "candidate_def = ['ChemicalDisease', ['chemical', 'disease']]\n",
    "\n",
    "train, dev, test = SnorkelDataset.splits(db_conn_str, \n",
    "                                         candidate_def, \n",
    "                                         max_seq_len=125)\n",
    "\n",
    "print(f'[TRAIN] {len(train)}')\n",
    "print(f'[DEV]   {len(dev)}')\n",
    "print(f'[TEST]  {len(test)}')"
   ]
  },
  {
   "cell_type": "markdown",
   "metadata": {},
   "source": [
    "## Get Pretrained Embeddings\n",
    "\n",
    "Download [GloVe embeddings](http://nlp.stanford.edu/data/glove.6B.zip):\n",
    "`wget http://nlp.stanford.edu/data/glove.6B.zip \\\n",
    "&& mkdir -p glove.6B \\\n",
    "&& unzip glove.6B.zip -d glove.6B \\\n",
    "&& rm glove.6B.zip`"
   ]
  },
  {
   "cell_type": "code",
   "execution_count": 7,
   "metadata": {},
   "outputs": [],
   "source": [
    "from embeddings import EmbeddingLoader, load_embeddings\n",
    "emb_path  = \"../glove.6B/glove.6B.50d.txt\"\n",
    "embs  = EmbeddingLoader(emb_path, fmt='text')"
   ]
  },
  {
   "cell_type": "markdown",
   "metadata": {},
   "source": [
    "## Generate `L_*` to target slices"
   ]
  },
  {
   "cell_type": "code",
   "execution_count": 8,
   "metadata": {
    "scrolled": true
   },
   "outputs": [
    {
     "name": "stdout",
     "output_type": "stream",
     "text": [
      "['LF_c_cause_d', 'LF_c_d', 'LF_c_induced_d', 'LF_c_treat_d', 'LF_c_treat_d_wide', 'LF_closer_chem', 'LF_closer_dis', 'LF_ctd_marker_c_d', 'LF_ctd_marker_induce', 'LF_ctd_therapy_treat', 'LF_ctd_unspecified_treat', 'LF_ctd_unspecified_induce', 'LF_d_following_c', 'LF_d_induced_by_c', 'LF_d_induced_by_c_tight', 'LF_d_treat_c', 'LF_develop_d_following_c', 'LF_far_c_d', 'LF_far_d_c', 'LF_improve_before_disease', 'LF_in_ctd_therapy', 'LF_in_ctd_marker', 'LF_in_patient_with', 'LF_induce', 'LF_induce_name', 'LF_induced_other', 'LF_level', 'LF_measure', 'LF_neg_d', 'LF_risk_d', 'LF_treat_d', 'LF_uncertain', 'LF_weak_assertions']\n"
     ]
    }
   ],
   "source": [
    "from labeling_functions import LFs\n",
    "print ([lf.__name__ for lf in LFs])"
   ]
  },
  {
   "cell_type": "code",
   "execution_count": 9,
   "metadata": {},
   "outputs": [
    {
     "name": "stdout",
     "output_type": "stream",
     "text": [
      "Clearing existing...\n"
     ]
    },
    {
     "name": "stderr",
     "output_type": "stream",
     "text": [
      "  0%|          | 6/8272 [00:00<02:20, 58.98it/s]"
     ]
    },
    {
     "name": "stdout",
     "output_type": "stream",
     "text": [
      "Running UDF...\n"
     ]
    },
    {
     "name": "stderr",
     "output_type": "stream",
     "text": [
      "100%|██████████| 8272/8272 [00:53<00:00, 155.70it/s]\n"
     ]
    },
    {
     "name": "stdout",
     "output_type": "stream",
     "text": [
      "Clearing existing...\n"
     ]
    },
    {
     "name": "stderr",
     "output_type": "stream",
     "text": [
      "  1%|          | 7/888 [00:00<00:12, 69.80it/s]"
     ]
    },
    {
     "name": "stdout",
     "output_type": "stream",
     "text": [
      "Running UDF...\n"
     ]
    },
    {
     "name": "stderr",
     "output_type": "stream",
     "text": [
      "100%|██████████| 888/888 [00:04<00:00, 217.25it/s]\n",
      "  0%|          | 0/4620 [00:00<?, ?it/s]"
     ]
    },
    {
     "name": "stdout",
     "output_type": "stream",
     "text": [
      "Clearing existing...\n",
      "Running UDF...\n"
     ]
    },
    {
     "name": "stderr",
     "output_type": "stream",
     "text": [
      "100%|██████████| 4620/4620 [00:22<00:00, 205.85it/s]\n"
     ]
    },
    {
     "name": "stdout",
     "output_type": "stream",
     "text": [
      "Inferred cardinality: 2\n"
     ]
    },
    {
     "name": "stderr",
     "output_type": "stream",
     "text": [
      "/dfs/scratch0/vschen/snorkel/snorkel/learning/gen_learning.py:350: RuntimeWarning: invalid value encountered in double_scalars\n",
      "  \"Precision\": tp / (tp + fp),\n",
      "/dfs/scratch0/vschen/snorkel/snorkel/learning/gen_learning.py:352: RuntimeWarning: invalid value encountered in double_scalars\n",
      "  \"Accuracy\": (tp + tn) / coverage,\n"
     ]
    },
    {
     "name": "stdout",
     "output_type": "stream",
     "text": [
      "CPU times: user 3min 5s, sys: 932 ms, total: 3min 5s\n",
      "Wall time: 3min 7s\n"
     ]
    }
   ],
   "source": [
    "%%time \n",
    "from snorkel import SnorkelSession\n",
    "session = SnorkelSession()\n",
    "\n",
    "from snorkel.annotations import LabelAnnotator\n",
    "labeler = LabelAnnotator(lfs=LFs)\n",
    "L_train = labeler.apply(split=0)\n",
    "L_dev = labeler.apply(split=1) # used for debugging\n",
    "L_test = labeler.apply(split=2) # used for evaluation\n",
    "\n",
    "from snorkel.learning.structure import DependencySelector\n",
    "ds = DependencySelector()\n",
    "deps = ds.select(L_train, threshold=0.1)\n",
    "from snorkel.learning import GenerativeModel\n",
    "\n",
    "# need to extract `accs` from gen_model\n",
    "gen_model = GenerativeModel(lf_propensity=True)\n",
    "gen_model.train(\n",
    "    L_train, deps=deps, decay=0.95, step_size=0.1/L_train.shape[0], reg_param=0.0\n",
    ")\n",
    "\n",
    "accs = np.array(gen_model.learned_lf_stats()['Accuracy'])\n",
    "accs[np.isnan(accs)] = 0\n",
    "accs = np.minimum(accs, 0.999)\n",
    "\n",
    "gen_marginals = gen_model.marginals(L_train)"
   ]
  },
  {
   "cell_type": "code",
   "execution_count": 10,
   "metadata": {},
   "outputs": [],
   "source": [
    "L = L_train.copy()\n",
    "L[L==-1] = 2 # convert to multiclass\n",
    "Y_dev = np.array([ex[1] for ex in dev])"
   ]
  },
  {
   "cell_type": "code",
   "execution_count": 11,
   "metadata": {},
   "outputs": [
    {
     "name": "stdout",
     "output_type": "stream",
     "text": [
      "Computing O...\n",
      "Estimating \\mu...\n",
      "[E:0]\tTrain Loss: 0.492\n",
      "[E:10]\tTrain Loss: 0.184\n",
      "[E:20]\tTrain Loss: 0.122\n",
      "[E:30]\tTrain Loss: 0.076\n",
      "[E:40]\tTrain Loss: 0.055\n",
      "[E:50]\tTrain Loss: 0.038\n",
      "[E:60]\tTrain Loss: 0.033\n",
      "[E:70]\tTrain Loss: 0.030\n",
      "[E:80]\tTrain Loss: 0.029\n",
      "[E:90]\tTrain Loss: 0.028\n",
      "[E:99]\tTrain Loss: 0.028\n",
      "Finished Training\n",
      "Accuracy: 0.699\n",
      "        y=1    y=2   \n",
      " l=1    81     52    \n",
      " l=2    215    540   \n"
     ]
    },
    {
     "data": {
      "text/plain": [
       "0.6993243243243243"
      ]
     },
     "execution_count": 11,
     "metadata": {},
     "output_type": "execute_result"
    }
   ],
   "source": [
    "from metal.label_model import LabelModel\n",
    "label_model = LabelModel(k=2, seed=123)\n",
    "label_model.train_model(L, Y_dev=Y_dev)\n",
    "label_model.score((L_dev, Y_dev))"
   ]
  },
  {
   "cell_type": "markdown",
   "metadata": {},
   "source": [
    "### Weak Labels in Dataset"
   ]
  },
  {
   "cell_type": "code",
   "execution_count": 12,
   "metadata": {},
   "outputs": [
    {
     "data": {
      "text/plain": [
       "array([[0.1542, 0.8458],\n",
       "       [1.    , 0.    ],\n",
       "       [0.2198, 0.7802],\n",
       "       ...,\n",
       "       [0.4359, 0.5641],\n",
       "       [0.3333, 0.6667],\n",
       "       [0.9703, 0.0297]])"
      ]
     },
     "execution_count": 12,
     "metadata": {},
     "output_type": "execute_result"
    }
   ],
   "source": [
    "metal_marginals = label_model.predict_proba(L)\n",
    "metal_marginals"
   ]
  },
  {
   "cell_type": "code",
   "execution_count": 13,
   "metadata": {},
   "outputs": [
    {
     "data": {
      "text/plain": [
       "array([[0.3856, 0.6144],\n",
       "       [0.8905, 0.1095],\n",
       "       [0.6226, 0.3774],\n",
       "       ...,\n",
       "       [0.7244, 0.2756],\n",
       "       [0.5   , 0.5   ],\n",
       "       [0.7768, 0.2232]])"
      ]
     },
     "execution_count": 13,
     "metadata": {},
     "output_type": "execute_result"
    }
   ],
   "source": [
    "snorkel_marginals = np.vstack((gen_marginals, 1-gen_marginals)).T\n",
    "snorkel_marginals"
   ]
  },
  {
   "cell_type": "code",
   "execution_count": 14,
   "metadata": {},
   "outputs": [
    {
     "name": "stdout",
     "output_type": "stream",
     "text": [
      "Connected to sqlite:////dfs/scratch0/vschen/metal/metal/contrib/slicing/CDR/cdr.db\n",
      "Connected to sqlite:////dfs/scratch0/vschen/metal/metal/contrib/slicing/CDR/cdr.db\n"
     ]
    }
   ],
   "source": [
    "from metal.contrib.slicing.sqlite_wrapper \\\n",
    "    import SnorkelDataset as SnorkelSliceDataset\n",
    "\n",
    "train_metal = SnorkelSliceDataset(\n",
    "    db_conn_str,\n",
    "    candidate_def,\n",
    "    split=0,\n",
    "    train_marginals=metal_marginals\n",
    ")\n",
    "\n",
    "train_snorkel = SnorkelSliceDataset(\n",
    "    db_conn_str,\n",
    "    candidate_def,\n",
    "    split=0,\n",
    "    train_marginals=snorkel_marginals\n",
    ")"
   ]
  },
  {
   "cell_type": "markdown",
   "metadata": {},
   "source": [
    "### Custom Slicing Dataset"
   ]
  },
  {
   "cell_type": "code",
   "execution_count": 15,
   "metadata": {},
   "outputs": [
    {
     "name": "stdout",
     "output_type": "stream",
     "text": [
      "Connected to sqlite:////dfs/scratch0/vschen/metal/metal/contrib/slicing/CDR/cdr.db\n",
      "Connected to sqlite:////dfs/scratch0/vschen/metal/metal/contrib/slicing/CDR/cdr.db\n",
      "Connected to sqlite:////dfs/scratch0/vschen/metal/metal/contrib/slicing/CDR/cdr.db\n"
     ]
    }
   ],
   "source": [
    "train_slice = SnorkelSliceDataset(\n",
    "    db_conn_str,\n",
    "    candidate_def,\n",
    "    split=0,\n",
    "    L_train=L_train.todense()\n",
    ")\n",
    "\n",
    "train_slice_metal = SnorkelSliceDataset(\n",
    "    db_conn_str,\n",
    "    candidate_def,\n",
    "    split=0,\n",
    "    L_train=L_train.todense(),\n",
    "    train_marginals=metal_marginals\n",
    ")\n",
    "\n",
    "train_slice_snorkel = SnorkelSliceDataset(\n",
    "    db_conn_str,\n",
    "    candidate_def,\n",
    "    split=0,\n",
    "    L_train=L_train.todense(),\n",
    "    train_marginals=snorkel_marginals\n",
    ")"
   ]
  },
  {
   "cell_type": "code",
   "execution_count": 16,
   "metadata": {},
   "outputs": [],
   "source": [
    "def init_model(use_end_model=False, r=None, rw=None):\n",
    "    wembs = load_embeddings(train.word_dict, embs)\n",
    "    lstm = LSTMModule(embed_size=50, \n",
    "                      hidden_size=100, \n",
    "                      embeddings=wembs,\n",
    "                      lstm_reduction='attention', \n",
    "                      dropout=0.0, \n",
    "                      num_layers=1, \n",
    "                      freeze=False)\n",
    "    if use_end_model:\n",
    "        model = EndModel([200, 2], input_module=lstm, seed=123, use_cuda=use_cuda)\n",
    "    else:\n",
    "        model = SliceDPModel(lstm, accs, r, rw, seed=123, use_cuda=True)\n",
    "\n",
    "    model.config['train_config']['optimizer_config']['optimizer_common']['lr'] = 0.01\n",
    "    model.config['train_config']['validation_metric'] = 'f1'\n",
    "    model.config['train_config']['batch_size'] = 32\n",
    "    model.config['train_config']['n_epochs'] = 10\n",
    "    return model"
   ]
  },
  {
   "cell_type": "markdown",
   "metadata": {},
   "source": [
    "## (a) `Oracle`: EndModel Trained on Full GT"
   ]
  },
  {
   "cell_type": "code",
   "execution_count": 17,
   "metadata": {},
   "outputs": [
    {
     "name": "stdout",
     "output_type": "stream",
     "text": [
      "Loaded 77.0% (7656/9946) pretrained embeddings\n",
      "Using pretrained embeddings.\n",
      "Embeddings shape = (9946, 50)\n",
      "The embeddings are NOT FROZEN\n",
      "Using lstm_reduction = 'attention'\n",
      "\n",
      "Network architecture:\n",
      "Sequential(\n",
      "  (0): Sequential(\n",
      "    (0): LSTMModule(\n",
      "      (embeddings): Embedding(9946, 50)\n",
      "      (lstm): LSTM(50, 100, batch_first=True, bidirectional=True)\n",
      "    )\n",
      "    (1): ReLU()\n",
      "  )\n",
      "  (1): Linear(in_features=200, out_features=2, bias=True)\n",
      ")\n",
      "\n",
      "Using GPU...\n"
     ]
    },
    {
     "data": {
      "application/vnd.jupyter.widget-view+json": {
       "model_id": "f8052dc3af2b47b18c6396e7573c53d5",
       "version_major": 2,
       "version_minor": 0
      },
      "text/plain": [
       "HBox(children=(IntProgress(value=0, max=259), HTML(value='')))"
      ]
     },
     "metadata": {},
     "output_type": "display_data"
    },
    {
     "name": "stdout",
     "output_type": "stream",
     "text": [
      "\n",
      "Saving model at iteration 0 with best score 0.585\n",
      "[E:0]\tTrain Loss: 0.538\tDev f1: 0.585\n"
     ]
    },
    {
     "data": {
      "application/vnd.jupyter.widget-view+json": {
       "model_id": "948b5d1b8d144080a3ae6483652afe15",
       "version_major": 2,
       "version_minor": 0
      },
      "text/plain": [
       "HBox(children=(IntProgress(value=0, max=259), HTML(value='')))"
      ]
     },
     "metadata": {},
     "output_type": "display_data"
    },
    {
     "name": "stdout",
     "output_type": "stream",
     "text": [
      "\n",
      "Saving model at iteration 1 with best score 0.610\n",
      "[E:1]\tTrain Loss: 0.284\tDev f1: 0.610\n"
     ]
    },
    {
     "data": {
      "application/vnd.jupyter.widget-view+json": {
       "model_id": "204661a8e1244cd4b20898ed8d4f21f5",
       "version_major": 2,
       "version_minor": 0
      },
      "text/plain": [
       "HBox(children=(IntProgress(value=0, max=259), HTML(value='')))"
      ]
     },
     "metadata": {},
     "output_type": "display_data"
    },
    {
     "name": "stdout",
     "output_type": "stream",
     "text": [
      "\n",
      "[E:2]\tTrain Loss: 0.163\tDev f1: 0.574\n"
     ]
    },
    {
     "data": {
      "application/vnd.jupyter.widget-view+json": {
       "model_id": "0016831386c34823bd767395a7b94f21",
       "version_major": 2,
       "version_minor": 0
      },
      "text/plain": [
       "HBox(children=(IntProgress(value=0, max=259), HTML(value='')))"
      ]
     },
     "metadata": {},
     "output_type": "display_data"
    },
    {
     "name": "stdout",
     "output_type": "stream",
     "text": [
      "\n",
      "[E:3]\tTrain Loss: 0.112\tDev f1: 0.571\n"
     ]
    },
    {
     "data": {
      "application/vnd.jupyter.widget-view+json": {
       "model_id": "4cf0d7bf51e44a15b9ea1746d5a82341",
       "version_major": 2,
       "version_minor": 0
      },
      "text/plain": [
       "HBox(children=(IntProgress(value=0, max=259), HTML(value='')))"
      ]
     },
     "metadata": {},
     "output_type": "display_data"
    },
    {
     "name": "stdout",
     "output_type": "stream",
     "text": [
      "\n",
      "[E:4]\tTrain Loss: 0.075\tDev f1: 0.586\n"
     ]
    },
    {
     "data": {
      "application/vnd.jupyter.widget-view+json": {
       "model_id": "4e739ad543db4afeb5bfa14b950d184f",
       "version_major": 2,
       "version_minor": 0
      },
      "text/plain": [
       "HBox(children=(IntProgress(value=0, max=259), HTML(value='')))"
      ]
     },
     "metadata": {},
     "output_type": "display_data"
    },
    {
     "name": "stdout",
     "output_type": "stream",
     "text": [
      "\n",
      "[E:5]\tTrain Loss: 0.054\tDev f1: 0.590\n"
     ]
    },
    {
     "data": {
      "application/vnd.jupyter.widget-view+json": {
       "model_id": "9d52cfdfd90046d0850a317684909bb6",
       "version_major": 2,
       "version_minor": 0
      },
      "text/plain": [
       "HBox(children=(IntProgress(value=0, max=259), HTML(value='')))"
      ]
     },
     "metadata": {},
     "output_type": "display_data"
    },
    {
     "name": "stdout",
     "output_type": "stream",
     "text": [
      "\n",
      "[E:6]\tTrain Loss: 0.042\tDev f1: 0.572\n"
     ]
    },
    {
     "data": {
      "application/vnd.jupyter.widget-view+json": {
       "model_id": "2f54d48533314abf944d3a25f7bcb0e1",
       "version_major": 2,
       "version_minor": 0
      },
      "text/plain": [
       "HBox(children=(IntProgress(value=0, max=259), HTML(value='')))"
      ]
     },
     "metadata": {},
     "output_type": "display_data"
    },
    {
     "name": "stdout",
     "output_type": "stream",
     "text": [
      "\n",
      "[E:7]\tTrain Loss: 0.045\tDev f1: 0.549\n"
     ]
    },
    {
     "data": {
      "application/vnd.jupyter.widget-view+json": {
       "model_id": "d007b1af63704aa3bee1d8d939d221ca",
       "version_major": 2,
       "version_minor": 0
      },
      "text/plain": [
       "HBox(children=(IntProgress(value=0, max=259), HTML(value='')))"
      ]
     },
     "metadata": {},
     "output_type": "display_data"
    },
    {
     "name": "stdout",
     "output_type": "stream",
     "text": [
      "\n",
      "[E:8]\tTrain Loss: 0.038\tDev f1: 0.566\n"
     ]
    },
    {
     "data": {
      "application/vnd.jupyter.widget-view+json": {
       "model_id": "3a42da97d2ab489995c614e1a4b4304a",
       "version_major": 2,
       "version_minor": 0
      },
      "text/plain": [
       "HBox(children=(IntProgress(value=0, max=259), HTML(value='')))"
      ]
     },
     "metadata": {},
     "output_type": "display_data"
    },
    {
     "name": "stdout",
     "output_type": "stream",
     "text": [
      "\n",
      "[E:9]\tTrain Loss: 0.027\tDev f1: 0.557\n",
      "Restoring best model from iteration 1 with score 0.610\n",
      "Finished Training\n",
      "F1: 0.610\n",
      "        y=1    y=2   \n",
      " l=1    201    162   \n",
      " l=2    95     430   \n",
      "CPU times: user 11min 23s, sys: 22.9 s, total: 11min 46s\n",
      "Wall time: 11min 42s\n",
      "Precision: 0.503\n",
      "Recall: 0.738\n",
      "F1: 0.598\n",
      "        y=1    y=2   \n",
      " l=1   1111   1098   \n",
      " l=2    394   2017   \n"
     ]
    },
    {
     "data": {
      "text/plain": [
       "[0.5029425079221367, 0.7382059800664452, 0.598276790522348]"
      ]
     },
     "execution_count": 17,
     "metadata": {},
     "output_type": "execute_result"
    }
   ],
   "source": [
    "from metal.end_model import EndModel\n",
    "from metal.modules import LSTMModule\n",
    "\n",
    "oracle = init_model(use_end_model=True)\n",
    "%time oracle.train_model(train, dev_data=dev)\n",
    "oracle.score(test, metric=['precision', 'recall', 'f1'])"
   ]
  },
  {
   "cell_type": "markdown",
   "metadata": {},
   "source": [
    "## (b) `BaseWeak`: EndModel trained on weak labels"
   ]
  },
  {
   "cell_type": "code",
   "execution_count": 18,
   "metadata": {},
   "outputs": [
    {
     "name": "stdout",
     "output_type": "stream",
     "text": [
      "Loaded 77.0% (7656/9946) pretrained embeddings\n",
      "Using pretrained embeddings.\n",
      "Embeddings shape = (9946, 50)\n",
      "The embeddings are NOT FROZEN\n",
      "Using lstm_reduction = 'attention'\n",
      "\n",
      "Network architecture:\n",
      "Sequential(\n",
      "  (0): Sequential(\n",
      "    (0): LSTMModule(\n",
      "      (embeddings): Embedding(9946, 50)\n",
      "      (lstm): LSTM(50, 100, batch_first=True, bidirectional=True)\n",
      "    )\n",
      "    (1): ReLU()\n",
      "  )\n",
      "  (1): Linear(in_features=200, out_features=2, bias=True)\n",
      ")\n",
      "\n",
      "Using GPU...\n"
     ]
    },
    {
     "data": {
      "application/vnd.jupyter.widget-view+json": {
       "model_id": "fafe67e9868d4880b199e51280e3fc7c",
       "version_major": 2,
       "version_minor": 0
      },
      "text/plain": [
       "HBox(children=(IntProgress(value=0, max=259), HTML(value='')))"
      ]
     },
     "metadata": {},
     "output_type": "display_data"
    },
    {
     "name": "stdout",
     "output_type": "stream",
     "text": [
      "\n",
      "Saving model at iteration 0 with best score 0.562\n",
      "[E:0]\tTrain Loss: 0.657\tDev f1: 0.562\n"
     ]
    },
    {
     "data": {
      "application/vnd.jupyter.widget-view+json": {
       "model_id": "1514687e23f54ac7b8fdf14053739cec",
       "version_major": 2,
       "version_minor": 0
      },
      "text/plain": [
       "HBox(children=(IntProgress(value=0, max=259), HTML(value='')))"
      ]
     },
     "metadata": {},
     "output_type": "display_data"
    },
    {
     "name": "stdout",
     "output_type": "stream",
     "text": [
      "\n",
      "[E:1]\tTrain Loss: 0.636\tDev f1: 0.536\n"
     ]
    },
    {
     "data": {
      "application/vnd.jupyter.widget-view+json": {
       "model_id": "74637eb23cda4b6e9883644c3b2db867",
       "version_major": 2,
       "version_minor": 0
      },
      "text/plain": [
       "HBox(children=(IntProgress(value=0, max=259), HTML(value='')))"
      ]
     },
     "metadata": {},
     "output_type": "display_data"
    },
    {
     "name": "stdout",
     "output_type": "stream",
     "text": [
      "\n",
      "Saving model at iteration 2 with best score 0.566\n",
      "[E:2]\tTrain Loss: 0.628\tDev f1: 0.566\n"
     ]
    },
    {
     "data": {
      "application/vnd.jupyter.widget-view+json": {
       "model_id": "027ade03fa9141d2bcb4dd151e254338",
       "version_major": 2,
       "version_minor": 0
      },
      "text/plain": [
       "HBox(children=(IntProgress(value=0, max=259), HTML(value='')))"
      ]
     },
     "metadata": {},
     "output_type": "display_data"
    },
    {
     "name": "stdout",
     "output_type": "stream",
     "text": [
      "\n",
      "Saving model at iteration 3 with best score 0.572\n",
      "[E:3]\tTrain Loss: 0.625\tDev f1: 0.572\n"
     ]
    },
    {
     "data": {
      "application/vnd.jupyter.widget-view+json": {
       "model_id": "38c7f5b0b20141f5b6744ef5fbfe34b8",
       "version_major": 2,
       "version_minor": 0
      },
      "text/plain": [
       "HBox(children=(IntProgress(value=0, max=259), HTML(value='')))"
      ]
     },
     "metadata": {},
     "output_type": "display_data"
    },
    {
     "name": "stdout",
     "output_type": "stream",
     "text": [
      "\n",
      "[E:4]\tTrain Loss: 0.623\tDev f1: 0.571\n"
     ]
    },
    {
     "data": {
      "application/vnd.jupyter.widget-view+json": {
       "model_id": "f23dd89576f24dddb631e719e6707a46",
       "version_major": 2,
       "version_minor": 0
      },
      "text/plain": [
       "HBox(children=(IntProgress(value=0, max=259), HTML(value='')))"
      ]
     },
     "metadata": {},
     "output_type": "display_data"
    },
    {
     "name": "stdout",
     "output_type": "stream",
     "text": [
      "\n",
      "Saving model at iteration 5 with best score 0.574\n",
      "[E:5]\tTrain Loss: 0.622\tDev f1: 0.574\n"
     ]
    },
    {
     "data": {
      "application/vnd.jupyter.widget-view+json": {
       "model_id": "38d7d0f602a24236a6a4139231ba53ad",
       "version_major": 2,
       "version_minor": 0
      },
      "text/plain": [
       "HBox(children=(IntProgress(value=0, max=259), HTML(value='')))"
      ]
     },
     "metadata": {},
     "output_type": "display_data"
    },
    {
     "name": "stdout",
     "output_type": "stream",
     "text": [
      "\n",
      "[E:6]\tTrain Loss: 0.621\tDev f1: 0.564\n"
     ]
    },
    {
     "data": {
      "application/vnd.jupyter.widget-view+json": {
       "model_id": "fd5bcb678c514527b5a2e8c9cc4a22e1",
       "version_major": 2,
       "version_minor": 0
      },
      "text/plain": [
       "HBox(children=(IntProgress(value=0, max=259), HTML(value='')))"
      ]
     },
     "metadata": {},
     "output_type": "display_data"
    },
    {
     "name": "stdout",
     "output_type": "stream",
     "text": [
      "\n",
      "[E:7]\tTrain Loss: 0.620\tDev f1: 0.564\n"
     ]
    },
    {
     "data": {
      "application/vnd.jupyter.widget-view+json": {
       "model_id": "fb7af2ae0ac147359016efd3579b5029",
       "version_major": 2,
       "version_minor": 0
      },
      "text/plain": [
       "HBox(children=(IntProgress(value=0, max=259), HTML(value='')))"
      ]
     },
     "metadata": {},
     "output_type": "display_data"
    },
    {
     "name": "stdout",
     "output_type": "stream",
     "text": [
      "\n",
      "[E:8]\tTrain Loss: 0.620\tDev f1: 0.569\n"
     ]
    },
    {
     "data": {
      "application/vnd.jupyter.widget-view+json": {
       "model_id": "8e7d4e0365e34c25a1985e7bc4aaa743",
       "version_major": 2,
       "version_minor": 0
      },
      "text/plain": [
       "HBox(children=(IntProgress(value=0, max=259), HTML(value='')))"
      ]
     },
     "metadata": {},
     "output_type": "display_data"
    },
    {
     "name": "stdout",
     "output_type": "stream",
     "text": [
      "\n",
      "[E:9]\tTrain Loss: 0.619\tDev f1: 0.562\n",
      "Restoring best model from iteration 5 with score 0.574\n",
      "Finished Training\n",
      "F1: 0.574\n",
      "        y=1    y=2   \n",
      " l=1    268    370   \n",
      " l=2    28     222   \n",
      "CPU times: user 11min 41s, sys: 20.6 s, total: 12min 2s\n",
      "Wall time: 11min 57s\n",
      "Precision: 0.396\n",
      "Recall: 0.916\n",
      "F1: 0.553\n",
      "        y=1    y=2   \n",
      " l=1   1378   2102   \n",
      " l=2    127   1013   \n"
     ]
    }
   ],
   "source": [
    "from metal.end_model import EndModel\n",
    "from metal.modules import LSTMModule\n",
    "\n",
    "base_weak = init_model(use_end_model=True)\n",
    "%time base_weak.train_model(train_snorkel, dev_data=dev)\n",
    "base_weak_scores = base_weak.score(test, metric=['precision', 'recall', 'f1'])"
   ]
  },
  {
   "cell_type": "markdown",
   "metadata": {},
   "source": [
    "## (c) `SliceUW`: Unweighted SliceModel with `rw=False`"
   ]
  },
  {
   "cell_type": "code",
   "execution_count": 19,
   "metadata": {},
   "outputs": [],
   "source": [
    "from metal.contrib.slicing.online_dp import SliceDPModel, LinearModule"
   ]
  },
  {
   "cell_type": "code",
   "execution_count": 20,
   "metadata": {},
   "outputs": [
    {
     "name": "stdout",
     "output_type": "stream",
     "text": [
      "Loaded 77.0% (7656/9946) pretrained embeddings\n",
      "Using pretrained embeddings.\n",
      "Embeddings shape = (9946, 50)\n",
      "The embeddings are NOT FROZEN\n",
      "Using lstm_reduction = 'attention'\n",
      "Slice Heads:\n",
      "Reweighting: False\n",
      "Input Network: Sequential(\n",
      "  (0): Sequential(\n",
      "    (0): LSTMModule(\n",
      "      (embeddings): Embedding(9946, 50)\n",
      "      (lstm): LSTM(50, 100, batch_first=True, bidirectional=True)\n",
      "    )\n",
      "    (1): ReLU()\n",
      "  )\n",
      ")\n",
      "L_head: Linear(in_features=200, out_features=33, bias=False)\n",
      "Y_head: Linear(in_features=200, out_features=2, bias=False)\n",
      "Using GPU...\n"
     ]
    },
    {
     "name": "stderr",
     "output_type": "stream",
     "text": [
      "/dfs/scratch0/vschen/snorkel-pytorch/venv/lib/python3.6/site-packages/torch/nn/functional.py:52: UserWarning: size_average and reduce args will be deprecated, please use reduction='none' instead.\n",
      "  warnings.warn(warning.format(ret))\n",
      "/dfs/scratch0/vschen/metal/metal/contrib/slicing/online_dp.py:106: RuntimeWarning: divide by zero encountered in log\n",
      "  self.w = torch.from_numpy(np.log(accs / (1-accs))).float()\n"
     ]
    },
    {
     "data": {
      "application/vnd.jupyter.widget-view+json": {
       "model_id": "abfcb8852efe436f93ba1d25632172b3",
       "version_major": 2,
       "version_minor": 0
      },
      "text/plain": [
       "HBox(children=(IntProgress(value=0, max=259), HTML(value='')))"
      ]
     },
     "metadata": {},
     "output_type": "display_data"
    },
    {
     "name": "stderr",
     "output_type": "stream",
     "text": [
      "/dfs/scratch0/vschen/snorkel-pytorch/venv/lib/python3.6/site-packages/torch/nn/functional.py:1006: UserWarning: nn.functional.sigmoid is deprecated. Use torch.sigmoid instead.\n",
      "  warnings.warn(\"nn.functional.sigmoid is deprecated. Use torch.sigmoid instead.\")\n",
      "/dfs/scratch0/vschen/metal/metal/contrib/slicing/online_dp.py:181: UserWarning: Implicit dimension choice for softmax has been deprecated. Change the call to include dim=X as an argument.\n",
      "  return F.softmax(outputs)\n"
     ]
    },
    {
     "name": "stdout",
     "output_type": "stream",
     "text": [
      "\n",
      "Saving model at iteration 0 with best score 0.537\n",
      "[E:0]\tTrain Loss: 3.501\tDev f1: 0.537\n"
     ]
    },
    {
     "data": {
      "application/vnd.jupyter.widget-view+json": {
       "model_id": "e6285f33111a4f4da003bf0d64be2a21",
       "version_major": 2,
       "version_minor": 0
      },
      "text/plain": [
       "HBox(children=(IntProgress(value=0, max=259), HTML(value='')))"
      ]
     },
     "metadata": {},
     "output_type": "display_data"
    },
    {
     "name": "stdout",
     "output_type": "stream",
     "text": [
      "\n",
      "Saving model at iteration 1 with best score 0.562\n",
      "[E:1]\tTrain Loss: 3.430\tDev f1: 0.562\n"
     ]
    },
    {
     "data": {
      "application/vnd.jupyter.widget-view+json": {
       "model_id": "4529d6d8f064444eb6bbbc527ce24a1d",
       "version_major": 2,
       "version_minor": 0
      },
      "text/plain": [
       "HBox(children=(IntProgress(value=0, max=259), HTML(value='')))"
      ]
     },
     "metadata": {},
     "output_type": "display_data"
    },
    {
     "name": "stdout",
     "output_type": "stream",
     "text": [
      "\n",
      "Saving model at iteration 2 with best score 0.581\n",
      "[E:2]\tTrain Loss: 3.399\tDev f1: 0.581\n"
     ]
    },
    {
     "data": {
      "application/vnd.jupyter.widget-view+json": {
       "model_id": "683afe5252e6461bb96ed07eaff43ef4",
       "version_major": 2,
       "version_minor": 0
      },
      "text/plain": [
       "HBox(children=(IntProgress(value=0, max=259), HTML(value='')))"
      ]
     },
     "metadata": {},
     "output_type": "display_data"
    },
    {
     "name": "stdout",
     "output_type": "stream",
     "text": [
      "\n",
      "Saving model at iteration 3 with best score 0.615\n",
      "[E:3]\tTrain Loss: 3.383\tDev f1: 0.615\n"
     ]
    },
    {
     "data": {
      "application/vnd.jupyter.widget-view+json": {
       "model_id": "6e0fd6ead0394f689b2bb59e263e3493",
       "version_major": 2,
       "version_minor": 0
      },
      "text/plain": [
       "HBox(children=(IntProgress(value=0, max=259), HTML(value='')))"
      ]
     },
     "metadata": {},
     "output_type": "display_data"
    },
    {
     "name": "stdout",
     "output_type": "stream",
     "text": [
      "\n",
      "[E:4]\tTrain Loss: 3.372\tDev f1: 0.599\n"
     ]
    },
    {
     "data": {
      "application/vnd.jupyter.widget-view+json": {
       "model_id": "44a488ae1e94407fb5e621065e3b1175",
       "version_major": 2,
       "version_minor": 0
      },
      "text/plain": [
       "HBox(children=(IntProgress(value=0, max=259), HTML(value='')))"
      ]
     },
     "metadata": {},
     "output_type": "display_data"
    },
    {
     "name": "stdout",
     "output_type": "stream",
     "text": [
      "\n",
      "[E:5]\tTrain Loss: 3.364\tDev f1: 0.611\n"
     ]
    },
    {
     "data": {
      "application/vnd.jupyter.widget-view+json": {
       "model_id": "b49472fba7714231a50a6ec9a1d867aa",
       "version_major": 2,
       "version_minor": 0
      },
      "text/plain": [
       "HBox(children=(IntProgress(value=0, max=259), HTML(value='')))"
      ]
     },
     "metadata": {},
     "output_type": "display_data"
    },
    {
     "name": "stdout",
     "output_type": "stream",
     "text": [
      "\n",
      "[E:6]\tTrain Loss: 3.357\tDev f1: 0.601\n"
     ]
    },
    {
     "data": {
      "application/vnd.jupyter.widget-view+json": {
       "model_id": "8e0c4b6de7fd4328bdd1d95f0b9c12e3",
       "version_major": 2,
       "version_minor": 0
      },
      "text/plain": [
       "HBox(children=(IntProgress(value=0, max=259), HTML(value='')))"
      ]
     },
     "metadata": {},
     "output_type": "display_data"
    },
    {
     "name": "stdout",
     "output_type": "stream",
     "text": [
      "\n",
      "[E:7]\tTrain Loss: 3.353\tDev f1: 0.606\n"
     ]
    },
    {
     "data": {
      "application/vnd.jupyter.widget-view+json": {
       "model_id": "5be5f126ae634699b0a59b365077ec1d",
       "version_major": 2,
       "version_minor": 0
      },
      "text/plain": [
       "HBox(children=(IntProgress(value=0, max=259), HTML(value='')))"
      ]
     },
     "metadata": {},
     "output_type": "display_data"
    },
    {
     "name": "stdout",
     "output_type": "stream",
     "text": [
      "\n",
      "[E:8]\tTrain Loss: 3.351\tDev f1: 0.582\n"
     ]
    },
    {
     "data": {
      "application/vnd.jupyter.widget-view+json": {
       "model_id": "3180e3656ea3419a8e48b80c6c133726",
       "version_major": 2,
       "version_minor": 0
      },
      "text/plain": [
       "HBox(children=(IntProgress(value=0, max=259), HTML(value='')))"
      ]
     },
     "metadata": {},
     "output_type": "display_data"
    },
    {
     "name": "stdout",
     "output_type": "stream",
     "text": [
      "\n",
      "[E:9]\tTrain Loss: 3.349\tDev f1: 0.591\n",
      "Restoring best model from iteration 3 with score 0.615\n",
      "Finished Training\n",
      "F1: 0.615\n",
      "        y=1    y=2   \n",
      " l=1    260    290   \n",
      " l=2    36     302   \n",
      "CPU times: user 22min 4s, sys: 33.4 s, total: 22min 38s\n",
      "Wall time: 22min 32s\n",
      "Precision: 0.423\n",
      "Recall: 0.835\n",
      "F1: 0.562\n",
      "        y=1    y=2   \n",
      " l=1   1257   1715   \n",
      " l=2    248   1400   \n"
     ]
    }
   ],
   "source": [
    "slice_uw = init_model(r=200, rw=False)\n",
    "%time slice_uw.train_model(train_slice, dev_data=dev)\n",
    "slice_uw_scores = slice_uw.score(test, metric=['precision', 'recall', 'f1'])"
   ]
  },
  {
   "cell_type": "markdown",
   "metadata": {},
   "source": [
    "## (d) `SliceOurs`: Attention SliceModel with `rw=True`"
   ]
  },
  {
   "cell_type": "code",
   "execution_count": 21,
   "metadata": {
    "scrolled": true
   },
   "outputs": [
    {
     "name": "stdout",
     "output_type": "stream",
     "text": [
      "Loaded 77.0% (7656/9946) pretrained embeddings\n",
      "Using pretrained embeddings.\n",
      "Embeddings shape = (9946, 50)\n",
      "The embeddings are NOT FROZEN\n",
      "Using lstm_reduction = 'attention'\n",
      "Slice Heads:\n",
      "Reweighting: True\n",
      "Input Network: Sequential(\n",
      "  (0): Sequential(\n",
      "    (0): LSTMModule(\n",
      "      (embeddings): Embedding(9946, 50)\n",
      "      (lstm): LSTM(50, 100, batch_first=True, bidirectional=True)\n",
      "    )\n",
      "    (1): ReLU()\n",
      "  )\n",
      ")\n",
      "L_head: Linear(in_features=200, out_features=33, bias=False)\n",
      "Y_head: Linear(in_features=400, out_features=2, bias=False)\n",
      "Using GPU...\n"
     ]
    },
    {
     "data": {
      "application/vnd.jupyter.widget-view+json": {
       "model_id": "20e02c9dbd034e59a7c12efe2d8d7550",
       "version_major": 2,
       "version_minor": 0
      },
      "text/plain": [
       "HBox(children=(IntProgress(value=0, max=259), HTML(value='')))"
      ]
     },
     "metadata": {},
     "output_type": "display_data"
    },
    {
     "name": "stderr",
     "output_type": "stream",
     "text": [
      "/dfs/scratch0/vschen/metal/metal/contrib/slicing/online_dp.py:172: UserWarning: Implicit dimension choice for softmax has been deprecated. Change the call to include dim=X as an argument.\n",
      "  A = F.softmax(self.forward_L(x)).unsqueeze(1)\n"
     ]
    },
    {
     "name": "stdout",
     "output_type": "stream",
     "text": [
      "\n",
      "Saving model at iteration 0 with best score 0.524\n",
      "[E:0]\tTrain Loss: 3.496\tDev f1: 0.524\n"
     ]
    },
    {
     "data": {
      "application/vnd.jupyter.widget-view+json": {
       "model_id": "6a4ba359f8dd4a7da209a81e6fd42ae8",
       "version_major": 2,
       "version_minor": 0
      },
      "text/plain": [
       "HBox(children=(IntProgress(value=0, max=259), HTML(value='')))"
      ]
     },
     "metadata": {},
     "output_type": "display_data"
    },
    {
     "name": "stdout",
     "output_type": "stream",
     "text": [
      "\n",
      "Saving model at iteration 1 with best score 0.537\n",
      "[E:1]\tTrain Loss: 3.425\tDev f1: 0.537\n"
     ]
    },
    {
     "data": {
      "application/vnd.jupyter.widget-view+json": {
       "model_id": "8111694b87e84611bf1315ce676f734f",
       "version_major": 2,
       "version_minor": 0
      },
      "text/plain": [
       "HBox(children=(IntProgress(value=0, max=259), HTML(value='')))"
      ]
     },
     "metadata": {},
     "output_type": "display_data"
    },
    {
     "name": "stdout",
     "output_type": "stream",
     "text": [
      "\n",
      "Saving model at iteration 2 with best score 0.573\n",
      "[E:2]\tTrain Loss: 3.397\tDev f1: 0.573\n"
     ]
    },
    {
     "data": {
      "application/vnd.jupyter.widget-view+json": {
       "model_id": "86c7c3c8e29b4517b2e3935618e88c53",
       "version_major": 2,
       "version_minor": 0
      },
      "text/plain": [
       "HBox(children=(IntProgress(value=0, max=259), HTML(value='')))"
      ]
     },
     "metadata": {},
     "output_type": "display_data"
    },
    {
     "name": "stdout",
     "output_type": "stream",
     "text": [
      "\n",
      "[E:3]\tTrain Loss: 3.379\tDev f1: 0.565\n"
     ]
    },
    {
     "data": {
      "application/vnd.jupyter.widget-view+json": {
       "model_id": "0fc3d61143864fd28be562789aca3e73",
       "version_major": 2,
       "version_minor": 0
      },
      "text/plain": [
       "HBox(children=(IntProgress(value=0, max=259), HTML(value='')))"
      ]
     },
     "metadata": {},
     "output_type": "display_data"
    },
    {
     "name": "stdout",
     "output_type": "stream",
     "text": [
      "\n",
      "Saving model at iteration 4 with best score 0.577\n",
      "[E:4]\tTrain Loss: 3.369\tDev f1: 0.577\n"
     ]
    },
    {
     "data": {
      "application/vnd.jupyter.widget-view+json": {
       "model_id": "dffb16ecfb4b4f5f9c0ac12bfa37bd7e",
       "version_major": 2,
       "version_minor": 0
      },
      "text/plain": [
       "HBox(children=(IntProgress(value=0, max=259), HTML(value='')))"
      ]
     },
     "metadata": {},
     "output_type": "display_data"
    },
    {
     "name": "stdout",
     "output_type": "stream",
     "text": [
      "\n",
      "Saving model at iteration 5 with best score 0.585\n",
      "[E:5]\tTrain Loss: 3.362\tDev f1: 0.585\n"
     ]
    },
    {
     "data": {
      "application/vnd.jupyter.widget-view+json": {
       "model_id": "8f2f083bcf4a402e8ec18f878ecafd85",
       "version_major": 2,
       "version_minor": 0
      },
      "text/plain": [
       "HBox(children=(IntProgress(value=0, max=259), HTML(value='')))"
      ]
     },
     "metadata": {},
     "output_type": "display_data"
    },
    {
     "name": "stdout",
     "output_type": "stream",
     "text": [
      "\n",
      "[E:6]\tTrain Loss: 3.358\tDev f1: 0.571\n"
     ]
    },
    {
     "data": {
      "application/vnd.jupyter.widget-view+json": {
       "model_id": "d47bdaeeb6c1431eb217e469451eae31",
       "version_major": 2,
       "version_minor": 0
      },
      "text/plain": [
       "HBox(children=(IntProgress(value=0, max=259), HTML(value='')))"
      ]
     },
     "metadata": {},
     "output_type": "display_data"
    },
    {
     "name": "stdout",
     "output_type": "stream",
     "text": [
      "\n",
      "[E:7]\tTrain Loss: 3.354\tDev f1: 0.569\n"
     ]
    },
    {
     "data": {
      "application/vnd.jupyter.widget-view+json": {
       "model_id": "02a57467bc664b3dbd4a552d5bd8c311",
       "version_major": 2,
       "version_minor": 0
      },
      "text/plain": [
       "HBox(children=(IntProgress(value=0, max=259), HTML(value='')))"
      ]
     },
     "metadata": {},
     "output_type": "display_data"
    },
    {
     "name": "stdout",
     "output_type": "stream",
     "text": [
      "\n",
      "[E:8]\tTrain Loss: 3.350\tDev f1: 0.541\n"
     ]
    },
    {
     "data": {
      "application/vnd.jupyter.widget-view+json": {
       "model_id": "8bb8a678a03b4c41bad8f276b3b2a2fb",
       "version_major": 2,
       "version_minor": 0
      },
      "text/plain": [
       "HBox(children=(IntProgress(value=0, max=259), HTML(value='')))"
      ]
     },
     "metadata": {},
     "output_type": "display_data"
    },
    {
     "name": "stdout",
     "output_type": "stream",
     "text": [
      "\n",
      "[E:9]\tTrain Loss: 3.347\tDev f1: 0.555\n",
      "Restoring best model from iteration 5 with score 0.585\n",
      "Finished Training\n",
      "F1: 0.585\n",
      "        y=1    y=2   \n",
      " l=1    273    364   \n",
      " l=2    23     228   \n",
      "CPU times: user 31min 52s, sys: 51.4 s, total: 32min 43s\n",
      "Wall time: 32min 38s\n",
      "Precision: 0.394\n",
      "Recall: 0.888\n",
      "F1: 0.545\n",
      "        y=1    y=2   \n",
      " l=1   1337   2060   \n",
      " l=2    168   1055   \n"
     ]
    }
   ],
   "source": [
    "slice_ours = init_model(r=200, rw=True)\n",
    "%time slice_ours.train_model(train_slice, dev_data=dev)\n",
    "slice_ours_scores = slice_ours.score(test, metric=['precision', 'recall', 'f1'])"
   ]
  },
  {
   "cell_type": "markdown",
   "metadata": {},
   "source": [
    "## (e) `SliceOursWeak`: Slice Model with $\\tilde{Y}$ priors"
   ]
  },
  {
   "cell_type": "code",
   "execution_count": 22,
   "metadata": {
    "scrolled": false
   },
   "outputs": [
    {
     "name": "stdout",
     "output_type": "stream",
     "text": [
      "Loaded 77.0% (7656/9946) pretrained embeddings\n",
      "Using pretrained embeddings.\n",
      "Embeddings shape = (9946, 50)\n",
      "The embeddings are NOT FROZEN\n",
      "Using lstm_reduction = 'attention'\n",
      "Slice Heads:\n",
      "Reweighting: True\n",
      "Input Network: Sequential(\n",
      "  (0): Sequential(\n",
      "    (0): LSTMModule(\n",
      "      (embeddings): Embedding(9946, 50)\n",
      "      (lstm): LSTM(50, 100, batch_first=True, bidirectional=True)\n",
      "    )\n",
      "    (1): ReLU()\n",
      "  )\n",
      ")\n",
      "L_head: Linear(in_features=200, out_features=33, bias=False)\n",
      "Y_head: Linear(in_features=400, out_features=2, bias=False)\n",
      "Using GPU...\n"
     ]
    },
    {
     "name": "stderr",
     "output_type": "stream",
     "text": [
      "/dfs/scratch0/vschen/metal/metal/contrib/slicing/online_dp.py:106: RuntimeWarning: divide by zero encountered in log\n",
      "  self.w = torch.from_numpy(np.log(accs / (1-accs))).float()\n"
     ]
    },
    {
     "data": {
      "application/vnd.jupyter.widget-view+json": {
       "model_id": "a04fde4ea3cd48bd9818dd671f9b6580",
       "version_major": 2,
       "version_minor": 0
      },
      "text/plain": [
       "HBox(children=(IntProgress(value=0, max=259), HTML(value='')))"
      ]
     },
     "metadata": {},
     "output_type": "display_data"
    },
    {
     "name": "stderr",
     "output_type": "stream",
     "text": [
      "/dfs/scratch0/vschen/metal/metal/contrib/slicing/online_dp.py:169: UserWarning: Implicit dimension choice for softmax has been deprecated. Change the call to include dim=X as an argument.\n",
      "  # \"confidence\" of each LF on each example\n",
      "/dfs/scratch0/vschen/metal/metal/contrib/slicing/online_dp.py:178: UserWarning: Implicit dimension choice for softmax has been deprecated. Change the call to include dim=X as an argument.\n",
      "  \n"
     ]
    },
    {
     "name": "stdout",
     "output_type": "stream",
     "text": [
      "\n",
      "Saving model at iteration 0 with best score 0.526\n",
      "[E:0]\tTrain Loss: 3.499\tDev f1: 0.526\n"
     ]
    },
    {
     "data": {
      "application/vnd.jupyter.widget-view+json": {
       "model_id": "f52f84518c564956b75de1d49e26c804",
       "version_major": 2,
       "version_minor": 0
      },
      "text/plain": [
       "HBox(children=(IntProgress(value=0, max=259), HTML(value='')))"
      ]
     },
     "metadata": {},
     "output_type": "display_data"
    },
    {
     "name": "stdout",
     "output_type": "stream",
     "text": [
      "\n",
      "Saving model at iteration 1 with best score 0.544\n",
      "[E:1]\tTrain Loss: 3.431\tDev f1: 0.544\n"
     ]
    },
    {
     "data": {
      "application/vnd.jupyter.widget-view+json": {
       "model_id": "065e2203c19e4c7c8f383447135f83aa",
       "version_major": 2,
       "version_minor": 0
      },
      "text/plain": [
       "HBox(children=(IntProgress(value=0, max=259), HTML(value='')))"
      ]
     },
     "metadata": {},
     "output_type": "display_data"
    },
    {
     "name": "stdout",
     "output_type": "stream",
     "text": [
      "\n",
      "Saving model at iteration 2 with best score 0.587\n",
      "[E:2]\tTrain Loss: 3.399\tDev f1: 0.587\n"
     ]
    },
    {
     "data": {
      "application/vnd.jupyter.widget-view+json": {
       "model_id": "99dd961eae59466096699628f0d60d7e",
       "version_major": 2,
       "version_minor": 0
      },
      "text/plain": [
       "HBox(children=(IntProgress(value=0, max=259), HTML(value='')))"
      ]
     },
     "metadata": {},
     "output_type": "display_data"
    },
    {
     "name": "stdout",
     "output_type": "stream",
     "text": [
      "\n",
      "Saving model at iteration 3 with best score 0.591\n",
      "[E:3]\tTrain Loss: 3.382\tDev f1: 0.591\n"
     ]
    },
    {
     "data": {
      "application/vnd.jupyter.widget-view+json": {
       "model_id": "a3dadfe90b084716b493ff36676bd3a3",
       "version_major": 2,
       "version_minor": 0
      },
      "text/plain": [
       "HBox(children=(IntProgress(value=0, max=259), HTML(value='')))"
      ]
     },
     "metadata": {},
     "output_type": "display_data"
    },
    {
     "name": "stdout",
     "output_type": "stream",
     "text": [
      "\n",
      "Saving model at iteration 4 with best score 0.602\n",
      "[E:4]\tTrain Loss: 3.370\tDev f1: 0.602\n"
     ]
    },
    {
     "data": {
      "application/vnd.jupyter.widget-view+json": {
       "model_id": "4790b1c1baad4fbcb23e4307eced0759",
       "version_major": 2,
       "version_minor": 0
      },
      "text/plain": [
       "HBox(children=(IntProgress(value=0, max=259), HTML(value='')))"
      ]
     },
     "metadata": {},
     "output_type": "display_data"
    },
    {
     "name": "stdout",
     "output_type": "stream",
     "text": [
      "\n",
      "Saving model at iteration 5 with best score 0.603\n",
      "[E:5]\tTrain Loss: 3.362\tDev f1: 0.603\n"
     ]
    },
    {
     "data": {
      "application/vnd.jupyter.widget-view+json": {
       "model_id": "7c3948e3111e4cc5951e9c594b8806e4",
       "version_major": 2,
       "version_minor": 0
      },
      "text/plain": [
       "HBox(children=(IntProgress(value=0, max=259), HTML(value='')))"
      ]
     },
     "metadata": {},
     "output_type": "display_data"
    },
    {
     "name": "stdout",
     "output_type": "stream",
     "text": [
      "\n",
      "[E:6]\tTrain Loss: 3.356\tDev f1: 0.588\n"
     ]
    },
    {
     "data": {
      "application/vnd.jupyter.widget-view+json": {
       "model_id": "3a751dc961ad4ddda0bd71065e58d7e8",
       "version_major": 2,
       "version_minor": 0
      },
      "text/plain": [
       "HBox(children=(IntProgress(value=0, max=259), HTML(value='')))"
      ]
     },
     "metadata": {},
     "output_type": "display_data"
    },
    {
     "name": "stdout",
     "output_type": "stream",
     "text": [
      "\n",
      "[E:7]\tTrain Loss: 3.353\tDev f1: 0.596\n"
     ]
    },
    {
     "data": {
      "application/vnd.jupyter.widget-view+json": {
       "model_id": "443cdc8f09df4adc9c2eac85dcfc42e3",
       "version_major": 2,
       "version_minor": 0
      },
      "text/plain": [
       "HBox(children=(IntProgress(value=0, max=259), HTML(value='')))"
      ]
     },
     "metadata": {},
     "output_type": "display_data"
    },
    {
     "name": "stdout",
     "output_type": "stream",
     "text": [
      "\n",
      "[E:8]\tTrain Loss: 3.350\tDev f1: 0.581\n"
     ]
    },
    {
     "data": {
      "application/vnd.jupyter.widget-view+json": {
       "model_id": "a6ead9bd60aa4b14a82fb12dfb225246",
       "version_major": 2,
       "version_minor": 0
      },
      "text/plain": [
       "HBox(children=(IntProgress(value=0, max=259), HTML(value='')))"
      ]
     },
     "metadata": {},
     "output_type": "display_data"
    },
    {
     "name": "stdout",
     "output_type": "stream",
     "text": [
      "\n",
      "[E:9]\tTrain Loss: 3.346\tDev f1: 0.579\n",
      "Restoring best model from iteration 5 with score 0.603\n",
      "Finished Training\n",
      "F1: 0.603\n",
      "        y=1    y=2   \n",
      " l=1    257    299   \n",
      " l=2    39     293   \n",
      "CPU times: user 32min 15s, sys: 50.5 s, total: 33min 5s\n",
      "Wall time: 33min\n",
      "Precision: 0.419\n",
      "Recall: 0.869\n",
      "F1: 0.565\n",
      "        y=1    y=2   \n",
      " l=1   1308   1817   \n",
      " l=2    197   1298   \n"
     ]
    }
   ],
   "source": [
    "slice_ours_weak = init_model(r=200, rw=True)\n",
    "%time slice_ours_weak.train_model(train_slice_snorkel, dev_data=dev)\n",
    "slice_ours_weak_scores = slice_ours_weak.score(test, metric=['precision', 'recall', 'f1'])"
   ]
  },
  {
   "cell_type": "markdown",
   "metadata": {},
   "source": [
    "## (f) `SliceUWWeak`: Unweighted Slice model with $\\tilde{Y}$ priors"
   ]
  },
  {
   "cell_type": "code",
   "execution_count": 23,
   "metadata": {},
   "outputs": [
    {
     "name": "stdout",
     "output_type": "stream",
     "text": [
      "Loaded 77.0% (7656/9946) pretrained embeddings\n",
      "Using pretrained embeddings.\n",
      "Embeddings shape = (9946, 50)\n",
      "The embeddings are NOT FROZEN\n",
      "Using lstm_reduction = 'attention'\n",
      "Slice Heads:\n",
      "Reweighting: False\n",
      "Input Network: Sequential(\n",
      "  (0): Sequential(\n",
      "    (0): LSTMModule(\n",
      "      (embeddings): Embedding(9946, 50)\n",
      "      (lstm): LSTM(50, 100, batch_first=True, bidirectional=True)\n",
      "    )\n",
      "    (1): ReLU()\n",
      "  )\n",
      ")\n",
      "L_head: Linear(in_features=200, out_features=33, bias=False)\n",
      "Y_head: Linear(in_features=200, out_features=2, bias=False)\n",
      "Using GPU...\n"
     ]
    },
    {
     "data": {
      "application/vnd.jupyter.widget-view+json": {
       "model_id": "2e32faae6c934a9f8769393d263f7335",
       "version_major": 2,
       "version_minor": 0
      },
      "text/plain": [
       "HBox(children=(IntProgress(value=0, max=259), HTML(value='')))"
      ]
     },
     "metadata": {},
     "output_type": "display_data"
    },
    {
     "name": "stdout",
     "output_type": "stream",
     "text": [
      "\n",
      "Saving model at iteration 0 with best score 0.536\n",
      "[E:0]\tTrain Loss: 3.499\tDev f1: 0.536\n"
     ]
    },
    {
     "data": {
      "application/vnd.jupyter.widget-view+json": {
       "model_id": "ea8b4aa9793a4c5d883b1d7243cf4456",
       "version_major": 2,
       "version_minor": 0
      },
      "text/plain": [
       "HBox(children=(IntProgress(value=0, max=259), HTML(value='')))"
      ]
     },
     "metadata": {},
     "output_type": "display_data"
    },
    {
     "name": "stdout",
     "output_type": "stream",
     "text": [
      "\n",
      "Saving model at iteration 1 with best score 0.553\n",
      "[E:1]\tTrain Loss: 3.428\tDev f1: 0.553\n"
     ]
    },
    {
     "data": {
      "application/vnd.jupyter.widget-view+json": {
       "model_id": "6986bdd1872b48b9a557a3ea19393617",
       "version_major": 2,
       "version_minor": 0
      },
      "text/plain": [
       "HBox(children=(IntProgress(value=0, max=259), HTML(value='')))"
      ]
     },
     "metadata": {},
     "output_type": "display_data"
    },
    {
     "name": "stdout",
     "output_type": "stream",
     "text": [
      "\n",
      "Saving model at iteration 2 with best score 0.561\n",
      "[E:2]\tTrain Loss: 3.397\tDev f1: 0.561\n"
     ]
    },
    {
     "data": {
      "application/vnd.jupyter.widget-view+json": {
       "model_id": "bc7690b95026494b8358f48dba9e93af",
       "version_major": 2,
       "version_minor": 0
      },
      "text/plain": [
       "HBox(children=(IntProgress(value=0, max=259), HTML(value='')))"
      ]
     },
     "metadata": {},
     "output_type": "display_data"
    },
    {
     "name": "stdout",
     "output_type": "stream",
     "text": [
      "\n",
      "Saving model at iteration 3 with best score 0.572\n",
      "[E:3]\tTrain Loss: 3.379\tDev f1: 0.572\n"
     ]
    },
    {
     "data": {
      "application/vnd.jupyter.widget-view+json": {
       "model_id": "6a44b8c5cccd4a71842611f98edf12c1",
       "version_major": 2,
       "version_minor": 0
      },
      "text/plain": [
       "HBox(children=(IntProgress(value=0, max=259), HTML(value='')))"
      ]
     },
     "metadata": {},
     "output_type": "display_data"
    },
    {
     "name": "stdout",
     "output_type": "stream",
     "text": [
      "\n",
      "Saving model at iteration 4 with best score 0.576\n",
      "[E:4]\tTrain Loss: 3.368\tDev f1: 0.576\n"
     ]
    },
    {
     "data": {
      "application/vnd.jupyter.widget-view+json": {
       "model_id": "d754cd8814f144719a119f28cfe81a26",
       "version_major": 2,
       "version_minor": 0
      },
      "text/plain": [
       "HBox(children=(IntProgress(value=0, max=259), HTML(value='')))"
      ]
     },
     "metadata": {},
     "output_type": "display_data"
    },
    {
     "name": "stdout",
     "output_type": "stream",
     "text": [
      "\n",
      "Saving model at iteration 5 with best score 0.594\n",
      "[E:5]\tTrain Loss: 3.361\tDev f1: 0.594\n"
     ]
    },
    {
     "data": {
      "application/vnd.jupyter.widget-view+json": {
       "model_id": "c34b0cfa38a34580908c087ad3c9ec69",
       "version_major": 2,
       "version_minor": 0
      },
      "text/plain": [
       "HBox(children=(IntProgress(value=0, max=259), HTML(value='')))"
      ]
     },
     "metadata": {},
     "output_type": "display_data"
    },
    {
     "name": "stdout",
     "output_type": "stream",
     "text": [
      "\n",
      "[E:6]\tTrain Loss: 3.357\tDev f1: 0.582\n"
     ]
    },
    {
     "data": {
      "application/vnd.jupyter.widget-view+json": {
       "model_id": "2d7eee928bf8444ab9ec57ce69cf41d4",
       "version_major": 2,
       "version_minor": 0
      },
      "text/plain": [
       "HBox(children=(IntProgress(value=0, max=259), HTML(value='')))"
      ]
     },
     "metadata": {},
     "output_type": "display_data"
    },
    {
     "name": "stdout",
     "output_type": "stream",
     "text": [
      "\n",
      "[E:7]\tTrain Loss: 3.353\tDev f1: 0.578\n"
     ]
    },
    {
     "data": {
      "application/vnd.jupyter.widget-view+json": {
       "model_id": "da8dec45522d4ff9aa5f4ade708e441c",
       "version_major": 2,
       "version_minor": 0
      },
      "text/plain": [
       "HBox(children=(IntProgress(value=0, max=259), HTML(value='')))"
      ]
     },
     "metadata": {},
     "output_type": "display_data"
    },
    {
     "name": "stdout",
     "output_type": "stream",
     "text": [
      "\n",
      "[E:8]\tTrain Loss: 3.350\tDev f1: 0.584\n"
     ]
    },
    {
     "data": {
      "application/vnd.jupyter.widget-view+json": {
       "model_id": "97ce8b62986547ddb4b1a13e51ebab9c",
       "version_major": 2,
       "version_minor": 0
      },
      "text/plain": [
       "HBox(children=(IntProgress(value=0, max=259), HTML(value='')))"
      ]
     },
     "metadata": {},
     "output_type": "display_data"
    },
    {
     "name": "stdout",
     "output_type": "stream",
     "text": [
      "\n",
      "[E:9]\tTrain Loss: 3.348\tDev f1: 0.578\n",
      "Restoring best model from iteration 5 with score 0.594\n",
      "Finished Training\n",
      "F1: 0.594\n",
      "        y=1    y=2   \n",
      " l=1    270    343   \n",
      " l=2    26     249   \n",
      "CPU times: user 21min 44s, sys: 34.8 s, total: 22min 19s\n",
      "Wall time: 22min 14s\n",
      "Precision: 0.406\n",
      "Recall: 0.865\n",
      "F1: 0.552\n",
      "        y=1    y=2   \n",
      " l=1   1302   1908   \n",
      " l=2    203   1207   \n"
     ]
    }
   ],
   "source": [
    "slice_uw_weak = init_model(r=200, rw=False)\n",
    "%time slice_uw_weak.train_model(train_slice_snorkel, dev_data=dev)\n",
    "slice_uw_weak_scores = slice_uw_weak.score(test, metric=['precision', 'recall', 'f1'])"
   ]
  },
  {
   "cell_type": "markdown",
   "metadata": {},
   "source": [
    "## Slice-specific scores"
   ]
  },
  {
   "cell_type": "code",
   "execution_count": 24,
   "metadata": {},
   "outputs": [],
   "source": [
    "# TODO: don't call private fns\n",
    "Yp_oracle, Y = oracle._get_predictions(test)\n",
    "Yp_base_weak, Y = base_weak._get_predictions(test)\n",
    "Yp_slice_uw, Y = slice_uw._get_predictions(test)\n",
    "Yp_slice_ours, Y = slice_ours._get_predictions(test)\n",
    "Yp_slice_ours_weak, Y = slice_ours_weak._get_predictions(test)\n",
    "Yp_slice_uw_weak, Y = slice_uw_weak._get_predictions(test)"
   ]
  },
  {
   "cell_type": "markdown",
   "metadata": {},
   "source": [
    "#### `slice_ours` (re-weighting, accuracy priors) vs. `base_weak` (end_model trained on weak labels)"
   ]
  },
  {
   "cell_type": "code",
   "execution_count": 25,
   "metadata": {},
   "outputs": [],
   "source": [
    "L_test = L_test.todense()"
   ]
  },
  {
   "cell_type": "code",
   "execution_count": 26,
   "metadata": {},
   "outputs": [
    {
     "name": "stdout",
     "output_type": "stream",
     "text": [
      "\u001b[31m[LF_c_treat_d] delta: -0.1106, OURS: 0.6340, BASE: 0.7447\u001b[0m\n",
      "\u001b[31m[LF_ctd_therapy_treat] delta: -0.1594, OURS: 0.6016, BASE: 0.7610\u001b[0m\n",
      "\u001b[31m[LF_ctd_unspecified_treat] delta: -0.1038, OURS: 0.6055, BASE: 0.7093\u001b[0m\n",
      "\u001b[31m[LF_in_patient_with] delta: -0.1111, OURS: 0.1111, BASE: 0.2222\u001b[0m\n",
      "\u001b[32m[LF_level] delta: 0.1316, OURS: 0.4474, BASE: 0.3158\u001b[0m\n",
      "improved 1/33\n"
     ]
    }
   ],
   "source": [
    "from metal.contrib.slicing.experiment_utils import compare_LF_slices\n",
    "compare_LF_slices(Yp_slice_ours, Yp_base_weak, \n",
    "                  Y, L_test, LFs, metric='accuracy', delta_threshold=0.1)"
   ]
  },
  {
   "cell_type": "markdown",
   "metadata": {},
   "source": [
    "#### `slice_ours_weak` (slice model with weak priors + reweighting) vs. `base_weak` (end_model trained on weak labels)"
   ]
  },
  {
   "cell_type": "code",
   "execution_count": 27,
   "metadata": {
    "scrolled": false
   },
   "outputs": [
    {
     "name": "stdout",
     "output_type": "stream",
     "text": [
      "\u001b[32m[LF_closer_dis] delta: 0.2208, OURS: 0.6104, BASE: 0.3896\u001b[0m\n",
      "\u001b[31m[LF_ctd_therapy_treat] delta: -0.1315, OURS: 0.6295, BASE: 0.7610\u001b[0m\n",
      "\u001b[32m[LF_far_d_c] delta: 0.1626, OURS: 0.6350, BASE: 0.4724\u001b[0m\n",
      "\u001b[32m[LF_improve_before_disease] delta: 0.3333, OURS: 0.6667, BASE: 0.3333\u001b[0m\n",
      "\u001b[31m[LF_in_patient_with] delta: -0.1111, OURS: 0.1111, BASE: 0.2222\u001b[0m\n",
      "\u001b[32m[LF_level] delta: 0.1316, OURS: 0.4474, BASE: 0.3158\u001b[0m\n",
      "\u001b[32m[LF_treat_d] delta: 0.2393, OURS: 0.6410, BASE: 0.4017\u001b[0m\n",
      "improved 5/33\n"
     ]
    }
   ],
   "source": [
    "compare_LF_slices(Yp_slice_ours_weak, Yp_base_weak,\n",
    "                  Y, L_test, LFs, metric='accuracy', delta_threshold=0.1)"
   ]
  },
  {
   "cell_type": "markdown",
   "metadata": {},
   "source": [
    "#### `slice_ours_weak` vs. `oracle` (trained on full GT)"
   ]
  },
  {
   "cell_type": "code",
   "execution_count": 28,
   "metadata": {},
   "outputs": [
    {
     "name": "stdout",
     "output_type": "stream",
     "text": [
      "\u001b[31m[LF_c_d] delta: -0.0609, OURS: 0.6604, BASE: 0.7213\u001b[0m\n",
      "\u001b[31m[LF_c_treat_d] delta: -0.1234, OURS: 0.6340, BASE: 0.7574\u001b[0m\n",
      "\u001b[31m[LF_c_treat_d_wide] delta: -0.1303, OURS: 0.6225, BASE: 0.7528\u001b[0m\n",
      "\u001b[31m[LF_closer_chem] delta: -0.2527, OURS: 0.4313, BASE: 0.6841\u001b[0m\n",
      "\u001b[31m[LF_closer_dis] delta: -0.2468, OURS: 0.4545, BASE: 0.7013\u001b[0m\n",
      "\u001b[31m[LF_ctd_therapy_treat] delta: -0.1235, OURS: 0.6016, BASE: 0.7251\u001b[0m\n",
      "\u001b[31m[LF_ctd_unspecified_treat] delta: -0.1419, OURS: 0.6055, BASE: 0.7474\u001b[0m\n",
      "\u001b[31m[LF_d_induced_by_c] delta: -0.0508, OURS: 0.6215, BASE: 0.6723\u001b[0m\n",
      "\u001b[31m[LF_d_treat_c] delta: -0.2424, OURS: 0.5333, BASE: 0.7758\u001b[0m\n",
      "\u001b[32m[LF_develop_d_following_c] delta: 0.2500, OURS: 1.0000, BASE: 0.7500\u001b[0m\n",
      "\u001b[31m[LF_far_c_d] delta: -0.1866, OURS: 0.4832, BASE: 0.6698\u001b[0m\n",
      "\u001b[31m[LF_far_d_c] delta: -0.1135, OURS: 0.5675, BASE: 0.6810\u001b[0m\n",
      "\u001b[31m[LF_improve_before_disease] delta: -0.4444, OURS: 0.3333, BASE: 0.7778\u001b[0m\n",
      "\u001b[31m[LF_in_ctd_therapy] delta: -0.1618, OURS: 0.5190, BASE: 0.6807\u001b[0m\n",
      "\u001b[31m[LF_in_ctd_marker] delta: -0.0814, OURS: 0.5871, BASE: 0.6686\u001b[0m\n",
      "\u001b[31m[LF_in_patient_with] delta: -0.6667, OURS: 0.1111, BASE: 0.7778\u001b[0m\n",
      "\u001b[31m[LF_induce_name] delta: -0.0717, OURS: 0.6291, BASE: 0.7008\u001b[0m\n",
      "\u001b[31m[LF_induced_other] delta: -0.0904, OURS: 0.5198, BASE: 0.6102\u001b[0m\n",
      "\u001b[31m[LF_level] delta: -0.1842, OURS: 0.4474, BASE: 0.6316\u001b[0m\n",
      "\u001b[31m[LF_measure] delta: -0.1818, OURS: 0.6364, BASE: 0.8182\u001b[0m\n",
      "\u001b[31m[LF_neg_d] delta: -0.1964, OURS: 0.3750, BASE: 0.5714\u001b[0m\n",
      "\u001b[31m[LF_risk_d] delta: -0.2143, OURS: 0.4286, BASE: 0.6429\u001b[0m\n",
      "\u001b[31m[LF_treat_d] delta: -0.2308, OURS: 0.4786, BASE: 0.7094\u001b[0m\n",
      "\u001b[31m[LF_weak_assertions] delta: -0.1020, OURS: 0.5477, BASE: 0.6497\u001b[0m\n",
      "improved 1/33\n"
     ]
    }
   ],
   "source": [
    "compare_LF_slices(Yp_slice_ours, Yp_oracle,\n",
    "                  Y, L_test, LFs, metric='accuracy', delta_threshold=0.05)"
   ]
  },
  {
   "cell_type": "markdown",
   "metadata": {},
   "source": [
    "#### `slice_ours` vs. `Yp_slice_uw` (unweighted slice model)"
   ]
  },
  {
   "cell_type": "code",
   "execution_count": 29,
   "metadata": {},
   "outputs": [
    {
     "name": "stdout",
     "output_type": "stream",
     "text": [
      "\u001b[31m[LF_c_treat_d] delta: -0.0681, OURS: 0.6340, BASE: 0.7021\u001b[0m\n",
      "\u001b[31m[LF_closer_chem] delta: -0.1495, OURS: 0.4313, BASE: 0.5808\u001b[0m\n",
      "\u001b[31m[LF_d_treat_c] delta: -0.0788, OURS: 0.5333, BASE: 0.6121\u001b[0m\n",
      "\u001b[31m[LF_far_c_d] delta: -0.1007, OURS: 0.4832, BASE: 0.5840\u001b[0m\n",
      "\u001b[31m[LF_far_d_c] delta: -0.0890, OURS: 0.5675, BASE: 0.6564\u001b[0m\n",
      "\u001b[31m[LF_improve_before_disease] delta: -0.2222, OURS: 0.3333, BASE: 0.5556\u001b[0m\n",
      "\u001b[31m[LF_in_ctd_therapy] delta: -0.0780, OURS: 0.5190, BASE: 0.5970\u001b[0m\n",
      "\u001b[31m[LF_in_patient_with] delta: -0.6667, OURS: 0.1111, BASE: 0.7778\u001b[0m\n",
      "\u001b[31m[LF_induced_other] delta: -0.1017, OURS: 0.5198, BASE: 0.6215\u001b[0m\n",
      "\u001b[31m[LF_measure] delta: -0.0909, OURS: 0.6364, BASE: 0.7273\u001b[0m\n",
      "\u001b[31m[LF_neg_d] delta: -0.0714, OURS: 0.3750, BASE: 0.4464\u001b[0m\n",
      "\u001b[31m[LF_risk_d] delta: -0.1429, OURS: 0.4286, BASE: 0.5714\u001b[0m\n",
      "\u001b[31m[LF_treat_d] delta: -0.1282, OURS: 0.4786, BASE: 0.6068\u001b[0m\n",
      "\u001b[31m[LF_weak_assertions] delta: -0.0576, OURS: 0.5477, BASE: 0.6053\u001b[0m\n",
      "improved 0/33\n"
     ]
    }
   ],
   "source": [
    "compare_LF_slices(Yp_slice_ours, Yp_slice_uw,\n",
    "                  Y, L_test, LFs, metric='accuracy', delta_threshold=0.05)"
   ]
  },
  {
   "cell_type": "markdown",
   "metadata": {},
   "source": [
    "#### `slice_ours_weak` vs. `Yp_slice_uw_weak` (unweighted slice model)"
   ]
  },
  {
   "cell_type": "code",
   "execution_count": 30,
   "metadata": {},
   "outputs": [
    {
     "name": "stdout",
     "output_type": "stream",
     "text": [
      "\u001b[32m[LF_c_treat_d_wide] delta: 0.0607, OURS: 0.6652, BASE: 0.6045\u001b[0m\n",
      "\u001b[32m[LF_closer_dis] delta: 0.0649, OURS: 0.6104, BASE: 0.5455\u001b[0m\n",
      "\u001b[32m[LF_improve_before_disease] delta: 0.2222, OURS: 0.6667, BASE: 0.4444\u001b[0m\n",
      "\u001b[32m[LF_level] delta: 0.1053, OURS: 0.4474, BASE: 0.3421\u001b[0m\n",
      "\u001b[31m[LF_measure] delta: -0.0909, OURS: 0.6364, BASE: 0.7273\u001b[0m\n",
      "improved 4/33\n"
     ]
    }
   ],
   "source": [
    "compare_LF_slices(Yp_slice_ours_weak, Yp_slice_uw_weak,\n",
    "                  Y, L_test, LFs, metric='accuracy', delta_threshold=0.05)"
   ]
  },
  {
   "cell_type": "code",
   "execution_count": null,
   "metadata": {},
   "outputs": [],
   "source": []
  }
 ],
 "metadata": {
  "kernelspec": {
   "display_name": "Python 3",
   "language": "python",
   "name": "python3"
  },
  "language_info": {
   "codemirror_mode": {
    "name": "ipython",
    "version": 3
   },
   "file_extension": ".py",
   "mimetype": "text/x-python",
   "name": "python",
   "nbconvert_exporter": "python",
   "pygments_lexer": "ipython3",
   "version": "3.6.7"
  }
 },
 "nbformat": 4,
 "nbformat_minor": 2
}
