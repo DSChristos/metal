{
 "cells": [
  {
   "cell_type": "code",
   "execution_count": null,
   "metadata": {},
   "outputs": [],
   "source": [
    "%load_ext autoreload\n",
    "%autoreload 2\n",
    "\n",
    "import torch\n",
    "import numpy as np\n",
    "import pandas as pd\n",
    "import matplotlib.pyplot as plt\n",
    "%matplotlib inline"
   ]
  },
  {
   "cell_type": "code",
   "execution_count": null,
   "metadata": {},
   "outputs": [],
   "source": [
    "import sys\n",
    "sys.path.append('/dfs/scratch0/vschen/metal')"
   ]
  },
  {
   "cell_type": "code",
   "execution_count": null,
   "metadata": {},
   "outputs": [],
   "source": [
    "import warnings\n",
    "warnings.filterwarnings('ignore')"
   ]
  },
  {
   "cell_type": "code",
   "execution_count": null,
   "metadata": {},
   "outputs": [],
   "source": [
    "def visualize_data(X, Y, C, L):\n",
    "    # show data by class\n",
    "    plt.figure(figsize=(8, 8))\n",
    "    plt.subplot(2, 2, 1)\n",
    "    plt.title('Data by Classes')\n",
    "    plt.scatter(X[Y==1,0], X[Y==1,1], label=\"$y=+1$\", c='C1')\n",
    "    plt.scatter(X[Y==-1,0], X[Y==-1,1], label=\"$y=-1$\", c='C0')\n",
    "    plt.xlim(-8, 8)\n",
    "    plt.ylim(-8, 8)\n",
    "    plt.legend()\n",
    "\n",
    "    # show data by slice\n",
    "    plt.subplot(2, 2, 2)\n",
    "    plt.title('Data by Slice')\n",
    "    plt.scatter(X[C==0,0], X[C==0,1], label=\"$S_0$\", c='C0')\n",
    "    plt.scatter(X[C==1,0], X[C==1,1], label=\"$S_1$\", c='C1')\n",
    "    plt.scatter(X[C==2,0], X[C==2,1], label=\"$S_2$\", c='C2')\n",
    "    plt.xlim(-8, 8)\n",
    "    plt.ylim(-8, 8)\n",
    "    plt.legend()\n",
    "\n",
    "    # LFs targeting slices\n",
    "    plt.subplot(2, 2, 3)\n",
    "    plt.title('LFs ($\\lambda_i$) Targeting Slices ($S_i$)')\n",
    "    plt.scatter(X[L[:,0]==1,0], X[L[:,0]==1,1], label=\"$\\lambda_0$\", c='C0')\n",
    "    plt.scatter(X[L[:,1]==1,0], X[L[:,1]==1,1], label=\"$\\lambda_1$\", c='C1')\n",
    "    plt.scatter(X[L[:,2]==1,0], X[L[:,2]==1,1], label=\"$\\lambda_2$\", c='C2')\n",
    "    plt.xlim(-8, 8)\n",
    "    plt.ylim(-8, 8)\n",
    "    plt.legend()\n",
    "    \n",
    "    plt.subplot(2, 2, 4)\n",
    "    plt.title('$\\lambda_2$ accuracy')\n",
    "    plt.scatter(X[L[:,2]==1,0], X[L[:,2]==1,1], label=\"$\\lambda_2=+1$\", s=0.1, c='C1')\n",
    "    plt.scatter(X[L[:,2]==-1,0], X[L[:,2]==-1,1], label=\"$\\lambda_2=-1$\", s=0.1, c='C0')\n",
    "    plt.xlim(-8, 8)\n",
    "    plt.ylim(-8, 8)\n",
    "    plt.legend()\n",
    "    plt.show()\n"
   ]
  },
  {
   "cell_type": "code",
   "execution_count": null,
   "metadata": {},
   "outputs": [],
   "source": [
    "from simulate import data_config as config\n",
    "from synthetics_utils import generate_synthetic_data\n",
    "X, Y, C, L = generate_synthetic_data(config)\n",
    "visualize_data(X, Y, C, L)"
   ]
  },
  {
   "cell_type": "code",
   "execution_count": null,
   "metadata": {},
   "outputs": [],
   "source": [
    "X, Y, C, L = generate_synthetic_data(config, 'op', 0.5)\n",
    "visualize_data(X, Y, C, L)"
   ]
  },
  {
   "cell_type": "code",
   "execution_count": null,
   "metadata": {},
   "outputs": [],
   "source": [
    "X, Y, C, L = generate_synthetic_data(config, 'acc', 0.5)\n",
    "visualize_data(X, Y, C, L)"
   ]
  },
  {
   "cell_type": "markdown",
   "metadata": {},
   "source": [
    "## Simulate"
   ]
  },
  {
   "cell_type": "code",
   "execution_count": null,
   "metadata": {
    "scrolled": true
   },
   "outputs": [],
   "source": [
    "%%time \n",
    "from simulate import simulate\n",
    "experiment_config = {\n",
    "    \"num_trials\": 1,\n",
    "    \"x_range\": [0.5], #np.linspace(0, 1.0, 5),\n",
    "    \"x_var\": 'op'\n",
    "}\n",
    "baseline_scores, manual_scores, attention_scores = \\\n",
    "    simulate(config, generate_synthetic_data, experiment_config)"
   ]
  },
  {
   "cell_type": "code",
   "execution_count": null,
   "metadata": {},
   "outputs": [],
   "source": [
    "results = {\n",
    "    'baseline': dict(baseline_scores),\n",
    "    'manual': dict(manual_scores),\n",
    "    'attention': dict(attention_scores)\n",
    "}\n",
    "\n",
    "from synthetics_utils import plot_slice_scores\n",
    "plot_slice_scores(results, 'S2', xlabel='Head Acc.')\n",
    "plot_slice_scores(results, 'S1', xlabel='Head Acc.')\n",
    "plot_slice_scores(results, 'S0', xlabel='Head Acc.')\n",
    "plot_slice_scores(results, 'overall', xlabel='Head Acc.')\n",
    "plot_slice_scores(results, 'overlap', xlabel='Head Acc.')"
   ]
  },
  {
   "cell_type": "code",
   "execution_count": null,
   "metadata": {},
   "outputs": [],
   "source": []
  }
 ],
 "metadata": {
  "kernelspec": {
   "display_name": "Python [default]",
   "language": "python",
   "name": "python3"
  },
  "language_info": {
   "codemirror_mode": {
    "name": "ipython",
    "version": 3
   },
   "file_extension": ".py",
   "mimetype": "text/x-python",
   "name": "python",
   "nbconvert_exporter": "python",
   "pygments_lexer": "ipython3",
   "version": "3.6.8"
  }
 },
 "nbformat": 4,
 "nbformat_minor": 2
}
