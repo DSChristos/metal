{
 "cells": [
  {
   "cell_type": "code",
   "execution_count": 1,
   "metadata": {},
   "outputs": [],
   "source": [
    "%load_ext autoreload\n",
    "%autoreload 2\n",
    "%matplotlib inline"
   ]
  },
  {
   "cell_type": "code",
   "execution_count": 2,
   "metadata": {},
   "outputs": [],
   "source": [
    "import os\n",
    "import sys\n",
    "sys.path.append('/dfs/scratch0/vschen/metal')\n",
    "import metal\n",
    "import torch\n",
    "from torch.utils.data import Dataset, DataLoader"
   ]
  },
  {
   "cell_type": "code",
   "execution_count": 3,
   "metadata": {},
   "outputs": [],
   "source": [
    "from metal.contrib.slicing.online_dp import SliceDPModel, LinearModule\n",
    "from metal.contrib.slicing.sqlite_wrapper import SnorkelDataset"
   ]
  },
  {
   "cell_type": "code",
   "execution_count": 4,
   "metadata": {},
   "outputs": [
    {
     "name": "stdout",
     "output_type": "stream",
     "text": [
      "PyTorch:  0.4.1\n",
      "MeTaL:    0.3.3\n",
      "Python:   3.6.7 (default, Dec  8 2018, 17:35:14) \n",
      "[GCC 5.4.0 20160609]\n",
      "Python:   sys.version_info(major=3, minor=6, micro=7, releaselevel='final', serial=0)\n"
     ]
    }
   ],
   "source": [
    "print('PyTorch: ', torch.__version__)\n",
    "print('MeTaL:   ', metal.__version__)\n",
    "print('Python:  ', sys.version)\n",
    "print('Python:  ', sys.version_info)"
   ]
  },
  {
   "cell_type": "code",
   "execution_count": 5,
   "metadata": {},
   "outputs": [
    {
     "name": "stdout",
     "output_type": "stream",
     "text": [
      "Connected to sqlite:////dfs/scratch0/vschen/metal/metal/contrib/slicing/Spouses/spouses.db\n",
      "Connected to sqlite:////dfs/scratch0/vschen/metal/metal/contrib/slicing/Spouses/spouses.db\n",
      "Connected to sqlite:////dfs/scratch0/vschen/metal/metal/contrib/slicing/Spouses/spouses.db\n",
      "[TRAIN] 22254\n",
      "[DEV]   2811\n",
      "[TEST]  2701\n"
     ]
    }
   ],
   "source": [
    "\n",
    "db_conn_str   = os.path.join(os.getcwd(),\"spouses.db\")\n",
    "candidate_def = ['Spouse', ['person1', 'person2']]\n",
    "\n",
    "\n",
    "train, dev, test = SnorkelDataset.splits(db_conn_str, \n",
    "                                         candidate_def, \n",
    "                                         max_seq_len=125)\n",
    "\n",
    "print(f'[TRAIN] {len(train)}')\n",
    "print(f'[DEV]   {len(dev)}')\n",
    "print(f'[TEST]  {len(test)}')"
   ]
  },
  {
   "cell_type": "code",
   "execution_count": 6,
   "metadata": {},
   "outputs": [
    {
     "data": {
      "text/plain": [
       "((22254, 10), (2811, 10), (2701, 10), 22254, 2811)"
      ]
     },
     "execution_count": 6,
     "metadata": {},
     "output_type": "execute_result"
    }
   ],
   "source": [
    "import numpy as np\n",
    "snorkel_data = np.load('snorkel_data_spouse.npz')\n",
    "L_train = snorkel_data['L_train']\n",
    "L_dev = snorkel_data['L_dev']\n",
    "L_test = snorkel_data['L_test']\n",
    "train_marginals = snorkel_data['train_marginals']\n",
    "dev_marginals = snorkel_data['dev_marginals']\n",
    "accs = snorkel_data['accs']\n",
    "m = len(accs)\n",
    "\n",
    "L_train.shape, L_dev.shape, L_test.shape, len(train_marginals), len(dev_marginals)"
   ]
  },
  {
   "cell_type": "code",
   "execution_count": 7,
   "metadata": {},
   "outputs": [
    {
     "name": "stdout",
     "output_type": "stream",
     "text": [
      "The history saving thread hit an unexpected error (DatabaseError('database disk image is malformed',)).History will not be written to the database.\n"
     ]
    }
   ],
   "source": [
    "from metal.contrib.slicing.CDR.embeddings import EmbeddingLoader, load_embeddings\n",
    "emb_path  = \"../glove.6B/glove.6B.50d.txt\"\n",
    "embs  = EmbeddingLoader(emb_path, fmt='text')"
   ]
  },
  {
   "cell_type": "code",
   "execution_count": 13,
   "metadata": {},
   "outputs": [],
   "source": [
    "def init_model(use_end_model=False, r=None, rw=None):\n",
    "    wembs = load_embeddings(train.word_dict, embs)\n",
    "    lstm = LSTMModule(embed_size=50, \n",
    "                      hidden_size=50, \n",
    "                      embeddings=wembs,\n",
    "                      lstm_reduction='attention', \n",
    "                      dropout=0.25, \n",
    "                      num_layers=1, \n",
    "                      freeze=False)\n",
    "    if use_end_model:\n",
    "        model = EndModel([100, 2], input_module=lstm, seed=123, use_cuda=use_cuda)\n",
    "    else:\n",
    "        model = SliceDPModel(lstm, accs, r, rw, seed=123, use_cuda=True)\n",
    "\n",
    "    model.config['train_config']['optimizer_config']['optimizer_common']['lr'] = 0.01\n",
    "    model.config['train_config']['validation_metric'] = 'f1'\n",
    "    model.config['train_config']['batch_size'] = 32\n",
    "    model.config['train_config']['n_epochs'] = 10\n",
    "    return model"
   ]
  },
  {
   "cell_type": "code",
   "execution_count": 9,
   "metadata": {},
   "outputs": [
    {
     "data": {
      "text/plain": [
       "array([[0.19943235, 0.80056765],\n",
       "       [0.19943235, 0.80056765],\n",
       "       [0.19943235, 0.80056765],\n",
       "       ...,\n",
       "       [0.5       , 0.5       ],\n",
       "       [0.5       , 0.5       ],\n",
       "       [0.5       , 0.5       ]])"
      ]
     },
     "execution_count": 9,
     "metadata": {},
     "output_type": "execute_result"
    }
   ],
   "source": [
    "# multiclass\n",
    "snorkel_marginals = np.vstack((train_marginals, 1-train_marginals)).T\n",
    "snorkel_marginals"
   ]
  },
  {
   "cell_type": "code",
   "execution_count": 15,
   "metadata": {},
   "outputs": [
    {
     "name": "stdout",
     "output_type": "stream",
     "text": [
      "Connected to sqlite:////dfs/scratch0/vschen/metal/metal/contrib/slicing/Spouses/spouses.db\n",
      "Connected to sqlite:////dfs/scratch0/vschen/metal/metal/contrib/slicing/Spouses/spouses.db\n",
      "Connected to sqlite:////dfs/scratch0/vschen/metal/metal/contrib/slicing/Spouses/spouses.db\n"
     ]
    }
   ],
   "source": [
    "from metal.contrib.slicing.sqlite_wrapper \\\n",
    "    import SnorkelDataset as SnorkelSliceDataset\n",
    "\n",
    "train_snorkel = SnorkelSliceDataset(\n",
    "    db_conn_str,\n",
    "    candidate_def,\n",
    "    split=0,\n",
    "    train_marginals=snorkel_marginals\n",
    ")\n",
    "\n",
    "train_slice = SnorkelSliceDataset(\n",
    "    db_conn_str,\n",
    "    candidate_def,\n",
    "    split=0,\n",
    "    L_train=L_train\n",
    ")\n",
    "\n",
    "train_slice_snorkel = SnorkelSliceDataset(\n",
    "    db_conn_str,\n",
    "    candidate_def,\n",
    "    split=0,\n",
    "    L_train=L_train,\n",
    "    train_marginals=snorkel_marginals\n",
    ")"
   ]
  },
  {
   "cell_type": "markdown",
   "metadata": {},
   "source": [
    "## (a) `BaseWeak`: EndModel trained on weak labels"
   ]
  },
  {
   "cell_type": "code",
   "execution_count": 11,
   "metadata": {},
   "outputs": [
    {
     "name": "stdout",
     "output_type": "stream",
     "text": [
      "Loaded 91.0% (29001/31870) pretrained embeddings\n",
      "Using pretrained embeddings.\n",
      "Embeddings shape = (31870, 50)\n",
      "The embeddings are NOT FROZEN\n",
      "Using lstm_reduction = 'attention'\n",
      "\n",
      "Network architecture:\n",
      "Sequential(\n",
      "  (0): Sequential(\n",
      "    (0): LSTMModule(\n",
      "      (embeddings): Embedding(31870, 50)\n",
      "      (lstm): LSTM(50, 50, batch_first=True, bidirectional=True)\n",
      "    )\n",
      "    (1): ReLU()\n",
      "  )\n",
      "  (1): Linear(in_features=100, out_features=2, bias=True)\n",
      ")\n",
      "\n",
      "Using GPU...\n"
     ]
    },
    {
     "data": {
      "application/vnd.jupyter.widget-view+json": {
       "model_id": "e99398bb30414808812ad4a3863dd8a8",
       "version_major": 2,
       "version_minor": 0
      },
      "text/plain": [
       "HBox(children=(IntProgress(value=0, max=696), HTML(value='')))"
      ]
     },
     "metadata": {},
     "output_type": "display_data"
    },
    {
     "name": "stdout",
     "output_type": "stream",
     "text": [
      "\n",
      "Saving model at iteration 0 with best score 0.489\n",
      "[E:0]\tTrain Loss: 0.603\tDev f1: 0.489\n"
     ]
    },
    {
     "data": {
      "application/vnd.jupyter.widget-view+json": {
       "model_id": "bac0c10069f64f2592c586eace471b85",
       "version_major": 2,
       "version_minor": 0
      },
      "text/plain": [
       "HBox(children=(IntProgress(value=0, max=696), HTML(value='')))"
      ]
     },
     "metadata": {},
     "output_type": "display_data"
    },
    {
     "name": "stdout",
     "output_type": "stream",
     "text": [
      "\n",
      "[E:1]\tTrain Loss: 0.598\tDev f1: 0.433\n"
     ]
    },
    {
     "data": {
      "application/vnd.jupyter.widget-view+json": {
       "model_id": "696a9664f11f41a59a9b0f617eae0a42",
       "version_major": 2,
       "version_minor": 0
      },
      "text/plain": [
       "HBox(children=(IntProgress(value=0, max=696), HTML(value='')))"
      ]
     },
     "metadata": {},
     "output_type": "display_data"
    },
    {
     "name": "stdout",
     "output_type": "stream",
     "text": [
      "\n",
      "[E:2]\tTrain Loss: 0.594\tDev f1: 0.440\n"
     ]
    },
    {
     "data": {
      "application/vnd.jupyter.widget-view+json": {
       "model_id": "2d311b504fa44c2c81e60deaae217f11",
       "version_major": 2,
       "version_minor": 0
      },
      "text/plain": [
       "HBox(children=(IntProgress(value=0, max=696), HTML(value='')))"
      ]
     },
     "metadata": {},
     "output_type": "display_data"
    },
    {
     "name": "stdout",
     "output_type": "stream",
     "text": [
      "\n",
      "[E:3]\tTrain Loss: 0.592\tDev f1: 0.397\n"
     ]
    },
    {
     "data": {
      "application/vnd.jupyter.widget-view+json": {
       "model_id": "afbf17d21fa04be5bea245fe98c32875",
       "version_major": 2,
       "version_minor": 0
      },
      "text/plain": [
       "HBox(children=(IntProgress(value=0, max=696), HTML(value='')))"
      ]
     },
     "metadata": {},
     "output_type": "display_data"
    },
    {
     "name": "stdout",
     "output_type": "stream",
     "text": [
      "\n",
      "[E:4]\tTrain Loss: 0.589\tDev f1: 0.416\n"
     ]
    },
    {
     "data": {
      "application/vnd.jupyter.widget-view+json": {
       "model_id": "b6f6141cf8444debb378724079607ab6",
       "version_major": 2,
       "version_minor": 0
      },
      "text/plain": [
       "HBox(children=(IntProgress(value=0, max=696), HTML(value='')))"
      ]
     },
     "metadata": {},
     "output_type": "display_data"
    },
    {
     "name": "stdout",
     "output_type": "stream",
     "text": [
      "\n",
      "[E:5]\tTrain Loss: 0.587\tDev f1: 0.367\n"
     ]
    },
    {
     "data": {
      "application/vnd.jupyter.widget-view+json": {
       "model_id": "939fe5ddc8d4475cae38682d29f70347",
       "version_major": 2,
       "version_minor": 0
      },
      "text/plain": [
       "HBox(children=(IntProgress(value=0, max=696), HTML(value='')))"
      ]
     },
     "metadata": {},
     "output_type": "display_data"
    },
    {
     "name": "stdout",
     "output_type": "stream",
     "text": [
      "\n",
      "[E:6]\tTrain Loss: 0.585\tDev f1: 0.401\n"
     ]
    },
    {
     "data": {
      "application/vnd.jupyter.widget-view+json": {
       "model_id": "7b6cf3daf98643d79841d45621f22fbe",
       "version_major": 2,
       "version_minor": 0
      },
      "text/plain": [
       "HBox(children=(IntProgress(value=0, max=696), HTML(value='')))"
      ]
     },
     "metadata": {},
     "output_type": "display_data"
    },
    {
     "name": "stdout",
     "output_type": "stream",
     "text": [
      "\n",
      "[E:7]\tTrain Loss: 0.584\tDev f1: 0.388\n"
     ]
    },
    {
     "data": {
      "application/vnd.jupyter.widget-view+json": {
       "model_id": "6f9012b7a30a443e90ef2429556482bf",
       "version_major": 2,
       "version_minor": 0
      },
      "text/plain": [
       "HBox(children=(IntProgress(value=0, max=696), HTML(value='')))"
      ]
     },
     "metadata": {},
     "output_type": "display_data"
    },
    {
     "name": "stdout",
     "output_type": "stream",
     "text": [
      "\n",
      "[E:8]\tTrain Loss: 0.583\tDev f1: 0.361\n"
     ]
    },
    {
     "data": {
      "application/vnd.jupyter.widget-view+json": {
       "model_id": "2c6826c43b3543f6a178eadcaa29b294",
       "version_major": 2,
       "version_minor": 0
      },
      "text/plain": [
       "HBox(children=(IntProgress(value=0, max=696), HTML(value='')))"
      ]
     },
     "metadata": {},
     "output_type": "display_data"
    },
    {
     "name": "stdout",
     "output_type": "stream",
     "text": [
      "\n",
      "[E:9]\tTrain Loss: 0.581\tDev f1: 0.419\n",
      "Restoring best model from iteration 0 with score 0.489\n",
      "Finished Training\n",
      "F1: 0.489\n",
      "        y=1    y=2    y=3   \n",
      " l=1    85      7     67    \n",
      " l=2    104    109   2439   \n",
      " l=3     0      0      0    \n",
      "CPU times: user 23min 2s, sys: 43.2 s, total: 23min 45s\n",
      "Wall time: 23min 36s\n",
      "Precision: 0.530\n",
      "Recall: 0.564\n",
      "F1: 0.547\n",
      "        y=1    y=2    y=3   \n",
      " l=1    123     6     103   \n",
      " l=2    95     80    2294   \n",
      " l=3     0      0      0    \n"
     ]
    }
   ],
   "source": [
    "from metal.end_model import EndModel\n",
    "from metal.modules import LSTMModule\n",
    "use_cuda = torch.cuda.is_available()\n",
    "\n",
    "base_weak = init_model(use_end_model=True)\n",
    "%time base_weak.train_model(train_snorkel, dev_data=dev)\n",
    "base_weak_scores = base_weak.score(test, metric=['precision', 'recall', 'f1'])"
   ]
  },
  {
   "cell_type": "markdown",
   "metadata": {},
   "source": [
    "## (b) `SliceUW`: Unweighted SliceModel with `rw=False`"
   ]
  },
  {
   "cell_type": "code",
   "execution_count": 17,
   "metadata": {},
   "outputs": [
    {
     "name": "stdout",
     "output_type": "stream",
     "text": [
      "Loaded 91.0% (29001/31870) pretrained embeddings\n",
      "Using pretrained embeddings.\n",
      "Embeddings shape = (31870, 50)\n",
      "The embeddings are NOT FROZEN\n",
      "Using lstm_reduction = 'attention'\n",
      "Slice Heads:\n",
      "Input Network: Sequential(\n",
      "  (0): Sequential(\n",
      "    (0): LSTMModule(\n",
      "      (embeddings): Embedding(31870, 50)\n",
      "      (lstm): LSTM(50, 50, batch_first=True, bidirectional=True)\n",
      "    )\n",
      "    (1): ReLU()\n",
      "  )\n",
      ")\n",
      "L_head: Linear(in_features=100, out_features=10, bias=False)\n",
      "Y_head: Linear(in_features=100, out_features=2, bias=False)\n",
      "Using GPU...\n"
     ]
    },
    {
     "data": {
      "application/vnd.jupyter.widget-view+json": {
       "model_id": "9801b0aa9c3d4c0d8b7014621132262e",
       "version_major": 2,
       "version_minor": 0
      },
      "text/plain": [
       "HBox(children=(IntProgress(value=0, max=696), HTML(value='')))"
      ]
     },
     "metadata": {},
     "output_type": "display_data"
    },
    {
     "name": "stderr",
     "output_type": "stream",
     "text": [
      "/dfs/scratch0/vschen/snorkel-pytorch/venv/lib/python3.6/site-packages/torch/nn/functional.py:1006: UserWarning: nn.functional.sigmoid is deprecated. Use torch.sigmoid instead.\n",
      "  warnings.warn(\"nn.functional.sigmoid is deprecated. Use torch.sigmoid instead.\")\n",
      "/dfs/scratch0/vschen/metal/metal/contrib/slicing/online_dp.py:140: UserWarning: Implicit dimension choice for softmax has been deprecated. Change the call to include dim=X as an argument.\n",
      "  self.criteria(F.softmax(self.forward_Y(X)), Y_tilde)\n"
     ]
    },
    {
     "name": "stdout",
     "output_type": "stream",
     "text": [
      "\n",
      "Saving model at iteration 0 with best score 0.394\n",
      "[E:0]\tTrain Loss: 1.027\tDev f1: 0.394\n"
     ]
    },
    {
     "data": {
      "application/vnd.jupyter.widget-view+json": {
       "model_id": "e94cc324b2e64e74af8503ef8366d9a9",
       "version_major": 2,
       "version_minor": 0
      },
      "text/plain": [
       "HBox(children=(IntProgress(value=0, max=696), HTML(value='')))"
      ]
     },
     "metadata": {},
     "output_type": "display_data"
    },
    {
     "name": "stdout",
     "output_type": "stream",
     "text": [
      "\n",
      "[E:1]\tTrain Loss: 1.016\tDev f1: 0.386\n"
     ]
    },
    {
     "data": {
      "application/vnd.jupyter.widget-view+json": {
       "model_id": "480b1621b89d466fbd6276dc93115eb9",
       "version_major": 2,
       "version_minor": 0
      },
      "text/plain": [
       "HBox(children=(IntProgress(value=0, max=696), HTML(value='')))"
      ]
     },
     "metadata": {},
     "output_type": "display_data"
    },
    {
     "name": "stdout",
     "output_type": "stream",
     "text": [
      "\n",
      "[E:2]\tTrain Loss: 1.011\tDev f1: 0.385\n"
     ]
    },
    {
     "data": {
      "application/vnd.jupyter.widget-view+json": {
       "model_id": "3b42cb02c2c245098591e08d14188cfd",
       "version_major": 2,
       "version_minor": 0
      },
      "text/plain": [
       "HBox(children=(IntProgress(value=0, max=696), HTML(value='')))"
      ]
     },
     "metadata": {},
     "output_type": "display_data"
    },
    {
     "name": "stdout",
     "output_type": "stream",
     "text": [
      "\n",
      "Saving model at iteration 3 with best score 0.428\n",
      "[E:3]\tTrain Loss: 1.007\tDev f1: 0.428\n"
     ]
    },
    {
     "data": {
      "application/vnd.jupyter.widget-view+json": {
       "model_id": "a04fae73da2d418293d58c00876eef86",
       "version_major": 2,
       "version_minor": 0
      },
      "text/plain": [
       "HBox(children=(IntProgress(value=0, max=696), HTML(value='')))"
      ]
     },
     "metadata": {},
     "output_type": "display_data"
    },
    {
     "name": "stdout",
     "output_type": "stream",
     "text": [
      "\n",
      "[E:4]\tTrain Loss: 1.004\tDev f1: 0.398\n"
     ]
    },
    {
     "data": {
      "application/vnd.jupyter.widget-view+json": {
       "model_id": "29bb07077a264cf5b8129e1829cd26e7",
       "version_major": 2,
       "version_minor": 0
      },
      "text/plain": [
       "HBox(children=(IntProgress(value=0, max=696), HTML(value='')))"
      ]
     },
     "metadata": {},
     "output_type": "display_data"
    },
    {
     "name": "stdout",
     "output_type": "stream",
     "text": [
      "\n",
      "[E:5]\tTrain Loss: 1.002\tDev f1: 0.395\n"
     ]
    },
    {
     "data": {
      "application/vnd.jupyter.widget-view+json": {
       "model_id": "1bd831f4577f445b9f28f170df6218cb",
       "version_major": 2,
       "version_minor": 0
      },
      "text/plain": [
       "HBox(children=(IntProgress(value=0, max=696), HTML(value='')))"
      ]
     },
     "metadata": {},
     "output_type": "display_data"
    },
    {
     "name": "stdout",
     "output_type": "stream",
     "text": [
      "\n",
      "[E:6]\tTrain Loss: 1.001\tDev f1: 0.411\n"
     ]
    },
    {
     "data": {
      "application/vnd.jupyter.widget-view+json": {
       "model_id": "235b2bff4348461c808090cd16e67cb5",
       "version_major": 2,
       "version_minor": 0
      },
      "text/plain": [
       "HBox(children=(IntProgress(value=0, max=696), HTML(value='')))"
      ]
     },
     "metadata": {},
     "output_type": "display_data"
    },
    {
     "name": "stdout",
     "output_type": "stream",
     "text": [
      "\n",
      "Saving model at iteration 7 with best score 0.429\n",
      "[E:7]\tTrain Loss: 0.999\tDev f1: 0.429\n"
     ]
    },
    {
     "data": {
      "application/vnd.jupyter.widget-view+json": {
       "model_id": "4bb612ee2fcf4784b06da47f519a7061",
       "version_major": 2,
       "version_minor": 0
      },
      "text/plain": [
       "HBox(children=(IntProgress(value=0, max=696), HTML(value='')))"
      ]
     },
     "metadata": {},
     "output_type": "display_data"
    },
    {
     "name": "stdout",
     "output_type": "stream",
     "text": [
      "\n",
      "[E:8]\tTrain Loss: 0.998\tDev f1: 0.409\n"
     ]
    },
    {
     "data": {
      "application/vnd.jupyter.widget-view+json": {
       "model_id": "6304c58b985743a6979e25bb53d7ca10",
       "version_major": 2,
       "version_minor": 0
      },
      "text/plain": [
       "HBox(children=(IntProgress(value=0, max=696), HTML(value='')))"
      ]
     },
     "metadata": {},
     "output_type": "display_data"
    },
    {
     "name": "stdout",
     "output_type": "stream",
     "text": [
      "\n",
      "[E:9]\tTrain Loss: 0.998\tDev f1: 0.395\n",
      "Restoring best model from iteration 7 with score 0.429\n",
      "Finished Training\n",
      "F1: 0.429\n",
      "        y=1    y=2    y=3   \n",
      " l=1    107    19     184   \n",
      " l=2    82     97    2322   \n",
      " l=3     0      0      0    \n",
      "CPU times: user 48min 50s, sys: 1min 21s, total: 50min 11s\n",
      "Wall time: 49min 58s\n",
      "Precision: 0.355\n",
      "Recall: 0.651\n",
      "F1: 0.460\n",
      "        y=1    y=2    y=3   \n",
      " l=1    142    10     248   \n",
      " l=2    76     76    2149   \n",
      " l=3     0      0      0    \n"
     ]
    }
   ],
   "source": [
    "slice_uw = init_model(use_end_model=False, r=100, rw=False)\n",
    "%time slice_uw.train_model(train_slice_snorkel, dev_data=dev)\n",
    "slice_uw_scores = slice_uw.score(test, metric=['precision', 'recall', 'f1'])"
   ]
  },
  {
   "cell_type": "markdown",
   "metadata": {},
   "source": [
    "## (c) `SliceOurs`: Attention SliceModel with `rw=True`"
   ]
  },
  {
   "cell_type": "code",
   "execution_count": 18,
   "metadata": {},
   "outputs": [
    {
     "name": "stdout",
     "output_type": "stream",
     "text": [
      "Loaded 91.0% (29001/31870) pretrained embeddings\n",
      "Using pretrained embeddings.\n",
      "Embeddings shape = (31870, 50)\n",
      "The embeddings are NOT FROZEN\n",
      "Using lstm_reduction = 'attention'\n",
      "Slice Heads:\n",
      "Input Network: Sequential(\n",
      "  (0): Sequential(\n",
      "    (0): LSTMModule(\n",
      "      (embeddings): Embedding(31870, 50)\n",
      "      (lstm): LSTM(50, 50, batch_first=True, bidirectional=True)\n",
      "    )\n",
      "    (1): ReLU()\n",
      "  )\n",
      ")\n",
      "L_head: Linear(in_features=100, out_features=10, bias=False)\n",
      "Y_head: Linear(in_features=200, out_features=2, bias=False)\n",
      "Using GPU...\n"
     ]
    },
    {
     "data": {
      "application/vnd.jupyter.widget-view+json": {
       "model_id": "bf7554cb64be47cf8d26317c7c70bd3a",
       "version_major": 2,
       "version_minor": 0
      },
      "text/plain": [
       "HBox(children=(IntProgress(value=0, max=696), HTML(value='')))"
      ]
     },
     "metadata": {},
     "output_type": "display_data"
    },
    {
     "name": "stderr",
     "output_type": "stream",
     "text": [
      "/dfs/scratch0/vschen/metal/metal/contrib/slicing/online_dp.py:169: UserWarning: Implicit dimension choice for softmax has been deprecated. Change the call to include dim=X as an argument.\n",
      "  A = F.softmax(self.forward_L(x)).unsqueeze(1)\n"
     ]
    },
    {
     "name": "stdout",
     "output_type": "stream",
     "text": [
      "\n",
      "Saving model at iteration 0 with best score 0.357\n",
      "[E:0]\tTrain Loss: 1.029\tDev f1: 0.357\n"
     ]
    },
    {
     "data": {
      "application/vnd.jupyter.widget-view+json": {
       "model_id": "23abd7a5e37e42a1a16ca4b0e75719c6",
       "version_major": 2,
       "version_minor": 0
      },
      "text/plain": [
       "HBox(children=(IntProgress(value=0, max=696), HTML(value='')))"
      ]
     },
     "metadata": {},
     "output_type": "display_data"
    },
    {
     "name": "stdout",
     "output_type": "stream",
     "text": [
      "\n",
      "Saving model at iteration 1 with best score 0.362\n",
      "[E:1]\tTrain Loss: 1.016\tDev f1: 0.362\n"
     ]
    },
    {
     "data": {
      "application/vnd.jupyter.widget-view+json": {
       "model_id": "c1472c2c434245b0b493b185b22c9b4a",
       "version_major": 2,
       "version_minor": 0
      },
      "text/plain": [
       "HBox(children=(IntProgress(value=0, max=696), HTML(value='')))"
      ]
     },
     "metadata": {},
     "output_type": "display_data"
    },
    {
     "name": "stdout",
     "output_type": "stream",
     "text": [
      "\n",
      "Saving model at iteration 2 with best score 0.396\n",
      "[E:2]\tTrain Loss: 1.011\tDev f1: 0.396\n"
     ]
    },
    {
     "data": {
      "application/vnd.jupyter.widget-view+json": {
       "model_id": "339db77b5f55460ca64c0414ed11aa3d",
       "version_major": 2,
       "version_minor": 0
      },
      "text/plain": [
       "HBox(children=(IntProgress(value=0, max=696), HTML(value='')))"
      ]
     },
     "metadata": {},
     "output_type": "display_data"
    },
    {
     "name": "stdout",
     "output_type": "stream",
     "text": [
      "\n",
      "Saving model at iteration 3 with best score 0.400\n",
      "[E:3]\tTrain Loss: 1.008\tDev f1: 0.400\n"
     ]
    },
    {
     "data": {
      "application/vnd.jupyter.widget-view+json": {
       "model_id": "3a1f685d4dfe4da18ae7c2f706850c26",
       "version_major": 2,
       "version_minor": 0
      },
      "text/plain": [
       "HBox(children=(IntProgress(value=0, max=696), HTML(value='')))"
      ]
     },
     "metadata": {},
     "output_type": "display_data"
    },
    {
     "name": "stdout",
     "output_type": "stream",
     "text": [
      "\n",
      "[E:4]\tTrain Loss: 1.005\tDev f1: 0.384\n"
     ]
    },
    {
     "data": {
      "application/vnd.jupyter.widget-view+json": {
       "model_id": "acaf832daa194045a1542e9f939218eb",
       "version_major": 2,
       "version_minor": 0
      },
      "text/plain": [
       "HBox(children=(IntProgress(value=0, max=696), HTML(value='')))"
      ]
     },
     "metadata": {},
     "output_type": "display_data"
    },
    {
     "name": "stdout",
     "output_type": "stream",
     "text": [
      "\n",
      "[E:5]\tTrain Loss: 1.003\tDev f1: 0.370\n"
     ]
    },
    {
     "data": {
      "application/vnd.jupyter.widget-view+json": {
       "model_id": "2640cdbab3664140b4cf79b8eb8d533d",
       "version_major": 2,
       "version_minor": 0
      },
      "text/plain": [
       "HBox(children=(IntProgress(value=0, max=696), HTML(value='')))"
      ]
     },
     "metadata": {},
     "output_type": "display_data"
    },
    {
     "name": "stdout",
     "output_type": "stream",
     "text": [
      "\n",
      "[E:6]\tTrain Loss: 1.001\tDev f1: 0.360\n"
     ]
    },
    {
     "data": {
      "application/vnd.jupyter.widget-view+json": {
       "model_id": "a1b90aa14fd64cf2b9fc3d67afdadee8",
       "version_major": 2,
       "version_minor": 0
      },
      "text/plain": [
       "HBox(children=(IntProgress(value=0, max=696), HTML(value='')))"
      ]
     },
     "metadata": {},
     "output_type": "display_data"
    },
    {
     "name": "stdout",
     "output_type": "stream",
     "text": [
      "\n",
      "[E:7]\tTrain Loss: 1.000\tDev f1: 0.378\n"
     ]
    },
    {
     "data": {
      "application/vnd.jupyter.widget-view+json": {
       "model_id": "b24cb46b887c4d1e819668f9e94c00be",
       "version_major": 2,
       "version_minor": 0
      },
      "text/plain": [
       "HBox(children=(IntProgress(value=0, max=696), HTML(value='')))"
      ]
     },
     "metadata": {},
     "output_type": "display_data"
    },
    {
     "name": "stdout",
     "output_type": "stream",
     "text": [
      "\n",
      "[E:8]\tTrain Loss: 0.998\tDev f1: 0.386\n"
     ]
    },
    {
     "data": {
      "application/vnd.jupyter.widget-view+json": {
       "model_id": "7423d30ca89f41a78d9e46460289bf9b",
       "version_major": 2,
       "version_minor": 0
      },
      "text/plain": [
       "HBox(children=(IntProgress(value=0, max=696), HTML(value='')))"
      ]
     },
     "metadata": {},
     "output_type": "display_data"
    },
    {
     "name": "stdout",
     "output_type": "stream",
     "text": [
      "\n",
      "Saving model at iteration 9 with best score 0.409\n",
      "[E:9]\tTrain Loss: 0.998\tDev f1: 0.409\n",
      "Restoring best model from iteration 9 with score 0.409\n",
      "Finished Training\n",
      "F1: 0.409\n",
      "        y=1    y=2    y=3   \n",
      " l=1    104    15     201   \n",
      " l=2    85     101   2305   \n",
      " l=3     0      0      0    \n",
      "CPU times: user 1h 7min 29s, sys: 2min 10s, total: 1h 9min 40s\n",
      "Wall time: 1h 9min 27s\n",
      "Precision: 0.359\n",
      "Recall: 0.656\n",
      "F1: 0.464\n",
      "        y=1    y=2    y=3   \n",
      " l=1    143    13     242   \n",
      " l=2    75     73    2155   \n",
      " l=3     0      0      0    \n"
     ]
    }
   ],
   "source": [
    "slice_ours = init_model(use_end_model=False, r=100, rw=True)\n",
    "%time slice_ours.train_model(train_slice, dev_data=dev)\n",
    "slice_ours_scores = slice_ours.score(test, metric=['precision', 'recall', 'f1'])"
   ]
  },
  {
   "cell_type": "markdown",
   "metadata": {},
   "source": [
    "## (d) `SliceOursWeak`: Slice Model with $\\tilde{Y}$ priors"
   ]
  },
  {
   "cell_type": "code",
   "execution_count": 20,
   "metadata": {},
   "outputs": [
    {
     "name": "stdout",
     "output_type": "stream",
     "text": [
      "Loaded 91.0% (29001/31870) pretrained embeddings\n",
      "Using pretrained embeddings.\n",
      "Embeddings shape = (31870, 50)\n",
      "The embeddings are NOT FROZEN\n",
      "Using lstm_reduction = 'attention'\n",
      "Slice Heads:\n",
      "Input Network: Sequential(\n",
      "  (0): Sequential(\n",
      "    (0): LSTMModule(\n",
      "      (embeddings): Embedding(31870, 50)\n",
      "      (lstm): LSTM(50, 50, batch_first=True, bidirectional=True)\n",
      "    )\n",
      "    (1): ReLU()\n",
      "  )\n",
      ")\n",
      "L_head: Linear(in_features=100, out_features=10, bias=False)\n",
      "Y_head: Linear(in_features=200, out_features=2, bias=False)\n",
      "Using GPU...\n"
     ]
    },
    {
     "data": {
      "application/vnd.jupyter.widget-view+json": {
       "model_id": "f1d2568b5554452dba0848cec9a9413b",
       "version_major": 2,
       "version_minor": 0
      },
      "text/plain": [
       "HBox(children=(IntProgress(value=0, max=696), HTML(value='')))"
      ]
     },
     "metadata": {},
     "output_type": "display_data"
    },
    {
     "name": "stderr",
     "output_type": "stream",
     "text": [
      "/dfs/scratch0/vschen/metal/metal/contrib/slicing/online_dp.py:169: UserWarning: Implicit dimension choice for softmax has been deprecated. Change the call to include dim=X as an argument.\n",
      "  A = F.softmax(self.forward_L(x)).unsqueeze(1)\n",
      "/dfs/scratch0/vschen/metal/metal/contrib/slicing/online_dp.py:140: UserWarning: Implicit dimension choice for softmax has been deprecated. Change the call to include dim=X as an argument.\n",
      "  self.criteria(F.softmax(self.forward_Y(X)), Y_tilde)\n"
     ]
    },
    {
     "name": "stdout",
     "output_type": "stream",
     "text": [
      "Saving model at iteration 0 with best score 0.369\n",
      "[E:0]\tTrain Loss: 1.029\tDev f1: 0.369\n"
     ]
    },
    {
     "data": {
      "application/vnd.jupyter.widget-view+json": {
       "model_id": "9caae7efbcb747a6b7e151f2d8f1370e",
       "version_major": 2,
       "version_minor": 0
      },
      "text/plain": [
       "HBox(children=(IntProgress(value=0, max=696), HTML(value='')))"
      ]
     },
     "metadata": {},
     "output_type": "display_data"
    },
    {
     "name": "stdout",
     "output_type": "stream",
     "text": [
      "Saving model at iteration 1 with best score 0.374\n",
      "[E:1]\tTrain Loss: 1.016\tDev f1: 0.374\n"
     ]
    },
    {
     "data": {
      "application/vnd.jupyter.widget-view+json": {
       "model_id": "aaf82e6e85124f39b4df9dead3b0dd3e",
       "version_major": 2,
       "version_minor": 0
      },
      "text/plain": [
       "HBox(children=(IntProgress(value=0, max=696), HTML(value='')))"
      ]
     },
     "metadata": {},
     "output_type": "display_data"
    },
    {
     "name": "stdout",
     "output_type": "stream",
     "text": [
      "Saving model at iteration 2 with best score 0.376\n",
      "[E:2]\tTrain Loss: 1.012\tDev f1: 0.376\n"
     ]
    },
    {
     "data": {
      "application/vnd.jupyter.widget-view+json": {
       "model_id": "442200c3d4a342cd85332a545c71ddfe",
       "version_major": 2,
       "version_minor": 0
      },
      "text/plain": [
       "HBox(children=(IntProgress(value=0, max=696), HTML(value='')))"
      ]
     },
     "metadata": {},
     "output_type": "display_data"
    },
    {
     "name": "stdout",
     "output_type": "stream",
     "text": [
      "Saving model at iteration 3 with best score 0.419\n",
      "[E:3]\tTrain Loss: 1.009\tDev f1: 0.419\n"
     ]
    },
    {
     "data": {
      "application/vnd.jupyter.widget-view+json": {
       "model_id": "b1fd664672c4472488648055d5b22036",
       "version_major": 2,
       "version_minor": 0
      },
      "text/plain": [
       "HBox(children=(IntProgress(value=0, max=696), HTML(value='')))"
      ]
     },
     "metadata": {},
     "output_type": "display_data"
    },
    {
     "name": "stdout",
     "output_type": "stream",
     "text": [
      "[E:4]\tTrain Loss: 1.007\tDev f1: 0.379\n"
     ]
    },
    {
     "data": {
      "application/vnd.jupyter.widget-view+json": {
       "model_id": "114e6ad896974e0ea73dd6b6589f885a",
       "version_major": 2,
       "version_minor": 0
      },
      "text/plain": [
       "HBox(children=(IntProgress(value=0, max=696), HTML(value='')))"
      ]
     },
     "metadata": {},
     "output_type": "display_data"
    },
    {
     "name": "stdout",
     "output_type": "stream",
     "text": [
      "[E:5]\tTrain Loss: 1.005\tDev f1: 0.373\n"
     ]
    },
    {
     "data": {
      "application/vnd.jupyter.widget-view+json": {
       "model_id": "ad876f71f42a4b638c3188a3cc8bf0f0",
       "version_major": 2,
       "version_minor": 0
      },
      "text/plain": [
       "HBox(children=(IntProgress(value=0, max=696), HTML(value='')))"
      ]
     },
     "metadata": {},
     "output_type": "display_data"
    },
    {
     "name": "stdout",
     "output_type": "stream",
     "text": [
      "[E:6]\tTrain Loss: 1.003\tDev f1: 0.390\n"
     ]
    },
    {
     "data": {
      "application/vnd.jupyter.widget-view+json": {
       "model_id": "3a75258d8df74730b514b3ce6d2eb1ea",
       "version_major": 2,
       "version_minor": 0
      },
      "text/plain": [
       "HBox(children=(IntProgress(value=0, max=696), HTML(value='')))"
      ]
     },
     "metadata": {},
     "output_type": "display_data"
    },
    {
     "name": "stdout",
     "output_type": "stream",
     "text": [
      "[E:7]\tTrain Loss: 1.001\tDev f1: 0.366\n"
     ]
    },
    {
     "data": {
      "application/vnd.jupyter.widget-view+json": {
       "model_id": "9deb5bf93d44407eadc6f77eb7176b7a",
       "version_major": 2,
       "version_minor": 0
      },
      "text/plain": [
       "HBox(children=(IntProgress(value=0, max=696), HTML(value='')))"
      ]
     },
     "metadata": {},
     "output_type": "display_data"
    },
    {
     "name": "stdout",
     "output_type": "stream",
     "text": [
      "[E:8]\tTrain Loss: 1.000\tDev f1: 0.410\n"
     ]
    },
    {
     "data": {
      "application/vnd.jupyter.widget-view+json": {
       "model_id": "ae6ed5d66ad446d59ebb94776ef28989",
       "version_major": 2,
       "version_minor": 0
      },
      "text/plain": [
       "HBox(children=(IntProgress(value=0, max=696), HTML(value='')))"
      ]
     },
     "metadata": {},
     "output_type": "display_data"
    },
    {
     "name": "stdout",
     "output_type": "stream",
     "text": [
      "[E:9]\tTrain Loss: 0.999\tDev f1: 0.355\n",
      "Restoring best model from iteration 3 with score 0.419\n",
      "Finished Training\n",
      "F1: 0.419\n",
      "        y=1    y=2    y=3   \n",
      " l=1    96     19     154   \n",
      " l=2    93     97    2352   \n",
      " l=3     0      0      0    \n",
      "CPU times: user 1h 9min, sys: 2min 8s, total: 1h 11min 9s\n",
      "Wall time: 1h 10min 55s\n",
      "Precision: 0.391\n",
      "Recall: 0.633\n",
      "F1: 0.483\n",
      "        y=1    y=2    y=3   \n",
      " l=1    138    10     205   \n",
      " l=2    80     76    2192   \n",
      " l=3     0      0      0    \n"
     ]
    }
   ],
   "source": [
    "slice_ours_weak = init_model(use_end_model=False, r=100, rw=True)\n",
    "%time slice_ours_weak.train_model(train_slice_snorkel, dev_data=dev)\n",
    "slice_ours_weak_scores = slice_ours_weak.score(test, metric=['precision', 'recall', 'f1'])"
   ]
  },
  {
   "cell_type": "markdown",
   "metadata": {},
   "source": [
    "## (e) `SliceUWWeak`: Unweighted Slice model with $\\tilde{Y}$ priors"
   ]
  },
  {
   "cell_type": "code",
   "execution_count": 21,
   "metadata": {},
   "outputs": [
    {
     "name": "stdout",
     "output_type": "stream",
     "text": [
      "Loaded 91.0% (29001/31870) pretrained embeddings\n",
      "Using pretrained embeddings.\n",
      "Embeddings shape = (31870, 50)\n",
      "The embeddings are NOT FROZEN\n",
      "Using lstm_reduction = 'attention'\n",
      "Slice Heads:\n",
      "Input Network: Sequential(\n",
      "  (0): Sequential(\n",
      "    (0): LSTMModule(\n",
      "      (embeddings): Embedding(31870, 50)\n",
      "      (lstm): LSTM(50, 50, batch_first=True, bidirectional=True)\n",
      "    )\n",
      "    (1): ReLU()\n",
      "  )\n",
      ")\n",
      "L_head: Linear(in_features=100, out_features=10, bias=False)\n",
      "Y_head: Linear(in_features=100, out_features=2, bias=False)\n",
      "Using GPU...\n"
     ]
    },
    {
     "data": {
      "application/vnd.jupyter.widget-view+json": {
       "model_id": "7805f99ab6404159b53c24ba272cbadb",
       "version_major": 2,
       "version_minor": 0
      },
      "text/plain": [
       "HBox(children=(IntProgress(value=0, max=696), HTML(value='')))"
      ]
     },
     "metadata": {},
     "output_type": "display_data"
    },
    {
     "name": "stdout",
     "output_type": "stream",
     "text": [
      "Saving model at iteration 0 with best score 0.368\n",
      "[E:0]\tTrain Loss: 1.027\tDev f1: 0.368\n"
     ]
    },
    {
     "data": {
      "application/vnd.jupyter.widget-view+json": {
       "model_id": "b449cc0287e94ec2b055e947c4d758c4",
       "version_major": 2,
       "version_minor": 0
      },
      "text/plain": [
       "HBox(children=(IntProgress(value=0, max=696), HTML(value='')))"
      ]
     },
     "metadata": {},
     "output_type": "display_data"
    },
    {
     "name": "stdout",
     "output_type": "stream",
     "text": [
      "Saving model at iteration 1 with best score 0.390\n",
      "[E:1]\tTrain Loss: 1.016\tDev f1: 0.390\n"
     ]
    },
    {
     "data": {
      "application/vnd.jupyter.widget-view+json": {
       "model_id": "f69a154209e34e4b8f5d489d0a20e8a0",
       "version_major": 2,
       "version_minor": 0
      },
      "text/plain": [
       "HBox(children=(IntProgress(value=0, max=696), HTML(value='')))"
      ]
     },
     "metadata": {},
     "output_type": "display_data"
    },
    {
     "name": "stdout",
     "output_type": "stream",
     "text": [
      "Saving model at iteration 2 with best score 0.391\n",
      "[E:2]\tTrain Loss: 1.011\tDev f1: 0.391\n"
     ]
    },
    {
     "data": {
      "application/vnd.jupyter.widget-view+json": {
       "model_id": "e7dd6e0760644ef6aa0558ff4e2c524c",
       "version_major": 2,
       "version_minor": 0
      },
      "text/plain": [
       "HBox(children=(IntProgress(value=0, max=696), HTML(value='')))"
      ]
     },
     "metadata": {},
     "output_type": "display_data"
    },
    {
     "name": "stdout",
     "output_type": "stream",
     "text": [
      "Saving model at iteration 3 with best score 0.409\n",
      "[E:3]\tTrain Loss: 1.006\tDev f1: 0.409\n"
     ]
    },
    {
     "data": {
      "application/vnd.jupyter.widget-view+json": {
       "model_id": "3910c5c10e3e494bbb5674823987dfab",
       "version_major": 2,
       "version_minor": 0
      },
      "text/plain": [
       "HBox(children=(IntProgress(value=0, max=696), HTML(value='')))"
      ]
     },
     "metadata": {},
     "output_type": "display_data"
    },
    {
     "name": "stdout",
     "output_type": "stream",
     "text": [
      "[E:4]\tTrain Loss: 1.003\tDev f1: 0.354\n"
     ]
    },
    {
     "data": {
      "application/vnd.jupyter.widget-view+json": {
       "model_id": "fb42d4de445b47149f9795337cbeb764",
       "version_major": 2,
       "version_minor": 0
      },
      "text/plain": [
       "HBox(children=(IntProgress(value=0, max=696), HTML(value='')))"
      ]
     },
     "metadata": {},
     "output_type": "display_data"
    },
    {
     "name": "stdout",
     "output_type": "stream",
     "text": [
      "[E:5]\tTrain Loss: 1.001\tDev f1: 0.358\n"
     ]
    },
    {
     "data": {
      "application/vnd.jupyter.widget-view+json": {
       "model_id": "02b93a984f6b4f1bb4aa5409fd4723fd",
       "version_major": 2,
       "version_minor": 0
      },
      "text/plain": [
       "HBox(children=(IntProgress(value=0, max=696), HTML(value='')))"
      ]
     },
     "metadata": {},
     "output_type": "display_data"
    },
    {
     "name": "stdout",
     "output_type": "stream",
     "text": [
      "[E:6]\tTrain Loss: 0.999\tDev f1: 0.362\n"
     ]
    },
    {
     "data": {
      "application/vnd.jupyter.widget-view+json": {
       "model_id": "9849b7adae7a4d169c9ffcb810171785",
       "version_major": 2,
       "version_minor": 0
      },
      "text/plain": [
       "HBox(children=(IntProgress(value=0, max=696), HTML(value='')))"
      ]
     },
     "metadata": {},
     "output_type": "display_data"
    },
    {
     "name": "stdout",
     "output_type": "stream",
     "text": [
      "[E:7]\tTrain Loss: 0.998\tDev f1: 0.398\n"
     ]
    },
    {
     "data": {
      "application/vnd.jupyter.widget-view+json": {
       "model_id": "65e5e91f5d594d7fb43180a92e22e918",
       "version_major": 2,
       "version_minor": 0
      },
      "text/plain": [
       "HBox(children=(IntProgress(value=0, max=696), HTML(value='')))"
      ]
     },
     "metadata": {},
     "output_type": "display_data"
    },
    {
     "name": "stdout",
     "output_type": "stream",
     "text": [
      "[E:8]\tTrain Loss: 0.997\tDev f1: 0.370\n"
     ]
    },
    {
     "data": {
      "application/vnd.jupyter.widget-view+json": {
       "model_id": "e4f5dba6be224f7a8c76460e9baaf9ff",
       "version_major": 2,
       "version_minor": 0
      },
      "text/plain": [
       "HBox(children=(IntProgress(value=0, max=696), HTML(value='')))"
      ]
     },
     "metadata": {},
     "output_type": "display_data"
    },
    {
     "name": "stdout",
     "output_type": "stream",
     "text": [
      "[E:9]\tTrain Loss: 0.996\tDev f1: 0.377\n",
      "Restoring best model from iteration 3 with score 0.409\n",
      "Finished Training\n",
      "F1: 0.409\n",
      "        y=1    y=2    y=3   \n",
      " l=1    99     17     179   \n",
      " l=2    90     99    2327   \n",
      " l=3     0      0      0    \n",
      "CPU times: user 46min 16s, sys: 1min 24s, total: 47min 40s\n",
      "Wall time: 47min 28s\n",
      "Precision: 0.374\n",
      "Recall: 0.651\n",
      "F1: 0.475\n",
      "        y=1    y=2    y=3   \n",
      " l=1    142    10     228   \n",
      " l=2    76     76    2169   \n",
      " l=3     0      0      0    \n"
     ]
    }
   ],
   "source": [
    "slice_uw_weak = init_model(use_end_model=False, r=100, rw=False)\n",
    "%time slice_uw_weak.train_model(train_slice_snorkel, dev_data=dev)\n",
    "slice_uw_weak_scores = slice_uw_weak.score(test, metric=['precision', 'recall', 'f1'])"
   ]
  },
  {
   "cell_type": "markdown",
   "metadata": {},
   "source": [
    "## Slice-specific scores"
   ]
  },
  {
   "cell_type": "code",
   "execution_count": 29,
   "metadata": {},
   "outputs": [
    {
     "name": "stdout",
     "output_type": "stream",
     "text": [
      "['LF_distant_supervision', 'LF_distant_supervision_last_names', 'LF_husband_wife', 'LF_husband_wife_left_window', 'LF_same_last_name', 'LF_no_spouse_in_sentence', 'LF_and_married', 'LF_familial_relationship', 'LF_family_left_window', 'LF_other_relationship']\n"
     ]
    }
   ],
   "source": [
    "from labeling_functions import LFs\n",
    "print([lf.__name__ for lf in LFs])"
   ]
  },
  {
   "cell_type": "code",
   "execution_count": 22,
   "metadata": {},
   "outputs": [],
   "source": [
    "# TODO: don't call private fns\n",
    "Yp_base_weak, Y = base_weak._get_predictions(test)\n",
    "Yp_slice_uw, Y = slice_uw._get_predictions(test)\n",
    "Yp_slice_ours, Y = slice_ours._get_predictions(test)\n",
    "Yp_slice_ours_weak, Y = slice_ours_weak._get_predictions(test)\n",
    "Yp_slice_uw_weak, Y = slice_uw_weak._get_predictions(test)"
   ]
  },
  {
   "cell_type": "code",
   "execution_count": 65,
   "metadata": {},
   "outputs": [
    {
     "name": "stdout",
     "output_type": "stream",
     "text": [
      "\u001b[32m[LF_distant_supervision] delta: 0.1250, OURS: 0.5000, BASE: 0.3750\u001b[0m\n",
      "\u001b[32m[LF_distant_supervision_last_names] delta: 0.0476, OURS: 0.2857, BASE: 0.2381\u001b[0m\n",
      "\u001b[32m[LF_husband_wife_left_window] delta: 0.0217, OURS: 0.4384, BASE: 0.4167\u001b[0m\n",
      "\u001b[32m[LF_same_last_name] delta: 0.0400, OURS: 0.1800, BASE: 0.1400\u001b[0m\n",
      "improved 4/10\n"
     ]
    }
   ],
   "source": [
    "from metal.contrib.slicing.experiment_utils import compare_LF_slices\n",
    "compare_LF_slices(Yp_slice_ours, Yp_base_weak, Y, L_test, LFs, metric='accuracy', delta_threshold=0.02)"
   ]
  },
  {
   "cell_type": "code",
   "execution_count": 66,
   "metadata": {},
   "outputs": [
    {
     "name": "stdout",
     "output_type": "stream",
     "text": [
      "improved 0/10\n"
     ]
    }
   ],
   "source": [
    "compare_LF_slices(Yp_slice_ours, Yp_slice_uw, Y, L_test, LFs, metric='accuracy', delta_threshold=0.02)"
   ]
  },
  {
   "cell_type": "markdown",
   "metadata": {},
   "source": [
    "### `slice_ours_weak` vs. `base_weak`"
   ]
  },
  {
   "cell_type": "code",
   "execution_count": 67,
   "metadata": {},
   "outputs": [
    {
     "name": "stdout",
     "output_type": "stream",
     "text": [
      "\u001b[32m[LF_distant_supervision] delta: 0.1250, OURS: 0.5000, BASE: 0.3750\u001b[0m\n",
      "\u001b[32m[LF_distant_supervision_last_names] delta: 0.0476, OURS: 0.2857, BASE: 0.2381\u001b[0m\n",
      "\u001b[32m[LF_same_last_name] delta: 0.0400, OURS: 0.1800, BASE: 0.1400\u001b[0m\n",
      "improved 3/10\n"
     ]
    }
   ],
   "source": [
    "compare_LF_slices(Yp_slice_ours_weak, Yp_base_weak, Y, L_test, LFs, metric='accuracy', delta_threshold=0.02)"
   ]
  },
  {
   "cell_type": "markdown",
   "metadata": {},
   "source": [
    "### `slice_ours_weak` vs. `slice_uw_weak`"
   ]
  },
  {
   "cell_type": "code",
   "execution_count": 71,
   "metadata": {},
   "outputs": [
    {
     "name": "stdout",
     "output_type": "stream",
     "text": [
      "improved 0/10\n"
     ]
    }
   ],
   "source": [
    "compare_LF_slices(Yp_slice_ours_weak, Yp_slice_uw_weak, Y, L_test, LFs, metric='accuracy', delta_threshold=0.02)"
   ]
  },
  {
   "cell_type": "code",
   "execution_count": null,
   "metadata": {},
   "outputs": [],
   "source": []
  }
 ],
 "metadata": {
  "kernelspec": {
   "display_name": "Python 3",
   "language": "python",
   "name": "python3"
  },
  "language_info": {
   "codemirror_mode": {
    "name": "ipython",
    "version": 3
   },
   "file_extension": ".py",
   "mimetype": "text/x-python",
   "name": "python",
   "nbconvert_exporter": "python",
   "pygments_lexer": "ipython3",
   "version": "3.6.7"
  }
 },
 "nbformat": 4,
 "nbformat_minor": 2
}
