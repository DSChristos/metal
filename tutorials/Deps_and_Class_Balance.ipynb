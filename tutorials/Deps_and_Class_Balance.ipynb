{
 "cells": [
  {
   "cell_type": "code",
   "execution_count": 1,
   "metadata": {},
   "outputs": [
    {
     "name": "stdout",
     "output_type": "stream",
     "text": [
      "The autoreload extension is already loaded. To reload it, use:\n",
      "  %reload_ext autoreload\n"
     ]
    }
   ],
   "source": [
    "%matplotlib inline\n",
    "%load_ext autoreload\n",
    "%autoreload 2\n",
    "\n",
    "import sys\n",
    "sys.path.append(\"../\") # go to parent dir\n",
    "\n",
    "import numpy as np\n",
    "import torch\n",
    "from torch import nn, optim\n",
    "import matplotlib.pyplot as plt\n",
    "\n",
    "from itertools import product"
   ]
  },
  {
   "cell_type": "code",
   "execution_count": 2,
   "metadata": {},
   "outputs": [
    {
     "data": {
      "text/plain": [
       "<torch._C.Generator at 0x7f3943adb9f0>"
      ]
     },
     "execution_count": 2,
     "metadata": {},
     "output_type": "execute_result"
    }
   ],
   "source": [
    "np.random.seed(123)\n",
    "torch.manual_seed(123)"
   ]
  },
  {
   "cell_type": "markdown",
   "metadata": {},
   "source": [
    "### Step 1: Generate Data"
   ]
  },
  {
   "cell_type": "code",
   "execution_count": 13,
   "metadata": {},
   "outputs": [
    {
     "name": "stdout",
     "output_type": "stream",
     "text": [
      "LF Dependencies: [(0, 2), (2, 8)]\n",
      "Class Balance: [0.00599944 0.99400056]\n"
     ]
    }
   ],
   "source": [
    "from synthetic.generate import SingleTaskTreeDepsGenerator\n",
    "\n",
    "K = 2\n",
    "M = 10\n",
    "N = 10000\n",
    "\n",
    "# Generate the true class balance to be recovered\n",
    "class_balance = np.random.random(K)\n",
    "class_balance /= class_balance.sum()\n",
    "\n",
    "data = SingleTaskTreeDepsGenerator(N, M, K, class_balance, edge_prob=0.15)\n",
    "print (f\"LF Dependencies: {data.E}\")\n",
    "print (f\"Class Balance: {data.p}\")"
   ]
  },
  {
   "cell_type": "code",
   "execution_count": 14,
   "metadata": {},
   "outputs": [
    {
     "data": {
      "text/html": [
       "<div>\n",
       "<style scoped>\n",
       "    .dataframe tbody tr th:only-of-type {\n",
       "        vertical-align: middle;\n",
       "    }\n",
       "\n",
       "    .dataframe tbody tr th {\n",
       "        vertical-align: top;\n",
       "    }\n",
       "\n",
       "    .dataframe thead th {\n",
       "        text-align: right;\n",
       "    }\n",
       "</style>\n",
       "<table border=\"1\" class=\"dataframe\">\n",
       "  <thead>\n",
       "    <tr style=\"text-align: right;\">\n",
       "      <th></th>\n",
       "      <th>Polarity</th>\n",
       "      <th>Coverage</th>\n",
       "      <th>Overlaps</th>\n",
       "      <th>Conflicts</th>\n",
       "      <th>Correct</th>\n",
       "      <th>Incorrect</th>\n",
       "      <th>Emp. Acc.</th>\n",
       "    </tr>\n",
       "  </thead>\n",
       "  <tbody>\n",
       "    <tr>\n",
       "      <th>0</th>\n",
       "      <td>[1, 2]</td>\n",
       "      <td>0.9276</td>\n",
       "      <td>0.9276</td>\n",
       "      <td>0.8468</td>\n",
       "      <td>8523</td>\n",
       "      <td>753</td>\n",
       "      <td>0.918823</td>\n",
       "    </tr>\n",
       "    <tr>\n",
       "      <th>1</th>\n",
       "      <td>[1, 2]</td>\n",
       "      <td>0.8134</td>\n",
       "      <td>0.8134</td>\n",
       "      <td>0.7452</td>\n",
       "      <td>6296</td>\n",
       "      <td>1838</td>\n",
       "      <td>0.774035</td>\n",
       "    </tr>\n",
       "    <tr>\n",
       "      <th>2</th>\n",
       "      <td>[1, 2]</td>\n",
       "      <td>0.9192</td>\n",
       "      <td>0.9192</td>\n",
       "      <td>0.8402</td>\n",
       "      <td>8376</td>\n",
       "      <td>816</td>\n",
       "      <td>0.911227</td>\n",
       "    </tr>\n",
       "    <tr>\n",
       "      <th>3</th>\n",
       "      <td>[1, 2]</td>\n",
       "      <td>0.6813</td>\n",
       "      <td>0.6813</td>\n",
       "      <td>0.6348</td>\n",
       "      <td>3645</td>\n",
       "      <td>3168</td>\n",
       "      <td>0.535007</td>\n",
       "    </tr>\n",
       "    <tr>\n",
       "      <th>4</th>\n",
       "      <td>[1, 2]</td>\n",
       "      <td>0.9363</td>\n",
       "      <td>0.9363</td>\n",
       "      <td>0.8534</td>\n",
       "      <td>8751</td>\n",
       "      <td>612</td>\n",
       "      <td>0.934636</td>\n",
       "    </tr>\n",
       "    <tr>\n",
       "      <th>5</th>\n",
       "      <td>[1, 2]</td>\n",
       "      <td>0.7322</td>\n",
       "      <td>0.7322</td>\n",
       "      <td>0.6750</td>\n",
       "      <td>4585</td>\n",
       "      <td>2737</td>\n",
       "      <td>0.626195</td>\n",
       "    </tr>\n",
       "    <tr>\n",
       "      <th>6</th>\n",
       "      <td>[1, 2]</td>\n",
       "      <td>0.7962</td>\n",
       "      <td>0.7962</td>\n",
       "      <td>0.7323</td>\n",
       "      <td>5775</td>\n",
       "      <td>2187</td>\n",
       "      <td>0.725320</td>\n",
       "    </tr>\n",
       "    <tr>\n",
       "      <th>7</th>\n",
       "      <td>[1, 2]</td>\n",
       "      <td>0.7459</td>\n",
       "      <td>0.7459</td>\n",
       "      <td>0.6886</td>\n",
       "      <td>4815</td>\n",
       "      <td>2644</td>\n",
       "      <td>0.645529</td>\n",
       "    </tr>\n",
       "    <tr>\n",
       "      <th>8</th>\n",
       "      <td>[1, 2]</td>\n",
       "      <td>0.6773</td>\n",
       "      <td>0.6773</td>\n",
       "      <td>0.6312</td>\n",
       "      <td>3468</td>\n",
       "      <td>3305</td>\n",
       "      <td>0.512033</td>\n",
       "    </tr>\n",
       "    <tr>\n",
       "      <th>9</th>\n",
       "      <td>[1, 2]</td>\n",
       "      <td>0.6891</td>\n",
       "      <td>0.6891</td>\n",
       "      <td>0.6393</td>\n",
       "      <td>3859</td>\n",
       "      <td>3032</td>\n",
       "      <td>0.560006</td>\n",
       "    </tr>\n",
       "  </tbody>\n",
       "</table>\n",
       "</div>"
      ],
      "text/plain": [
       "  Polarity  Coverage  Overlaps  Conflicts  Correct  Incorrect  Emp. Acc.\n",
       "0   [1, 2]    0.9276    0.9276     0.8468     8523        753   0.918823\n",
       "1   [1, 2]    0.8134    0.8134     0.7452     6296       1838   0.774035\n",
       "2   [1, 2]    0.9192    0.9192     0.8402     8376        816   0.911227\n",
       "3   [1, 2]    0.6813    0.6813     0.6348     3645       3168   0.535007\n",
       "4   [1, 2]    0.9363    0.9363     0.8534     8751        612   0.934636\n",
       "5   [1, 2]    0.7322    0.7322     0.6750     4585       2737   0.626195\n",
       "6   [1, 2]    0.7962    0.7962     0.7323     5775       2187   0.725320\n",
       "7   [1, 2]    0.7459    0.7459     0.6886     4815       2644   0.645529\n",
       "8   [1, 2]    0.6773    0.6773     0.6312     3468       3305   0.512033\n",
       "9   [1, 2]    0.6891    0.6891     0.6393     3859       3032   0.560006"
      ]
     },
     "execution_count": 14,
     "metadata": {},
     "output_type": "execute_result"
    }
   ],
   "source": [
    "from metal.analysis import lf_summary\n",
    "lf_summary(data.L,data.Y)"
   ]
  },
  {
   "cell_type": "markdown",
   "metadata": {},
   "source": [
    "### Step 2: Learn Dependencies using `DependencyLearnerModel`\n",
    "**TEMP: hardcoding for now**"
   ]
  },
  {
   "cell_type": "code",
   "execution_count": 15,
   "metadata": {},
   "outputs": [],
   "source": [
    "edges = data.E\n",
    "L = np.array(data.L.todense())"
   ]
  },
  {
   "cell_type": "markdown",
   "metadata": {},
   "source": [
    "### Step 3: Recover the class balance using subset of independent LFs"
   ]
  },
  {
   "cell_type": "code",
   "execution_count": 16,
   "metadata": {},
   "outputs": [],
   "source": [
    "# Generate indices for independent LFs\n",
    "ind_lfs = []\n",
    "for i in range(M):\n",
    "    if i not in list(sum(edges, ())):\n",
    "        ind_lfs.append(i)\n",
    "L_ind = L[:,ind_lfs]"
   ]
  },
  {
   "cell_type": "code",
   "execution_count": 17,
   "metadata": {},
   "outputs": [
    {
     "name": "stdout",
     "output_type": "stream",
     "text": [
      "Estimated class balance: [0.19980003 0.8007491 ]\n",
      "True class balance: [0.00599944 0.99400056]\n",
      "\n",
      "CPU times: user 13.9 s, sys: 156 ms, total: 14 s\n",
      "Wall time: 1.34 s\n"
     ]
    }
   ],
   "source": [
    "%%time\n",
    "from metal.label_model.class_balance import ClassBalanceModel\n",
    "\n",
    "model = ClassBalanceModel(K, abstains=True)\n",
    "model.train_model(L=L_ind, verbose=False)\n",
    "\n",
    "print(f\"Estimated class balance: {model.class_balance}\")\n",
    "print(f\"True class balance: {class_balance}\")\n",
    "print()"
   ]
  },
  {
   "cell_type": "markdown",
   "metadata": {},
   "source": [
    "### Step 4: Train `LabelModel` and predict training labels\n",
    "**TEMP: not including constraints from Class Balance Model**"
   ]
  },
  {
   "cell_type": "code",
   "execution_count": 30,
   "metadata": {},
   "outputs": [
    {
     "name": "stdout",
     "output_type": "stream",
     "text": [
      "Computing O^{-1}...\n",
      "Estimating Z...\n",
      "[50 epo]: TRAIN:[loss=515.940]\n",
      "[100 epo]: TRAIN:[loss=118.419]\n",
      "[150 epo]: TRAIN:[loss=82.415]\n",
      "[200 epo]: TRAIN:[loss=69.957]\n",
      "[250 epo]: TRAIN:[loss=64.685]\n",
      "[300 epo]: TRAIN:[loss=62.123]\n",
      "[350 epo]: TRAIN:[loss=60.756]\n",
      "[400 epo]: TRAIN:[loss=59.975]\n",
      "[450 epo]: TRAIN:[loss=59.502]\n",
      "[500 epo]: TRAIN:[loss=59.200]\n",
      "[550 epo]: TRAIN:[loss=58.996]\n",
      "[600 epo]: TRAIN:[loss=58.851]\n",
      "[650 epo]: TRAIN:[loss=58.742]\n",
      "[700 epo]: TRAIN:[loss=58.655]\n",
      "[750 epo]: TRAIN:[loss=58.583]\n",
      "[800 epo]: TRAIN:[loss=58.520]\n",
      "[850 epo]: TRAIN:[loss=58.464]\n",
      "[900 epo]: TRAIN:[loss=58.412]\n",
      "[950 epo]: TRAIN:[loss=58.362]\n",
      "[1000 epo]: TRAIN:[loss=58.315]\n",
      "Finished Training\n",
      "Estimating \\mu...\n",
      "[50 epo]: TRAIN:[loss=9.529]\n",
      "[100 epo]: TRAIN:[loss=1.442]\n",
      "[150 epo]: TRAIN:[loss=0.359]\n",
      "[200 epo]: TRAIN:[loss=0.271]\n",
      "[250 epo]: TRAIN:[loss=0.245]\n",
      "[300 epo]: TRAIN:[loss=0.228]\n",
      "[350 epo]: TRAIN:[loss=0.214]\n",
      "[400 epo]: TRAIN:[loss=0.200]\n",
      "[450 epo]: TRAIN:[loss=0.188]\n",
      "[500 epo]: TRAIN:[loss=0.178]\n",
      "[550 epo]: TRAIN:[loss=0.168]\n",
      "[600 epo]: TRAIN:[loss=0.159]\n",
      "[650 epo]: TRAIN:[loss=0.151]\n",
      "[700 epo]: TRAIN:[loss=0.143]\n",
      "[750 epo]: TRAIN:[loss=0.136]\n",
      "[800 epo]: TRAIN:[loss=0.130]\n",
      "[850 epo]: TRAIN:[loss=0.124]\n",
      "[900 epo]: TRAIN:[loss=0.118]\n",
      "[950 epo]: TRAIN:[loss=0.113]\n",
      "[1000 epo]: TRAIN:[loss=0.109]\n",
      "Finished Training\n",
      "CPU times: user 24.7 s, sys: 2.76 s, total: 27.5 s\n",
      "Wall time: 1.62 s\n"
     ]
    }
   ],
   "source": [
    "%%time\n",
    "from metal.label_model import LabelModel\n",
    "label_model = LabelModel(k=K, seed=123)\n",
    "\n",
    "label_model.train_model(data.L, class_balance=model.class_balance.astype(float), deps=edges, lr=1e-4, n_epochs=1000, log_train_every=50)"
   ]
  },
  {
   "cell_type": "code",
   "execution_count": 31,
   "metadata": {},
   "outputs": [
    {
     "name": "stdout",
     "output_type": "stream",
     "text": [
      "Trained Label Model Metrics:\n",
      "Accuracy: 0.995\n",
      "Precision: 0.750\n",
      "Recall: 0.207\n",
      "F1: 0.324\n",
      "        y=1    y=2   \n",
      " l=1    12      4    \n",
      " l=2    46    9938   \n"
     ]
    }
   ],
   "source": [
    "print('Trained Label Model Metrics:')\n",
    "scores = label_model.score((data.L, data.Y), metric=['accuracy','precision', 'recall', 'f1'])"
   ]
  },
  {
   "cell_type": "markdown",
   "metadata": {},
   "source": [
    "### Step 4b: Compare to MajorityVote and No Class Balance+Dependencies LabelModel\n",
    "\n",
    "**Baseline: No Class Balance or Dependencies**"
   ]
  },
  {
   "cell_type": "code",
   "execution_count": 20,
   "metadata": {},
   "outputs": [
    {
     "name": "stdout",
     "output_type": "stream",
     "text": [
      "Computing O...\n",
      "Estimating \\mu...\n",
      "[50 epo]: TRAIN:[loss=0.052]\n",
      "[100 epo]: TRAIN:[loss=0.013]\n",
      "[150 epo]: TRAIN:[loss=0.007]\n",
      "[200 epo]: TRAIN:[loss=0.004]\n",
      "[250 epo]: TRAIN:[loss=0.003]\n",
      "[300 epo]: TRAIN:[loss=0.002]\n",
      "[350 epo]: TRAIN:[loss=0.002]\n",
      "[400 epo]: TRAIN:[loss=0.002]\n",
      "[450 epo]: TRAIN:[loss=0.002]\n",
      "[500 epo]: TRAIN:[loss=0.002]\n",
      "Finished Training\n",
      "CPU times: user 12 s, sys: 240 ms, total: 12.3 s\n",
      "Wall time: 443 ms\n"
     ]
    }
   ],
   "source": [
    "%%time\n",
    "from metal.label_model import LabelModel\n",
    "label_model = LabelModel(k=K, seed=123)\n",
    "\n",
    "label_model.train_model(data.L, n_epochs=500, log_train_every=50)"
   ]
  },
  {
   "cell_type": "code",
   "execution_count": 21,
   "metadata": {},
   "outputs": [
    {
     "name": "stdout",
     "output_type": "stream",
     "text": [
      "Trained Label Model Metrics:\n",
      "Accuracy: 0.877\n",
      "Precision: 0.042\n",
      "Recall: 0.914\n",
      "F1: 0.079\n",
      "        y=1    y=2   \n",
      " l=1    53    1224   \n",
      " l=2     5    8718   \n"
     ]
    }
   ],
   "source": [
    "print('Trained Label Model Metrics:')\n",
    "scores = label_model.score((data.L, data.Y), metric=['accuracy','precision', 'recall', 'f1'])"
   ]
  },
  {
   "cell_type": "markdown",
   "metadata": {},
   "source": [
    "**Baseline: Majority Vote**"
   ]
  },
  {
   "cell_type": "code",
   "execution_count": 22,
   "metadata": {},
   "outputs": [
    {
     "name": "stdout",
     "output_type": "stream",
     "text": [
      "Majority Label Voter Metrics:\n",
      "Accuracy: 0.927\n",
      "Precision: 0.073\n",
      "Recall: 0.983\n",
      "F1: 0.135\n",
      "        y=1    y=2   \n",
      " l=1    57     728   \n",
      " l=2     1    9214   \n"
     ]
    }
   ],
   "source": [
    "from metal.label_model.baselines import MajorityLabelVoter\n",
    "\n",
    "mv = MajorityLabelVoter(seed=123)\n",
    "print('Majority Label Voter Metrics:')\n",
    "scores = mv.score((data.L, data.Y), metric=['accuracy','precision', 'recall', 'f1'])"
   ]
  },
  {
   "cell_type": "code",
   "execution_count": null,
   "metadata": {},
   "outputs": [],
   "source": []
  }
 ],
 "metadata": {
  "kernelspec": {
   "display_name": "Python [conda env:metal]",
   "language": "python",
   "name": "conda-env-metal-py"
  },
  "language_info": {
   "codemirror_mode": {
    "name": "ipython",
    "version": 3
   },
   "file_extension": ".py",
   "mimetype": "text/x-python",
   "name": "python",
   "nbconvert_exporter": "python",
   "pygments_lexer": "ipython3",
   "version": "3.6.6"
  }
 },
 "nbformat": 4,
 "nbformat_minor": 2
}
