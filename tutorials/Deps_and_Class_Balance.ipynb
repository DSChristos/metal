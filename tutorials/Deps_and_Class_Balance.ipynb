{
 "cells": [
  {
   "cell_type": "code",
   "execution_count": 1,
   "metadata": {},
   "outputs": [
    {
     "name": "stdout",
     "output_type": "stream",
     "text": [
      "The autoreload extension is already loaded. To reload it, use:\n",
      "  %reload_ext autoreload\n"
     ]
    }
   ],
   "source": [
    "%matplotlib inline\n",
    "%load_ext autoreload\n",
    "%autoreload 2\n",
    "\n",
    "import sys\n",
    "sys.path.append(\"../\") # go to parent dir\n",
    "\n",
    "import numpy as np\n",
    "import torch\n",
    "from torch import nn, optim\n",
    "import matplotlib.pyplot as plt\n",
    "\n",
    "from itertools import product"
   ]
  },
  {
   "cell_type": "code",
   "execution_count": 2,
   "metadata": {},
   "outputs": [
    {
     "data": {
      "text/plain": [
       "<torch._C.Generator at 0x7f72b8f9ba30>"
      ]
     },
     "execution_count": 2,
     "metadata": {},
     "output_type": "execute_result"
    }
   ],
   "source": [
    "np.random.seed(123)\n",
    "torch.manual_seed(123)"
   ]
  },
  {
   "cell_type": "markdown",
   "metadata": {},
   "source": [
    "### Step 1: Generate Data"
   ]
  },
  {
   "cell_type": "code",
   "execution_count": 3,
   "metadata": {},
   "outputs": [
    {
     "name": "stdout",
     "output_type": "stream",
     "text": [
      "LF Dependencies: []\n",
      "Class Balance: [0.7087962 0.2912038]\n"
     ]
    }
   ],
   "source": [
    "from synthetic.generate import SingleTaskTreeDepsGenerator\n",
    "\n",
    "K = 2\n",
    "M = 10\n",
    "N = 10000\n",
    "\n",
    "# Generate the true class balance to be recovered\n",
    "class_balance = np.random.random(K)\n",
    "class_balance /= class_balance.sum()\n",
    "\n",
    "data = SingleTaskTreeDepsGenerator(N, M, K, class_balance, edge_prob=0.1)\n",
    "print (f\"LF Dependencies: {data.E}\")\n",
    "print (f\"Class Balance: {data.p}\")"
   ]
  },
  {
   "cell_type": "code",
   "execution_count": 4,
   "metadata": {},
   "outputs": [
    {
     "data": {
      "text/html": [
       "<div>\n",
       "<style scoped>\n",
       "    .dataframe tbody tr th:only-of-type {\n",
       "        vertical-align: middle;\n",
       "    }\n",
       "\n",
       "    .dataframe tbody tr th {\n",
       "        vertical-align: top;\n",
       "    }\n",
       "\n",
       "    .dataframe thead th {\n",
       "        text-align: right;\n",
       "    }\n",
       "</style>\n",
       "<table border=\"1\" class=\"dataframe\">\n",
       "  <thead>\n",
       "    <tr style=\"text-align: right;\">\n",
       "      <th></th>\n",
       "      <th>Polarity</th>\n",
       "      <th>Coverage</th>\n",
       "      <th>Overlaps</th>\n",
       "      <th>Conflicts</th>\n",
       "      <th>Correct</th>\n",
       "      <th>Incorrect</th>\n",
       "      <th>Emp. Acc.</th>\n",
       "    </tr>\n",
       "  </thead>\n",
       "  <tbody>\n",
       "    <tr>\n",
       "      <th>0</th>\n",
       "      <td>[1, 2]</td>\n",
       "      <td>0.7230</td>\n",
       "      <td>0.7230</td>\n",
       "      <td>0.6359</td>\n",
       "      <td>4475</td>\n",
       "      <td>2755</td>\n",
       "      <td>0.618949</td>\n",
       "    </tr>\n",
       "    <tr>\n",
       "      <th>1</th>\n",
       "      <td>[1, 2]</td>\n",
       "      <td>0.7334</td>\n",
       "      <td>0.7334</td>\n",
       "      <td>0.6460</td>\n",
       "      <td>4688</td>\n",
       "      <td>2646</td>\n",
       "      <td>0.639215</td>\n",
       "    </tr>\n",
       "    <tr>\n",
       "      <th>2</th>\n",
       "      <td>[1, 2]</td>\n",
       "      <td>0.8686</td>\n",
       "      <td>0.8686</td>\n",
       "      <td>0.7530</td>\n",
       "      <td>7363</td>\n",
       "      <td>1323</td>\n",
       "      <td>0.847686</td>\n",
       "    </tr>\n",
       "    <tr>\n",
       "      <th>3</th>\n",
       "      <td>[1, 2]</td>\n",
       "      <td>0.8974</td>\n",
       "      <td>0.8974</td>\n",
       "      <td>0.7746</td>\n",
       "      <td>7975</td>\n",
       "      <td>999</td>\n",
       "      <td>0.888678</td>\n",
       "    </tr>\n",
       "    <tr>\n",
       "      <th>4</th>\n",
       "      <td>[1, 2]</td>\n",
       "      <td>0.7971</td>\n",
       "      <td>0.7971</td>\n",
       "      <td>0.6918</td>\n",
       "      <td>5855</td>\n",
       "      <td>2116</td>\n",
       "      <td>0.734538</td>\n",
       "    </tr>\n",
       "    <tr>\n",
       "      <th>5</th>\n",
       "      <td>[1, 2]</td>\n",
       "      <td>0.8090</td>\n",
       "      <td>0.8090</td>\n",
       "      <td>0.7052</td>\n",
       "      <td>6137</td>\n",
       "      <td>1953</td>\n",
       "      <td>0.758591</td>\n",
       "    </tr>\n",
       "    <tr>\n",
       "      <th>6</th>\n",
       "      <td>[1, 2]</td>\n",
       "      <td>0.8265</td>\n",
       "      <td>0.8265</td>\n",
       "      <td>0.7180</td>\n",
       "      <td>6469</td>\n",
       "      <td>1796</td>\n",
       "      <td>0.782698</td>\n",
       "    </tr>\n",
       "    <tr>\n",
       "      <th>7</th>\n",
       "      <td>[1, 2]</td>\n",
       "      <td>0.8053</td>\n",
       "      <td>0.8053</td>\n",
       "      <td>0.7006</td>\n",
       "      <td>6166</td>\n",
       "      <td>1887</td>\n",
       "      <td>0.765677</td>\n",
       "    </tr>\n",
       "    <tr>\n",
       "      <th>8</th>\n",
       "      <td>[1, 2]</td>\n",
       "      <td>0.9426</td>\n",
       "      <td>0.9426</td>\n",
       "      <td>0.8142</td>\n",
       "      <td>8874</td>\n",
       "      <td>552</td>\n",
       "      <td>0.941439</td>\n",
       "    </tr>\n",
       "    <tr>\n",
       "      <th>9</th>\n",
       "      <td>[1, 2]</td>\n",
       "      <td>0.8265</td>\n",
       "      <td>0.8265</td>\n",
       "      <td>0.7159</td>\n",
       "      <td>6545</td>\n",
       "      <td>1720</td>\n",
       "      <td>0.791894</td>\n",
       "    </tr>\n",
       "  </tbody>\n",
       "</table>\n",
       "</div>"
      ],
      "text/plain": [
       "  Polarity  Coverage  Overlaps  Conflicts  Correct  Incorrect  Emp. Acc.\n",
       "0   [1, 2]    0.7230    0.7230     0.6359     4475       2755   0.618949\n",
       "1   [1, 2]    0.7334    0.7334     0.6460     4688       2646   0.639215\n",
       "2   [1, 2]    0.8686    0.8686     0.7530     7363       1323   0.847686\n",
       "3   [1, 2]    0.8974    0.8974     0.7746     7975        999   0.888678\n",
       "4   [1, 2]    0.7971    0.7971     0.6918     5855       2116   0.734538\n",
       "5   [1, 2]    0.8090    0.8090     0.7052     6137       1953   0.758591\n",
       "6   [1, 2]    0.8265    0.8265     0.7180     6469       1796   0.782698\n",
       "7   [1, 2]    0.8053    0.8053     0.7006     6166       1887   0.765677\n",
       "8   [1, 2]    0.9426    0.9426     0.8142     8874        552   0.941439\n",
       "9   [1, 2]    0.8265    0.8265     0.7159     6545       1720   0.791894"
      ]
     },
     "execution_count": 4,
     "metadata": {},
     "output_type": "execute_result"
    }
   ],
   "source": [
    "from metal.analysis import lf_summary\n",
    "lf_summary(data.L,data.Y)"
   ]
  },
  {
   "cell_type": "markdown",
   "metadata": {},
   "source": [
    "### Step 2: Learn Dependencies using `DependencyLearnerModel`\n",
    "**TEMP: hardcoding for now**"
   ]
  },
  {
   "cell_type": "code",
   "execution_count": 5,
   "metadata": {},
   "outputs": [],
   "source": [
    "edges = data.E\n",
    "L = np.array(data.L.todense())"
   ]
  },
  {
   "cell_type": "markdown",
   "metadata": {},
   "source": [
    "### Step 3: Recover the class balance using subset of independent LFs"
   ]
  },
  {
   "cell_type": "code",
   "execution_count": 6,
   "metadata": {},
   "outputs": [],
   "source": [
    "# Generate indices for independent LFs\n",
    "ind_lfs = []\n",
    "for i in range(M):\n",
    "    if i not in list(sum(edges, ())):\n",
    "        ind_lfs.append(i)\n",
    "L_ind = L[:,ind_lfs]"
   ]
  },
  {
   "cell_type": "code",
   "execution_count": 7,
   "metadata": {},
   "outputs": [
    {
     "name": "stdout",
     "output_type": "stream",
     "text": [
      "Estimated class balance: [0.70349216 0.2962901 ]\n",
      "True class balance: [0.7087962 0.2912038]\n",
      "\n",
      "CPU times: user 4.72 s, sys: 96 ms, total: 4.82 s\n",
      "Wall time: 1.76 s\n"
     ]
    }
   ],
   "source": [
    "%%time\n",
    "from metal.label_model.class_balance import ClassBalanceModel\n",
    "\n",
    "model = ClassBalanceModel(K, abstains=True)\n",
    "model.train_model(L=L_ind, verbose=False)\n",
    "\n",
    "print(f\"Estimated class balance: {model.class_balance}\")\n",
    "print(f\"True class balance: {class_balance}\")\n",
    "print()"
   ]
  },
  {
   "cell_type": "markdown",
   "metadata": {},
   "source": [
    "### Step 4: Train `LabelModel` and predict training labels\n",
    "**TEMP: not including constraints from Class Balance Model**"
   ]
  },
  {
   "cell_type": "code",
   "execution_count": 8,
   "metadata": {},
   "outputs": [
    {
     "name": "stdout",
     "output_type": "stream",
     "text": [
      "Computing O...\n",
      "Estimating \\mu...\n",
      "[50 epo]: TRAIN:[loss=0.017]\n",
      "[100 epo]: TRAIN:[loss=0.002]\n",
      "[150 epo]: TRAIN:[loss=0.001]\n",
      "[200 epo]: TRAIN:[loss=0.001]\n",
      "[250 epo]: TRAIN:[loss=0.001]\n",
      "[300 epo]: TRAIN:[loss=0.001]\n",
      "[350 epo]: TRAIN:[loss=0.001]\n",
      "[400 epo]: TRAIN:[loss=0.001]\n",
      "[450 epo]: TRAIN:[loss=0.001]\n",
      "[500 epo]: TRAIN:[loss=0.001]\n",
      "Finished Training\n",
      "CPU times: user 15.6 s, sys: 116 ms, total: 15.7 s\n",
      "Wall time: 671 ms\n"
     ]
    }
   ],
   "source": [
    "%%time\n",
    "from metal.label_model import LabelModel\n",
    "label_model = LabelModel(k=K, seed=123)\n",
    "\n",
    "label_model.train_model(data.L, class_balance=model.class_balance.astype(float), deps=edges, n_epochs=500, log_train_every=50)"
   ]
  },
  {
   "cell_type": "code",
   "execution_count": 9,
   "metadata": {},
   "outputs": [
    {
     "name": "stdout",
     "output_type": "stream",
     "text": [
      "Trained Label Model Metrics:\n",
      "Accuracy: 0.982\n",
      "Precision: 0.986\n",
      "Recall: 0.989\n",
      "F1: 0.987\n",
      "        y=1    y=2   \n",
      " l=1   6940    99    \n",
      " l=2    77    2884   \n"
     ]
    }
   ],
   "source": [
    "print('Trained Label Model Metrics:')\n",
    "scores = label_model.score((data.L, data.Y), metric=['accuracy','precision', 'recall', 'f1'])"
   ]
  },
  {
   "cell_type": "markdown",
   "metadata": {},
   "source": [
    "### Step 4b: Compare to MajorityVote and No Class Balance+Dependencies LabelModel\n",
    "\n",
    "**Baseline: No Class Balance or Dependencies**"
   ]
  },
  {
   "cell_type": "code",
   "execution_count": 10,
   "metadata": {},
   "outputs": [
    {
     "name": "stdout",
     "output_type": "stream",
     "text": [
      "Computing O...\n",
      "Estimating \\mu...\n",
      "[50 epo]: TRAIN:[loss=0.046]\n",
      "[100 epo]: TRAIN:[loss=0.001]\n",
      "[150 epo]: TRAIN:[loss=0.001]\n",
      "[200 epo]: TRAIN:[loss=0.001]\n",
      "[250 epo]: TRAIN:[loss=0.001]\n",
      "[300 epo]: TRAIN:[loss=0.001]\n",
      "[350 epo]: TRAIN:[loss=0.001]\n",
      "[400 epo]: TRAIN:[loss=0.001]\n",
      "[450 epo]: TRAIN:[loss=0.001]\n",
      "[500 epo]: TRAIN:[loss=0.001]\n",
      "Finished Training\n",
      "CPU times: user 12.3 s, sys: 136 ms, total: 12.4 s\n",
      "Wall time: 460 ms\n"
     ]
    }
   ],
   "source": [
    "%%time\n",
    "from metal.label_model import LabelModel\n",
    "label_model = LabelModel(k=K, seed=123)\n",
    "\n",
    "label_model.train_model(data.L, n_epochs=500, log_train_every=50)"
   ]
  },
  {
   "cell_type": "code",
   "execution_count": 11,
   "metadata": {},
   "outputs": [
    {
     "name": "stdout",
     "output_type": "stream",
     "text": [
      "Trained Label Model Metrics:\n",
      "Accuracy: 0.896\n",
      "Precision: 0.999\n",
      "Recall: 0.853\n",
      "F1: 0.920\n",
      "        y=1    y=2   \n",
      " l=1   5983     7    \n",
      " l=2   1034   2976   \n"
     ]
    }
   ],
   "source": [
    "print('Trained Label Model Metrics:')\n",
    "scores = label_model.score((data.L, data.Y), metric=['accuracy','precision', 'recall', 'f1'])"
   ]
  },
  {
   "cell_type": "markdown",
   "metadata": {},
   "source": [
    "**Baseline: Majority Vote**"
   ]
  },
  {
   "cell_type": "code",
   "execution_count": 12,
   "metadata": {},
   "outputs": [
    {
     "name": "stdout",
     "output_type": "stream",
     "text": [
      "Majority Label Voter Metrics:\n",
      "Accuracy: 0.964\n",
      "Precision: 0.984\n",
      "Recall: 0.965\n",
      "F1: 0.974\n",
      "        y=1    y=2   \n",
      " l=1   6768    108   \n",
      " l=2    249   2875   \n"
     ]
    }
   ],
   "source": [
    "from metal.label_model.baselines import MajorityLabelVoter\n",
    "\n",
    "mv = MajorityLabelVoter(seed=123)\n",
    "print('Majority Label Voter Metrics:')\n",
    "scores = mv.score((data.L, data.Y), metric=['accuracy','precision', 'recall', 'f1'])"
   ]
  },
  {
   "cell_type": "code",
   "execution_count": null,
   "metadata": {},
   "outputs": [],
   "source": []
  }
 ],
 "metadata": {
  "kernelspec": {
   "display_name": "Python [conda env:metal]",
   "language": "python",
   "name": "conda-env-metal-py"
  },
  "language_info": {
   "codemirror_mode": {
    "name": "ipython",
    "version": 3
   },
   "file_extension": ".py",
   "mimetype": "text/x-python",
   "name": "python",
   "nbconvert_exporter": "python",
   "pygments_lexer": "ipython3",
   "version": "3.6.6"
  }
 },
 "nbformat": 4,
 "nbformat_minor": 2
}
