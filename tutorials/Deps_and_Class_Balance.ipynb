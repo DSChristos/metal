{
 "cells": [
  {
   "cell_type": "code",
   "execution_count": 1,
   "metadata": {},
   "outputs": [
    {
     "name": "stdout",
     "output_type": "stream",
     "text": [
      "The autoreload extension is already loaded. To reload it, use:\n",
      "  %reload_ext autoreload\n"
     ]
    }
   ],
   "source": [
    "%matplotlib inline\n",
    "%load_ext autoreload\n",
    "%autoreload 2\n",
    "\n",
    "import sys\n",
    "sys.path.append(\"../\") # go to parent dir\n",
    "\n",
    "import numpy as np\n",
    "import torch\n",
    "from torch import nn, optim\n",
    "import matplotlib.pyplot as plt\n",
    "\n",
    "from itertools import product"
   ]
  },
  {
   "cell_type": "code",
   "execution_count": 2,
   "metadata": {},
   "outputs": [
    {
     "data": {
      "text/plain": [
       "<torch._C.Generator at 0x7faf33c1b9f0>"
      ]
     },
     "execution_count": 2,
     "metadata": {},
     "output_type": "execute_result"
    }
   ],
   "source": [
    "np.random.seed(123)\n",
    "torch.manual_seed(123)"
   ]
  },
  {
   "cell_type": "markdown",
   "metadata": {},
   "source": [
    "### Step 1: Generate Data"
   ]
  },
  {
   "cell_type": "code",
   "execution_count": 3,
   "metadata": {},
   "outputs": [
    {
     "name": "stdout",
     "output_type": "stream",
     "text": [
      "LF Dependencies: [(0, 1)]\n",
      "Class Balance: [0.55151521 0.44848479]\n"
     ]
    }
   ],
   "source": [
    "from synthetic.generate import SingleTaskTreeDepsGenerator\n",
    "\n",
    "K = 2\n",
    "M = 10\n",
    "N = 10000\n",
    "\n",
    "# Generate the true class balance to be recovered\n",
    "class_balance = np.ones(K)/K + np.random.random(K)/3.\n",
    "class_balance /= class_balance.sum()\n",
    "\n",
    "#, edges=[(0,1)]\n",
    "data = SingleTaskTreeDepsGenerator(N, M, K, class_balance, edges=[(0,1)])\n",
    "print (f\"LF Dependencies: {data.E}\")\n",
    "print (f\"Class Balance: {data.p}\")"
   ]
  },
  {
   "cell_type": "code",
   "execution_count": 4,
   "metadata": {},
   "outputs": [
    {
     "data": {
      "text/html": [
       "<div>\n",
       "<style scoped>\n",
       "    .dataframe tbody tr th:only-of-type {\n",
       "        vertical-align: middle;\n",
       "    }\n",
       "\n",
       "    .dataframe tbody tr th {\n",
       "        vertical-align: top;\n",
       "    }\n",
       "\n",
       "    .dataframe thead th {\n",
       "        text-align: right;\n",
       "    }\n",
       "</style>\n",
       "<table border=\"1\" class=\"dataframe\">\n",
       "  <thead>\n",
       "    <tr style=\"text-align: right;\">\n",
       "      <th></th>\n",
       "      <th>Polarity</th>\n",
       "      <th>Coverage</th>\n",
       "      <th>Overlaps</th>\n",
       "      <th>Conflicts</th>\n",
       "      <th>Correct</th>\n",
       "      <th>Incorrect</th>\n",
       "      <th>Emp. Acc.</th>\n",
       "    </tr>\n",
       "  </thead>\n",
       "  <tbody>\n",
       "    <tr>\n",
       "      <th>0</th>\n",
       "      <td>[1, 2]</td>\n",
       "      <td>0.8838</td>\n",
       "      <td>0.8838</td>\n",
       "      <td>0.7348</td>\n",
       "      <td>7668</td>\n",
       "      <td>1170</td>\n",
       "      <td>0.867617</td>\n",
       "    </tr>\n",
       "    <tr>\n",
       "      <th>1</th>\n",
       "      <td>[1, 2]</td>\n",
       "      <td>0.9546</td>\n",
       "      <td>0.9546</td>\n",
       "      <td>0.7919</td>\n",
       "      <td>9095</td>\n",
       "      <td>451</td>\n",
       "      <td>0.952755</td>\n",
       "    </tr>\n",
       "    <tr>\n",
       "      <th>2</th>\n",
       "      <td>[1, 2]</td>\n",
       "      <td>0.8089</td>\n",
       "      <td>0.8089</td>\n",
       "      <td>0.6776</td>\n",
       "      <td>6170</td>\n",
       "      <td>1919</td>\n",
       "      <td>0.762764</td>\n",
       "    </tr>\n",
       "    <tr>\n",
       "      <th>3</th>\n",
       "      <td>[1, 2]</td>\n",
       "      <td>0.7636</td>\n",
       "      <td>0.7636</td>\n",
       "      <td>0.6415</td>\n",
       "      <td>5310</td>\n",
       "      <td>2326</td>\n",
       "      <td>0.695390</td>\n",
       "    </tr>\n",
       "    <tr>\n",
       "      <th>4</th>\n",
       "      <td>[1, 2]</td>\n",
       "      <td>0.8361</td>\n",
       "      <td>0.8361</td>\n",
       "      <td>0.6980</td>\n",
       "      <td>6683</td>\n",
       "      <td>1678</td>\n",
       "      <td>0.799306</td>\n",
       "    </tr>\n",
       "    <tr>\n",
       "      <th>5</th>\n",
       "      <td>[1, 2]</td>\n",
       "      <td>0.8550</td>\n",
       "      <td>0.8550</td>\n",
       "      <td>0.7117</td>\n",
       "      <td>7126</td>\n",
       "      <td>1424</td>\n",
       "      <td>0.833450</td>\n",
       "    </tr>\n",
       "    <tr>\n",
       "      <th>6</th>\n",
       "      <td>[1, 2]</td>\n",
       "      <td>0.9230</td>\n",
       "      <td>0.9230</td>\n",
       "      <td>0.7657</td>\n",
       "      <td>8414</td>\n",
       "      <td>816</td>\n",
       "      <td>0.911593</td>\n",
       "    </tr>\n",
       "    <tr>\n",
       "      <th>7</th>\n",
       "      <td>[1, 2]</td>\n",
       "      <td>0.8526</td>\n",
       "      <td>0.8526</td>\n",
       "      <td>0.7105</td>\n",
       "      <td>7029</td>\n",
       "      <td>1497</td>\n",
       "      <td>0.824419</td>\n",
       "    </tr>\n",
       "    <tr>\n",
       "      <th>8</th>\n",
       "      <td>[1, 2]</td>\n",
       "      <td>0.7597</td>\n",
       "      <td>0.7597</td>\n",
       "      <td>0.6416</td>\n",
       "      <td>5237</td>\n",
       "      <td>2360</td>\n",
       "      <td>0.689351</td>\n",
       "    </tr>\n",
       "    <tr>\n",
       "      <th>9</th>\n",
       "      <td>[1, 2]</td>\n",
       "      <td>0.7497</td>\n",
       "      <td>0.7497</td>\n",
       "      <td>0.6371</td>\n",
       "      <td>5085</td>\n",
       "      <td>2412</td>\n",
       "      <td>0.678271</td>\n",
       "    </tr>\n",
       "  </tbody>\n",
       "</table>\n",
       "</div>"
      ],
      "text/plain": [
       "  Polarity  Coverage  Overlaps  Conflicts  Correct  Incorrect  Emp. Acc.\n",
       "0   [1, 2]    0.8838    0.8838     0.7348     7668       1170   0.867617\n",
       "1   [1, 2]    0.9546    0.9546     0.7919     9095        451   0.952755\n",
       "2   [1, 2]    0.8089    0.8089     0.6776     6170       1919   0.762764\n",
       "3   [1, 2]    0.7636    0.7636     0.6415     5310       2326   0.695390\n",
       "4   [1, 2]    0.8361    0.8361     0.6980     6683       1678   0.799306\n",
       "5   [1, 2]    0.8550    0.8550     0.7117     7126       1424   0.833450\n",
       "6   [1, 2]    0.9230    0.9230     0.7657     8414        816   0.911593\n",
       "7   [1, 2]    0.8526    0.8526     0.7105     7029       1497   0.824419\n",
       "8   [1, 2]    0.7597    0.7597     0.6416     5237       2360   0.689351\n",
       "9   [1, 2]    0.7497    0.7497     0.6371     5085       2412   0.678271"
      ]
     },
     "execution_count": 4,
     "metadata": {},
     "output_type": "execute_result"
    }
   ],
   "source": [
    "from metal.analysis import lf_summary\n",
    "lf_summary(data.L,data.Y)"
   ]
  },
  {
   "cell_type": "markdown",
   "metadata": {},
   "source": [
    "### Step 2: Learn Dependencies using `DependencyLearnerModel`\n",
    "**TEMP: hardcoding for now**"
   ]
  },
  {
   "cell_type": "code",
   "execution_count": 5,
   "metadata": {},
   "outputs": [],
   "source": [
    "edges = data.E\n",
    "L = np.array(data.L.todense())"
   ]
  },
  {
   "cell_type": "markdown",
   "metadata": {},
   "source": [
    "### Step 3: Recover the class balance using subset of independent LFs"
   ]
  },
  {
   "cell_type": "code",
   "execution_count": 6,
   "metadata": {},
   "outputs": [],
   "source": [
    "# Generate indices for independent LFs\n",
    "ind_lfs = []\n",
    "for i in range(M):\n",
    "    if i not in list(sum(edges, ())):\n",
    "        ind_lfs.append(i)\n",
    "L_ind = L[:,ind_lfs]"
   ]
  },
  {
   "cell_type": "code",
   "execution_count": 7,
   "metadata": {},
   "outputs": [
    {
     "name": "stdout",
     "output_type": "stream",
     "text": [
      "Estimated class balance: [0.5619966  0.43781662]\n",
      "True class balance: [0.55151521 0.44848479]\n",
      "\n",
      "CPU times: user 5.42 s, sys: 12 ms, total: 5.43 s\n",
      "Wall time: 929 ms\n"
     ]
    }
   ],
   "source": [
    "%%time\n",
    "from metal.label_model.class_balance import ClassBalanceModel\n",
    "\n",
    "cb_model = ClassBalanceModel(K, abstains=True)\n",
    "cb_model.train_model(L=L_ind, verbose=False)\n",
    "\n",
    "print(f\"Estimated class balance: {cb_model.class_balance}\")\n",
    "print(f\"True class balance: {class_balance}\")\n",
    "print()"
   ]
  },
  {
   "cell_type": "markdown",
   "metadata": {},
   "source": [
    "# Debugging"
   ]
  },
  {
   "cell_type": "markdown",
   "metadata": {},
   "source": [
    "**Model with no Class Balance Passed In**"
   ]
  },
  {
   "cell_type": "code",
   "execution_count": 8,
   "metadata": {},
   "outputs": [
    {
     "name": "stdout",
     "output_type": "stream",
     "text": [
      "Computing O^{-1}...\n",
      "Estimating Z...\n",
      "[100 epo]: TRAIN:[loss=10.870]\n",
      "[200 epo]: TRAIN:[loss=10.714]\n",
      "[300 epo]: TRAIN:[loss=10.714]\n",
      "[400 epo]: TRAIN:[loss=10.714]\n",
      "[500 epo]: TRAIN:[loss=10.714]\n",
      "Finished Training\n",
      "Estimating \\mu...\n",
      "[100 epo]: TRAIN:[loss=0.010]\n",
      "[200 epo]: TRAIN:[loss=0.005]\n",
      "[300 epo]: TRAIN:[loss=0.003]\n",
      "[400 epo]: TRAIN:[loss=0.002]\n",
      "[500 epo]: TRAIN:[loss=0.001]\n",
      "Finished Training\n",
      "\n",
      "Trained Label Model Metrics:\n",
      "Accuracy: 0.986\n",
      "Precision: 0.989\n",
      "Recall: 0.985\n",
      "F1: 0.987\n",
      "        y=1    y=2   \n",
      " l=1   5491    61    \n",
      " l=2    83    4365   \n"
     ]
    }
   ],
   "source": [
    "L = np.array(data.L.todense())\n",
    "Y = np.array(data.Y,)\n",
    "#L = np.vstack((L.T,Y)).T\n",
    "\n",
    "from metal.label_model import LabelModel\n",
    "label_model = LabelModel(verbose=True,k=K, seed=123)\n",
    "\n",
    "label_model.train_model(\n",
    "    L, \n",
    "    deps = edges,\n",
    "    lr = 1e-3,\n",
    "    n_epochs=500,\n",
    "    log_train_every=100\n",
    ")\n",
    "\n",
    "print()\n",
    "print('Trained Label Model Metrics:')\n",
    "scores = label_model.score((data.L, data.Y), metric=['accuracy','precision', 'recall', 'f1'])"
   ]
  },
  {
   "cell_type": "markdown",
   "metadata": {},
   "source": [
    "**Model with Class Balance Passed In**"
   ]
  },
  {
   "cell_type": "code",
   "execution_count": 15,
   "metadata": {},
   "outputs": [
    {
     "name": "stdout",
     "output_type": "stream",
     "text": [
      "Computing O^{-1}...\n",
      "Estimating Z...\n",
      "[100 epo]: TRAIN:[loss=10.870]\n",
      "[200 epo]: TRAIN:[loss=10.714]\n",
      "[300 epo]: TRAIN:[loss=10.714]\n",
      "[400 epo]: TRAIN:[loss=10.714]\n",
      "[500 epo]: TRAIN:[loss=10.714]\n",
      "Finished Training\n",
      "Estimating \\mu...\n",
      "[100 epo]: TRAIN:[loss=0.004]\n",
      "[200 epo]: TRAIN:[loss=0.002]\n",
      "[300 epo]: TRAIN:[loss=0.001]\n",
      "[400 epo]: TRAIN:[loss=0.001]\n",
      "[500 epo]: TRAIN:[loss=0.000]\n",
      "Finished Training\n",
      "\n",
      "Trained Label Model Metrics:\n",
      "Accuracy: 0.981\n",
      "Precision: 0.972\n",
      "Recall: 0.994\n",
      "F1: 0.983\n",
      "        y=1    y=2   \n",
      " l=1   5539    159   \n",
      " l=2    35    4267   \n"
     ]
    }
   ],
   "source": [
    "L = np.array(data.L.todense())\n",
    "Y = np.array(data.Y,)\n",
    "#L = np.vstack((L.T,Y)).T\n",
    "\n",
    "from metal.label_model import LabelModel\n",
    "label_model = LabelModel(verbose=True,k=K, seed=123)\n",
    "\n",
    "label_model.train_model(\n",
    "    L, \n",
    "    deps = edges,\n",
    "    lr = 1e-3,\n",
    "    n_epochs=500,\n",
    "    class_balance=cb_model.class_balance.astype(float),\n",
    "    log_train_every=100\n",
    ")\n",
    "\n",
    "print()\n",
    "print('Trained Label Model Metrics:')\n",
    "scores = label_model.score((data.L, data.Y), metric=['accuracy','precision', 'recall', 'f1'])"
   ]
  },
  {
   "cell_type": "markdown",
   "metadata": {},
   "source": [
    "### Step 4: Train `LabelModel` using $\\mu$ from `ClassBalanceModel`"
   ]
  },
  {
   "cell_type": "code",
   "execution_count": 16,
   "metadata": {},
   "outputs": [
    {
     "name": "stdout",
     "output_type": "stream",
     "text": [
      "Computing O^{-1}...\n",
      "Estimating Z...\n",
      "[100 epo]: TRAIN:[loss=10.870]\n",
      "[200 epo]: TRAIN:[loss=10.714]\n",
      "[300 epo]: TRAIN:[loss=10.714]\n",
      "[400 epo]: TRAIN:[loss=10.714]\n",
      "[500 epo]: TRAIN:[loss=10.714]\n",
      "Finished Training\n",
      "Estimating \\mu...\n",
      "[100 epo]: TRAIN:[loss=0.006]\n",
      "[200 epo]: TRAIN:[loss=0.003]\n",
      "[300 epo]: TRAIN:[loss=0.002]\n",
      "[400 epo]: TRAIN:[loss=0.001]\n",
      "[500 epo]: TRAIN:[loss=0.001]\n",
      "Finished Training\n",
      "\n",
      "Diff between mu and mu_init for y = 1: 0.009306653589010238\n",
      "Diff between mu and mu_init for y = 2: 0.009698057174682617\n",
      "\n",
      "CPU times: user 10.4 s, sys: 2.43 s, total: 12.8 s\n",
      "Wall time: 611 ms\n"
     ]
    }
   ],
   "source": [
    "%%time\n",
    "from metal.label_model import LabelModel\n",
    "label_model = LabelModel(verbose=True,k=K, seed=123)\n",
    "\n",
    "label_model.train_model(\n",
    "    data.L, \n",
    "    cond_probs = cb_model.cond_probs, \n",
    "    ind_lfs = ind_lfs, \n",
    "    deps = edges, \n",
    "    #class_balance = cb_model.class_balance.astype(float),\n",
    "    lr = 1e-3, \n",
    "    n_epochs = 500, \n",
    "    log_train_every = 100\n",
    ")\n",
    "\n",
    "print()\n",
    "for y in range(K):\n",
    "    mu_idx = [il*K + y for il in ind_lfs]\n",
    "    diff = np.linalg.norm(label_model.mu[mu_idx,y].detach().numpy() - \n",
    "                         label_model.mu_init[mu_idx,y].detach().numpy())/(M*1.0)\n",
    "    print(f\"Diff between mu and mu_init for y = {y+1}: {diff}\")\n",
    "print()"
   ]
  },
  {
   "cell_type": "code",
   "execution_count": 18,
   "metadata": {},
   "outputs": [
    {
     "name": "stdout",
     "output_type": "stream",
     "text": [
      "Trained Label Model Metrics:\n",
      "Accuracy: 0.985\n",
      "Precision: 0.990\n",
      "Recall: 0.983\n",
      "F1: 0.986\n",
      "        y=1    y=2   \n",
      " l=1   5477    54    \n",
      " l=2    97    4372   \n"
     ]
    }
   ],
   "source": [
    "print('Trained Label Model Metrics:')\n",
    "scores = label_model.score((data.L, data.Y), metric=['accuracy','precision', 'recall', 'f1'])"
   ]
  },
  {
   "cell_type": "markdown",
   "metadata": {},
   "source": [
    "**With $\\mu$ and `class_balance`**"
   ]
  },
  {
   "cell_type": "code",
   "execution_count": 19,
   "metadata": {},
   "outputs": [
    {
     "name": "stdout",
     "output_type": "stream",
     "text": [
      "Computing O^{-1}...\n",
      "Estimating Z...\n",
      "[100 epo]: TRAIN:[loss=10.870]\n",
      "[200 epo]: TRAIN:[loss=10.714]\n",
      "[300 epo]: TRAIN:[loss=10.714]\n",
      "[400 epo]: TRAIN:[loss=10.714]\n",
      "[500 epo]: TRAIN:[loss=10.714]\n",
      "Finished Training\n",
      "Estimating \\mu...\n",
      "[100 epo]: TRAIN:[loss=0.006]\n",
      "[200 epo]: TRAIN:[loss=0.003]\n",
      "[300 epo]: TRAIN:[loss=0.002]\n",
      "[400 epo]: TRAIN:[loss=0.001]\n",
      "[500 epo]: TRAIN:[loss=0.001]\n",
      "Finished Training\n",
      "Trained Label Model Metrics:\n",
      "Accuracy: 0.980\n",
      "Precision: 0.971\n",
      "Recall: 0.994\n",
      "F1: 0.982\n",
      "        y=1    y=2   \n",
      " l=1   5542    167   \n",
      " l=2    32    4259   \n",
      "CPU times: user 15.8 s, sys: 1.97 s, total: 17.8 s\n",
      "Wall time: 1.16 s\n"
     ]
    }
   ],
   "source": [
    "%%time\n",
    "from metal.label_model import LabelModel\n",
    "label_model = LabelModel(verbose=True,k=K, seed=123)\n",
    "\n",
    "label_model.train_model(\n",
    "    data.L, \n",
    "    cond_probs = cb_model.cond_probs, \n",
    "    ind_lfs = ind_lfs, \n",
    "    deps = edges, \n",
    "    class_balance = cb_model.class_balance.astype(float),\n",
    "    lr = 1e-3, \n",
    "    n_epochs = 500, \n",
    "    log_train_every = 100\n",
    ")\n",
    "\n",
    "print('Trained Label Model Metrics:')\n",
    "scores = label_model.score((data.L, data.Y), metric=['accuracy','precision', 'recall', 'f1'])"
   ]
  },
  {
   "cell_type": "markdown",
   "metadata": {},
   "source": [
    "**Baseline: Majority Vote**"
   ]
  },
  {
   "cell_type": "code",
   "execution_count": 20,
   "metadata": {},
   "outputs": [
    {
     "name": "stdout",
     "output_type": "stream",
     "text": [
      "Majority Label Voter Metrics:\n",
      "Accuracy: 0.978\n",
      "Precision: 0.974\n",
      "Recall: 0.987\n",
      "F1: 0.980\n",
      "        y=1    y=2   \n",
      " l=1   5500    149   \n",
      " l=2    74    4277   \n"
     ]
    }
   ],
   "source": [
    "from metal.label_model.baselines import MajorityLabelVoter\n",
    "\n",
    "mv = MajorityLabelVoter(k=K,seed=123)\n",
    "print('Majority Label Voter Metrics:')\n",
    "scores = mv.score((data.L, data.Y), metric=['accuracy','precision', 'recall', 'f1'])"
   ]
  },
  {
   "cell_type": "code",
   "execution_count": null,
   "metadata": {},
   "outputs": [],
   "source": []
  }
 ],
 "metadata": {
  "kernelspec": {
   "display_name": "Python [conda env:metal]",
   "language": "python",
   "name": "conda-env-metal-py"
  },
  "language_info": {
   "codemirror_mode": {
    "name": "ipython",
    "version": 3
   },
   "file_extension": ".py",
   "mimetype": "text/x-python",
   "name": "python",
   "nbconvert_exporter": "python",
   "pygments_lexer": "ipython3",
   "version": "3.6.6"
  }
 },
 "nbformat": 4,
 "nbformat_minor": 2
}
