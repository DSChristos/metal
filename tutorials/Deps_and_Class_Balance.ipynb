{
 "cells": [
  {
   "cell_type": "code",
   "execution_count": 1,
   "metadata": {},
   "outputs": [
    {
     "name": "stdout",
     "output_type": "stream",
     "text": [
      "The autoreload extension is already loaded. To reload it, use:\n",
      "  %reload_ext autoreload\n"
     ]
    }
   ],
   "source": [
    "%matplotlib inline\n",
    "%load_ext autoreload\n",
    "%autoreload 2\n",
    "\n",
    "import sys\n",
    "sys.path.append(\"../\") # go to parent dir\n",
    "\n",
    "import numpy as np\n",
    "import torch\n",
    "from torch import nn, optim\n",
    "import matplotlib.pyplot as plt\n",
    "\n",
    "from itertools import product"
   ]
  },
  {
   "cell_type": "code",
   "execution_count": 2,
   "metadata": {},
   "outputs": [
    {
     "data": {
      "text/plain": [
       "<torch._C.Generator at 0x7f6c22493a10>"
      ]
     },
     "execution_count": 2,
     "metadata": {},
     "output_type": "execute_result"
    }
   ],
   "source": [
    "np.random.seed(123)\n",
    "torch.manual_seed(123)"
   ]
  },
  {
   "cell_type": "markdown",
   "metadata": {},
   "source": [
    "### Step 1: Generate Data"
   ]
  },
  {
   "cell_type": "code",
   "execution_count": 3,
   "metadata": {},
   "outputs": [
    {
     "name": "stdout",
     "output_type": "stream",
     "text": [
      "LF Dependencies: [(0, 1)]\n",
      "Class Balance: [0.38057027 0.31448886 0.30494087]\n"
     ]
    }
   ],
   "source": [
    "from synthetic.generate import SingleTaskTreeDepsGenerator\n",
    "\n",
    "K = 3\n",
    "M = 10\n",
    "N = 10000\n",
    "\n",
    "# Generate the true class balance to be recovered\n",
    "class_balance = np.ones(K)/K + np.random.random(K)/5.\n",
    "class_balance /= class_balance.sum()\n",
    "\n",
    "#, edges=[(0,1)]\n",
    "data = SingleTaskTreeDepsGenerator(N, M, K, class_balance, edges=[(0,1)])\n",
    "print (f\"LF Dependencies: {data.E}\")\n",
    "print (f\"Class Balance: {data.p}\")"
   ]
  },
  {
   "cell_type": "code",
   "execution_count": 4,
   "metadata": {},
   "outputs": [
    {
     "data": {
      "text/html": [
       "<div>\n",
       "<style scoped>\n",
       "    .dataframe tbody tr th:only-of-type {\n",
       "        vertical-align: middle;\n",
       "    }\n",
       "\n",
       "    .dataframe tbody tr th {\n",
       "        vertical-align: top;\n",
       "    }\n",
       "\n",
       "    .dataframe thead th {\n",
       "        text-align: right;\n",
       "    }\n",
       "</style>\n",
       "<table border=\"1\" class=\"dataframe\">\n",
       "  <thead>\n",
       "    <tr style=\"text-align: right;\">\n",
       "      <th></th>\n",
       "      <th>Polarity</th>\n",
       "      <th>Coverage</th>\n",
       "      <th>Overlaps</th>\n",
       "      <th>Conflicts</th>\n",
       "      <th>Correct</th>\n",
       "      <th>Incorrect</th>\n",
       "      <th>Emp. Acc.</th>\n",
       "    </tr>\n",
       "  </thead>\n",
       "  <tbody>\n",
       "    <tr>\n",
       "      <th>0</th>\n",
       "      <td>[1, 2, 3]</td>\n",
       "      <td>0.9067</td>\n",
       "      <td>0.9067</td>\n",
       "      <td>0.8697</td>\n",
       "      <td>7144</td>\n",
       "      <td>1923</td>\n",
       "      <td>0.787912</td>\n",
       "    </tr>\n",
       "    <tr>\n",
       "      <th>1</th>\n",
       "      <td>[1, 2, 3]</td>\n",
       "      <td>0.8971</td>\n",
       "      <td>0.8971</td>\n",
       "      <td>0.8593</td>\n",
       "      <td>6991</td>\n",
       "      <td>1980</td>\n",
       "      <td>0.779289</td>\n",
       "    </tr>\n",
       "    <tr>\n",
       "      <th>2</th>\n",
       "      <td>[1, 2, 3]</td>\n",
       "      <td>0.8256</td>\n",
       "      <td>0.8256</td>\n",
       "      <td>0.7954</td>\n",
       "      <td>4728</td>\n",
       "      <td>3528</td>\n",
       "      <td>0.572674</td>\n",
       "    </tr>\n",
       "    <tr>\n",
       "      <th>3</th>\n",
       "      <td>[1, 2, 3]</td>\n",
       "      <td>0.8165</td>\n",
       "      <td>0.8165</td>\n",
       "      <td>0.7856</td>\n",
       "      <td>4404</td>\n",
       "      <td>3761</td>\n",
       "      <td>0.539375</td>\n",
       "    </tr>\n",
       "    <tr>\n",
       "      <th>4</th>\n",
       "      <td>[1, 2, 3]</td>\n",
       "      <td>0.9187</td>\n",
       "      <td>0.9187</td>\n",
       "      <td>0.8795</td>\n",
       "      <td>7499</td>\n",
       "      <td>1688</td>\n",
       "      <td>0.816262</td>\n",
       "    </tr>\n",
       "    <tr>\n",
       "      <th>5</th>\n",
       "      <td>[1, 2, 3]</td>\n",
       "      <td>0.8610</td>\n",
       "      <td>0.8610</td>\n",
       "      <td>0.8276</td>\n",
       "      <td>5879</td>\n",
       "      <td>2731</td>\n",
       "      <td>0.682811</td>\n",
       "    </tr>\n",
       "    <tr>\n",
       "      <th>6</th>\n",
       "      <td>[1, 2, 3]</td>\n",
       "      <td>0.8260</td>\n",
       "      <td>0.8260</td>\n",
       "      <td>0.7975</td>\n",
       "      <td>4820</td>\n",
       "      <td>3440</td>\n",
       "      <td>0.583535</td>\n",
       "    </tr>\n",
       "    <tr>\n",
       "      <th>7</th>\n",
       "      <td>[1, 2, 3]</td>\n",
       "      <td>0.8526</td>\n",
       "      <td>0.8526</td>\n",
       "      <td>0.8191</td>\n",
       "      <td>5619</td>\n",
       "      <td>2907</td>\n",
       "      <td>0.659043</td>\n",
       "    </tr>\n",
       "    <tr>\n",
       "      <th>8</th>\n",
       "      <td>[1, 2, 3]</td>\n",
       "      <td>0.9076</td>\n",
       "      <td>0.9076</td>\n",
       "      <td>0.8702</td>\n",
       "      <td>7214</td>\n",
       "      <td>1862</td>\n",
       "      <td>0.794844</td>\n",
       "    </tr>\n",
       "    <tr>\n",
       "      <th>9</th>\n",
       "      <td>[1, 2, 3]</td>\n",
       "      <td>0.8300</td>\n",
       "      <td>0.8300</td>\n",
       "      <td>0.7970</td>\n",
       "      <td>5033</td>\n",
       "      <td>3267</td>\n",
       "      <td>0.606386</td>\n",
       "    </tr>\n",
       "  </tbody>\n",
       "</table>\n",
       "</div>"
      ],
      "text/plain": [
       "    Polarity  Coverage  Overlaps  Conflicts  Correct  Incorrect  Emp. Acc.\n",
       "0  [1, 2, 3]    0.9067    0.9067     0.8697     7144       1923   0.787912\n",
       "1  [1, 2, 3]    0.8971    0.8971     0.8593     6991       1980   0.779289\n",
       "2  [1, 2, 3]    0.8256    0.8256     0.7954     4728       3528   0.572674\n",
       "3  [1, 2, 3]    0.8165    0.8165     0.7856     4404       3761   0.539375\n",
       "4  [1, 2, 3]    0.9187    0.9187     0.8795     7499       1688   0.816262\n",
       "5  [1, 2, 3]    0.8610    0.8610     0.8276     5879       2731   0.682811\n",
       "6  [1, 2, 3]    0.8260    0.8260     0.7975     4820       3440   0.583535\n",
       "7  [1, 2, 3]    0.8526    0.8526     0.8191     5619       2907   0.659043\n",
       "8  [1, 2, 3]    0.9076    0.9076     0.8702     7214       1862   0.794844\n",
       "9  [1, 2, 3]    0.8300    0.8300     0.7970     5033       3267   0.606386"
      ]
     },
     "execution_count": 4,
     "metadata": {},
     "output_type": "execute_result"
    }
   ],
   "source": [
    "from metal.analysis import lf_summary\n",
    "lf_summary(data.L,data.Y)"
   ]
  },
  {
   "cell_type": "markdown",
   "metadata": {},
   "source": [
    "### Step 2: Learn Dependencies using `DependencyLearnerModel`\n",
    "**TEMP: hardcoding for now**"
   ]
  },
  {
   "cell_type": "code",
   "execution_count": 5,
   "metadata": {},
   "outputs": [],
   "source": [
    "edges = data.E\n",
    "L = np.array(data.L.todense())"
   ]
  },
  {
   "cell_type": "markdown",
   "metadata": {},
   "source": [
    "### Step 3: Recover the class balance using subset of independent LFs"
   ]
  },
  {
   "cell_type": "code",
   "execution_count": 6,
   "metadata": {},
   "outputs": [],
   "source": [
    "# Generate indices for independent LFs\n",
    "ind_lfs = []\n",
    "for i in range(M):\n",
    "    if i not in list(sum(edges, ())):\n",
    "        ind_lfs.append(i)\n",
    "L_ind = L[:,ind_lfs]"
   ]
  },
  {
   "cell_type": "code",
   "execution_count": 7,
   "metadata": {},
   "outputs": [
    {
     "name": "stdout",
     "output_type": "stream",
     "text": [
      "Estimated class balance: [0.38704416 0.319095   0.2936667 ]\n",
      "True class balance: [0.38057027 0.31448886 0.30494087]\n",
      "\n",
      "CPU times: user 10.6 s, sys: 72 ms, total: 10.7 s\n",
      "Wall time: 2.51 s\n"
     ]
    }
   ],
   "source": [
    "%%time\n",
    "from metal.label_model.class_balance import ClassBalanceModel\n",
    "\n",
    "cb_model = ClassBalanceModel(K, abstains=True)\n",
    "cb_model.train_model(L=L_ind, verbose=False)\n",
    "\n",
    "print(f\"Estimated class balance: {cb_model.class_balance}\")\n",
    "print(f\"True class balance: {class_balance}\")\n",
    "print()"
   ]
  },
  {
   "cell_type": "markdown",
   "metadata": {},
   "source": [
    "### Step 4: Train `LabelModel` using $\\mu$ from `ClassBalanceModel`"
   ]
  },
  {
   "cell_type": "code",
   "execution_count": 30,
   "metadata": {
    "scrolled": true
   },
   "outputs": [
    {
     "name": "stdout",
     "output_type": "stream",
     "text": [
      "Computing O^{-1}...\n",
      "Estimating Z...\n",
      "[500 epo]: TRAIN:[loss=72.772]\n",
      "[1000 epo]: TRAIN:[loss=71.906]\n",
      "Finished Training\n",
      "Estimating \\mu...\n",
      "[500 epo]: TRAIN:[loss=0.573]\n",
      "[1000 epo]: TRAIN:[loss=0.573]\n",
      "Finished Training\n",
      "\n",
      "Diff between mu and mu_init for y = 1: 0.006093572080135346\n",
      "Diff between mu and mu_init for y = 2: 0.014665958285331727\n",
      "Diff between mu and mu_init for y = 3: 0.006208213046193123\n",
      "\n",
      "CPU times: user 30.4 s, sys: 2.92 s, total: 33.3 s\n",
      "Wall time: 2.02 s\n"
     ]
    }
   ],
   "source": [
    "%%time\n",
    "from metal.label_model import LabelModel\n",
    "label_model = LabelModel(verbose=True,k=K, seed=123)\n",
    "\n",
    "label_model.train_model(\n",
    "    data.L, \n",
    "    cond_probs = cb_model.cond_probs, \n",
    "    ind_lfs = ind_lfs, \n",
    "    deps = edges, \n",
    "    #class_balance = cb_model.class_balance.astype(float),\n",
    "    lr = 1e-3, \n",
    "    n_epochs = 1000, \n",
    "    log_train_every = 500,\n",
    "    l2=5e-1\n",
    ")\n",
    "\n",
    "print()\n",
    "for y in range(K):\n",
    "    mu_idx = [il*K + y for il in ind_lfs]\n",
    "    diff = np.linalg.norm(label_model.mu[mu_idx,y].detach().numpy() - \n",
    "                         label_model.mu_init[mu_idx,y].detach().numpy())/(M*1.0)\n",
    "    print(f\"Diff between mu and mu_init for y = {y+1}: {diff}\")\n",
    "print()"
   ]
  },
  {
   "cell_type": "code",
   "execution_count": 31,
   "metadata": {},
   "outputs": [
    {
     "name": "stdout",
     "output_type": "stream",
     "text": [
      "Trained Label Model Metrics:\n",
      "Accuracy: 0.951\n",
      "Precision: 0.942\n",
      "Recall: 0.962\n",
      "F1: 0.952\n",
      "        y=1    y=2    y=3   \n",
      " l=1   3686    166    59    \n",
      " l=2    52    2947    29    \n",
      " l=3    93     88    2880   \n"
     ]
    }
   ],
   "source": [
    "print('Trained Label Model Metrics:')\n",
    "scores = label_model.score((data.L, data.Y), metric=['accuracy','precision', 'recall', 'f1'])"
   ]
  },
  {
   "cell_type": "markdown",
   "metadata": {},
   "source": [
    "### Step 4b: Compare to MajorityVote and No Class Balance+Dependencies LabelModel\n",
    "\n",
    "**Baseline: No Class Balance or Dependencies**"
   ]
  },
  {
   "cell_type": "code",
   "execution_count": 10,
   "metadata": {},
   "outputs": [
    {
     "name": "stdout",
     "output_type": "stream",
     "text": [
      "Computing O...\n",
      "Estimating \\mu...\n",
      "[50 epo]: TRAIN:[loss=0.150]\n",
      "[100 epo]: TRAIN:[loss=0.058]\n",
      "[150 epo]: TRAIN:[loss=0.029]\n",
      "[200 epo]: TRAIN:[loss=0.017]\n",
      "[250 epo]: TRAIN:[loss=0.013]\n",
      "[300 epo]: TRAIN:[loss=0.011]\n",
      "[350 epo]: TRAIN:[loss=0.010]\n",
      "[400 epo]: TRAIN:[loss=0.009]\n",
      "[450 epo]: TRAIN:[loss=0.009]\n",
      "[500 epo]: TRAIN:[loss=0.009]\n",
      "Finished Training\n",
      "CPU times: user 11.8 s, sys: 92 ms, total: 11.9 s\n",
      "Wall time: 432 ms\n"
     ]
    }
   ],
   "source": [
    "%%time\n",
    "from metal.label_model import LabelModel\n",
    "label_model = LabelModel(k=K, seed=123)\n",
    "\n",
    "label_model.train_model(data.L, lr=1e-3, n_epochs=500, log_train_every=50)"
   ]
  },
  {
   "cell_type": "code",
   "execution_count": 11,
   "metadata": {},
   "outputs": [
    {
     "name": "stdout",
     "output_type": "stream",
     "text": [
      "Trained Label Model Metrics:\n",
      "Accuracy: 0.955\n",
      "Precision: 0.956\n",
      "Recall: 0.957\n",
      "F1: 0.957\n",
      "        y=1    y=2    y=3   \n",
      " l=1   3668    131    36    \n",
      " l=2    68    2978    25    \n",
      " l=3    95     92    2907   \n"
     ]
    }
   ],
   "source": [
    "print('Trained Label Model Metrics:')\n",
    "scores = label_model.score((data.L, data.Y), metric=['accuracy','precision', 'recall', 'f1'])"
   ]
  },
  {
   "cell_type": "markdown",
   "metadata": {},
   "source": [
    "**Baseline: Majority Vote**"
   ]
  },
  {
   "cell_type": "code",
   "execution_count": 12,
   "metadata": {},
   "outputs": [
    {
     "name": "stdout",
     "output_type": "stream",
     "text": [
      "Majority Label Voter Metrics:\n",
      "Accuracy: 0.944\n",
      "Precision: 0.951\n",
      "Recall: 0.950\n",
      "F1: 0.951\n",
      "        y=1    y=2    y=3   \n",
      " l=1   3640    134    52    \n",
      " l=2    90    2937    51    \n",
      " l=3    101    130   2865   \n"
     ]
    }
   ],
   "source": [
    "from metal.label_model.baselines import MajorityLabelVoter\n",
    "\n",
    "mv = MajorityLabelVoter(k=K,seed=123)\n",
    "print('Majority Label Voter Metrics:')\n",
    "scores = mv.score((data.L, data.Y), metric=['accuracy','precision', 'recall', 'f1'])"
   ]
  },
  {
   "cell_type": "code",
   "execution_count": null,
   "metadata": {},
   "outputs": [],
   "source": []
  }
 ],
 "metadata": {
  "kernelspec": {
   "display_name": "Python [conda env:metal]",
   "language": "python",
   "name": "conda-env-metal-py"
  },
  "language_info": {
   "codemirror_mode": {
    "name": "ipython",
    "version": 3
   },
   "file_extension": ".py",
   "mimetype": "text/x-python",
   "name": "python",
   "nbconvert_exporter": "python",
   "pygments_lexer": "ipython3",
   "version": "3.6.6"
  }
 },
 "nbformat": 4,
 "nbformat_minor": 2
}
