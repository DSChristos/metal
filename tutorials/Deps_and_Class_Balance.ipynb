{
 "cells": [
  {
   "cell_type": "code",
   "execution_count": 1,
   "metadata": {},
   "outputs": [
    {
     "name": "stdout",
     "output_type": "stream",
     "text": [
      "The autoreload extension is already loaded. To reload it, use:\n",
      "  %reload_ext autoreload\n"
     ]
    }
   ],
   "source": [
    "%matplotlib inline\n",
    "%load_ext autoreload\n",
    "%autoreload 2\n",
    "\n",
    "import sys\n",
    "sys.path.append(\"../\") # go to parent dir\n",
    "\n",
    "import numpy as np\n",
    "import torch\n",
    "from torch import nn, optim\n",
    "import matplotlib.pyplot as plt\n",
    "\n",
    "from itertools import product"
   ]
  },
  {
   "cell_type": "code",
   "execution_count": 2,
   "metadata": {},
   "outputs": [
    {
     "data": {
      "text/plain": [
       "<torch._C.Generator at 0x7f1353238a70>"
      ]
     },
     "execution_count": 2,
     "metadata": {},
     "output_type": "execute_result"
    }
   ],
   "source": [
    "np.random.seed(123)\n",
    "torch.manual_seed(123)"
   ]
  },
  {
   "cell_type": "markdown",
   "metadata": {},
   "source": [
    "### Step 1: Generate Data"
   ]
  },
  {
   "cell_type": "code",
   "execution_count": 3,
   "metadata": {},
   "outputs": [
    {
     "name": "stdout",
     "output_type": "stream",
     "text": [
      "LF Dependencies: [(0, 1)]\n",
      "Class Balance: [0.53429356 0.46570644]\n"
     ]
    }
   ],
   "source": [
    "from synthetic.generate import SingleTaskTreeDepsGenerator\n",
    "\n",
    "K = 2\n",
    "M = 10\n",
    "N = 10000\n",
    "\n",
    "# Generate the true class balance to be recovered\n",
    "class_balance = np.ones(K)/K + np.random.random(K)/5.\n",
    "class_balance /= class_balance.sum()\n",
    "\n",
    "data = SingleTaskTreeDepsGenerator(N, M, K, class_balance, edges=[(0,1)])\n",
    "print (f\"LF Dependencies: {data.E}\")\n",
    "print (f\"Class Balance: {data.p}\")"
   ]
  },
  {
   "cell_type": "code",
   "execution_count": 4,
   "metadata": {},
   "outputs": [
    {
     "data": {
      "text/html": [
       "<div>\n",
       "<style scoped>\n",
       "    .dataframe tbody tr th:only-of-type {\n",
       "        vertical-align: middle;\n",
       "    }\n",
       "\n",
       "    .dataframe tbody tr th {\n",
       "        vertical-align: top;\n",
       "    }\n",
       "\n",
       "    .dataframe thead th {\n",
       "        text-align: right;\n",
       "    }\n",
       "</style>\n",
       "<table border=\"1\" class=\"dataframe\">\n",
       "  <thead>\n",
       "    <tr style=\"text-align: right;\">\n",
       "      <th></th>\n",
       "      <th>Polarity</th>\n",
       "      <th>Coverage</th>\n",
       "      <th>Overlaps</th>\n",
       "      <th>Conflicts</th>\n",
       "      <th>Correct</th>\n",
       "      <th>Incorrect</th>\n",
       "      <th>Emp. Acc.</th>\n",
       "    </tr>\n",
       "  </thead>\n",
       "  <tbody>\n",
       "    <tr>\n",
       "      <th>0</th>\n",
       "      <td>[1, 2]</td>\n",
       "      <td>0.8843</td>\n",
       "      <td>0.8843</td>\n",
       "      <td>0.7355</td>\n",
       "      <td>7692</td>\n",
       "      <td>1151</td>\n",
       "      <td>0.869841</td>\n",
       "    </tr>\n",
       "    <tr>\n",
       "      <th>1</th>\n",
       "      <td>[1, 2]</td>\n",
       "      <td>0.9542</td>\n",
       "      <td>0.9542</td>\n",
       "      <td>0.7918</td>\n",
       "      <td>9091</td>\n",
       "      <td>451</td>\n",
       "      <td>0.952735</td>\n",
       "    </tr>\n",
       "    <tr>\n",
       "      <th>2</th>\n",
       "      <td>[1, 2]</td>\n",
       "      <td>0.8087</td>\n",
       "      <td>0.8087</td>\n",
       "      <td>0.6780</td>\n",
       "      <td>6158</td>\n",
       "      <td>1929</td>\n",
       "      <td>0.761469</td>\n",
       "    </tr>\n",
       "    <tr>\n",
       "      <th>3</th>\n",
       "      <td>[1, 2]</td>\n",
       "      <td>0.7613</td>\n",
       "      <td>0.7613</td>\n",
       "      <td>0.6401</td>\n",
       "      <td>5253</td>\n",
       "      <td>2360</td>\n",
       "      <td>0.690004</td>\n",
       "    </tr>\n",
       "    <tr>\n",
       "      <th>4</th>\n",
       "      <td>[1, 2]</td>\n",
       "      <td>0.8327</td>\n",
       "      <td>0.8327</td>\n",
       "      <td>0.6957</td>\n",
       "      <td>6613</td>\n",
       "      <td>1714</td>\n",
       "      <td>0.794164</td>\n",
       "    </tr>\n",
       "    <tr>\n",
       "      <th>5</th>\n",
       "      <td>[1, 2]</td>\n",
       "      <td>0.8550</td>\n",
       "      <td>0.8550</td>\n",
       "      <td>0.7121</td>\n",
       "      <td>7130</td>\n",
       "      <td>1420</td>\n",
       "      <td>0.833918</td>\n",
       "    </tr>\n",
       "    <tr>\n",
       "      <th>6</th>\n",
       "      <td>[1, 2]</td>\n",
       "      <td>0.9227</td>\n",
       "      <td>0.9227</td>\n",
       "      <td>0.7657</td>\n",
       "      <td>8407</td>\n",
       "      <td>820</td>\n",
       "      <td>0.911130</td>\n",
       "    </tr>\n",
       "    <tr>\n",
       "      <th>7</th>\n",
       "      <td>[1, 2]</td>\n",
       "      <td>0.8504</td>\n",
       "      <td>0.8504</td>\n",
       "      <td>0.7091</td>\n",
       "      <td>6968</td>\n",
       "      <td>1536</td>\n",
       "      <td>0.819379</td>\n",
       "    </tr>\n",
       "    <tr>\n",
       "      <th>8</th>\n",
       "      <td>[1, 2]</td>\n",
       "      <td>0.7603</td>\n",
       "      <td>0.7603</td>\n",
       "      <td>0.6417</td>\n",
       "      <td>5242</td>\n",
       "      <td>2361</td>\n",
       "      <td>0.689465</td>\n",
       "    </tr>\n",
       "    <tr>\n",
       "      <th>9</th>\n",
       "      <td>[1, 2]</td>\n",
       "      <td>0.7525</td>\n",
       "      <td>0.7525</td>\n",
       "      <td>0.6392</td>\n",
       "      <td>5120</td>\n",
       "      <td>2405</td>\n",
       "      <td>0.680399</td>\n",
       "    </tr>\n",
       "  </tbody>\n",
       "</table>\n",
       "</div>"
      ],
      "text/plain": [
       "  Polarity  Coverage  Overlaps  Conflicts  Correct  Incorrect  Emp. Acc.\n",
       "0   [1, 2]    0.8843    0.8843     0.7355     7692       1151   0.869841\n",
       "1   [1, 2]    0.9542    0.9542     0.7918     9091        451   0.952735\n",
       "2   [1, 2]    0.8087    0.8087     0.6780     6158       1929   0.761469\n",
       "3   [1, 2]    0.7613    0.7613     0.6401     5253       2360   0.690004\n",
       "4   [1, 2]    0.8327    0.8327     0.6957     6613       1714   0.794164\n",
       "5   [1, 2]    0.8550    0.8550     0.7121     7130       1420   0.833918\n",
       "6   [1, 2]    0.9227    0.9227     0.7657     8407        820   0.911130\n",
       "7   [1, 2]    0.8504    0.8504     0.7091     6968       1536   0.819379\n",
       "8   [1, 2]    0.7603    0.7603     0.6417     5242       2361   0.689465\n",
       "9   [1, 2]    0.7525    0.7525     0.6392     5120       2405   0.680399"
      ]
     },
     "execution_count": 4,
     "metadata": {},
     "output_type": "execute_result"
    }
   ],
   "source": [
    "from metal.analysis import lf_summary\n",
    "lf_summary(data.L,data.Y)"
   ]
  },
  {
   "cell_type": "markdown",
   "metadata": {},
   "source": [
    "### Step 2: Learn Dependencies using `DependencyLearnerModel`\n",
    "**TEMP: hardcoding for now**"
   ]
  },
  {
   "cell_type": "code",
   "execution_count": 5,
   "metadata": {},
   "outputs": [],
   "source": [
    "edges = data.E\n",
    "L = np.array(data.L.todense())"
   ]
  },
  {
   "cell_type": "markdown",
   "metadata": {},
   "source": [
    "### Step 3: Recover the class balance using subset of independent LFs"
   ]
  },
  {
   "cell_type": "code",
   "execution_count": 6,
   "metadata": {},
   "outputs": [],
   "source": [
    "# Generate indices for independent LFs\n",
    "ind_lfs = []\n",
    "for i in range(M):\n",
    "    if i not in list(sum(edges, ())):\n",
    "        ind_lfs.append(i)\n",
    "L_ind = L[:,ind_lfs]"
   ]
  },
  {
   "cell_type": "code",
   "execution_count": 7,
   "metadata": {},
   "outputs": [
    {
     "name": "stdout",
     "output_type": "stream",
     "text": [
      "Estimated class balance: [0.5445712 0.4551824]\n",
      "True class balance: [0.53429356 0.46570644]\n",
      "\n",
      "CPU times: user 4.14 s, sys: 148 ms, total: 4.29 s\n",
      "Wall time: 1.09 s\n"
     ]
    }
   ],
   "source": [
    "%%time\n",
    "from metal.label_model.class_balance import ClassBalanceModel\n",
    "\n",
    "cb_model = ClassBalanceModel(K, abstains=True)\n",
    "cb_model.train_model(L=L_ind, verbose=False)\n",
    "\n",
    "print(f\"Estimated class balance: {cb_model.class_balance}\")\n",
    "print(f\"True class balance: {class_balance}\")\n",
    "print()"
   ]
  },
  {
   "cell_type": "markdown",
   "metadata": {},
   "source": [
    "### Step 4: Train `LabelModel` using $\\mu$ from `ClassBalanceModel`"
   ]
  },
  {
   "cell_type": "code",
   "execution_count": 8,
   "metadata": {},
   "outputs": [
    {
     "name": "stdout",
     "output_type": "stream",
     "text": [
      "Computing O^{-1}...\n",
      "Estimating Z...\n",
      "[100 epo]: TRAIN:[loss=12.277]\n",
      "[200 epo]: TRAIN:[loss=12.142]\n",
      "[300 epo]: TRAIN:[loss=12.141]\n",
      "[400 epo]: TRAIN:[loss=12.141]\n",
      "[500 epo]: TRAIN:[loss=12.141]\n",
      "Finished Training\n",
      "Estimating \\mu...\n",
      "[100 epo]: TRAIN:[loss=0.008]\n",
      "[200 epo]: TRAIN:[loss=0.003]\n",
      "[300 epo]: TRAIN:[loss=0.002]\n",
      "[400 epo]: TRAIN:[loss=0.001]\n",
      "[500 epo]: TRAIN:[loss=0.000]\n",
      "Finished Training\n",
      "\n",
      "Error between mu and mu_init for y = 0: 0.008222036063671112\n",
      "Error between mu and mu_init for y = 1: 0.0076375149190425875\n",
      "\n",
      "CPU times: user 13.2 s, sys: 2.96 s, total: 16.2 s\n",
      "Wall time: 847 ms\n"
     ]
    }
   ],
   "source": [
    "%%time\n",
    "from metal.label_model import LabelModel\n",
    "label_model = LabelModel(verbose=True,k=K, seed=123)\n",
    "\n",
    "label_model.train_model(\n",
    "    data.L, \n",
    "    cond_probs = cb_model.cond_probs, \n",
    "    ind_lfs = ind_lfs, \n",
    "    deps = edges, \n",
    "    lr = 1e-3, \n",
    "    n_epochs = 500, \n",
    "    log_train_every = 100\n",
    ")\n",
    "\n",
    "print()\n",
    "for y in range(K):\n",
    "    mu_idx = [il*K + y for il in ind_lfs]\n",
    "    err = np.linalg.norm(label_model.mu[mu_idx,:].detach().numpy() - cb_model.cond_probs[:,y+1,:])/(M*1.0)\n",
    "    print(f\"Error between mu and mu_init for y = {y}: {err}\")\n",
    "print()"
   ]
  },
  {
   "cell_type": "code",
   "execution_count": 9,
   "metadata": {},
   "outputs": [
    {
     "name": "stdout",
     "output_type": "stream",
     "text": [
      "Trained Label Model Metrics:\n",
      "Accuracy: 0.985\n",
      "Precision: 0.986\n",
      "Recall: 0.986\n",
      "F1: 0.986\n",
      "        y=1    y=2   \n",
      " l=1   5314    75    \n",
      " l=2    76    4535   \n"
     ]
    }
   ],
   "source": [
    "print('Trained Label Model Metrics:')\n",
    "scores = label_model.score((data.L, data.Y), metric=['accuracy','precision', 'recall', 'f1'])"
   ]
  },
  {
   "cell_type": "markdown",
   "metadata": {},
   "source": [
    "### Step 4b: Compare to MajorityVote and No Class Balance+Dependencies LabelModel\n",
    "\n",
    "**Baseline: No Class Balance or Dependencies**"
   ]
  },
  {
   "cell_type": "code",
   "execution_count": 10,
   "metadata": {},
   "outputs": [
    {
     "name": "stdout",
     "output_type": "stream",
     "text": [
      "Computing O...\n",
      "Estimating \\mu...\n",
      "[50 epo]: TRAIN:[loss=0.107]\n",
      "[100 epo]: TRAIN:[loss=0.012]\n",
      "[150 epo]: TRAIN:[loss=0.007]\n",
      "[200 epo]: TRAIN:[loss=0.006]\n",
      "[250 epo]: TRAIN:[loss=0.006]\n",
      "[300 epo]: TRAIN:[loss=0.005]\n",
      "[350 epo]: TRAIN:[loss=0.005]\n",
      "[400 epo]: TRAIN:[loss=0.004]\n",
      "[450 epo]: TRAIN:[loss=0.004]\n",
      "[500 epo]: TRAIN:[loss=0.004]\n",
      "Finished Training\n",
      "CPU times: user 14.2 s, sys: 124 ms, total: 14.3 s\n",
      "Wall time: 528 ms\n"
     ]
    }
   ],
   "source": [
    "%%time\n",
    "from metal.label_model import LabelModel\n",
    "label_model = LabelModel(k=K, seed=123)\n",
    "\n",
    "label_model.train_model(data.L, lr=1e-3, n_epochs=500, log_train_every=50)"
   ]
  },
  {
   "cell_type": "code",
   "execution_count": 11,
   "metadata": {},
   "outputs": [
    {
     "name": "stdout",
     "output_type": "stream",
     "text": [
      "Trained Label Model Metrics:\n",
      "Accuracy: 0.982\n",
      "Precision: 0.984\n",
      "Recall: 0.983\n",
      "F1: 0.984\n",
      "        y=1    y=2   \n",
      " l=1   5297    84    \n",
      " l=2    93    4526   \n"
     ]
    }
   ],
   "source": [
    "print('Trained Label Model Metrics:')\n",
    "scores = label_model.score((data.L, data.Y), metric=['accuracy','precision', 'recall', 'f1'])"
   ]
  },
  {
   "cell_type": "markdown",
   "metadata": {},
   "source": [
    "**Baseline: Majority Vote**"
   ]
  },
  {
   "cell_type": "code",
   "execution_count": 12,
   "metadata": {},
   "outputs": [
    {
     "name": "stdout",
     "output_type": "stream",
     "text": [
      "Majority Label Voter Metrics:\n",
      "Accuracy: 0.978\n",
      "Precision: 0.971\n",
      "Recall: 0.988\n",
      "F1: 0.979\n",
      "        y=1    y=2   \n",
      " l=1   5323    157   \n",
      " l=2    67    4453   \n"
     ]
    }
   ],
   "source": [
    "from metal.label_model.baselines import MajorityLabelVoter\n",
    "\n",
    "mv = MajorityLabelVoter(k=K,seed=123)\n",
    "print('Majority Label Voter Metrics:')\n",
    "scores = mv.score((data.L, data.Y), metric=['accuracy','precision', 'recall', 'f1'])"
   ]
  },
  {
   "cell_type": "code",
   "execution_count": null,
   "metadata": {},
   "outputs": [],
   "source": []
  }
 ],
 "metadata": {
  "kernelspec": {
   "display_name": "Python [conda env:metal]",
   "language": "python",
   "name": "conda-env-metal-py"
  },
  "language_info": {
   "codemirror_mode": {
    "name": "ipython",
    "version": 3
   },
   "file_extension": ".py",
   "mimetype": "text/x-python",
   "name": "python",
   "nbconvert_exporter": "python",
   "pygments_lexer": "ipython3",
   "version": "3.6.6"
  }
 },
 "nbformat": 4,
 "nbformat_minor": 2
}
