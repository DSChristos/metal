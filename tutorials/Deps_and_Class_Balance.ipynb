{
 "cells": [
  {
   "cell_type": "code",
   "execution_count": 1,
   "metadata": {},
   "outputs": [
    {
     "name": "stdout",
     "output_type": "stream",
     "text": [
      "The autoreload extension is already loaded. To reload it, use:\n",
      "  %reload_ext autoreload\n"
     ]
    }
   ],
   "source": [
    "%matplotlib inline\n",
    "%load_ext autoreload\n",
    "%autoreload 2\n",
    "\n",
    "import sys\n",
    "sys.path.append(\"../\") # go to parent dir\n",
    "\n",
    "import numpy as np\n",
    "import torch\n",
    "from torch import nn, optim\n",
    "import matplotlib.pyplot as plt\n",
    "\n",
    "from itertools import product"
   ]
  },
  {
   "cell_type": "code",
   "execution_count": 2,
   "metadata": {},
   "outputs": [
    {
     "data": {
      "text/plain": [
       "<torch._C.Generator at 0x7f800029f9f0>"
      ]
     },
     "execution_count": 2,
     "metadata": {},
     "output_type": "execute_result"
    }
   ],
   "source": [
    "np.random.seed(123)\n",
    "torch.manual_seed(123)"
   ]
  },
  {
   "cell_type": "markdown",
   "metadata": {},
   "source": [
    "### Step 1: Generate Data"
   ]
  },
  {
   "cell_type": "code",
   "execution_count": 5,
   "metadata": {},
   "outputs": [
    {
     "name": "stdout",
     "output_type": "stream",
     "text": [
      "LF Dependencies: [(0, 1)]\n",
      "Class Balance: [0.47192333 0.52807667]\n"
     ]
    }
   ],
   "source": [
    "from synthetic.generate import SingleTaskTreeDepsGenerator\n",
    "\n",
    "K = 2\n",
    "M = 10\n",
    "N = 10000\n",
    "\n",
    "# Generate the true class balance to be recovered\n",
    "class_balance = np.ones(K)/K + np.random.random(K)/5.\n",
    "class_balance /= class_balance.sum()\n",
    "\n",
    "data = SingleTaskTreeDepsGenerator(N, M, K, class_balance, edges=[(0,1)])\n",
    "print (f\"LF Dependencies: {data.E}\")\n",
    "print (f\"Class Balance: {data.p}\")"
   ]
  },
  {
   "cell_type": "code",
   "execution_count": 6,
   "metadata": {},
   "outputs": [
    {
     "data": {
      "text/html": [
       "<div>\n",
       "<style scoped>\n",
       "    .dataframe tbody tr th:only-of-type {\n",
       "        vertical-align: middle;\n",
       "    }\n",
       "\n",
       "    .dataframe tbody tr th {\n",
       "        vertical-align: top;\n",
       "    }\n",
       "\n",
       "    .dataframe thead th {\n",
       "        text-align: right;\n",
       "    }\n",
       "</style>\n",
       "<table border=\"1\" class=\"dataframe\">\n",
       "  <thead>\n",
       "    <tr style=\"text-align: right;\">\n",
       "      <th></th>\n",
       "      <th>Polarity</th>\n",
       "      <th>Coverage</th>\n",
       "      <th>Overlaps</th>\n",
       "      <th>Conflicts</th>\n",
       "      <th>Correct</th>\n",
       "      <th>Incorrect</th>\n",
       "      <th>Emp. Acc.</th>\n",
       "    </tr>\n",
       "  </thead>\n",
       "  <tbody>\n",
       "    <tr>\n",
       "      <th>0</th>\n",
       "      <td>[1, 2]</td>\n",
       "      <td>0.8958</td>\n",
       "      <td>0.8958</td>\n",
       "      <td>0.7156</td>\n",
       "      <td>7865</td>\n",
       "      <td>1093</td>\n",
       "      <td>0.877986</td>\n",
       "    </tr>\n",
       "    <tr>\n",
       "      <th>1</th>\n",
       "      <td>[1, 2]</td>\n",
       "      <td>0.8937</td>\n",
       "      <td>0.8937</td>\n",
       "      <td>0.7139</td>\n",
       "      <td>7865</td>\n",
       "      <td>1072</td>\n",
       "      <td>0.880049</td>\n",
       "    </tr>\n",
       "    <tr>\n",
       "      <th>2</th>\n",
       "      <td>[1, 2]</td>\n",
       "      <td>0.8657</td>\n",
       "      <td>0.8657</td>\n",
       "      <td>0.6972</td>\n",
       "      <td>7272</td>\n",
       "      <td>1385</td>\n",
       "      <td>0.840014</td>\n",
       "    </tr>\n",
       "    <tr>\n",
       "      <th>3</th>\n",
       "      <td>[1, 2]</td>\n",
       "      <td>0.8609</td>\n",
       "      <td>0.8609</td>\n",
       "      <td>0.6882</td>\n",
       "      <td>7248</td>\n",
       "      <td>1361</td>\n",
       "      <td>0.841910</td>\n",
       "    </tr>\n",
       "    <tr>\n",
       "      <th>4</th>\n",
       "      <td>[1, 2]</td>\n",
       "      <td>0.7973</td>\n",
       "      <td>0.7973</td>\n",
       "      <td>0.6479</td>\n",
       "      <td>5945</td>\n",
       "      <td>2028</td>\n",
       "      <td>0.745642</td>\n",
       "    </tr>\n",
       "    <tr>\n",
       "      <th>5</th>\n",
       "      <td>[1, 2]</td>\n",
       "      <td>0.9077</td>\n",
       "      <td>0.9077</td>\n",
       "      <td>0.7261</td>\n",
       "      <td>8199</td>\n",
       "      <td>878</td>\n",
       "      <td>0.903272</td>\n",
       "    </tr>\n",
       "    <tr>\n",
       "      <th>6</th>\n",
       "      <td>[1, 2]</td>\n",
       "      <td>0.8914</td>\n",
       "      <td>0.8914</td>\n",
       "      <td>0.7132</td>\n",
       "      <td>7876</td>\n",
       "      <td>1038</td>\n",
       "      <td>0.883554</td>\n",
       "    </tr>\n",
       "    <tr>\n",
       "      <th>7</th>\n",
       "      <td>[1, 2]</td>\n",
       "      <td>0.7645</td>\n",
       "      <td>0.7645</td>\n",
       "      <td>0.6229</td>\n",
       "      <td>5385</td>\n",
       "      <td>2260</td>\n",
       "      <td>0.704382</td>\n",
       "    </tr>\n",
       "    <tr>\n",
       "      <th>8</th>\n",
       "      <td>[1, 2]</td>\n",
       "      <td>0.7849</td>\n",
       "      <td>0.7849</td>\n",
       "      <td>0.6452</td>\n",
       "      <td>5665</td>\n",
       "      <td>2184</td>\n",
       "      <td>0.721748</td>\n",
       "    </tr>\n",
       "    <tr>\n",
       "      <th>9</th>\n",
       "      <td>[1, 2]</td>\n",
       "      <td>0.8386</td>\n",
       "      <td>0.8386</td>\n",
       "      <td>0.6756</td>\n",
       "      <td>6720</td>\n",
       "      <td>1666</td>\n",
       "      <td>0.801336</td>\n",
       "    </tr>\n",
       "  </tbody>\n",
       "</table>\n",
       "</div>"
      ],
      "text/plain": [
       "  Polarity  Coverage  Overlaps  Conflicts  Correct  Incorrect  Emp. Acc.\n",
       "0   [1, 2]    0.8958    0.8958     0.7156     7865       1093   0.877986\n",
       "1   [1, 2]    0.8937    0.8937     0.7139     7865       1072   0.880049\n",
       "2   [1, 2]    0.8657    0.8657     0.6972     7272       1385   0.840014\n",
       "3   [1, 2]    0.8609    0.8609     0.6882     7248       1361   0.841910\n",
       "4   [1, 2]    0.7973    0.7973     0.6479     5945       2028   0.745642\n",
       "5   [1, 2]    0.9077    0.9077     0.7261     8199        878   0.903272\n",
       "6   [1, 2]    0.8914    0.8914     0.7132     7876       1038   0.883554\n",
       "7   [1, 2]    0.7645    0.7645     0.6229     5385       2260   0.704382\n",
       "8   [1, 2]    0.7849    0.7849     0.6452     5665       2184   0.721748\n",
       "9   [1, 2]    0.8386    0.8386     0.6756     6720       1666   0.801336"
      ]
     },
     "execution_count": 6,
     "metadata": {},
     "output_type": "execute_result"
    }
   ],
   "source": [
    "from metal.analysis import lf_summary\n",
    "lf_summary(data.L,data.Y)"
   ]
  },
  {
   "cell_type": "markdown",
   "metadata": {},
   "source": [
    "### Step 2: Learn Dependencies using `DependencyLearnerModel`\n",
    "**TEMP: hardcoding for now**"
   ]
  },
  {
   "cell_type": "code",
   "execution_count": 7,
   "metadata": {},
   "outputs": [],
   "source": [
    "edges = data.E\n",
    "L = np.array(data.L.todense())"
   ]
  },
  {
   "cell_type": "markdown",
   "metadata": {},
   "source": [
    "### Step 3: Recover the class balance using subset of independent LFs"
   ]
  },
  {
   "cell_type": "code",
   "execution_count": 8,
   "metadata": {},
   "outputs": [],
   "source": [
    "# Generate indices for independent LFs\n",
    "ind_lfs = []\n",
    "for i in range(M):\n",
    "    if i not in list(sum(edges, ())):\n",
    "        ind_lfs.append(i)\n",
    "L_ind = L[:,ind_lfs]"
   ]
  },
  {
   "cell_type": "code",
   "execution_count": 9,
   "metadata": {},
   "outputs": [
    {
     "name": "stdout",
     "output_type": "stream",
     "text": [
      "Estimated class balance: [0.4794574 0.5209987]\n",
      "True class balance: [0.47192333 0.52807667]\n",
      "\n",
      "CPU times: user 5.8 s, sys: 80 ms, total: 5.88 s\n",
      "Wall time: 1.09 s\n"
     ]
    }
   ],
   "source": [
    "%%time\n",
    "from metal.label_model.class_balance import ClassBalanceModel\n",
    "\n",
    "model = ClassBalanceModel(K, abstains=True)\n",
    "model.train_model(L=L_ind, verbose=False)\n",
    "\n",
    "print(f\"Estimated class balance: {model.class_balance}\")\n",
    "print(f\"True class balance: {class_balance}\")\n",
    "print()"
   ]
  },
  {
   "cell_type": "markdown",
   "metadata": {},
   "source": [
    "### Step 4: Train `LabelModel` and predict training labels\n",
    "**TEMP: not including constraints from Class Balance Model**"
   ]
  },
  {
   "cell_type": "code",
   "execution_count": 17,
   "metadata": {},
   "outputs": [
    {
     "name": "stdout",
     "output_type": "stream",
     "text": [
      "Computing O^{-1}...\n",
      "Estimating Z...\n",
      "[50 epo]: TRAIN:[loss=38.438]\n",
      "[100 epo]: TRAIN:[loss=12.843]\n",
      "[150 epo]: TRAIN:[loss=12.477]\n",
      "[200 epo]: TRAIN:[loss=12.476]\n",
      "[250 epo]: TRAIN:[loss=12.476]\n",
      "[300 epo]: TRAIN:[loss=12.476]\n",
      "[350 epo]: TRAIN:[loss=12.476]\n",
      "[400 epo]: TRAIN:[loss=12.476]\n",
      "[450 epo]: TRAIN:[loss=12.476]\n",
      "[500 epo]: TRAIN:[loss=12.476]\n",
      "Finished Training\n",
      "Estimating \\mu...\n",
      "[50 epo]: TRAIN:[loss=0.056]\n",
      "[100 epo]: TRAIN:[loss=0.001]\n",
      "[150 epo]: TRAIN:[loss=0.001]\n",
      "[200 epo]: TRAIN:[loss=0.000]\n",
      "[250 epo]: TRAIN:[loss=0.000]\n",
      "[300 epo]: TRAIN:[loss=0.000]\n",
      "[350 epo]: TRAIN:[loss=0.000]\n",
      "[400 epo]: TRAIN:[loss=0.000]\n",
      "[450 epo]: TRAIN:[loss=0.000]\n",
      "[500 epo]: TRAIN:[loss=0.000]\n",
      "Finished Training\n",
      "CPU times: user 13 s, sys: 2.52 s, total: 15.5 s\n",
      "Wall time: 805 ms\n"
     ]
    }
   ],
   "source": [
    "%%time\n",
    "from metal.label_model import LabelModel\n",
    "label_model = LabelModel(k=K, seed=123)\n",
    "\n",
    "label_model.train_model(data.L, class_balance=model.class_balance.astype(float), deps=edges, lr=1e-3, n_epochs=500, log_train_every=50)"
   ]
  },
  {
   "cell_type": "code",
   "execution_count": 18,
   "metadata": {},
   "outputs": [
    {
     "name": "stdout",
     "output_type": "stream",
     "text": [
      "Trained Label Model Metrics:\n",
      "Accuracy: 0.984\n",
      "Precision: 0.985\n",
      "Recall: 0.981\n",
      "F1: 0.983\n",
      "        y=1    y=2   \n",
      " l=1   4665    71    \n",
      " l=2    90    5174   \n"
     ]
    }
   ],
   "source": [
    "print('Trained Label Model Metrics:')\n",
    "scores = label_model.score((data.L, data.Y), metric=['accuracy','precision', 'recall', 'f1'])"
   ]
  },
  {
   "cell_type": "markdown",
   "metadata": {},
   "source": [
    "### Step 4b: Compare to MajorityVote and No Class Balance+Dependencies LabelModel\n",
    "\n",
    "**Baseline: No Class Balance or Dependencies**"
   ]
  },
  {
   "cell_type": "code",
   "execution_count": 12,
   "metadata": {},
   "outputs": [
    {
     "name": "stdout",
     "output_type": "stream",
     "text": [
      "Computing O...\n",
      "Estimating \\mu...\n",
      "[50 epo]: TRAIN:[loss=0.056]\n",
      "[100 epo]: TRAIN:[loss=0.011]\n",
      "[150 epo]: TRAIN:[loss=0.011]\n",
      "[200 epo]: TRAIN:[loss=0.011]\n",
      "[250 epo]: TRAIN:[loss=0.011]\n",
      "[300 epo]: TRAIN:[loss=0.011]\n",
      "[350 epo]: TRAIN:[loss=0.011]\n",
      "[400 epo]: TRAIN:[loss=0.011]\n",
      "[450 epo]: TRAIN:[loss=0.011]\n",
      "[500 epo]: TRAIN:[loss=0.011]\n",
      "Finished Training\n",
      "CPU times: user 16.2 s, sys: 104 ms, total: 16.3 s\n",
      "Wall time: 594 ms\n"
     ]
    }
   ],
   "source": [
    "%%time\n",
    "from metal.label_model import LabelModel\n",
    "label_model = LabelModel(k=K, seed=123)\n",
    "\n",
    "label_model.train_model(data.L, n_epochs=500, log_train_every=50)"
   ]
  },
  {
   "cell_type": "code",
   "execution_count": 13,
   "metadata": {},
   "outputs": [
    {
     "name": "stdout",
     "output_type": "stream",
     "text": [
      "Trained Label Model Metrics:\n",
      "Accuracy: 0.980\n",
      "Precision: 0.972\n",
      "Recall: 0.986\n",
      "F1: 0.979\n",
      "        y=1    y=2   \n",
      " l=1   4688    133   \n",
      " l=2    67    5112   \n"
     ]
    }
   ],
   "source": [
    "print('Trained Label Model Metrics:')\n",
    "scores = label_model.score((data.L, data.Y), metric=['accuracy','precision', 'recall', 'f1'])"
   ]
  },
  {
   "cell_type": "markdown",
   "metadata": {},
   "source": [
    "**Baseline: Majority Vote**"
   ]
  },
  {
   "cell_type": "code",
   "execution_count": 14,
   "metadata": {},
   "outputs": [
    {
     "name": "stdout",
     "output_type": "stream",
     "text": [
      "Majority Label Voter Metrics:\n",
      "Accuracy: 0.982\n",
      "Precision: 0.986\n",
      "Recall: 0.976\n",
      "F1: 0.981\n",
      "        y=1    y=2   \n",
      " l=1   4640    66    \n",
      " l=2    115   5179   \n"
     ]
    }
   ],
   "source": [
    "from metal.label_model.baselines import MajorityLabelVoter\n",
    "\n",
    "mv = MajorityLabelVoter(seed=123)\n",
    "print('Majority Label Voter Metrics:')\n",
    "scores = mv.score((data.L, data.Y), metric=['accuracy','precision', 'recall', 'f1'])"
   ]
  }
 ],
 "metadata": {
  "kernelspec": {
   "display_name": "Python [conda env:metal]",
   "language": "python",
   "name": "conda-env-metal-py"
  },
  "language_info": {
   "codemirror_mode": {
    "name": "ipython",
    "version": 3
   },
   "file_extension": ".py",
   "mimetype": "text/x-python",
   "name": "python",
   "nbconvert_exporter": "python",
   "pygments_lexer": "ipython3",
   "version": "3.6.6"
  }
 },
 "nbformat": 4,
 "nbformat_minor": 2
}
