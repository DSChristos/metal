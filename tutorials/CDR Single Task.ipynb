{
 "cells": [
  {
   "cell_type": "code",
   "execution_count": 2,
   "metadata": {
    "scrolled": true
   },
   "outputs": [],
   "source": [
    "import metal\n",
    "import numpy as np\n",
    "import torch\n",
    "import pickle\n",
    "import scipy.sparse as sparse\n",
    "\n",
    "from metal.end_model import EndModel\n",
    "from metal.label_model import LabelModel\n",
    "from metal.modules import LSTMModule, SparseLinearModule"
   ]
  },
  {
   "cell_type": "markdown",
   "metadata": {},
   "source": [
    "# Step 1: Load Data"
   ]
  },
  {
   "cell_type": "code",
   "execution_count": 43,
   "metadata": {},
   "outputs": [],
   "source": [
    "with open(\"data/cdr_data/Xs_bow\", 'rb') as f:\n",
    "    X_train_bow, X_dev_bow, X_test_bow = pickle.load(f)"
   ]
  },
  {
   "cell_type": "code",
   "execution_count": 44,
   "metadata": {},
   "outputs": [],
   "source": [
    "with open(\"data/cdr_data/Ls\", 'rb') as f:\n",
    "    L_train, L_dev = pickle.load(f)"
   ]
  },
  {
   "cell_type": "code",
   "execution_count": 45,
   "metadata": {},
   "outputs": [],
   "source": [
    "with open(\"data/cdr_data/Ys\", 'rb') as f:\n",
    "    Y_train, Y_dev, Y_test = pickle.load(f)"
   ]
  },
  {
   "cell_type": "code",
   "execution_count": 46,
   "metadata": {},
   "outputs": [],
   "source": [
    "# load word sequences for LSTM models\n",
    "with open(\"data/cdr_data/Xs_lstm\", 'rb') as f:\n",
    "    X_train_lstm, X_dev_lstm, X_test_lstm = pickle.load(f)"
   ]
  },
  {
   "cell_type": "code",
   "execution_count": 1,
   "metadata": {},
   "outputs": [],
   "source": [
    "metrics = ['accuracy', 'recall', 'precision', 'f1']"
   ]
  },
  {
   "cell_type": "markdown",
   "metadata": {},
   "source": [
    "# Step 2: Train Label Model"
   ]
  },
  {
   "cell_type": "code",
   "execution_count": 47,
   "metadata": {
    "scrolled": false
   },
   "outputs": [
    {
     "name": "stdout",
     "output_type": "stream",
     "text": [
      "Computing O...\n",
      "Estimating \\mu...\n",
      "[E:0]\tTrain Loss: 0.375\n",
      "[E:50]\tTrain Loss: 0.036\n",
      "[E:100]\tTrain Loss: 0.028\n",
      "[E:150]\tTrain Loss: 0.028\n",
      "[E:199]\tTrain Loss: 0.028\n",
      "Finished Training\n",
      "Accuracy: 0.650\n",
      "Recall: 0.679\n",
      "Precision: 0.769\n",
      "F1: 0.721\n",
      "        y=1    y=2   \n",
      " l=1    402    121   \n",
      " l=2    190    175   \n"
     ]
    },
    {
     "data": {
      "text/plain": [
       "[0.6497747747747747, 0.6790540540540541, 0.768642447418738, 0.7210762331838565]"
      ]
     },
     "execution_count": 47,
     "metadata": {},
     "output_type": "execute_result"
    }
   ],
   "source": [
    "label_model = LabelModel()\n",
    "label_model.train_model(L_train, n_epochs=200, print_every=50, seed=123)\n",
    "label_model.score((L_dev, Y_dev), metric=metrics)"
   ]
  },
  {
   "cell_type": "code",
   "execution_count": 52,
   "metadata": {},
   "outputs": [],
   "source": [
    "Y_train_ps = label_model.predict_proba(L_train)"
   ]
  },
  {
   "cell_type": "markdown",
   "metadata": {},
   "source": [
    "# Step 4: Train End Model"
   ]
  },
  {
   "cell_type": "markdown",
   "metadata": {},
   "source": [
    "##  1. BoW Model"
   ]
  },
  {
   "cell_type": "code",
   "execution_count": 59,
   "metadata": {
    "scrolled": false
   },
   "outputs": [
    {
     "name": "stdout",
     "output_type": "stream",
     "text": [
      "\n",
      "Network architecture:\n",
      "Sequential(\n",
      "  (0): IdentityModule()\n",
      "  (1): Sequential(\n",
      "    (0): Linear(in_features=9946, out_features=100, bias=True)\n",
      "    (1): ReLU()\n",
      "  )\n",
      "  (2): Linear(in_features=100, out_features=2, bias=True)\n",
      ")\n",
      "\n"
     ]
    }
   ],
   "source": [
    "end_model = EndModel([9946,100, 2], seed=123)"
   ]
  },
  {
   "cell_type": "code",
   "execution_count": 60,
   "metadata": {
    "scrolled": true
   },
   "outputs": [],
   "source": [
    "end_model.train_model((X_train_bow, Y_train_ps), n_epochs=5, seed=123, verbose=False)"
   ]
  },
  {
   "cell_type": "code",
   "execution_count": 62,
   "metadata": {
    "scrolled": true
   },
   "outputs": [
    {
     "name": "stdout",
     "output_type": "stream",
     "text": [
      "Accuracy: 0.611\n",
      "Recall: 0.664\n",
      "Precision: 0.734\n",
      "F1: 0.697\n",
      "        y=1    y=2   \n",
      " l=1   2068    748   \n",
      " l=2   1047    757   \n"
     ]
    }
   ],
   "source": [
    "scores = end_model.score((X_test_bow, Y_test), metric=metrics)"
   ]
  },
  {
   "cell_type": "markdown",
   "metadata": {},
   "source": [
    "## 2. BOW with Embeddings"
   ]
  },
  {
   "cell_type": "code",
   "execution_count": 63,
   "metadata": {
    "scrolled": true
   },
   "outputs": [
    {
     "name": "stdout",
     "output_type": "stream",
     "text": [
      "\n",
      "Network architecture:\n",
      "Sequential(\n",
      "  (0): Sequential(\n",
      "    (0): SparseLinearModule(\n",
      "      (W): Embedding(9946, 50, padding_idx=0, sparse=True)\n",
      "    )\n",
      "    (1): ReLU()\n",
      "  )\n",
      "  (1): Sequential(\n",
      "    (0): Linear(in_features=50, out_features=200, bias=True)\n",
      "    (1): ReLU()\n",
      "  )\n",
      "  (2): Linear(in_features=200, out_features=2, bias=True)\n",
      ")\n",
      "\n"
     ]
    },
    {
     "name": "stderr",
     "output_type": "stream",
     "text": [
      "100%|██████████| 259/259 [00:13<00:00, 19.27it/s, avg_loss=1.4]  "
     ]
    },
    {
     "name": "stdout",
     "output_type": "stream",
     "text": [
      "[E:0]\tTrain Loss: 0.700\n"
     ]
    },
    {
     "name": "stderr",
     "output_type": "stream",
     "text": [
      "\n",
      "100%|██████████| 259/259 [00:14<00:00, 17.87it/s, avg_loss=1.39] "
     ]
    },
    {
     "name": "stdout",
     "output_type": "stream",
     "text": [
      "[E:1]\tTrain Loss: 0.696\n"
     ]
    },
    {
     "name": "stderr",
     "output_type": "stream",
     "text": [
      "\n",
      "100%|██████████| 259/259 [00:14<00:00, 18.49it/s, avg_loss=1.39] \n"
     ]
    },
    {
     "name": "stdout",
     "output_type": "stream",
     "text": [
      "[E:2]\tTrain Loss: 0.697\n"
     ]
    },
    {
     "name": "stderr",
     "output_type": "stream",
     "text": [
      "100%|██████████| 259/259 [00:14<00:00, 18.26it/s, avg_loss=1.39] "
     ]
    },
    {
     "name": "stdout",
     "output_type": "stream",
     "text": [
      "[E:3]\tTrain Loss: 0.698\n"
     ]
    },
    {
     "name": "stderr",
     "output_type": "stream",
     "text": [
      "\n",
      "100%|██████████| 259/259 [00:13<00:00, 18.78it/s, avg_loss=1.39] \n"
     ]
    },
    {
     "name": "stdout",
     "output_type": "stream",
     "text": [
      "[E:4]\tTrain Loss: 0.695\n",
      "Finished Training\n"
     ]
    }
   ],
   "source": [
    "import torch.nn as nn\n",
    "\n",
    "slm = SparseLinearModule(embed_size=50, vocab_size=X_train_bow.shape[1])\n",
    "end_model_bowe = EndModel([50, 200, 2], input_module=slm, seed=123)\n",
    "kwargs = {\n",
    "    'optimizer_config': {'optimizer': 'sgd'},\n",
    "    'validation_metric': 'f1',\n",
    "    'n_epochs': 5\n",
    "}\n",
    "end_model_bowe.train_model((torch.tensor(X_train_bow, dtype=torch.long), Y_train_ps), seed=123, **kwargs)"
   ]
  },
  {
   "cell_type": "code",
   "execution_count": 40,
   "metadata": {
    "scrolled": true
   },
   "outputs": [
    {
     "name": "stdout",
     "output_type": "stream",
     "text": [
      "Accuracy: 0.674\n",
      "Recall: 1.000\n",
      "Precision: 0.674\n",
      "F1: 0.805\n",
      "        y=1    y=2   \n",
      " l=1   3115   1505   \n",
      " l=2     0      0    \n"
     ]
    },
    {
     "data": {
      "text/plain": [
       "[0.6742424242424242, 1.0, 0.6742424242424242, 0.8054298642533936]"
      ]
     },
     "execution_count": 40,
     "metadata": {},
     "output_type": "execute_result"
    }
   ],
   "source": [
    "end_model_bowe.score((torch.tensor(X_test_bow, dtype=torch.long), Y_test), metric=metrics)"
   ]
  },
  {
   "cell_type": "markdown",
   "metadata": {},
   "source": [
    "## 3. LSTM  (Random Initalized Embeddings)"
   ]
  },
  {
   "cell_type": "code",
   "execution_count": 42,
   "metadata": {
    "scrolled": true
   },
   "outputs": [
    {
     "name": "stdout",
     "output_type": "stream",
     "text": [
      "Using randomly initialized embeddings.\n",
      "Embeddings shape = (9946, 50)\n",
      "The embeddings are NOT FROZEN\n",
      "Using lstm_reduction = 'attention'\n",
      "\n",
      "Network architecture:\n",
      "Sequential(\n",
      "  (0): Sequential(\n",
      "    (0): LSTMModule(\n",
      "      (embeddings): Embedding(9946, 50)\n",
      "      (lstm): LSTM(50, 100, batch_first=True, bidirectional=True)\n",
      "    )\n",
      "    (1): ReLU()\n",
      "  )\n",
      "  (1): Linear(in_features=200, out_features=2, bias=True)\n",
      ")\n",
      "\n"
     ]
    },
    {
     "name": "stderr",
     "output_type": "stream",
     "text": [
      "100%|██████████| 259/259 [01:34<00:00,  3.93it/s, avg_loss=1.18] "
     ]
    },
    {
     "name": "stdout",
     "output_type": "stream",
     "text": [
      "[E:0]\tTrain Loss: 0.589\n"
     ]
    },
    {
     "name": "stderr",
     "output_type": "stream",
     "text": [
      "\n",
      "100%|██████████| 259/259 [02:56<00:00,  3.64it/s, avg_loss=1.07] "
     ]
    },
    {
     "name": "stdout",
     "output_type": "stream",
     "text": [
      "[E:1]\tTrain Loss: 0.536\n"
     ]
    },
    {
     "name": "stderr",
     "output_type": "stream",
     "text": [
      "\n",
      "100%|██████████| 259/259 [01:23<00:00,  3.85it/s, avg_loss=1.03] "
     ]
    },
    {
     "name": "stdout",
     "output_type": "stream",
     "text": [
      "[E:2]\tTrain Loss: 0.518\n"
     ]
    },
    {
     "name": "stderr",
     "output_type": "stream",
     "text": [
      "\n",
      "100%|██████████| 259/259 [01:37<00:00,  3.00it/s, avg_loss=1.02] "
     ]
    },
    {
     "name": "stdout",
     "output_type": "stream",
     "text": [
      "[E:3]\tTrain Loss: 0.511\n"
     ]
    },
    {
     "name": "stderr",
     "output_type": "stream",
     "text": [
      "\n",
      "100%|██████████| 259/259 [01:32<00:00,  2.81it/s, avg_loss=1.01] "
     ]
    },
    {
     "name": "stdout",
     "output_type": "stream",
     "text": [
      "[E:4]\tTrain Loss: 0.508\n",
      "Finished Training\n"
     ]
    },
    {
     "name": "stderr",
     "output_type": "stream",
     "text": [
      "\n"
     ]
    }
   ],
   "source": [
    "vocab_size = X_train_bow.shape[1]\n",
    "lstm = LSTMModule(embed_size=50,\n",
    "                  hidden_size=100,\n",
    "                  vocab_size=vocab_size,\n",
    "                  lstm_reduction='attention',\n",
    "                  dropout=0,\n",
    "                  num_layers=1,\n",
    "                  freeze=False)\n",
    "end_model_lstm = EndModel([200, 2], input_module=lstm, seed=123)\n",
    "kwargs = {\n",
    "    'validation_metric': 'f1',\n",
    "    'n_epochs': 5\n",
    "}\n",
    "end_model_lstm.train_model((X_train_lstm, Y_train_ps), **kwargs)\n"
   ]
  },
  {
   "cell_type": "code",
   "execution_count": 26,
   "metadata": {
    "scrolled": true
   },
   "outputs": [
    {
     "name": "stdout",
     "output_type": "stream",
     "text": [
      "Accuracy: 0.623\n",
      "Recall: 0.636\n",
      "Precision: 0.765\n",
      "F1: 0.694\n",
      "        y=1    y=2   \n",
      " l=1   1980    609   \n",
      " l=2   1135    896   \n"
     ]
    },
    {
     "data": {
      "text/plain": [
       "[0.6225108225108225, 0.6356340288924559, 0.764774044032445, 0.694249649368864]"
      ]
     },
     "execution_count": 26,
     "metadata": {},
     "output_type": "execute_result"
    }
   ],
   "source": [
    "end_model_lstm.score((X_test_lstm, Y_test), metric=metrics)"
   ]
  },
  {
   "cell_type": "markdown",
   "metadata": {},
   "source": [
    "## 4. LSTM (Pretrained Embeddings)"
   ]
  },
  {
   "cell_type": "code",
   "execution_count": 27,
   "metadata": {},
   "outputs": [],
   "source": [
    "# load embeddings\n",
    "with open(\"data/cdr_data/wembs\", 'rb') as f:\n",
    "    wembs = pickle.load(f)"
   ]
  },
  {
   "cell_type": "code",
   "execution_count": 28,
   "metadata": {
    "scrolled": true
   },
   "outputs": [
    {
     "name": "stdout",
     "output_type": "stream",
     "text": [
      "Using pretrained embeddings.\n",
      "Embeddings shape = (11406, 50)\n",
      "The embeddings are NOT FROZEN\n",
      "Using lstm_reduction = 'attention'\n",
      "\n",
      "Network architecture:\n",
      "Sequential(\n",
      "  (0): Sequential(\n",
      "    (0): LSTMModule(\n",
      "      (embeddings): Embedding(11406, 50)\n",
      "      (lstm): LSTM(50, 100, batch_first=True, bidirectional=True)\n",
      "    )\n",
      "    (1): ReLU()\n",
      "  )\n",
      "  (1): Linear(in_features=200, out_features=2, bias=True)\n",
      ")\n",
      "\n"
     ]
    },
    {
     "name": "stderr",
     "output_type": "stream",
     "text": [
      "100%|██████████| 259/259 [01:20<00:00,  4.26it/s, avg_loss=1.17] \n"
     ]
    },
    {
     "name": "stdout",
     "output_type": "stream",
     "text": [
      "Saving model at iteration 0 with best score 0.752\n",
      "[E:0]\tTrain Loss: 0.589\tDev score: 0.752\n"
     ]
    },
    {
     "name": "stderr",
     "output_type": "stream",
     "text": [
      "100%|██████████| 259/259 [01:12<00:00,  4.11it/s, avg_loss=1.06] \n"
     ]
    },
    {
     "name": "stdout",
     "output_type": "stream",
     "text": [
      "[E:1]\tTrain Loss: 0.532\tDev score: 0.707\n"
     ]
    },
    {
     "name": "stderr",
     "output_type": "stream",
     "text": [
      "100%|██████████| 259/259 [01:13<00:00,  4.20it/s, avg_loss=1.03] \n"
     ]
    },
    {
     "name": "stdout",
     "output_type": "stream",
     "text": [
      "[E:2]\tTrain Loss: 0.517\tDev score: 0.715\n"
     ]
    },
    {
     "name": "stderr",
     "output_type": "stream",
     "text": [
      "100%|██████████| 259/259 [01:13<00:00,  3.91it/s, avg_loss=1.02] \n"
     ]
    },
    {
     "name": "stdout",
     "output_type": "stream",
     "text": [
      "[E:3]\tTrain Loss: 0.510\tDev score: 0.713\n"
     ]
    },
    {
     "name": "stderr",
     "output_type": "stream",
     "text": [
      "100%|██████████| 259/259 [01:12<00:00,  4.04it/s, avg_loss=1.01] \n"
     ]
    },
    {
     "name": "stdout",
     "output_type": "stream",
     "text": [
      "[E:4]\tTrain Loss: 0.507\tDev score: 0.680\n",
      "Restoring best model from iteration 0 with score 0.752\n",
      "Finished Training\n",
      "Accuracy: 0.662\n",
      "        y=1    y=2   \n",
      " l=1    455    163   \n",
      " l=2    137    133   \n"
     ]
    }
   ],
   "source": [
    "lstm = LSTMModule(embed_size=50,\n",
    "                  hidden_size=100,\n",
    "                  embeddings=wembs,\n",
    "                  lstm_reduction='attention',\n",
    "                  dropout=0,\n",
    "                  num_layers=1,\n",
    "                  freeze=False)\n",
    "\n",
    "end_model_lstmpe = EndModel([200, 2], input_module=lstm, seed=123)\n",
    "kwargs = {\n",
    "    'validation_metric': 'f1',\n",
    "    'n_epochs': 5\n",
    "}\n",
    "\n",
    "end_model_lstmpe.train_model((X_train_lstm, Y_train_ps), dev_data=(X_dev_lstm, Y_dev), **kwargs)"
   ]
  },
  {
   "cell_type": "code",
   "execution_count": 29,
   "metadata": {
    "scrolled": false
   },
   "outputs": [
    {
     "name": "stdout",
     "output_type": "stream",
     "text": [
      "Accuracy: 0.635\n",
      "Recall: 0.697\n",
      "Precision: 0.746\n",
      "F1: 0.720\n",
      "        y=1    y=2   \n",
      " l=1   2170    739   \n",
      " l=2    945    766   \n"
     ]
    }
   ],
   "source": [
    "score = end_model_lstmpe.score((X_test_lstm, Y_test), metric=metrics)"
   ]
  }
 ],
 "metadata": {
  "kernelspec": {
   "display_name": "Python [conda env:metal]",
   "language": "python",
   "name": "conda-env-metal-py"
  },
  "language_info": {
   "codemirror_mode": {
    "name": "ipython",
    "version": 3
   },
   "file_extension": ".py",
   "mimetype": "text/x-python",
   "name": "python",
   "nbconvert_exporter": "python",
   "pygments_lexer": "ipython3",
   "version": "3.6.7"
  }
 },
 "nbformat": 4,
 "nbformat_minor": 2
}
